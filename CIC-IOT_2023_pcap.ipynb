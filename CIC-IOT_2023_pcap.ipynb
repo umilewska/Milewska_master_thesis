{
 "cells": [
  {
   "cell_type": "code",
   "execution_count": 1,
   "id": "44dd89dc-c3eb-4e59-bd98-738cf0a7a1f3",
   "metadata": {},
   "outputs": [],
   "source": [
    "from scapy.all import rdpcap, IP, Ether, CookedLinux\n",
    "import os\n",
    "import numpy as np\n",
    "\n",
    "def remove_ip(packet):\n",
    "    # Neutralize MAC addresses\n",
    "    if Ether in packet:\n",
    "        packet[Ether].src = \"00:00:00:00:00:00\"\n",
    "        packet[Ether].dst = \"00:00:00:00:00:00\"\n",
    "    elif CookedLinux in packet:\n",
    "        packet[CookedLinux].src = \"00:00:00:00:00:00\"\n",
    "        \n",
    "    if IP in packet:\n",
    "        packet[IP].src = '0.0.0.0'\n",
    "        packet[IP].dst = '0.0.0.0'\n",
    "        del packet[IP].chksum\n",
    "\n",
    "        # Clear transport-layer checksums\n",
    "        if packet.haslayer(\"TCP\"):\n",
    "            del packet[\"TCP\"].chksum\n",
    "        elif packet.haslayer(\"UDP\"):\n",
    "            del packet[\"UDP\"].chksum\n",
    "    return packet\n",
    "\n",
    "def packet_to_bytes(pkt, max_len):\n",
    "    pkt = remove_ip(pkt)\n",
    "    raw = bytes(pkt)\n",
    "    if len(raw) > max_len:\n",
    "        return raw[:max_len]\n",
    "    else:\n",
    "        return raw.ljust(max_len, b'\\x00')  # pad with zeros\n",
    "\n",
    "def extract_raw_bytes_from_folder(folder_path, max_len=100):\n",
    "    all_features = []\n",
    "    for file in os.listdir(folder_path):\n",
    "        if file.lower().endswith('.pcap'):\n",
    "            file_path = os.path.join(folder_path, file)\n",
    "            print(f\"Processing {file_path}\")\n",
    "            packets = rdpcap(file_path)\n",
    "            features = [packet_to_bytes(pkt, max_len) for pkt in packets]\n",
    "            all_features.extend(features)\n",
    "    # Convert to numpy array\n",
    "    return np.array([np.frombuffer(x, dtype=np.uint8) for x in all_features])"
   ]
  },
  {
   "cell_type": "code",
   "execution_count": 61,
   "id": "df1741d9-6af8-4e83-8695-930ac92a2aee",
   "metadata": {},
   "outputs": [
    {
     "name": "stdout",
     "output_type": "stream",
     "text": [
      "Processing C:\\Users\\ulami\\Desktop\\datasety\\CIC_IOT_pcap\\attack\\Backdoor_Malware.pcap\n",
      "Processing C:\\Users\\ulami\\Desktop\\datasety\\CIC_IOT_pcap\\attack\\BrowserHijacking.pcap\n",
      "Processing C:\\Users\\ulami\\Desktop\\datasety\\CIC_IOT_pcap\\attack\\Recon-PingSweep.pcap\n",
      "Processing C:\\Users\\ulami\\Desktop\\datasety\\CIC_IOT_pcap\\attack\\SqlInjection.pcap\n",
      "Processing C:\\Users\\ulami\\Desktop\\datasety\\CIC_IOT_pcap\\attack\\trimmed_trimmed_DNS_Spoofing.pcap\n",
      "Processing C:\\Users\\ulami\\Desktop\\datasety\\CIC_IOT_pcap\\attack\\trimmed_trimmed_DoS-SYN_Flood.pcap\n",
      "Processing C:\\Users\\ulami\\Desktop\\datasety\\CIC_IOT_pcap\\attack\\trimmed_trimmed_DoS-TCP_Flood.pcap\n",
      "Processing C:\\Users\\ulami\\Desktop\\datasety\\CIC_IOT_pcap\\attack\\trimmed_trimmed_Mirai-greip_flood.pcap\n",
      "Processing C:\\Users\\ulami\\Desktop\\datasety\\CIC_IOT_pcap\\attack\\trimmed_trimmed_Mirai-udpplain.pcap\n",
      "Processing C:\\Users\\ulami\\Desktop\\datasety\\CIC_IOT_pcap\\attack\\trimmed_trimmed_Mirai-udpplain1.pcap\n",
      "Processing C:\\Users\\ulami\\Desktop\\datasety\\CIC_IOT_pcap\\attack\\XSS.pcap\n"
     ]
    }
   ],
   "source": [
    "from scapy.all import rdpcap, wrpcap\n",
    "\n",
    "def extract_raw_bytes_and_save_from_folder(folder_path, max_len=100, save_pcap_path=None):\n",
    "    all_features = []\n",
    "    all_packets = []\n",
    "\n",
    "    for file in os.listdir(folder_path):\n",
    "        if file.lower().endswith('.pcap'):\n",
    "            file_path = os.path.join(folder_path, file)\n",
    "            print(f\"Processing {file_path}\")\n",
    "            packets = rdpcap(file_path)\n",
    "            for pkt in packets:\n",
    "                pkt = remove_ip(pkt)\n",
    "                all_packets.append(pkt)\n",
    "                raw = bytes(pkt)\n",
    "                raw_padded = raw.ljust(max_len, b'\\x00')[:max_len]\n",
    "                all_features.append(np.frombuffer(raw_padded, dtype=np.uint8))\n",
    "\n",
    "    if save_pcap_path:\n",
    "        wrpcap(save_pcap_path, all_packets)\n",
    "\n",
    "    return np.array(all_features), all_packets  # X_attack, packets_attack\n",
    "\n",
    "\n",
    "attack_folder = r\"C:\\Users\\ulami\\Desktop\\datasety\\CIC_IOT_pcap\\attack\"\n",
    "X_attack, packets_attack = extract_raw_bytes_and_save_from_folder(attack_folder, save_pcap_path=r\"C:\\Users\\ulami\\Desktop\\datasety\\CIC_IOT_pcap\\attack\\anonymized_attack.pcap\")"
   ]
  },
  {
   "cell_type": "code",
   "execution_count": 3,
   "id": "1ffba1d4-a960-4630-b2a9-ba3fb733a676",
   "metadata": {},
   "outputs": [
    {
     "name": "stdout",
     "output_type": "stream",
     "text": [
      "Processing C:\\Users\\ulami\\Desktop\\datasety\\CIC_IOT_pcap\\Benign\\trimmed\\BenignTraffic.pcap\n",
      "Processing C:\\Users\\ulami\\Desktop\\datasety\\CIC_IOT_pcap\\attack\\Backdoor_Malware.pcap\n",
      "Processing C:\\Users\\ulami\\Desktop\\datasety\\CIC_IOT_pcap\\attack\\BrowserHijacking.pcap\n",
      "Processing C:\\Users\\ulami\\Desktop\\datasety\\CIC_IOT_pcap\\attack\\Recon-PingSweep.pcap\n",
      "Processing C:\\Users\\ulami\\Desktop\\datasety\\CIC_IOT_pcap\\attack\\SqlInjection.pcap\n",
      "Processing C:\\Users\\ulami\\Desktop\\datasety\\CIC_IOT_pcap\\attack\\trimmed_trimmed_DNS_Spoofing.pcap\n",
      "Processing C:\\Users\\ulami\\Desktop\\datasety\\CIC_IOT_pcap\\attack\\trimmed_trimmed_DoS-SYN_Flood.pcap\n",
      "Processing C:\\Users\\ulami\\Desktop\\datasety\\CIC_IOT_pcap\\attack\\trimmed_trimmed_DoS-TCP_Flood.pcap\n",
      "Processing C:\\Users\\ulami\\Desktop\\datasety\\CIC_IOT_pcap\\attack\\trimmed_trimmed_Mirai-greip_flood.pcap\n",
      "Processing C:\\Users\\ulami\\Desktop\\datasety\\CIC_IOT_pcap\\attack\\trimmed_trimmed_Mirai-udpplain.pcap\n",
      "Processing C:\\Users\\ulami\\Desktop\\datasety\\CIC_IOT_pcap\\attack\\trimmed_trimmed_Mirai-udpplain1.pcap\n",
      "Processing C:\\Users\\ulami\\Desktop\\datasety\\CIC_IOT_pcap\\attack\\XSS.pcap\n"
     ]
    }
   ],
   "source": [
    "normal_folder = r\"C:\\Users\\ulami\\Desktop\\datasety\\CIC_IOT_pcap\\Benign\\trimmed\"\n",
    "attack_folder = r\"C:\\Users\\ulami\\Desktop\\datasety\\CIC_IOT_pcap\\attack\"\n",
    "\n",
    "# Extract and label\n",
    "X_normal = extract_raw_bytes_from_folder(normal_folder)\n",
    "X_attack = extract_raw_bytes_from_folder(attack_folder)\n",
    "\n",
    "y_normal = np.zeros(X_normal.shape[0])\n",
    "y_attack = np.ones(X_attack.shape[0])\n",
    "\n",
    "# Combine data and labels\n",
    "X = np.vstack((X_normal, X_attack))\n",
    "y = np.hstack((y_normal, y_attack))"
   ]
  },
  {
   "cell_type": "code",
   "execution_count": 4,
   "id": "4fe564e7-fe2f-435e-9a8b-547dc0616fd6",
   "metadata": {},
   "outputs": [
    {
     "data": {
      "text/plain": [
       "(2032320, 100)"
      ]
     },
     "execution_count": 4,
     "metadata": {},
     "output_type": "execute_result"
    }
   ],
   "source": [
    "X_normal.shape"
   ]
  },
  {
   "cell_type": "code",
   "execution_count": 8,
   "id": "4272c48b-7e99-496f-9cd9-14c1a5a49b61",
   "metadata": {},
   "outputs": [],
   "source": [
    "from sklearn.model_selection import train_test_split\n",
    "\n",
    "# Combine for full dataset\n",
    "X_all = np.vstack((X_normal, X_attack))\n",
    "y_all = np.hstack((y_normal, y_attack))\n",
    "\n",
    "# Normalize data before splitting\n",
    "X_all = X_all.astype(np.float32) / 255.0\n",
    "\n",
    "attack_start_idx = len(X_normal)\n",
    "all_indices = np.arange(len(X_all))\n",
    "\n",
    "# Split dataset\n",
    "X_train, X_test, y_train, y_test, idx_train, idx_test = train_test_split(\n",
    "    X_all, y_all, all_indices, test_size=0.2, random_state=42, stratify=y_all\n",
    ")\n",
    "\n",
    "# CNN reshape\n",
    "X_train = X_train[..., np.newaxis]\n",
    "X_test = X_test[..., np.newaxis]"
   ]
  },
  {
   "cell_type": "code",
   "execution_count": null,
   "id": "52d23d40-3e9e-4ac3-b777-c38feb4893ae",
   "metadata": {},
   "outputs": [],
   "source": []
  },
  {
   "cell_type": "code",
   "execution_count": 9,
   "id": "2fd7c31d-1246-4e07-aaf0-5e98f637165c",
   "metadata": {},
   "outputs": [],
   "source": [
    "from tensorflow.keras.models import load_model\n",
    "final_model = load_model(r\"C:\\Users\\ulami\\Desktop\\magisterka\\models_final\\CIC_IOT_csv_final.keras\")   "
   ]
  },
  {
   "cell_type": "code",
   "execution_count": 10,
   "id": "89b01653-2cd2-465f-9203-fa8371418e7f",
   "metadata": {},
   "outputs": [
    {
     "data": {
      "text/html": [
       "<pre style=\"white-space:pre;overflow-x:auto;line-height:normal;font-family:Menlo,'DejaVu Sans Mono',consolas,'Courier New',monospace\"><span style=\"font-weight: bold\">Model: \"sequential_198\"</span>\n",
       "</pre>\n"
      ],
      "text/plain": [
       "\u001b[1mModel: \"sequential_198\"\u001b[0m\n"
      ]
     },
     "metadata": {},
     "output_type": "display_data"
    },
    {
     "data": {
      "text/html": [
       "<pre style=\"white-space:pre;overflow-x:auto;line-height:normal;font-family:Menlo,'DejaVu Sans Mono',consolas,'Courier New',monospace\">┏━━━━━━━━━━━━━━━━━━━━━━━━━━━━━━━━━┳━━━━━━━━━━━━━━━━━━━━━━━━┳━━━━━━━━━━━━━━━┓\n",
       "┃<span style=\"font-weight: bold\"> Layer (type)                    </span>┃<span style=\"font-weight: bold\"> Output Shape           </span>┃<span style=\"font-weight: bold\">       Param # </span>┃\n",
       "┡━━━━━━━━━━━━━━━━━━━━━━━━━━━━━━━━━╇━━━━━━━━━━━━━━━━━━━━━━━━╇━━━━━━━━━━━━━━━┩\n",
       "│ dense_963 (<span style=\"color: #0087ff; text-decoration-color: #0087ff\">Dense</span>)               │ (<span style=\"color: #00d7ff; text-decoration-color: #00d7ff\">None</span>, <span style=\"color: #00af00; text-decoration-color: #00af00\">128</span>)            │         <span style=\"color: #00af00; text-decoration-color: #00af00\">2,048</span> │\n",
       "├─────────────────────────────────┼────────────────────────┼───────────────┤\n",
       "│ dense_964 (<span style=\"color: #0087ff; text-decoration-color: #0087ff\">Dense</span>)               │ (<span style=\"color: #00d7ff; text-decoration-color: #00d7ff\">None</span>, <span style=\"color: #00af00; text-decoration-color: #00af00\">128</span>)            │        <span style=\"color: #00af00; text-decoration-color: #00af00\">16,512</span> │\n",
       "├─────────────────────────────────┼────────────────────────┼───────────────┤\n",
       "│ dropout_246 (<span style=\"color: #0087ff; text-decoration-color: #0087ff\">Dropout</span>)           │ (<span style=\"color: #00d7ff; text-decoration-color: #00d7ff\">None</span>, <span style=\"color: #00af00; text-decoration-color: #00af00\">128</span>)            │             <span style=\"color: #00af00; text-decoration-color: #00af00\">0</span> │\n",
       "├─────────────────────────────────┼────────────────────────┼───────────────┤\n",
       "│ dense_965 (<span style=\"color: #0087ff; text-decoration-color: #0087ff\">Dense</span>)               │ (<span style=\"color: #00d7ff; text-decoration-color: #00d7ff\">None</span>, <span style=\"color: #00af00; text-decoration-color: #00af00\">8</span>)              │         <span style=\"color: #00af00; text-decoration-color: #00af00\">1,032</span> │\n",
       "├─────────────────────────────────┼────────────────────────┼───────────────┤\n",
       "│ dense_966 (<span style=\"color: #0087ff; text-decoration-color: #0087ff\">Dense</span>)               │ (<span style=\"color: #00d7ff; text-decoration-color: #00d7ff\">None</span>, <span style=\"color: #00af00; text-decoration-color: #00af00\">8</span>)              │            <span style=\"color: #00af00; text-decoration-color: #00af00\">72</span> │\n",
       "├─────────────────────────────────┼────────────────────────┼───────────────┤\n",
       "│ dense_967 (<span style=\"color: #0087ff; text-decoration-color: #0087ff\">Dense</span>)               │ (<span style=\"color: #00d7ff; text-decoration-color: #00d7ff\">None</span>, <span style=\"color: #00af00; text-decoration-color: #00af00\">1</span>)              │             <span style=\"color: #00af00; text-decoration-color: #00af00\">9</span> │\n",
       "└─────────────────────────────────┴────────────────────────┴───────────────┘\n",
       "</pre>\n"
      ],
      "text/plain": [
       "┏━━━━━━━━━━━━━━━━━━━━━━━━━━━━━━━━━┳━━━━━━━━━━━━━━━━━━━━━━━━┳━━━━━━━━━━━━━━━┓\n",
       "┃\u001b[1m \u001b[0m\u001b[1mLayer (type)                   \u001b[0m\u001b[1m \u001b[0m┃\u001b[1m \u001b[0m\u001b[1mOutput Shape          \u001b[0m\u001b[1m \u001b[0m┃\u001b[1m \u001b[0m\u001b[1m      Param #\u001b[0m\u001b[1m \u001b[0m┃\n",
       "┡━━━━━━━━━━━━━━━━━━━━━━━━━━━━━━━━━╇━━━━━━━━━━━━━━━━━━━━━━━━╇━━━━━━━━━━━━━━━┩\n",
       "│ dense_963 (\u001b[38;5;33mDense\u001b[0m)               │ (\u001b[38;5;45mNone\u001b[0m, \u001b[38;5;34m128\u001b[0m)            │         \u001b[38;5;34m2,048\u001b[0m │\n",
       "├─────────────────────────────────┼────────────────────────┼───────────────┤\n",
       "│ dense_964 (\u001b[38;5;33mDense\u001b[0m)               │ (\u001b[38;5;45mNone\u001b[0m, \u001b[38;5;34m128\u001b[0m)            │        \u001b[38;5;34m16,512\u001b[0m │\n",
       "├─────────────────────────────────┼────────────────────────┼───────────────┤\n",
       "│ dropout_246 (\u001b[38;5;33mDropout\u001b[0m)           │ (\u001b[38;5;45mNone\u001b[0m, \u001b[38;5;34m128\u001b[0m)            │             \u001b[38;5;34m0\u001b[0m │\n",
       "├─────────────────────────────────┼────────────────────────┼───────────────┤\n",
       "│ dense_965 (\u001b[38;5;33mDense\u001b[0m)               │ (\u001b[38;5;45mNone\u001b[0m, \u001b[38;5;34m8\u001b[0m)              │         \u001b[38;5;34m1,032\u001b[0m │\n",
       "├─────────────────────────────────┼────────────────────────┼───────────────┤\n",
       "│ dense_966 (\u001b[38;5;33mDense\u001b[0m)               │ (\u001b[38;5;45mNone\u001b[0m, \u001b[38;5;34m8\u001b[0m)              │            \u001b[38;5;34m72\u001b[0m │\n",
       "├─────────────────────────────────┼────────────────────────┼───────────────┤\n",
       "│ dense_967 (\u001b[38;5;33mDense\u001b[0m)               │ (\u001b[38;5;45mNone\u001b[0m, \u001b[38;5;34m1\u001b[0m)              │             \u001b[38;5;34m9\u001b[0m │\n",
       "└─────────────────────────────────┴────────────────────────┴───────────────┘\n"
      ]
     },
     "metadata": {},
     "output_type": "display_data"
    },
    {
     "data": {
      "text/html": [
       "<pre style=\"white-space:pre;overflow-x:auto;line-height:normal;font-family:Menlo,'DejaVu Sans Mono',consolas,'Courier New',monospace\"><span style=\"font-weight: bold\"> Total params: </span><span style=\"color: #00af00; text-decoration-color: #00af00\">59,021</span> (230.55 KB)\n",
       "</pre>\n"
      ],
      "text/plain": [
       "\u001b[1m Total params: \u001b[0m\u001b[38;5;34m59,021\u001b[0m (230.55 KB)\n"
      ]
     },
     "metadata": {},
     "output_type": "display_data"
    },
    {
     "data": {
      "text/html": [
       "<pre style=\"white-space:pre;overflow-x:auto;line-height:normal;font-family:Menlo,'DejaVu Sans Mono',consolas,'Courier New',monospace\"><span style=\"font-weight: bold\"> Trainable params: </span><span style=\"color: #00af00; text-decoration-color: #00af00\">19,673</span> (76.85 KB)\n",
       "</pre>\n"
      ],
      "text/plain": [
       "\u001b[1m Trainable params: \u001b[0m\u001b[38;5;34m19,673\u001b[0m (76.85 KB)\n"
      ]
     },
     "metadata": {},
     "output_type": "display_data"
    },
    {
     "data": {
      "text/html": [
       "<pre style=\"white-space:pre;overflow-x:auto;line-height:normal;font-family:Menlo,'DejaVu Sans Mono',consolas,'Courier New',monospace\"><span style=\"font-weight: bold\"> Non-trainable params: </span><span style=\"color: #00af00; text-decoration-color: #00af00\">0</span> (0.00 B)\n",
       "</pre>\n"
      ],
      "text/plain": [
       "\u001b[1m Non-trainable params: \u001b[0m\u001b[38;5;34m0\u001b[0m (0.00 B)\n"
      ]
     },
     "metadata": {},
     "output_type": "display_data"
    },
    {
     "data": {
      "text/html": [
       "<pre style=\"white-space:pre;overflow-x:auto;line-height:normal;font-family:Menlo,'DejaVu Sans Mono',consolas,'Courier New',monospace\"><span style=\"font-weight: bold\"> Optimizer params: </span><span style=\"color: #00af00; text-decoration-color: #00af00\">39,348</span> (153.71 KB)\n",
       "</pre>\n"
      ],
      "text/plain": [
       "\u001b[1m Optimizer params: \u001b[0m\u001b[38;5;34m39,348\u001b[0m (153.71 KB)\n"
      ]
     },
     "metadata": {},
     "output_type": "display_data"
    }
   ],
   "source": [
    "final_model.summary()"
   ]
  },
  {
   "cell_type": "code",
   "execution_count": null,
   "id": "b84e68b3-d752-44c7-8d05-cf5797f6f097",
   "metadata": {},
   "outputs": [],
   "source": []
  },
  {
   "cell_type": "code",
   "execution_count": 26,
   "id": "0088f2cc-3d35-4f15-bbf9-7691689a228f",
   "metadata": {},
   "outputs": [],
   "source": [
    "from tensorflow.keras.models import Sequential\n",
    "from tensorflow.keras.layers import Input, Conv1D, MaxPooling1D, GlobalMaxPooling1D, Dropout, Dense\n",
    "from tensorflow.keras.optimizers import Adam\n",
    "\n",
    "def build_model(input_dim: int):\n",
    "    m = Sequential()\n",
    "    n_channels = 1\n",
    "    m.add(Input(shape=(input_dim, n_channels)))\n",
    "\n",
    "    for i in range(best_params['n_layers']):\n",
    "        filters = best_params.get(f\"n_units_l{i}\")            # use your existing units as conv filters\n",
    "        ksize   = 5\n",
    "        dr      = best_params.get(f\"dropout_l{i}\", 0.0)\n",
    "        poolsz  = best_params.get(f\"pool_size_l{i}\")          # set >1 to enable per-layer pooling\n",
    "\n",
    "        m.add(Conv1D(filters=filters, kernel_size=ksize,\n",
    "                     activation='relu', padding='same'))\n",
    "        if poolsz and poolsz > 1:\n",
    "            m.add(MaxPooling1D(pool_size=poolsz))\n",
    "        if dr and dr > 0:\n",
    "            m.add(Dropout(dr))\n",
    "\n",
    "    m.add(GlobalMaxPooling1D())\n",
    "    m.add(Dense(16, activation='relu'))\n",
    "    m.add(Dense(1, activation='sigmoid'))\n",
    "\n",
    "    m.compile(optimizer=Adam(learning_rate=best_params['learning_rate']),\n",
    "              loss='binary_crossentropy',\n",
    "              metrics=['accuracy'])\n",
    "    return m\n"
   ]
  },
  {
   "cell_type": "code",
   "execution_count": 41,
   "id": "a2e0a2bf-5d36-4b49-966e-93adf47337f9",
   "metadata": {},
   "outputs": [],
   "source": [
    "# ----- Your fixed best hyperparameters -----\n",
    "best_params = {\n",
    "    'epochs': 5, \n",
    "    'n_layers': 3, \n",
    "    'n_units_l0': 128, 'dropout_l0': 0.0,\n",
    "    'n_units_l1': 64, 'dropout_l1': 0.1, \n",
    "    'n_units_l2': 32, 'dropout_l2': 0.0,\n",
    "    'learning_rate': 1e-3,\n",
    "    'batch_size': 32\n",
    "}\n"
   ]
  },
  {
   "cell_type": "code",
   "execution_count": 40,
   "id": "1fa97407-3da7-4ab1-a976-263122b56a0e",
   "metadata": {},
   "outputs": [
    {
     "data": {
      "text/html": [
       "<pre style=\"white-space:pre;overflow-x:auto;line-height:normal;font-family:Menlo,'DejaVu Sans Mono',consolas,'Courier New',monospace\"><span style=\"font-weight: bold\">Model: \"sequential_13\"</span>\n",
       "</pre>\n"
      ],
      "text/plain": [
       "\u001b[1mModel: \"sequential_13\"\u001b[0m\n"
      ]
     },
     "metadata": {},
     "output_type": "display_data"
    },
    {
     "data": {
      "text/html": [
       "<pre style=\"white-space:pre;overflow-x:auto;line-height:normal;font-family:Menlo,'DejaVu Sans Mono',consolas,'Courier New',monospace\">┏━━━━━━━━━━━━━━━━━━━━━━━━━━━━━━━━━┳━━━━━━━━━━━━━━━━━━━━━━━━┳━━━━━━━━━━━━━━━┓\n",
       "┃<span style=\"font-weight: bold\"> Layer (type)                    </span>┃<span style=\"font-weight: bold\"> Output Shape           </span>┃<span style=\"font-weight: bold\">       Param # </span>┃\n",
       "┡━━━━━━━━━━━━━━━━━━━━━━━━━━━━━━━━━╇━━━━━━━━━━━━━━━━━━━━━━━━╇━━━━━━━━━━━━━━━┩\n",
       "│ conv1d_30 (<span style=\"color: #0087ff; text-decoration-color: #0087ff\">Conv1D</span>)              │ (<span style=\"color: #00d7ff; text-decoration-color: #00d7ff\">None</span>, <span style=\"color: #00af00; text-decoration-color: #00af00\">100</span>, <span style=\"color: #00af00; text-decoration-color: #00af00\">128</span>)       │           <span style=\"color: #00af00; text-decoration-color: #00af00\">768</span> │\n",
       "├─────────────────────────────────┼────────────────────────┼───────────────┤\n",
       "│ conv1d_31 (<span style=\"color: #0087ff; text-decoration-color: #0087ff\">Conv1D</span>)              │ (<span style=\"color: #00d7ff; text-decoration-color: #00d7ff\">None</span>, <span style=\"color: #00af00; text-decoration-color: #00af00\">100</span>, <span style=\"color: #00af00; text-decoration-color: #00af00\">64</span>)        │        <span style=\"color: #00af00; text-decoration-color: #00af00\">41,024</span> │\n",
       "├─────────────────────────────────┼────────────────────────┼───────────────┤\n",
       "│ dropout_8 (<span style=\"color: #0087ff; text-decoration-color: #0087ff\">Dropout</span>)             │ (<span style=\"color: #00d7ff; text-decoration-color: #00d7ff\">None</span>, <span style=\"color: #00af00; text-decoration-color: #00af00\">100</span>, <span style=\"color: #00af00; text-decoration-color: #00af00\">64</span>)        │             <span style=\"color: #00af00; text-decoration-color: #00af00\">0</span> │\n",
       "├─────────────────────────────────┼────────────────────────┼───────────────┤\n",
       "│ conv1d_32 (<span style=\"color: #0087ff; text-decoration-color: #0087ff\">Conv1D</span>)              │ (<span style=\"color: #00d7ff; text-decoration-color: #00d7ff\">None</span>, <span style=\"color: #00af00; text-decoration-color: #00af00\">100</span>, <span style=\"color: #00af00; text-decoration-color: #00af00\">32</span>)        │        <span style=\"color: #00af00; text-decoration-color: #00af00\">10,272</span> │\n",
       "├─────────────────────────────────┼────────────────────────┼───────────────┤\n",
       "│ global_max_pooling1d_12         │ (<span style=\"color: #00d7ff; text-decoration-color: #00d7ff\">None</span>, <span style=\"color: #00af00; text-decoration-color: #00af00\">32</span>)             │             <span style=\"color: #00af00; text-decoration-color: #00af00\">0</span> │\n",
       "│ (<span style=\"color: #0087ff; text-decoration-color: #0087ff\">GlobalMaxPooling1D</span>)            │                        │               │\n",
       "├─────────────────────────────────┼────────────────────────┼───────────────┤\n",
       "│ dense_24 (<span style=\"color: #0087ff; text-decoration-color: #0087ff\">Dense</span>)                │ (<span style=\"color: #00d7ff; text-decoration-color: #00d7ff\">None</span>, <span style=\"color: #00af00; text-decoration-color: #00af00\">16</span>)             │           <span style=\"color: #00af00; text-decoration-color: #00af00\">528</span> │\n",
       "├─────────────────────────────────┼────────────────────────┼───────────────┤\n",
       "│ dense_25 (<span style=\"color: #0087ff; text-decoration-color: #0087ff\">Dense</span>)                │ (<span style=\"color: #00d7ff; text-decoration-color: #00d7ff\">None</span>, <span style=\"color: #00af00; text-decoration-color: #00af00\">1</span>)              │            <span style=\"color: #00af00; text-decoration-color: #00af00\">17</span> │\n",
       "└─────────────────────────────────┴────────────────────────┴───────────────┘\n",
       "</pre>\n"
      ],
      "text/plain": [
       "┏━━━━━━━━━━━━━━━━━━━━━━━━━━━━━━━━━┳━━━━━━━━━━━━━━━━━━━━━━━━┳━━━━━━━━━━━━━━━┓\n",
       "┃\u001b[1m \u001b[0m\u001b[1mLayer (type)                   \u001b[0m\u001b[1m \u001b[0m┃\u001b[1m \u001b[0m\u001b[1mOutput Shape          \u001b[0m\u001b[1m \u001b[0m┃\u001b[1m \u001b[0m\u001b[1m      Param #\u001b[0m\u001b[1m \u001b[0m┃\n",
       "┡━━━━━━━━━━━━━━━━━━━━━━━━━━━━━━━━━╇━━━━━━━━━━━━━━━━━━━━━━━━╇━━━━━━━━━━━━━━━┩\n",
       "│ conv1d_30 (\u001b[38;5;33mConv1D\u001b[0m)              │ (\u001b[38;5;45mNone\u001b[0m, \u001b[38;5;34m100\u001b[0m, \u001b[38;5;34m128\u001b[0m)       │           \u001b[38;5;34m768\u001b[0m │\n",
       "├─────────────────────────────────┼────────────────────────┼───────────────┤\n",
       "│ conv1d_31 (\u001b[38;5;33mConv1D\u001b[0m)              │ (\u001b[38;5;45mNone\u001b[0m, \u001b[38;5;34m100\u001b[0m, \u001b[38;5;34m64\u001b[0m)        │        \u001b[38;5;34m41,024\u001b[0m │\n",
       "├─────────────────────────────────┼────────────────────────┼───────────────┤\n",
       "│ dropout_8 (\u001b[38;5;33mDropout\u001b[0m)             │ (\u001b[38;5;45mNone\u001b[0m, \u001b[38;5;34m100\u001b[0m, \u001b[38;5;34m64\u001b[0m)        │             \u001b[38;5;34m0\u001b[0m │\n",
       "├─────────────────────────────────┼────────────────────────┼───────────────┤\n",
       "│ conv1d_32 (\u001b[38;5;33mConv1D\u001b[0m)              │ (\u001b[38;5;45mNone\u001b[0m, \u001b[38;5;34m100\u001b[0m, \u001b[38;5;34m32\u001b[0m)        │        \u001b[38;5;34m10,272\u001b[0m │\n",
       "├─────────────────────────────────┼────────────────────────┼───────────────┤\n",
       "│ global_max_pooling1d_12         │ (\u001b[38;5;45mNone\u001b[0m, \u001b[38;5;34m32\u001b[0m)             │             \u001b[38;5;34m0\u001b[0m │\n",
       "│ (\u001b[38;5;33mGlobalMaxPooling1D\u001b[0m)            │                        │               │\n",
       "├─────────────────────────────────┼────────────────────────┼───────────────┤\n",
       "│ dense_24 (\u001b[38;5;33mDense\u001b[0m)                │ (\u001b[38;5;45mNone\u001b[0m, \u001b[38;5;34m16\u001b[0m)             │           \u001b[38;5;34m528\u001b[0m │\n",
       "├─────────────────────────────────┼────────────────────────┼───────────────┤\n",
       "│ dense_25 (\u001b[38;5;33mDense\u001b[0m)                │ (\u001b[38;5;45mNone\u001b[0m, \u001b[38;5;34m1\u001b[0m)              │            \u001b[38;5;34m17\u001b[0m │\n",
       "└─────────────────────────────────┴────────────────────────┴───────────────┘\n"
      ]
     },
     "metadata": {},
     "output_type": "display_data"
    },
    {
     "data": {
      "text/html": [
       "<pre style=\"white-space:pre;overflow-x:auto;line-height:normal;font-family:Menlo,'DejaVu Sans Mono',consolas,'Courier New',monospace\"><span style=\"font-weight: bold\"> Total params: </span><span style=\"color: #00af00; text-decoration-color: #00af00\">52,609</span> (205.50 KB)\n",
       "</pre>\n"
      ],
      "text/plain": [
       "\u001b[1m Total params: \u001b[0m\u001b[38;5;34m52,609\u001b[0m (205.50 KB)\n"
      ]
     },
     "metadata": {},
     "output_type": "display_data"
    },
    {
     "data": {
      "text/html": [
       "<pre style=\"white-space:pre;overflow-x:auto;line-height:normal;font-family:Menlo,'DejaVu Sans Mono',consolas,'Courier New',monospace\"><span style=\"font-weight: bold\"> Trainable params: </span><span style=\"color: #00af00; text-decoration-color: #00af00\">52,609</span> (205.50 KB)\n",
       "</pre>\n"
      ],
      "text/plain": [
       "\u001b[1m Trainable params: \u001b[0m\u001b[38;5;34m52,609\u001b[0m (205.50 KB)\n"
      ]
     },
     "metadata": {},
     "output_type": "display_data"
    },
    {
     "data": {
      "text/html": [
       "<pre style=\"white-space:pre;overflow-x:auto;line-height:normal;font-family:Menlo,'DejaVu Sans Mono',consolas,'Courier New',monospace\"><span style=\"font-weight: bold\"> Non-trainable params: </span><span style=\"color: #00af00; text-decoration-color: #00af00\">0</span> (0.00 B)\n",
       "</pre>\n"
      ],
      "text/plain": [
       "\u001b[1m Non-trainable params: \u001b[0m\u001b[38;5;34m0\u001b[0m (0.00 B)\n"
      ]
     },
     "metadata": {},
     "output_type": "display_data"
    }
   ],
   "source": [
    "model = build_model(input_dim=X_train.shape[1])\n",
    "model.summary()"
   ]
  },
  {
   "cell_type": "code",
   "execution_count": null,
   "id": "388a0b48-7438-4002-937a-c0ae65348d2f",
   "metadata": {},
   "outputs": [],
   "source": []
  },
  {
   "cell_type": "code",
   "execution_count": 65,
   "id": "8fafaff3-b283-451a-a161-aacc4f265291",
   "metadata": {},
   "outputs": [
    {
     "name": "stdout",
     "output_type": "stream",
     "text": [
      "Epoch 1/5\n",
      "51994/51994 ━━━━━━━━━━━━━━━━━━━━ 782s 15ms/step - accuracy: 0.9231 - loss: 0.2164 - val_accuracy: 0.9588 - val_loss: 0.1092\n",
      "Epoch 2/5\n",
      "51994/51994 ━━━━━━━━━━━━━━━━━━━━ 791s 15ms/step - accuracy: 0.9583 - loss: 0.1123 - val_accuracy: 0.9672 - val_loss: 0.0890\n",
      "Epoch 3/5\n",
      "51994/51994 ━━━━━━━━━━━━━━━━━━━━ 818s 16ms/step - accuracy: 0.9649 - loss: 0.0947 - val_accuracy: 0.9706 - val_loss: 0.0795\n",
      "Epoch 4/5\n",
      "51994/51994 ━━━━━━━━━━━━━━━━━━━━ 849s 16ms/step - accuracy: 0.9688 - loss: 0.0841 - val_accuracy: 0.9731 - val_loss: 0.0716\n",
      "Epoch 5/5\n",
      "51994/51994 ━━━━━━━━━━━━━━━━━━━━ 882s 17ms/step - accuracy: 0.9713 - loss: 0.0780 - val_accuracy: 0.9763 - val_loss: 0.0653\n",
      "16248/16248 ━━━━━━━━━━━━━━━━━━━━ 58s 4ms/step\n"
     ]
    }
   ],
   "source": [
    "model = build_model(input_dim=X_train.shape[1])\n",
    "model.fit(\n",
    "    X_train, y_train,\n",
    "    epochs=best_params['epochs'],\n",
    "    batch_size=best_params['batch_size'],\n",
    "    validation_split=0.2,\n",
    "    verbose=1\n",
    ")\n",
    "\n",
    "test_preds = (model.predict(X_test, verbose=1).ravel() > 0.5).astype(int)"
   ]
  },
  {
   "cell_type": "code",
   "execution_count": 66,
   "id": "8d1821ef-f7a2-4734-beb9-ec3ce88834a0",
   "metadata": {},
   "outputs": [
    {
     "name": "stdout",
     "output_type": "stream",
     "text": [
      "Accuracy: 0.98\n",
      "Precision: 0.98\n",
      "Recall: 0.91\n"
     ]
    }
   ],
   "source": [
    "import numpy as np\n",
    "from sklearn.metrics import accuracy_score, precision_score, recall_score, confusion_matrix, ConfusionMatrixDisplay\n",
    "import matplotlib.pyplot as plt\n",
    "\n",
    "# test_preds = (model.predict(X_test, verbose=1).ravel() > 0.5).astype(int)\n",
    "\n",
    "accuracy = accuracy_score(y_test, test_preds)\n",
    "precision = precision_score(y_test, test_preds)\n",
    "recall = recall_score(y_test, test_preds)\n",
    "\n",
    "# Print the results\n",
    "print(f\"Accuracy: {accuracy:.2f}\")\n",
    "print(f\"Precision: {precision:.2f}\")\n",
    "print(f\"Recall: {recall:.2f}\")"
   ]
  },
  {
   "cell_type": "code",
   "execution_count": 68,
   "id": "f12d2bdd-2b9d-42aa-85e1-f1c5fc09b405",
   "metadata": {},
   "outputs": [
    {
     "data": {
      "image/png": "[encoded data removed]",
      "text/plain": [
       "<Figure size 640x480 with 2 Axes>"
      ]
     },
     "metadata": {},
     "output_type": "display_data"
    },
    {
     "name": "stdout",
     "output_type": "stream",
     "text": [
      "                precision    recall  f1-score   support\n",
      "\n",
      "Normal Traffic       0.97      1.00      0.98    406465\n",
      "        Attack       0.98      0.91      0.94    113471\n",
      "\n",
      "      accuracy                           0.98    519936\n",
      "     macro avg       0.98      0.95      0.96    519936\n",
      "  weighted avg       0.98      0.98      0.98    519936\n",
      "\n"
     ]
    }
   ],
   "source": [
    "from sklearn.metrics import classification_report\n",
    "\n",
    "cm = confusion_matrix(y_test, test_preds)\n",
    "\n",
    "disp = ConfusionMatrixDisplay(confusion_matrix=cm)\n",
    "disp.plot(cmap='Blues')\n",
    "plt.show()\n",
    "\n",
    "# Print detailed classification report\n",
    "print(classification_report(y_test, test_preds, target_names=['Normal Traffic', 'Attack']))"
   ]
  },
  {
   "cell_type": "code",
   "execution_count": 69,
   "id": "01e78f94-a6ce-40a8-baa9-7af5c1223650",
   "metadata": {},
   "outputs": [],
   "source": [
    "# Save the trained model\n",
    "model.save(\"cic_iot_pcap_final.keras\")"
   ]
  },
  {
   "cell_type": "code",
   "execution_count": null,
   "id": "dd158b56-b350-4b2e-990f-e7b0628134e8",
   "metadata": {},
   "outputs": [],
   "source": []
  },
  {
   "cell_type": "markdown",
   "id": "fe94106a-5a62-4a17-8dd2-efcc05bf1a4a",
   "metadata": {},
   "source": [
    "# Integrated gradient"
   ]
  },
  {
   "cell_type": "code",
   "execution_count": 46,
   "id": "c55244f0-f162-4c0d-8789-2ab1bfbd9e96",
   "metadata": {},
   "outputs": [],
   "source": [
    "def compute_integrated_gradients(model, input_tensor, baseline=None, steps=50):\n",
    "    if baseline is None:\n",
    "        baseline = tf.zeros(shape=input_tensor.shape) # średnia / średnia normalnych / mediana normalnych ?? \n",
    "\n",
    "    interpolated_inputs = [\n",
    "        baseline + (float(i) / steps) * (input_tensor - baseline)\n",
    "        for i in range(steps + 1)\n",
    "    ]\n",
    "\n",
    "    grads = []\n",
    "    for inp in interpolated_inputs:\n",
    "        with tf.GradientTape() as tape:\n",
    "            tape.watch(inp)\n",
    "            pred = model(inp)\n",
    "        grad = tape.gradient(pred, inp)\n",
    "        grads.append(grad.numpy())\n",
    "\n",
    "    avg_grads = np.average(grads[:-1], axis=0)\n",
    "    integrated_grads = (input_tensor.numpy() - baseline.numpy()) * avg_grads\n",
    "    return integrated_grads.squeeze()\n",
    "\n",
    "def compute_ig_for_samples(model, X_subset, steps=50, max_samples=100, baseline=None):\n",
    "    attributions_list = []\n",
    "    for i in range(min(len(X_subset), max_samples)):\n",
    "        input_sample = tf.convert_to_tensor([X_subset[i]], dtype=tf.float32)\n",
    "        ig = compute_integrated_gradients(model, input_sample, baseline=baseline, steps=steps)\n",
    "        attributions_list.append(ig)\n",
    "    return np.array(attributions_list)\n",
    "\n",
    "# Separate test samples\n",
    "X_normal_test = X_test[y_test == 0]\n",
    "X_attack_test = X_test[y_test == 1]\n"
   ]
  },
  {
   "cell_type": "code",
   "execution_count": 47,
   "id": "0c1967e8-61f0-4e50-bb15-202d16a68eda",
   "metadata": {},
   "outputs": [
    {
     "data": {
      "text/plain": [
       "(4064.64, 1993.82)"
      ]
     },
     "execution_count": 47,
     "metadata": {},
     "output_type": "execute_result"
    }
   ],
   "source": [
    "a_normal_min = X_normal_test.shape[0] *0.01\n",
    "# a_normal_max = X_normal_test.shape[0] *0.05\n",
    "\n",
    "a_attack_min = X_attack_test.shape[0] *0.01\n",
    "# a_attack_max = X_attack_test.shape[0] *0.05\n",
    "\n",
    "a_normal_min, a_attack_min"
   ]
  },
  {
   "cell_type": "code",
   "execution_count": 48,
   "id": "b939f33f-e567-4dce-a82a-06311c277495",
   "metadata": {},
   "outputs": [],
   "source": [
    "import pandas as pd\n",
    "import tensorflow as tf\n",
    "\n",
    "# Compute IG\n",
    "normal_attributions = compute_ig_for_samples(model, X_normal_test, max_samples=4000)\n",
    "attack_attributions = compute_ig_for_samples(model, X_attack_test, max_samples=2000)\n",
    "\n",
    "# Average IG\n",
    "avg_normal_ig = np.mean(normal_attributions, axis=0)\n",
    "avg_attack_ig = np.mean(attack_attributions, axis=0)\n"
   ]
  },
  {
   "cell_type": "code",
   "execution_count": 49,
   "id": "9eee7047-15e5-4e1e-b89e-d00be120568c",
   "metadata": {},
   "outputs": [
    {
     "data": {
      "text/plain": [
       "(    Byte Index  Attribution (Normal Class)  Abs Attribution\n",
       " 59          59                   -0.319039         0.319039\n",
       " 63          63                   -0.143651         0.143651\n",
       " 34          34                   -0.116795         0.116795\n",
       " 56          56                    0.110734         0.110734\n",
       " 57          57                    0.086814         0.086814\n",
       " 18          18                    0.082531         0.082531\n",
       " 19          19                    0.066226         0.066226\n",
       " 36          36                    0.048383         0.048383\n",
       " 58          58                   -0.046692         0.046692\n",
       " 35          35                   -0.045257         0.045257\n",
       " 20          20                   -0.044114         0.044114\n",
       " 15          15                   -0.041257         0.041257\n",
       " 43          43                   -0.038754         0.038754\n",
       " 98          98                    0.032034         0.032034\n",
       " 38          38                    0.027528         0.027528\n",
       " 24          24                   -0.027470         0.027470\n",
       " 96          96                   -0.027423         0.027423\n",
       " 37          37                   -0.027319         0.027319\n",
       " 95          95                   -0.025283         0.025283\n",
       " 55          55                   -0.024134         0.024134,\n",
       "     Byte Index  Attribution (Attack Class)  Abs Attribution\n",
       " 19          19                    0.077106         0.077106\n",
       " 18          18                    0.068712         0.068712\n",
       " 57          57                    0.051671         0.051671\n",
       " 51          51                    0.049105         0.049105\n",
       " 37          37                   -0.046262         0.046262\n",
       " 34          34                   -0.042928         0.042928\n",
       " 50          50                    0.038042         0.038042\n",
       " 36          36                    0.036325         0.036325\n",
       " 59          59                   -0.032429         0.032429\n",
       " 25          25                    0.031582         0.031582\n",
       " 38          38                    0.023588         0.023588\n",
       " 43          43                   -0.022911         0.022911\n",
       " 58          58                    0.018502         0.018502\n",
       " 46          46                    0.017618         0.017618\n",
       " 41          41                    0.016939         0.016939\n",
       " 98          98                    0.016779         0.016779\n",
       " 20          20                   -0.016655         0.016655\n",
       " 40          40                    0.015758         0.015758\n",
       " 22          22                   -0.012970         0.012970\n",
       " 35          35                    0.012684         0.012684)"
      ]
     },
     "execution_count": 49,
     "metadata": {},
     "output_type": "execute_result"
    }
   ],
   "source": [
    "# Normal\n",
    "df_normal = pd.DataFrame({\n",
    "    \"Byte Index\": np.arange(len(avg_normal_ig)),\n",
    "    \"Attribution (Normal Class)\": avg_normal_ig\n",
    "})\n",
    "df_normal[\"Abs Attribution\"] = np.abs(df_normal[\"Attribution (Normal Class)\"])\n",
    "df_normal_sorted = df_normal.sort_values(\"Abs Attribution\", ascending=False)\n",
    "\n",
    "# Attack\n",
    "df_attack = pd.DataFrame({\n",
    "    \"Byte Index\": np.arange(len(avg_attack_ig)),\n",
    "    \"Attribution (Attack Class)\": avg_attack_ig\n",
    "})\n",
    "df_attack[\"Abs Attribution\"] = np.abs(df_attack[\"Attribution (Attack Class)\"])\n",
    "df_attack_sorted = df_attack.sort_values(\"Abs Attribution\", ascending=False)\n",
    "\n",
    "# Display top 20\n",
    "df_normal_sorted.head(20), df_attack_sorted.head(20)"
   ]
  },
  {
   "cell_type": "code",
   "execution_count": 50,
   "id": "297aa996-d72b-4aa3-95c0-000a66ab8725",
   "metadata": {},
   "outputs": [
    {
     "data": {
      "image/png": "[encoded data removed]",
      "text/plain": [
       "<Figure size 1400x600 with 1 Axes>"
      ]
     },
     "metadata": {},
     "output_type": "display_data"
    }
   ],
   "source": [
    "import matplotlib.pyplot as plt\n",
    "\n",
    "plt.figure(figsize=(14, 6))\n",
    "plt.plot(avg_normal_ig, label=\"Normal Class Attribution\", linestyle='--')\n",
    "plt.plot(avg_attack_ig, label=\"Attack Class Attribution\", linestyle='-')\n",
    "plt.title(\"Integrated Gradients per Byte (Normal vs Attack Class)\")\n",
    "plt.xlabel(\"Byte Index\")\n",
    "plt.ylabel(\"Attribution\")\n",
    "plt.legend()\n",
    "plt.grid(True)\n",
    "plt.tight_layout()\n",
    "plt.show()\n"
   ]
  },
  {
   "cell_type": "markdown",
   "id": "d26585cf-aa14-41c2-bf2c-45a37bef0417",
   "metadata": {},
   "source": [
    "# Baseline - mean"
   ]
  },
  {
   "cell_type": "code",
   "execution_count": 51,
   "id": "08f799a4-993d-4306-8a32-a43327675c07",
   "metadata": {},
   "outputs": [],
   "source": [
    "# mean of normal test samples as a baseline\n",
    "normal_mean = np.mean(X_normal_test, axis=0)\n",
    "baseline_tensor = tf.convert_to_tensor([normal_mean], dtype=tf.float32)\n",
    "\n",
    "normal_attributions = compute_ig_for_samples(model, X_normal_test, max_samples=4000, baseline=baseline_tensor)\n",
    "attack_attributions = compute_ig_for_samples(model, X_attack_test, max_samples=2000, baseline=baseline_tensor)\n"
   ]
  },
  {
   "cell_type": "code",
   "execution_count": 52,
   "id": "f823ec5c-1cd0-4df9-b7b0-e3ff4a2ee8bb",
   "metadata": {},
   "outputs": [],
   "source": [
    "# Average IG\n",
    "avg_normal_mean_ig = np.mean(normal_attributions, axis=0)\n",
    "avg_attack_mean_ig = np.mean(attack_attributions, axis=0)"
   ]
  },
  {
   "cell_type": "code",
   "execution_count": 53,
   "id": "aa4ae11e-e49d-4ac5-869b-124622c5389c",
   "metadata": {},
   "outputs": [
    {
     "data": {
      "text/plain": [
       "(    Byte Index  Attribution (Normal Class)  Abs Attribution\n",
       " 58          58                   -0.148177         0.148177\n",
       " 55          55                    0.117564         0.117564\n",
       " 34          34                    0.115680         0.115680\n",
       " 59          59                   -0.097988         0.097988\n",
       " 29          29                    0.078680         0.078680\n",
       " 38          38                   -0.058038         0.058038\n",
       " 62          62                   -0.057746         0.057746\n",
       " 63          63                   -0.056249         0.056249\n",
       " 52          52                    0.046532         0.046532\n",
       " 96          96                    0.045342         0.045342\n",
       " 13          13                   -0.045122         0.045122\n",
       " 22          22                   -0.044452         0.044452\n",
       " 98          98                   -0.037029         0.037029\n",
       " 15          15                    0.034119         0.034119\n",
       " 33          33                   -0.030331         0.030331\n",
       " 36          36                   -0.028953         0.028953\n",
       " 14          14                    0.026921         0.026921\n",
       " 31          31                   -0.025280         0.025280\n",
       " 99          99                    0.023151         0.023151\n",
       " 32          32                   -0.023070         0.023070,\n",
       "     Byte Index  Attribution (Attack Class)  Abs Attribution\n",
       " 34          34                    0.150014         0.150014\n",
       " 49          49                    0.119454         0.119454\n",
       " 55          55                    0.096651         0.096651\n",
       " 15          15                   -0.091407         0.091407\n",
       " 29          29                    0.072138         0.072138\n",
       " 96          96                    0.069945         0.069945\n",
       " 36          36                    0.065299         0.065299\n",
       " 98          98                   -0.064781         0.064781\n",
       " 48          48                    0.047862         0.047862\n",
       " 51          51                   -0.045859         0.045859\n",
       " 20          20                    0.045328         0.045328\n",
       " 17          17                    0.043868         0.043868\n",
       " 13          13                   -0.037349         0.037349\n",
       " 54          54                    0.033439         0.033439\n",
       " 56          56                    0.032524         0.032524\n",
       " 52          52                    0.032142         0.032142\n",
       " 32          32                   -0.025446         0.025446\n",
       " 33          33                   -0.023775         0.023775\n",
       " 14          14                    0.023050         0.023050\n",
       " 69          69                    0.022202         0.022202)"
      ]
     },
     "execution_count": 53,
     "metadata": {},
     "output_type": "execute_result"
    }
   ],
   "source": [
    "# Normal\n",
    "df_normal_mean = pd.DataFrame({\n",
    "    \"Byte Index\": np.arange(len(avg_normal_mean_ig)),\n",
    "    \"Attribution (Normal Class)\": avg_normal_mean_ig\n",
    "})\n",
    "df_normal_mean[\"Abs Attribution\"] = np.abs(df_normal_mean[\"Attribution (Normal Class)\"])\n",
    "df_normal_mean_sorted = df_normal_mean.sort_values(\"Abs Attribution\", ascending=False)\n",
    "\n",
    "# Attack\n",
    "df_attack_mean = pd.DataFrame({\n",
    "    \"Byte Index\": np.arange(len(avg_attack_mean_ig)),\n",
    "    \"Attribution (Attack Class)\": avg_attack_mean_ig\n",
    "})\n",
    "df_attack_mean[\"Abs Attribution\"] = np.abs(df_attack_mean[\"Attribution (Attack Class)\"])\n",
    "df_attack_mean_sorted = df_attack_mean.sort_values(\"Abs Attribution\", ascending=False)\n",
    "\n",
    "# Display top 20\n",
    "df_normal_mean_sorted.head(20), df_attack_mean_sorted.head(20)"
   ]
  },
  {
   "cell_type": "code",
   "execution_count": 54,
   "id": "c376c5c1-6376-4b3c-8056-215570d3a199",
   "metadata": {},
   "outputs": [
    {
     "data": {
      "image/png": "[encoded data removed]",
      "text/plain": [
       "<Figure size 1400x600 with 1 Axes>"
      ]
     },
     "metadata": {},
     "output_type": "display_data"
    },
    {
     "data": {
      "image/png": "[encoded data removed]",
      "text/plain": [
       "<Figure size 1400x600 with 1 Axes>"
      ]
     },
     "metadata": {},
     "output_type": "display_data"
    }
   ],
   "source": [
    "import matplotlib.pyplot as plt\n",
    "# baseline [0..0]\n",
    "plt.figure(figsize=(14, 6))\n",
    "plt.plot(avg_normal_ig, label=\"Normal Class Attribution\", linestyle='--')\n",
    "plt.plot(avg_attack_ig, label=\"Attack Class Attribution\", linestyle='-')\n",
    "plt.title(\"Integrated Gradients per Byte (Normal vs Attack Class)\")\n",
    "plt.xlabel(\"Byte Index\")\n",
    "plt.ylabel(\"Attribution\")\n",
    "plt.legend()\n",
    "plt.grid(True)\n",
    "plt.tight_layout()\n",
    "plt.show()\n",
    "\n",
    "# baseline mean\n",
    "plt.figure(figsize=(14, 6))\n",
    "plt.plot(avg_normal_mean_ig, label=\"Normal Class Attribution\", linestyle='--')\n",
    "plt.plot(avg_attack_mean_ig, label=\"Attack Class Attribution\", linestyle='-')\n",
    "plt.title(\"Integrated Gradients per Byte (Normal vs Attack Class)\")\n",
    "plt.xlabel(\"Byte Index\")\n",
    "plt.ylabel(\"Attribution\")\n",
    "plt.legend()\n",
    "plt.grid(True)\n",
    "plt.tight_layout()\n",
    "plt.show()\n"
   ]
  },
  {
   "cell_type": "code",
   "execution_count": 87,
   "id": "67815c96-62c0-45d4-8157-1b62021634a8",
   "metadata": {},
   "outputs": [
    {
     "name": "stdout",
     "output_type": "stream",
     "text": [
      "\n",
      "=== Protocol breakdown ===\n",
      "TCP                      442197  ( 77.94%)\n",
      "UDP                      102584  ( 18.08%)\n",
      "ARP                       12340  (  2.18%)\n",
      "ICMP                       4575  (  0.81%)\n",
      "Non-IP                     2910  (  0.51%)\n",
      "UDPv6                      1473  (  0.26%)\n",
      "IPv6 (other)                583  (  0.10%)\n",
      "ICMPv6                      552  (  0.10%)\n",
      "IPv4 (other)                142  (  0.03%)\n",
      "\n",
      "Total packets: 567356\n"
     ]
    }
   ],
   "source": [
    "from collections import Counter\n",
    "from scapy.all import IP, IPv6, TCP, UDP, ICMP, ARP\n",
    "from scapy.layers.inet6 import ICMPv6EchoRequest, ICMPv6EchoReply, ICMPv6ND_NS, ICMPv6ND_NA, ICMPv6DestUnreach\n",
    "\n",
    "def classify_packet(pkt):\n",
    "    if ARP in pkt:\n",
    "        return \"ARP\"\n",
    "    if IP in pkt:\n",
    "        if TCP in pkt: return \"TCP\"\n",
    "        if UDP in pkt: return \"UDP\"\n",
    "        if ICMP in pkt: return \"ICMP\"\n",
    "        return \"IPv4 (other)\"\n",
    "    if IPv6 in pkt:\n",
    "        if TCP in pkt: return \"TCPv6\"\n",
    "        if UDP in pkt: return \"UDPv6\"\n",
    "        if any(pkt.haslayer(x) for x in (\n",
    "            ICMPv6EchoRequest, ICMPv6EchoReply, ICMPv6ND_NS, ICMPv6ND_NA, ICMPv6DestUnreach\n",
    "        )):\n",
    "            return \"ICMPv6\"\n",
    "        return \"IPv6 (other)\"\n",
    "    return \"Non-IP\"\n",
    "\n",
    "def count_protocols_from_packets(packet_list):\n",
    "    counts = Counter(classify_packet(pkt) for pkt in packet_list)\n",
    "    total = sum(counts.values())\n",
    "    print(\"\\n=== Protocol breakdown ===\")\n",
    "    for proto, cnt in counts.most_common():\n",
    "        print(f\"{proto:20s} {cnt:10d}  ({cnt/total*100:6.2f}%)\")\n",
    "    print(f\"\\nTotal packets: {total}\")\n",
    "    return counts\n",
    "\n",
    "# Example: use directly on your attack packets\n",
    "counts_attack = count_protocols_from_packets(packets_attack)\n"
   ]
  },
  {
   "cell_type": "code",
   "execution_count": null,
   "id": "7c64391c-9ea5-4712-bb43-f9e7281cefcc",
   "metadata": {},
   "outputs": [],
   "source": []
  },
  {
   "cell_type": "markdown",
   "id": "241b79f5-0ea5-4c15-abb9-f864f358e68f",
   "metadata": {},
   "source": [
    "# FGSM"
   ]
  },
  {
   "cell_type": "code",
   "execution_count": 14,
   "id": "dd5e2571-70eb-4e6b-ac67-91243ef5f08a",
   "metadata": {},
   "outputs": [],
   "source": [
    "from scapy.all import rdpcap\n",
    "\n",
    "# Load packets from pcap file\n",
    "packets_attack = rdpcap(r\"C:\\Users\\ulami\\Desktop\\datasety\\CIC_IOT_pcap\\anonymized_attack.pcap\")"
   ]
  },
  {
   "cell_type": "code",
   "execution_count": 15,
   "id": "646ce8a9-24cf-4d68-93db-40bb56c624bd",
   "metadata": {},
   "outputs": [],
   "source": [
    "# Original full packets for those test attack samples\n",
    "attack_test_mask = y_test == 1\n",
    "X_attack_test = X_test[attack_test_mask].squeeze(axis=-1)\n",
    "y_attack_test = y_test[attack_test_mask]\n",
    "idx_attack_test = idx_test[attack_test_mask]\n",
    "\n",
    "# Map test indices back to attack-only packets\n",
    "# All attack packets are offset by len(X_normal)\n",
    "relative_attack_indices = idx_attack_test - attack_start_idx\n",
    "packets_attack_test = [packets_attack[i] for i in relative_attack_indices]"
   ]
  },
  {
   "cell_type": "code",
   "execution_count": 96,
   "id": "00faa4ea-ccde-4f98-a44f-baa6fbd06245",
   "metadata": {},
   "outputs": [
    {
     "data": {
      "text/plain": [
       "113471"
      ]
     },
     "execution_count": 96,
     "metadata": {},
     "output_type": "execute_result"
    }
   ],
   "source": [
    "len(packets_attack_test)"
   ]
  },
  {
   "cell_type": "code",
   "execution_count": 9,
   "id": "f6296b52-1b5e-474f-ac73-b0e9c820651c",
   "metadata": {},
   "outputs": [],
   "source": [
    "X_test_normal = X_test[y_test == 0]\n",
    "y_test_normal = y_test[y_test == 0]\n",
    "\n",
    "X_test_attack = X_test[y_test == 1]\n",
    "y_test_attack = y_test[y_test == 1]"
   ]
  },
  {
   "cell_type": "code",
   "execution_count": 72,
   "id": "13df42ea-7c5a-4451-b711-c78fc575080f",
   "metadata": {},
   "outputs": [
    {
     "data": {
      "text/plain": [
       "(406465, 100, 1)"
      ]
     },
     "execution_count": 72,
     "metadata": {},
     "output_type": "execute_result"
    }
   ],
   "source": [
    "X_test_normal.shape"
   ]
  },
  {
   "cell_type": "code",
   "execution_count": 73,
   "id": "323aeb5c-6e6a-4c01-b725-4587094de161",
   "metadata": {},
   "outputs": [],
   "source": [
    "def fgsm_attack(model, x, y_true, epsilon):\n",
    "    x_adv = tf.convert_to_tensor(x, dtype=tf.float32)\n",
    "    y_true = tf.convert_to_tensor(y_true, dtype=tf.float32)\n",
    "    y_true = tf.reshape(y_true, (-1, 1))\n",
    "\n",
    "    with tf.GradientTape() as tape:\n",
    "        tape.watch(x_adv)\n",
    "        prediction = model(x_adv)\n",
    "        loss = tf.keras.losses.binary_crossentropy(y_true, prediction)\n",
    "\n",
    "    # Compute gradients\n",
    "    gradient = tape.gradient(loss, x_adv)\n",
    "    signed_grad = tf.sign(gradient)\n",
    "\n",
    "    # Apply perturbation\n",
    "    x_adv = x_adv + epsilon * signed_grad\n",
    "    x_adv = tf.clip_by_value(x_adv, 0.0, 1.0)  # to keep values in byte range\n",
    "\n",
    "    return x_adv\n"
   ]
  },
  {
   "cell_type": "code",
   "execution_count": 27,
   "id": "c03e2386-80d0-4e15-a8d8-1ae98d388dae",
   "metadata": {},
   "outputs": [],
   "source": [
    "def fgsm_attack(model, x, y_true, epsilon=0.01):\n",
    "    x_adv = tf.convert_to_tensor(x, dtype=tf.float32)\n",
    "    y_true = tf.convert_to_tensor(y_true, dtype=tf.float32)\n",
    "    y_true = tf.reshape(y_true, (-1, 1))\n",
    "\n",
    "    with tf.GradientTape() as tape:\n",
    "        tape.watch(x_adv)\n",
    "        prediction = model(x_adv)\n",
    "        loss = tf.keras.losses.binary_crossentropy(y_true, prediction)\n",
    "\n",
    "    # Compute gradients\n",
    "    gradient = tape.gradient(loss, x_adv)\n",
    "    signed_grad = tf.sign(gradient)\n",
    "\n",
    "    # Apply perturbation\n",
    "    x_adv = x_adv + epsilon * signed_grad\n",
    "    x_adv = tf.clip_by_value(x_adv, 0.0, 1.0)  # to keep values in byte range\n",
    "\n",
    "    return x_adv\n"
   ]
  },
  {
   "cell_type": "code",
   "execution_count": 29,
   "id": "2e24f883-05e4-4023-999d-81edd07f1432",
   "metadata": {},
   "outputs": [],
   "source": [
    "# Generate adversarial samples\n",
    "X_test_attack_adv = fgsm_attack(model, X_test_attack, y_attack_test, epsilon=0.1)\n"
   ]
  },
  {
   "cell_type": "code",
   "execution_count": 28,
   "id": "aa292d8c-e275-4a48-916b-0f0060bebe89",
   "metadata": {},
   "outputs": [
    {
     "data": {
      "text/plain": [
       "(113471, 100)"
      ]
     },
     "execution_count": 28,
     "metadata": {},
     "output_type": "execute_result"
    }
   ],
   "source": [
    "X_attack_test.shape"
   ]
  },
  {
   "cell_type": "code",
   "execution_count": 75,
   "id": "2739eaa3-0779-45ba-a1c3-b41513cf06ea",
   "metadata": {},
   "outputs": [
    {
     "data": {
      "text/plain": [
       "TensorShape([113471, 100])"
      ]
     },
     "execution_count": 75,
     "metadata": {},
     "output_type": "execute_result"
    }
   ],
   "source": [
    "X_test_attack_adv.shape"
   ]
  },
  {
   "cell_type": "code",
   "execution_count": 16,
   "id": "6afdbd2f-950d-4333-a4a7-c262006693a9",
   "metadata": {},
   "outputs": [],
   "source": [
    "from scapy.all import (\n",
    "    PcapWriter, Ether, IP, IPv6, UDP, TCP, Raw, Dot3, LLC, EAPOL,\n",
    "    ARP, conf\n",
    ")\n",
    "from scapy.contrib.gtp import GTP_U_Header\n",
    "import numpy as np\n",
    "\n",
    "# Optional imports used for linktype inference on non-Ethernet pcaps\n",
    "try:\n",
    "    from scapy.layers.dot11 import RadioTap\n",
    "except Exception:\n",
    "    RadioTap = None\n",
    "\n",
    "try:\n",
    "    from scapy.layers.l2 import CookedLinux, Loopback\n",
    "except Exception:\n",
    "    CookedLinux = None\n",
    "    Loopback = None\n",
    "\n",
    "\n",
    "def is_control_or_non_ip(pkt):\n",
    "    \"\"\"Return True for frames we should skip outright (ARP, STP, EAPOL, LOOP, etc.).\"\"\"\n",
    "    # Non-IP L2 control/management frames\n",
    "    if pkt.haslayer(ARP):\n",
    "        return True\n",
    "    if pkt.haslayer(EAPOL):\n",
    "        return True\n",
    "    # STP often shows up as 802.3 + LLC + STP; Scapy may not always name it \"STP\"\n",
    "    if pkt.haslayer(LLC):\n",
    "        # Heuristic: STP uses LLC DSAP/SSAP = 0x42 (BPDU). If present, skip.\n",
    "        llc = pkt[LLC]\n",
    "        if getattr(llc, \"dsap\", None) == 0x42 or getattr(llc, \"ssap\", None) == 0x42:\n",
    "            return True\n",
    "    # Loopback frames (pcap \"LOOP/Null\") — nothing to patch here\n",
    "    if Loopback is not None and pkt.haslayer(Loopback):\n",
    "        return True\n",
    "    # If there is no IP nor IPv6 anywhere (e.g., pure L2 protocol), skip\n",
    "    if not (pkt.haslayer(IP) or pkt.haslayer(IPv6) or pkt.haslayer(GTP_U_Header)):\n",
    "        return True\n",
    "    return False\n",
    "\n",
    "\n",
    "def get_inner_scope(pkt):\n",
    "    \"\"\"\n",
    "    Return the 'scope' we should modify:\n",
    "    - If GTP-U present: its payload (typically inner IP).\n",
    "    - Otherwise the packet itself.\n",
    "    \"\"\"\n",
    "    scope = pkt\n",
    "    if pkt.haslayer(GTP_U_Header):\n",
    "        scope = pkt[GTP_U_Header].payload\n",
    "    return scope\n",
    "\n",
    "\n",
    "def _get_l4(scope):\n",
    "    \"\"\"Return (l4_layer, is_tcp, is_udp) if TCP/UDP present; else (None, False, False).\"\"\"\n",
    "    if scope.haslayer(TCP):\n",
    "        return scope[TCP], True, False\n",
    "    if scope.haslayer(UDP):\n",
    "        return scope[UDP], False, True\n",
    "    return None, False, False\n",
    "\n",
    "\n",
    "def _payload_bytes(l4):\n",
    "    \"\"\"\n",
    "    Safely extract current L4 payload as bytes even when a higher protocol\n",
    "    (DNS/QUIC/….) is dissected (i.e., no Raw layer).\n",
    "    \"\"\"\n",
    "    if l4 is None:\n",
    "        return b\"\"\n",
    "    # If a Raw layer is directly present, use it\n",
    "    raw = l4.getlayer(Raw)\n",
    "    if raw is not None and isinstance(raw.load, (bytes, bytearray)):\n",
    "        return bytes(raw.load)\n",
    "    # Otherwise take bytes of the entire payload object (Scapy will serialize it)\n",
    "    return bytes(l4.payload) if l4.payload is not None else b\"\"\n",
    "\n",
    "\n",
    "def _set_payload_bytes(l4, new_payload_bytes):\n",
    "    \"\"\"\n",
    "    Replace the L4 payload with a Raw(new_payload_bytes). This discards any decoded\n",
    "    higher-layer view (DNS/QUIC/etc.), which is fine for adversarial patching.\n",
    "    \"\"\"\n",
    "    # Remove existing payload and replace with fresh Raw\n",
    "    # Using .remove_payload() avoids double-encapsulation\n",
    "    try:\n",
    "        l4.remove_payload()\n",
    "    except Exception:\n",
    "        pass\n",
    "    l4.add_payload(Raw(load=new_payload_bytes))\n",
    "\n",
    "\n",
    "def _delete_checksums(scope, pkt):\n",
    "    \"\"\"Delete checksums so Scapy recomputes them on serialization.\"\"\"\n",
    "    try:\n",
    "        if scope.haslayer(IP) and hasattr(scope[IP], \"chksum\"):\n",
    "            del scope[IP].chksum\n",
    "    except Exception:\n",
    "        pass\n",
    "    try:\n",
    "        if scope.haslayer(IPv6) and hasattr(scope[IPv6], \"plen\"):\n",
    "            # IPv6 has no header checksum; leave plen alone (Scapy will set it).\n",
    "            pass\n",
    "    except Exception:\n",
    "        pass\n",
    "    try:\n",
    "        if scope.haslayer(TCP) and hasattr(scope[TCP], \"chksum\"):\n",
    "            del scope[TCP].chksum\n",
    "    except Exception:\n",
    "        pass\n",
    "    try:\n",
    "        if scope.haslayer(UDP) and hasattr(scope[UDP], \"chksum\"):\n",
    "            del scope[UDP].chksum\n",
    "    except Exception:\n",
    "        pass\n",
    "    # If we patched inside GTP-U carried over UDP on the outer IP, outer UDP chksum must be reset\n",
    "    try:\n",
    "        if pkt.haslayer(UDP) and hasattr(pkt[UDP], \"chksum\"):\n",
    "            del pkt[UDP].chksum\n",
    "    except Exception:\n",
    "        pass\n",
    "\n",
    "\n",
    "def patch_payload_bytes(pkt, adv_bytes, *, skip_quic=True, min_udp_len=1):\n",
    "    \"\"\"\n",
    "    Patch the first min(len(payload), len(adv_bytes)) bytes of the TCP/UDP payload in-place.\n",
    "    - skip_quic=True: don't tamper with QUIC (often encrypted; patching breaks sessions badly).\n",
    "    - min_udp_len: skip trivial keep-alives like UDP Len=4 if set > 4 (you can tune this).\n",
    "    Returns a patched copy or None if the packet is to be skipped.\n",
    "    \"\"\"\n",
    "    if is_control_or_non_ip(pkt):\n",
    "        return None\n",
    "\n",
    "    pkt = pkt.copy()\n",
    "    scope = get_inner_scope(pkt)\n",
    "    l4, is_tcp, is_udp = _get_l4(scope)\n",
    "    if l4 is None:\n",
    "        return None\n",
    "\n",
    "    # Optional: skip QUIC (typically UDP port 443, 784, 853? main one is 443)\n",
    "    if skip_quic and is_udp:\n",
    "        sport = int(getattr(l4, \"sport\", 0) or 0)\n",
    "        dport = int(getattr(l4, \"dport\", 0) or 0)\n",
    "        if 443 in (sport, dport):\n",
    "            return None\n",
    "\n",
    "    payload = _payload_bytes(l4)\n",
    "    if not payload:\n",
    "        # TCP ACKs with Len=0, empty UDP, etc.\n",
    "        return None\n",
    "\n",
    "    # Skip tiny UDP keepalives if desired\n",
    "    if is_udp and len(payload) < min_udp_len:\n",
    "        return None\n",
    "\n",
    "    # Ensure adv_bytes is bytes\n",
    "    adv_bytes = np.asarray(adv_bytes, dtype=np.uint8).ravel().tobytes()\n",
    "\n",
    "    # Patch into a bytearray and reassign as Raw\n",
    "    patched = bytearray(payload)\n",
    "    n = min(len(patched), len(adv_bytes))\n",
    "    patched[:n] = adv_bytes[:n]\n",
    "    _set_payload_bytes(l4, bytes(patched))\n",
    "\n",
    "    # Recompute checksums (inner + outer)\n",
    "    _delete_checksums(scope, pkt)\n",
    "    return pkt\n",
    "\n",
    "\n",
    "def _infer_linktype(p0):\n",
    "    \"\"\"\n",
    "    Infer pcap linktype (DLT_*). This is best-effort; choose the one that matches the capture.\n",
    "    \"\"\"\n",
    "    # Ethernet\n",
    "    if p0.haslayer(Ether):\n",
    "        return 1  # DLT_EN10MB\n",
    "    # 802.11 with radiotap\n",
    "    if RadioTap is not None and p0.haslayer(RadioTap):\n",
    "        return 127  # DLT_IEEE802_11_RADIO\n",
    "    # Linux cooked capture (SLL / SLL2)\n",
    "    if CookedLinux is not None and p0.haslayer(CookedLinux):\n",
    "        # Scapy tends to use SLL (DLT 113). SLL2 is 276 but rarer.\n",
    "        return 113  # DLT_LINUX_SLL\n",
    "    # Loopback / Null\n",
    "    if Loopback is not None and p0.haslayer(Loopback):\n",
    "        return 0  # DLT_NULL\n",
    "    # Fallback to Ethernet\n",
    "    return 1\n",
    "\n",
    "\n",
    "def save_patched_packets(original_packets, x_adv_uint8, output_path,\n",
    "                         *, skip_quic=True, min_udp_len=1, verbose=True):\n",
    "    \"\"\"\n",
    "    Iterate packets + corresponding adversarial bytes and write patched ones to a pcap.\n",
    "    Skips non-app/control frames common in IoT traces.\n",
    "    \"\"\"\n",
    "    assert len(original_packets) >= 1, \"original_packets must be non-empty\"\n",
    "    writer = PcapWriter(output_path, linktype=_infer_linktype(original_packets[0]), sync=True)\n",
    "\n",
    "    total = saved = skipped = 0\n",
    "    for orig_pkt, adv in zip(original_packets, x_adv_uint8):\n",
    "        total += 1\n",
    "        pkt = patch_payload_bytes(orig_pkt, adv, skip_quic=skip_quic, min_udp_len=min_udp_len)\n",
    "        if pkt is None:\n",
    "            skipped += 1\n",
    "            continue\n",
    "        writer.write(pkt)\n",
    "        saved += 1\n",
    "\n",
    "    writer.close()\n",
    "    if verbose:\n",
    "        print(f\"✅ Saved {saved}/{total} IoT-patched packets to {output_path} (skipped {skipped})\")\n"
   ]
  },
  {
   "cell_type": "code",
   "execution_count": 84,
   "id": "eb45522a-0cb0-41f1-8897-516a3f420de0",
   "metadata": {},
   "outputs": [
    {
     "name": "stdout",
     "output_type": "stream",
     "text": [
      "✅ Saved 96183/113471 IoT-patched packets to C:\\Users\\ulami\\Desktop\\datasety\\CIC_IOT_pcap\\fgsm_full_modified2.pcap (skipped 17288)\n"
     ]
    }
   ],
   "source": [
    "assert len(packets_attack_test) == len(x_adv_uint8)\n",
    "save_patched_packets(\n",
    "    packets_attack_test,\n",
    "    x_adv_uint8,\n",
    "    r\"C:\\Users\\ulami\\Desktop\\datasety\\CIC_IOT_pcap\\fgsm_full_modified2.pcap\"\n",
    ")\n"
   ]
  },
  {
   "cell_type": "code",
   "execution_count": 79,
   "id": "ad4e4b67-63dc-450c-aede-ea2cdf942004",
   "metadata": {},
   "outputs": [],
   "source": [
    "# x_adv_normalized: output of fgsm_attack (normalized)\n",
    "x_adv_uint8 = (X_test_attack_adv.numpy() * 255).astype(np.uint8)\n",
    "\n",
    "X_test_attack_adv_np = (\n",
    "    X_test_attack_adv.numpy() if tf.is_tensor(X_test_attack_adv) else np.asarray(X_test_attack_adv)\n",
    ")\n",
    "X_test_attack_adv_np = X_test_attack_adv_np[..., np.newaxis]\n",
    "\n",
    "# Stack with normal test samples\n",
    "X_test = np.vstack((X_test_normal, X_test_attack_adv_np))\n",
    "y_test = np.hstack((y_test_normal, y_attack_test))\n"
   ]
  },
  {
   "cell_type": "code",
   "execution_count": 30,
   "id": "3f16023a-ba71-483a-ba62-3dda516a0717",
   "metadata": {},
   "outputs": [],
   "source": [
    "X_test = np.vstack((X_test_normal, X_test_attack_adv))\n",
    "y_test = np.hstack((y_test_normal, y_attack_test))"
   ]
  },
  {
   "cell_type": "code",
   "execution_count": 31,
   "id": "5aa2aba2-985c-49f7-8eb4-f872aa9e5add",
   "metadata": {},
   "outputs": [
    {
     "name": "stdout",
     "output_type": "stream",
     "text": [
      "16248/16248 ━━━━━━━━━━━━━━━━━━━━ 31s 2ms/step\n",
      "Accuracy: 0.84\n",
      "Precision: 0.95\n",
      "Recall: 0.30\n"
     ]
    }
   ],
   "source": [
    "import numpy as np\n",
    "from sklearn.metrics import accuracy_score, precision_score, recall_score, confusion_matrix, ConfusionMatrixDisplay\n",
    "import matplotlib.pyplot as plt\n",
    "\n",
    "# Get predictions\n",
    "y_pred = model.predict(X_test)\n",
    "y_pred = (y_pred > 0.5).astype(int)  # Convert probabilities to binary\n",
    "\n",
    "accuracy = accuracy_score(y_test, y_pred)\n",
    "precision = precision_score(y_test, y_pred)\n",
    "recall = recall_score(y_test, y_pred)\n",
    "\n",
    "# Print the results\n",
    "print(f\"Accuracy: {accuracy:.2f}\")\n",
    "print(f\"Precision: {precision:.2f}\")\n",
    "print(f\"Recall: {recall:.2f}\")"
   ]
  },
  {
   "cell_type": "code",
   "execution_count": 32,
   "id": "b275a6b7-7304-4078-9751-88f2c419ba98",
   "metadata": {},
   "outputs": [
    {
     "data": {
      "image/png": "[encoded data removed]",
      "text/plain": [
       "<Figure size 640x480 with 2 Axes>"
      ]
     },
     "metadata": {},
     "output_type": "display_data"
    },
    {
     "name": "stdout",
     "output_type": "stream",
     "text": [
      "                precision    recall  f1-score   support\n",
      "\n",
      "Normal Traffic       0.84      1.00      0.91    406465\n",
      "        Attack       0.95      0.30      0.45    113471\n",
      "\n",
      "      accuracy                           0.84    519936\n",
      "     macro avg       0.89      0.65      0.68    519936\n",
      "  weighted avg       0.86      0.84      0.81    519936\n",
      "\n"
     ]
    }
   ],
   "source": [
    "from sklearn.metrics import classification_report\n",
    "\n",
    "cm = confusion_matrix(y_test, y_pred)\n",
    "\n",
    "disp = ConfusionMatrixDisplay(confusion_matrix=cm)\n",
    "disp.plot(cmap='Blues')\n",
    "plt.show()\n",
    "\n",
    "# Print detailed classification report\n",
    "print(classification_report(y_test, y_pred, target_names=['Normal Traffic', 'Attack']))"
   ]
  },
  {
   "cell_type": "markdown",
   "id": "89170391-98db-4705-817f-b8da3c6ef844",
   "metadata": {},
   "source": [
    "# FGSM - targeted byte positions only"
   ]
  },
  {
   "cell_type": "code",
   "execution_count": 77,
   "id": "1d6e527e-3d7c-4d0a-b032-2eb4e37a9ebe",
   "metadata": {},
   "outputs": [],
   "source": [
    "import numpy as np\n",
    "import tensorflow as tf\n",
    "\n",
    "def fgsm_attack_constrained_fields(\n",
    "    model,\n",
    "    X_attack,\n",
    "    y_true,\n",
    "    epsilon=0.01,\n",
    "    # byte indices (0-based) for the modifiable fields you specified\n",
    "    indices_single=(15, 46),          # ECN byte (but only 2 LSBs), TTL, NS flag byte\n",
    "    indices_pairs=((18,19), (34,35), (48,49)),  # ip.id, tcp.srcport, tcp.window_size\n",
    "):\n",
    "    \"\"\"\n",
    "    Perform FGSM on selected header bytes while enforcing protocol-valid constraints.\n",
    "\n",
    "    Args:\n",
    "        model: tf.keras model taking input shaped (N,100,1) with values in [0,1] (we normalize internally).\n",
    "        X_attack: np.ndarray of shape (N,100,1), dtype uint8, raw bytes [0..255].\n",
    "        y_true: ground-truth labels, shape (N,) or (N,1); binary {0,1}. We assume '1' = attack.\n",
    "        epsilon: FGSM step size in input-normalized units (i.e., for inputs scaled to [0,1]).\n",
    "        indices_single: tuple of single-byte indices we will perturb (ECN/TTL/NS; ECN & NS are post-processed).\n",
    "        indices_pairs: tuple of 2-tuples for 16-bit fields (ip.id, srcport, window size).\n",
    "\n",
    "    Returns:\n",
    "        x_adv_uint8: np.ndarray of shape (N,100,1), dtype uint8, adversarial bytes [0..255].\n",
    "    \"\"\"\n",
    "    # Ensure correct dtypes/shapes\n",
    "    x_bytes = X_attack.astype(np.uint8)\n",
    "    n, L, C = x_bytes.shape\n",
    "    assert L == 100 and C == 1, f\"Expected (N,100,1), got {x_bytes.shape}\"\n",
    "\n",
    "    # float32 for gradient computation\n",
    "    x_norm = x_bytes.astype(np.float32)\n",
    "    x_tensor = tf.convert_to_tensor(x_norm)\n",
    "    y_tensor = tf.convert_to_tensor(y_true, dtype=tf.float32)\n",
    "    y_tensor = tf.reshape(y_tensor, (-1, 1))\n",
    "\n",
    "    # Compute gradient of loss w.r.t. inputs\n",
    "    with tf.GradientTape() as tape:\n",
    "        tape.watch(x_tensor)\n",
    "        preds = model(x_tensor)\n",
    "        loss = tf.keras.losses.binary_crossentropy(y_tensor, preds)\n",
    "\n",
    "    grad = tape.gradient(loss, x_tensor)                   # shape (N,100,1)\n",
    "    signed_grad = tf.sign(grad)\n",
    "\n",
    "    # Build a mask that allows perturbations ONLY on the requested indices\n",
    "    mask = np.zeros_like(x_norm, dtype=np.float32)         # (N,100,1)\n",
    "\n",
    "    # Single-byte indices\n",
    "    for idx in indices_single:\n",
    "        mask[:, idx, 0] = 1.0\n",
    "\n",
    "    # Two-byte (16-bit) fields\n",
    "    for i, j in indices_pairs:\n",
    "        mask[:, i, 0] = 1.0\n",
    "        mask[:, j, 0] = 1.0\n",
    "\n",
    "    mask_tf = tf.convert_to_tensor(mask, dtype=tf.float32)\n",
    "\n",
    "    # FGSM step on allowed positions only\n",
    "    x_adv_norm = x_tensor + epsilon * signed_grad * mask_tf\n",
    "    x_adv_norm = tf.clip_by_value(x_adv_norm, 0.0, 1.0)\n",
    "\n",
    "    # Convert back to bytes\n",
    "    x_adv = tf.round(x_adv_norm * 255.0)\n",
    "    x_adv = tf.clip_by_value(x_adv, 0.0, 255.0)\n",
    "    x_adv_uint8 = x_adv.numpy().astype(np.uint8)\n",
    "\n",
    "    # -------- Post-processing to enforce protocol constraints --------\n",
    "\n",
    "    # We need numpy views of gradients too (for ECN/NS decisions)\n",
    "    sgn = signed_grad.numpy()\n",
    "\n",
    "    # 1) ip.dsfield.ecn at byte 15: keep DSCP (upper 6 bits) from ORIGINAL,\n",
    "    #    adjust only the ECN code (lower 2 bits) by ±1 based on grad sign.\n",
    "    idx_ecn = 15\n",
    "    orig_dscp = (x_bytes[:, idx_ecn, 0] >> 2).astype(np.uint8)     # upper 6 bits\n",
    "    orig_ecn  = (x_bytes[:, idx_ecn, 0] & 0b11).astype(np.uint8)   # lower 2 bits\n",
    "    grad_ecn  = sgn[:, idx_ecn, 0]\n",
    "\n",
    "    ecn_new = orig_ecn.copy()\n",
    "    ecn_new = np.where(grad_ecn > 0, np.minimum(ecn_new + 1, 3), ecn_new)\n",
    "    ecn_new = np.where(grad_ecn < 0, np.maximum(ecn_new - 1, 0), ecn_new)\n",
    "    x_adv_uint8[:, idx_ecn, 0] = ((orig_dscp << 2) | ecn_new).astype(np.uint8)\n",
    "\n",
    "    # 3) tcp.flags.ns at byte 46: force to {0,1}\n",
    "    idx_ns = 46\n",
    "    grad_ns = sgn[:, idx_ns, 0]\n",
    "    # If grad > 0 => 1; grad < 0 => 0; grad == 0 => keep original 0/1 (masked to LSB)\n",
    "    orig_ns = (x_bytes[:, idx_ns, 0] & 1).astype(np.uint8)\n",
    "    ns_new = orig_ns.copy()\n",
    "    ns_new = np.where(grad_ns > 0, 1, ns_new)\n",
    "    ns_new = np.where(grad_ns < 0, 0, ns_new)\n",
    "    x_adv_uint8[:, idx_ns, 0] = ns_new.astype(np.uint8)\n",
    "\n",
    "    # 4) tcp.srcport bytes 34–35: ensure 16-bit port in [1, 65535] (port 0 invalid)\n",
    "    i_sp, j_sp = 34, 35\n",
    "    sp = (x_adv_uint8[:, i_sp, 0].astype(np.uint16) << 8) | x_adv_uint8[:, j_sp, 0].astype(np.uint16)\n",
    "    sp = np.where(sp == 0, 1, sp)   # force nonzero\n",
    "    x_adv_uint8[:, i_sp, 0] = (sp >> 8).astype(np.uint8)\n",
    "    x_adv_uint8[:, j_sp, 0] = (sp & 0xFF).astype(np.uint8)\n",
    "\n",
    "    # 5) ip.id (18–19): no extra constraint needed (any 0..65535 valid)\n",
    "    # 6) tcp.window_size_value (48–49): no extra constraint needed (0..65535 valid)\n",
    "\n",
    "    # 6) tcp.window_size_value @ 48–49: force > 0  (i.e., [1..65535])\n",
    "    i_ws, j_ws = 48, 49\n",
    "    ws = (x_adv_uint8[:, i_ws, 0].astype(np.uint16) << 8) | x_adv_uint8[:, j_ws, 0].astype(np.uint16)\n",
    "    ws = np.where(ws == 0, 1, ws)\n",
    "    x_adv_uint8[:, i_ws, 0] = (ws >> 8).astype(np.uint8)\n",
    "    x_adv_uint8[:, j_ws, 0] = (ws & 0xFF).astype(np.uint8)\n",
    "\n",
    "    return x_adv_uint8\n"
   ]
  },
  {
   "cell_type": "code",
   "execution_count": 78,
   "id": "febcce77-15c5-4b4b-a7ce-b5a7cad3cb51",
   "metadata": {},
   "outputs": [
    {
     "data": {
      "text/plain": [
       "(113471, 100)"
      ]
     },
     "execution_count": 78,
     "metadata": {},
     "output_type": "execute_result"
    }
   ],
   "source": [
    "X_attack_test.shape"
   ]
  },
  {
   "cell_type": "code",
   "execution_count": 94,
   "id": "ac02bd17-108d-4a15-aa2a-27d43784dcef",
   "metadata": {},
   "outputs": [
    {
     "data": {
      "text/plain": [
       "(113471, 100, 1)"
      ]
     },
     "execution_count": 94,
     "metadata": {},
     "output_type": "execute_result"
    }
   ],
   "source": [
    "X_test_attack.shape"
   ]
  },
  {
   "cell_type": "code",
   "execution_count": 103,
   "id": "34b956f9-b57e-4db1-a097-e026ce5fd985",
   "metadata": {},
   "outputs": [],
   "source": [
    "# FGSM attack on selected bytes\n",
    "x_adv = fgsm_attack_constrained_fields(model, X_test_attack, y_attack_test, epsilon=0.1)\n"
   ]
  },
  {
   "cell_type": "code",
   "execution_count": 109,
   "id": "ed6638fa-cf0b-44e3-a5ba-bffab32ecfd2",
   "metadata": {},
   "outputs": [
    {
     "name": "stdout",
     "output_type": "stream",
     "text": [
      "(113471, 100, 1)\n"
     ]
    }
   ],
   "source": [
    "X_attack_adv = X_attack_adv[..., np.newaxis]\n",
    "print(X_attack_adv.shape)"
   ]
  },
  {
   "cell_type": "code",
   "execution_count": 110,
   "id": "875c7434-ef34-4364-b443-322cb889df2d",
   "metadata": {},
   "outputs": [],
   "source": [
    "# Stack with normal test samples\n",
    "X_adv_eval = x_adv.astype(np.float32) / 255.0\n",
    "X_test = np.vstack((X_test_normal, X_adv_eval))\n",
    "y_test = np.hstack((y_test_normal, y_attack_test))"
   ]
  },
  {
   "cell_type": "code",
   "execution_count": null,
   "id": "a3ac3e21-d6ef-428b-95d5-bbe80660cd2f",
   "metadata": {},
   "outputs": [],
   "source": []
  },
  {
   "cell_type": "code",
   "execution_count": 111,
   "id": "828ff721-cb62-4563-9538-9fca9a1c969e",
   "metadata": {},
   "outputs": [
    {
     "name": "stdout",
     "output_type": "stream",
     "text": [
      "16248/16248 ━━━━━━━━━━━━━━━━━━━━ 36s 2ms/step\n",
      "Accuracy: 0.78\n",
      "Precision: 0.27\n",
      "Recall: 0.01\n"
     ]
    }
   ],
   "source": [
    "import numpy as np\n",
    "from sklearn.metrics import accuracy_score, precision_score, recall_score, confusion_matrix, ConfusionMatrixDisplay\n",
    "import matplotlib.pyplot as plt\n",
    "\n",
    "# Get predictions\n",
    "y_pred = model.predict(X_test)\n",
    "y_pred = (y_pred > 0.5).astype(int)  # Convert probabilities to binary\n",
    "\n",
    "accuracy = accuracy_score(y_test, y_pred)\n",
    "precision = precision_score(y_test, y_pred)\n",
    "recall = recall_score(y_test, y_pred)\n",
    "\n",
    "# Print the results\n",
    "print(f\"Accuracy: {accuracy:.2f}\")\n",
    "print(f\"Precision: {precision:.2f}\")\n",
    "print(f\"Recall: {recall:.2f}\")"
   ]
  },
  {
   "cell_type": "code",
   "execution_count": 112,
   "id": "1dd7ce84-d09e-4846-a8fe-ed6794be177c",
   "metadata": {},
   "outputs": [
    {
     "data": {
      "image/png": "[encoded data removed]",
      "text/plain": [
       "<Figure size 640x480 with 2 Axes>"
      ]
     },
     "metadata": {},
     "output_type": "display_data"
    },
    {
     "name": "stdout",
     "output_type": "stream",
     "text": [
      "                precision    recall  f1-score   support\n",
      "\n",
      "Normal Traffic       0.78      1.00      0.88    406465\n",
      "        Attack       0.27      0.01      0.01    113471\n",
      "\n",
      "      accuracy                           0.78    519936\n",
      "     macro avg       0.53      0.50      0.44    519936\n",
      "  weighted avg       0.67      0.78      0.69    519936\n",
      "\n"
     ]
    }
   ],
   "source": [
    "from sklearn.metrics import classification_report\n",
    "\n",
    "cm = confusion_matrix(y_test, y_pred)\n",
    "\n",
    "disp = ConfusionMatrixDisplay(confusion_matrix=cm)\n",
    "disp.plot(cmap='Blues')\n",
    "plt.show()\n",
    "\n",
    "# Print detailed classification report\n",
    "print(classification_report(y_test, y_pred, target_names=['Normal Traffic', 'Attack']))"
   ]
  },
  {
   "cell_type": "code",
   "execution_count": null,
   "id": "0bc380fc-9856-4787-915f-e4dd2a4e5bdc",
   "metadata": {},
   "outputs": [],
   "source": []
  },
  {
   "cell_type": "code",
   "execution_count": 84,
   "id": "87e2a227-387c-4c34-ae37-89a6d44455f7",
   "metadata": {},
   "outputs": [],
   "source": [
    "# pip install scapy\n",
    "from scapy.all import Ether, IP, TCP, wrpcap\n",
    "import numpy as np\n",
    "\n",
    "def _u16(msb, lsb):\n",
    "    return ((int(msb) & 0xFF) << 8) | (int(lsb) & 0xFF)\n",
    "\n",
    "def _clip(v, lo, hi):\n",
    "    return max(lo, min(int(v), hi))\n",
    "\n",
    "def apply_adv_vec_to_iot_packet(pkt, adv_vec_100, enforce_ephemeral_srcport=False):\n",
    "    if not (IP in pkt and TCP in pkt):\n",
    "        return pkt\n",
    "\n",
    "    v = np.asarray(adv_vec_100).squeeze()\n",
    "    if v.ndim != 1 or v.shape[0] < 50:\n",
    "        raise ValueError(f\"adv_vec_100 must be length 100 (got shape {v.shape})\")\n",
    "    if v.dtype.kind in (\"f\", \"F\"):\n",
    "        v = np.clip(np.rint(v * 255.0), 0, 255).astype(np.uint8)\n",
    "    else:\n",
    "        v = v.astype(np.uint8)\n",
    "\n",
    "    p = pkt.copy()\n",
    "\n",
    "    # --- ip.dsfield.ecn ---\n",
    "    orig_tos = int(getattr(p[IP], \"tos\", 0))\n",
    "    orig_dscp = (orig_tos & 0xFC)\n",
    "    ecn_new = int(v[15]) & 0x03\n",
    "    p[IP].tos = orig_dscp | ecn_new\n",
    "\n",
    "    # --- ip.id ---\n",
    "    p[IP].id = _u16(v[18], v[19])\n",
    "\n",
    "    # --- ip.ttl ---\n",
    "    # p[IP].ttl = _clip(v[22], 1, 255)\n",
    "\n",
    "    # --- tcp.srcport ---\n",
    "    sport = _u16(v[34], v[35]) or 1\n",
    "    if enforce_ephemeral_srcport and sport < 1024:\n",
    "        sport = 1024\n",
    "    p[TCP].sport = sport\n",
    "\n",
    "    # --- tcp.flags.NS ---\n",
    "    ns_new = int(v[46]) & 0x01\n",
    "    p[TCP].reserved = ns_new  # NS bit is stored in \"reserved\"\n",
    "\n",
    "    # --- tcp.window ---\n",
    "    win = _u16(v[48], v[49]) or 1\n",
    "    p[TCP].window = win\n",
    "\n",
    "    # --- Recompute header-dependent fields ---\n",
    "    for fld in (\"len\", \"chksum\"):\n",
    "        if hasattr(p[IP], fld):\n",
    "            delattr(p[IP], fld)\n",
    "    for fld in (\"dataofs\", \"chksum\"):\n",
    "        if hasattr(p[TCP], fld):\n",
    "            delattr(p[TCP], fld)\n",
    "\n",
    "    return Ether(bytes(p))\n",
    "\n",
    "\n",
    "def save_adv_iot_packets_to_pcap(packets_attack, x_adv, out_path=\"adversarial_attacks_fixed.pcap\",\n",
    "                                 enforce_ephemeral_srcport=False):\n",
    "    \"\"\"\n",
    "    x_adv: (N,100,1) or (N,100), uint8 or floats in [0,1].\n",
    "    Only IP/TCP packets are modified; others copied as-is.\n",
    "    \"\"\"\n",
    "    X = np.asarray(x_adv)\n",
    "    if X.ndim == 3 and X.shape[2] == 1:\n",
    "        X = X[:, :, 0]\n",
    "    elif X.ndim != 2 or X.shape[1] != 100:\n",
    "        raise ValueError(f\"x_adv must be (N,100,1) or (N,100); got {x_adv.shape}\")\n",
    "\n",
    "    N = X.shape[0]\n",
    "    out_packets, modified, total = [], 0, 0\n",
    "\n",
    "    for i, pkt in enumerate(packets_attack):\n",
    "        total += 1\n",
    "        if i < N:\n",
    "            new_pkt = apply_adv_vec_to_iot_packet(\n",
    "                pkt, X[i], enforce_ephemeral_srcport=enforce_ephemeral_srcport\n",
    "            )\n",
    "            if bytes(new_pkt) != bytes(pkt):\n",
    "                modified += 1\n",
    "            out_packets.append(new_pkt)\n",
    "        else:\n",
    "            out_packets.append(pkt)\n",
    "\n",
    "    wrpcap(out_path, out_packets)\n",
    "    print(f\"✅ Saved {len(out_packets)} packets to {out_path} \"\n",
    "          f\"(modified {modified}/{min(N,total)} IP/TCP packets).\")\n"
   ]
  },
  {
   "cell_type": "code",
   "execution_count": 106,
   "id": "51fd34da-c64d-4f07-8139-912f5960afdb",
   "metadata": {},
   "outputs": [
    {
     "name": "stdout",
     "output_type": "stream",
     "text": [
      "✅ Saved 113471 packets to C:\\Users\\ulami\\Desktop\\datasety\\CIC_IOT_pcap\\cic_iot_fgsm_fixed.pcap (modified 88328/113471 IP/TCP packets).\n"
     ]
    }
   ],
   "source": [
    "# x_adv: (113471, 100, 1), dtype uint8 or floats in [0,1]\n",
    "# packets_attack: loaded with scapy.rdpcap(...)\n",
    "save_adv_iot_packets_to_pcap(packets_attack_test, x_adv, r\"C:\\Users\\ulami\\Desktop\\datasety\\CIC_IOT_pcap\\cic_iot_fgsm_fixed.pcap\",\n",
    "                             enforce_ephemeral_srcport=True)  # optional\n"
   ]
  },
  {
   "cell_type": "code",
   "execution_count": 114,
   "id": "082691ab-940a-4a40-bed5-378bab06e4b5",
   "metadata": {},
   "outputs": [
    {
     "name": "stdout",
     "output_type": "stream",
     "text": [
      "Total packets: 113471\n",
      "TCP         88328 (77.84%)\n",
      "UDP         17867 (15.75%)\n",
      "IP_proto_47     2699 (2.38%)\n",
      "ARP          2483 (2.19%)\n",
      "Other        1126 (0.99%)\n",
      "ICMP          942 (0.83%)\n",
      "IP_proto_2       26 (0.02%)\n"
     ]
    }
   ],
   "source": [
    "from scapy.all import rdpcap, IP, TCP, UDP, ICMP, ARP\n",
    "from collections import Counter\n",
    "\n",
    "def analyze_attack_pcap(packets):\n",
    "    # packets = rdpcap(pcap_path)\n",
    "    proto_counts = Counter()\n",
    "\n",
    "    for pkt in packets:\n",
    "        if IP in pkt:\n",
    "            ip_proto = pkt[IP].proto\n",
    "            if ip_proto == 6:\n",
    "                proto_counts[\"TCP\"] += 1\n",
    "            elif ip_proto == 17:\n",
    "                proto_counts[\"UDP\"] += 1\n",
    "            elif ip_proto == 1:\n",
    "                proto_counts[\"ICMP\"] += 1\n",
    "            else:\n",
    "                proto_counts[f\"IP_proto_{ip_proto}\"] += 1\n",
    "        elif ARP in pkt:\n",
    "            proto_counts[\"ARP\"] += 1\n",
    "        else:\n",
    "            proto_counts[\"Other\"] += 1\n",
    "\n",
    "    total = sum(proto_counts.values())\n",
    "    print(f\"Total packets: {total}\")\n",
    "    for proto, cnt in proto_counts.most_common():\n",
    "        print(f\"{proto:<8} {cnt:>8} ({cnt/total:.2%})\")\n",
    "\n",
    "    return proto_counts\n",
    "\n",
    "# Example usage\n",
    "counts = analyze_attack_pcap(packets_attack_test)\n"
   ]
  },
  {
   "cell_type": "markdown",
   "id": "10b6e4e6-cb5c-4c1a-b0b0-f1e944359f1c",
   "metadata": {},
   "source": [
    "# ZOO"
   ]
  },
  {
   "cell_type": "code",
   "execution_count": 5,
   "id": "32a82a1a-6ffb-4f7b-a5c0-a03d725ee8b5",
   "metadata": {},
   "outputs": [],
   "source": [
    "from tensorflow.keras.models import load_model\n",
    "model = load_model(r\"C:\\Users\\ulami\\Desktop\\magisterka\\cic_iot_pcap_final.keras\")   "
   ]
  },
  {
   "cell_type": "code",
   "execution_count": 6,
   "id": "cd35eefc-f660-4c98-bf3d-c163ff6d729e",
   "metadata": {},
   "outputs": [],
   "source": [
    "import numpy as np\n",
    "import tensorflow as tf\n",
    "\n",
    "def _bce_loss_from_logits_or_probs(y_true, y_pred):\n",
    "    return tf.keras.losses.binary_crossentropy(y_true, y_pred, from_logits=False)\n",
    "\n",
    "def _model_loss(model, x, y_true, targeted=False, y_target=None):\n",
    "    x_tensor = tf.convert_to_tensor(x[None, ...], dtype=tf.float32)  # shape (1,H,W,1)\n",
    "    pred = model(x_tensor)\n",
    "\n",
    "    if targeted:\n",
    "        if y_target is None:\n",
    "            raise ValueError(\"y_target must be provided for targeted=True\")\n",
    "        loss = _bce_loss_from_logits_or_probs(tf.convert_to_tensor([[float(y_target)]], dtype=tf.float32), pred)\n",
    "        # targeted: minimize loss toward y_target\n",
    "        return loss[0]\n",
    "    else:\n",
    "        loss = _bce_loss_from_logits_or_probs(tf.convert_to_tensor([[float(y_true)]], dtype=tf.float32), pred)\n",
    "        # untargeted: maximize loss w.r.t true label -> return +loss\n",
    "        return loss[0]\n",
    "\n",
    "def _zoo_estimate_grad(model, x, y_true, coords, fd_eta, targeted=False, y_target=None):\n",
    "    \"\"\"\n",
    "    Symmetric finite-difference gradient estimate on selected flat coords.\n",
    "    Supports ANY x shape (e.g., (L,1), (L,), (H,W), (H,W,C)).\n",
    "    Returns grad_est with same shape as x (np.float32).\n",
    "    \"\"\"\n",
    "    x = x.astype(np.float32, copy=True)\n",
    "    orig_shape = x.shape\n",
    "\n",
    "    x_flat = x.reshape(-1)\n",
    "    grad_flat = np.zeros_like(x_flat, dtype=np.float32)\n",
    "\n",
    "    for idx in coords:\n",
    "        orig = x_flat[idx]\n",
    "\n",
    "        # +eta\n",
    "        x_flat[idx] = np.clip(orig + fd_eta, 0.0, 1.0)\n",
    "        f_plus = float(_model_loss(model, x_flat.reshape(orig_shape), y_true, targeted, y_target))\n",
    "\n",
    "        # -eta\n",
    "        x_flat[idx] = np.clip(orig - fd_eta, 0.0, 1.0)\n",
    "        f_minus = float(_model_loss(model, x_flat.reshape(orig_shape), y_true, targeted, y_target))\n",
    "\n",
    "        # restore\n",
    "        x_flat[idx] = orig\n",
    "\n",
    "        grad_flat[idx] = (f_plus - f_minus) / (2.0 * fd_eta)\n",
    "\n",
    "    return grad_flat.reshape(orig_shape)\n",
    "\n",
    "def zoo_attack(\n",
    "    model,\n",
    "    x,\n",
    "    y_true,\n",
    "    epsilon=0.2,\n",
    "    iters=300,\n",
    "    fd_eta=1e-3,\n",
    "    lr=1e-2,\n",
    "    coord_batch=1024,\n",
    "    targeted=False,\n",
    "    y_target=None,\n",
    "    rng=None,\n",
    "    verbose=False\n",
    "):\n",
    "    \"\"\"\n",
    "    ZOO attack for a single sample x with ANY shape (e.g., (L,1) for Conv1D).\n",
    "    L_inf constraint with radius epsilon around original x.\n",
    "    \"\"\"\n",
    "    if rng is None:\n",
    "        rng = np.random.default_rng()\n",
    "\n",
    "    x0 = x.astype(np.float32).copy()\n",
    "    x_adv = x0.copy()\n",
    "\n",
    "    flat_len = x_adv.size\n",
    "    all_coords = np.arange(flat_len)\n",
    "\n",
    "    for t in range(iters):\n",
    "        coords = rng.choice(all_coords, size=min(coord_batch, flat_len), replace=False)\n",
    "\n",
    "        g = _zoo_estimate_grad(model, x_adv, y_true, coords, fd_eta, targeted=targeted, y_target=y_target)\n",
    "\n",
    "        # Make sparse update only on sampled coords (optional)\n",
    "        if coord_batch < flat_len:\n",
    "            mask = np.zeros(flat_len, dtype=np.float32)\n",
    "            mask[coords] = 1.0\n",
    "            g = (g.reshape(-1) * mask).reshape(x_adv.shape)\n",
    "\n",
    "        step = -lr * np.sign(g) if targeted else lr * np.sign(g)\n",
    "        x_adv = x_adv + step\n",
    "\n",
    "        # Project to L_inf ball around x0 and clip to [0,1]\n",
    "        x_adv = np.clip(x_adv, x0 - epsilon, x0 + epsilon)\n",
    "        x_adv = np.clip(x_adv, 0.0, 1.0)\n",
    "\n",
    "        if verbose and (t % max(1, iters // 10) == 0 or t == iters - 1):\n",
    "            current_loss = float(_model_loss(model, x_adv, y_true, targeted, y_target))\n",
    "            print(f\"[ZOO] iter {t+1}/{iters} | loss={current_loss:.6f}\")\n",
    "\n",
    "    return x_adv.astype(np.float32)\n",
    "\n",
    "\n",
    "from tqdm import tqdm\n",
    "\n",
    "def zoo_attack_batch(\n",
    "    model,\n",
    "    X,\n",
    "    y,\n",
    "    epsilon=0.2,\n",
    "    iters=300,\n",
    "    fd_eta=1e-3,\n",
    "    lr=1e-2,\n",
    "    coord_batch=1024,\n",
    "    targeted=False,\n",
    "    y_target=None,\n",
    "    rng_seed=42,\n",
    "    verbose_every=0\n",
    "):\n",
    "    \"\"\"\n",
    "    Batched convenience wrapper over zoo_attack with tqdm progress bar.\n",
    "    X: (N,H,W,1) in [0,1]\n",
    "    y: (N,) in {0,1}\n",
    "    Returns X_adv of same shape.\n",
    "    \"\"\"\n",
    "    rng = np.random.default_rng(rng_seed)\n",
    "    X_adv = np.empty_like(X, dtype=np.float32)\n",
    "    N = X.shape[0]\n",
    "\n",
    "    for i in tqdm(range(N), desc=\"ZOO attack samples\"):\n",
    "        ve = (verbose_every and ((i % verbose_every) == 0))\n",
    "        X_adv[i] = zoo_attack(\n",
    "            model,\n",
    "            X[i],\n",
    "            float(y[i]),\n",
    "            epsilon=epsilon,\n",
    "            iters=iters,\n",
    "            fd_eta=fd_eta,\n",
    "            lr=lr,\n",
    "            coord_batch=coord_batch,\n",
    "            targeted=targeted,\n",
    "            y_target=(int(y_target) if y_target is not None else None),\n",
    "            rng=rng,\n",
    "            verbose=ve\n",
    "        )\n",
    "    return X_adv"
   ]
  },
  {
   "cell_type": "code",
   "execution_count": 10,
   "id": "a12b222e-253a-484c-8b5b-d8c8d172ac03",
   "metadata": {},
   "outputs": [
    {
     "name": "stderr",
     "output_type": "stream",
     "text": [
      "ZOO attack samples:   0%|          | 0/200 [00:00<?, ?it/s]"
     ]
    },
    {
     "name": "stdout",
     "output_type": "stream",
     "text": [
      "[ZOO] iter 1/20 | loss=0.155507\n",
      "[ZOO] iter 3/20 | loss=1.711522\n",
      "[ZOO] iter 5/20 | loss=0.799121\n",
      "[ZOO] iter 7/20 | loss=4.647688\n",
      "[ZOO] iter 9/20 | loss=2.709004\n",
      "[ZOO] iter 11/20 | loss=3.008100\n",
      "[ZOO] iter 13/20 | loss=2.431445\n",
      "[ZOO] iter 15/20 | loss=3.510044\n",
      "[ZOO] iter 17/20 | loss=5.975039\n",
      "[ZOO] iter 19/20 | loss=1.776927\n",
      "[ZOO] iter 20/20 | loss=6.085797\n"
     ]
    },
    {
     "name": "stderr",
     "output_type": "stream",
     "text": [
      "ZOO attack samples:  15%|█▌        | 30/200 [20:35<1:56:00, 40.94s/it]"
     ]
    },
    {
     "name": "stdout",
     "output_type": "stream",
     "text": [
      "[ZOO] iter 1/20 | loss=0.350857\n",
      "[ZOO] iter 3/20 | loss=1.224181\n",
      "[ZOO] iter 5/20 | loss=1.552119\n",
      "[ZOO] iter 7/20 | loss=0.336532\n",
      "[ZOO] iter 9/20 | loss=0.556263\n",
      "[ZOO] iter 11/20 | loss=0.033998\n",
      "[ZOO] iter 13/20 | loss=0.157852\n",
      "[ZOO] iter 15/20 | loss=1.370856\n",
      "[ZOO] iter 17/20 | loss=0.067885\n",
      "[ZOO] iter 19/20 | loss=2.551802\n",
      "[ZOO] iter 20/20 | loss=1.362765\n"
     ]
    },
    {
     "name": "stderr",
     "output_type": "stream",
     "text": [
      "ZOO attack samples:  30%|███       | 60/200 [37:49<1:02:58, 26.99s/it]"
     ]
    },
    {
     "name": "stdout",
     "output_type": "stream",
     "text": [
      "[ZOO] iter 1/20 | loss=0.992717\n",
      "[ZOO] iter 3/20 | loss=0.025178\n",
      "[ZOO] iter 5/20 | loss=0.052409\n",
      "[ZOO] iter 7/20 | loss=1.775919\n",
      "[ZOO] iter 9/20 | loss=0.015561\n",
      "[ZOO] iter 11/20 | loss=1.245658\n",
      "[ZOO] iter 13/20 | loss=0.009077\n",
      "[ZOO] iter 15/20 | loss=0.055373\n",
      "[ZOO] iter 17/20 | loss=0.140623\n",
      "[ZOO] iter 19/20 | loss=0.650638\n",
      "[ZOO] iter 20/20 | loss=2.397099\n"
     ]
    },
    {
     "name": "stderr",
     "output_type": "stream",
     "text": [
      "ZOO attack samples:  45%|████▌     | 90/200 [50:57<47:06, 25.70s/it]  "
     ]
    },
    {
     "name": "stdout",
     "output_type": "stream",
     "text": [
      "[ZOO] iter 1/20 | loss=2.063495\n",
      "[ZOO] iter 3/20 | loss=0.082715\n",
      "[ZOO] iter 5/20 | loss=0.001322\n",
      "[ZOO] iter 7/20 | loss=1.681185\n",
      "[ZOO] iter 9/20 | loss=0.494215\n",
      "[ZOO] iter 11/20 | loss=0.000472\n",
      "[ZOO] iter 13/20 | loss=2.889003\n",
      "[ZOO] iter 15/20 | loss=2.844508\n",
      "[ZOO] iter 17/20 | loss=0.135346\n",
      "[ZOO] iter 19/20 | loss=1.454152\n",
      "[ZOO] iter 20/20 | loss=2.018425\n"
     ]
    },
    {
     "name": "stderr",
     "output_type": "stream",
     "text": [
      "ZOO attack samples:  60%|██████    | 120/200 [1:03:45<34:15, 25.69s/it]"
     ]
    },
    {
     "name": "stdout",
     "output_type": "stream",
     "text": [
      "[ZOO] iter 1/20 | loss=1.793841\n",
      "[ZOO] iter 3/20 | loss=1.488161\n",
      "[ZOO] iter 5/20 | loss=5.342638\n",
      "[ZOO] iter 7/20 | loss=1.820903\n",
      "[ZOO] iter 9/20 | loss=2.494778\n",
      "[ZOO] iter 11/20 | loss=1.006344\n",
      "[ZOO] iter 13/20 | loss=6.941879\n",
      "[ZOO] iter 15/20 | loss=0.027617\n",
      "[ZOO] iter 17/20 | loss=3.040059\n",
      "[ZOO] iter 19/20 | loss=2.277922\n",
      "[ZOO] iter 20/20 | loss=0.022316\n"
     ]
    },
    {
     "name": "stderr",
     "output_type": "stream",
     "text": [
      "ZOO attack samples:  75%|███████▌  | 150/200 [1:16:38<21:54, 26.29s/it]"
     ]
    },
    {
     "name": "stdout",
     "output_type": "stream",
     "text": [
      "[ZOO] iter 1/20 | loss=2.042684\n",
      "[ZOO] iter 3/20 | loss=0.939097\n",
      "[ZOO] iter 5/20 | loss=0.126127\n",
      "[ZOO] iter 7/20 | loss=0.256995\n",
      "[ZOO] iter 9/20 | loss=1.076262\n",
      "[ZOO] iter 11/20 | loss=1.304017\n",
      "[ZOO] iter 13/20 | loss=1.671309\n",
      "[ZOO] iter 15/20 | loss=0.505328\n",
      "[ZOO] iter 17/20 | loss=0.012117\n",
      "[ZOO] iter 19/20 | loss=0.001051\n",
      "[ZOO] iter 20/20 | loss=0.237277\n"
     ]
    },
    {
     "name": "stderr",
     "output_type": "stream",
     "text": [
      "ZOO attack samples:  90%|█████████ | 180/200 [1:29:27<08:31, 25.56s/it]"
     ]
    },
    {
     "name": "stdout",
     "output_type": "stream",
     "text": [
      "[ZOO] iter 1/20 | loss=1.485460\n",
      "[ZOO] iter 3/20 | loss=2.729960\n",
      "[ZOO] iter 5/20 | loss=0.006767\n",
      "[ZOO] iter 7/20 | loss=0.721792\n",
      "[ZOO] iter 9/20 | loss=0.006186\n",
      "[ZOO] iter 11/20 | loss=0.058939\n",
      "[ZOO] iter 13/20 | loss=1.108698\n",
      "[ZOO] iter 15/20 | loss=0.004382\n",
      "[ZOO] iter 17/20 | loss=1.421982\n",
      "[ZOO] iter 19/20 | loss=2.376581\n",
      "[ZOO] iter 20/20 | loss=2.931780\n"
     ]
    },
    {
     "name": "stderr",
     "output_type": "stream",
     "text": [
      "ZOO attack samples: 100%|██████████| 200/200 [1:38:00<00:00, 29.40s/it]\n"
     ]
    }
   ],
   "source": [
    "\n",
    "X_test_attack_zoo = zoo_attack_batch(\n",
    "    model,\n",
    "    X_test_attack[:200],  \n",
    "    y_test_attack[:200], \n",
    "    epsilon=0.2,\n",
    "    iters=20,     \n",
    "    fd_eta=1e-3,\n",
    "    lr=0.1,\n",
    "    coord_batch=248, \n",
    "    targeted=False,\n",
    "    y_target=None,\n",
    "    rng_seed=123,\n",
    "    verbose_every=30\n",
    ")"
   ]
  },
  {
   "cell_type": "code",
   "execution_count": 18,
   "id": "fb398136-bd65-4407-9d02-de3523634cca",
   "metadata": {},
   "outputs": [
    {
     "name": "stdout",
     "output_type": "stream",
     "text": [
      "200\n",
      "✅ Saved 173/200 IoT-patched packets to C:\\Users\\ulami\\Desktop\\datasety\\CIC_IOT_pcap\\CIC_zoo_full_modified.pcap (skipped 27)\n"
     ]
    }
   ],
   "source": [
    "# x_adv_normalized: output of fgsm_attack (normalized)\n",
    "x_adv_uint8 = (X_test_attack_zoo * 255).astype(np.uint8)\n",
    "print(len(packets_attack_test[:200]))\n",
    "\n",
    "save_patched_packets(packets_attack_test[:200], x_adv_uint8, r\"C:\\Users\\ulami\\Desktop\\datasety\\CIC_IOT_pcap\\CIC_zoo_full_modified.pcap\")"
   ]
  },
  {
   "cell_type": "code",
   "execution_count": 19,
   "id": "76e381fe-ba15-45f7-85d5-1cf3442a9ff1",
   "metadata": {},
   "outputs": [
    {
     "data": {
      "text/plain": [
       "(113471, 100, 1)"
      ]
     },
     "execution_count": 19,
     "metadata": {},
     "output_type": "execute_result"
    }
   ],
   "source": [
    "X_test_attack.shape"
   ]
  },
  {
   "cell_type": "code",
   "execution_count": 11,
   "id": "d99fff33-8040-4d27-bfc1-69b94744fe64",
   "metadata": {},
   "outputs": [],
   "source": [
    "# ---- Rebuild the (scaled) test set and labels ----\n",
    "X_test_combined = np.vstack((X_test_normal, X_test_attack_zoo))\n",
    "y_test_combined = np.hstack((y_test_normal, y_test_attack[:200]))\n",
    "\n",
    "from sklearn.utils import shuffle\n",
    "X_test_adv_final, y_test_adv_final = shuffle(\n",
    "    X_test_combined, y_test_combined, random_state=1\n",
    ")"
   ]
  },
  {
   "cell_type": "code",
   "execution_count": 12,
   "id": "8a30d0d7-321e-4b62-9552-72f00fdd6a53",
   "metadata": {},
   "outputs": [
    {
     "name": "stdout",
     "output_type": "stream",
     "text": [
      "12709/12709 ━━━━━━━━━━━━━━━━━━━━ 19s 1ms/step\n",
      "Test Accuracy: 99.55%\n",
      "Test Precision: 99.92%\n",
      "Test Recall: 99.55%\n"
     ]
    }
   ],
   "source": [
    "from sklearn.metrics import accuracy_score, precision_score, recall_score\n",
    "\n",
    "# Get predictions\n",
    "y_pred = model.predict(X_test_adv_final)\n",
    "y_pred = (y_pred > 0.5).astype(int)\n",
    "\n",
    "# Calculate metrics\n",
    "accuracy = accuracy_score(y_test_adv_final, y_pred)\n",
    "precision = precision_score(y_test_adv_final, y_pred, average='weighted')\n",
    "recall = recall_score(y_test_adv_final, y_pred, average='weighted')\n",
    "\n",
    "# Print results\n",
    "print(f\"Test Accuracy: {accuracy * 100:.2f}%\")\n",
    "print(f\"Test Precision: {precision * 100:.2f}%\")\n",
    "print(f\"Test Recall: {recall * 100:.2f}%\")\n"
   ]
  },
  {
   "cell_type": "code",
   "execution_count": 13,
   "id": "b9254f36-bb65-421b-8007-71bfabed82fb",
   "metadata": {},
   "outputs": [
    {
     "data": {
      "image/png": "[encoded data removed]",
      "text/plain": [
       "<Figure size 600x400 with 2 Axes>"
      ]
     },
     "metadata": {},
     "output_type": "display_data"
    },
    {
     "name": "stdout",
     "output_type": "stream",
     "text": [
      "                precision    recall  f1-score   support\n",
      "\n",
      "Normal Traffic       1.00      1.00      1.00    406465\n",
      "        Attack       0.04      0.35      0.07       200\n",
      "\n",
      "      accuracy                           1.00    406665\n",
      "     macro avg       0.52      0.67      0.53    406665\n",
      "  weighted avg       1.00      1.00      1.00    406665\n",
      "\n"
     ]
    }
   ],
   "source": [
    "import matplotlib.pyplot as plt\n",
    "import seaborn as sns\n",
    "from sklearn.metrics import confusion_matrix, classification_report\n",
    "\n",
    "# Compute confusion matrix\n",
    "cm = confusion_matrix(y_test_adv_final, y_pred)\n",
    "\n",
    "# Plot the confusion matrix\n",
    "plt.figure(figsize=(6, 4))\n",
    "sns.heatmap(cm, annot=True, fmt='d', cmap='Blues', xticklabels=['Normal Traffic (0)', 'Attack (1)'], yticklabels=['Normal Traffic (0)', 'Attack (1)'])\n",
    "plt.xlabel('Predicted')\n",
    "plt.ylabel('Actual')\n",
    "plt.title('Confusion Matrix')\n",
    "plt.show()\n",
    "\n",
    "# Print detailed classification report\n",
    "print(classification_report(y_test_adv_final, y_pred, target_names=['Normal Traffic', 'Attack']))\n"
   ]
  },
  {
   "cell_type": "code",
   "execution_count": null,
   "id": "aca1d714-ae13-49f7-b2f5-e5f328c95176",
   "metadata": {},
   "outputs": [],
   "source": []
  }
 ],
 "metadata": {
  "kernelspec": {
   "display_name": "Python 3 (ipykernel)",
   "language": "python",
   "name": "python3"
  },
  "language_info": {
   "codemirror_mode": {
    "name": "ipython",
    "version": 3
   },
   "file_extension": ".py",
   "mimetype": "text/x-python",
   "name": "python",
   "nbconvert_exporter": "python",
   "pygments_lexer": "ipython3",
   "version": "3.10.16"
  }
 },
 "nbformat": 4,
 "nbformat_minor": 5
}
