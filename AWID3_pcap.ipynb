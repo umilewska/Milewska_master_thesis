{
 "cells": [
  {
   "cell_type": "code",
   "execution_count": 1,
   "id": "e61d377c-02d1-498c-9171-809dc5fb6999",
   "metadata": {
    "jupyter": {
     "is_executing": true
    }
   },
   "outputs": [],
   "source": [
    "import numpy as np\n",
    "import tensorflow as tf\n",
    "from scapy.all import rdpcap\n",
    "from sklearn.model_selection import train_test_split"
   ]
  },
  {
   "cell_type": "code",
   "execution_count": 5,
   "id": "e638b5fb-97a1-4f0f-a962-7abc574bc9a1",
   "metadata": {},
   "outputs": [],
   "source": [
    "from scapy.all import rdpcap, IP, Ether, CookedLinux\n",
    "from scapy.layers.dot11 import Dot11\n",
    "import os \n",
    "import numpy as np\n",
    "\n",
    "ZERO_MAC = \"00:00:00:00:00:00\"\n",
    "\n",
    "def _zero_mac(val=ZERO_MAC):\n",
    "    return val\n",
    "\n",
    "def _anonymize_wifi_addrs(pkt):\n",
    "    if Dot11 not in pkt:\n",
    "        return\n",
    "    d11 = pkt[Dot11]\n",
    "    # Zero any 802.11 address fields that exist on this frame\n",
    "    for f in (\"addr1\", \"addr2\", \"addr3\", \"addr4\"):\n",
    "        if hasattr(d11, f) and getattr(d11, f):\n",
    "            setattr(d11, f, _zero_mac())\n",
    "\n",
    "def remove_ip(packet):\n",
    "    # Wi-Fi (802.11): zero all MAC-like addresses (RA/TA/SA/DA/BSSID)\n",
    "    _anonymize_wifi_addrs(packet)\n",
    "\n",
    "    # Ethernet / Linux SLL\n",
    "    if Ether in packet:\n",
    "        packet[Ether].src = _zero_mac()\n",
    "        packet[Ether].dst = _zero_mac()\n",
    "        # scapy will recalc L2/L3 checksums on serialization if deleted at L3/L4\n",
    "    elif CookedLinux in packet:\n",
    "        # Some scapy versions expose 'addr' instead of 'src'; be defensive\n",
    "        if hasattr(packet[CookedLinux], \"src\"):\n",
    "            packet[CookedLinux].src = _zero_mac()\n",
    "        if hasattr(packet[CookedLinux], \"addr\"):\n",
    "            packet[CookedLinux].addr = bytes.fromhex(ZERO_MAC.replace(\":\", \"\"))\n",
    "\n",
    "    # L3 / L4\n",
    "    if IP in packet:\n",
    "        packet[IP].src = '0.0.0.0'\n",
    "        packet[IP].dst = '0.0.0.0'\n",
    "        if hasattr(packet[IP], \"chksum\"):\n",
    "            del packet[IP].chksum\n",
    "        if packet.haslayer(\"TCP\") and hasattr(packet[\"TCP\"], \"chksum\"):\n",
    "            del packet[\"TCP\"].chksum\n",
    "        elif packet.haslayer(\"UDP\") and hasattr(packet[\"UDP\"], \"chksum\"):\n",
    "            del packet[\"UDP\"].chksum\n",
    "    return packet\n",
    "\n",
    "def packet_to_bytes(pkt, max_len):\n",
    "    pkt = remove_ip(pkt)\n",
    "    raw = bytes(pkt)\n",
    "    return raw[:max_len] if len(raw) > max_len else raw.ljust(max_len, b'\\x00')\n",
    "\n",
    "def extract_raw_bytes_from_folder(folder_path, max_len=100):\n",
    "    all_features = []\n",
    "    for file in os.listdir(folder_path):\n",
    "        if file.lower().endswith('.pcap'):\n",
    "            file_path = os.path.join(folder_path, file)\n",
    "            print(f\"Processing {file_path}\")\n",
    "            packets = rdpcap(file_path)\n",
    "            features = [packet_to_bytes(pkt, max_len) for pkt in packets]\n",
    "            all_features.extend(features)\n",
    "    return np.array([np.frombuffer(x, dtype=np.uint8) for x in all_features])\n"
   ]
  },
  {
   "cell_type": "code",
   "execution_count": 6,
   "id": "13c4df2d-3769-40ed-901b-bedfab7a28f4",
   "metadata": {},
   "outputs": [
    {
     "name": "stdout",
     "output_type": "stream",
     "text": [
      "Processing C:\\Users\\ulami\\Desktop\\datasety\\AWID3_pcap\\attack-merged\\attack_new.pcap\n"
     ]
    }
   ],
   "source": [
    "from scapy.all import rdpcap, wrpcap\n",
    "\n",
    "def extract_raw_bytes_and_save_from_folder(folder_path, max_len=100, save_pcap_path=None):\n",
    "    all_features = []\n",
    "    all_packets = []\n",
    "\n",
    "    for file in os.listdir(folder_path):\n",
    "        if file.lower().endswith('.pcap'):\n",
    "            file_path = os.path.join(folder_path, file)\n",
    "            print(f\"Processing {file_path}\")\n",
    "            packets = rdpcap(file_path)\n",
    "            for pkt in packets:\n",
    "                pkt = remove_ip(pkt)\n",
    "                all_packets.append(pkt)\n",
    "                raw = bytes(pkt)\n",
    "                raw_padded = raw.ljust(max_len, b'\\x00')[:max_len]\n",
    "                all_features.append(np.frombuffer(raw_padded, dtype=np.uint8))\n",
    "\n",
    "    if save_pcap_path:\n",
    "        wrpcap(save_pcap_path, all_packets)\n",
    "\n",
    "    return np.array(all_features), all_packets  # X_attack, packets_attack\n",
    "\n",
    "\n",
    "attack_folder = r\"C:\\Users\\ulami\\Desktop\\datasety\\AWID3_pcap\\attack-merged\"\n",
    "X_attack, packets_attack = extract_raw_bytes_and_save_from_folder(attack_folder, save_pcap_path=r\"C:\\Users\\ulami\\Desktop\\datasety\\AWID3_pcap\\anonymized_attack.pcap\")"
   ]
  },
  {
   "cell_type": "code",
   "execution_count": 11,
   "id": "d488c776-9438-44ae-97ad-21d4c1b3d91b",
   "metadata": {},
   "outputs": [
    {
     "data": {
      "text/plain": [
       "(332376, 100)"
      ]
     },
     "execution_count": 11,
     "metadata": {},
     "output_type": "execute_result"
    }
   ],
   "source": [
    "X_attack.shape"
   ]
  },
  {
   "cell_type": "code",
   "execution_count": null,
   "id": "28f4d591-a092-46af-8059-3c195343bbb8",
   "metadata": {},
   "outputs": [
    {
     "name": "stdout",
     "output_type": "stream",
     "text": [
      "Processing C:\\Users\\ulami\\Desktop\\datasety\\AWID3_pcap\\normal\\reAssoc_normal_frames.pcap\n"
     ]
    }
   ],
   "source": [
    "normal_folder = r\"C:\\Users\\ulami\\Desktop\\datasety\\AWID3_pcap\\normal\"\n",
    "\n",
    "# Extract and label\n",
    "X_normal = extract_raw_bytes_from_folder(normal_folder)\n",
    "# X_attack = extract_raw_bytes_from_folder(attack_folder)\n",
    "\n",
    "y_normal = np.zeros(X_normal.shape[0])\n",
    "y_attack = np.ones(X_attack.shape[0])\n",
    "\n",
    "# Combine data and labels\n",
    "X = np.vstack((X_normal, X_attack))\n",
    "y = np.hstack((y_normal, y_attack))"
   ]
  },
  {
   "cell_type": "code",
   "execution_count": 12,
   "id": "9a6cbfdc-cce0-4c2b-b5c1-2d7ce1db834e",
   "metadata": {},
   "outputs": [
    {
     "data": {
      "text/plain": [
       "(1838436, 100)"
      ]
     },
     "execution_count": 12,
     "metadata": {},
     "output_type": "execute_result"
    }
   ],
   "source": [
    "X_normal.shape"
   ]
  },
  {
   "cell_type": "code",
   "execution_count": 13,
   "id": "1dbdf035-5a16-4ce4-a90c-5ec103cab6cf",
   "metadata": {},
   "outputs": [
    {
     "data": {
      "text/plain": [
       "(2170812, 100)"
      ]
     },
     "execution_count": 13,
     "metadata": {},
     "output_type": "execute_result"
    }
   ],
   "source": [
    "X.shape"
   ]
  },
  {
   "cell_type": "code",
   "execution_count": 14,
   "id": "a003ef82-1595-4750-a4db-da024845f6df",
   "metadata": {},
   "outputs": [],
   "source": [
    "# Combine for full dataset\n",
    "X_all = np.vstack((X_normal, X_attack))\n",
    "y_all = np.hstack((y_normal, y_attack))\n",
    "\n",
    "# Normalize data before splitting\n",
    "X_all = X_all.astype(np.float32) / 255.0\n",
    "\n",
    "attack_start_idx = len(X_normal)\n",
    "all_indices = np.arange(len(X_all))\n",
    "\n",
    "# Split dataset\n",
    "X_train, X_test, y_train, y_test, idx_train, idx_test = train_test_split(\n",
    "    X_all, y_all, all_indices, test_size=0.2, random_state=42, stratify=y_all\n",
    ")\n",
    "\n",
    "# CNN reshape\n",
    "X_train = X_train[..., np.newaxis]\n",
    "X_test = X_test[..., np.newaxis]"
   ]
  },
  {
   "cell_type": "code",
   "execution_count": null,
   "id": "31ca0de2-7662-4562-ab65-11cd7546eff9",
   "metadata": {},
   "outputs": [],
   "source": []
  },
  {
   "cell_type": "code",
   "execution_count": 17,
   "id": "9320a216-830e-46f7-bba1-7be808b3a656",
   "metadata": {},
   "outputs": [],
   "source": [
    "from tensorflow.keras.models import load_model\n",
    "final_model = load_model(r\"C:\\Users\\ulami\\Desktop\\magisterka\\models_final\\AWID_csv_final2.keras\")   "
   ]
  },
  {
   "cell_type": "code",
   "execution_count": 18,
   "id": "d89ff7c0-3415-4260-ba7a-eb47b31b0392",
   "metadata": {},
   "outputs": [
    {
     "data": {
      "text/html": [
       "<pre style=\"white-space:pre;overflow-x:auto;line-height:normal;font-family:Menlo,'DejaVu Sans Mono',consolas,'Courier New',monospace\"><span style=\"font-weight: bold\">Model: \"sequential_182\"</span>\n",
       "</pre>\n"
      ],
      "text/plain": [
       "\u001b[1mModel: \"sequential_182\"\u001b[0m\n"
      ]
     },
     "metadata": {},
     "output_type": "display_data"
    },
    {
     "data": {
      "text/html": [
       "<pre style=\"white-space:pre;overflow-x:auto;line-height:normal;font-family:Menlo,'DejaVu Sans Mono',consolas,'Courier New',monospace\">┏━━━━━━━━━━━━━━━━━━━━━━━━━━━━━━━━━┳━━━━━━━━━━━━━━━━━━━━━━━━┳━━━━━━━━━━━━━━━┓\n",
       "┃<span style=\"font-weight: bold\"> Layer (type)                    </span>┃<span style=\"font-weight: bold\"> Output Shape           </span>┃<span style=\"font-weight: bold\">       Param # </span>┃\n",
       "┡━━━━━━━━━━━━━━━━━━━━━━━━━━━━━━━━━╇━━━━━━━━━━━━━━━━━━━━━━━━╇━━━━━━━━━━━━━━━┩\n",
       "│ dense_977 (<span style=\"color: #0087ff; text-decoration-color: #0087ff\">Dense</span>)               │ (<span style=\"color: #00d7ff; text-decoration-color: #00d7ff\">None</span>, <span style=\"color: #00af00; text-decoration-color: #00af00\">64</span>)             │           <span style=\"color: #00af00; text-decoration-color: #00af00\">320</span> │\n",
       "├─────────────────────────────────┼────────────────────────┼───────────────┤\n",
       "│ dense_978 (<span style=\"color: #0087ff; text-decoration-color: #0087ff\">Dense</span>)               │ (<span style=\"color: #00d7ff; text-decoration-color: #00d7ff\">None</span>, <span style=\"color: #00af00; text-decoration-color: #00af00\">64</span>)             │         <span style=\"color: #00af00; text-decoration-color: #00af00\">4,160</span> │\n",
       "├─────────────────────────────────┼────────────────────────┼───────────────┤\n",
       "│ dense_979 (<span style=\"color: #0087ff; text-decoration-color: #0087ff\">Dense</span>)               │ (<span style=\"color: #00d7ff; text-decoration-color: #00d7ff\">None</span>, <span style=\"color: #00af00; text-decoration-color: #00af00\">64</span>)             │         <span style=\"color: #00af00; text-decoration-color: #00af00\">4,160</span> │\n",
       "├─────────────────────────────────┼────────────────────────┼───────────────┤\n",
       "│ dense_980 (<span style=\"color: #0087ff; text-decoration-color: #0087ff\">Dense</span>)               │ (<span style=\"color: #00d7ff; text-decoration-color: #00d7ff\">None</span>, <span style=\"color: #00af00; text-decoration-color: #00af00\">64</span>)             │         <span style=\"color: #00af00; text-decoration-color: #00af00\">4,160</span> │\n",
       "├─────────────────────────────────┼────────────────────────┼───────────────┤\n",
       "│ dense_981 (<span style=\"color: #0087ff; text-decoration-color: #0087ff\">Dense</span>)               │ (<span style=\"color: #00d7ff; text-decoration-color: #00d7ff\">None</span>, <span style=\"color: #00af00; text-decoration-color: #00af00\">64</span>)             │         <span style=\"color: #00af00; text-decoration-color: #00af00\">4,160</span> │\n",
       "├─────────────────────────────────┼────────────────────────┼───────────────┤\n",
       "│ dense_982 (<span style=\"color: #0087ff; text-decoration-color: #0087ff\">Dense</span>)               │ (<span style=\"color: #00d7ff; text-decoration-color: #00d7ff\">None</span>, <span style=\"color: #00af00; text-decoration-color: #00af00\">1</span>)              │            <span style=\"color: #00af00; text-decoration-color: #00af00\">65</span> │\n",
       "└─────────────────────────────────┴────────────────────────┴───────────────┘\n",
       "</pre>\n"
      ],
      "text/plain": [
       "┏━━━━━━━━━━━━━━━━━━━━━━━━━━━━━━━━━┳━━━━━━━━━━━━━━━━━━━━━━━━┳━━━━━━━━━━━━━━━┓\n",
       "┃\u001b[1m \u001b[0m\u001b[1mLayer (type)                   \u001b[0m\u001b[1m \u001b[0m┃\u001b[1m \u001b[0m\u001b[1mOutput Shape          \u001b[0m\u001b[1m \u001b[0m┃\u001b[1m \u001b[0m\u001b[1m      Param #\u001b[0m\u001b[1m \u001b[0m┃\n",
       "┡━━━━━━━━━━━━━━━━━━━━━━━━━━━━━━━━━╇━━━━━━━━━━━━━━━━━━━━━━━━╇━━━━━━━━━━━━━━━┩\n",
       "│ dense_977 (\u001b[38;5;33mDense\u001b[0m)               │ (\u001b[38;5;45mNone\u001b[0m, \u001b[38;5;34m64\u001b[0m)             │           \u001b[38;5;34m320\u001b[0m │\n",
       "├─────────────────────────────────┼────────────────────────┼───────────────┤\n",
       "│ dense_978 (\u001b[38;5;33mDense\u001b[0m)               │ (\u001b[38;5;45mNone\u001b[0m, \u001b[38;5;34m64\u001b[0m)             │         \u001b[38;5;34m4,160\u001b[0m │\n",
       "├─────────────────────────────────┼────────────────────────┼───────────────┤\n",
       "│ dense_979 (\u001b[38;5;33mDense\u001b[0m)               │ (\u001b[38;5;45mNone\u001b[0m, \u001b[38;5;34m64\u001b[0m)             │         \u001b[38;5;34m4,160\u001b[0m │\n",
       "├─────────────────────────────────┼────────────────────────┼───────────────┤\n",
       "│ dense_980 (\u001b[38;5;33mDense\u001b[0m)               │ (\u001b[38;5;45mNone\u001b[0m, \u001b[38;5;34m64\u001b[0m)             │         \u001b[38;5;34m4,160\u001b[0m │\n",
       "├─────────────────────────────────┼────────────────────────┼───────────────┤\n",
       "│ dense_981 (\u001b[38;5;33mDense\u001b[0m)               │ (\u001b[38;5;45mNone\u001b[0m, \u001b[38;5;34m64\u001b[0m)             │         \u001b[38;5;34m4,160\u001b[0m │\n",
       "├─────────────────────────────────┼────────────────────────┼───────────────┤\n",
       "│ dense_982 (\u001b[38;5;33mDense\u001b[0m)               │ (\u001b[38;5;45mNone\u001b[0m, \u001b[38;5;34m1\u001b[0m)              │            \u001b[38;5;34m65\u001b[0m │\n",
       "└─────────────────────────────────┴────────────────────────┴───────────────┘\n"
      ]
     },
     "metadata": {},
     "output_type": "display_data"
    },
    {
     "data": {
      "text/html": [
       "<pre style=\"white-space:pre;overflow-x:auto;line-height:normal;font-family:Menlo,'DejaVu Sans Mono',consolas,'Courier New',monospace\"><span style=\"font-weight: bold\"> Total params: </span><span style=\"color: #00af00; text-decoration-color: #00af00\">51,077</span> (199.52 KB)\n",
       "</pre>\n"
      ],
      "text/plain": [
       "\u001b[1m Total params: \u001b[0m\u001b[38;5;34m51,077\u001b[0m (199.52 KB)\n"
      ]
     },
     "metadata": {},
     "output_type": "display_data"
    },
    {
     "data": {
      "text/html": [
       "<pre style=\"white-space:pre;overflow-x:auto;line-height:normal;font-family:Menlo,'DejaVu Sans Mono',consolas,'Courier New',monospace\"><span style=\"font-weight: bold\"> Trainable params: </span><span style=\"color: #00af00; text-decoration-color: #00af00\">17,025</span> (66.50 KB)\n",
       "</pre>\n"
      ],
      "text/plain": [
       "\u001b[1m Trainable params: \u001b[0m\u001b[38;5;34m17,025\u001b[0m (66.50 KB)\n"
      ]
     },
     "metadata": {},
     "output_type": "display_data"
    },
    {
     "data": {
      "text/html": [
       "<pre style=\"white-space:pre;overflow-x:auto;line-height:normal;font-family:Menlo,'DejaVu Sans Mono',consolas,'Courier New',monospace\"><span style=\"font-weight: bold\"> Non-trainable params: </span><span style=\"color: #00af00; text-decoration-color: #00af00\">0</span> (0.00 B)\n",
       "</pre>\n"
      ],
      "text/plain": [
       "\u001b[1m Non-trainable params: \u001b[0m\u001b[38;5;34m0\u001b[0m (0.00 B)\n"
      ]
     },
     "metadata": {},
     "output_type": "display_data"
    },
    {
     "data": {
      "text/html": [
       "<pre style=\"white-space:pre;overflow-x:auto;line-height:normal;font-family:Menlo,'DejaVu Sans Mono',consolas,'Courier New',monospace\"><span style=\"font-weight: bold\"> Optimizer params: </span><span style=\"color: #00af00; text-decoration-color: #00af00\">34,052</span> (133.02 KB)\n",
       "</pre>\n"
      ],
      "text/plain": [
       "\u001b[1m Optimizer params: \u001b[0m\u001b[38;5;34m34,052\u001b[0m (133.02 KB)\n"
      ]
     },
     "metadata": {},
     "output_type": "display_data"
    }
   ],
   "source": [
    "final_model.summary()"
   ]
  },
  {
   "cell_type": "code",
   "execution_count": null,
   "id": "a58a93d7-495d-45c0-8b23-af2a07fa39b4",
   "metadata": {},
   "outputs": [],
   "source": []
  },
  {
   "cell_type": "code",
   "execution_count": 15,
   "id": "6c656118-208a-4c8a-8090-fe7f0506bf8f",
   "metadata": {},
   "outputs": [],
   "source": [
    "from tensorflow.keras.models import Sequential\n",
    "from tensorflow.keras.layers import Input, Conv1D, MaxPooling1D, GlobalMaxPooling1D, Dropout, Dense\n",
    "from tensorflow.keras.optimizers import Adam\n",
    "\n",
    "def build_model(input_dim: int):\n",
    "    \"\"\"\n",
    "    Builds a 1D CNN.\n",
    "    \"\"\"\n",
    "    m = Sequential()\n",
    "    n_channels = 1\n",
    "    m.add(Input(shape=(input_dim, n_channels)))\n",
    "\n",
    "    for i in range(best_params['n_layers']):\n",
    "        filters = best_params.get(f\"n_units_l{i}\")            # use your existing units as conv filters\n",
    "        ksize   = 5\n",
    "        dr      = best_params.get(f\"dropout_l{i}\", 0.0)\n",
    "        poolsz  = best_params.get(f\"pool_size_l{i}\")          # set >1 to enable per-layer pooling\n",
    "\n",
    "        m.add(Conv1D(filters=filters, kernel_size=ksize,\n",
    "                     activation='relu', padding='same'))\n",
    "        if poolsz and poolsz > 1:\n",
    "            m.add(MaxPooling1D(pool_size=poolsz))\n",
    "        if dr and dr > 0:\n",
    "            m.add(Dropout(dr))\n",
    "\n",
    "    m.add(GlobalMaxPooling1D())\n",
    "    # m.add(Dense(32, activation='relu'))\n",
    "    m.add(Dense(1, activation='sigmoid'))\n",
    "\n",
    "    m.compile(optimizer=Adam(learning_rate=best_params['learning_rate']),\n",
    "              loss='binary_crossentropy',\n",
    "              metrics=['accuracy'])\n",
    "    return m\n"
   ]
  },
  {
   "cell_type": "code",
   "execution_count": 18,
   "id": "e381c609-ed6b-417b-a892-0fe2c6655140",
   "metadata": {},
   "outputs": [],
   "source": [
    "best_params = {\n",
    "    'epochs': 3,\n",
    "    'n_layers': 3,\n",
    "    'n_units_l0': 32, 'dropout_l0': 0.0,\n",
    "    # 'n_units_l1': 64, 'dropout_l1': 0.0,\n",
    "    'n_units_l1': 32, 'dropout_l1': 0.0,\n",
    "    'n_units_l2': 16, 'dropout_l2': 0.0,\n",
    "    # 'n_units_l4': 64, 'dropout_l4': 0.0,\n",
    "    'learning_rate': 1e-3,\n",
    "    'batch_size': 32\n",
    "}"
   ]
  },
  {
   "cell_type": "code",
   "execution_count": 21,
   "id": "d7a1b82c-f5b6-40f8-b71a-5806fbcd3f83",
   "metadata": {},
   "outputs": [],
   "source": [
    "model = build_model(input_dim=X_train.shape[1])"
   ]
  },
  {
   "cell_type": "code",
   "execution_count": 22,
   "id": "85e8871c-b1b0-4c3f-a5dc-971ea06623a9",
   "metadata": {},
   "outputs": [
    {
     "data": {
      "text/html": [
       "<pre style=\"white-space:pre;overflow-x:auto;line-height:normal;font-family:Menlo,'DejaVu Sans Mono',consolas,'Courier New',monospace\"><span style=\"font-weight: bold\">Model: \"sequential\"</span>\n",
       "</pre>\n"
      ],
      "text/plain": [
       "\u001b[1mModel: \"sequential\"\u001b[0m\n"
      ]
     },
     "metadata": {},
     "output_type": "display_data"
    },
    {
     "data": {
      "text/html": [
       "<pre style=\"white-space:pre;overflow-x:auto;line-height:normal;font-family:Menlo,'DejaVu Sans Mono',consolas,'Courier New',monospace\">┏━━━━━━━━━━━━━━━━━━━━━━━━━━━━━━━━━┳━━━━━━━━━━━━━━━━━━━━━━━━┳━━━━━━━━━━━━━━━┓\n",
       "┃<span style=\"font-weight: bold\"> Layer (type)                    </span>┃<span style=\"font-weight: bold\"> Output Shape           </span>┃<span style=\"font-weight: bold\">       Param # </span>┃\n",
       "┡━━━━━━━━━━━━━━━━━━━━━━━━━━━━━━━━━╇━━━━━━━━━━━━━━━━━━━━━━━━╇━━━━━━━━━━━━━━━┩\n",
       "│ conv1d (<span style=\"color: #0087ff; text-decoration-color: #0087ff\">Conv1D</span>)                 │ (<span style=\"color: #00d7ff; text-decoration-color: #00d7ff\">None</span>, <span style=\"color: #00af00; text-decoration-color: #00af00\">100</span>, <span style=\"color: #00af00; text-decoration-color: #00af00\">64</span>)        │           <span style=\"color: #00af00; text-decoration-color: #00af00\">384</span> │\n",
       "├─────────────────────────────────┼────────────────────────┼───────────────┤\n",
       "│ conv1d_1 (<span style=\"color: #0087ff; text-decoration-color: #0087ff\">Conv1D</span>)               │ (<span style=\"color: #00d7ff; text-decoration-color: #00d7ff\">None</span>, <span style=\"color: #00af00; text-decoration-color: #00af00\">100</span>, <span style=\"color: #00af00; text-decoration-color: #00af00\">64</span>)        │        <span style=\"color: #00af00; text-decoration-color: #00af00\">20,544</span> │\n",
       "├─────────────────────────────────┼────────────────────────┼───────────────┤\n",
       "│ conv1d_2 (<span style=\"color: #0087ff; text-decoration-color: #0087ff\">Conv1D</span>)               │ (<span style=\"color: #00d7ff; text-decoration-color: #00d7ff\">None</span>, <span style=\"color: #00af00; text-decoration-color: #00af00\">100</span>, <span style=\"color: #00af00; text-decoration-color: #00af00\">64</span>)        │        <span style=\"color: #00af00; text-decoration-color: #00af00\">20,544</span> │\n",
       "├─────────────────────────────────┼────────────────────────┼───────────────┤\n",
       "│ conv1d_3 (<span style=\"color: #0087ff; text-decoration-color: #0087ff\">Conv1D</span>)               │ (<span style=\"color: #00d7ff; text-decoration-color: #00d7ff\">None</span>, <span style=\"color: #00af00; text-decoration-color: #00af00\">100</span>, <span style=\"color: #00af00; text-decoration-color: #00af00\">32</span>)        │        <span style=\"color: #00af00; text-decoration-color: #00af00\">10,272</span> │\n",
       "├─────────────────────────────────┼────────────────────────┼───────────────┤\n",
       "│ global_max_pooling1d            │ (<span style=\"color: #00d7ff; text-decoration-color: #00d7ff\">None</span>, <span style=\"color: #00af00; text-decoration-color: #00af00\">32</span>)             │             <span style=\"color: #00af00; text-decoration-color: #00af00\">0</span> │\n",
       "│ (<span style=\"color: #0087ff; text-decoration-color: #0087ff\">GlobalMaxPooling1D</span>)            │                        │               │\n",
       "├─────────────────────────────────┼────────────────────────┼───────────────┤\n",
       "│ dense (<span style=\"color: #0087ff; text-decoration-color: #0087ff\">Dense</span>)                   │ (<span style=\"color: #00d7ff; text-decoration-color: #00d7ff\">None</span>, <span style=\"color: #00af00; text-decoration-color: #00af00\">1</span>)              │            <span style=\"color: #00af00; text-decoration-color: #00af00\">33</span> │\n",
       "└─────────────────────────────────┴────────────────────────┴───────────────┘\n",
       "</pre>\n"
      ],
      "text/plain": [
       "┏━━━━━━━━━━━━━━━━━━━━━━━━━━━━━━━━━┳━━━━━━━━━━━━━━━━━━━━━━━━┳━━━━━━━━━━━━━━━┓\n",
       "┃\u001b[1m \u001b[0m\u001b[1mLayer (type)                   \u001b[0m\u001b[1m \u001b[0m┃\u001b[1m \u001b[0m\u001b[1mOutput Shape          \u001b[0m\u001b[1m \u001b[0m┃\u001b[1m \u001b[0m\u001b[1m      Param #\u001b[0m\u001b[1m \u001b[0m┃\n",
       "┡━━━━━━━━━━━━━━━━━━━━━━━━━━━━━━━━━╇━━━━━━━━━━━━━━━━━━━━━━━━╇━━━━━━━━━━━━━━━┩\n",
       "│ conv1d (\u001b[38;5;33mConv1D\u001b[0m)                 │ (\u001b[38;5;45mNone\u001b[0m, \u001b[38;5;34m100\u001b[0m, \u001b[38;5;34m64\u001b[0m)        │           \u001b[38;5;34m384\u001b[0m │\n",
       "├─────────────────────────────────┼────────────────────────┼───────────────┤\n",
       "│ conv1d_1 (\u001b[38;5;33mConv1D\u001b[0m)               │ (\u001b[38;5;45mNone\u001b[0m, \u001b[38;5;34m100\u001b[0m, \u001b[38;5;34m64\u001b[0m)        │        \u001b[38;5;34m20,544\u001b[0m │\n",
       "├─────────────────────────────────┼────────────────────────┼───────────────┤\n",
       "│ conv1d_2 (\u001b[38;5;33mConv1D\u001b[0m)               │ (\u001b[38;5;45mNone\u001b[0m, \u001b[38;5;34m100\u001b[0m, \u001b[38;5;34m64\u001b[0m)        │        \u001b[38;5;34m20,544\u001b[0m │\n",
       "├─────────────────────────────────┼────────────────────────┼───────────────┤\n",
       "│ conv1d_3 (\u001b[38;5;33mConv1D\u001b[0m)               │ (\u001b[38;5;45mNone\u001b[0m, \u001b[38;5;34m100\u001b[0m, \u001b[38;5;34m32\u001b[0m)        │        \u001b[38;5;34m10,272\u001b[0m │\n",
       "├─────────────────────────────────┼────────────────────────┼───────────────┤\n",
       "│ global_max_pooling1d            │ (\u001b[38;5;45mNone\u001b[0m, \u001b[38;5;34m32\u001b[0m)             │             \u001b[38;5;34m0\u001b[0m │\n",
       "│ (\u001b[38;5;33mGlobalMaxPooling1D\u001b[0m)            │                        │               │\n",
       "├─────────────────────────────────┼────────────────────────┼───────────────┤\n",
       "│ dense (\u001b[38;5;33mDense\u001b[0m)                   │ (\u001b[38;5;45mNone\u001b[0m, \u001b[38;5;34m1\u001b[0m)              │            \u001b[38;5;34m33\u001b[0m │\n",
       "└─────────────────────────────────┴────────────────────────┴───────────────┘\n"
      ]
     },
     "metadata": {},
     "output_type": "display_data"
    },
    {
     "data": {
      "text/html": [
       "<pre style=\"white-space:pre;overflow-x:auto;line-height:normal;font-family:Menlo,'DejaVu Sans Mono',consolas,'Courier New',monospace\"><span style=\"font-weight: bold\"> Total params: </span><span style=\"color: #00af00; text-decoration-color: #00af00\">51,777</span> (202.25 KB)\n",
       "</pre>\n"
      ],
      "text/plain": [
       "\u001b[1m Total params: \u001b[0m\u001b[38;5;34m51,777\u001b[0m (202.25 KB)\n"
      ]
     },
     "metadata": {},
     "output_type": "display_data"
    },
    {
     "data": {
      "text/html": [
       "<pre style=\"white-space:pre;overflow-x:auto;line-height:normal;font-family:Menlo,'DejaVu Sans Mono',consolas,'Courier New',monospace\"><span style=\"font-weight: bold\"> Trainable params: </span><span style=\"color: #00af00; text-decoration-color: #00af00\">51,777</span> (202.25 KB)\n",
       "</pre>\n"
      ],
      "text/plain": [
       "\u001b[1m Trainable params: \u001b[0m\u001b[38;5;34m51,777\u001b[0m (202.25 KB)\n"
      ]
     },
     "metadata": {},
     "output_type": "display_data"
    },
    {
     "data": {
      "text/html": [
       "<pre style=\"white-space:pre;overflow-x:auto;line-height:normal;font-family:Menlo,'DejaVu Sans Mono',consolas,'Courier New',monospace\"><span style=\"font-weight: bold\"> Non-trainable params: </span><span style=\"color: #00af00; text-decoration-color: #00af00\">0</span> (0.00 B)\n",
       "</pre>\n"
      ],
      "text/plain": [
       "\u001b[1m Non-trainable params: \u001b[0m\u001b[38;5;34m0\u001b[0m (0.00 B)\n"
      ]
     },
     "metadata": {},
     "output_type": "display_data"
    }
   ],
   "source": [
    "model.summary()"
   ]
  },
  {
   "cell_type": "code",
   "execution_count": null,
   "id": "8ec93b0b-d359-473b-8970-70f58f08f5be",
   "metadata": {},
   "outputs": [],
   "source": []
  },
  {
   "cell_type": "code",
   "execution_count": 19,
   "id": "616e9cb8-edc7-4dac-935d-0f0d5793aa65",
   "metadata": {},
   "outputs": [
    {
     "name": "stdout",
     "output_type": "stream",
     "text": [
      "Epoch 1/3\n",
      "43417/43417 ━━━━━━━━━━━━━━━━━━━━ 123s 3ms/step - accuracy: 0.9803 - loss: 0.0565 - val_accuracy: 0.9975 - val_loss: 0.0082\n",
      "Epoch 2/3\n",
      "43417/43417 ━━━━━━━━━━━━━━━━━━━━ 122s 3ms/step - accuracy: 0.9981 - loss: 0.0062 - val_accuracy: 0.9989 - val_loss: 0.0042\n",
      "Epoch 3/3\n",
      "43417/43417 ━━━━━━━━━━━━━━━━━━━━ 122s 3ms/step - accuracy: 0.9988 - loss: 0.0040 - val_accuracy: 0.9985 - val_loss: 0.0040\n",
      "13568/13568 ━━━━━━━━━━━━━━━━━━━━ 14s 1ms/step\n"
     ]
    }
   ],
   "source": [
    "model = build_model(input_dim=X_train.shape[1])\n",
    "model.fit(\n",
    "    X_train, y_train,\n",
    "    epochs=best_params['epochs'],\n",
    "    batch_size=best_params['batch_size'],\n",
    "    validation_split=0.2,\n",
    "    verbose=1\n",
    ")\n",
    "\n",
    "test_preds = (model.predict(X_test, verbose=1).ravel() > 0.5).astype(int)"
   ]
  },
  {
   "cell_type": "code",
   "execution_count": 20,
   "id": "629faa7b-b1ff-4164-9745-a0938c4097ad",
   "metadata": {},
   "outputs": [
    {
     "name": "stdout",
     "output_type": "stream",
     "text": [
      "13568/13568 ━━━━━━━━━━━━━━━━━━━━ 15s 1ms/step\n",
      "Accuracy: 1.00\n",
      "Precision: 1.00\n",
      "Recall: 0.99\n"
     ]
    }
   ],
   "source": [
    "import numpy as np\n",
    "from sklearn.metrics import accuracy_score, precision_score, recall_score, confusion_matrix, ConfusionMatrixDisplay\n",
    "import matplotlib.pyplot as plt\n",
    "test_preds = (model.predict(X_test, verbose=1).ravel() > 0.5).astype(int)\n",
    "\n",
    "accuracy = accuracy_score(y_test, test_preds)\n",
    "precision = precision_score(y_test, test_preds)\n",
    "recall = recall_score(y_test, test_preds)\n",
    "\n",
    "# Print the results\n",
    "print(f\"Accuracy: {accuracy:.2f}\")\n",
    "print(f\"Precision: {precision:.2f}\")\n",
    "print(f\"Recall: {recall:.2f}\")"
   ]
  },
  {
   "cell_type": "code",
   "execution_count": null,
   "id": "1e423bfe-2240-43b6-ab2a-182386d28ebb",
   "metadata": {},
   "outputs": [],
   "source": []
  },
  {
   "cell_type": "code",
   "execution_count": 21,
   "id": "563f91da-ae4a-4ae3-8b58-672df4812556",
   "metadata": {},
   "outputs": [
    {
     "data": {
      "image/png": "[encoded data removed]",
      "text/plain": [
       "<Figure size 640x480 with 2 Axes>"
      ]
     },
     "metadata": {},
     "output_type": "display_data"
    },
    {
     "name": "stdout",
     "output_type": "stream",
     "text": [
      "                precision    recall  f1-score   support\n",
      "\n",
      "Normal Traffic       1.00      1.00      1.00    367688\n",
      "        Attack       1.00      0.99      1.00     66475\n",
      "\n",
      "      accuracy                           1.00    434163\n",
      "     macro avg       1.00      1.00      1.00    434163\n",
      "  weighted avg       1.00      1.00      1.00    434163\n",
      "\n"
     ]
    }
   ],
   "source": [
    "from sklearn.metrics import classification_report\n",
    "\n",
    "cm = confusion_matrix(y_test, test_preds)\n",
    "\n",
    "disp = ConfusionMatrixDisplay(confusion_matrix=cm)\n",
    "disp.plot(cmap='Blues')\n",
    "plt.show()\n",
    "\n",
    "# Print detailed classification report\n",
    "print(classification_report(y_test, test_preds, target_names=['Normal Traffic', 'Attack']))"
   ]
  },
  {
   "cell_type": "code",
   "execution_count": null,
   "id": "37959c6b-e0bc-4a37-b0dc-4c620d47ca4b",
   "metadata": {},
   "outputs": [],
   "source": []
  },
  {
   "cell_type": "code",
   "execution_count": null,
   "id": "63f1a0a7-539a-4152-8bad-8ad3c5749cb9",
   "metadata": {},
   "outputs": [],
   "source": []
  },
  {
   "cell_type": "code",
   "execution_count": 22,
   "id": "352b40d2-20ee-427b-bf3c-b3bb36034df2",
   "metadata": {},
   "outputs": [],
   "source": [
    "# Save the trained model\n",
    "model.save(\"awid_pcap_final.keras\")"
   ]
  },
  {
   "cell_type": "code",
   "execution_count": 1,
   "id": "9541b887-a991-456f-9a71-c4fbfa65e885",
   "metadata": {},
   "outputs": [],
   "source": [
    "from tensorflow.keras.models import load_model\n",
    "final_model = load_model(r\"C:\\Users\\ulami\\Desktop\\magisterka\\models_final\\awid_pcap_final.keras\")   "
   ]
  },
  {
   "cell_type": "markdown",
   "id": "417e61a0-ba37-40d5-a954-0dac822dd83c",
   "metadata": {},
   "source": [
    "# Integrated gradient"
   ]
  },
  {
   "cell_type": "code",
   "execution_count": 23,
   "id": "348993c8-2a71-4c44-ae46-8b0afa6028b0",
   "metadata": {},
   "outputs": [],
   "source": [
    "def compute_integrated_gradients(model, input_tensor, baseline=None, steps=50):\n",
    "    if baseline is None:\n",
    "        baseline = tf.zeros(shape=input_tensor.shape) # średnia / średnia normalnych / mediana normalnych ?? \n",
    "\n",
    "    interpolated_inputs = [\n",
    "        baseline + (float(i) / steps) * (input_tensor - baseline)\n",
    "        for i in range(steps + 1)\n",
    "    ]\n",
    "\n",
    "    grads = []\n",
    "    for inp in interpolated_inputs:\n",
    "        with tf.GradientTape() as tape:\n",
    "            tape.watch(inp)\n",
    "            pred = model(inp)\n",
    "        grad = tape.gradient(pred, inp)\n",
    "        grads.append(grad.numpy())\n",
    "\n",
    "    avg_grads = np.average(grads[:-1], axis=0)\n",
    "    integrated_grads = (input_tensor.numpy() - baseline.numpy()) * avg_grads\n",
    "    return integrated_grads.squeeze()\n",
    "\n",
    "def compute_ig_for_samples(model, X_subset, steps=50, max_samples=100, baseline=None):\n",
    "    attributions_list = []\n",
    "    for i in range(min(len(X_subset), max_samples)):\n",
    "        input_sample = tf.convert_to_tensor([X_subset[i]], dtype=tf.float32)\n",
    "        ig = compute_integrated_gradients(model, input_sample, baseline=baseline, steps=steps)\n",
    "        attributions_list.append(ig)\n",
    "    return np.array(attributions_list)\n",
    "\n",
    "# Separate test samples\n",
    "X_normal_test = X_test[y_test == 0]\n",
    "X_attack_test = X_test[y_test == 1]\n"
   ]
  },
  {
   "cell_type": "code",
   "execution_count": 24,
   "id": "c4a44faf-281f-48a3-a42e-2b7db8d11b29",
   "metadata": {},
   "outputs": [
    {
     "data": {
      "text/plain": [
       "(3676.88, 18384.4, 664.75, 3323.75)"
      ]
     },
     "execution_count": 24,
     "metadata": {},
     "output_type": "execute_result"
    }
   ],
   "source": [
    "a_normal_min = X_normal_test.shape[0] *0.01\n",
    "a_normal_max = X_normal_test.shape[0] *0.05\n",
    "\n",
    "a_attack_min = X_attack_test.shape[0] *0.01\n",
    "a_attack_max = X_attack_test.shape[0] *0.05\n",
    "\n",
    "a_normal_min, a_normal_max, a_attack_min, a_attack_max"
   ]
  },
  {
   "cell_type": "code",
   "execution_count": 25,
   "id": "a7e7297e-c766-4599-bf1e-041c982b0234",
   "metadata": {},
   "outputs": [],
   "source": [
    "import pandas as pd\n",
    "\n",
    "# Compute IG\n",
    "normal_attributions = compute_ig_for_samples(model, X_normal_test, max_samples=3000)\n",
    "attack_attributions = compute_ig_for_samples(model, X_attack_test, max_samples=1000)\n",
    "# overall_attributions = compute_ig_for_samples(model, X_test, max_samples=500)\n",
    "\n",
    "# Average IG\n",
    "avg_normal_ig = np.mean(normal_attributions, axis=0)\n",
    "avg_attack_ig = np.mean(attack_attributions, axis=0)\n",
    "# avg_all_ig = np.mean(overall_attributions, axis=0)\n"
   ]
  },
  {
   "cell_type": "code",
   "execution_count": 26,
   "id": "4a9d2fcf-c43d-42e6-a04d-1aaa39e7e567",
   "metadata": {},
   "outputs": [
    {
     "data": {
      "text/plain": [
       "(    Byte Index  Attribution (Normal Class)  Abs Attribution\n",
       " 43          43                   -0.409008         0.409008\n",
       " 52          52                    0.386484         0.386484\n",
       " 48          48                    0.242263         0.242263\n",
       " 51          51                   -0.234607         0.234607\n",
       " 60          60                    0.184939         0.184939\n",
       " 62          62                   -0.138615         0.138615\n",
       " 54          54                   -0.101175         0.101175\n",
       " 50          50                    0.086395         0.086395\n",
       " 42          42                    0.048616         0.048616\n",
       " 64          64                   -0.034755         0.034755\n",
       " 19          19                   -0.030617         0.030617\n",
       " 4            4                   -0.026803         0.026803\n",
       " 5            5                    0.026238         0.026238\n",
       " 30          30                   -0.026192         0.026192\n",
       " 77          77                    0.025536         0.025536\n",
       " 66          66                    0.024760         0.024760\n",
       " 2            2                    0.017572         0.017572\n",
       " 7            7                   -0.014485         0.014485\n",
       " 41          41                    0.014106         0.014106\n",
       " 26          26                   -0.011203         0.011203,\n",
       "     Byte Index  Attribution (Attack Class)  Abs Attribution\n",
       " 48          48                    0.237432         0.237432\n",
       " 43          43                    0.167206         0.167206\n",
       " 52          52                    0.108289         0.108289\n",
       " 26          26                    0.099758         0.099758\n",
       " 60          60                    0.092856         0.092856\n",
       " 84          84                    0.088196         0.088196\n",
       " 50          50                    0.078598         0.078598\n",
       " 62          62                   -0.078171         0.078171\n",
       " 85          85                    0.077223         0.077223\n",
       " 79          79                    0.044235         0.044235\n",
       " 42          42                    0.041489         0.041489\n",
       " 56          56                   -0.033674         0.033674\n",
       " 25          25                   -0.031557         0.031557\n",
       " 58          58                    0.030565         0.030565\n",
       " 40          40                    0.029887         0.029887\n",
       " 82          82                    0.019462         0.019462\n",
       " 41          41                    0.018543         0.018543\n",
       " 19          19                   -0.014898         0.014898\n",
       " 54          54                   -0.014054         0.014054\n",
       " 28          28                   -0.012365         0.012365)"
      ]
     },
     "execution_count": 26,
     "metadata": {},
     "output_type": "execute_result"
    }
   ],
   "source": [
    "# Normal\n",
    "df_normal = pd.DataFrame({\n",
    "    \"Byte Index\": np.arange(len(avg_normal_ig)),\n",
    "    \"Attribution (Normal Class)\": avg_normal_ig\n",
    "})\n",
    "df_normal[\"Abs Attribution\"] = np.abs(df_normal[\"Attribution (Normal Class)\"])\n",
    "df_normal_sorted = df_normal.sort_values(\"Abs Attribution\", ascending=False)\n",
    "\n",
    "# Attack\n",
    "df_attack = pd.DataFrame({\n",
    "    \"Byte Index\": np.arange(len(avg_attack_ig)),\n",
    "    \"Attribution (Attack Class)\": avg_attack_ig\n",
    "})\n",
    "df_attack[\"Abs Attribution\"] = np.abs(df_attack[\"Attribution (Attack Class)\"])\n",
    "df_attack_sorted = df_attack.sort_values(\"Abs Attribution\", ascending=False)\n",
    "\n",
    "# Display top 20\n",
    "df_normal_sorted.head(20), df_attack_sorted.head(20)"
   ]
  },
  {
   "cell_type": "code",
   "execution_count": 27,
   "id": "668049d1-6f4b-4f23-91f3-5e79669e33b9",
   "metadata": {},
   "outputs": [
    {
     "data": {
      "image/png": "[encoded data removed]",
      "text/plain": [
       "<Figure size 1400x600 with 1 Axes>"
      ]
     },
     "metadata": {},
     "output_type": "display_data"
    }
   ],
   "source": [
    "import matplotlib.pyplot as plt\n",
    "\n",
    "plt.figure(figsize=(14, 6))\n",
    "plt.plot(avg_normal_ig, label=\"Normal Class Attribution\", linestyle='--')\n",
    "plt.plot(avg_attack_ig, label=\"Attack Class Attribution\", linestyle='-')\n",
    "plt.title(\"Integrated Gradients per Byte (Normal vs Attack Class)\")\n",
    "plt.xlabel(\"Byte Index\")\n",
    "plt.ylabel(\"Attribution\")\n",
    "plt.legend()\n",
    "plt.grid(True)\n",
    "plt.tight_layout()\n",
    "plt.show()\n"
   ]
  },
  {
   "cell_type": "code",
   "execution_count": null,
   "id": "71d5fd1b-e2f0-419f-a912-5dca6108d4cc",
   "metadata": {},
   "outputs": [],
   "source": []
  },
  {
   "cell_type": "markdown",
   "id": "f1bd394e-749b-4be6-9d81-60b16e3756a8",
   "metadata": {},
   "source": [
    "# Baseline - mean"
   ]
  },
  {
   "cell_type": "code",
   "execution_count": 28,
   "id": "16a50112-3a8f-47de-a786-dcac2ff63520",
   "metadata": {},
   "outputs": [],
   "source": [
    "# mean of normal test samples as a baseline\n",
    "normal_mean = np.mean(X_normal_test, axis=0)\n",
    "baseline_tensor = tf.convert_to_tensor([normal_mean], dtype=tf.float32)\n",
    "\n",
    "normal_attributions = compute_ig_for_samples(model, X_normal_test, max_samples=3000, baseline=baseline_tensor)\n",
    "attack_attributions = compute_ig_for_samples(model, X_attack_test, max_samples=1000, baseline=baseline_tensor)\n"
   ]
  },
  {
   "cell_type": "code",
   "execution_count": 29,
   "id": "ef1b35b5-5526-44dd-9dd0-6d56e6115d6d",
   "metadata": {},
   "outputs": [],
   "source": [
    "# Average IG\n",
    "avg_normal_mean_ig = np.mean(normal_attributions, axis=0)\n",
    "avg_attack_mean_ig = np.mean(attack_attributions, axis=0)"
   ]
  },
  {
   "cell_type": "code",
   "execution_count": 30,
   "id": "60e7b89d-e9b5-4c31-ba7a-91eb9e7b8a2d",
   "metadata": {},
   "outputs": [
    {
     "data": {
      "text/plain": [
       "(    Byte Index  Attribution (Normal Class)  Abs Attribution\n",
       " 52          52                    0.864191         0.864191\n",
       " 43          43                   -0.789160         0.789160\n",
       " 62          62                   -0.484442         0.484442\n",
       " 51          51                   -0.427436         0.427436\n",
       " 49          49                    0.419192         0.419192\n",
       " 60          60                    0.248369         0.248369\n",
       " 54          54                    0.142205         0.142205\n",
       " 30          30                   -0.118927         0.118927\n",
       " 36          36                   -0.080992         0.080992\n",
       " 91          91                    0.079871         0.079871\n",
       " 64          64                    0.078533         0.078533\n",
       " 48          48                    0.067695         0.067695\n",
       " 26          26                    0.052311         0.052311\n",
       " 56          56                   -0.047071         0.047071\n",
       " 50          50                    0.045115         0.045115\n",
       " 42          42                    0.043210         0.043210\n",
       " 83          83                   -0.037509         0.037509\n",
       " 69          69                   -0.037322         0.037322\n",
       " 65          65                   -0.030153         0.030153\n",
       " 22          22                   -0.027699         0.027699,\n",
       "     Byte Index  Attribution (Attack Class)  Abs Attribution\n",
       " 52          52                    0.748961         0.748961\n",
       " 62          62                   -0.442839         0.442839\n",
       " 49          49                    0.327092         0.327092\n",
       " 48          48                    0.244439         0.244439\n",
       " 56          56                   -0.169598         0.169598\n",
       " 60          60                    0.129165         0.129165\n",
       " 36          36                   -0.113904         0.113904\n",
       " 22          22                   -0.097246         0.097246\n",
       " 91          91                    0.082264         0.082264\n",
       " 42          42                    0.076574         0.076574\n",
       " 43          43                   -0.072669         0.072669\n",
       " 50          50                    0.071283         0.071283\n",
       " 54          54                   -0.060155         0.060155\n",
       " 90          90                    0.049244         0.049244\n",
       " 65          65                   -0.044611         0.044611\n",
       " 30          30                    0.043108         0.043108\n",
       " 41          41                    0.041957         0.041957\n",
       " 26          26                    0.040557         0.040557\n",
       " 66          66                    0.036191         0.036191\n",
       " 86          86                    0.035009         0.035009)"
      ]
     },
     "execution_count": 30,
     "metadata": {},
     "output_type": "execute_result"
    }
   ],
   "source": [
    "# Normal\n",
    "df_normal_mean = pd.DataFrame({\n",
    "    \"Byte Index\": np.arange(len(avg_normal_mean_ig)),\n",
    "    \"Attribution (Normal Class)\": avg_normal_mean_ig\n",
    "})\n",
    "df_normal_mean[\"Abs Attribution\"] = np.abs(df_normal_mean[\"Attribution (Normal Class)\"])\n",
    "df_normal_mean_sorted = df_normal_mean.sort_values(\"Abs Attribution\", ascending=False)\n",
    "\n",
    "# Attack\n",
    "df_attack_mean = pd.DataFrame({\n",
    "    \"Byte Index\": np.arange(len(avg_attack_mean_ig)),\n",
    "    \"Attribution (Attack Class)\": avg_attack_mean_ig\n",
    "})\n",
    "df_attack_mean[\"Abs Attribution\"] = np.abs(df_attack_mean[\"Attribution (Attack Class)\"])\n",
    "df_attack_mean_sorted = df_attack_mean.sort_values(\"Abs Attribution\", ascending=False)\n",
    "\n",
    "# Display top 20\n",
    "df_normal_mean_sorted.head(20), df_attack_mean_sorted.head(20)"
   ]
  },
  {
   "cell_type": "code",
   "execution_count": 31,
   "id": "772d775c-d62a-4509-a9a4-8b423e7e6e67",
   "metadata": {},
   "outputs": [
    {
     "data": {
      "image/png": "[encoded data removed]",
      "text/plain": [
       "<Figure size 1400x600 with 1 Axes>"
      ]
     },
     "metadata": {},
     "output_type": "display_data"
    },
    {
     "data": {
      "image/png": "[encoded data removed]",
      "text/plain": [
       "<Figure size 1400x600 with 1 Axes>"
      ]
     },
     "metadata": {},
     "output_type": "display_data"
    }
   ],
   "source": [
    "import matplotlib.pyplot as plt\n",
    "# baseline [0..0]\n",
    "plt.figure(figsize=(14, 6))\n",
    "plt.plot(avg_normal_ig, label=\"Normal Class Attribution\", linestyle='--')\n",
    "plt.plot(avg_attack_ig, label=\"Attack Class Attribution\", linestyle='-')\n",
    "plt.title(\"Integrated Gradients per Byte (Normal vs Attack Class)\")\n",
    "plt.xlabel(\"Byte Index\")\n",
    "plt.ylabel(\"Attribution\")\n",
    "plt.legend()\n",
    "plt.grid(True)\n",
    "plt.tight_layout()\n",
    "plt.show()\n",
    "\n",
    "# baseline mean\n",
    "plt.figure(figsize=(14, 6))\n",
    "plt.plot(avg_normal_mean_ig, label=\"Normal Class Attribution\", linestyle='--')\n",
    "plt.plot(avg_attack_mean_ig, label=\"Attack Class Attribution\", linestyle='-')\n",
    "plt.title(\"Integrated Gradients per Byte (Normal vs Attack Class)\")\n",
    "plt.xlabel(\"Byte Index\")\n",
    "plt.ylabel(\"Attribution\")\n",
    "plt.legend()\n",
    "plt.grid(True)\n",
    "plt.tight_layout()\n",
    "plt.show()\n"
   ]
  },
  {
   "cell_type": "code",
   "execution_count": null,
   "id": "a1247b41-efcb-4f85-8348-e8e52140a8cd",
   "metadata": {},
   "outputs": [],
   "source": []
  },
  {
   "cell_type": "code",
   "execution_count": null,
   "id": "6f3a33a8-0aea-47cd-b86b-1ccc37a7073c",
   "metadata": {},
   "outputs": [],
   "source": []
  },
  {
   "cell_type": "code",
   "execution_count": 98,
   "id": "d7cc0e9f-c4b4-4d42-8450-f902b6e61cc2",
   "metadata": {},
   "outputs": [
    {
     "name": "stdout",
     "output_type": "stream",
     "text": [
      "=== Field covering byte offset 18 (0-based) ===\n",
      "RadioTap.Header              : 66475\n",
      "\n",
      "Examples:\n",
      "\n",
      "RadioTap.Header\n",
      "  span=(0, 56), value=None\n",
      "  span=(0, 56), value=None\n",
      "  span=(0, 56), value=None\n",
      "  span=(0, 56), value=None\n",
      "  span=(0, 56), value=None\n"
     ]
    }
   ],
   "source": [
    "from collections import Counter, defaultdict\n",
    "from scapy.all import *\n",
    "from scapy.layers.dot11 import RadioTap, Dot11, Dot11QoS, LLC #, SNAP\n",
    "from scapy.layers.inet import SNAP   \n",
    "\n",
    "def radiotap_len(pkt):\n",
    "    if pkt.haslayer(RadioTap):\n",
    "        rt = pkt[RadioTap]\n",
    "        try:\n",
    "            return int(rt.len) if rt.len is not None else len(bytes(rt))\n",
    "        except Exception:\n",
    "            return len(bytes(rt))\n",
    "    return 0\n",
    "\n",
    "def dot11_segments(pkt, base_off=0):\n",
    "    \"\"\"\n",
    "    Return a list of (start, end_exclusive, label, getter) for the Dot11 header\n",
    "    (addresses, seq ctrl, QoS, etc.). `base_off` is the start offset of Dot11\n",
    "    within the whole packet (i.e., after Radiotap if present).\n",
    "    \"\"\"\n",
    "    segs = []\n",
    "    if not pkt.haslayer(Dot11):\n",
    "        return segs\n",
    "\n",
    "    d11 = pkt[Dot11]\n",
    "    cur = base_off\n",
    "\n",
    "    # Frame Control (2), Duration/ID (2)\n",
    "    segs.append((cur, cur+2, \"Dot11.FrameControl\", lambda p: None)); cur += 2\n",
    "    segs.append((cur, cur+2, \"Dot11.DurationID\", lambda p: None));   cur += 2\n",
    "\n",
    "    # Addr1, Addr2, Addr3\n",
    "    segs.append((cur, cur+6, \"Dot11.Addr1\", lambda p: p[Dot11].addr1)); cur += 6\n",
    "    segs.append((cur, cur+6, \"Dot11.Addr2\", lambda p: p[Dot11].addr2)); cur += 6\n",
    "    segs.append((cur, cur+6, \"Dot11.Addr3\", lambda p: p[Dot11].addr3)); cur += 6\n",
    "\n",
    "    # Sequence Control (2)\n",
    "    segs.append((cur, cur+2, \"Dot11.SeqCtrl\", lambda p: getattr(p[Dot11], \"SC\", None))); cur += 2\n",
    "\n",
    "    # Addr4 present if ToDS & FromDS both set\n",
    "    FC = getattr(d11, \"FCfield\", 0)\n",
    "    to_ds   = bool(FC & 0x01)\n",
    "    from_ds = bool(FC & 0x02)\n",
    "    if to_ds and from_ds:\n",
    "        segs.append((cur, cur+6, \"Dot11.Addr4\", lambda p: getattr(p[Dot11], \"addr4\", None)))\n",
    "        cur += 6\n",
    "\n",
    "    # QoS Control (2) if QoS subtype or Dot11QoS layer present\n",
    "    qos_present = pkt.haslayer(Dot11QoS) or (d11.type == 2 and d11.subtype in (8,9,10,11,12,13,14,15))\n",
    "    if qos_present:\n",
    "        segs.append((cur, cur+2, \"Dot11.QoS\", lambda p: p[Dot11QoS].fields if p.haslayer(Dot11QoS) else None))\n",
    "        cur += 2\n",
    "\n",
    "    # HT Control (4) if Order bit set (0x80) in FC\n",
    "    order_bit = bool(FC & 0x80)\n",
    "    if order_bit:\n",
    "        segs.append((cur, cur+4, \"Dot11.HTControl\", lambda p: None))\n",
    "        cur += 4\n",
    "\n",
    "    return segs\n",
    "\n",
    "def llc_snap_segments(pkt, base_off):\n",
    "    segs = []\n",
    "    if pkt.haslayer(LLC):\n",
    "        # LLC (3 bytes) + SNAP (5 bytes) if SNAP present\n",
    "        segs.append((base_off, base_off+3, \"LLC\", lambda p: (p[LLC].dsap, p[LLC].ssap, p[LLC].ctrl)))\n",
    "        base_off += 3\n",
    "        if pkt.haslayer(SNAP):\n",
    "            segs.append((base_off, base_off+3, \"SNAP.OUI\", lambda p: p[SNAP].OUI))\n",
    "            segs.append((base_off+3, base_off+5, \"SNAP.PID\", lambda p: p[SNAP].code))\n",
    "            base_off += 5\n",
    "    return segs\n",
    "\n",
    "def segments_for_packet(pkt):\n",
    "    \"\"\"\n",
    "    Build coarse segments for: Radiotap header, 802.11 header fields, LLC/SNAP, and the rest.\n",
    "    Returns list of (start, end_exclusive, label, getter).\n",
    "    \"\"\"\n",
    "    segs = []\n",
    "    rawlen = len(bytes(pkt))\n",
    "\n",
    "    # Radiotap\n",
    "    rt_len = radiotap_len(pkt)\n",
    "    if rt_len > 0:\n",
    "        segs.append((0, rt_len, \"RadioTap.Header\", lambda p: None))\n",
    "\n",
    "    # 802.11 header fields\n",
    "    segs.extend(dot11_segments(pkt, base_off=rt_len))\n",
    "\n",
    "    # LLC/SNAP (right after Dot11 header/QoS/HT if present)\n",
    "    # Determine where Dot11 header we built ends:\n",
    "    d11_end = max((end for start, end, label, _ in segs if label.startswith(\"Dot11\")), default=rt_len)\n",
    "    segs.extend(llc_snap_segments(pkt, base_off=d11_end))\n",
    "\n",
    "    # If payload is encrypted, mark the rest as encrypted\n",
    "    if pkt.haslayer(Dot11):\n",
    "        FC = getattr(pkt[Dot11], \"FCfield\", 0)\n",
    "        if FC & 0x40:  # Protected\n",
    "            segs.append((len(bytes(pkt)) - (4 if pkt.lastlayer().name == \"Dot11FCS\" else 0),\n",
    "                         rawlen, \"Dot11.EncryptedTail/MaybeFCS\", lambda p: None))\n",
    "        else:\n",
    "            # Mark remaining bytes as payload (best-effort)\n",
    "            header_end = max((end for start, end, _, _ in segs), default=0)\n",
    "            if header_end < rawlen:\n",
    "                segs.append((header_end, rawlen, \"Payload/NextLayer\", lambda p: None))\n",
    "    else:\n",
    "        # Non-802.11 fallback: just mark remaining bytes as payload\n",
    "        header_end = max((end for start, end, _, _ in segs), default=0)\n",
    "        if header_end < rawlen:\n",
    "            segs.append((header_end, rawlen, \"Payload/NextLayer\", lambda p: None))\n",
    "\n",
    "    # Coalesce/clip to rawlen just in case\n",
    "    clipped = []\n",
    "    for s, e, lab, g in segs:\n",
    "        s = max(0, min(s, rawlen))\n",
    "        e = max(0, min(e, rawlen))\n",
    "        if e > s:\n",
    "            clipped.append((s, e, lab, g))\n",
    "\n",
    "    clipped.sort(key=lambda t: t[0])\n",
    "    return clipped\n",
    "\n",
    "def field_covering_offset(pkt, offset0):\n",
    "    \"\"\"\n",
    "    Given a packet and a 0-based byte offset from the start of the captured frame,\n",
    "    return (label, value, start, end_exclusive) if that offset falls within a known segment.\n",
    "    \"\"\"\n",
    "    for s, e, lab, getter in segments_for_packet(pkt):\n",
    "        if s <= offset0 < e:\n",
    "            val = None\n",
    "            try:\n",
    "                val = getter(pkt) if getter is not None else None\n",
    "            except Exception:\n",
    "                val = None\n",
    "            return lab, val, s, e\n",
    "    return None, None, None, None\n",
    "\n",
    "def offset_field_stats(packets, offset, sample_max=5):\n",
    "    \"\"\"\n",
    "    For a list of packets, compute which header field spans the given offset.\n",
    "    Returns a Counter of labels and example values per label.\n",
    "    \"\"\"\n",
    "    counts = Counter()\n",
    "    examples = defaultdict(list)\n",
    "    for pkt in packets:\n",
    "        lab, val, s, e = field_covering_offset(pkt, offset)\n",
    "        if lab is None:\n",
    "            lab = \"Unknown/OutOfRange\"\n",
    "        counts[lab] += 1\n",
    "        if len(examples[lab]) < sample_max:\n",
    "            examples[lab].append({\"range\": (s, e), \"value\": val})\n",
    "    return counts, dict(examples)\n",
    "\n",
    "\n",
    "# For \"18th byte\" 1-based, use offset=17 instead.\n",
    "offset = 26\n",
    "counts, examples = offset_field_stats(packets_attack_test, offset=offset)\n",
    "\n",
    "print(\"=== Field covering byte offset 18 (0-based) ===\")\n",
    "for lab, cnt in counts.most_common():\n",
    "    print(f\"{lab:28s} : {cnt}\")\n",
    "\n",
    "print(\"\\nExamples:\")\n",
    "for lab, exs in examples.items():\n",
    "    print(f\"\\n{lab}\")\n",
    "    for ex in exs:\n",
    "        print(f\"  span={ex['range']}, value={ex['value']}\")\n"
   ]
  },
  {
   "cell_type": "code",
   "execution_count": 97,
   "id": "3a1a889e-9b24-43d9-8394-ed7841ba0570",
   "metadata": {},
   "outputs": [
    {
     "name": "stdout",
     "output_type": "stream",
     "text": [
      "Counter({'Radiotap.UnparsedTail': 59109, 'Radiotap.VHT': 7366})\n",
      "{'Radiotap.UnparsedTail': [{'range': (38, 56), 'info': None}, {'range': (34, 56), 'info': None}, {'range': (34, 56), 'info': None}, {'range': (34, 56), 'info': None}, {'range': (34, 56), 'info': None}], 'Radiotap.VHT': [{'range': (36, 48), 'info': None}, {'range': (36, 48), 'info': None}, {'range': (36, 48), 'info': None}, {'range': (36, 48), 'info': None}, {'range': (36, 48), 'info': None}]}\n"
     ]
    }
   ],
   "source": [
    "import struct\n",
    "from collections import Counter, defaultdict\n",
    "\n",
    "# ---- Radiotap field layout (bit -> (name, size, alignment)) ----\n",
    "# Common, widely used fields\n",
    "RT_FIELDS = {\n",
    "    0:  (\"TSFT\",                 8, 8),\n",
    "    1:  (\"Flags\",                1, 1),\n",
    "    2:  (\"Rate\",                 1, 1),\n",
    "    3:  (\"Channel\",              4, 2),   # 2 bytes freq + 2 bytes flags\n",
    "    4:  (\"FHSS\",                 2, 1),\n",
    "    5:  (\"dBm_AntSignal\",        1, 1),\n",
    "    6:  (\"dBm_AntNoise\",         1, 1),\n",
    "    7:  (\"Lock_Quality\",         2, 2),\n",
    "    8:  (\"Tx_Attenuation\",       2, 2),\n",
    "    9:  (\"dB_Tx_Attenuation\",    2, 2),\n",
    "    10: (\"dBm_Tx_Power\",         1, 1),\n",
    "    11: (\"Antenna\",              1, 1),\n",
    "    12: (\"dB_AntSignal\",         1, 1),\n",
    "    13: (\"dB_AntNoise\",          1, 1),\n",
    "    14: (\"Rx_Flags\",             2, 2),\n",
    "    15: (\"Tx_Flags\",             2, 2),\n",
    "    # Extras you’ll often see\n",
    "    19: (\"MCS\",                  3, 1),\n",
    "    20: (\"A_MPDU_Status\",        8, 4),\n",
    "    21: (\"VHT\",                 12, 2),\n",
    "    # Unknown bits (namespaces, vendor, HE, etc.) will be labeled generically\n",
    "}\n",
    "\n",
    "# Bit names inside the 1-byte Radiotap Flags field (bit # within that byte)\n",
    "RT_FLAGS_BITS = {\n",
    "    0: \"CFP\",\n",
    "    1: \"Short Preamble\",   # 0 => Long preamble\n",
    "    2: \"WEP\",\n",
    "    3: \"Fragmentation\",\n",
    "    4: \"FCS at end\",\n",
    "    5: \"Data Pad\",\n",
    "    6: \"Bad FCS\",\n",
    "    7: \"Short GI\",\n",
    "}\n",
    "\n",
    "def _align(off, align):\n",
    "    if align <= 1: return off\n",
    "    return (off + (align - 1)) & ~(align - 1)\n",
    "\n",
    "def _parse_present_words(raw, base=4):\n",
    "    \"\"\"Return ([present_words], fields_start_offset).\"\"\"\n",
    "    words = []\n",
    "    pos = base\n",
    "    while True:\n",
    "        if pos + 4 > len(raw): break\n",
    "        w = struct.unpack_from(\"<I\", raw, pos)[0]\n",
    "        words.append(w)\n",
    "        pos += 4\n",
    "        if (w & 0x80000000) == 0:\n",
    "            break  # last present word (no 'ext' bit)\n",
    "    return words, pos\n",
    "\n",
    "def radiotap_segments_from_bytes(raw, base=0):\n",
    "    \"\"\"\n",
    "    Build detailed segments for the Radiotap header at 'base'.\n",
    "    Returns list of dicts: {start, end, label, info}\n",
    "    \"\"\"\n",
    "    segs = []\n",
    "    if len(raw) < base + 4:\n",
    "        return segs\n",
    "\n",
    "    ver = raw[base + 0]\n",
    "    pad = raw[base + 1]\n",
    "    rt_len = struct.unpack_from(\"<H\", raw, base + 2)[0]\n",
    "\n",
    "    segs.append({\"start\": base + 0, \"end\": base + 1, \"label\": \"Radiotap.version\", \"info\": ver})\n",
    "    segs.append({\"start\": base + 1, \"end\": base + 2, \"label\": \"Radiotap.pad\",     \"info\": pad})\n",
    "    segs.append({\"start\": base + 2, \"end\": base + 4, \"label\": \"Radiotap.len\",     \"info\": rt_len})\n",
    "\n",
    "    # Present bitmaps (with possible extensions)\n",
    "    present_words, fields_start = _parse_present_words(raw, base + 4)\n",
    "    for i, w in enumerate(present_words):\n",
    "        segs.append({\n",
    "            \"start\": base + 4 + 4*i,\n",
    "            \"end\":   base + 8 + 4*i,\n",
    "            \"label\": f\"Radiotap.present[{i}]\",\n",
    "            \"info\":  w\n",
    "        })\n",
    "\n",
    "    # Walk variable fields in numeric-bit order with alignment\n",
    "    off = fields_start\n",
    "    ns_base = 0  # 0 for base namespace; this example ignores vendor sub-namespaces\n",
    "\n",
    "    bit_base = 0\n",
    "    for wi, w in enumerate(present_words):\n",
    "        for b in range(32):\n",
    "            # b==31 means 'Ext' in present words, not a payload field\n",
    "            if b == 31: \n",
    "                continue\n",
    "            if not (w & (1 << b)):\n",
    "                continue\n",
    "\n",
    "            bit_idx = bit_base + b\n",
    "            name, size, align = RT_FIELDS.get(bit_idx, (f\"Unknown_or_Namespace(bit{bit_idx})\", None, 1))\n",
    "\n",
    "            if size is None:\n",
    "                # We don't know this field's size — stop mapping further fields\n",
    "                # (Otherwise offsets for later fields could be wrong.)\n",
    "                segs.append({\"start\": off, \"end\": off, \"label\": name, \"info\": None})\n",
    "                # We’ll just mark the rest of the radiotap blob as unknown\n",
    "                endcap = base + rt_len\n",
    "                if endcap > off:\n",
    "                    segs.append({\"start\": off, \"end\": endcap, \"label\": \"Radiotap.UnparsedTail\", \"info\": None})\n",
    "                return segs\n",
    "\n",
    "            off = _align(off, align)\n",
    "\n",
    "            # Add the field segment; split some compound ones for more precision\n",
    "            if name == \"Channel\" and off + 4 <= len(raw):\n",
    "                segs.append({\"start\": off, \"end\": off+2, \"label\": \"Radiotap.Channel.frequency\",\n",
    "                             \"info\": struct.unpack_from(\"<H\", raw, off)[0]})\n",
    "                segs.append({\"start\": off+2, \"end\": off+4, \"label\": \"Radiotap.Channel.flags\",\n",
    "                             \"info\": struct.unpack_from(\"<H\", raw, off+2)[0]})\n",
    "            elif name == \"Flags\" and off + 1 <= len(raw):\n",
    "                byte = raw[off]\n",
    "                flags_info = {lbl: bool(byte & (1 << k)) for k, lbl in RT_FLAGS_BITS.items()}\n",
    "                flags_info[\"_raw\"] = byte\n",
    "                segs.append({\"start\": off, \"end\": off+1, \"label\": \"Radiotap.Flags\", \"info\": flags_info})\n",
    "            else:\n",
    "                # Generic field\n",
    "                segs.append({\"start\": off, \"end\": off + size, \"label\": f\"Radiotap.{name}\", \"info\": None})\n",
    "            off += size\n",
    "\n",
    "        bit_base += 32\n",
    "\n",
    "    # Safety: cap to rt_len if overread\n",
    "    endcap = base + rt_len\n",
    "    for s in segs:\n",
    "        s[\"start\"] = max(base, min(s[\"start\"], endcap))\n",
    "        s[\"end\"]   = max(s[\"start\"], min(s[\"end\"],   endcap))\n",
    "\n",
    "    return sorted(segs, key=lambda d: d[\"start\"])\n",
    "\n",
    "def radiotap_field_covering_offset(pkt, offset):\n",
    "    \"\"\"\n",
    "    Return the most specific Radiotap sub-field covering 'offset0'.\n",
    "    \"\"\"\n",
    "    raw = bytes(pkt)\n",
    "    segs = radiotap_segments_from_bytes(raw, base=0)\n",
    "    for seg in segs:\n",
    "        if seg[\"start\"] <= offset < seg[\"end\"]:\n",
    "            return seg\n",
    "    # Not inside Radiotap (or out of range)\n",
    "    return None\n",
    "\n",
    "# ---- Convenience: stats over a packet list\n",
    "def offset_radiotap_stats(packets, offset=18, sample_max=5):\n",
    "    counts = Counter()\n",
    "    examples = defaultdict(list)\n",
    "    for pkt in packets:\n",
    "        seg = radiotap_field_covering_offset(pkt, offset)\n",
    "        label = seg[\"label\"] if seg else \"Not in Radiotap / Unknown\"\n",
    "        counts[label] += 1\n",
    "        if seg and len(examples[label]) < sample_max:\n",
    "            examples[label].append({\"range\": (seg[\"start\"], seg[\"end\"]), \"info\": seg[\"info\"]})\n",
    "    return counts, dict(examples)\n",
    "\n",
    "# Example usage:\n",
    "# seg = radiotap_field_covering_offset(packets_attack[0], offset=76)\n",
    "# print(seg[\"label\"], seg[\"range\"] if \"range\" in seg else (seg[\"start\"], seg[\"end\"]), seg[\"info\"])\n",
    "counts, examples = offset_radiotap_stats(packets_attack_test, offset=42)\n",
    "print(counts)\n",
    "print(examples)\n"
   ]
  },
  {
   "cell_type": "code",
   "execution_count": 43,
   "id": "afd134e5-62e8-4b85-be67-b69afd82778b",
   "metadata": {},
   "outputs": [
    {
     "data": {
      "text/plain": [
       "[<RadioTap  version=0 pad=0 len=64 present=Flags+Channel+dBm_AntSignal+RXFlags+A_MPDU+VHT+timestamp+RadiotapNS+Ext Ext=[<RadioTapExtendedPresenceMask  present=b5+b11+b29+Ext |>, <RadioTapExtendedPresenceMask  present=b37+b43 |>] Flags=FCS ChannelFrequency=5180 ChannelFlags=OFDM+5GHz dBm_AntSignal=-31 dBm RXFlags= A_MPDU_ref=0 A_MPDU_flags= KnownVHT=STBC+GuardInterval+Beamformed+Bandwidth PresentVHT= VHT_bandwidth=20MHz mcs_nss=b'\\x82\\x00\\x00\\x00\\x01' GroupID=0 PartialAID=0 timestamp=2059461796 ts_accuracy=22 ts_unit=microseconds ts_position=1 ts_flags=32-bit_counter+Accuracy notdecoded=b'\\xd8\\x00\\xe1\\x01' |<Dot11FCS  subtype=QoS Data type=Data proto=0 FCfield=from-DS+protected ID=12288 addr1=00:00:00:00:00:00 (RA=DA) addr2=00:00:00:00:00:00 (TA=BSSID) addr3=00:00:00:00:00:00 (SA) SC=480 fcs=0xeef11e27 |<Dot11QoS  A_MSDU_Present=0 Ack_Policy=0 EOSP=0 TID=0 TXOP=0 |<Dot11CCMP  PN0=17 PN1=0 res0=0 key_id=0 ext_iv=1 res1=0 PN2=0 PN3=0 PN4=0 PN5=0 data=b'\\xab\\xb0b\\xbf>\\xcb[\\x91B\\xf8\\xc0A\\xd8>u\\x17p\\x96^\\xea\\xcdC\\xcf|\\x8d\\xdb\\xd5\\x8b{\\xbf\\xe9\\x06\\xabK\\xed\\x11\\xe9\\x1dV\\x98\\x10\\xe5\\x97\\xa5s\\xe1D\\\\\\x975P\\xa8:It\\t\\xaa\\xdaL\\x8e>\\x18`\\xcf\\xad\\xb0\\x00\\x07' |>>>>]"
      ]
     },
     "execution_count": 43,
     "metadata": {},
     "output_type": "execute_result"
    }
   ],
   "source": [
    "packets_attack[:1]"
   ]
  },
  {
   "cell_type": "code",
   "execution_count": 46,
   "id": "5dae9d57-67db-46bf-a6bc-771641d5801b",
   "metadata": {},
   "outputs": [
    {
     "name": "stdout",
     "output_type": "stream",
     "text": [
      "QoS Data: 1000\n"
     ]
    }
   ],
   "source": [
    "from scapy.all import Dot11\n",
    "from collections import Counter\n",
    "\n",
    "# Mapping of (type, subtype) -> human-readable names\n",
    "dot11_subtypes = {\n",
    "    (0, 0): \"Association Request\",\n",
    "    (0, 1): \"Association Response\",\n",
    "    (0, 2): \"Reassociation Request\",\n",
    "    (0, 3): \"Reassociation Response\",\n",
    "    (0, 4): \"Probe Request\",\n",
    "    (0, 5): \"Probe Response\",\n",
    "    (0, 8): \"Beacon\",\n",
    "    (0, 9): \"ATIM\",\n",
    "    (0, 10): \"Disassociation\",\n",
    "    (0, 11): \"Authentication\",\n",
    "    (0, 12): \"Deauthentication\",\n",
    "    (0, 13): \"Action\",\n",
    "    (1, 10): \"PS-Poll\",\n",
    "    (1, 11): \"RTS\",\n",
    "    (1, 12): \"CTS\",\n",
    "    (1, 13): \"ACK\",\n",
    "    (1, 14): \"CF-End\",\n",
    "    (1, 15): \"CF-End + CF-Ack\",\n",
    "    (2, 0): \"Data\",\n",
    "    (2, 4): \"Null Data\",\n",
    "    (2, 8): \"QoS Data\",\n",
    "    (2, 12): \"QoS Null Data\"\n",
    "}\n",
    "\n",
    "# Count subtype values\n",
    "subtype_counts = Counter()\n",
    "\n",
    "for pkt in packets_attack[:1000]:\n",
    "    if pkt.haslayer(Dot11):\n",
    "        pkt_type = pkt.type\n",
    "        pkt_subtype = pkt.subtype\n",
    "        subtype_counts[(pkt_type, pkt_subtype)] += 1\n",
    "\n",
    "# Print results\n",
    "for (pkt_type, pkt_subtype), count in subtype_counts.items():\n",
    "    name = dot11_subtypes.get((pkt_type, pkt_subtype), f\"Unknown (type={pkt_type}, subtype={pkt_subtype})\")\n",
    "    print(f\"{name}: {count}\")\n"
   ]
  },
  {
   "cell_type": "markdown",
   "id": "e67c4f75-a3bb-4c8f-aefe-ebe3938efb66",
   "metadata": {},
   "source": [
    "# FGSM"
   ]
  },
  {
   "cell_type": "code",
   "execution_count": 47,
   "id": "273aceb2-50d1-4cb6-8106-181d501cf2e9",
   "metadata": {},
   "outputs": [],
   "source": [
    "# Original full packets for those test attack samples\n",
    "attack_test_mask = y_test == 1\n",
    "X_attack_test = X_test[attack_test_mask].squeeze(axis=-1)\n",
    "y_attack_test = y_test[attack_test_mask]\n",
    "idx_attack_test = idx_test[attack_test_mask]\n",
    "\n",
    "# Map test indices back to attack-only packets\n",
    "# All attack packets are offset by len(X_normal)\n",
    "relative_attack_indices = idx_attack_test - attack_start_idx\n",
    "packets_attack_test = [packets_attack[i] for i in relative_attack_indices]"
   ]
  },
  {
   "cell_type": "code",
   "execution_count": 48,
   "id": "617c3d69-b023-439f-88b3-748ef83b5147",
   "metadata": {},
   "outputs": [],
   "source": [
    "X_test_normal = X_test[y_test == 0]\n",
    "y_test_normal = y_test[y_test == 0]\n",
    "\n",
    "X_test_attack = X_test[y_test == 1]\n",
    "y_test_attack = y_test[y_test == 1]"
   ]
  },
  {
   "cell_type": "code",
   "execution_count": 49,
   "id": "7332412d-0c56-4ff8-b11c-05238ca4f28b",
   "metadata": {},
   "outputs": [],
   "source": [
    "# Separate test samples\n",
    "X_normal_test = X_test[y_test == 0]\n",
    "X_attack_test = X_test[y_test == 1]"
   ]
  },
  {
   "cell_type": "code",
   "execution_count": 50,
   "id": "79472cd5-91f4-468c-b62d-0aef205f3d27",
   "metadata": {},
   "outputs": [],
   "source": [
    "def fgsm_attack(model, x, y_true, epsilon=0.01):\n",
    "    x_adv = tf.convert_to_tensor(x, dtype=tf.float32)\n",
    "    y_true = tf.convert_to_tensor(y_true, dtype=tf.float32)\n",
    "    y_true = tf.reshape(y_true, (-1, 1))\n",
    "\n",
    "    with tf.GradientTape() as tape:\n",
    "        tape.watch(x_adv)\n",
    "        prediction = model(x_adv)\n",
    "        loss = tf.keras.losses.binary_crossentropy(y_true, prediction)\n",
    "\n",
    "    # Compute gradients\n",
    "    gradient = tape.gradient(loss, x_adv)\n",
    "    signed_grad = tf.sign(gradient)\n",
    "\n",
    "    # Apply perturbation\n",
    "    x_adv = x_adv + epsilon * signed_grad\n",
    "    x_adv = tf.clip_by_value(x_adv, 0.0, 1.0)  # to keep values in byte range\n",
    "\n",
    "    return x_adv\n"
   ]
  },
  {
   "cell_type": "code",
   "execution_count": 51,
   "id": "a4465d9f-dd22-4425-b6ae-3276ac24a9c6",
   "metadata": {},
   "outputs": [],
   "source": [
    "# Generate adversarial samples\n",
    "X_test_attack_adv = fgsm_attack(model, X_test_attack, y_attack_test, epsilon=0.2)"
   ]
  },
  {
   "cell_type": "code",
   "execution_count": 52,
   "id": "9b3c2783-fe9a-4779-96d9-3a32e9e35967",
   "metadata": {},
   "outputs": [],
   "source": [
    "from scapy.all import Ether, wrpcap\n",
    "from scapy.layers.dot11 import RadioTap, Dot11\n",
    "from scapy.layers.inet import IP, TCP, UDP, ICMP\n",
    "from scapy.layers.inet6 import IPv6, ICMPv6EchoRequest, ICMPv6EchoReply\n",
    "\n",
    "def _fix_checksums(pkt):\n",
    "    \"\"\"\n",
    "    Recompute common L3/L4 checksums and lengths where possible.\n",
    "    (No 802.11 FCS recalculation here; most captures don't include it.)\n",
    "    \"\"\"\n",
    "    ip = pkt.getlayer(IP)\n",
    "    ip6 = pkt.getlayer(IPv6)\n",
    "\n",
    "    if ip:\n",
    "        # Recompute IPv4 header length & checksum\n",
    "        for f in (\"len\", \"chksum\"):\n",
    "            if hasattr(ip, f):\n",
    "                try: delattr(ip, f)\n",
    "                except Exception: pass\n",
    "        # Recompute transports\n",
    "        tcp = pkt.getlayer(TCP)\n",
    "        if tcp and hasattr(tcp, \"chksum\"):\n",
    "            del tcp.chksum\n",
    "        udp = pkt.getlayer(UDP)\n",
    "        if udp and hasattr(udp, \"chksum\"):\n",
    "            del udp.chksum\n",
    "        icmp = pkt.getlayer(ICMP)\n",
    "        if icmp and hasattr(icmp, \"chksum\"):\n",
    "            del icmp.chksum\n",
    "\n",
    "    elif ip6:\n",
    "        # IPv6 has no header checksum; just transports\n",
    "        tcp = pkt.getlayer(TCP)\n",
    "        if tcp and hasattr(tcp, \"chksum\"):\n",
    "            del tcp.chksum\n",
    "        udp = pkt.getlayer(UDP)\n",
    "        if udp and hasattr(udp, \"chksum\"):\n",
    "            del udp.chksum\n",
    "        for ic6 in (ICMPv6EchoRequest, ICMPv6EchoReply):\n",
    "            l = pkt.getlayer(ic6)\n",
    "            if l and hasattr(l, \"cksum\"):\n",
    "                del l.cksum\n",
    "\n",
    "    # Force Scapy to rebuild the packet bytes with new checksums, then reparse\n",
    "    top = RadioTap if pkt.haslayer(RadioTap) else (Dot11 if pkt.haslayer(Dot11) else Ether)\n",
    "    return top(bytes(pkt))\n",
    "\n",
    "\n",
    "def _parse_like_original(raw_bytes, original_pkt):\n",
    "    \"\"\"\n",
    "    Rebuild using the same top-level layer as original, to preserve pcap linktype.\n",
    "    \"\"\"\n",
    "    if original_pkt.haslayer(RadioTap):\n",
    "        return RadioTap(raw_bytes)\n",
    "    if original_pkt.haslayer(Dot11):\n",
    "        return Dot11(raw_bytes)\n",
    "    return Ether(raw_bytes)  # fallback\n",
    "\n",
    "\n",
    "def patch_full_packet_bytes(pkt, fgsm_bytes, skip_radiotap=True):\n",
    "    \"\"\"\n",
    "    Replace bytes of a packet with FGSM output.\n",
    "    For Wi-Fi frames, by default we start after the Radiotap header.\n",
    "    \"\"\"\n",
    "    raw = bytearray(bytes(pkt))\n",
    "    fgsm_bytes = bytes(fgsm_bytes)\n",
    "\n",
    "    # Determine start offset (skip Radiotap for Wi-Fi, if present)\n",
    "    start = 0\n",
    "    if skip_radiotap and pkt.haslayer(RadioTap):\n",
    "        rt = pkt[RadioTap]\n",
    "        # Radiotap has a 'len' field indicating its header length\n",
    "        try:\n",
    "            start = int(rt.len) if rt.len is not None else len(bytes(rt))\n",
    "        except Exception:\n",
    "            start = len(bytes(rt))\n",
    "\n",
    "    # Only overwrite up to what's available\n",
    "    n = min(len(raw) - start, len(fgsm_bytes))\n",
    "    if n <= 0:\n",
    "        return None\n",
    "    raw[start:start + n] = fgsm_bytes[:n]\n",
    "\n",
    "    try:\n",
    "        new_pkt = _parse_like_original(bytes(raw), pkt)\n",
    "\n",
    "        # If the 802.11 Protected bit is set, payload is encrypted — nothing to fix.\n",
    "        if new_pkt.haslayer(Dot11) and (getattr(new_pkt[Dot11], \"FCfield\", 0) & 0x40):\n",
    "            return new_pkt\n",
    "\n",
    "        return _fix_checksums(new_pkt)\n",
    "    except Exception:\n",
    "        return None\n",
    "\n",
    "\n",
    "def save_fgsm_patched_full_packets(original_packets, x_adv_uint8, output_path, skip_radiotap=True):\n",
    "    \"\"\"\n",
    "    Writes a pcap whose linktype matches the first packet (RadioTap/Dot11/Ethernet).\n",
    "    \"\"\"\n",
    "    patched = []\n",
    "    for orig_pkt, adv_bytes in zip(original_packets, x_adv_uint8):\n",
    "        pkt = patch_full_packet_bytes(orig_pkt, adv_bytes, skip_radiotap=skip_radiotap)\n",
    "        if pkt:\n",
    "            patched.append(pkt)\n",
    "    if patched:\n",
    "        wrpcap(output_path, patched)\n",
    "    print(f\"✅ Saved {len(patched)} FGSM-modified packets to {output_path}\")\n"
   ]
  },
  {
   "cell_type": "code",
   "execution_count": 71,
   "id": "bd75735e-4ccd-467f-94d1-8a1390ad3385",
   "metadata": {},
   "outputs": [
    {
     "name": "stdout",
     "output_type": "stream",
     "text": [
      "66475\n",
      "✅ Saved 66475 FGSM-modified packets to awid_fgsm_full_modified_anon.pcap\n"
     ]
    }
   ],
   "source": [
    "# x_adv_normalized: output of fgsm_attack (normalized)\n",
    "x_adv_uint8 = (X_test_attack_adv.numpy() * 255).astype(np.uint8)\n",
    "print(len(packets_attack_test))\n",
    "\n",
    "save_fgsm_patched_full_packets(packets_attack_test, x_adv_uint8, \"awid_fgsm_full_modified_anon.pcap\")"
   ]
  },
  {
   "cell_type": "code",
   "execution_count": 72,
   "id": "ef29f72b-5779-44f6-87c6-353ec0617f6e",
   "metadata": {},
   "outputs": [],
   "source": [
    "from scapy.utils import wrpcap\n",
    "\n",
    "wrpcap(\"attack_out.pcap\", packets_attack_test)\n"
   ]
  },
  {
   "cell_type": "code",
   "execution_count": 54,
   "id": "65b720fb-9be0-497c-8174-14291f361a2a",
   "metadata": {},
   "outputs": [],
   "source": [
    "X_test = np.vstack((X_test_normal, X_test_attack_adv))\n",
    "y_test = np.hstack((y_test_normal, y_attack_test))"
   ]
  },
  {
   "cell_type": "code",
   "execution_count": 55,
   "id": "6a816a5f-7498-4e92-a680-9e11b879b161",
   "metadata": {},
   "outputs": [
    {
     "name": "stdout",
     "output_type": "stream",
     "text": [
      "13568/13568 ━━━━━━━━━━━━━━━━━━━━ 14s 995us/step\n",
      "Accuracy: 0.86\n",
      "Precision: 0.99\n",
      "Recall: 0.06\n"
     ]
    }
   ],
   "source": [
    "import numpy as np\n",
    "from sklearn.metrics import accuracy_score, precision_score, recall_score, confusion_matrix, ConfusionMatrixDisplay\n",
    "import matplotlib.pyplot as plt\n",
    "\n",
    "# Get predictions\n",
    "y_pred = model.predict(X_test)\n",
    "y_pred = (y_pred > 0.5).astype(int)  # Convert probabilities to binary\n",
    "\n",
    "accuracy = accuracy_score(y_test, y_pred)\n",
    "precision = precision_score(y_test, y_pred)\n",
    "recall = recall_score(y_test, y_pred)\n",
    "\n",
    "# Print the results\n",
    "print(f\"Accuracy: {accuracy:.2f}\")\n",
    "print(f\"Precision: {precision:.2f}\")\n",
    "print(f\"Recall: {recall:.2f}\")"
   ]
  },
  {
   "cell_type": "code",
   "execution_count": 56,
   "id": "491bd24f-dc2a-4bfd-b6ce-4b42183a0492",
   "metadata": {},
   "outputs": [
    {
     "data": {
      "image/png": "[encoded data removed]",
      "text/plain": [
       "<Figure size 640x480 with 2 Axes>"
      ]
     },
     "metadata": {},
     "output_type": "display_data"
    },
    {
     "name": "stdout",
     "output_type": "stream",
     "text": [
      "                precision    recall  f1-score   support\n",
      "\n",
      "Normal Traffic       0.85      1.00      0.92    367688\n",
      "        Attack       0.99      0.06      0.11     66475\n",
      "\n",
      "      accuracy                           0.86    434163\n",
      "     macro avg       0.92      0.53      0.52    434163\n",
      "  weighted avg       0.88      0.86      0.80    434163\n",
      "\n"
     ]
    }
   ],
   "source": [
    "from sklearn.metrics import classification_report\n",
    "\n",
    "cm = confusion_matrix(y_test, y_pred)\n",
    "\n",
    "disp = ConfusionMatrixDisplay(confusion_matrix=cm)\n",
    "disp.plot(cmap='Blues')\n",
    "plt.show()\n",
    "\n",
    "# Print detailed classification report\n",
    "print(classification_report(y_test, y_pred, target_names=['Normal Traffic', 'Attack']))"
   ]
  },
  {
   "cell_type": "markdown",
   "id": "2ae8c390-44d0-4d75-9769-f45d7a48dafb",
   "metadata": {},
   "source": [
    "# FGSM - targeted byte positions only"
   ]
  },
  {
   "cell_type": "code",
   "execution_count": 126,
   "id": "3979c5dc-29ea-49ea-83d1-94297820909c",
   "metadata": {},
   "outputs": [],
   "source": [
    "import tensorflow as tf\n",
    "\n",
    "def fgsm_attack_valid80211(model, x, y_true, epsilon=1.0/255.0,\n",
    "                           idx_fc0=56, idx_seq_lo=78, idx_seq_hi=79):\n",
    "    \"\"\"\n",
    "    x: float32 [B, L] or [B, L, 1], bytes normalized to [0,1]\n",
    "    y_true: [B] or [B,1]\n",
    "    Only bytes 56 (FC[0]) and 78..79 (Sequence Control) are perturbed.\n",
    "    \"\"\"\n",
    "\n",
    "    x = tf.convert_to_tensor(x, tf.float32)\n",
    "    y_true = tf.cast(tf.reshape(y_true, (-1, 1)), tf.float32)\n",
    "\n",
    "    with tf.GradientTape() as tape:\n",
    "        tape.watch(x)\n",
    "        pred = model(x)\n",
    "        loss = tf.keras.losses.binary_crossentropy(y_true, pred)\n",
    "\n",
    "    grad = tape.gradient(loss, x)\n",
    "\n",
    "    # --- Mask perturbation to target bytes only ---\n",
    "    L = tf.shape(x)[1]\n",
    "    mask1d = (tf.one_hot(idx_fc0, L, dtype=tf.float32) +\n",
    "              tf.one_hot(idx_seq_lo, L, dtype=tf.float32) +\n",
    "              tf.one_hot(idx_seq_hi, L, dtype=tf.float32))\n",
    "    mask = mask1d[None, :] if x.shape.ndims == 2 else mask1d[None, :, None]\n",
    "    mask = tf.broadcast_to(mask, tf.shape(x))\n",
    "\n",
    "    # FGSM step (masked) + clip\n",
    "    x_adv = tf.clip_by_value(x + epsilon * tf.sign(grad) * mask, 0.0, 1.0)\n",
    "\n",
    "    # === Project to valid 802.11 bytes ===\n",
    "    xb_adv  = tf.cast(tf.round(x_adv * 255.0), tf.uint16)\n",
    "    xb_orig = tf.cast(tf.round(x     * 255.0), tf.uint16)\n",
    "\n",
    "    # Do byte math in 2-D; add channel back at the end if needed\n",
    "    if xb_adv.shape.ndims == 3:\n",
    "        xb_adv_2d  = tf.squeeze(xb_adv,  axis=-1)  # [B, L]\n",
    "        xb_orig_2d = tf.squeeze(xb_orig, axis=-1)  # [B, L]\n",
    "    else:\n",
    "        xb_adv_2d, xb_orig_2d = xb_adv, xb_orig\n",
    "\n",
    "    B = tf.shape(xb_adv_2d)[0]\n",
    "    bi = tf.range(B, dtype=tf.int32)[:, None]\n",
    "\n",
    "    # ----- Frame Control first byte (idx_fc0) -----\n",
    "    fc0_orig_i = tf.cast(xb_orig_2d[:, idx_fc0], tf.int32)\n",
    "    fc0_new_i  = tf.cast(xb_adv_2d[:,  idx_fc0], tf.int32)\n",
    "\n",
    "    type_bits = tf.bitwise.right_shift(tf.bitwise.bitwise_and(fc0_orig_i, 0x0C), 2)\n",
    "    sub_cand  = tf.bitwise.bitwise_and(tf.bitwise.right_shift(fc0_new_i, 4), 0x0F)\n",
    "    sub_orig  = tf.bitwise.bitwise_and(tf.bitwise.right_shift(fc0_orig_i, 4), 0x0F)\n",
    "\n",
    "    def allowed_mask(type_bits, sub_orig):\n",
    "        base = tf.zeros([tf.shape(type_bits)[0], 16], dtype=tf.bool)\n",
    "\n",
    "        # Type 0 (Mgmt)\n",
    "        mgmt = tf.equal(type_bits, 0)\n",
    "        in_10_12 = tf.logical_or(tf.equal(sub_orig, 10), tf.equal(sub_orig, 12))\n",
    "        allow_mgmt_10_12 = tf.logical_and(mgmt, in_10_12)\n",
    "\n",
    "        # Helper: add constant subtype set for a row mask\n",
    "        def add_allowed_constants(base_in, row_mask, values):\n",
    "            rows = tf.cast(tf.where(row_mask)[:, 0], tf.int32)  # << cast to int32\n",
    "            for v in values:\n",
    "                idxs = tf.stack(\n",
    "                    [rows, tf.fill([tf.shape(rows)[0]], tf.cast(v, tf.int32))],\n",
    "                    axis=1\n",
    "                )\n",
    "                base_in = tf.tensor_scatter_nd_update(\n",
    "                    base_in, idxs, tf.ones([tf.shape(rows)[0]], dtype=tf.bool)\n",
    "                )\n",
    "            return base_in\n",
    "\n",
    "        # mgmt & not in {10,12}: allow the original subtype per-row (per-row scatter)\n",
    "        rows_keep = tf.cast(tf.where(tf.logical_and(mgmt, tf.logical_not(in_10_12)))[:, 0], tf.int32)  # << cast\n",
    "        subs_keep = tf.gather(tf.cast(sub_orig, tf.int32), rows_keep)\n",
    "        idx_keep  = tf.stack([rows_keep, subs_keep], axis=1)\n",
    "        base = tf.tensor_scatter_nd_update(\n",
    "            base, idx_keep, tf.ones([tf.shape(rows_keep)[0]], dtype=tf.bool)\n",
    "        )\n",
    "\n",
    "        # mgmt & in {10,12}: allow {10,12}\n",
    "        base = add_allowed_constants(base, allow_mgmt_10_12, [10, 12])\n",
    "\n",
    "        # Type 2 (Data)\n",
    "        data = tf.equal(type_bits, 2)\n",
    "        nonqos_set = [0, 1, 2, 3, 4, 5, 6, 7]\n",
    "        qos_set    = [8, 9, 10, 11, 12, 14, 15]  # exclude 13 (reserved)\n",
    "        is_qos = tf.reduce_any(\n",
    "            tf.stack([tf.equal(sub_orig, v) for v in [8, 9, 10, 11, 12, 14, 15]], axis=1),\n",
    "            axis=1\n",
    "        )\n",
    "        base = add_allowed_constants(base, tf.logical_and(data, tf.logical_not(is_qos)), nonqos_set)\n",
    "        base = add_allowed_constants(base, tf.logical_and(data, is_qos), qos_set)\n",
    "\n",
    "        # Type 1 (Control) or Type 3 (Extension): keep original subtype only (per-row scatter)\n",
    "        ctrl_or_ext = tf.logical_or(tf.equal(type_bits, 1), tf.equal(type_bits, 3))\n",
    "        rows_keep2 = tf.cast(tf.where(ctrl_or_ext)[:, 0], tf.int32)  # << cast\n",
    "        subs_keep2 = tf.gather(tf.cast(sub_orig, tf.int32), rows_keep2)\n",
    "        idx_keep2  = tf.stack([rows_keep2, subs_keep2], axis=1)\n",
    "        base = tf.tensor_scatter_nd_update(\n",
    "            base, idx_keep2, tf.ones([tf.shape(rows_keep2)[0]], dtype=tf.bool)\n",
    "        )\n",
    "\n",
    "        return base\n",
    "\n",
    "    allowed = allowed_mask(tf.cast(type_bits, tf.int32), tf.cast(sub_orig, tf.int32))  # [B,16]\n",
    "\n",
    "    # Snap candidate subtype to nearest allowed value\n",
    "    all_vals = tf.range(16, dtype=tf.int32)[None, :]\n",
    "    diffs = tf.abs(tf.expand_dims(tf.cast(sub_cand, tf.int32), 1) - all_vals)\n",
    "    big = tf.fill(tf.shape(diffs), tf.constant(10**6, tf.int32))\n",
    "    diffs = tf.where(allowed, diffs, big)\n",
    "    sub_snap = tf.cast(tf.argmin(diffs, axis=1), tf.int32)\n",
    "\n",
    "    low_nibble = tf.bitwise.bitwise_and(fc0_orig_i, 0x0F)\n",
    "    fc0_proj_i32 = tf.bitwise.bitwise_or(tf.bitwise.left_shift(sub_snap, 4), low_nibble)\n",
    "    fc0_proj = tf.cast(fc0_proj_i32, xb_adv_2d.dtype)\n",
    "\n",
    "    xb_adv_2d = tf.tensor_scatter_nd_update(\n",
    "        xb_adv_2d,\n",
    "        tf.concat([bi, tf.fill([B, 1], tf.cast(idx_fc0, tf.int32))], axis=1),\n",
    "        fc0_proj\n",
    "    )\n",
    "\n",
    "    # ----- Sequence Control (bytes 78-79): keep Fragment# -----\n",
    "    lo_new  = xb_adv_2d[:, idx_seq_lo]\n",
    "    hi_new  = xb_adv_2d[:, idx_seq_hi]\n",
    "    lo_orig = xb_orig_2d[:, idx_seq_lo]\n",
    "\n",
    "    seq16_new  = tf.bitwise.bitwise_or(\n",
    "        tf.bitwise.left_shift(tf.cast(hi_new,  tf.int32), 8),\n",
    "        tf.cast(lo_new, tf.int32)\n",
    "    )\n",
    "    seq16_proj = tf.bitwise.bitwise_or(\n",
    "        tf.bitwise.bitwise_and(seq16_new, 0xFFF0),\n",
    "        tf.bitwise.bitwise_and(tf.cast(lo_orig, tf.int32), 0x000F)\n",
    "    )\n",
    "\n",
    "    lo_proj = tf.cast(tf.bitwise.bitwise_and(seq16_proj, 0x00FF), xb_adv_2d.dtype)\n",
    "    hi_proj = tf.cast(tf.bitwise.right_shift(seq16_proj, 8), xb_adv_2d.dtype)\n",
    "\n",
    "    xb_adv_2d = tf.tensor_scatter_nd_update(\n",
    "        xb_adv_2d,\n",
    "        tf.concat([bi, tf.fill([B, 1], tf.cast(idx_seq_lo, tf.int32))], axis=1),\n",
    "        lo_proj\n",
    "    )\n",
    "    xb_adv_2d = tf.tensor_scatter_nd_update(\n",
    "        xb_adv_2d,\n",
    "        tf.concat([bi, tf.fill([B, 1], tf.cast(idx_seq_hi, tf.int32))], axis=1),\n",
    "        hi_proj\n",
    "    )\n",
    "\n",
    "    # back to normalized floats; restore channel if input was 3-D\n",
    "    out = tf.cast(xb_adv_2d, tf.float32) / 255.0\n",
    "    if x.shape.ndims == 3:\n",
    "        out = out[..., None]\n",
    "    return out\n"
   ]
  },
  {
   "cell_type": "code",
   "execution_count": 106,
   "id": "51b1135f-d8c8-4914-89b1-4a82682ff6da",
   "metadata": {},
   "outputs": [
    {
     "data": {
      "text/plain": [
       "(66475, 100, 1)"
      ]
     },
     "execution_count": 106,
     "metadata": {},
     "output_type": "execute_result"
    }
   ],
   "source": [
    "X_test_attack.shape"
   ]
  },
  {
   "cell_type": "code",
   "execution_count": 131,
   "id": "107f307f-0e0c-4df6-bdfc-25f15f45c45f",
   "metadata": {},
   "outputs": [
    {
     "name": "stdout",
     "output_type": "stream",
     "text": [
      "(66475, 100, 1)\n"
     ]
    }
   ],
   "source": [
    "# Generate adversarial samples\n",
    "X_test_attack_adv_valid = fgsm_attack_valid80211(model, X_test_attack, y_attack_test, epsilon=0.2)\n",
    "\n",
    "print(X_test_attack_adv_valid.shape)  # (66475, 100, 1)\n"
   ]
  },
  {
   "cell_type": "code",
   "execution_count": 136,
   "id": "fa1ee7c9-bc58-4d07-8284-ab039a195bdc",
   "metadata": {},
   "outputs": [],
   "source": [
    "from scapy.all import RadioTap, wrpcap\n",
    "import numpy as np\n",
    "\n",
    "def patch_packet_with_fgsm_bytes(pkt, fgsm_bytes, target_indices=(5, 78, 79), tolerate_short=True):\n",
    "    \"\"\"\n",
    "    Patch 'pkt' at the given byte offsets using values from 'fgsm_bytes' (normalized [0,1]).\n",
    "    Only bytes whose value actually changed are written.\n",
    "    Returns a new Scapy RadioTap packet (or the original pkt if nothing changed).\n",
    "    If the packet is shorter than an index and 'tolerate_short' is True, that index is skipped.\n",
    "    \"\"\"\n",
    "    # Raw bytes of the original packet (Radiotap + 802.11 …)\n",
    "    raw = bytearray(bytes(pkt))\n",
    "\n",
    "    # fgsm_bytes can be shape (100, 1), (100,), or similar — squeeze to 1D length L\n",
    "    vec = np.asarray(fgsm_bytes, dtype=np.float32).squeeze()\n",
    "    if vec.ndim != 1:\n",
    "        raise ValueError(f\"fgsm_bytes must be 1-D after squeeze, got shape {vec.shape}\")\n",
    "\n",
    "    # Convert normalized floats to uint8 bytes\n",
    "    vec_bytes = np.clip(np.rint(vec * 255.0), 0, 255).astype(np.uint8)\n",
    "\n",
    "    changed = False\n",
    "    for idx in target_indices:\n",
    "        if idx < 0:\n",
    "            continue\n",
    "        if idx >= len(raw):\n",
    "            if tolerate_short:\n",
    "                continue\n",
    "            else:\n",
    "                return None\n",
    "        new_b = int(vec_bytes[idx])\n",
    "        if raw[idx] != new_b:\n",
    "            raw[idx] = new_b\n",
    "            changed = True\n",
    "\n",
    "    if not changed:\n",
    "        return pkt  # nothing to update\n",
    "\n",
    "    # Rebuild as a Radiotap packet so wrpcap keeps linktype 127 (radiotap)\n",
    "    return RadioTap(bytes(raw))\n",
    "\n",
    "\n",
    "def save_fgsm_modified_packets(original_packets, fgsm_bytes_array, output_path, target_indices=(5, 78, 79)):\n",
    "    \"\"\"\n",
    "    original_packets: iterable of Scapy packets (Radiotap/802.11)\n",
    "    fgsm_bytes_array: array-like of shape [B, 100, 1] (normalized [0,1]) aligned with original_packets\n",
    "    \"\"\"\n",
    "    patched_packets = []\n",
    "    for pkt, fgsm_bytes in zip(original_packets, fgsm_bytes_array):\n",
    "        patched = patch_packet_with_fgsm_bytes(pkt, fgsm_bytes, target_indices=target_indices)\n",
    "        if patched is not None:\n",
    "            patched_packets.append(patched)\n",
    "\n",
    "    if patched_packets:\n",
    "        wrpcap(output_path, patched_packets)\n",
    "        print(f\"✅ Saved {len(patched_packets)} FGSM-modified packets to: {output_path}\")\n",
    "    else:\n",
    "        print(\"⚠️ No valid packets to save.\")\n"
   ]
  },
  {
   "cell_type": "code",
   "execution_count": 137,
   "id": "08f722ce-1ac7-4efc-b6e0-3a1c7ea5f5eb",
   "metadata": {},
   "outputs": [
    {
     "name": "stdout",
     "output_type": "stream",
     "text": [
      "66475\n",
      "✅ Saved 66475 FGSM-modified packets to: C:\\Users\\ulami\\Desktop\\datasety\\AWID3_pcap\\awid_fgsm_valid.pcap\n"
     ]
    }
   ],
   "source": [
    "# x_adv_normalized: output of fgsm_attack (normalized)\n",
    "# x_adv_uint8 = (X_test_attack_adv_valid.numpy() * 255).astype(np.uint8)\n",
    "print(len(packets_attack_test))\n",
    "\n",
    "save_fgsm_modified_packets(\n",
    "    original_packets=packets_attack_test,\n",
    "    fgsm_bytes_array=X_test_attack_adv_valid,   # pass as-is; function handles squeezing\n",
    "    output_path=r\"C:\\Users\\ulami\\Desktop\\datasety\\AWID3_pcap\\awid_fgsm_valid.pcap\",\n",
    "    target_indices=(56, 78, 79)\n",
    ")\n",
    "\n",
    "# save_fgsm_patched_full_packets(packets_attack_test, x_adv_uint8, r\"C:\\Users\\ulami\\Desktop\\datasety\\AWID3_pcap\\awid_fgsm_valid.pcap\")"
   ]
  },
  {
   "cell_type": "code",
   "execution_count": 132,
   "id": "950b3508-8001-48a8-a835-6244a68047da",
   "metadata": {},
   "outputs": [],
   "source": [
    "X_test = np.vstack((X_test_normal, X_test_attack_adv_valid))\n",
    "y_test = np.hstack((y_test_normal, y_attack_test))"
   ]
  },
  {
   "cell_type": "code",
   "execution_count": 133,
   "id": "c3c2b06e-c601-4433-92a0-0addb6c2f1d0",
   "metadata": {},
   "outputs": [
    {
     "name": "stdout",
     "output_type": "stream",
     "text": [
      "13568/13568 ━━━━━━━━━━━━━━━━━━━━ 14s 1ms/step\n",
      "Accuracy: 1.00\n",
      "Precision: 1.00\n",
      "Recall: 0.98\n"
     ]
    }
   ],
   "source": [
    "import numpy as np\n",
    "from sklearn.metrics import accuracy_score, precision_score, recall_score, confusion_matrix, ConfusionMatrixDisplay\n",
    "import matplotlib.pyplot as plt\n",
    "\n",
    "# Get predictions\n",
    "y_pred = model.predict(X_test)\n",
    "y_pred = (y_pred > 0.5).astype(int)  # Convert probabilities to binary\n",
    "\n",
    "accuracy = accuracy_score(y_test, y_pred)\n",
    "precision = precision_score(y_test, y_pred)\n",
    "recall = recall_score(y_test, y_pred)\n",
    "\n",
    "# Print the results\n",
    "print(f\"Accuracy: {accuracy:.2f}\")\n",
    "print(f\"Precision: {precision:.2f}\")\n",
    "print(f\"Recall: {recall:.2f}\")"
   ]
  },
  {
   "cell_type": "code",
   "execution_count": 134,
   "id": "7b34aa62-7de9-484b-9158-7cef949222f2",
   "metadata": {},
   "outputs": [
    {
     "data": {
      "image/png": "[encoded data removed]",
      "text/plain": [
       "<Figure size 640x480 with 2 Axes>"
      ]
     },
     "metadata": {},
     "output_type": "display_data"
    },
    {
     "name": "stdout",
     "output_type": "stream",
     "text": [
      "                precision    recall  f1-score   support\n",
      "\n",
      "Normal Traffic       1.00      1.00      1.00    367688\n",
      "        Attack       1.00      0.98      0.99     66475\n",
      "\n",
      "      accuracy                           1.00    434163\n",
      "     macro avg       1.00      0.99      0.99    434163\n",
      "  weighted avg       1.00      1.00      1.00    434163\n",
      "\n"
     ]
    }
   ],
   "source": [
    "from sklearn.metrics import classification_report\n",
    "\n",
    "cm = confusion_matrix(y_test, y_pred)\n",
    "\n",
    "disp = ConfusionMatrixDisplay(confusion_matrix=cm)\n",
    "disp.plot(cmap='Blues')\n",
    "plt.show()\n",
    "\n",
    "# Print detailed classification report\n",
    "print(classification_report(y_test, y_pred, target_names=['Normal Traffic', 'Attack']))"
   ]
  },
  {
   "cell_type": "markdown",
   "id": "c34ef1d1-a0a5-4812-8a78-7a6d951bfac0",
   "metadata": {},
   "source": [
    "# ZOO ATTACK"
   ]
  },
  {
   "cell_type": "code",
   "execution_count": 1,
   "id": "b5122f80-9577-45b5-bc0a-9fa83ae4eada",
   "metadata": {},
   "outputs": [],
   "source": [
    "import numpy as np\n",
    "import tensorflow as tf\n",
    "\n",
    "def _bce_loss_from_logits_or_probs(y_true, y_pred):\n",
    "    return tf.keras.losses.binary_crossentropy(y_true, y_pred, from_logits=False)\n",
    "\n",
    "def _model_loss(model, x, y_true, targeted=False, y_target=None):\n",
    "    x_tensor = tf.convert_to_tensor(x[None, ...], dtype=tf.float32)  # shape (1,H,W,1)\n",
    "    pred = model(x_tensor)\n",
    "\n",
    "    if targeted:\n",
    "        if y_target is None:\n",
    "            raise ValueError(\"y_target must be provided for targeted=True\")\n",
    "        loss = _bce_loss_from_logits_or_probs(tf.convert_to_tensor([[float(y_target)]], dtype=tf.float32), pred)\n",
    "        # targeted: minimize loss toward y_target\n",
    "        return loss[0]\n",
    "    else:\n",
    "        loss = _bce_loss_from_logits_or_probs(tf.convert_to_tensor([[float(y_true)]], dtype=tf.float32), pred)\n",
    "        # untargeted: maximize loss w.r.t true label -> return +loss\n",
    "        return loss[0]\n",
    "\n",
    "def _zoo_estimate_grad(model, x, y_true, coords, fd_eta, targeted=False, y_target=None):\n",
    "    \"\"\"\n",
    "    Symmetric finite-difference gradient estimate on selected flat coords.\n",
    "    Supports ANY x shape (e.g., (L,1), (L,), (H,W), (H,W,C)).\n",
    "    Returns grad_est with same shape as x (np.float32).\n",
    "    \"\"\"\n",
    "    x = x.astype(np.float32, copy=True)\n",
    "    orig_shape = x.shape\n",
    "\n",
    "    x_flat = x.reshape(-1)\n",
    "    grad_flat = np.zeros_like(x_flat, dtype=np.float32)\n",
    "\n",
    "    for idx in coords:\n",
    "        orig = x_flat[idx]\n",
    "\n",
    "        # +eta\n",
    "        x_flat[idx] = np.clip(orig + fd_eta, 0.0, 1.0)\n",
    "        f_plus = float(_model_loss(model, x_flat.reshape(orig_shape), y_true, targeted, y_target))\n",
    "\n",
    "        # -eta\n",
    "        x_flat[idx] = np.clip(orig - fd_eta, 0.0, 1.0)\n",
    "        f_minus = float(_model_loss(model, x_flat.reshape(orig_shape), y_true, targeted, y_target))\n",
    "\n",
    "        # restore\n",
    "        x_flat[idx] = orig\n",
    "\n",
    "        grad_flat[idx] = (f_plus - f_minus) / (2.0 * fd_eta)\n",
    "\n",
    "    return grad_flat.reshape(orig_shape)\n",
    "\n",
    "def zoo_attack(\n",
    "    model,\n",
    "    x,\n",
    "    y_true,\n",
    "    epsilon=0.2,\n",
    "    iters=300,\n",
    "    fd_eta=1e-3,\n",
    "    lr=1e-2,\n",
    "    coord_batch=1024,\n",
    "    targeted=False,\n",
    "    y_target=None,\n",
    "    rng=None,\n",
    "    verbose=False\n",
    "):\n",
    "    \"\"\"\n",
    "    ZOO attack for a single sample x with ANY shape (e.g., (L,1) for Conv1D).\n",
    "    L_inf constraint with radius epsilon around original x.\n",
    "    \"\"\"\n",
    "    if rng is None:\n",
    "        rng = np.random.default_rng()\n",
    "\n",
    "    x0 = x.astype(np.float32).copy()\n",
    "    x_adv = x0.copy()\n",
    "\n",
    "    flat_len = x_adv.size\n",
    "    all_coords = np.arange(flat_len)\n",
    "\n",
    "    for t in range(iters):\n",
    "        coords = rng.choice(all_coords, size=min(coord_batch, flat_len), replace=False)\n",
    "\n",
    "        g = _zoo_estimate_grad(model, x_adv, y_true, coords, fd_eta, targeted=targeted, y_target=y_target)\n",
    "\n",
    "        # Make sparse update only on sampled coords (optional)\n",
    "        if coord_batch < flat_len:\n",
    "            mask = np.zeros(flat_len, dtype=np.float32)\n",
    "            mask[coords] = 1.0\n",
    "            g = (g.reshape(-1) * mask).reshape(x_adv.shape)\n",
    "\n",
    "        step = -lr * np.sign(g) if targeted else lr * np.sign(g)\n",
    "        x_adv = x_adv + step\n",
    "\n",
    "        # Project to L_inf ball around x0 and clip to [0,1]\n",
    "        x_adv = np.clip(x_adv, x0 - epsilon, x0 + epsilon)\n",
    "        x_adv = np.clip(x_adv, 0.0, 1.0)\n",
    "\n",
    "        if verbose and (t % max(1, iters // 10) == 0 or t == iters - 1):\n",
    "            current_loss = float(_model_loss(model, x_adv, y_true, targeted, y_target))\n",
    "            print(f\"[ZOO] iter {t+1}/{iters} | loss={current_loss:.6f}\")\n",
    "\n",
    "    return x_adv.astype(np.float32)\n",
    "\n",
    "\n",
    "from tqdm import tqdm\n",
    "\n",
    "def zoo_attack_batch(\n",
    "    model,\n",
    "    X,\n",
    "    y,\n",
    "    epsilon=0.2,\n",
    "    iters=300,\n",
    "    fd_eta=1e-3,\n",
    "    lr=1e-2,\n",
    "    coord_batch=1024,\n",
    "    targeted=False,\n",
    "    y_target=None,\n",
    "    rng_seed=42,\n",
    "    verbose_every=0\n",
    "):\n",
    "    \"\"\"\n",
    "    Batched convenience wrapper over zoo_attack with tqdm progress bar.\n",
    "    X: (N,H,W,1) in [0,1]\n",
    "    y: (N,) in {0,1}\n",
    "    Returns X_adv of same shape.\n",
    "    \"\"\"\n",
    "    rng = np.random.default_rng(rng_seed)\n",
    "    X_adv = np.empty_like(X, dtype=np.float32)\n",
    "    N = X.shape[0]\n",
    "\n",
    "    for i in tqdm(range(N), desc=\"ZOO attack samples\"):\n",
    "        ve = (verbose_every and ((i % verbose_every) == 0))\n",
    "        X_adv[i] = zoo_attack(\n",
    "            model,\n",
    "            X[i],\n",
    "            float(y[i]),\n",
    "            epsilon=epsilon,\n",
    "            iters=iters,\n",
    "            fd_eta=fd_eta,\n",
    "            lr=lr,\n",
    "            coord_batch=coord_batch,\n",
    "            targeted=targeted,\n",
    "            y_target=(int(y_target) if y_target is not None else None),\n",
    "            rng=rng,\n",
    "            verbose=ve\n",
    "        )\n",
    "    return X_adv"
   ]
  },
  {
   "cell_type": "code",
   "execution_count": 82,
   "id": "3953cf9c-286c-45aa-9298-357346da85e6",
   "metadata": {},
   "outputs": [
    {
     "name": "stderr",
     "output_type": "stream",
     "text": [
      "ZOO attack samples:   0%|          | 0/200 [00:00<?, ?it/s]"
     ]
    },
    {
     "name": "stdout",
     "output_type": "stream",
     "text": [
      "[ZOO] iter 1/20 | loss=24.566748\n",
      "[ZOO] iter 3/20 | loss=28.075357\n",
      "[ZOO] iter 5/20 | loss=37.925610\n",
      "[ZOO] iter 7/20 | loss=37.047359\n",
      "[ZOO] iter 9/20 | loss=37.433331\n",
      "[ZOO] iter 11/20 | loss=35.295410\n",
      "[ZOO] iter 13/20 | loss=40.982155\n",
      "[ZOO] iter 15/20 | loss=40.048271\n",
      "[ZOO] iter 17/20 | loss=30.960236\n",
      "[ZOO] iter 19/20 | loss=35.454391\n",
      "[ZOO] iter 20/20 | loss=33.530579\n"
     ]
    },
    {
     "name": "stderr",
     "output_type": "stream",
     "text": [
      "ZOO attack samples:  15%|█▌        | 30/200 [12:00<1:06:44, 23.56s/it]"
     ]
    },
    {
     "name": "stdout",
     "output_type": "stream",
     "text": [
      "[ZOO] iter 1/20 | loss=26.631607\n",
      "[ZOO] iter 3/20 | loss=31.883837\n",
      "[ZOO] iter 5/20 | loss=46.713528\n",
      "[ZOO] iter 7/20 | loss=41.840218\n",
      "[ZOO] iter 9/20 | loss=37.464657\n",
      "[ZOO] iter 11/20 | loss=45.787758\n",
      "[ZOO] iter 13/20 | loss=48.227566\n",
      "[ZOO] iter 15/20 | loss=51.217999\n",
      "[ZOO] iter 17/20 | loss=49.089405\n",
      "[ZOO] iter 19/20 | loss=50.808285\n",
      "[ZOO] iter 20/20 | loss=41.821495\n"
     ]
    },
    {
     "name": "stderr",
     "output_type": "stream",
     "text": [
      "ZOO attack samples:  30%|███       | 60/200 [23:58<55:36, 23.83s/it]  "
     ]
    },
    {
     "name": "stdout",
     "output_type": "stream",
     "text": [
      "[ZOO] iter 1/20 | loss=23.139078\n",
      "[ZOO] iter 3/20 | loss=32.294743\n",
      "[ZOO] iter 5/20 | loss=34.057358\n",
      "[ZOO] iter 7/20 | loss=32.921818\n",
      "[ZOO] iter 9/20 | loss=38.151855\n",
      "[ZOO] iter 11/20 | loss=30.110628\n",
      "[ZOO] iter 13/20 | loss=40.280415\n",
      "[ZOO] iter 15/20 | loss=39.439732\n",
      "[ZOO] iter 17/20 | loss=35.537094\n",
      "[ZOO] iter 19/20 | loss=35.351017\n",
      "[ZOO] iter 20/20 | loss=41.798973\n"
     ]
    },
    {
     "name": "stderr",
     "output_type": "stream",
     "text": [
      "ZOO attack samples:  45%|████▌     | 90/200 [35:37<42:24, 23.13s/it]"
     ]
    },
    {
     "name": "stdout",
     "output_type": "stream",
     "text": [
      "[ZOO] iter 1/20 | loss=20.917536\n",
      "[ZOO] iter 3/20 | loss=33.504459\n",
      "[ZOO] iter 5/20 | loss=41.670864\n",
      "[ZOO] iter 7/20 | loss=27.214207\n",
      "[ZOO] iter 9/20 | loss=42.551689\n",
      "[ZOO] iter 11/20 | loss=42.105885\n",
      "[ZOO] iter 13/20 | loss=34.689358\n",
      "[ZOO] iter 15/20 | loss=33.567646\n",
      "[ZOO] iter 17/20 | loss=38.403557\n",
      "[ZOO] iter 19/20 | loss=40.484390\n",
      "[ZOO] iter 20/20 | loss=44.687885\n"
     ]
    },
    {
     "name": "stderr",
     "output_type": "stream",
     "text": [
      "ZOO attack samples:  60%|██████    | 120/200 [47:12<31:06, 23.33s/it]"
     ]
    },
    {
     "name": "stdout",
     "output_type": "stream",
     "text": [
      "[ZOO] iter 1/20 | loss=26.835455\n",
      "[ZOO] iter 3/20 | loss=33.737873\n",
      "[ZOO] iter 5/20 | loss=39.040787\n",
      "[ZOO] iter 7/20 | loss=44.413784\n",
      "[ZOO] iter 9/20 | loss=42.238407\n",
      "[ZOO] iter 11/20 | loss=43.156265\n",
      "[ZOO] iter 13/20 | loss=42.142647\n",
      "[ZOO] iter 15/20 | loss=44.068634\n",
      "[ZOO] iter 17/20 | loss=43.565834\n",
      "[ZOO] iter 19/20 | loss=45.777512\n",
      "[ZOO] iter 20/20 | loss=43.359386\n"
     ]
    },
    {
     "name": "stderr",
     "output_type": "stream",
     "text": [
      "ZOO attack samples:  75%|███████▌  | 150/200 [58:48<19:29, 23.39s/it]"
     ]
    },
    {
     "name": "stdout",
     "output_type": "stream",
     "text": [
      "[ZOO] iter 1/20 | loss=27.031929\n",
      "[ZOO] iter 3/20 | loss=39.855354\n",
      "[ZOO] iter 5/20 | loss=41.246704\n",
      "[ZOO] iter 7/20 | loss=47.722050\n",
      "[ZOO] iter 9/20 | loss=50.042667\n",
      "[ZOO] iter 11/20 | loss=46.446621\n",
      "[ZOO] iter 13/20 | loss=41.539043\n",
      "[ZOO] iter 15/20 | loss=46.381603\n",
      "[ZOO] iter 17/20 | loss=49.331631\n",
      "[ZOO] iter 19/20 | loss=42.319561\n",
      "[ZOO] iter 20/20 | loss=48.007301\n"
     ]
    },
    {
     "name": "stderr",
     "output_type": "stream",
     "text": [
      "ZOO attack samples:  90%|█████████ | 180/200 [1:10:37<07:55, 23.79s/it]"
     ]
    },
    {
     "name": "stdout",
     "output_type": "stream",
     "text": [
      "[ZOO] iter 1/20 | loss=24.718561\n",
      "[ZOO] iter 3/20 | loss=43.267567\n",
      "[ZOO] iter 5/20 | loss=36.736187\n",
      "[ZOO] iter 7/20 | loss=28.631216\n",
      "[ZOO] iter 9/20 | loss=39.586506\n",
      "[ZOO] iter 11/20 | loss=37.256466\n",
      "[ZOO] iter 13/20 | loss=43.481709\n",
      "[ZOO] iter 15/20 | loss=49.576279\n",
      "[ZOO] iter 17/20 | loss=35.776268\n",
      "[ZOO] iter 19/20 | loss=45.715137\n",
      "[ZOO] iter 20/20 | loss=43.857147\n"
     ]
    },
    {
     "name": "stderr",
     "output_type": "stream",
     "text": [
      "ZOO attack samples: 100%|██████████| 200/200 [1:18:34<00:00, 23.57s/it]\n"
     ]
    }
   ],
   "source": [
    "\n",
    "X_test_attack_zoo = zoo_attack_batch(\n",
    "    model,\n",
    "    X_test_attack[:200],        # shape (N, 100, 1, 1) or (N, 100, 1) depending on your reshape\n",
    "    y_test_attack[:200],        # vector of 1s for attack samples\n",
    "    epsilon=0.2,\n",
    "    iters=20,            # increase for stronger attacks (but more queries)\n",
    "    fd_eta=1e-3,\n",
    "    lr=0.1,\n",
    "    coord_batch=248,      # number of coordinates probed per iter\n",
    "    targeted=False,\n",
    "    y_target=None,\n",
    "    rng_seed=123,\n",
    "    verbose_every=30\n",
    ")"
   ]
  },
  {
   "cell_type": "code",
   "execution_count": 91,
   "id": "e31b665b-8cc9-40c1-adf5-d48f57877ddb",
   "metadata": {},
   "outputs": [
    {
     "data": {
      "text/plain": [
       "(200, 100, 1)"
      ]
     },
     "execution_count": 91,
     "metadata": {},
     "output_type": "execute_result"
    }
   ],
   "source": [
    "X_test_attack_zoo.shape"
   ]
  },
  {
   "cell_type": "code",
   "execution_count": 93,
   "id": "445f4cb7-9b25-4f82-9261-c3fb51bd41df",
   "metadata": {},
   "outputs": [
    {
     "name": "stdout",
     "output_type": "stream",
     "text": [
      "200\n",
      "✅ Saved 200 FGSM-modified packets to C:\\Users\\ulami\\Desktop\\datasety\\AWID3_pcap\\awid_zoo_full_modified.pcap\n"
     ]
    }
   ],
   "source": [
    "# x_adv_normalized: output of fgsm_attack (normalized)\n",
    "x_adv_uint8 = (X_test_attack_zoo * 255).astype(np.uint8)\n",
    "print(len(packets_attack_test[:200]))\n",
    "\n",
    "save_fgsm_patched_full_packets(packets_attack_test[:200], x_adv_uint8, r\"C:\\Users\\ulami\\Desktop\\datasety\\AWID3_pcap\\awid_zoo_full_modified.pcap\")"
   ]
  },
  {
   "cell_type": "code",
   "execution_count": 86,
   "id": "2eee0d8e-d6fc-4e68-aed5-06df1d6a8fdb",
   "metadata": {},
   "outputs": [],
   "source": [
    "# ---- Rebuild the (scaled) test set and labels ----\n",
    "X_test_combined = np.vstack((X_test_normal, X_test_attack_zoo))\n",
    "y_test_combined = np.hstack((y_test_normal, y_test_attack[:200]))\n",
    "\n",
    "from sklearn.utils import shuffle\n",
    "X_test_adv_final, y_test_adv_final = shuffle(\n",
    "    X_test_combined, y_test_combined, random_state=1\n",
    ")"
   ]
  },
  {
   "cell_type": "code",
   "execution_count": 88,
   "id": "83c4eed6-1e4c-4401-9aee-7c3ad201b24f",
   "metadata": {},
   "outputs": [
    {
     "name": "stdout",
     "output_type": "stream",
     "text": [
      "11497/11497 ━━━━━━━━━━━━━━━━━━━━ 12s 1ms/step\n",
      "Test Accuracy: 99.93%\n",
      "Test Precision: 99.89%\n",
      "Test Recall: 99.93%\n"
     ]
    }
   ],
   "source": [
    "from sklearn.metrics import accuracy_score, precision_score, recall_score\n",
    "\n",
    "# Get predictions\n",
    "y_pred = model.predict(X_test_adv_final)\n",
    "y_pred = (y_pred > 0.5).astype(int)\n",
    "\n",
    "# Calculate metrics\n",
    "accuracy = accuracy_score(y_test_adv_final, y_pred)\n",
    "precision = precision_score(y_test_adv_final, y_pred, average='weighted')\n",
    "recall = recall_score(y_test_adv_final, y_pred, average='weighted')\n",
    "\n",
    "# Print results\n",
    "print(f\"Test Accuracy: {accuracy * 100:.2f}%\")\n",
    "print(f\"Test Precision: {precision * 100:.2f}%\")\n",
    "print(f\"Test Recall: {recall * 100:.2f}%\")\n"
   ]
  },
  {
   "cell_type": "code",
   "execution_count": 89,
   "id": "005179ae-f5fe-4c3e-88ab-6ef39e7ad453",
   "metadata": {},
   "outputs": [
    {
     "data": {
      "image/png": "[encoded data removed]",
      "text/plain": [
       "<Figure size 600x400 with 2 Axes>"
      ]
     },
     "metadata": {},
     "output_type": "display_data"
    },
    {
     "name": "stdout",
     "output_type": "stream",
     "text": [
      "                precision    recall  f1-score   support\n",
      "\n",
      "Normal Traffic       1.00      1.00      1.00    367688\n",
      "        Attack       0.00      0.00      0.00       200\n",
      "\n",
      "      accuracy                           1.00    367888\n",
      "     macro avg       0.50      0.50      0.50    367888\n",
      "  weighted avg       1.00      1.00      1.00    367888\n",
      "\n"
     ]
    }
   ],
   "source": [
    "import matplotlib.pyplot as plt\n",
    "import seaborn as sns\n",
    "from sklearn.metrics import confusion_matrix, classification_report\n",
    "\n",
    "# Compute confusion matrix\n",
    "cm = confusion_matrix(y_test_adv_final, y_pred)\n",
    "\n",
    "# Plot the confusion matrix\n",
    "plt.figure(figsize=(6, 4))\n",
    "sns.heatmap(cm, annot=True, fmt='d', cmap='Blues', xticklabels=['Normal Traffic (0)', 'Attack (1)'], yticklabels=['Normal Traffic (0)', 'Attack (1)'])\n",
    "plt.xlabel('Predicted')\n",
    "plt.ylabel('Actual')\n",
    "plt.title('Confusion Matrix')\n",
    "plt.show()\n",
    "\n",
    "# Print detailed classification report\n",
    "print(classification_report(y_test_adv_final, y_pred, target_names=['Normal Traffic', 'Attack']))\n"
   ]
  },
  {
   "cell_type": "code",
   "execution_count": null,
   "id": "381cc32d-6295-4b81-9d0a-03426dd0dd9f",
   "metadata": {},
   "outputs": [],
   "source": []
  }
 ],
 "metadata": {
  "kernelspec": {
   "display_name": "Python 3 (ipykernel)",
   "language": "python",
   "name": "python3"
  },
  "language_info": {
   "codemirror_mode": {
    "name": "ipython",
    "version": 3
   },
   "file_extension": ".py",
   "mimetype": "text/x-python",
   "name": "python",
   "nbconvert_exporter": "python",
   "pygments_lexer": "ipython3",
   "version": "3.10.16"
  }
 },
 "nbformat": 4,
 "nbformat_minor": 5
}
