{
 "cells": [
  {
   "cell_type": "code",
   "execution_count": 1,
   "id": "a75619b4-b780-4eb6-b910-df047f35be47",
   "metadata": {},
   "outputs": [
    {
     "name": "stdout",
     "output_type": "stream",
     "text": [
      "Requirement already satisfied: tqdm in c:\\users\\ulami\\anaconda3\\lib\\site-packages (4.66.4)\n",
      "Requirement already satisfied: colorama in c:\\users\\ulami\\anaconda3\\lib\\site-packages (from tqdm) (0.4.6)\n"
     ]
    }
   ],
   "source": [
    "!pip install tqdm"
   ]
  },
  {
   "cell_type": "code",
   "execution_count": 1,
   "id": "c5158fb3-939c-456a-b1f7-0a9c77b0ab45",
   "metadata": {},
   "outputs": [],
   "source": [
    "from tqdm import tqdm\n",
    "import os\n",
    "import numpy as np\n",
    "import pandas as pd\n",
    "from scapy.all import rdpcap, IP, TCP, UDP\n",
    "from tensorflow.keras.models import Sequential\n",
    "from tensorflow.keras.layers import Conv2D, MaxPooling2D, Flatten, Dense\n",
    "from sklearn.model_selection import train_test_split"
   ]
  },
  {
   "cell_type": "code",
   "execution_count": 18,
   "id": "3440ee4b-3d03-4d22-b1cd-85473a47ca15",
   "metadata": {},
   "outputs": [],
   "source": [
    "from scapy.all import rdpcap, wrpcap, IP, TCP, UDP"
   ]
  },
  {
   "cell_type": "code",
   "execution_count": 1,
   "id": "314fdd57-37e7-455e-a38a-4658a19d9132",
   "metadata": {},
   "outputs": [
    {
     "name": "stderr",
     "output_type": "stream",
     "text": [
      "Classifying packets: 100%|██████████| 1752554/1752554 [1:43:19<00:00, 282.67it/s]\n"
     ]
    },
    {
     "name": "stdout",
     "output_type": "stream",
     "text": [
      "Matched (attack): 16793\n",
      "Unmatched (normal): 1735244\n",
      "Skipped: 0\n",
      "Total read: 1752554\n"
     ]
    }
   ],
   "source": [
    "import pandas as pd\n",
    "from scapy.all import rdpcap, wrpcap, IP, TCP, UDP\n",
    "from tqdm import tqdm\n",
    "from collections import defaultdict\n",
    "\n",
    "# === Load and preprocess ground truth ===\n",
    "gt = pd.read_csv(r\"C:\\Users\\ulami\\Desktop\\NUSW-NB15_GT_22_01.csv\")\n",
    "\n",
    "gt[\"key\"] = list(zip(\n",
    "    gt[\"Source IP\"],\n",
    "    gt[\"Destination IP\"],\n",
    "    gt[\"Source Port\"].astype(int),\n",
    "    gt[\"Destination Port\"].astype(int),\n",
    "    gt[\"Protocol\"].str.lower()\n",
    "))\n",
    "\n",
    "gt_index = defaultdict(list)\n",
    "for _, row in gt.iterrows():\n",
    "    gt_index[row[\"key\"]].append((row[\"Start time\"], row[\"Last time\"]))\n",
    "\n",
    "\n",
    "# === Labeling function ===\n",
    "def get_attack_label(timestamp, src_ip, dst_ip, sport, dport, proto):\n",
    "    candidates = gt[\n",
    "        (gt[\"Start time\"] <= timestamp) &\n",
    "        (gt[\"Last time\"] >= timestamp) &\n",
    "        (gt[\"Source IP\"] == src_ip) &\n",
    "        (gt[\"Destination IP\"] == dst_ip) &\n",
    "        (gt[\"Source Port\"].astype(int) == sport) &\n",
    "        (gt[\"Destination Port\"].astype(int) == dport) &\n",
    "        (gt[\"Protocol\"].str.lower() == proto.lower())\n",
    "    ]\n",
    "    return 1 if not candidates.empty else 0\n",
    "\n",
    "\n",
    "# === Load packets and classify ===\n",
    "packets = rdpcap(r\"C:\\Users\\ulami\\Desktop\\datasety\\UNSW-NB15-pcap\\3.pcap\")\n",
    "\n",
    "attack_packets = []\n",
    "normal_packets = []\n",
    "\n",
    "matched, unmatched, skipped = 0, 0, 0\n",
    "\n",
    "for pkt in tqdm(packets, desc=\"Classifying packets\"):\n",
    "    try:\n",
    "        if IP in pkt and (TCP in pkt or UDP in pkt):\n",
    "            proto = \"tcp\" if TCP in pkt else \"udp\"\n",
    "            l4 = pkt[TCP] if TCP in pkt else pkt[UDP]\n",
    "            src_ip = pkt[IP].src\n",
    "            dst_ip = pkt[IP].dst\n",
    "            sport = l4.sport\n",
    "            dport = l4.dport\n",
    "            timestamp = int(pkt.time)\n",
    "\n",
    "            label = get_attack_label(timestamp, src_ip, dst_ip, sport, dport, proto)\n",
    "            if label == 1:\n",
    "                matched += 1\n",
    "                attack_packets.append(pkt)\n",
    "            else:\n",
    "                unmatched += 1\n",
    "                normal_packets.append(pkt)\n",
    "    except Exception as e:\n",
    "        skipped += 1\n",
    "\n",
    "print(f\"Matched (attack): {matched}\")\n",
    "print(f\"Unmatched (normal): {unmatched}\")\n",
    "print(f\"Skipped: {skipped}\")\n",
    "print(f\"Total read: {len(packets)}\")\n",
    "\n",
    "\n",
    "# === Save to PCAP files ===\n",
    "wrpcap(r\"C:\\Users\\ulami\\Desktop\\datasety\\UNSW-NB15-pcap\\attack3.pcap\", attack_packets)\n",
    "wrpcap(r\"C:\\Users\\ulami\\Desktop\\datasety\\UNSW-NB15-pcap\\normal3.pcap\", normal_packets)\n"
   ]
  },
  {
   "cell_type": "code",
   "execution_count": 5,
   "id": "751edab4-9590-420b-8b3c-61cda5905de3",
   "metadata": {},
   "outputs": [
    {
     "name": "stdout",
     "output_type": "stream",
     "text": [
      "Matched (attack): 980\n",
      "Unmatched (normal): 153546\n",
      "Skipped: 0\n",
      "Total read: 1800680\n"
     ]
    }
   ],
   "source": [
    "print(f\"Matched (attack): {matched}\")\n",
    "print(f\"Unmatched (normal): {unmatched}\")\n",
    "print(f\"Skipped: {skipped}\")\n",
    "print(f\"Total read: {len(packets)}\")"
   ]
  },
  {
   "cell_type": "markdown",
   "id": "a322222d-a8ff-463e-a226-ccab96cade54",
   "metadata": {},
   "source": [
    "# MODEL"
   ]
  },
  {
   "cell_type": "code",
   "execution_count": 3,
   "id": "6faf3bfd-19b2-4cdd-9f43-091b699f5e56",
   "metadata": {},
   "outputs": [],
   "source": [
    "from scapy.all import rdpcap, IP, Ether, CookedLinux\n",
    "import os\n",
    "import numpy as np\n",
    "\n",
    "def remove_ip(packet):\n",
    "    # Neutralize MAC addresses\n",
    "    if Ether in packet:\n",
    "        packet[Ether].src = \"00:00:00:00:00:00\"\n",
    "        packet[Ether].dst = \"00:00:00:00:00:00\"\n",
    "    elif CookedLinux in packet:\n",
    "        packet[CookedLinux].src = \"00:00:00:00:00:00\"\n",
    "        \n",
    "    if IP in packet:\n",
    "        packet[IP].src = '0.0.0.0'\n",
    "        packet[IP].dst = '0.0.0.0'\n",
    "        del packet[IP].chksum\n",
    "\n",
    "        # Clear transport-layer checksums\n",
    "        if packet.haslayer(\"TCP\"):\n",
    "            del packet[\"TCP\"].chksum\n",
    "        elif packet.haslayer(\"UDP\"):\n",
    "            del packet[\"UDP\"].chksum\n",
    "    return packet\n",
    "\n",
    "def packet_to_bytes(pkt, max_len):\n",
    "    pkt = remove_ip(pkt)\n",
    "    raw = bytes(pkt)\n",
    "    if len(raw) > max_len:\n",
    "        return raw[:max_len]\n",
    "    else:\n",
    "        return raw.ljust(max_len, b'\\x00')  # pad with zeros\n",
    "\n",
    "def extract_raw_bytes_from_folder(folder_path, max_len=100):\n",
    "    all_features = []\n",
    "    for file in os.listdir(folder_path):\n",
    "        if file.lower().endswith('.pcap'):\n",
    "            file_path = os.path.join(folder_path, file)\n",
    "            print(f\"Processing {file_path}\")\n",
    "            packets = rdpcap(file_path)\n",
    "            features = [packet_to_bytes(pkt, max_len) for pkt in packets]\n",
    "            all_features.extend(features)\n",
    "    # Convert to numpy array\n",
    "    return np.array([np.frombuffer(x, dtype=np.uint8) for x in all_features])"
   ]
  },
  {
   "cell_type": "code",
   "execution_count": 4,
   "id": "b2a8d1cd-48d8-41d0-8fb5-2fa7404dc0fd",
   "metadata": {},
   "outputs": [
    {
     "name": "stdout",
     "output_type": "stream",
     "text": [
      "Processing C:\\Users\\ulami\\Desktop\\datasety\\UNSW-NB15-pcap\\normal\\normal.pcap\n"
     ]
    },
    {
     "name": "stderr",
     "output_type": "stream",
     "text": [
      "WARNING: DNS decompression loop detected\n",
      "WARNING: DNS decompression loop detected\n"
     ]
    },
    {
     "name": "stdout",
     "output_type": "stream",
     "text": [
      "Processing C:\\Users\\ulami\\Desktop\\datasety\\UNSW-NB15-pcap\\attack\\attack.pcap\n"
     ]
    },
    {
     "name": "stderr",
     "output_type": "stream",
     "text": [
      "WARNING: DNS decompression loop detected\n",
      "WARNING: DNS decompression loop detected\n"
     ]
    },
    {
     "name": "stdout",
     "output_type": "stream",
     "text": [
      "Processing C:\\Users\\ulami\\Desktop\\datasety\\UNSW-NB15-pcap\\attack\\attack2.pcap\n",
      "Processing C:\\Users\\ulami\\Desktop\\datasety\\UNSW-NB15-pcap\\attack\\attack3.pcap\n"
     ]
    }
   ],
   "source": [
    "from sklearn.model_selection import train_test_split\n",
    "\n",
    "normal_folder = r\"C:\\Users\\ulami\\Desktop\\datasety\\UNSW-NB15-pcap\\normal\"\n",
    "attack_folder = r\"C:\\Users\\ulami\\Desktop\\datasety\\UNSW-NB15-pcap\\attack\"\n",
    "\n",
    "# Extract and label\n",
    "X_normal = extract_raw_bytes_from_folder(normal_folder)\n",
    "X_attack = extract_raw_bytes_from_folder(attack_folder)\n",
    "\n",
    "y_normal = np.zeros(X_normal.shape[0])\n",
    "y_attack = np.ones(X_attack.shape[0])\n",
    "\n",
    "# Combine data and labels\n",
    "X = np.vstack((X_normal, X_attack))\n",
    "y = np.hstack((y_normal, y_attack))\n",
    "\n",
    "# Split\n",
    "X_train, X_test, y_train, y_test = train_test_split(X, y, test_size=0.2, random_state=42, stratify=y)\n",
    "\n",
    "# Reshape for CNN input\n",
    "X_train = X_train[..., np.newaxis]\n",
    "X_test = X_test[..., np.newaxis]"
   ]
  },
  {
   "cell_type": "code",
   "execution_count": 5,
   "id": "dc1093f6-bb11-4531-800e-7266ab91b664",
   "metadata": {},
   "outputs": [],
   "source": [
    "# Combine for full dataset\n",
    "X_all = np.vstack((X_normal, X_attack))\n",
    "y_all = np.hstack((y_normal, y_attack))\n",
    "\n",
    "# Normalize data before splitting\n",
    "X_all = X_all.astype(np.float32) / 255.0\n",
    "\n",
    "attack_start_idx = len(X_normal)\n",
    "all_indices = np.arange(len(X_all))\n",
    "\n",
    "# Split dataset\n",
    "X_train, X_test, y_train, y_test, idx_train, idx_test = train_test_split(\n",
    "    X_all, y_all, all_indices, test_size=0.2, random_state=42, stratify=y_all\n",
    ")\n",
    "\n",
    "# CNN reshape\n",
    "X_train = X_train[..., np.newaxis]\n",
    "X_test = X_test[..., np.newaxis]"
   ]
  },
  {
   "cell_type": "code",
   "execution_count": 6,
   "id": "43f15e2b-d2d7-472b-8510-baf9476db9c3",
   "metadata": {},
   "outputs": [],
   "source": [
    "from tensorflow.keras.models import load_model\n",
    "model = load_model(r\"C:\\Users\\ulami\\Desktop\\magisterka\\models_final\\unsw_pcap_final.keras\")"
   ]
  },
  {
   "cell_type": "code",
   "execution_count": 7,
   "id": "b2bd82ec-d157-431f-bc31-0b35cfb6b443",
   "metadata": {},
   "outputs": [],
   "source": [
    "from tensorflow.keras.models import load_model\n",
    "final_model = load_model(r\"C:\\Users\\ulami\\Desktop\\magisterka\\models_final\\UNSW_NB15_csv_final.keras\")   "
   ]
  },
  {
   "cell_type": "code",
   "execution_count": 9,
   "id": "0448d577-f030-4aa6-ad32-721e92057674",
   "metadata": {},
   "outputs": [
    {
     "data": {
      "text/html": [
       "<pre style=\"white-space:pre;overflow-x:auto;line-height:normal;font-family:Menlo,'DejaVu Sans Mono',consolas,'Courier New',monospace\"><span style=\"font-weight: bold\">Model: \"sequential_162\"</span>\n",
       "</pre>\n"
      ],
      "text/plain": [
       "\u001b[1mModel: \"sequential_162\"\u001b[0m\n"
      ]
     },
     "metadata": {},
     "output_type": "display_data"
    },
    {
     "data": {
      "text/html": [
       "<pre style=\"white-space:pre;overflow-x:auto;line-height:normal;font-family:Menlo,'DejaVu Sans Mono',consolas,'Courier New',monospace\">┏━━━━━━━━━━━━━━━━━━━━━━━━━━━━━━━━━┳━━━━━━━━━━━━━━━━━━━━━━━━┳━━━━━━━━━━━━━━━┓\n",
       "┃<span style=\"font-weight: bold\"> Layer (type)                    </span>┃<span style=\"font-weight: bold\"> Output Shape           </span>┃<span style=\"font-weight: bold\">       Param # </span>┃\n",
       "┡━━━━━━━━━━━━━━━━━━━━━━━━━━━━━━━━━╇━━━━━━━━━━━━━━━━━━━━━━━━╇━━━━━━━━━━━━━━━┩\n",
       "│ dense_575 (<span style=\"color: #0087ff; text-decoration-color: #0087ff\">Dense</span>)               │ (<span style=\"color: #00d7ff; text-decoration-color: #00d7ff\">None</span>, <span style=\"color: #00af00; text-decoration-color: #00af00\">32</span>)             │           <span style=\"color: #00af00; text-decoration-color: #00af00\">608</span> │\n",
       "├─────────────────────────────────┼────────────────────────┼───────────────┤\n",
       "│ dense_576 (<span style=\"color: #0087ff; text-decoration-color: #0087ff\">Dense</span>)               │ (<span style=\"color: #00d7ff; text-decoration-color: #00d7ff\">None</span>, <span style=\"color: #00af00; text-decoration-color: #00af00\">4</span>)              │           <span style=\"color: #00af00; text-decoration-color: #00af00\">132</span> │\n",
       "├─────────────────────────────────┼────────────────────────┼───────────────┤\n",
       "│ dense_577 (<span style=\"color: #0087ff; text-decoration-color: #0087ff\">Dense</span>)               │ (<span style=\"color: #00d7ff; text-decoration-color: #00d7ff\">None</span>, <span style=\"color: #00af00; text-decoration-color: #00af00\">1</span>)              │             <span style=\"color: #00af00; text-decoration-color: #00af00\">5</span> │\n",
       "└─────────────────────────────────┴────────────────────────┴───────────────┘\n",
       "</pre>\n"
      ],
      "text/plain": [
       "┏━━━━━━━━━━━━━━━━━━━━━━━━━━━━━━━━━┳━━━━━━━━━━━━━━━━━━━━━━━━┳━━━━━━━━━━━━━━━┓\n",
       "┃\u001b[1m \u001b[0m\u001b[1mLayer (type)                   \u001b[0m\u001b[1m \u001b[0m┃\u001b[1m \u001b[0m\u001b[1mOutput Shape          \u001b[0m\u001b[1m \u001b[0m┃\u001b[1m \u001b[0m\u001b[1m      Param #\u001b[0m\u001b[1m \u001b[0m┃\n",
       "┡━━━━━━━━━━━━━━━━━━━━━━━━━━━━━━━━━╇━━━━━━━━━━━━━━━━━━━━━━━━╇━━━━━━━━━━━━━━━┩\n",
       "│ dense_575 (\u001b[38;5;33mDense\u001b[0m)               │ (\u001b[38;5;45mNone\u001b[0m, \u001b[38;5;34m32\u001b[0m)             │           \u001b[38;5;34m608\u001b[0m │\n",
       "├─────────────────────────────────┼────────────────────────┼───────────────┤\n",
       "│ dense_576 (\u001b[38;5;33mDense\u001b[0m)               │ (\u001b[38;5;45mNone\u001b[0m, \u001b[38;5;34m4\u001b[0m)              │           \u001b[38;5;34m132\u001b[0m │\n",
       "├─────────────────────────────────┼────────────────────────┼───────────────┤\n",
       "│ dense_577 (\u001b[38;5;33mDense\u001b[0m)               │ (\u001b[38;5;45mNone\u001b[0m, \u001b[38;5;34m1\u001b[0m)              │             \u001b[38;5;34m5\u001b[0m │\n",
       "└─────────────────────────────────┴────────────────────────┴───────────────┘\n"
      ]
     },
     "metadata": {},
     "output_type": "display_data"
    },
    {
     "data": {
      "text/html": [
       "<pre style=\"white-space:pre;overflow-x:auto;line-height:normal;font-family:Menlo,'DejaVu Sans Mono',consolas,'Courier New',monospace\"><span style=\"font-weight: bold\"> Total params: </span><span style=\"color: #00af00; text-decoration-color: #00af00\">2,237</span> (8.74 KB)\n",
       "</pre>\n"
      ],
      "text/plain": [
       "\u001b[1m Total params: \u001b[0m\u001b[38;5;34m2,237\u001b[0m (8.74 KB)\n"
      ]
     },
     "metadata": {},
     "output_type": "display_data"
    },
    {
     "data": {
      "text/html": [
       "<pre style=\"white-space:pre;overflow-x:auto;line-height:normal;font-family:Menlo,'DejaVu Sans Mono',consolas,'Courier New',monospace\"><span style=\"font-weight: bold\"> Trainable params: </span><span style=\"color: #00af00; text-decoration-color: #00af00\">745</span> (2.91 KB)\n",
       "</pre>\n"
      ],
      "text/plain": [
       "\u001b[1m Trainable params: \u001b[0m\u001b[38;5;34m745\u001b[0m (2.91 KB)\n"
      ]
     },
     "metadata": {},
     "output_type": "display_data"
    },
    {
     "data": {
      "text/html": [
       "<pre style=\"white-space:pre;overflow-x:auto;line-height:normal;font-family:Menlo,'DejaVu Sans Mono',consolas,'Courier New',monospace\"><span style=\"font-weight: bold\"> Non-trainable params: </span><span style=\"color: #00af00; text-decoration-color: #00af00\">0</span> (0.00 B)\n",
       "</pre>\n"
      ],
      "text/plain": [
       "\u001b[1m Non-trainable params: \u001b[0m\u001b[38;5;34m0\u001b[0m (0.00 B)\n"
      ]
     },
     "metadata": {},
     "output_type": "display_data"
    },
    {
     "data": {
      "text/html": [
       "<pre style=\"white-space:pre;overflow-x:auto;line-height:normal;font-family:Menlo,'DejaVu Sans Mono',consolas,'Courier New',monospace\"><span style=\"font-weight: bold\"> Optimizer params: </span><span style=\"color: #00af00; text-decoration-color: #00af00\">1,492</span> (5.83 KB)\n",
       "</pre>\n"
      ],
      "text/plain": [
       "\u001b[1m Optimizer params: \u001b[0m\u001b[38;5;34m1,492\u001b[0m (5.83 KB)\n"
      ]
     },
     "metadata": {},
     "output_type": "display_data"
    }
   ],
   "source": [
    "final_model.summary()"
   ]
  },
  {
   "cell_type": "code",
   "execution_count": 30,
   "id": "5354aca6-6e20-4445-b481-5d06c6a946f3",
   "metadata": {},
   "outputs": [
    {
     "data": {
      "text/plain": [
       "100"
      ]
     },
     "execution_count": 30,
     "metadata": {},
     "output_type": "execute_result"
    }
   ],
   "source": [
    "input_dim"
   ]
  },
  {
   "cell_type": "code",
   "execution_count": 52,
   "id": "be288948-f9d3-4231-b5fa-83cfd66c909a",
   "metadata": {},
   "outputs": [],
   "source": [
    "from tensorflow.keras.models import Sequential\n",
    "from tensorflow.keras.layers import Input, Conv1D, MaxPooling1D, GlobalMaxPooling1D, Dropout, Dense\n",
    "from tensorflow.keras.optimizers import Adam\n",
    "\n",
    "def build_model(input_dim: int):\n",
    "    m = Sequential()\n",
    "    n_channels = 1\n",
    "    m.add(Input(shape=(input_dim, n_channels)))\n",
    "\n",
    "    for i in range(best_params['n_layers']):\n",
    "        filters = best_params.get(f\"n_units_l{i}\")            # use your existing units as conv filters\n",
    "        ksize   = 5\n",
    "        dr      = best_params.get(f\"dropout_l{i}\", 0.0)\n",
    "        poolsz  = best_params.get(f\"pool_size_l{i}\")          # set >1 to enable per-layer pooling\n",
    "\n",
    "        m.add(Conv1D(filters=filters, kernel_size=ksize,\n",
    "                     activation='relu', padding='same'))\n",
    "        if poolsz and poolsz > 1:\n",
    "            m.add(MaxPooling1D(pool_size=poolsz))\n",
    "        if dr and dr > 0:\n",
    "            m.add(Dropout(dr))\n",
    "\n",
    "    m.add(GlobalMaxPooling1D())\n",
    "    m.add(Dense(32, activation='relu'))\n",
    "    m.add(Dense(1, activation='sigmoid'))\n",
    "\n",
    "    m.compile(optimizer=Adam(learning_rate=best_params['learning_rate']),\n",
    "              loss='binary_crossentropy',\n",
    "              metrics=['accuracy'])\n",
    "    return m\n"
   ]
  },
  {
   "cell_type": "code",
   "execution_count": 58,
   "id": "6a2bed0d-d84f-4fa5-93d5-303362b7674f",
   "metadata": {},
   "outputs": [],
   "source": [
    "# ----- Your fixed best hyperparameters -----\n",
    "best_params = {\n",
    "    'epochs': 5,\n",
    "    'n_layers': 3,\n",
    "    'n_units_l0': 64, 'dropout_l0': 0.0,\n",
    "    'n_units_l1': 4, 'dropout_l1': 0.0,\n",
    "    'n_units_l2': 8, 'dropout_l2': 0.0,\n",
    "    'learning_rate': 1e-3,\n",
    "    'batch_size': 32\n",
    "}"
   ]
  },
  {
   "cell_type": "code",
   "execution_count": 65,
   "id": "6531a4b3-30c7-4f13-94f4-f2bace2fdfcc",
   "metadata": {},
   "outputs": [],
   "source": [
    "model = build_model(input_dim=X_train.shape[1])"
   ]
  },
  {
   "cell_type": "code",
   "execution_count": 66,
   "id": "85288cf0-d0b8-4c81-abdd-f21f599b21ab",
   "metadata": {},
   "outputs": [
    {
     "data": {
      "text/html": [
       "<pre style=\"white-space:pre;overflow-x:auto;line-height:normal;font-family:Menlo,'DejaVu Sans Mono',consolas,'Courier New',monospace\"><span style=\"font-weight: bold\">Model: \"sequential_15\"</span>\n",
       "</pre>\n"
      ],
      "text/plain": [
       "\u001b[1mModel: \"sequential_15\"\u001b[0m\n"
      ]
     },
     "metadata": {},
     "output_type": "display_data"
    },
    {
     "data": {
      "text/html": [
       "<pre style=\"white-space:pre;overflow-x:auto;line-height:normal;font-family:Menlo,'DejaVu Sans Mono',consolas,'Courier New',monospace\">┏━━━━━━━━━━━━━━━━━━━━━━━━━━━━━━━━━┳━━━━━━━━━━━━━━━━━━━━━━━━┳━━━━━━━━━━━━━━━┓\n",
       "┃<span style=\"font-weight: bold\"> Layer (type)                    </span>┃<span style=\"font-weight: bold\"> Output Shape           </span>┃<span style=\"font-weight: bold\">       Param # </span>┃\n",
       "┡━━━━━━━━━━━━━━━━━━━━━━━━━━━━━━━━━╇━━━━━━━━━━━━━━━━━━━━━━━━╇━━━━━━━━━━━━━━━┩\n",
       "│ conv1d_37 (<span style=\"color: #0087ff; text-decoration-color: #0087ff\">Conv1D</span>)              │ (<span style=\"color: #00d7ff; text-decoration-color: #00d7ff\">None</span>, <span style=\"color: #00af00; text-decoration-color: #00af00\">100</span>, <span style=\"color: #00af00; text-decoration-color: #00af00\">64</span>)        │           <span style=\"color: #00af00; text-decoration-color: #00af00\">384</span> │\n",
       "├─────────────────────────────────┼────────────────────────┼───────────────┤\n",
       "│ conv1d_38 (<span style=\"color: #0087ff; text-decoration-color: #0087ff\">Conv1D</span>)              │ (<span style=\"color: #00d7ff; text-decoration-color: #00d7ff\">None</span>, <span style=\"color: #00af00; text-decoration-color: #00af00\">100</span>, <span style=\"color: #00af00; text-decoration-color: #00af00\">4</span>)         │         <span style=\"color: #00af00; text-decoration-color: #00af00\">1,284</span> │\n",
       "├─────────────────────────────────┼────────────────────────┼───────────────┤\n",
       "│ conv1d_39 (<span style=\"color: #0087ff; text-decoration-color: #0087ff\">Conv1D</span>)              │ (<span style=\"color: #00d7ff; text-decoration-color: #00d7ff\">None</span>, <span style=\"color: #00af00; text-decoration-color: #00af00\">100</span>, <span style=\"color: #00af00; text-decoration-color: #00af00\">8</span>)         │           <span style=\"color: #00af00; text-decoration-color: #00af00\">168</span> │\n",
       "├─────────────────────────────────┼────────────────────────┼───────────────┤\n",
       "│ global_max_pooling1d_11         │ (<span style=\"color: #00d7ff; text-decoration-color: #00d7ff\">None</span>, <span style=\"color: #00af00; text-decoration-color: #00af00\">8</span>)              │             <span style=\"color: #00af00; text-decoration-color: #00af00\">0</span> │\n",
       "│ (<span style=\"color: #0087ff; text-decoration-color: #0087ff\">GlobalMaxPooling1D</span>)            │                        │               │\n",
       "├─────────────────────────────────┼────────────────────────┼───────────────┤\n",
       "│ dense_20 (<span style=\"color: #0087ff; text-decoration-color: #0087ff\">Dense</span>)                │ (<span style=\"color: #00d7ff; text-decoration-color: #00d7ff\">None</span>, <span style=\"color: #00af00; text-decoration-color: #00af00\">32</span>)             │           <span style=\"color: #00af00; text-decoration-color: #00af00\">288</span> │\n",
       "├─────────────────────────────────┼────────────────────────┼───────────────┤\n",
       "│ dense_21 (<span style=\"color: #0087ff; text-decoration-color: #0087ff\">Dense</span>)                │ (<span style=\"color: #00d7ff; text-decoration-color: #00d7ff\">None</span>, <span style=\"color: #00af00; text-decoration-color: #00af00\">1</span>)              │            <span style=\"color: #00af00; text-decoration-color: #00af00\">33</span> │\n",
       "└─────────────────────────────────┴────────────────────────┴───────────────┘\n",
       "</pre>\n"
      ],
      "text/plain": [
       "┏━━━━━━━━━━━━━━━━━━━━━━━━━━━━━━━━━┳━━━━━━━━━━━━━━━━━━━━━━━━┳━━━━━━━━━━━━━━━┓\n",
       "┃\u001b[1m \u001b[0m\u001b[1mLayer (type)                   \u001b[0m\u001b[1m \u001b[0m┃\u001b[1m \u001b[0m\u001b[1mOutput Shape          \u001b[0m\u001b[1m \u001b[0m┃\u001b[1m \u001b[0m\u001b[1m      Param #\u001b[0m\u001b[1m \u001b[0m┃\n",
       "┡━━━━━━━━━━━━━━━━━━━━━━━━━━━━━━━━━╇━━━━━━━━━━━━━━━━━━━━━━━━╇━━━━━━━━━━━━━━━┩\n",
       "│ conv1d_37 (\u001b[38;5;33mConv1D\u001b[0m)              │ (\u001b[38;5;45mNone\u001b[0m, \u001b[38;5;34m100\u001b[0m, \u001b[38;5;34m64\u001b[0m)        │           \u001b[38;5;34m384\u001b[0m │\n",
       "├─────────────────────────────────┼────────────────────────┼───────────────┤\n",
       "│ conv1d_38 (\u001b[38;5;33mConv1D\u001b[0m)              │ (\u001b[38;5;45mNone\u001b[0m, \u001b[38;5;34m100\u001b[0m, \u001b[38;5;34m4\u001b[0m)         │         \u001b[38;5;34m1,284\u001b[0m │\n",
       "├─────────────────────────────────┼────────────────────────┼───────────────┤\n",
       "│ conv1d_39 (\u001b[38;5;33mConv1D\u001b[0m)              │ (\u001b[38;5;45mNone\u001b[0m, \u001b[38;5;34m100\u001b[0m, \u001b[38;5;34m8\u001b[0m)         │           \u001b[38;5;34m168\u001b[0m │\n",
       "├─────────────────────────────────┼────────────────────────┼───────────────┤\n",
       "│ global_max_pooling1d_11         │ (\u001b[38;5;45mNone\u001b[0m, \u001b[38;5;34m8\u001b[0m)              │             \u001b[38;5;34m0\u001b[0m │\n",
       "│ (\u001b[38;5;33mGlobalMaxPooling1D\u001b[0m)            │                        │               │\n",
       "├─────────────────────────────────┼────────────────────────┼───────────────┤\n",
       "│ dense_20 (\u001b[38;5;33mDense\u001b[0m)                │ (\u001b[38;5;45mNone\u001b[0m, \u001b[38;5;34m32\u001b[0m)             │           \u001b[38;5;34m288\u001b[0m │\n",
       "├─────────────────────────────────┼────────────────────────┼───────────────┤\n",
       "│ dense_21 (\u001b[38;5;33mDense\u001b[0m)                │ (\u001b[38;5;45mNone\u001b[0m, \u001b[38;5;34m1\u001b[0m)              │            \u001b[38;5;34m33\u001b[0m │\n",
       "└─────────────────────────────────┴────────────────────────┴───────────────┘\n"
      ]
     },
     "metadata": {},
     "output_type": "display_data"
    },
    {
     "data": {
      "text/html": [
       "<pre style=\"white-space:pre;overflow-x:auto;line-height:normal;font-family:Menlo,'DejaVu Sans Mono',consolas,'Courier New',monospace\"><span style=\"font-weight: bold\"> Total params: </span><span style=\"color: #00af00; text-decoration-color: #00af00\">2,157</span> (8.43 KB)\n",
       "</pre>\n"
      ],
      "text/plain": [
       "\u001b[1m Total params: \u001b[0m\u001b[38;5;34m2,157\u001b[0m (8.43 KB)\n"
      ]
     },
     "metadata": {},
     "output_type": "display_data"
    },
    {
     "data": {
      "text/html": [
       "<pre style=\"white-space:pre;overflow-x:auto;line-height:normal;font-family:Menlo,'DejaVu Sans Mono',consolas,'Courier New',monospace\"><span style=\"font-weight: bold\"> Trainable params: </span><span style=\"color: #00af00; text-decoration-color: #00af00\">2,157</span> (8.43 KB)\n",
       "</pre>\n"
      ],
      "text/plain": [
       "\u001b[1m Trainable params: \u001b[0m\u001b[38;5;34m2,157\u001b[0m (8.43 KB)\n"
      ]
     },
     "metadata": {},
     "output_type": "display_data"
    },
    {
     "data": {
      "text/html": [
       "<pre style=\"white-space:pre;overflow-x:auto;line-height:normal;font-family:Menlo,'DejaVu Sans Mono',consolas,'Courier New',monospace\"><span style=\"font-weight: bold\"> Non-trainable params: </span><span style=\"color: #00af00; text-decoration-color: #00af00\">0</span> (0.00 B)\n",
       "</pre>\n"
      ],
      "text/plain": [
       "\u001b[1m Non-trainable params: \u001b[0m\u001b[38;5;34m0\u001b[0m (0.00 B)\n"
      ]
     },
     "metadata": {},
     "output_type": "display_data"
    }
   ],
   "source": [
    "model.summary()"
   ]
  },
  {
   "cell_type": "code",
   "execution_count": 71,
   "id": "93820fc8-97eb-416a-b597-836bb33a3c2c",
   "metadata": {},
   "outputs": [
    {
     "name": "stdout",
     "output_type": "stream",
     "text": [
      "Epoch 1/5\n",
      "37405/37405 ━━━━━━━━━━━━━━━━━━━━ 167s 4ms/step - accuracy: 0.9816 - loss: 0.0524 - val_accuracy: 0.9916 - val_loss: 0.0209\n",
      "Epoch 2/5\n",
      "37405/37405 ━━━━━━━━━━━━━━━━━━━━ 166s 4ms/step - accuracy: 0.9921 - loss: 0.0188 - val_accuracy: 0.9931 - val_loss: 0.0157\n",
      "Epoch 3/5\n",
      "37405/37405 ━━━━━━━━━━━━━━━━━━━━ 164s 4ms/step - accuracy: 0.9935 - loss: 0.0149 - val_accuracy: 0.9927 - val_loss: 0.0163\n",
      "Epoch 4/5\n",
      "37405/37405 ━━━━━━━━━━━━━━━━━━━━ 163s 4ms/step - accuracy: 0.9937 - loss: 0.0145 - val_accuracy: 0.9935 - val_loss: 0.0142\n",
      "Epoch 5/5\n",
      "37405/37405 ━━━━━━━━━━━━━━━━━━━━ 161s 4ms/step - accuracy: 0.9940 - loss: 0.0138 - val_accuracy: 0.9944 - val_loss: 0.0129\n",
      "11690/11690 ━━━━━━━━━━━━━━━━━━━━ 20s 2ms/step\n"
     ]
    }
   ],
   "source": [
    "model = build_model(input_dim=X_train.shape[1])\n",
    "model.fit(\n",
    "    X_train, y_train,\n",
    "    epochs=best_params['epochs'],\n",
    "    batch_size=best_params['batch_size'],\n",
    "    validation_split=0.2,\n",
    "    verbose=1\n",
    ")\n",
    "\n",
    "test_preds = (model.predict(X_test, verbose=1).ravel() > 0.5).astype(int)"
   ]
  },
  {
   "cell_type": "code",
   "execution_count": 73,
   "id": "2911ff12-967c-4b5e-ba92-4e23aecc604a",
   "metadata": {},
   "outputs": [
    {
     "name": "stdout",
     "output_type": "stream",
     "text": [
      "Accuracy: 0.99\n",
      "Precision: 0.93\n",
      "Recall: 0.97\n"
     ]
    }
   ],
   "source": [
    "import numpy as np\n",
    "from sklearn.metrics import accuracy_score, precision_score, recall_score, confusion_matrix, ConfusionMatrixDisplay\n",
    "import matplotlib.pyplot as plt\n",
    "\n",
    "accuracy = accuracy_score(y_test, test_preds)\n",
    "precision = precision_score(y_test, test_preds)\n",
    "recall = recall_score(y_test, test_preds)\n",
    "\n",
    "# Print the results\n",
    "print(f\"Accuracy: {accuracy:.2f}\")\n",
    "print(f\"Precision: {precision:.2f}\")\n",
    "print(f\"Recall: {recall:.2f}\")"
   ]
  },
  {
   "cell_type": "code",
   "execution_count": 74,
   "id": "98174d01-80bb-428d-964e-3ed38b5d4df8",
   "metadata": {},
   "outputs": [
    {
     "data": {
      "image/png": "[encoded data removed]",
      "text/plain": [
       "<Figure size 640x480 with 2 Axes>"
      ]
     },
     "metadata": {},
     "output_type": "display_data"
    },
    {
     "name": "stdout",
     "output_type": "stream",
     "text": [
      "                precision    recall  f1-score   support\n",
      "\n",
      "Normal Traffic       1.00      1.00      1.00    353220\n",
      "        Attack       0.93      0.97      0.95     20830\n",
      "\n",
      "      accuracy                           0.99    374050\n",
      "     macro avg       0.97      0.98      0.97    374050\n",
      "  weighted avg       0.99      0.99      0.99    374050\n",
      "\n"
     ]
    }
   ],
   "source": [
    "from sklearn.metrics import classification_report\n",
    "\n",
    "cm = confusion_matrix(y_test, test_preds)\n",
    "\n",
    "disp = ConfusionMatrixDisplay(confusion_matrix=cm)\n",
    "disp.plot(cmap='Blues')\n",
    "plt.show()\n",
    "\n",
    "# Print detailed classification report\n",
    "print(classification_report(y_test, test_preds, target_names=['Normal Traffic', 'Attack']))"
   ]
  },
  {
   "cell_type": "code",
   "execution_count": 16,
   "id": "cf43a723-a821-4ddd-a304-e94fd26e3f9a",
   "metadata": {},
   "outputs": [],
   "source": [
    "# Original full packets for those test attack samples\n",
    "attack_test_mask = y_test == 1\n",
    "X_attack_test = X_test[attack_test_mask].squeeze(axis=-1)\n",
    "y_attack_test = y_test[attack_test_mask]\n",
    "idx_attack_test = idx_test[attack_test_mask]\n",
    "\n",
    "# Map test indices back to attack-only packets\n",
    "# All attack packets are offset by len(X_normal)\n",
    "relative_attack_indices = idx_attack_test - attack_start_idx\n",
    "packets_attack_test = [packets_attack[i] for i in relative_attack_indices]"
   ]
  },
  {
   "cell_type": "code",
   "execution_count": 76,
   "id": "bfe4096a-bda5-4cd7-8e95-52ed3c4ce8aa",
   "metadata": {},
   "outputs": [],
   "source": [
    "# Save the trained model\n",
    "model.save(\"unsw_pcap_final.keras\")"
   ]
  },
  {
   "cell_type": "markdown",
   "id": "3b791e4a-7d21-4d6c-964b-1078ca576cd3",
   "metadata": {},
   "source": [
    "# Integrated gradient"
   ]
  },
  {
   "cell_type": "code",
   "execution_count": 179,
   "id": "4b8f2589-6844-4160-a23f-2ea8cf4acaa2",
   "metadata": {},
   "outputs": [],
   "source": [
    "def compute_integrated_gradients(model, input_tensor, baseline=None, steps=50):\n",
    "    if baseline is None:\n",
    "        baseline = tf.zeros(shape=input_tensor.shape)\n",
    "\n",
    "    interpolated_inputs = [\n",
    "        baseline + (float(i) / steps) * (input_tensor - baseline)\n",
    "        for i in range(steps + 1)\n",
    "    ]\n",
    "\n",
    "    grads = []\n",
    "    for inp in interpolated_inputs:\n",
    "        with tf.GradientTape() as tape:\n",
    "            tape.watch(inp)\n",
    "            pred = model(inp)\n",
    "        grad = tape.gradient(pred, inp)\n",
    "        grads.append(grad.numpy())\n",
    "\n",
    "    avg_grads = np.average(grads[:-1], axis=0)\n",
    "    integrated_grads = (input_tensor.numpy() - baseline.numpy()) * avg_grads\n",
    "    return integrated_grads.squeeze()\n",
    "\n",
    "def compute_ig_for_samples(model, X_subset, steps=50, max_samples=100, baseline=None):\n",
    "    attributions_list = []\n",
    "    for i in range(min(len(X_subset), max_samples)):\n",
    "        input_sample = tf.convert_to_tensor([X_subset[i]], dtype=tf.float32)\n",
    "        ig = compute_integrated_gradients(model, input_sample, baseline=baseline, steps=steps)\n",
    "        attributions_list.append(ig)\n",
    "    return np.array(attributions_list)\n",
    "\n",
    "# Separate test samples\n",
    "X_normal_test = X_test[y_test == 0]\n",
    "X_attack_test = X_test[y_test == 1]\n"
   ]
  },
  {
   "cell_type": "code",
   "execution_count": 180,
   "id": "48195682-3c24-45d1-9771-b44f19f122a1",
   "metadata": {},
   "outputs": [
    {
     "data": {
      "text/plain": [
       "(3532.2000000000003, 17661.0, 208.3, 1041.5)"
      ]
     },
     "execution_count": 180,
     "metadata": {},
     "output_type": "execute_result"
    }
   ],
   "source": [
    "a_normal_min = X_normal_test.shape[0] *0.01\n",
    "a_normal_max = X_normal_test.shape[0] *0.05\n",
    "\n",
    "a_attack_min = X_attack_test.shape[0] *0.01\n",
    "a_attack_max = X_attack_test.shape[0] *0.05\n",
    "\n",
    "a_normal_min, a_normal_max, a_attack_min, a_attack_max"
   ]
  },
  {
   "cell_type": "code",
   "execution_count": 49,
   "id": "2529ddd6-5ced-4cf2-a876-6c9a3694dfa6",
   "metadata": {},
   "outputs": [],
   "source": [
    "import pandas as pd\n",
    "\n",
    "# Compute IG\n",
    "normal_attributions = compute_ig_for_samples(model, X_normal_test, max_samples=17000)\n",
    "attack_attributions = compute_ig_for_samples(model, X_attack_test, max_samples=1000)\n",
    "# overall_attributions = compute_ig_for_samples(model, X_test, max_samples=500)\n",
    "\n",
    "# Average IG\n",
    "avg_normal_ig = np.mean(normal_attributions, axis=0)\n",
    "avg_attack_ig = np.mean(attack_attributions, axis=0)\n",
    "# avg_all_ig = np.mean(overall_attributions, axis=0)\n"
   ]
  },
  {
   "cell_type": "code",
   "execution_count": 50,
   "id": "e3e494eb-181e-4007-8040-99936d26c14f",
   "metadata": {},
   "outputs": [
    {
     "data": {
      "text/plain": [
       "(    Byte Index  Attribution (Normal Class)  Abs Attribution\n",
       " 24          24                    0.013691         0.013691\n",
       " 51          51                    0.011488         0.011488\n",
       " 53          53                    0.010813         0.010813\n",
       " 62          62                   -0.007306         0.007306\n",
       " 52          52                    0.007158         0.007158\n",
       " 38          38                   -0.006379         0.006379\n",
       " 60          60                   -0.006258         0.006258\n",
       " 12          12                    0.006193         0.006193\n",
       " 20          20                   -0.006141         0.006141\n",
       " 50          50                   -0.005840         0.005840\n",
       " 36          36                    0.005646         0.005646\n",
       " 39          39                   -0.005036         0.005036\n",
       " 61          61                   -0.004635         0.004635\n",
       " 9            9                    0.004256         0.004256\n",
       " 49          49                   -0.003803         0.003803\n",
       " 37          37                   -0.003786         0.003786\n",
       " 16          16                    0.003592         0.003592\n",
       " 66          66                   -0.003514         0.003514\n",
       " 68          68                   -0.003460         0.003460\n",
       " 19          19                    0.003176         0.003176,\n",
       "     Byte Index  Attribution (Attack Class)  Abs Attribution\n",
       " 51          51                    0.392931         0.392931\n",
       " 24          24                    0.133896         0.133896\n",
       " 48          48                   -0.114404         0.114404\n",
       " 26          26                    0.091169         0.091169\n",
       " 16          16                    0.087878         0.087878\n",
       " 50          50                   -0.067500         0.067500\n",
       " 53          53                    0.059379         0.059379\n",
       " 36          36                    0.059310         0.059310\n",
       " 19          19                    0.056917         0.056917\n",
       " 12          12                    0.052552         0.052552\n",
       " 56          56                    0.047065         0.047065\n",
       " 52          52                    0.044959         0.044959\n",
       " 58          58                    0.039283         0.039283\n",
       " 39          39                   -0.038557         0.038557\n",
       " 76          76                    0.036217         0.036217\n",
       " 27          27                    0.033796         0.033796\n",
       " 57          57                    0.033260         0.033260\n",
       " 9            9                    0.032095         0.032095\n",
       " 11          11                   -0.031755         0.031755\n",
       " 66          66                   -0.029374         0.029374)"
      ]
     },
     "execution_count": 50,
     "metadata": {},
     "output_type": "execute_result"
    }
   ],
   "source": [
    "# Normal\n",
    "df_normal = pd.DataFrame({\n",
    "    \"Byte Index\": np.arange(len(avg_normal_ig)),\n",
    "    \"Attribution (Normal Class)\": avg_normal_ig\n",
    "})\n",
    "df_normal[\"Abs Attribution\"] = np.abs(df_normal[\"Attribution (Normal Class)\"])\n",
    "df_normal_sorted = df_normal.sort_values(\"Abs Attribution\", ascending=False)\n",
    "\n",
    "# Attack\n",
    "df_attack = pd.DataFrame({\n",
    "    \"Byte Index\": np.arange(len(avg_attack_ig)),\n",
    "    \"Attribution (Attack Class)\": avg_attack_ig\n",
    "})\n",
    "df_attack[\"Abs Attribution\"] = np.abs(df_attack[\"Attribution (Attack Class)\"])\n",
    "df_attack_sorted = df_attack.sort_values(\"Abs Attribution\", ascending=False)\n",
    "\n",
    "# Display top 20\n",
    "df_normal_sorted.head(20), df_attack_sorted.head(20)"
   ]
  },
  {
   "cell_type": "code",
   "execution_count": 51,
   "id": "b6004ab0-5616-43c3-930d-de0678815b10",
   "metadata": {},
   "outputs": [
    {
     "data": {
      "text/html": [
       "<div>\n",
       "<style scoped>\n",
       "    .dataframe tbody tr th:only-of-type {\n",
       "        vertical-align: middle;\n",
       "    }\n",
       "\n",
       "    .dataframe tbody tr th {\n",
       "        vertical-align: top;\n",
       "    }\n",
       "\n",
       "    .dataframe thead th {\n",
       "        text-align: right;\n",
       "    }\n",
       "</style>\n",
       "<table border=\"1\" class=\"dataframe\">\n",
       "  <thead>\n",
       "    <tr style=\"text-align: right;\">\n",
       "      <th></th>\n",
       "      <th>Byte Index</th>\n",
       "      <th>Attribution</th>\n",
       "      <th>Abs Attribution</th>\n",
       "    </tr>\n",
       "  </thead>\n",
       "  <tbody>\n",
       "    <tr>\n",
       "      <th>24</th>\n",
       "      <td>24</td>\n",
       "      <td>0.031931</td>\n",
       "      <td>0.031931</td>\n",
       "    </tr>\n",
       "    <tr>\n",
       "      <th>51</th>\n",
       "      <td>51</td>\n",
       "      <td>0.031114</td>\n",
       "      <td>0.031114</td>\n",
       "    </tr>\n",
       "    <tr>\n",
       "      <th>26</th>\n",
       "      <td>26</td>\n",
       "      <td>-0.018980</td>\n",
       "      <td>0.018980</td>\n",
       "    </tr>\n",
       "    <tr>\n",
       "      <th>36</th>\n",
       "      <td>36</td>\n",
       "      <td>0.010261</td>\n",
       "      <td>0.010261</td>\n",
       "    </tr>\n",
       "    <tr>\n",
       "      <th>62</th>\n",
       "      <td>62</td>\n",
       "      <td>-0.007619</td>\n",
       "      <td>0.007619</td>\n",
       "    </tr>\n",
       "    <tr>\n",
       "      <th>53</th>\n",
       "      <td>53</td>\n",
       "      <td>0.007488</td>\n",
       "      <td>0.007488</td>\n",
       "    </tr>\n",
       "    <tr>\n",
       "      <th>16</th>\n",
       "      <td>16</td>\n",
       "      <td>0.007322</td>\n",
       "      <td>0.007322</td>\n",
       "    </tr>\n",
       "    <tr>\n",
       "      <th>48</th>\n",
       "      <td>48</td>\n",
       "      <td>-0.007292</td>\n",
       "      <td>0.007292</td>\n",
       "    </tr>\n",
       "    <tr>\n",
       "      <th>21</th>\n",
       "      <td>21</td>\n",
       "      <td>0.006664</td>\n",
       "      <td>0.006664</td>\n",
       "    </tr>\n",
       "    <tr>\n",
       "      <th>66</th>\n",
       "      <td>66</td>\n",
       "      <td>-0.006471</td>\n",
       "      <td>0.006471</td>\n",
       "    </tr>\n",
       "    <tr>\n",
       "      <th>52</th>\n",
       "      <td>52</td>\n",
       "      <td>0.006330</td>\n",
       "      <td>0.006330</td>\n",
       "    </tr>\n",
       "    <tr>\n",
       "      <th>12</th>\n",
       "      <td>12</td>\n",
       "      <td>0.006114</td>\n",
       "      <td>0.006114</td>\n",
       "    </tr>\n",
       "    <tr>\n",
       "      <th>50</th>\n",
       "      <td>50</td>\n",
       "      <td>-0.005974</td>\n",
       "      <td>0.005974</td>\n",
       "    </tr>\n",
       "    <tr>\n",
       "      <th>75</th>\n",
       "      <td>75</td>\n",
       "      <td>0.003816</td>\n",
       "      <td>0.003816</td>\n",
       "    </tr>\n",
       "    <tr>\n",
       "      <th>41</th>\n",
       "      <td>41</td>\n",
       "      <td>0.003808</td>\n",
       "      <td>0.003808</td>\n",
       "    </tr>\n",
       "    <tr>\n",
       "      <th>9</th>\n",
       "      <td>9</td>\n",
       "      <td>0.003708</td>\n",
       "      <td>0.003708</td>\n",
       "    </tr>\n",
       "    <tr>\n",
       "      <th>47</th>\n",
       "      <td>47</td>\n",
       "      <td>0.003546</td>\n",
       "      <td>0.003546</td>\n",
       "    </tr>\n",
       "    <tr>\n",
       "      <th>19</th>\n",
       "      <td>19</td>\n",
       "      <td>0.003536</td>\n",
       "      <td>0.003536</td>\n",
       "    </tr>\n",
       "    <tr>\n",
       "      <th>49</th>\n",
       "      <td>49</td>\n",
       "      <td>-0.003521</td>\n",
       "      <td>0.003521</td>\n",
       "    </tr>\n",
       "    <tr>\n",
       "      <th>83</th>\n",
       "      <td>83</td>\n",
       "      <td>0.003187</td>\n",
       "      <td>0.003187</td>\n",
       "    </tr>\n",
       "  </tbody>\n",
       "</table>\n",
       "</div>"
      ],
      "text/plain": [
       "    Byte Index  Attribution  Abs Attribution\n",
       "24          24     0.031931         0.031931\n",
       "51          51     0.031114         0.031114\n",
       "26          26    -0.018980         0.018980\n",
       "36          36     0.010261         0.010261\n",
       "62          62    -0.007619         0.007619\n",
       "53          53     0.007488         0.007488\n",
       "16          16     0.007322         0.007322\n",
       "48          48    -0.007292         0.007292\n",
       "21          21     0.006664         0.006664\n",
       "66          66    -0.006471         0.006471\n",
       "52          52     0.006330         0.006330\n",
       "12          12     0.006114         0.006114\n",
       "50          50    -0.005974         0.005974\n",
       "75          75     0.003816         0.003816\n",
       "41          41     0.003808         0.003808\n",
       "9            9     0.003708         0.003708\n",
       "47          47     0.003546         0.003546\n",
       "19          19     0.003536         0.003536\n",
       "49          49    -0.003521         0.003521\n",
       "83          83     0.003187         0.003187"
      ]
     },
     "execution_count": 51,
     "metadata": {},
     "output_type": "execute_result"
    }
   ],
   "source": [
    "# All\n",
    "df_all = pd.DataFrame({\n",
    "    \"Byte Index\": np.arange(len(avg_all_ig)),\n",
    "    \"Attribution\": avg_all_ig\n",
    "})\n",
    "df_all[\"Abs Attribution\"] = np.abs(df_all[\"Attribution\"])\n",
    "df_all_sorted = df_all.sort_values(\"Abs Attribution\", ascending=False)\n",
    "\n",
    "df_all_sorted.head(20)"
   ]
  },
  {
   "cell_type": "code",
   "execution_count": 52,
   "id": "1f346762-9f96-44c8-926e-6b8b18d69764",
   "metadata": {},
   "outputs": [
    {
     "data": {
      "image/png": "[encoded data removed]",
      "text/plain": [
       "<Figure size 1400x600 with 1 Axes>"
      ]
     },
     "metadata": {},
     "output_type": "display_data"
    }
   ],
   "source": [
    "import matplotlib.pyplot as plt\n",
    "\n",
    "plt.figure(figsize=(14, 6))\n",
    "plt.plot(avg_normal_ig, label=\"Normal Class Attribution\", linestyle='--')\n",
    "plt.plot(avg_attack_ig, label=\"Attack Class Attribution\", linestyle='-')\n",
    "plt.title(\"Integrated Gradients per Byte (Normal vs Attack Class)\")\n",
    "plt.xlabel(\"Byte Index\")\n",
    "plt.ylabel(\"Attribution\")\n",
    "plt.legend()\n",
    "plt.grid(True)\n",
    "plt.tight_layout()\n",
    "plt.show()\n"
   ]
  },
  {
   "cell_type": "markdown",
   "id": "a5c15f7c-7210-48ef-8bb2-784a06e85223",
   "metadata": {},
   "source": [
    "Top values attack:\n",
    "*  bytes 50-51 - TCP widow size  ✅\n",
    "*  bytes 52-53 - TCP checksum\n",
    "*  byte 24 - IP TTL   ✅\n",
    "*  byte 48 - TCP NS flag (Nonce)   ✅\n",
    "*  byte 16 - IP header length\n",
    "*  bytes 26-27 - IP checksum"
   ]
  },
  {
   "cell_type": "markdown",
   "id": "c7b58457-49c3-4267-b276-ea69d9ec9b0f",
   "metadata": {},
   "source": [
    "## Baseline - mean"
   ]
  },
  {
   "cell_type": "code",
   "execution_count": 64,
   "id": "00bba710-eaee-4c74-a046-d7de4398153d",
   "metadata": {},
   "outputs": [],
   "source": [
    "# mean of normal test samples as a baseline\n",
    "normal_mean = np.mean(X_normal_test, axis=0)\n",
    "baseline_tensor = tf.convert_to_tensor([normal_mean], dtype=tf.float32)\n",
    "\n",
    "normal_attributions = compute_ig_for_samples(model, X_normal_test, max_samples=3000, baseline=baseline_tensor)\n",
    "attack_attributions = compute_ig_for_samples(model, X_attack_test, max_samples=1000, baseline=baseline_tensor)\n"
   ]
  },
  {
   "cell_type": "code",
   "execution_count": 65,
   "id": "1f6f44d0-c5e7-48bd-85a7-8c01ebf5cec1",
   "metadata": {},
   "outputs": [],
   "source": [
    "# Average IG\n",
    "avg_normal_mean_ig = np.mean(normal_attributions, axis=0)\n",
    "avg_attack_mean_ig = np.mean(attack_attributions, axis=0)"
   ]
  },
  {
   "cell_type": "code",
   "execution_count": 66,
   "id": "a150114e-6ee2-4e1c-a3de-b2245b1ab0fe",
   "metadata": {},
   "outputs": [
    {
     "data": {
      "text/plain": [
       "(    Byte Index  Attribution (Normal Class)  Abs Attribution\n",
       " 36          36                   -0.021732         0.021732\n",
       " 24          24                    0.011668         0.011668\n",
       " 22          22                    0.007066         0.007066\n",
       " 26          26                    0.002518         0.002518\n",
       " 60          60                   -0.001768         0.001768\n",
       " 61          61                    0.001588         0.001588\n",
       " 51          51                    0.001452         0.001452\n",
       " 57          57                    0.001424         0.001424\n",
       " 67          67                    0.001088         0.001088\n",
       " 58          58                    0.001079         0.001079\n",
       " 69          69                   -0.000889         0.000889\n",
       " 19          19                    0.000647         0.000647\n",
       " 62          62                    0.000626         0.000626\n",
       " 43          43                    0.000507         0.000507\n",
       " 40          40                    0.000462         0.000462\n",
       " 38          38                   -0.000417         0.000417\n",
       " 37          37                   -0.000408         0.000408\n",
       " 41          41                    0.000392         0.000392\n",
       " 27          27                    0.000338         0.000338\n",
       " 53          53                   -0.000323         0.000323,\n",
       "     Byte Index  Attribution (Attack Class)  Abs Attribution\n",
       " 22          22                    0.198999         0.198999\n",
       " 24          24                    0.134859         0.134859\n",
       " 26          26                    0.113940         0.113940\n",
       " 58          58                    0.088295         0.088295\n",
       " 57          57                    0.078640         0.078640\n",
       " 51          51                    0.076622         0.076622\n",
       " 38          38                    0.057616         0.057616\n",
       " 59          59                    0.049586         0.049586\n",
       " 56          56                    0.038345         0.038345\n",
       " 61          61                    0.032736         0.032736\n",
       " 48          48                    0.027859         0.027859\n",
       " 36          36                   -0.024574         0.024574\n",
       " 67          67                    0.023010         0.023010\n",
       " 62          62                    0.021319         0.021319\n",
       " 39          39                    0.016705         0.016705\n",
       " 41          41                    0.016639         0.016639\n",
       " 53          53                   -0.014278         0.014278\n",
       " 27          27                    0.013162         0.013162\n",
       " 52          52                   -0.012365         0.012365\n",
       " 40          40                    0.009409         0.009409)"
      ]
     },
     "execution_count": 66,
     "metadata": {},
     "output_type": "execute_result"
    }
   ],
   "source": [
    "# Normal\n",
    "df_normal_mean = pd.DataFrame({\n",
    "    \"Byte Index\": np.arange(len(avg_normal_mean_ig)),\n",
    "    \"Attribution (Normal Class)\": avg_normal_mean_ig\n",
    "})\n",
    "df_normal_mean[\"Abs Attribution\"] = np.abs(df_normal_mean[\"Attribution (Normal Class)\"])\n",
    "df_normal_mean_sorted = df_normal_mean.sort_values(\"Abs Attribution\", ascending=False)\n",
    "\n",
    "# Attack\n",
    "df_attack_mean = pd.DataFrame({\n",
    "    \"Byte Index\": np.arange(len(avg_attack_mean_ig)),\n",
    "    \"Attribution (Attack Class)\": avg_attack_mean_ig\n",
    "})\n",
    "df_attack_mean[\"Abs Attribution\"] = np.abs(df_attack_mean[\"Attribution (Attack Class)\"])\n",
    "df_attack_mean_sorted = df_attack_mean.sort_values(\"Abs Attribution\", ascending=False)\n",
    "\n",
    "# Display top 20\n",
    "df_normal_mean_sorted.head(20), df_attack_mean_sorted.head(20)"
   ]
  },
  {
   "cell_type": "code",
   "execution_count": 67,
   "id": "d11307e4-35b9-4661-bd23-686677a7a925",
   "metadata": {},
   "outputs": [
    {
     "data": {
      "image/png": "[encoded data removed]",
      "text/plain": [
       "<Figure size 1400x600 with 1 Axes>"
      ]
     },
     "metadata": {},
     "output_type": "display_data"
    },
    {
     "data": {
      "image/png": "[encoded data removed]",
      "text/plain": [
       "<Figure size 1400x600 with 1 Axes>"
      ]
     },
     "metadata": {},
     "output_type": "display_data"
    }
   ],
   "source": [
    "import matplotlib.pyplot as plt\n",
    "# baseline [0..0]\n",
    "plt.figure(figsize=(14, 6))\n",
    "plt.plot(avg_normal_ig, label=\"Normal Class Attribution\", linestyle='--')\n",
    "plt.plot(avg_attack_ig, label=\"Attack Class Attribution\", linestyle='-')\n",
    "plt.title(\"Integrated Gradients per Byte (Normal vs Attack Class)\")\n",
    "plt.xlabel(\"Byte Index\")\n",
    "plt.ylabel(\"Attribution\")\n",
    "plt.legend()\n",
    "plt.grid(True)\n",
    "plt.tight_layout()\n",
    "plt.show()\n",
    "\n",
    "# baseline mean\n",
    "plt.figure(figsize=(14, 6))\n",
    "plt.plot(avg_normal_mean_ig, label=\"Normal Class Attribution\", linestyle='--')\n",
    "plt.plot(avg_attack_mean_ig, label=\"Attack Class Attribution\", linestyle='-')\n",
    "plt.title(\"Integrated Gradients per Byte (Normal vs Attack Class)\")\n",
    "plt.xlabel(\"Byte Index\")\n",
    "plt.ylabel(\"Attribution\")\n",
    "plt.legend()\n",
    "plt.grid(True)\n",
    "plt.tight_layout()\n",
    "plt.show()\n"
   ]
  },
  {
   "cell_type": "markdown",
   "id": "a3f18281-00a0-467a-af49-9602e663b63d",
   "metadata": {},
   "source": [
    "# FGSM"
   ]
  },
  {
   "cell_type": "code",
   "execution_count": 7,
   "id": "4ba7a771-7b2d-4b56-970c-cebfb65cba08",
   "metadata": {},
   "outputs": [],
   "source": [
    "X_test_normal = X_test[y_test == 0]\n",
    "y_test_normal = y_test[y_test == 0]\n",
    "\n",
    "X_test_attack = X_test[y_test == 1]\n",
    "y_test_attack = y_test[y_test == 1]"
   ]
  },
  {
   "cell_type": "code",
   "execution_count": 199,
   "id": "cbce6d0f-9d65-4879-bf06-bd97c81e1c59",
   "metadata": {},
   "outputs": [],
   "source": [
    "def fgsm_attack(model, x, y_true, epsilon=0.01):\n",
    "    x_adv = tf.convert_to_tensor(x, dtype=tf.float32)\n",
    "    y_true = tf.convert_to_tensor(y_true, dtype=tf.float32)\n",
    "    y_true = tf.reshape(y_true, (-1, 1))\n",
    "\n",
    "    with tf.GradientTape() as tape:\n",
    "        tape.watch(x_adv)\n",
    "        prediction = model(x_adv)\n",
    "        loss = tf.keras.losses.binary_crossentropy(y_true, prediction)\n",
    "\n",
    "    # Compute gradients\n",
    "    gradient = tape.gradient(loss, x_adv)\n",
    "    signed_grad = tf.sign(gradient)\n",
    "\n",
    "    # Apply perturbation\n",
    "    x_adv = x_adv + epsilon * signed_grad\n",
    "    x_adv = tf.clip_by_value(x_adv, 0.0, 1.0)\n",
    "\n",
    "    return x_adv\n"
   ]
  },
  {
   "cell_type": "code",
   "execution_count": 200,
   "id": "b6574812-3e0b-4238-9e1f-e413bed4d2a8",
   "metadata": {},
   "outputs": [],
   "source": [
    "# Generate adversarial samples\n",
    "X_test_attack_adv = fgsm_attack(model, X_attack_test, y_attack_test, epsilon=0.2)\n"
   ]
  },
  {
   "cell_type": "code",
   "execution_count": 10,
   "id": "e9a335f6-e0db-435c-9048-ea381e2b974b",
   "metadata": {},
   "outputs": [],
   "source": [
    "def patch_full_packet_bytes(pkt, fgsm_bytes):\n",
    "    raw = bytearray(bytes(pkt))\n",
    "    fgsm_bytes = bytes(fgsm_bytes)\n",
    "\n",
    "    # Replace first N bytes with FGSM output\n",
    "    raw[:len(fgsm_bytes)] = fgsm_bytes\n",
    "\n",
    "    try:\n",
    "        new_pkt = Ether(bytes(raw))\n",
    "        return fix_checksums(new_pkt)\n",
    "    except:\n",
    "        return None\n",
    "\n",
    "def save_fgsm_patched_full_packets(original_packets, x_adv_uint8, output_path):\n",
    "    patched = []\n",
    "    for orig_pkt, adv_bytes in zip(original_packets, x_adv_uint8):\n",
    "        pkt = patch_full_packet_bytes(orig_pkt, adv_bytes)\n",
    "        if pkt:\n",
    "            patched.append(pkt)\n",
    "    wrpcap(output_path, patched)\n",
    "    print(f\"✅ Saved {len(patched)} full FGSM-modified packets to {output_path}\")\n"
   ]
  },
  {
   "cell_type": "code",
   "execution_count": 204,
   "id": "c8dace6d-e0dd-401b-a07c-10bc8e66476a",
   "metadata": {},
   "outputs": [
    {
     "name": "stdout",
     "output_type": "stream",
     "text": [
      "✅ Saved 20830 full FGSM-modified packets to fgsm_full_modified_attack.pcap\n"
     ]
    }
   ],
   "source": [
    "# x_adv_normalized: output of fgsm_attack (normalized)\n",
    "x_adv_uint8 = (X_test_attack_adv.numpy() * 255).astype(np.uint8)\n",
    "\n",
    "save_fgsm_patched_full_packets(packets_attack_test, x_adv_uint8, \"fgsm_full_modified_attack.pcap\")\n"
   ]
  },
  {
   "cell_type": "code",
   "execution_count": 205,
   "id": "ffca29e7-935a-4937-b61e-914bdc32bada",
   "metadata": {},
   "outputs": [],
   "source": [
    "X_test = np.vstack((X_test_normal, X_test_attack_adv))\n",
    "y_test = np.hstack((y_test_normal, y_attack_test))"
   ]
  },
  {
   "cell_type": "code",
   "execution_count": 206,
   "id": "8d7ffafe-f00e-4be0-b0c3-b8dce2b2d51c",
   "metadata": {},
   "outputs": [
    {
     "name": "stdout",
     "output_type": "stream",
     "text": [
      "11690/11690 ━━━━━━━━━━━━━━━━━━━━ 10s 855us/step\n",
      "Accuracy: 0.94\n",
      "Precision: 0.44\n",
      "Recall: 0.06\n"
     ]
    }
   ],
   "source": [
    "import numpy as np\n",
    "from sklearn.metrics import accuracy_score, precision_score, recall_score, confusion_matrix, ConfusionMatrixDisplay\n",
    "import matplotlib.pyplot as plt\n",
    "\n",
    "# Get predictions\n",
    "y_pred = model.predict(X_test)\n",
    "y_pred = (y_pred > 0.5).astype(int)  # Convert probabilities to binary\n",
    "\n",
    "accuracy = accuracy_score(y_test, y_pred)\n",
    "precision = precision_score(y_test, y_pred)\n",
    "recall = recall_score(y_test, y_pred)\n",
    "\n",
    "# Print the results\n",
    "print(f\"Accuracy: {accuracy:.2f}\")\n",
    "print(f\"Precision: {precision:.2f}\")\n",
    "print(f\"Recall: {recall:.2f}\")"
   ]
  },
  {
   "cell_type": "code",
   "execution_count": 207,
   "id": "bf6b0d9c-107c-466c-b2a9-c0aa11de278d",
   "metadata": {},
   "outputs": [
    {
     "data": {
      "image/png": "[encoded data removed]",
      "text/plain": [
       "<Figure size 640x480 with 2 Axes>"
      ]
     },
     "metadata": {},
     "output_type": "display_data"
    },
    {
     "name": "stdout",
     "output_type": "stream",
     "text": [
      "                precision    recall  f1-score   support\n",
      "\n",
      "Normal Traffic       0.95      1.00      0.97    353220\n",
      "        Attack       0.44      0.06      0.11     20830\n",
      "\n",
      "      accuracy                           0.94    374050\n",
      "     macro avg       0.69      0.53      0.54    374050\n",
      "  weighted avg       0.92      0.94      0.92    374050\n",
      "\n"
     ]
    }
   ],
   "source": [
    "from sklearn.metrics import classification_report\n",
    "\n",
    "cm = confusion_matrix(y_test, y_pred)\n",
    "\n",
    "disp = ConfusionMatrixDisplay(confusion_matrix=cm)\n",
    "disp.plot(cmap='Blues')\n",
    "plt.show()\n",
    "\n",
    "# Print detailed classification report\n",
    "print(classification_report(y_test, y_pred, target_names=['Normal Traffic', 'Attack']))"
   ]
  },
  {
   "cell_type": "markdown",
   "id": "29cdd83c-fdda-4ce7-824d-07f61d42caf9",
   "metadata": {},
   "source": [
    "### Mniejszy epsilon"
   ]
  },
  {
   "cell_type": "code",
   "execution_count": 208,
   "id": "8b70cce4-7b11-41f2-9497-895ec83ea2e9",
   "metadata": {},
   "outputs": [],
   "source": [
    "# Generate adversarial samples\n",
    "X_test_attack_adv = fgsm_attack(model, X_attack_test, y_attack_test, epsilon=0.05)\n"
   ]
  },
  {
   "cell_type": "code",
   "execution_count": 209,
   "id": "324943a7-d20d-4e3d-8883-5eedb3be102c",
   "metadata": {},
   "outputs": [
    {
     "name": "stdout",
     "output_type": "stream",
     "text": [
      "✅ Saved 20830 full FGSM-modified packets to fgsm_full_modified_small_attack.pcap\n"
     ]
    }
   ],
   "source": [
    "# x_adv_normalized: output of fgsm_attack (normalized)\n",
    "x_adv_uint8 = (X_test_attack_adv.numpy() * 255).astype(np.uint8)\n",
    "\n",
    "save_fgsm_patched_full_packets(packets_attack_test, x_adv_uint8, \"fgsm_full_modified_small_attack.pcap\")\n"
   ]
  },
  {
   "cell_type": "code",
   "execution_count": 210,
   "id": "f5ed002c-3b38-4909-8051-4bd6c4085bcf",
   "metadata": {},
   "outputs": [],
   "source": [
    "X_test = np.vstack((X_test_normal, X_test_attack_adv))\n",
    "y_test = np.hstack((y_test_normal, y_attack_test))"
   ]
  },
  {
   "cell_type": "code",
   "execution_count": 211,
   "id": "540f9f0d-c067-4f65-9439-cba7a30934dc",
   "metadata": {},
   "outputs": [
    {
     "name": "stdout",
     "output_type": "stream",
     "text": [
      "11690/11690 ━━━━━━━━━━━━━━━━━━━━ 10s 846us/step\n",
      "Accuracy: 0.98\n",
      "Precision: 0.90\n",
      "Recall: 0.71\n"
     ]
    }
   ],
   "source": [
    "import numpy as np\n",
    "from sklearn.metrics import accuracy_score, precision_score, recall_score, confusion_matrix, ConfusionMatrixDisplay\n",
    "import matplotlib.pyplot as plt\n",
    "\n",
    "# Get predictions\n",
    "y_pred = model.predict(X_test)\n",
    "y_pred = (y_pred > 0.5).astype(int)  # Convert probabilities to binary\n",
    "\n",
    "accuracy = accuracy_score(y_test, y_pred)\n",
    "precision = precision_score(y_test, y_pred)\n",
    "recall = recall_score(y_test, y_pred)\n",
    "\n",
    "# Print the results\n",
    "print(f\"Accuracy: {accuracy:.2f}\")\n",
    "print(f\"Precision: {precision:.2f}\")\n",
    "print(f\"Recall: {recall:.2f}\")"
   ]
  },
  {
   "cell_type": "code",
   "execution_count": 212,
   "id": "91173153-3e69-4a9f-8c3d-91258ffe9bfa",
   "metadata": {},
   "outputs": [
    {
     "data": {
      "image/png": "[encoded data removed]",
      "text/plain": [
       "<Figure size 640x480 with 2 Axes>"
      ]
     },
     "metadata": {},
     "output_type": "display_data"
    },
    {
     "name": "stdout",
     "output_type": "stream",
     "text": [
      "                precision    recall  f1-score   support\n",
      "\n",
      "Normal Traffic       0.98      1.00      0.99    353220\n",
      "        Attack       0.90      0.71      0.80     20830\n",
      "\n",
      "      accuracy                           0.98    374050\n",
      "     macro avg       0.94      0.85      0.89    374050\n",
      "  weighted avg       0.98      0.98      0.98    374050\n",
      "\n"
     ]
    }
   ],
   "source": [
    "from sklearn.metrics import classification_report\n",
    "\n",
    "cm = confusion_matrix(y_test, y_pred)\n",
    "\n",
    "disp = ConfusionMatrixDisplay(confusion_matrix=cm)\n",
    "disp.plot(cmap='Blues')\n",
    "plt.show()\n",
    "\n",
    "# Print detailed classification report\n",
    "print(classification_report(y_test, y_pred, target_names=['Normal Traffic', 'Attack']))"
   ]
  },
  {
   "cell_type": "markdown",
   "id": "f955da3a-4e81-4e76-9466-60948111846d",
   "metadata": {},
   "source": [
    "# FGSM - targeted byte positions only"
   ]
  },
  {
   "cell_type": "code",
   "execution_count": 184,
   "id": "6d026a31-6200-4f5c-9c73-6a829ef530f0",
   "metadata": {},
   "outputs": [],
   "source": [
    "import numpy as np\n",
    "import tensorflow as tf\n",
    "\n",
    "def fgsm_attack_on_target_fields(model, x, y_true, epsilon=0.01, target_indices=[24, 48, 50, 51]):\n",
    "    \"\"\"\n",
    "      - index 24 (ip.ttl): integer in [0,255]\n",
    "      - index 48 (tcp.flags.ns): integer in {0,1}\n",
    "      - indices 50-51 (tcp.window_size_value): 16-bit integer in [1,65535] stored as two bytes (big-endian)\n",
    "    \"\"\"\n",
    "    # Ensure numpy array and float32 scaled in [0,1]\n",
    "    x_np = np.array(x, dtype=np.float32)\n",
    "    if x_np.max() > 1.0 or x_np.min() < 0.0:\n",
    "        raise ValueError(\"Input x appears not to be scaled to [0,1]. Provide x scaled by /255.0.\")\n",
    "\n",
    "    batch_size, n_features = x_np.shape\n",
    "\n",
    "    # prepare tensors for gradient computation (already in 0..1)\n",
    "    x_tensor = tf.convert_to_tensor(x_np, dtype=tf.float32)\n",
    "    y_tensor = tf.convert_to_tensor(y_true, dtype=tf.float32)\n",
    "    y_tensor = tf.reshape(y_tensor, (-1, 1))\n",
    "\n",
    "    with tf.GradientTape() as tape:\n",
    "        tape.watch(x_tensor)\n",
    "        prediction = model(x_tensor)\n",
    "        loss = tf.keras.losses.binary_crossentropy(y_tensor, prediction)\n",
    "        loss = tf.reduce_mean(loss)\n",
    "\n",
    "    gradient = tape.gradient(loss, x_tensor)\n",
    "    signed_grad = tf.sign(gradient)\n",
    "\n",
    "    # Build mask (batch, features) with 1.0 only at target indices\n",
    "    mask = np.zeros((batch_size, n_features), dtype=np.float32)\n",
    "    for idx in target_indices:\n",
    "        if 0 <= idx < n_features:\n",
    "            mask[:, idx] = 1.0\n",
    "    mask_tf = tf.convert_to_tensor(mask, dtype=tf.float32)\n",
    "\n",
    "    # Apply FGSM step in scaled space and clip to [0,1]\n",
    "    x_adv_tensor = x_tensor + epsilon * signed_grad * mask_tf\n",
    "    x_adv_tensor = tf.clip_by_value(x_adv_tensor, 0.0, 1.0)\n",
    "    x_adv_scaled = x_adv_tensor.numpy().astype(np.float32)  # still scaled [0,1]\n",
    "\n",
    "    # --- Now enforce constraints on UN-SCALED integer bytes ---\n",
    "    # Convert scaled values to integer bytes (0..255)\n",
    "    x_unscaled = np.rint(x_adv_scaled * 255.0).astype(np.int32)  # shape (batch, features), ints in 0..255\n",
    "\n",
    "    # 1) ip.ttl at index 24: clamp to [0,255]\n",
    "    idx_ttl = 24\n",
    "    if idx_ttl < n_features:\n",
    "        x_unscaled[:, idx_ttl] = np.clip(x_unscaled[:, idx_ttl], 0, 255)\n",
    "\n",
    "    # 2) tcp.flags.ns at index 48: enforce {0,1}\n",
    "    idx_ns = 48\n",
    "    if idx_ns < n_features:\n",
    "        # Round to nearest integer 0 or 1 (we assume the unscaled representation is 0 or 1)\n",
    "        ns_vals = np.rint(x_unscaled[:, idx_ns]).astype(np.int32)\n",
    "        ns_vals = np.clip(ns_vals, 0, 1)\n",
    "        x_unscaled[:, idx_ns] = ns_vals\n",
    "\n",
    "    # 3) tcp.window_size_value across indices 50 (hi) and 51 (lo): enforce [1,65535] (big-endian)\n",
    "    idx_win_hi = 50\n",
    "    idx_win_lo = 51\n",
    "    if idx_win_hi < n_features and idx_win_lo < n_features:\n",
    "        hi = np.rint(x_unscaled[:, idx_win_hi]).astype(np.int32) & 0xFF\n",
    "        lo = np.rint(x_unscaled[:, idx_win_lo]).astype(np.int32) & 0xFF\n",
    "        combined = (hi << 8) + lo  # big-endian: hi*256 + lo\n",
    "\n",
    "        # enforce inclusive range [1,65535]\n",
    "        combined = np.clip(combined, 1, 65535).astype(np.int32)\n",
    "\n",
    "        # split back into two bytes (big-endian)\n",
    "        hi_new = (combined >> 8) & 0xFF\n",
    "        lo_new = combined & 0xFF\n",
    "        x_unscaled[:, idx_win_hi] = hi_new\n",
    "        x_unscaled[:, idx_win_lo] = lo_new\n",
    "\n",
    "    # Ensure all bytes remain in 0..255 after modifications\n",
    "    x_unscaled = np.clip(x_unscaled, 0, 255).astype(np.int32)\n",
    "\n",
    "    # Convert back to scaled floats [0,1], dtype float32\n",
    "    x_final_scaled = (x_unscaled.astype(np.float32) / 255.0).astype(np.float32)\n",
    "\n",
    "    return x_final_scaled\n"
   ]
  },
  {
   "cell_type": "code",
   "execution_count": 23,
   "id": "5c4ab3dc-9564-442c-9f67-80590a099659",
   "metadata": {},
   "outputs": [],
   "source": [
    "### ---------- FGSM Patch into Packets ---------- ###\n",
    "def patch_packet_with_fgsm_bytes(pkt, fgsm_bytes):\n",
    "    try:\n",
    "        if IP in pkt:\n",
    "            pkt[IP].ttl = int(fgsm_bytes[24])\n",
    "            del pkt[IP].chksum\n",
    "\n",
    "        if TCP in pkt:\n",
    "            ns_flag = int(fgsm_bytes[48]) & 1\n",
    "            pkt[TCP].flags |= (ns_flag << 8)\n",
    "            win_size = int(fgsm_bytes[50]) << 8 | int(fgsm_bytes[51])\n",
    "            pkt[TCP].window = win_size\n",
    "            del pkt[TCP].chksum\n",
    "\n",
    "        return pkt\n",
    "    except Exception as e:\n",
    "        print(f\"⚠️ Packet modification error: {e}\")\n",
    "        return None"
   ]
  },
  {
   "cell_type": "code",
   "execution_count": 24,
   "id": "1073b0cd-9f7e-40ef-9c76-bfb5be4f9fa4",
   "metadata": {},
   "outputs": [],
   "source": [
    "def save_fgsm_modified_packets(original_packets, fgsm_bytes_array, output_path):\n",
    "    patched_packets = []\n",
    "    for pkt, fgsm_bytes in zip(original_packets, fgsm_bytes_array):\n",
    "        patched = patch_packet_with_fgsm_bytes(pkt.copy(), fgsm_bytes)\n",
    "        if patched:\n",
    "            patched_packets.append(patched)\n",
    "\n",
    "    if patched_packets:\n",
    "        wrpcap(output_path, patched_packets)\n",
    "        print(f\"✅ Saved {len(patched_packets)} FGSM-modified packets to: {output_path}\")\n",
    "    else:\n",
    "        print(\"⚠️ No valid packets to save.\")"
   ]
  },
  {
   "cell_type": "code",
   "execution_count": 189,
   "id": "f3a720f2-27ad-4cfa-bb74-28ce0c3dc512",
   "metadata": {},
   "outputs": [],
   "source": [
    "# FGSM attack on selected bytes\n",
    "x_adv_normalized = fgsm_attack_on_target_fields(model, X_attack_test, y_attack_test, epsilon=0.2)"
   ]
  },
  {
   "cell_type": "code",
   "execution_count": 190,
   "id": "238cfa8e-59a5-42ab-bc84-c8533b85ed0c",
   "metadata": {},
   "outputs": [
    {
     "name": "stderr",
     "output_type": "stream",
     "text": [
      "C:\\Users\\ulami\\AppData\\Local\\Temp\\ipykernel_26960\\1371682187.py:5: DeprecationWarning: Conversion of an array with ndim > 0 to a scalar is deprecated, and will error in future. Ensure you extract a single element from your array before performing this operation. (Deprecated NumPy 1.25.)\n",
      "  pkt[IP].ttl = int(fgsm_bytes[24])\n",
      "C:\\Users\\ulami\\AppData\\Local\\Temp\\ipykernel_26960\\1371682187.py:9: DeprecationWarning: Conversion of an array with ndim > 0 to a scalar is deprecated, and will error in future. Ensure you extract a single element from your array before performing this operation. (Deprecated NumPy 1.25.)\n",
      "  ns_flag = int(fgsm_bytes[48]) & 1\n",
      "C:\\Users\\ulami\\AppData\\Local\\Temp\\ipykernel_26960\\1371682187.py:11: DeprecationWarning: Conversion of an array with ndim > 0 to a scalar is deprecated, and will error in future. Ensure you extract a single element from your array before performing this operation. (Deprecated NumPy 1.25.)\n",
      "  win_size = int(fgsm_bytes[50]) << 8 | int(fgsm_bytes[51])\n"
     ]
    },
    {
     "name": "stdout",
     "output_type": "stream",
     "text": [
      "✅ Saved 20830 FGSM-modified packets to: fgsm_modified_attack.pcap\n"
     ]
    }
   ],
   "source": [
    "# Denormalize from [0, 1] back to [0, 255] and convert to uint8\n",
    "x_adv_uint8 = (x_adv_normalized * 255).astype(np.uint8)\n",
    "\n",
    "# Inject modified fields into packets and save\n",
    "save_fgsm_modified_packets(packets_attack_test, X_test_attack_adv_targeted_bytes, \"fgsm_modified_attack.pcap\")"
   ]
  },
  {
   "cell_type": "code",
   "execution_count": 195,
   "id": "50f7e655-0120-4e7e-9b78-142a6beb04cc",
   "metadata": {},
   "outputs": [],
   "source": [
    "normal_test_mask = y_test == 0\n",
    "X_test_normal = X_test[normal_test_mask]\n",
    "y_test_normal = y_test[normal_test_mask]  # should be all 0s\n"
   ]
  },
  {
   "cell_type": "code",
   "execution_count": 196,
   "id": "fbab5353-a8fd-473b-b95e-d26b100cb3e3",
   "metadata": {},
   "outputs": [],
   "source": [
    "# x_adv_normalized already has shape (N, 100, 1)\n",
    "X_test_combined = np.vstack((X_test_normal, x_adv_normalized))\n",
    "y_test_combined = np.hstack((y_test_normal, y_attack_test))\n"
   ]
  },
  {
   "cell_type": "code",
   "execution_count": 197,
   "id": "5d3346cb-3fd1-4489-80d4-5a7bc5419887",
   "metadata": {},
   "outputs": [
    {
     "name": "stdout",
     "output_type": "stream",
     "text": [
      "11690/11690 ━━━━━━━━━━━━━━━━━━━━ 10s 811us/step\n",
      "Accuracy: 0.98\n",
      "Precision: 0.91\n",
      "Recall: 0.78\n"
     ]
    }
   ],
   "source": [
    "import numpy as np\n",
    "from sklearn.metrics import accuracy_score, precision_score, recall_score, confusion_matrix, ConfusionMatrixDisplay\n",
    "import matplotlib.pyplot as plt\n",
    "\n",
    "# Get predictions\n",
    "y_pred = model.predict(X_test_combined)\n",
    "y_pred = (y_pred > 0.5).astype(int)  # Convert probabilities to binary\n",
    "\n",
    "accuracy = accuracy_score(y_test_combined, y_pred)\n",
    "precision = precision_score(y_test_combined, y_pred)\n",
    "recall = recall_score(y_test_combined, y_pred)\n",
    "\n",
    "# Print the results\n",
    "print(f\"Accuracy: {accuracy:.2f}\")\n",
    "print(f\"Precision: {precision:.2f}\")\n",
    "print(f\"Recall: {recall:.2f}\")"
   ]
  },
  {
   "cell_type": "code",
   "execution_count": 198,
   "id": "c168c199-4e5a-45bd-8448-e6e436e8200a",
   "metadata": {},
   "outputs": [
    {
     "data": {
      "image/png": "[encoded data removed]",
      "text/plain": [
       "<Figure size 640x480 with 2 Axes>"
      ]
     },
     "metadata": {},
     "output_type": "display_data"
    },
    {
     "name": "stdout",
     "output_type": "stream",
     "text": [
      "                precision    recall  f1-score   support\n",
      "\n",
      "Normal Traffic       0.99      1.00      0.99    353220\n",
      "        Attack       0.91      0.78      0.84     20830\n",
      "\n",
      "      accuracy                           0.98    374050\n",
      "     macro avg       0.95      0.89      0.92    374050\n",
      "  weighted avg       0.98      0.98      0.98    374050\n",
      "\n"
     ]
    }
   ],
   "source": [
    "from sklearn.metrics import classification_report\n",
    "\n",
    "cm = confusion_matrix(y_test_combined, y_pred)\n",
    "\n",
    "disp = ConfusionMatrixDisplay(confusion_matrix=cm)\n",
    "disp.plot(cmap='Blues')\n",
    "plt.show()\n",
    "\n",
    "# Print detailed classification report\n",
    "print(classification_report(y_test_combined, y_pred, target_names=['Normal Traffic', 'Attack']))"
   ]
  },
  {
   "cell_type": "markdown",
   "id": "315ce687-5e7f-402b-b052-c80c9b2320c5",
   "metadata": {},
   "source": [
    "# zoo"
   ]
  },
  {
   "cell_type": "code",
   "execution_count": 8,
   "id": "9dc3f691-1591-4094-93a3-d95e8eb24d96",
   "metadata": {},
   "outputs": [],
   "source": [
    "import numpy as np\n",
    "import tensorflow as tf\n",
    "\n",
    "def _bce_loss_from_logits_or_probs(y_true, y_pred):\n",
    "    return tf.keras.losses.binary_crossentropy(y_true, y_pred, from_logits=False)\n",
    "\n",
    "def _model_loss(model, x, y_true, targeted=False, y_target=None):\n",
    "    \"\"\"\n",
    "    Returns a scalar loss tensor for one sample x with label y_true.\n",
    "    For targeted attack: minimize loss to make prediction = y_target.\n",
    "    For untargeted attack: maximize loss w.r.t y_true.\n",
    "    \"\"\"\n",
    "    x_tensor = tf.convert_to_tensor(x[None, ...], dtype=tf.float32)  # shape (1,H,W,1)\n",
    "    pred = model(x_tensor)\n",
    "\n",
    "    if targeted:\n",
    "        if y_target is None:\n",
    "            raise ValueError(\"y_target must be provided for targeted=True\")\n",
    "        loss = _bce_loss_from_logits_or_probs(tf.convert_to_tensor([[float(y_target)]], dtype=tf.float32), pred)\n",
    "        # targeted: minimize loss toward y_target\n",
    "        return loss[0]\n",
    "    else:\n",
    "        loss = _bce_loss_from_logits_or_probs(tf.convert_to_tensor([[float(y_true)]], dtype=tf.float32), pred)\n",
    "        # untargeted: maximize loss w.r.t true label -> return +loss\n",
    "        return loss[0]\n",
    "\n",
    "def _zoo_estimate_grad(model, x, y_true, coords, fd_eta, targeted=False, y_target=None):\n",
    "    \"\"\"\n",
    "    Symmetric finite-difference gradient estimate on selected flat coords.\n",
    "    Supports ANY x shape (e.g., (L,1), (L,), (H,W), (H,W,C)).\n",
    "    Returns grad_est with same shape as x (np.float32).\n",
    "    \"\"\"\n",
    "    x = x.astype(np.float32, copy=True)\n",
    "    orig_shape = x.shape\n",
    "\n",
    "    x_flat = x.reshape(-1)\n",
    "    grad_flat = np.zeros_like(x_flat, dtype=np.float32)\n",
    "\n",
    "    for idx in coords:\n",
    "        orig = x_flat[idx]\n",
    "\n",
    "        # +eta\n",
    "        x_flat[idx] = np.clip(orig + fd_eta, 0.0, 1.0)\n",
    "        f_plus = float(_model_loss(model, x_flat.reshape(orig_shape), y_true, targeted, y_target))\n",
    "\n",
    "        # -eta\n",
    "        x_flat[idx] = np.clip(orig - fd_eta, 0.0, 1.0)\n",
    "        f_minus = float(_model_loss(model, x_flat.reshape(orig_shape), y_true, targeted, y_target))\n",
    "\n",
    "        # restore\n",
    "        x_flat[idx] = orig\n",
    "\n",
    "        grad_flat[idx] = (f_plus - f_minus) / (2.0 * fd_eta)\n",
    "\n",
    "    return grad_flat.reshape(orig_shape)\n",
    "\n",
    "def zoo_attack(\n",
    "    model,\n",
    "    x,\n",
    "    y_true,\n",
    "    epsilon=0.2,\n",
    "    iters=300,\n",
    "    fd_eta=1e-3,\n",
    "    lr=1e-2,\n",
    "    coord_batch=1024,\n",
    "    targeted=False,\n",
    "    y_target=None,\n",
    "    rng=None,\n",
    "    verbose=False\n",
    "):\n",
    "    \"\"\"\n",
    "    ZOO attack for a single sample x with ANY shape (e.g., (L,1) for Conv1D).\n",
    "    L_inf constraint with radius epsilon around original x.\n",
    "    \"\"\"\n",
    "    if rng is None:\n",
    "        rng = np.random.default_rng()\n",
    "\n",
    "    x0 = x.astype(np.float32).copy()\n",
    "    x_adv = x0.copy()\n",
    "\n",
    "    flat_len = x_adv.size\n",
    "    all_coords = np.arange(flat_len)\n",
    "\n",
    "    for t in range(iters):\n",
    "        coords = rng.choice(all_coords, size=min(coord_batch, flat_len), replace=False)\n",
    "\n",
    "        g = _zoo_estimate_grad(model, x_adv, y_true, coords, fd_eta, targeted=targeted, y_target=y_target)\n",
    "\n",
    "        # Make sparse update only on sampled coords (optional)\n",
    "        if coord_batch < flat_len:\n",
    "            mask = np.zeros(flat_len, dtype=np.float32)\n",
    "            mask[coords] = 1.0\n",
    "            g = (g.reshape(-1) * mask).reshape(x_adv.shape)\n",
    "\n",
    "        step = -lr * np.sign(g) if targeted else lr * np.sign(g)\n",
    "        x_adv = x_adv + step\n",
    "\n",
    "        # Project to L_inf ball around x0 and clip to [0,1]\n",
    "        x_adv = np.clip(x_adv, x0 - epsilon, x0 + epsilon)\n",
    "        x_adv = np.clip(x_adv, 0.0, 1.0)\n",
    "\n",
    "        if verbose and (t % max(1, iters // 10) == 0 or t == iters - 1):\n",
    "            current_loss = float(_model_loss(model, x_adv, y_true, targeted, y_target))\n",
    "            print(f\"[ZOO] iter {t+1}/{iters} | loss={current_loss:.6f}\")\n",
    "\n",
    "    return x_adv.astype(np.float32)\n",
    "\n",
    "\n",
    "from tqdm import tqdm\n",
    "\n",
    "def zoo_attack_batch(\n",
    "    model,\n",
    "    X,\n",
    "    y,\n",
    "    epsilon=0.2,\n",
    "    iters=300,\n",
    "    fd_eta=1e-3,\n",
    "    lr=1e-2,\n",
    "    coord_batch=1024,\n",
    "    targeted=False,\n",
    "    y_target=None,\n",
    "    rng_seed=42,\n",
    "    verbose_every=0\n",
    "):\n",
    "    rng = np.random.default_rng(rng_seed)\n",
    "    X_adv = np.empty_like(X, dtype=np.float32)\n",
    "    N = X.shape[0]\n",
    "\n",
    "    for i in tqdm(range(N), desc=\"ZOO attack samples\"):\n",
    "        ve = (verbose_every and ((i % verbose_every) == 0))\n",
    "        X_adv[i] = zoo_attack(\n",
    "            model,\n",
    "            X[i],\n",
    "            float(y[i]),\n",
    "            epsilon=epsilon,\n",
    "            iters=iters,\n",
    "            fd_eta=fd_eta,\n",
    "            lr=lr,\n",
    "            coord_batch=coord_batch,\n",
    "            targeted=targeted,\n",
    "            y_target=(int(y_target) if y_target is not None else None),\n",
    "            rng=rng,\n",
    "            verbose=ve\n",
    "        )\n",
    "    return X_adv"
   ]
  },
  {
   "cell_type": "code",
   "execution_count": 9,
   "id": "5fd1fb48-2f5e-411b-88c2-ca102f8c984a",
   "metadata": {},
   "outputs": [
    {
     "name": "stderr",
     "output_type": "stream",
     "text": [
      "ZOO attack samples:   0%|          | 0/200 [00:00<?, ?it/s]"
     ]
    },
    {
     "name": "stdout",
     "output_type": "stream",
     "text": [
      "[ZOO] iter 1/20 | loss=4.111863\n",
      "[ZOO] iter 3/20 | loss=26.912704\n",
      "[ZOO] iter 5/20 | loss=19.078058\n",
      "[ZOO] iter 7/20 | loss=18.430393\n",
      "[ZOO] iter 9/20 | loss=21.260864\n",
      "[ZOO] iter 11/20 | loss=26.107756\n",
      "[ZOO] iter 13/20 | loss=24.570086\n",
      "[ZOO] iter 15/20 | loss=26.426022\n",
      "[ZOO] iter 17/20 | loss=25.200689\n",
      "[ZOO] iter 19/20 | loss=21.397186\n",
      "[ZOO] iter 20/20 | loss=17.918367\n"
     ]
    },
    {
     "name": "stderr",
     "output_type": "stream",
     "text": [
      "ZOO attack samples:  15%|█▌        | 30/200 [19:23<1:50:04, 38.85s/it]"
     ]
    },
    {
     "name": "stdout",
     "output_type": "stream",
     "text": [
      "[ZOO] iter 1/20 | loss=10.552454\n",
      "[ZOO] iter 3/20 | loss=19.286161\n",
      "[ZOO] iter 5/20 | loss=13.564528\n",
      "[ZOO] iter 7/20 | loss=8.899692\n",
      "[ZOO] iter 9/20 | loss=19.911684\n",
      "[ZOO] iter 11/20 | loss=4.791114\n",
      "[ZOO] iter 13/20 | loss=20.908438\n",
      "[ZOO] iter 15/20 | loss=23.162357\n",
      "[ZOO] iter 17/20 | loss=14.052382\n",
      "[ZOO] iter 19/20 | loss=13.990586\n",
      "[ZOO] iter 20/20 | loss=13.357892\n"
     ]
    },
    {
     "name": "stderr",
     "output_type": "stream",
     "text": [
      "ZOO attack samples:  30%|███       | 60/200 [38:39<1:31:43, 39.31s/it]"
     ]
    },
    {
     "name": "stdout",
     "output_type": "stream",
     "text": [
      "[ZOO] iter 1/20 | loss=9.113537\n",
      "[ZOO] iter 3/20 | loss=21.074160\n",
      "[ZOO] iter 5/20 | loss=21.780231\n",
      "[ZOO] iter 7/20 | loss=18.926861\n",
      "[ZOO] iter 9/20 | loss=30.043438\n",
      "[ZOO] iter 11/20 | loss=29.549068\n",
      "[ZOO] iter 13/20 | loss=29.549068\n",
      "[ZOO] iter 15/20 | loss=29.549068\n",
      "[ZOO] iter 17/20 | loss=29.549068\n",
      "[ZOO] iter 19/20 | loss=29.549068\n",
      "[ZOO] iter 20/20 | loss=29.350086\n"
     ]
    },
    {
     "name": "stderr",
     "output_type": "stream",
     "text": [
      "ZOO attack samples:  45%|████▌     | 90/200 [57:48<1:09:52, 38.12s/it]"
     ]
    },
    {
     "name": "stdout",
     "output_type": "stream",
     "text": [
      "[ZOO] iter 1/20 | loss=3.677195\n",
      "[ZOO] iter 3/20 | loss=17.832933\n",
      "[ZOO] iter 5/20 | loss=16.363863\n",
      "[ZOO] iter 7/20 | loss=31.058676\n",
      "[ZOO] iter 9/20 | loss=30.895399\n",
      "[ZOO] iter 11/20 | loss=24.928223\n",
      "[ZOO] iter 13/20 | loss=39.126469\n",
      "[ZOO] iter 15/20 | loss=46.810139\n",
      "[ZOO] iter 17/20 | loss=6.543803\n",
      "[ZOO] iter 19/20 | loss=35.335339\n",
      "[ZOO] iter 20/20 | loss=32.349724\n"
     ]
    },
    {
     "name": "stderr",
     "output_type": "stream",
     "text": [
      "ZOO attack samples:  60%|██████    | 120/200 [1:17:10<51:11, 38.39s/it]  "
     ]
    },
    {
     "name": "stdout",
     "output_type": "stream",
     "text": [
      "[ZOO] iter 1/20 | loss=16.230371\n",
      "[ZOO] iter 3/20 | loss=27.379717\n",
      "[ZOO] iter 5/20 | loss=27.613804\n",
      "[ZOO] iter 7/20 | loss=22.822603\n",
      "[ZOO] iter 9/20 | loss=9.766754\n",
      "[ZOO] iter 11/20 | loss=19.441326\n",
      "[ZOO] iter 13/20 | loss=22.632179\n",
      "[ZOO] iter 15/20 | loss=15.962447\n",
      "[ZOO] iter 17/20 | loss=17.560568\n",
      "[ZOO] iter 19/20 | loss=13.223332\n",
      "[ZOO] iter 20/20 | loss=7.782861\n"
     ]
    },
    {
     "name": "stderr",
     "output_type": "stream",
     "text": [
      "ZOO attack samples:  75%|███████▌  | 150/200 [1:36:36<32:19, 38.79s/it]"
     ]
    },
    {
     "name": "stdout",
     "output_type": "stream",
     "text": [
      "[ZOO] iter 1/20 | loss=9.542930\n",
      "[ZOO] iter 3/20 | loss=22.070263\n",
      "[ZOO] iter 5/20 | loss=24.044172\n",
      "[ZOO] iter 7/20 | loss=19.932299\n",
      "[ZOO] iter 9/20 | loss=21.591679\n",
      "[ZOO] iter 11/20 | loss=17.645723\n",
      "[ZOO] iter 13/20 | loss=26.493845\n",
      "[ZOO] iter 15/20 | loss=15.009027\n",
      "[ZOO] iter 17/20 | loss=25.360155\n",
      "[ZOO] iter 19/20 | loss=20.093132\n",
      "[ZOO] iter 20/20 | loss=17.873417\n"
     ]
    },
    {
     "name": "stderr",
     "output_type": "stream",
     "text": [
      "ZOO attack samples:  90%|█████████ | 180/200 [1:56:06<12:56, 38.83s/it]"
     ]
    },
    {
     "name": "stdout",
     "output_type": "stream",
     "text": [
      "[ZOO] iter 1/20 | loss=20.699154\n",
      "[ZOO] iter 3/20 | loss=20.623680\n",
      "[ZOO] iter 5/20 | loss=19.391865\n",
      "[ZOO] iter 7/20 | loss=17.401312\n",
      "[ZOO] iter 9/20 | loss=17.155952\n",
      "[ZOO] iter 11/20 | loss=12.373065\n",
      "[ZOO] iter 13/20 | loss=11.979078\n",
      "[ZOO] iter 15/20 | loss=12.364174\n",
      "[ZOO] iter 17/20 | loss=14.632209\n",
      "[ZOO] iter 19/20 | loss=16.072535\n",
      "[ZOO] iter 20/20 | loss=15.634804\n"
     ]
    },
    {
     "name": "stderr",
     "output_type": "stream",
     "text": [
      "ZOO attack samples: 100%|██████████| 200/200 [2:09:06<00:00, 38.73s/it]\n"
     ]
    }
   ],
   "source": [
    "\n",
    "X_test_attack_zoo = zoo_attack_batch(\n",
    "    model,\n",
    "    X_test_attack[:200],\n",
    "    y_test_attack[:200],\n",
    "    epsilon=0.2,\n",
    "    iters=20,\n",
    "    fd_eta=1e-3,\n",
    "    lr=0.1,\n",
    "    coord_batch=248,\n",
    "    targeted=False,\n",
    "    y_target=None,\n",
    "    rng_seed=123,\n",
    "    verbose_every=30\n",
    ")"
   ]
  },
  {
   "cell_type": "code",
   "execution_count": 11,
   "id": "aab5c88e-c637-44f9-93b0-79f4ceaeea37",
   "metadata": {},
   "outputs": [],
   "source": [
    "# ---- Rebuild the (scaled) test set and labels ----\n",
    "X_test_combined = np.vstack((X_test_normal, X_test_attack_zoo))\n",
    "y_test_combined = np.hstack((y_test_normal, y_test_attack[:200]))\n",
    "\n",
    "from sklearn.utils import shuffle\n",
    "X_test_adv_final, y_test_adv_final = shuffle(\n",
    "    X_test_combined, y_test_combined, random_state=1\n",
    ")"
   ]
  },
  {
   "cell_type": "code",
   "execution_count": 12,
   "id": "ac9f1c21-2b3d-4d11-81fd-f526eb0b62e6",
   "metadata": {},
   "outputs": [
    {
     "name": "stdout",
     "output_type": "stream",
     "text": [
      "11045/11045 ━━━━━━━━━━━━━━━━━━━━ 18s 2ms/step\n",
      "Test Accuracy: 99.53%\n",
      "Test Precision: 99.89%\n",
      "Test Recall: 99.53%\n"
     ]
    }
   ],
   "source": [
    "from sklearn.metrics import accuracy_score, precision_score, recall_score\n",
    "\n",
    "# Get predictions\n",
    "y_pred = model.predict(X_test_adv_final)\n",
    "y_pred = (y_pred > 0.5).astype(int)\n",
    "\n",
    "# Calculate metrics\n",
    "accuracy = accuracy_score(y_test_adv_final, y_pred)\n",
    "precision = precision_score(y_test_adv_final, y_pred, average='weighted')\n",
    "recall = recall_score(y_test_adv_final, y_pred, average='weighted')\n",
    "\n",
    "# Print results\n",
    "print(f\"Test Accuracy: {accuracy * 100:.2f}%\")\n",
    "print(f\"Test Precision: {precision * 100:.2f}%\")\n",
    "print(f\"Test Recall: {recall * 100:.2f}%\")\n"
   ]
  },
  {
   "cell_type": "code",
   "execution_count": 13,
   "id": "1bfce514-adaa-4d5e-b404-1bd736fa1f05",
   "metadata": {},
   "outputs": [
    {
     "data": {
      "image/png": "[encoded data removed]",
      "text/plain": [
       "<Figure size 600x400 with 2 Axes>"
      ]
     },
     "metadata": {},
     "output_type": "display_data"
    },
    {
     "name": "stdout",
     "output_type": "stream",
     "text": [
      "                precision    recall  f1-score   support\n",
      "\n",
      "Normal Traffic       1.00      1.00      1.00    353220\n",
      "        Attack       0.00      0.01      0.00       200\n",
      "\n",
      "      accuracy                           1.00    353420\n",
      "     macro avg       0.50      0.50      0.50    353420\n",
      "  weighted avg       1.00      1.00      1.00    353420\n",
      "\n"
     ]
    }
   ],
   "source": [
    "import matplotlib.pyplot as plt\n",
    "import seaborn as sns\n",
    "from sklearn.metrics import confusion_matrix, classification_report\n",
    "\n",
    "# Compute confusion matrix\n",
    "cm = confusion_matrix(y_test_adv_final, y_pred)\n",
    "\n",
    "# Plot the confusion matrix\n",
    "plt.figure(figsize=(6, 4))\n",
    "sns.heatmap(cm, annot=True, fmt='d', cmap='Blues', xticklabels=['Normal Traffic (0)', 'Attack (1)'], yticklabels=['Normal Traffic (0)', 'Attack (1)'])\n",
    "plt.xlabel('Predicted')\n",
    "plt.ylabel('Actual')\n",
    "plt.title('Confusion Matrix')\n",
    "plt.show()\n",
    "\n",
    "# Print detailed classification report\n",
    "print(classification_report(y_test_adv_final, y_pred, target_names=['Normal Traffic', 'Attack']))\n"
   ]
  },
  {
   "cell_type": "code",
   "execution_count": 21,
   "id": "bb2b9b4f-109e-4a82-8ff1-56b76e65b5bb",
   "metadata": {},
   "outputs": [
    {
     "data": {
      "text/plain": [
       "20830"
      ]
     },
     "execution_count": 21,
     "metadata": {},
     "output_type": "execute_result"
    }
   ],
   "source": [
    "len(packets_attack_test)"
   ]
  },
  {
   "cell_type": "code",
   "execution_count": 22,
   "id": "1d814606-2d89-41e3-b02d-60ba508dfbc0",
   "metadata": {},
   "outputs": [
    {
     "data": {
      "text/plain": [
       "(200, 100, 1)"
      ]
     },
     "execution_count": 22,
     "metadata": {},
     "output_type": "execute_result"
    }
   ],
   "source": [
    "X_test_attack_zoo.shape"
   ]
  },
  {
   "cell_type": "code",
   "execution_count": 25,
   "id": "7e64b4ae-f3b6-4d94-92f0-02c0d2f6e09f",
   "metadata": {},
   "outputs": [
    {
     "name": "stderr",
     "output_type": "stream",
     "text": [
      "C:\\Users\\ulami\\AppData\\Local\\Temp\\ipykernel_9800\\1371682187.py:5: DeprecationWarning: Conversion of an array with ndim > 0 to a scalar is deprecated, and will error in future. Ensure you extract a single element from your array before performing this operation. (Deprecated NumPy 1.25.)\n",
      "  pkt[IP].ttl = int(fgsm_bytes[24])\n",
      "C:\\Users\\ulami\\AppData\\Local\\Temp\\ipykernel_9800\\1371682187.py:9: DeprecationWarning: Conversion of an array with ndim > 0 to a scalar is deprecated, and will error in future. Ensure you extract a single element from your array before performing this operation. (Deprecated NumPy 1.25.)\n",
      "  ns_flag = int(fgsm_bytes[48]) & 1\n",
      "C:\\Users\\ulami\\AppData\\Local\\Temp\\ipykernel_9800\\1371682187.py:11: DeprecationWarning: Conversion of an array with ndim > 0 to a scalar is deprecated, and will error in future. Ensure you extract a single element from your array before performing this operation. (Deprecated NumPy 1.25.)\n",
      "  win_size = int(fgsm_bytes[50]) << 8 | int(fgsm_bytes[51])\n"
     ]
    },
    {
     "name": "stdout",
     "output_type": "stream",
     "text": [
      "✅ Saved 200 FGSM-modified packets to: C:\\Users\\ulami\\Desktop\\datasety\\UNSW-NB15-pcap\\unsw_zoo_full_modified.pcap\n"
     ]
    }
   ],
   "source": [
    "save_fgsm_modified_packets(packets_attack_test[:200], x_adv_uint8, r\"C:\\Users\\ulami\\Desktop\\datasety\\UNSW-NB15-pcap\\unsw_zoo_full_modified.pcap\")"
   ]
  },
  {
   "cell_type": "code",
   "execution_count": null,
   "id": "807500d5-e9a5-42de-9dc0-0b4cbe5e59e7",
   "metadata": {},
   "outputs": [],
   "source": []
  }
 ],
 "metadata": {
  "kernelspec": {
   "display_name": "Python 3 (ipykernel)",
   "language": "python",
   "name": "python3"
  },
  "language_info": {
   "codemirror_mode": {
    "name": "ipython",
    "version": 3
   },
   "file_extension": ".py",
   "mimetype": "text/x-python",
   "name": "python",
   "nbconvert_exporter": "python",
   "pygments_lexer": "ipython3",
   "version": "3.10.16"
  }
 },
 "nbformat": 4,
 "nbformat_minor": 5
}
