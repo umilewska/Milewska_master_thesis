{
 "cells": [
  {
   "cell_type": "code",
   "execution_count": 1,
   "id": "65db739c-7ceb-43d3-b01c-134e0bb272af",
   "metadata": {},
   "outputs": [],
   "source": [
    "from tensorflow.keras.models import Sequential, load_model\n",
    "from tensorflow.keras.layers import Dense\n",
    "from sklearn.metrics import accuracy_score\n",
    "from tensorflow.keras.layers import Input\n",
    "from tensorflow import keras"
   ]
  },
  {
   "cell_type": "code",
   "execution_count": 2,
   "id": "48d69df3-045d-4639-95af-fdb837245085",
   "metadata": {},
   "outputs": [],
   "source": [
    "import pandas as pd\n",
    "\n",
    "data=pd.read_csv(r\"C:\\Users\\ulami\\Desktop\\datasety\\UNSW-NB15\\all_data_without_nan_after_proc.csv\")"
   ]
  },
  {
   "cell_type": "code",
   "execution_count": 3,
   "id": "b01a5e21-0402-42df-94d6-dff69197315c",
   "metadata": {},
   "outputs": [
    {
     "data": {
      "text/html": [
       "<div>\n",
       "<style scoped>\n",
       "    .dataframe tbody tr th:only-of-type {\n",
       "        vertical-align: middle;\n",
       "    }\n",
       "\n",
       "    .dataframe tbody tr th {\n",
       "        vertical-align: top;\n",
       "    }\n",
       "\n",
       "    .dataframe thead th {\n",
       "        text-align: right;\n",
       "    }\n",
       "</style>\n",
       "<table border=\"1\" class=\"dataframe\">\n",
       "  <thead>\n",
       "    <tr style=\"text-align: right;\">\n",
       "      <th></th>\n",
       "      <th>proto</th>\n",
       "      <th>state</th>\n",
       "      <th>dur</th>\n",
       "      <th>sbytes</th>\n",
       "      <th>dbytes</th>\n",
       "      <th>sttl</th>\n",
       "      <th>dttl</th>\n",
       "      <th>sloss</th>\n",
       "      <th>dloss</th>\n",
       "      <th>service</th>\n",
       "      <th>...</th>\n",
       "      <th>is_ftp_login</th>\n",
       "      <th>ct_srv_src</th>\n",
       "      <th>ct_srv_dst</th>\n",
       "      <th>ct_dst_ltm</th>\n",
       "      <th>ct_src_ ltm</th>\n",
       "      <th>ct_src_dport_ltm</th>\n",
       "      <th>ct_dst_sport_ltm</th>\n",
       "      <th>ct_dst_src_ltm</th>\n",
       "      <th>attack_cat</th>\n",
       "      <th>Label</th>\n",
       "    </tr>\n",
       "  </thead>\n",
       "  <tbody>\n",
       "    <tr>\n",
       "      <th>0</th>\n",
       "      <td>120</td>\n",
       "      <td>2</td>\n",
       "      <td>0.036133</td>\n",
       "      <td>528</td>\n",
       "      <td>304</td>\n",
       "      <td>31</td>\n",
       "      <td>29</td>\n",
       "      <td>0</td>\n",
       "      <td>0</td>\n",
       "      <td>0</td>\n",
       "      <td>...</td>\n",
       "      <td>0.0</td>\n",
       "      <td>2</td>\n",
       "      <td>4</td>\n",
       "      <td>2</td>\n",
       "      <td>3</td>\n",
       "      <td>1</td>\n",
       "      <td>1</td>\n",
       "      <td>2</td>\n",
       "      <td>13</td>\n",
       "      <td>0</td>\n",
       "    </tr>\n",
       "    <tr>\n",
       "      <th>1</th>\n",
       "      <td>120</td>\n",
       "      <td>2</td>\n",
       "      <td>0.001119</td>\n",
       "      <td>146</td>\n",
       "      <td>178</td>\n",
       "      <td>31</td>\n",
       "      <td>29</td>\n",
       "      <td>0</td>\n",
       "      <td>0</td>\n",
       "      <td>2</td>\n",
       "      <td>...</td>\n",
       "      <td>0.0</td>\n",
       "      <td>12</td>\n",
       "      <td>8</td>\n",
       "      <td>1</td>\n",
       "      <td>2</td>\n",
       "      <td>2</td>\n",
       "      <td>1</td>\n",
       "      <td>1</td>\n",
       "      <td>13</td>\n",
       "      <td>0</td>\n",
       "    </tr>\n",
       "    <tr>\n",
       "      <th>2</th>\n",
       "      <td>120</td>\n",
       "      <td>2</td>\n",
       "      <td>0.001209</td>\n",
       "      <td>132</td>\n",
       "      <td>164</td>\n",
       "      <td>31</td>\n",
       "      <td>29</td>\n",
       "      <td>0</td>\n",
       "      <td>0</td>\n",
       "      <td>2</td>\n",
       "      <td>...</td>\n",
       "      <td>0.0</td>\n",
       "      <td>6</td>\n",
       "      <td>9</td>\n",
       "      <td>1</td>\n",
       "      <td>1</td>\n",
       "      <td>1</td>\n",
       "      <td>1</td>\n",
       "      <td>1</td>\n",
       "      <td>13</td>\n",
       "      <td>0</td>\n",
       "    </tr>\n",
       "    <tr>\n",
       "      <th>3</th>\n",
       "      <td>120</td>\n",
       "      <td>2</td>\n",
       "      <td>0.001169</td>\n",
       "      <td>146</td>\n",
       "      <td>178</td>\n",
       "      <td>31</td>\n",
       "      <td>29</td>\n",
       "      <td>0</td>\n",
       "      <td>0</td>\n",
       "      <td>2</td>\n",
       "      <td>...</td>\n",
       "      <td>0.0</td>\n",
       "      <td>7</td>\n",
       "      <td>9</td>\n",
       "      <td>1</td>\n",
       "      <td>1</td>\n",
       "      <td>1</td>\n",
       "      <td>1</td>\n",
       "      <td>1</td>\n",
       "      <td>13</td>\n",
       "      <td>0</td>\n",
       "    </tr>\n",
       "    <tr>\n",
       "      <th>4</th>\n",
       "      <td>120</td>\n",
       "      <td>2</td>\n",
       "      <td>0.078339</td>\n",
       "      <td>568</td>\n",
       "      <td>312</td>\n",
       "      <td>31</td>\n",
       "      <td>29</td>\n",
       "      <td>0</td>\n",
       "      <td>0</td>\n",
       "      <td>0</td>\n",
       "      <td>...</td>\n",
       "      <td>0.0</td>\n",
       "      <td>2</td>\n",
       "      <td>4</td>\n",
       "      <td>2</td>\n",
       "      <td>3</td>\n",
       "      <td>1</td>\n",
       "      <td>1</td>\n",
       "      <td>2</td>\n",
       "      <td>13</td>\n",
       "      <td>0</td>\n",
       "    </tr>\n",
       "  </tbody>\n",
       "</table>\n",
       "<p>5 rows × 44 columns</p>\n",
       "</div>"
      ],
      "text/plain": [
       "   proto  state       dur  sbytes  dbytes  sttl  dttl  sloss  dloss  service  \\\n",
       "0    120      2  0.036133     528     304    31    29      0      0        0   \n",
       "1    120      2  0.001119     146     178    31    29      0      0        2   \n",
       "2    120      2  0.001209     132     164    31    29      0      0        2   \n",
       "3    120      2  0.001169     146     178    31    29      0      0        2   \n",
       "4    120      2  0.078339     568     312    31    29      0      0        0   \n",
       "\n",
       "   ...  is_ftp_login  ct_srv_src  ct_srv_dst  ct_dst_ltm  ct_src_ ltm  \\\n",
       "0  ...           0.0           2           4           2            3   \n",
       "1  ...           0.0          12           8           1            2   \n",
       "2  ...           0.0           6           9           1            1   \n",
       "3  ...           0.0           7           9           1            1   \n",
       "4  ...           0.0           2           4           2            3   \n",
       "\n",
       "   ct_src_dport_ltm  ct_dst_sport_ltm  ct_dst_src_ltm  attack_cat  Label  \n",
       "0                 1                 1               2          13      0  \n",
       "1                 2                 1               1          13      0  \n",
       "2                 1                 1               1          13      0  \n",
       "3                 1                 1               1          13      0  \n",
       "4                 1                 1               2          13      0  \n",
       "\n",
       "[5 rows x 44 columns]"
      ]
     },
     "execution_count": 3,
     "metadata": {},
     "output_type": "execute_result"
    }
   ],
   "source": [
    "data.head()"
   ]
  },
  {
   "cell_type": "code",
   "execution_count": 4,
   "id": "2e92c492-b323-4ae4-b672-a9ce30da1df5",
   "metadata": {},
   "outputs": [
    {
     "name": "stdout",
     "output_type": "stream",
     "text": [
      "Label\n",
      "0    1064986\n",
      "1      22215\n",
      "Name: count, dtype: int64\n"
     ]
    }
   ],
   "source": [
    "print(data['Label'].value_counts())"
   ]
  },
  {
   "cell_type": "code",
   "execution_count": 5,
   "id": "a562a90e-38e6-4855-9b1e-a392cbe7b964",
   "metadata": {},
   "outputs": [
    {
     "name": "stdout",
     "output_type": "stream",
     "text": [
      "sttl\n",
      "31     1039445\n",
      "254      22951\n",
      "0         6600\n",
      "60        6020\n",
      "62        4446\n",
      "1         3052\n",
      "29        2682\n",
      "32        1599\n",
      "30         225\n",
      "64         121\n",
      "255         31\n",
      "252         27\n",
      "63           2\n",
      "Name: count, dtype: int64\n"
     ]
    }
   ],
   "source": [
    "print(data['sttl'].value_counts())"
   ]
  },
  {
   "cell_type": "code",
   "execution_count": 6,
   "id": "b60bacc7-8bb8-4b12-bcc8-9c62f1d4edcb",
   "metadata": {},
   "outputs": [],
   "source": [
    "X = data.drop(['attack_cat', 'Label'], axis=1)\n",
    "Y = data['Label']"
   ]
  },
  {
   "cell_type": "code",
   "execution_count": 6,
   "id": "094b483e-8084-4a84-9bb3-87f57de3971e",
   "metadata": {},
   "outputs": [
    {
     "name": "stderr",
     "output_type": "stream",
     "text": [
      "C:\\Users\\ulami\\anaconda3\\envs\\tf_env\\lib\\site-packages\\tqdm\\auto.py:21: TqdmWarning: IProgress not found. Please update jupyter and ipywidgets. See https://ipywidgets.readthedocs.io/en/stable/user_install.html\n",
      "  from .autonotebook import tqdm as notebook_tqdm\n",
      "[I 2025-08-17 10:34:31,464] A new study created in memory with name: no-name-26da17bd-a5a9-49b8-89d6-091edf97d4c6\n",
      "C:\\Users\\ulami\\anaconda3\\envs\\tf_env\\lib\\site-packages\\keras\\src\\layers\\core\\dense.py:87: UserWarning: Do not pass an `input_shape`/`input_dim` argument to a layer. When using Sequential models, prefer using an `Input(shape)` object as the first layer in the model instead.\n",
      "  super().__init__(activity_regularizer=activity_regularizer, **kwargs)\n"
     ]
    },
    {
     "name": "stdout",
     "output_type": "stream",
     "text": [
      "\u001b[1m9060/9060\u001b[0m \u001b[32m━━━━━━━━━━━━━━━━━━━━\u001b[0m\u001b[37m\u001b[0m \u001b[1m6s\u001b[0m 616us/step\n"
     ]
    },
    {
     "name": "stderr",
     "output_type": "stream",
     "text": [
      "C:\\Users\\ulami\\anaconda3\\envs\\tf_env\\lib\\site-packages\\optuna\\trial\\_trial.py:497: UserWarning: The reported value is ignored because this `step` 1 is already reported.\n",
      "  warnings.warn(\n",
      "C:\\Users\\ulami\\anaconda3\\envs\\tf_env\\lib\\site-packages\\keras\\src\\layers\\core\\dense.py:87: UserWarning: Do not pass an `input_shape`/`input_dim` argument to a layer. When using Sequential models, prefer using an `Input(shape)` object as the first layer in the model instead.\n",
      "  super().__init__(activity_regularizer=activity_regularizer, **kwargs)\n",
      "C:\\Users\\ulami\\anaconda3\\envs\\tf_env\\lib\\site-packages\\optuna\\trial\\_trial.py:497: UserWarning: The reported value is ignored because this `step` 0 is already reported.\n",
      "  warnings.warn(\n",
      "C:\\Users\\ulami\\anaconda3\\envs\\tf_env\\lib\\site-packages\\optuna\\trial\\_trial.py:497: UserWarning: The reported value is ignored because this `step` 1 is already reported.\n",
      "  warnings.warn(\n",
      "C:\\Users\\ulami\\anaconda3\\envs\\tf_env\\lib\\site-packages\\optuna\\trial\\_trial.py:497: UserWarning: The reported value is ignored because this `step` 2 is already reported.\n",
      "  warnings.warn(\n",
      "C:\\Users\\ulami\\anaconda3\\envs\\tf_env\\lib\\site-packages\\optuna\\trial\\_trial.py:497: UserWarning: The reported value is ignored because this `step` 3 is already reported.\n",
      "  warnings.warn(\n"
     ]
    },
    {
     "name": "stdout",
     "output_type": "stream",
     "text": [
      "\u001b[1m  82/9060\u001b[0m \u001b[37m━━━━━━━━━━━━━━━━━━━━\u001b[0m \u001b[1m5s\u001b[0m 640us/step "
     ]
    },
    {
     "name": "stderr",
     "output_type": "stream",
     "text": [
      "C:\\Users\\ulami\\anaconda3\\envs\\tf_env\\lib\\site-packages\\optuna\\trial\\_trial.py:497: UserWarning: The reported value is ignored because this `step` 4 is already reported.\n",
      "  warnings.warn(\n"
     ]
    },
    {
     "name": "stdout",
     "output_type": "stream",
     "text": [
      "\u001b[1m9060/9060\u001b[0m \u001b[32m━━━━━━━━━━━━━━━━━━━━\u001b[0m\u001b[37m\u001b[0m \u001b[1m6s\u001b[0m 605us/step\n"
     ]
    },
    {
     "name": "stderr",
     "output_type": "stream",
     "text": [
      "C:\\Users\\ulami\\anaconda3\\envs\\tf_env\\lib\\site-packages\\optuna\\trial\\_trial.py:497: UserWarning: The reported value is ignored because this `step` 2 is already reported.\n",
      "  warnings.warn(\n",
      "C:\\Users\\ulami\\anaconda3\\envs\\tf_env\\lib\\site-packages\\keras\\src\\layers\\core\\dense.py:87: UserWarning: Do not pass an `input_shape`/`input_dim` argument to a layer. When using Sequential models, prefer using an `Input(shape)` object as the first layer in the model instead.\n",
      "  super().__init__(activity_regularizer=activity_regularizer, **kwargs)\n",
      "C:\\Users\\ulami\\anaconda3\\envs\\tf_env\\lib\\site-packages\\optuna\\trial\\_trial.py:497: UserWarning: The reported value is ignored because this `step` 0 is already reported.\n",
      "  warnings.warn(\n",
      "C:\\Users\\ulami\\anaconda3\\envs\\tf_env\\lib\\site-packages\\optuna\\trial\\_trial.py:497: UserWarning: The reported value is ignored because this `step` 1 is already reported.\n",
      "  warnings.warn(\n",
      "C:\\Users\\ulami\\anaconda3\\envs\\tf_env\\lib\\site-packages\\optuna\\trial\\_trial.py:497: UserWarning: The reported value is ignored because this `step` 2 is already reported.\n",
      "  warnings.warn(\n",
      "C:\\Users\\ulami\\anaconda3\\envs\\tf_env\\lib\\site-packages\\optuna\\trial\\_trial.py:497: UserWarning: The reported value is ignored because this `step` 3 is already reported.\n",
      "  warnings.warn(\n",
      "C:\\Users\\ulami\\anaconda3\\envs\\tf_env\\lib\\site-packages\\optuna\\trial\\_trial.py:497: UserWarning: The reported value is ignored because this `step` 4 is already reported.\n",
      "  warnings.warn(\n"
     ]
    },
    {
     "name": "stdout",
     "output_type": "stream",
     "text": [
      "\u001b[1m  83/9060\u001b[0m \u001b[37m━━━━━━━━━━━━━━━━━━━━\u001b[0m \u001b[1m5s\u001b[0m 664us/step "
     ]
    },
    {
     "name": "stderr",
     "output_type": "stream",
     "text": [
      "C:\\Users\\ulami\\anaconda3\\envs\\tf_env\\lib\\site-packages\\optuna\\trial\\_trial.py:497: UserWarning: The reported value is ignored because this `step` 5 is already reported.\n",
      "  warnings.warn(\n"
     ]
    },
    {
     "name": "stdout",
     "output_type": "stream",
     "text": [
      "\u001b[1m9060/9060\u001b[0m \u001b[32m━━━━━━━━━━━━━━━━━━━━\u001b[0m\u001b[37m\u001b[0m \u001b[1m6s\u001b[0m 614us/step\n"
     ]
    },
    {
     "name": "stderr",
     "output_type": "stream",
     "text": [
      "C:\\Users\\ulami\\anaconda3\\envs\\tf_env\\lib\\site-packages\\optuna\\trial\\_trial.py:497: UserWarning: The reported value is ignored because this `step` 3 is already reported.\n",
      "  warnings.warn(\n",
      "[I 2025-08-17 10:42:59,722] Trial 0 finished with value: 0.959473924294968 and parameters: {'epochs': 6, 'n_layers': 5, 'n_units_l0': 8, 'dropout_l0': 0.2, 'n_units_l1': 64, 'dropout_l1': 0.2, 'n_units_l2': 16, 'dropout_l2': 0.1, 'n_units_l3': 64, 'dropout_l3': 0.1, 'n_units_l4': 4, 'dropout_l4': 0.1}. Best is trial 0 with value: 0.959473924294968.\n",
      "C:\\Users\\ulami\\anaconda3\\envs\\tf_env\\lib\\site-packages\\keras\\src\\layers\\core\\dense.py:87: UserWarning: Do not pass an `input_shape`/`input_dim` argument to a layer. When using Sequential models, prefer using an `Input(shape)` object as the first layer in the model instead.\n",
      "  super().__init__(activity_regularizer=activity_regularizer, **kwargs)\n"
     ]
    },
    {
     "name": "stdout",
     "output_type": "stream",
     "text": [
      "\u001b[1m9060/9060\u001b[0m \u001b[32m━━━━━━━━━━━━━━━━━━━━\u001b[0m\u001b[37m\u001b[0m \u001b[1m6s\u001b[0m 619us/step\n"
     ]
    },
    {
     "name": "stderr",
     "output_type": "stream",
     "text": [
      "C:\\Users\\ulami\\anaconda3\\envs\\tf_env\\lib\\site-packages\\optuna\\trial\\_trial.py:497: UserWarning: The reported value is ignored because this `step` 1 is already reported.\n",
      "  warnings.warn(\n",
      "C:\\Users\\ulami\\anaconda3\\envs\\tf_env\\lib\\site-packages\\keras\\src\\layers\\core\\dense.py:87: UserWarning: Do not pass an `input_shape`/`input_dim` argument to a layer. When using Sequential models, prefer using an `Input(shape)` object as the first layer in the model instead.\n",
      "  super().__init__(activity_regularizer=activity_regularizer, **kwargs)\n",
      "C:\\Users\\ulami\\anaconda3\\envs\\tf_env\\lib\\site-packages\\optuna\\trial\\_trial.py:497: UserWarning: The reported value is ignored because this `step` 0 is already reported.\n",
      "  warnings.warn(\n",
      "C:\\Users\\ulami\\anaconda3\\envs\\tf_env\\lib\\site-packages\\optuna\\trial\\_trial.py:497: UserWarning: The reported value is ignored because this `step` 1 is already reported.\n",
      "  warnings.warn(\n",
      "C:\\Users\\ulami\\anaconda3\\envs\\tf_env\\lib\\site-packages\\optuna\\trial\\_trial.py:497: UserWarning: The reported value is ignored because this `step` 2 is already reported.\n",
      "  warnings.warn(\n",
      "C:\\Users\\ulami\\anaconda3\\envs\\tf_env\\lib\\site-packages\\optuna\\trial\\_trial.py:497: UserWarning: The reported value is ignored because this `step` 3 is already reported.\n",
      "  warnings.warn(\n",
      "C:\\Users\\ulami\\anaconda3\\envs\\tf_env\\lib\\site-packages\\optuna\\trial\\_trial.py:497: UserWarning: The reported value is ignored because this `step` 4 is already reported.\n",
      "  warnings.warn(\n"
     ]
    },
    {
     "name": "stdout",
     "output_type": "stream",
     "text": [
      "\u001b[1m9060/9060\u001b[0m \u001b[32m━━━━━━━━━━━━━━━━━━━━\u001b[0m\u001b[37m\u001b[0m \u001b[1m5s\u001b[0m 580us/step\n"
     ]
    },
    {
     "name": "stderr",
     "output_type": "stream",
     "text": [
      "C:\\Users\\ulami\\anaconda3\\envs\\tf_env\\lib\\site-packages\\optuna\\trial\\_trial.py:497: UserWarning: The reported value is ignored because this `step` 2 is already reported.\n",
      "  warnings.warn(\n",
      "C:\\Users\\ulami\\anaconda3\\envs\\tf_env\\lib\\site-packages\\keras\\src\\layers\\core\\dense.py:87: UserWarning: Do not pass an `input_shape`/`input_dim` argument to a layer. When using Sequential models, prefer using an `Input(shape)` object as the first layer in the model instead.\n",
      "  super().__init__(activity_regularizer=activity_regularizer, **kwargs)\n",
      "C:\\Users\\ulami\\anaconda3\\envs\\tf_env\\lib\\site-packages\\optuna\\trial\\_trial.py:497: UserWarning: The reported value is ignored because this `step` 0 is already reported.\n",
      "  warnings.warn(\n",
      "C:\\Users\\ulami\\anaconda3\\envs\\tf_env\\lib\\site-packages\\optuna\\trial\\_trial.py:497: UserWarning: The reported value is ignored because this `step` 1 is already reported.\n",
      "  warnings.warn(\n",
      "C:\\Users\\ulami\\anaconda3\\envs\\tf_env\\lib\\site-packages\\optuna\\trial\\_trial.py:497: UserWarning: The reported value is ignored because this `step` 2 is already reported.\n",
      "  warnings.warn(\n",
      "C:\\Users\\ulami\\anaconda3\\envs\\tf_env\\lib\\site-packages\\optuna\\trial\\_trial.py:497: UserWarning: The reported value is ignored because this `step` 3 is already reported.\n",
      "  warnings.warn(\n",
      "C:\\Users\\ulami\\anaconda3\\envs\\tf_env\\lib\\site-packages\\optuna\\trial\\_trial.py:497: UserWarning: The reported value is ignored because this `step` 4 is already reported.\n",
      "  warnings.warn(\n"
     ]
    },
    {
     "name": "stdout",
     "output_type": "stream",
     "text": [
      "\u001b[1m 120/9060\u001b[0m \u001b[37m━━━━━━━━━━━━━━━━━━━━\u001b[0m \u001b[1m4s\u001b[0m 540us/step "
     ]
    },
    {
     "name": "stderr",
     "output_type": "stream",
     "text": [
      "C:\\Users\\ulami\\anaconda3\\envs\\tf_env\\lib\\site-packages\\optuna\\trial\\_trial.py:497: UserWarning: The reported value is ignored because this `step` 5 is already reported.\n",
      "  warnings.warn(\n"
     ]
    },
    {
     "name": "stdout",
     "output_type": "stream",
     "text": [
      "\u001b[1m9060/9060\u001b[0m \u001b[32m━━━━━━━━━━━━━━━━━━━━\u001b[0m\u001b[37m\u001b[0m \u001b[1m5s\u001b[0m 548us/step\n"
     ]
    },
    {
     "name": "stderr",
     "output_type": "stream",
     "text": [
      "C:\\Users\\ulami\\anaconda3\\envs\\tf_env\\lib\\site-packages\\optuna\\trial\\_trial.py:497: UserWarning: The reported value is ignored because this `step` 3 is already reported.\n",
      "  warnings.warn(\n",
      "[I 2025-08-17 10:50:42,855] Trial 1 finished with value: 0.9618881474778224 and parameters: {'epochs': 6, 'n_layers': 3, 'n_units_l0': 16, 'dropout_l0': 0.1, 'n_units_l1': 4, 'dropout_l1': 0.0, 'n_units_l2': 16, 'dropout_l2': 0.0}. Best is trial 1 with value: 0.9618881474778224.\n",
      "C:\\Users\\ulami\\anaconda3\\envs\\tf_env\\lib\\site-packages\\keras\\src\\layers\\core\\dense.py:87: UserWarning: Do not pass an `input_shape`/`input_dim` argument to a layer. When using Sequential models, prefer using an `Input(shape)` object as the first layer in the model instead.\n",
      "  super().__init__(activity_regularizer=activity_regularizer, **kwargs)\n"
     ]
    },
    {
     "name": "stdout",
     "output_type": "stream",
     "text": [
      "\u001b[1m9060/9060\u001b[0m \u001b[32m━━━━━━━━━━━━━━━━━━━━\u001b[0m\u001b[37m\u001b[0m \u001b[1m5s\u001b[0m 599us/step\n"
     ]
    },
    {
     "name": "stderr",
     "output_type": "stream",
     "text": [
      "C:\\Users\\ulami\\anaconda3\\envs\\tf_env\\lib\\site-packages\\optuna\\trial\\_trial.py:497: UserWarning: The reported value is ignored because this `step` 1 is already reported.\n",
      "  warnings.warn(\n",
      "C:\\Users\\ulami\\anaconda3\\envs\\tf_env\\lib\\site-packages\\keras\\src\\layers\\core\\dense.py:87: UserWarning: Do not pass an `input_shape`/`input_dim` argument to a layer. When using Sequential models, prefer using an `Input(shape)` object as the first layer in the model instead.\n",
      "  super().__init__(activity_regularizer=activity_regularizer, **kwargs)\n",
      "C:\\Users\\ulami\\anaconda3\\envs\\tf_env\\lib\\site-packages\\optuna\\trial\\_trial.py:497: UserWarning: The reported value is ignored because this `step` 0 is already reported.\n",
      "  warnings.warn(\n",
      "C:\\Users\\ulami\\anaconda3\\envs\\tf_env\\lib\\site-packages\\optuna\\trial\\_trial.py:497: UserWarning: The reported value is ignored because this `step` 1 is already reported.\n",
      "  warnings.warn(\n"
     ]
    },
    {
     "name": "stdout",
     "output_type": "stream",
     "text": [
      "\u001b[1m  99/9060\u001b[0m \u001b[37m━━━━━━━━━━━━━━━━━━━━\u001b[0m \u001b[1m5s\u001b[0m 652us/step "
     ]
    },
    {
     "name": "stderr",
     "output_type": "stream",
     "text": [
      "C:\\Users\\ulami\\anaconda3\\envs\\tf_env\\lib\\site-packages\\optuna\\trial\\_trial.py:497: UserWarning: The reported value is ignored because this `step` 2 is already reported.\n",
      "  warnings.warn(\n"
     ]
    },
    {
     "name": "stdout",
     "output_type": "stream",
     "text": [
      "\u001b[1m9060/9060\u001b[0m \u001b[32m━━━━━━━━━━━━━━━━━━━━\u001b[0m\u001b[37m\u001b[0m \u001b[1m5s\u001b[0m 597us/step\n"
     ]
    },
    {
     "name": "stderr",
     "output_type": "stream",
     "text": [
      "C:\\Users\\ulami\\anaconda3\\envs\\tf_env\\lib\\site-packages\\optuna\\trial\\_trial.py:497: UserWarning: The reported value is ignored because this `step` 2 is already reported.\n",
      "  warnings.warn(\n",
      "C:\\Users\\ulami\\anaconda3\\envs\\tf_env\\lib\\site-packages\\keras\\src\\layers\\core\\dense.py:87: UserWarning: Do not pass an `input_shape`/`input_dim` argument to a layer. When using Sequential models, prefer using an `Input(shape)` object as the first layer in the model instead.\n",
      "  super().__init__(activity_regularizer=activity_regularizer, **kwargs)\n",
      "C:\\Users\\ulami\\anaconda3\\envs\\tf_env\\lib\\site-packages\\optuna\\trial\\_trial.py:497: UserWarning: The reported value is ignored because this `step` 0 is already reported.\n",
      "  warnings.warn(\n",
      "C:\\Users\\ulami\\anaconda3\\envs\\tf_env\\lib\\site-packages\\optuna\\trial\\_trial.py:497: UserWarning: The reported value is ignored because this `step` 1 is already reported.\n",
      "  warnings.warn(\n"
     ]
    },
    {
     "name": "stdout",
     "output_type": "stream",
     "text": [
      "\u001b[1m  72/9060\u001b[0m \u001b[37m━━━━━━━━━━━━━━━━━━━━\u001b[0m \u001b[1m6s\u001b[0m 721us/step "
     ]
    },
    {
     "name": "stderr",
     "output_type": "stream",
     "text": [
      "C:\\Users\\ulami\\anaconda3\\envs\\tf_env\\lib\\site-packages\\optuna\\trial\\_trial.py:497: UserWarning: The reported value is ignored because this `step` 2 is already reported.\n",
      "  warnings.warn(\n"
     ]
    },
    {
     "name": "stdout",
     "output_type": "stream",
     "text": [
      "\u001b[1m9060/9060\u001b[0m \u001b[32m━━━━━━━━━━━━━━━━━━━━\u001b[0m\u001b[37m\u001b[0m \u001b[1m5s\u001b[0m 570us/step\n"
     ]
    },
    {
     "name": "stderr",
     "output_type": "stream",
     "text": [
      "[I 2025-08-17 10:55:04,938] Trial 2 finished with value: 0.9623812406016051 and parameters: {'epochs': 3, 'n_layers': 4, 'n_units_l0': 32, 'dropout_l0': 0.2, 'n_units_l1': 64, 'dropout_l1': 0.0, 'n_units_l2': 32, 'dropout_l2': 0.1, 'n_units_l3': 64, 'dropout_l3': 0.0}. Best is trial 2 with value: 0.9623812406016051.\n",
      "C:\\Users\\ulami\\anaconda3\\envs\\tf_env\\lib\\site-packages\\keras\\src\\layers\\core\\dense.py:87: UserWarning: Do not pass an `input_shape`/`input_dim` argument to a layer. When using Sequential models, prefer using an `Input(shape)` object as the first layer in the model instead.\n",
      "  super().__init__(activity_regularizer=activity_regularizer, **kwargs)\n"
     ]
    },
    {
     "name": "stdout",
     "output_type": "stream",
     "text": [
      "\u001b[1m9060/9060\u001b[0m \u001b[32m━━━━━━━━━━━━━━━━━━━━\u001b[0m\u001b[37m\u001b[0m \u001b[1m5s\u001b[0m 564us/step\n"
     ]
    },
    {
     "name": "stderr",
     "output_type": "stream",
     "text": [
      "C:\\Users\\ulami\\anaconda3\\envs\\tf_env\\lib\\site-packages\\optuna\\trial\\_trial.py:497: UserWarning: The reported value is ignored because this `step` 1 is already reported.\n",
      "  warnings.warn(\n",
      "C:\\Users\\ulami\\anaconda3\\envs\\tf_env\\lib\\site-packages\\keras\\src\\layers\\core\\dense.py:87: UserWarning: Do not pass an `input_shape`/`input_dim` argument to a layer. When using Sequential models, prefer using an `Input(shape)` object as the first layer in the model instead.\n",
      "  super().__init__(activity_regularizer=activity_regularizer, **kwargs)\n",
      "C:\\Users\\ulami\\anaconda3\\envs\\tf_env\\lib\\site-packages\\optuna\\trial\\_trial.py:497: UserWarning: The reported value is ignored because this `step` 0 is already reported.\n",
      "  warnings.warn(\n",
      "C:\\Users\\ulami\\anaconda3\\envs\\tf_env\\lib\\site-packages\\optuna\\trial\\_trial.py:497: UserWarning: The reported value is ignored because this `step` 1 is already reported.\n",
      "  warnings.warn(\n",
      "C:\\Users\\ulami\\anaconda3\\envs\\tf_env\\lib\\site-packages\\optuna\\trial\\_trial.py:497: UserWarning: The reported value is ignored because this `step` 2 is already reported.\n",
      "  warnings.warn(\n",
      "C:\\Users\\ulami\\anaconda3\\envs\\tf_env\\lib\\site-packages\\optuna\\trial\\_trial.py:497: UserWarning: The reported value is ignored because this `step` 3 is already reported.\n",
      "  warnings.warn(\n",
      "C:\\Users\\ulami\\anaconda3\\envs\\tf_env\\lib\\site-packages\\optuna\\trial\\_trial.py:497: UserWarning: The reported value is ignored because this `step` 4 is already reported.\n",
      "  warnings.warn(\n",
      "C:\\Users\\ulami\\anaconda3\\envs\\tf_env\\lib\\site-packages\\optuna\\trial\\_trial.py:497: UserWarning: The reported value is ignored because this `step` 5 is already reported.\n",
      "  warnings.warn(\n",
      "C:\\Users\\ulami\\anaconda3\\envs\\tf_env\\lib\\site-packages\\optuna\\trial\\_trial.py:497: UserWarning: The reported value is ignored because this `step` 6 is already reported.\n",
      "  warnings.warn(\n",
      "C:\\Users\\ulami\\anaconda3\\envs\\tf_env\\lib\\site-packages\\optuna\\trial\\_trial.py:497: UserWarning: The reported value is ignored because this `step` 7 is already reported.\n",
      "  warnings.warn(\n"
     ]
    },
    {
     "name": "stdout",
     "output_type": "stream",
     "text": [
      "\u001b[1m 184/9060\u001b[0m \u001b[37m━━━━━━━━━━━━━━━━━━━━\u001b[0m \u001b[1m5s\u001b[0m 609us/step "
     ]
    },
    {
     "name": "stderr",
     "output_type": "stream",
     "text": [
      "C:\\Users\\ulami\\anaconda3\\envs\\tf_env\\lib\\site-packages\\optuna\\trial\\_trial.py:497: UserWarning: The reported value is ignored because this `step` 8 is already reported.\n",
      "  warnings.warn(\n"
     ]
    },
    {
     "name": "stdout",
     "output_type": "stream",
     "text": [
      "\u001b[1m9060/9060\u001b[0m \u001b[32m━━━━━━━━━━━━━━━━━━━━\u001b[0m\u001b[37m\u001b[0m \u001b[1m5s\u001b[0m 498us/step\n"
     ]
    },
    {
     "name": "stderr",
     "output_type": "stream",
     "text": [
      "C:\\Users\\ulami\\anaconda3\\envs\\tf_env\\lib\\site-packages\\optuna\\trial\\_trial.py:497: UserWarning: The reported value is ignored because this `step` 2 is already reported.\n",
      "  warnings.warn(\n",
      "C:\\Users\\ulami\\anaconda3\\envs\\tf_env\\lib\\site-packages\\keras\\src\\layers\\core\\dense.py:87: UserWarning: Do not pass an `input_shape`/`input_dim` argument to a layer. When using Sequential models, prefer using an `Input(shape)` object as the first layer in the model instead.\n",
      "  super().__init__(activity_regularizer=activity_regularizer, **kwargs)\n",
      "C:\\Users\\ulami\\anaconda3\\envs\\tf_env\\lib\\site-packages\\optuna\\trial\\_trial.py:497: UserWarning: The reported value is ignored because this `step` 0 is already reported.\n",
      "  warnings.warn(\n",
      "C:\\Users\\ulami\\anaconda3\\envs\\tf_env\\lib\\site-packages\\optuna\\trial\\_trial.py:497: UserWarning: The reported value is ignored because this `step` 1 is already reported.\n",
      "  warnings.warn(\n",
      "C:\\Users\\ulami\\anaconda3\\envs\\tf_env\\lib\\site-packages\\optuna\\trial\\_trial.py:497: UserWarning: The reported value is ignored because this `step` 2 is already reported.\n",
      "  warnings.warn(\n",
      "C:\\Users\\ulami\\anaconda3\\envs\\tf_env\\lib\\site-packages\\optuna\\trial\\_trial.py:497: UserWarning: The reported value is ignored because this `step` 3 is already reported.\n",
      "  warnings.warn(\n",
      "C:\\Users\\ulami\\anaconda3\\envs\\tf_env\\lib\\site-packages\\optuna\\trial\\_trial.py:497: UserWarning: The reported value is ignored because this `step` 4 is already reported.\n",
      "  warnings.warn(\n",
      "C:\\Users\\ulami\\anaconda3\\envs\\tf_env\\lib\\site-packages\\optuna\\trial\\_trial.py:497: UserWarning: The reported value is ignored because this `step` 5 is already reported.\n",
      "  warnings.warn(\n",
      "C:\\Users\\ulami\\anaconda3\\envs\\tf_env\\lib\\site-packages\\optuna\\trial\\_trial.py:497: UserWarning: The reported value is ignored because this `step` 6 is already reported.\n",
      "  warnings.warn(\n",
      "C:\\Users\\ulami\\anaconda3\\envs\\tf_env\\lib\\site-packages\\optuna\\trial\\_trial.py:497: UserWarning: The reported value is ignored because this `step` 7 is already reported.\n",
      "  warnings.warn(\n"
     ]
    },
    {
     "name": "stdout",
     "output_type": "stream",
     "text": [
      "\u001b[1m  97/9060\u001b[0m \u001b[37m━━━━━━━━━━━━━━━━━━━━\u001b[0m \u001b[1m4s\u001b[0m 541us/step "
     ]
    },
    {
     "name": "stderr",
     "output_type": "stream",
     "text": [
      "C:\\Users\\ulami\\anaconda3\\envs\\tf_env\\lib\\site-packages\\optuna\\trial\\_trial.py:497: UserWarning: The reported value is ignored because this `step` 8 is already reported.\n",
      "  warnings.warn(\n"
     ]
    },
    {
     "name": "stdout",
     "output_type": "stream",
     "text": [
      "\u001b[1m9060/9060\u001b[0m \u001b[32m━━━━━━━━━━━━━━━━━━━━\u001b[0m\u001b[37m\u001b[0m \u001b[1m5s\u001b[0m 574us/step\n"
     ]
    },
    {
     "name": "stderr",
     "output_type": "stream",
     "text": [
      "C:\\Users\\ulami\\anaconda3\\envs\\tf_env\\lib\\site-packages\\optuna\\trial\\_trial.py:497: UserWarning: The reported value is ignored because this `step` 3 is already reported.\n",
      "  warnings.warn(\n",
      "[I 2025-08-17 11:06:40,644] Trial 3 finished with value: 0.9623824247443732 and parameters: {'epochs': 9, 'n_layers': 4, 'n_units_l0': 16, 'dropout_l0': 0.1, 'n_units_l1': 8, 'dropout_l1': 0.0, 'n_units_l2': 8, 'dropout_l2': 0.1, 'n_units_l3': 4, 'dropout_l3': 0.2}. Best is trial 3 with value: 0.9623824247443732.\n",
      "C:\\Users\\ulami\\anaconda3\\envs\\tf_env\\lib\\site-packages\\keras\\src\\layers\\core\\dense.py:87: UserWarning: Do not pass an `input_shape`/`input_dim` argument to a layer. When using Sequential models, prefer using an `Input(shape)` object as the first layer in the model instead.\n",
      "  super().__init__(activity_regularizer=activity_regularizer, **kwargs)\n"
     ]
    },
    {
     "name": "stdout",
     "output_type": "stream",
     "text": [
      "\u001b[1m9060/9060\u001b[0m \u001b[32m━━━━━━━━━━━━━━━━━━━━\u001b[0m\u001b[37m\u001b[0m \u001b[1m5s\u001b[0m 559us/step\n"
     ]
    },
    {
     "name": "stderr",
     "output_type": "stream",
     "text": [
      "C:\\Users\\ulami\\anaconda3\\envs\\tf_env\\lib\\site-packages\\optuna\\trial\\_trial.py:497: UserWarning: The reported value is ignored because this `step` 1 is already reported.\n",
      "  warnings.warn(\n",
      "C:\\Users\\ulami\\anaconda3\\envs\\tf_env\\lib\\site-packages\\keras\\src\\layers\\core\\dense.py:87: UserWarning: Do not pass an `input_shape`/`input_dim` argument to a layer. When using Sequential models, prefer using an `Input(shape)` object as the first layer in the model instead.\n",
      "  super().__init__(activity_regularizer=activity_regularizer, **kwargs)\n",
      "C:\\Users\\ulami\\anaconda3\\envs\\tf_env\\lib\\site-packages\\optuna\\trial\\_trial.py:497: UserWarning: The reported value is ignored because this `step` 0 is already reported.\n",
      "  warnings.warn(\n",
      "C:\\Users\\ulami\\anaconda3\\envs\\tf_env\\lib\\site-packages\\optuna\\trial\\_trial.py:497: UserWarning: The reported value is ignored because this `step` 1 is already reported.\n",
      "  warnings.warn(\n",
      "C:\\Users\\ulami\\anaconda3\\envs\\tf_env\\lib\\site-packages\\optuna\\trial\\_trial.py:497: UserWarning: The reported value is ignored because this `step` 2 is already reported.\n",
      "  warnings.warn(\n",
      "C:\\Users\\ulami\\anaconda3\\envs\\tf_env\\lib\\site-packages\\optuna\\trial\\_trial.py:497: UserWarning: The reported value is ignored because this `step` 3 is already reported.\n",
      "  warnings.warn(\n",
      "C:\\Users\\ulami\\anaconda3\\envs\\tf_env\\lib\\site-packages\\optuna\\trial\\_trial.py:497: UserWarning: The reported value is ignored because this `step` 4 is already reported.\n",
      "  warnings.warn(\n"
     ]
    },
    {
     "name": "stdout",
     "output_type": "stream",
     "text": [
      "\u001b[1m9060/9060\u001b[0m \u001b[32m━━━━━━━━━━━━━━━━━━━━\u001b[0m\u001b[37m\u001b[0m \u001b[1m5s\u001b[0m 517us/step\n"
     ]
    },
    {
     "name": "stderr",
     "output_type": "stream",
     "text": [
      "C:\\Users\\ulami\\anaconda3\\envs\\tf_env\\lib\\site-packages\\optuna\\trial\\_trial.py:497: UserWarning: The reported value is ignored because this `step` 2 is already reported.\n",
      "  warnings.warn(\n",
      "C:\\Users\\ulami\\anaconda3\\envs\\tf_env\\lib\\site-packages\\keras\\src\\layers\\core\\dense.py:87: UserWarning: Do not pass an `input_shape`/`input_dim` argument to a layer. When using Sequential models, prefer using an `Input(shape)` object as the first layer in the model instead.\n",
      "  super().__init__(activity_regularizer=activity_regularizer, **kwargs)\n",
      "C:\\Users\\ulami\\anaconda3\\envs\\tf_env\\lib\\site-packages\\optuna\\trial\\_trial.py:497: UserWarning: The reported value is ignored because this `step` 0 is already reported.\n",
      "  warnings.warn(\n",
      "C:\\Users\\ulami\\anaconda3\\envs\\tf_env\\lib\\site-packages\\optuna\\trial\\_trial.py:497: UserWarning: The reported value is ignored because this `step` 1 is already reported.\n",
      "  warnings.warn(\n",
      "C:\\Users\\ulami\\anaconda3\\envs\\tf_env\\lib\\site-packages\\optuna\\trial\\_trial.py:497: UserWarning: The reported value is ignored because this `step` 2 is already reported.\n",
      "  warnings.warn(\n",
      "C:\\Users\\ulami\\anaconda3\\envs\\tf_env\\lib\\site-packages\\optuna\\trial\\_trial.py:497: UserWarning: The reported value is ignored because this `step` 3 is already reported.\n",
      "  warnings.warn(\n",
      "C:\\Users\\ulami\\anaconda3\\envs\\tf_env\\lib\\site-packages\\optuna\\trial\\_trial.py:497: UserWarning: The reported value is ignored because this `step` 4 is already reported.\n",
      "  warnings.warn(\n"
     ]
    },
    {
     "name": "stdout",
     "output_type": "stream",
     "text": [
      "\u001b[1m 185/9060\u001b[0m \u001b[37m━━━━━━━━━━━━━━━━━━━━\u001b[0m \u001b[1m5s\u001b[0m 576us/step "
     ]
    },
    {
     "name": "stderr",
     "output_type": "stream",
     "text": [
      "C:\\Users\\ulami\\anaconda3\\envs\\tf_env\\lib\\site-packages\\optuna\\trial\\_trial.py:497: UserWarning: The reported value is ignored because this `step` 5 is already reported.\n",
      "  warnings.warn(\n"
     ]
    },
    {
     "name": "stdout",
     "output_type": "stream",
     "text": [
      "\u001b[1m9060/9060\u001b[0m \u001b[32m━━━━━━━━━━━━━━━━━━━━\u001b[0m\u001b[37m\u001b[0m \u001b[1m4s\u001b[0m 489us/step\n"
     ]
    },
    {
     "name": "stderr",
     "output_type": "stream",
     "text": [
      "C:\\Users\\ulami\\anaconda3\\envs\\tf_env\\lib\\site-packages\\optuna\\trial\\_trial.py:497: UserWarning: The reported value is ignored because this `step` 3 is already reported.\n",
      "  warnings.warn(\n",
      "[I 2025-08-17 11:13:58,596] Trial 4 finished with value: 0.9620406127099826 and parameters: {'epochs': 6, 'n_layers': 4, 'n_units_l0': 16, 'dropout_l0': 0.0, 'n_units_l1': 8, 'dropout_l1': 0.0, 'n_units_l2': 32, 'dropout_l2': 0.2, 'n_units_l3': 32, 'dropout_l3': 0.1}. Best is trial 3 with value: 0.9623824247443732.\n",
      "C:\\Users\\ulami\\anaconda3\\envs\\tf_env\\lib\\site-packages\\keras\\src\\layers\\core\\dense.py:87: UserWarning: Do not pass an `input_shape`/`input_dim` argument to a layer. When using Sequential models, prefer using an `Input(shape)` object as the first layer in the model instead.\n",
      "  super().__init__(activity_regularizer=activity_regularizer, **kwargs)\n",
      "[I 2025-08-17 11:14:24,996] Trial 5 pruned. Trial was pruned at epoch 0.\n",
      "C:\\Users\\ulami\\anaconda3\\envs\\tf_env\\lib\\site-packages\\keras\\src\\layers\\core\\dense.py:87: UserWarning: Do not pass an `input_shape`/`input_dim` argument to a layer. When using Sequential models, prefer using an `Input(shape)` object as the first layer in the model instead.\n",
      "  super().__init__(activity_regularizer=activity_regularizer, **kwargs)\n",
      "[I 2025-08-17 11:14:51,864] Trial 6 pruned. Trial was pruned at epoch 0.\n",
      "C:\\Users\\ulami\\anaconda3\\envs\\tf_env\\lib\\site-packages\\keras\\src\\layers\\core\\dense.py:87: UserWarning: Do not pass an `input_shape`/`input_dim` argument to a layer. When using Sequential models, prefer using an `Input(shape)` object as the first layer in the model instead.\n",
      "  super().__init__(activity_regularizer=activity_regularizer, **kwargs)\n",
      "[I 2025-08-17 11:15:15,776] Trial 7 pruned. Trial was pruned at epoch 0.\n",
      "C:\\Users\\ulami\\anaconda3\\envs\\tf_env\\lib\\site-packages\\keras\\src\\layers\\core\\dense.py:87: UserWarning: Do not pass an `input_shape`/`input_dim` argument to a layer. When using Sequential models, prefer using an `Input(shape)` object as the first layer in the model instead.\n",
      "  super().__init__(activity_regularizer=activity_regularizer, **kwargs)\n",
      "[I 2025-08-17 11:15:43,546] Trial 8 pruned. Trial was pruned at epoch 0.\n",
      "C:\\Users\\ulami\\anaconda3\\envs\\tf_env\\lib\\site-packages\\keras\\src\\layers\\core\\dense.py:87: UserWarning: Do not pass an `input_shape`/`input_dim` argument to a layer. When using Sequential models, prefer using an `Input(shape)` object as the first layer in the model instead.\n",
      "  super().__init__(activity_regularizer=activity_regularizer, **kwargs)\n",
      "[I 2025-08-17 11:16:07,770] Trial 9 pruned. Trial was pruned at epoch 0.\n",
      "C:\\Users\\ulami\\anaconda3\\envs\\tf_env\\lib\\site-packages\\keras\\src\\layers\\core\\dense.py:87: UserWarning: Do not pass an `input_shape`/`input_dim` argument to a layer. When using Sequential models, prefer using an `Input(shape)` object as the first layer in the model instead.\n",
      "  super().__init__(activity_regularizer=activity_regularizer, **kwargs)\n",
      "[I 2025-08-17 11:16:33,160] Trial 10 pruned. Trial was pruned at epoch 0.\n",
      "C:\\Users\\ulami\\anaconda3\\envs\\tf_env\\lib\\site-packages\\keras\\src\\layers\\core\\dense.py:87: UserWarning: Do not pass an `input_shape`/`input_dim` argument to a layer. When using Sequential models, prefer using an `Input(shape)` object as the first layer in the model instead.\n",
      "  super().__init__(activity_regularizer=activity_regularizer, **kwargs)\n",
      "[I 2025-08-17 11:16:59,165] Trial 11 pruned. Trial was pruned at epoch 0.\n",
      "C:\\Users\\ulami\\anaconda3\\envs\\tf_env\\lib\\site-packages\\keras\\src\\layers\\core\\dense.py:87: UserWarning: Do not pass an `input_shape`/`input_dim` argument to a layer. When using Sequential models, prefer using an `Input(shape)` object as the first layer in the model instead.\n",
      "  super().__init__(activity_regularizer=activity_regularizer, **kwargs)\n"
     ]
    },
    {
     "name": "stdout",
     "output_type": "stream",
     "text": [
      "\u001b[1m9060/9060\u001b[0m \u001b[32m━━━━━━━━━━━━━━━━━━━━\u001b[0m\u001b[37m\u001b[0m \u001b[1m5s\u001b[0m 554us/step\n"
     ]
    },
    {
     "name": "stderr",
     "output_type": "stream",
     "text": [
      "C:\\Users\\ulami\\anaconda3\\envs\\tf_env\\lib\\site-packages\\optuna\\trial\\_trial.py:497: UserWarning: The reported value is ignored because this `step` 1 is already reported.\n",
      "  warnings.warn(\n",
      "C:\\Users\\ulami\\anaconda3\\envs\\tf_env\\lib\\site-packages\\keras\\src\\layers\\core\\dense.py:87: UserWarning: Do not pass an `input_shape`/`input_dim` argument to a layer. When using Sequential models, prefer using an `Input(shape)` object as the first layer in the model instead.\n",
      "  super().__init__(activity_regularizer=activity_regularizer, **kwargs)\n",
      "C:\\Users\\ulami\\anaconda3\\envs\\tf_env\\lib\\site-packages\\optuna\\trial\\_trial.py:497: UserWarning: The reported value is ignored because this `step` 0 is already reported.\n",
      "  warnings.warn(\n",
      "C:\\Users\\ulami\\anaconda3\\envs\\tf_env\\lib\\site-packages\\optuna\\trial\\_trial.py:497: UserWarning: The reported value is ignored because this `step` 1 is already reported.\n",
      "  warnings.warn(\n",
      "C:\\Users\\ulami\\anaconda3\\envs\\tf_env\\lib\\site-packages\\optuna\\trial\\_trial.py:497: UserWarning: The reported value is ignored because this `step` 2 is already reported.\n",
      "  warnings.warn(\n"
     ]
    },
    {
     "name": "stdout",
     "output_type": "stream",
     "text": [
      "\u001b[1m 159/9060\u001b[0m \u001b[37m━━━━━━━━━━━━━━━━━━━━\u001b[0m \u001b[1m5s\u001b[0m 635us/step "
     ]
    },
    {
     "name": "stderr",
     "output_type": "stream",
     "text": [
      "C:\\Users\\ulami\\anaconda3\\envs\\tf_env\\lib\\site-packages\\optuna\\trial\\_trial.py:497: UserWarning: The reported value is ignored because this `step` 3 is already reported.\n",
      "  warnings.warn(\n"
     ]
    },
    {
     "name": "stdout",
     "output_type": "stream",
     "text": [
      "\u001b[1m9060/9060\u001b[0m \u001b[32m━━━━━━━━━━━━━━━━━━━━\u001b[0m\u001b[37m\u001b[0m \u001b[1m5s\u001b[0m 531us/step\n"
     ]
    },
    {
     "name": "stderr",
     "output_type": "stream",
     "text": [
      "C:\\Users\\ulami\\anaconda3\\envs\\tf_env\\lib\\site-packages\\optuna\\trial\\_trial.py:497: UserWarning: The reported value is ignored because this `step` 2 is already reported.\n",
      "  warnings.warn(\n",
      "C:\\Users\\ulami\\anaconda3\\envs\\tf_env\\lib\\site-packages\\keras\\src\\layers\\core\\dense.py:87: UserWarning: Do not pass an `input_shape`/`input_dim` argument to a layer. When using Sequential models, prefer using an `Input(shape)` object as the first layer in the model instead.\n",
      "  super().__init__(activity_regularizer=activity_regularizer, **kwargs)\n",
      "C:\\Users\\ulami\\anaconda3\\envs\\tf_env\\lib\\site-packages\\optuna\\trial\\_trial.py:497: UserWarning: The reported value is ignored because this `step` 0 is already reported.\n",
      "  warnings.warn(\n",
      "C:\\Users\\ulami\\anaconda3\\envs\\tf_env\\lib\\site-packages\\optuna\\trial\\_trial.py:497: UserWarning: The reported value is ignored because this `step` 1 is already reported.\n",
      "  warnings.warn(\n",
      "C:\\Users\\ulami\\anaconda3\\envs\\tf_env\\lib\\site-packages\\optuna\\trial\\_trial.py:497: UserWarning: The reported value is ignored because this `step` 2 is already reported.\n",
      "  warnings.warn(\n"
     ]
    },
    {
     "name": "stdout",
     "output_type": "stream",
     "text": [
      "\u001b[1m 184/9060\u001b[0m \u001b[37m━━━━━━━━━━━━━━━━━━━━\u001b[0m \u001b[1m5s\u001b[0m 579us/step "
     ]
    },
    {
     "name": "stderr",
     "output_type": "stream",
     "text": [
      "C:\\Users\\ulami\\anaconda3\\envs\\tf_env\\lib\\site-packages\\optuna\\trial\\_trial.py:497: UserWarning: The reported value is ignored because this `step` 3 is already reported.\n",
      "  warnings.warn(\n"
     ]
    },
    {
     "name": "stdout",
     "output_type": "stream",
     "text": [
      "\u001b[1m9060/9060\u001b[0m \u001b[32m━━━━━━━━━━━━━━━━━━━━\u001b[0m\u001b[37m\u001b[0m \u001b[1m5s\u001b[0m 567us/step\n"
     ]
    },
    {
     "name": "stderr",
     "output_type": "stream",
     "text": [
      "C:\\Users\\ulami\\anaconda3\\envs\\tf_env\\lib\\site-packages\\optuna\\trial\\_trial.py:497: UserWarning: The reported value is ignored because this `step` 3 is already reported.\n",
      "  warnings.warn(\n",
      "[I 2025-08-17 11:22:27,905] Trial 12 finished with value: 0.9642865553379357 and parameters: {'epochs': 4, 'n_layers': 4, 'n_units_l0': 32, 'dropout_l0': 0.1, 'n_units_l1': 16, 'dropout_l1': 0.0, 'n_units_l2': 8, 'dropout_l2': 0.1, 'n_units_l3': 64, 'dropout_l3': 0.0}. Best is trial 12 with value: 0.9642865553379357.\n",
      "C:\\Users\\ulami\\anaconda3\\envs\\tf_env\\lib\\site-packages\\keras\\src\\layers\\core\\dense.py:87: UserWarning: Do not pass an `input_shape`/`input_dim` argument to a layer. When using Sequential models, prefer using an `Input(shape)` object as the first layer in the model instead.\n",
      "  super().__init__(activity_regularizer=activity_regularizer, **kwargs)\n",
      "[I 2025-08-17 11:22:54,713] Trial 13 pruned. Trial was pruned at epoch 0.\n",
      "C:\\Users\\ulami\\anaconda3\\envs\\tf_env\\lib\\site-packages\\keras\\src\\layers\\core\\dense.py:87: UserWarning: Do not pass an `input_shape`/`input_dim` argument to a layer. When using Sequential models, prefer using an `Input(shape)` object as the first layer in the model instead.\n",
      "  super().__init__(activity_regularizer=activity_regularizer, **kwargs)\n",
      "[I 2025-08-17 11:23:22,513] Trial 14 pruned. Trial was pruned at epoch 0.\n",
      "C:\\Users\\ulami\\anaconda3\\envs\\tf_env\\lib\\site-packages\\keras\\src\\layers\\core\\dense.py:87: UserWarning: Do not pass an `input_shape`/`input_dim` argument to a layer. When using Sequential models, prefer using an `Input(shape)` object as the first layer in the model instead.\n",
      "  super().__init__(activity_regularizer=activity_regularizer, **kwargs)\n"
     ]
    },
    {
     "name": "stdout",
     "output_type": "stream",
     "text": [
      "\u001b[1m9060/9060\u001b[0m \u001b[32m━━━━━━━━━━━━━━━━━━━━\u001b[0m\u001b[37m\u001b[0m \u001b[1m5s\u001b[0m 560us/step\n"
     ]
    },
    {
     "name": "stderr",
     "output_type": "stream",
     "text": [
      "C:\\Users\\ulami\\anaconda3\\envs\\tf_env\\lib\\site-packages\\optuna\\trial\\_trial.py:497: UserWarning: The reported value is ignored because this `step` 1 is already reported.\n",
      "  warnings.warn(\n",
      "C:\\Users\\ulami\\anaconda3\\envs\\tf_env\\lib\\site-packages\\keras\\src\\layers\\core\\dense.py:87: UserWarning: Do not pass an `input_shape`/`input_dim` argument to a layer. When using Sequential models, prefer using an `Input(shape)` object as the first layer in the model instead.\n",
      "  super().__init__(activity_regularizer=activity_regularizer, **kwargs)\n",
      "C:\\Users\\ulami\\anaconda3\\envs\\tf_env\\lib\\site-packages\\optuna\\trial\\_trial.py:497: UserWarning: The reported value is ignored because this `step` 0 is already reported.\n",
      "  warnings.warn(\n",
      "C:\\Users\\ulami\\anaconda3\\envs\\tf_env\\lib\\site-packages\\optuna\\trial\\_trial.py:497: UserWarning: The reported value is ignored because this `step` 1 is already reported.\n",
      "  warnings.warn(\n",
      "C:\\Users\\ulami\\anaconda3\\envs\\tf_env\\lib\\site-packages\\optuna\\trial\\_trial.py:497: UserWarning: The reported value is ignored because this `step` 2 is already reported.\n",
      "  warnings.warn(\n",
      "C:\\Users\\ulami\\anaconda3\\envs\\tf_env\\lib\\site-packages\\optuna\\trial\\_trial.py:497: UserWarning: The reported value is ignored because this `step` 3 is already reported.\n",
      "  warnings.warn(\n",
      "C:\\Users\\ulami\\anaconda3\\envs\\tf_env\\lib\\site-packages\\optuna\\trial\\_trial.py:497: UserWarning: The reported value is ignored because this `step` 4 is already reported.\n",
      "  warnings.warn(\n",
      "C:\\Users\\ulami\\anaconda3\\envs\\tf_env\\lib\\site-packages\\optuna\\trial\\_trial.py:497: UserWarning: The reported value is ignored because this `step` 5 is already reported.\n",
      "  warnings.warn(\n",
      "C:\\Users\\ulami\\anaconda3\\envs\\tf_env\\lib\\site-packages\\optuna\\trial\\_trial.py:497: UserWarning: The reported value is ignored because this `step` 6 is already reported.\n",
      "  warnings.warn(\n"
     ]
    },
    {
     "name": "stdout",
     "output_type": "stream",
     "text": [
      "\u001b[1m9060/9060\u001b[0m \u001b[32m━━━━━━━━━━━━━━━━━━━━\u001b[0m\u001b[37m\u001b[0m \u001b[1m5s\u001b[0m 509us/step\n"
     ]
    },
    {
     "name": "stderr",
     "output_type": "stream",
     "text": [
      "C:\\Users\\ulami\\anaconda3\\envs\\tf_env\\lib\\site-packages\\optuna\\trial\\_trial.py:497: UserWarning: The reported value is ignored because this `step` 2 is already reported.\n",
      "  warnings.warn(\n",
      "C:\\Users\\ulami\\anaconda3\\envs\\tf_env\\lib\\site-packages\\keras\\src\\layers\\core\\dense.py:87: UserWarning: Do not pass an `input_shape`/`input_dim` argument to a layer. When using Sequential models, prefer using an `Input(shape)` object as the first layer in the model instead.\n",
      "  super().__init__(activity_regularizer=activity_regularizer, **kwargs)\n",
      "C:\\Users\\ulami\\anaconda3\\envs\\tf_env\\lib\\site-packages\\optuna\\trial\\_trial.py:497: UserWarning: The reported value is ignored because this `step` 0 is already reported.\n",
      "  warnings.warn(\n",
      "C:\\Users\\ulami\\anaconda3\\envs\\tf_env\\lib\\site-packages\\optuna\\trial\\_trial.py:497: UserWarning: The reported value is ignored because this `step` 1 is already reported.\n",
      "  warnings.warn(\n",
      "C:\\Users\\ulami\\anaconda3\\envs\\tf_env\\lib\\site-packages\\optuna\\trial\\_trial.py:497: UserWarning: The reported value is ignored because this `step` 2 is already reported.\n",
      "  warnings.warn(\n",
      "C:\\Users\\ulami\\anaconda3\\envs\\tf_env\\lib\\site-packages\\optuna\\trial\\_trial.py:497: UserWarning: The reported value is ignored because this `step` 3 is already reported.\n",
      "  warnings.warn(\n",
      "C:\\Users\\ulami\\anaconda3\\envs\\tf_env\\lib\\site-packages\\optuna\\trial\\_trial.py:497: UserWarning: The reported value is ignored because this `step` 4 is already reported.\n",
      "  warnings.warn(\n",
      "C:\\Users\\ulami\\anaconda3\\envs\\tf_env\\lib\\site-packages\\optuna\\trial\\_trial.py:497: UserWarning: The reported value is ignored because this `step` 5 is already reported.\n",
      "  warnings.warn(\n",
      "C:\\Users\\ulami\\anaconda3\\envs\\tf_env\\lib\\site-packages\\optuna\\trial\\_trial.py:497: UserWarning: The reported value is ignored because this `step` 6 is already reported.\n",
      "  warnings.warn(\n",
      "C:\\Users\\ulami\\anaconda3\\envs\\tf_env\\lib\\site-packages\\optuna\\trial\\_trial.py:497: UserWarning: The reported value is ignored because this `step` 7 is already reported.\n",
      "  warnings.warn(\n",
      "C:\\Users\\ulami\\anaconda3\\envs\\tf_env\\lib\\site-packages\\optuna\\trial\\_trial.py:497: UserWarning: The reported value is ignored because this `step` 8 is already reported.\n",
      "  warnings.warn(\n"
     ]
    },
    {
     "name": "stdout",
     "output_type": "stream",
     "text": [
      "\u001b[1m 184/9060\u001b[0m \u001b[37m━━━━━━━━━━━━━━━━━━━━\u001b[0m \u001b[1m4s\u001b[0m 556us/step "
     ]
    },
    {
     "name": "stderr",
     "output_type": "stream",
     "text": [
      "C:\\Users\\ulami\\anaconda3\\envs\\tf_env\\lib\\site-packages\\optuna\\trial\\_trial.py:497: UserWarning: The reported value is ignored because this `step` 9 is already reported.\n",
      "  warnings.warn(\n"
     ]
    },
    {
     "name": "stdout",
     "output_type": "stream",
     "text": [
      "\u001b[1m9060/9060\u001b[0m \u001b[32m━━━━━━━━━━━━━━━━━━━━\u001b[0m\u001b[37m\u001b[0m \u001b[1m5s\u001b[0m 537us/step\n"
     ]
    },
    {
     "name": "stderr",
     "output_type": "stream",
     "text": [
      "C:\\Users\\ulami\\anaconda3\\envs\\tf_env\\lib\\site-packages\\optuna\\trial\\_trial.py:497: UserWarning: The reported value is ignored because this `step` 3 is already reported.\n",
      "  warnings.warn(\n",
      "[I 2025-08-17 11:34:41,377] Trial 15 finished with value: 0.9652311545107795 and parameters: {'epochs': 10, 'n_layers': 3, 'n_units_l0': 32, 'dropout_l0': 0.1, 'n_units_l1': 4, 'dropout_l1': 0.0, 'n_units_l2': 8, 'dropout_l2': 0.1}. Best is trial 15 with value: 0.9652311545107795.\n",
      "C:\\Users\\ulami\\anaconda3\\envs\\tf_env\\lib\\site-packages\\keras\\src\\layers\\core\\dense.py:87: UserWarning: Do not pass an `input_shape`/`input_dim` argument to a layer. When using Sequential models, prefer using an `Input(shape)` object as the first layer in the model instead.\n",
      "  super().__init__(activity_regularizer=activity_regularizer, **kwargs)\n",
      "[I 2025-08-17 11:35:30,667] Trial 16 pruned. Trial was pruned at epoch 1.\n",
      "C:\\Users\\ulami\\anaconda3\\envs\\tf_env\\lib\\site-packages\\keras\\src\\layers\\core\\dense.py:87: UserWarning: Do not pass an `input_shape`/`input_dim` argument to a layer. When using Sequential models, prefer using an `Input(shape)` object as the first layer in the model instead.\n",
      "  super().__init__(activity_regularizer=activity_regularizer, **kwargs)\n",
      "[I 2025-08-17 11:38:38,787] Trial 17 pruned. Trial was pruned at epoch 7.\n",
      "C:\\Users\\ulami\\anaconda3\\envs\\tf_env\\lib\\site-packages\\keras\\src\\layers\\core\\dense.py:87: UserWarning: Do not pass an `input_shape`/`input_dim` argument to a layer. When using Sequential models, prefer using an `Input(shape)` object as the first layer in the model instead.\n",
      "  super().__init__(activity_regularizer=activity_regularizer, **kwargs)\n",
      "[I 2025-08-17 11:39:02,485] Trial 18 pruned. Trial was pruned at epoch 0.\n",
      "C:\\Users\\ulami\\anaconda3\\envs\\tf_env\\lib\\site-packages\\keras\\src\\layers\\core\\dense.py:87: UserWarning: Do not pass an `input_shape`/`input_dim` argument to a layer. When using Sequential models, prefer using an `Input(shape)` object as the first layer in the model instead.\n",
      "  super().__init__(activity_regularizer=activity_regularizer, **kwargs)\n",
      "[I 2025-08-17 11:39:28,412] Trial 19 pruned. Trial was pruned at epoch 0.\n",
      "C:\\Users\\ulami\\anaconda3\\envs\\tf_env\\lib\\site-packages\\keras\\src\\layers\\core\\dense.py:87: UserWarning: Do not pass an `input_shape`/`input_dim` argument to a layer. When using Sequential models, prefer using an `Input(shape)` object as the first layer in the model instead.\n",
      "  super().__init__(activity_regularizer=activity_regularizer, **kwargs)\n"
     ]
    },
    {
     "name": "stdout",
     "output_type": "stream",
     "text": [
      "\u001b[1m9060/9060\u001b[0m \u001b[32m━━━━━━━━━━━━━━━━━━━━\u001b[0m\u001b[37m\u001b[0m \u001b[1m5s\u001b[0m 520us/step\n"
     ]
    },
    {
     "name": "stderr",
     "output_type": "stream",
     "text": [
      "C:\\Users\\ulami\\anaconda3\\envs\\tf_env\\lib\\site-packages\\optuna\\trial\\_trial.py:497: UserWarning: The reported value is ignored because this `step` 1 is already reported.\n",
      "  warnings.warn(\n",
      "C:\\Users\\ulami\\anaconda3\\envs\\tf_env\\lib\\site-packages\\keras\\src\\layers\\core\\dense.py:87: UserWarning: Do not pass an `input_shape`/`input_dim` argument to a layer. When using Sequential models, prefer using an `Input(shape)` object as the first layer in the model instead.\n",
      "  super().__init__(activity_regularizer=activity_regularizer, **kwargs)\n",
      "C:\\Users\\ulami\\anaconda3\\envs\\tf_env\\lib\\site-packages\\optuna\\trial\\_trial.py:497: UserWarning: The reported value is ignored because this `step` 0 is already reported.\n",
      "  warnings.warn(\n",
      "C:\\Users\\ulami\\anaconda3\\envs\\tf_env\\lib\\site-packages\\optuna\\trial\\_trial.py:497: UserWarning: The reported value is ignored because this `step` 1 is already reported.\n",
      "  warnings.warn(\n",
      "C:\\Users\\ulami\\anaconda3\\envs\\tf_env\\lib\\site-packages\\optuna\\trial\\_trial.py:497: UserWarning: The reported value is ignored because this `step` 2 is already reported.\n",
      "  warnings.warn(\n",
      "C:\\Users\\ulami\\anaconda3\\envs\\tf_env\\lib\\site-packages\\optuna\\trial\\_trial.py:497: UserWarning: The reported value is ignored because this `step` 3 is already reported.\n",
      "  warnings.warn(\n"
     ]
    },
    {
     "name": "stdout",
     "output_type": "stream",
     "text": [
      "\u001b[1m 181/9060\u001b[0m \u001b[37m━━━━━━━━━━━━━━━━━━━━\u001b[0m \u001b[1m5s\u001b[0m 584us/step "
     ]
    },
    {
     "name": "stderr",
     "output_type": "stream",
     "text": [
      "C:\\Users\\ulami\\anaconda3\\envs\\tf_env\\lib\\site-packages\\optuna\\trial\\_trial.py:497: UserWarning: The reported value is ignored because this `step` 4 is already reported.\n",
      "  warnings.warn(\n"
     ]
    },
    {
     "name": "stdout",
     "output_type": "stream",
     "text": [
      "\u001b[1m9060/9060\u001b[0m \u001b[32m━━━━━━━━━━━━━━━━━━━━\u001b[0m\u001b[37m\u001b[0m \u001b[1m5s\u001b[0m 535us/step\n"
     ]
    },
    {
     "name": "stderr",
     "output_type": "stream",
     "text": [
      "C:\\Users\\ulami\\anaconda3\\envs\\tf_env\\lib\\site-packages\\optuna\\trial\\_trial.py:497: UserWarning: The reported value is ignored because this `step` 2 is already reported.\n",
      "  warnings.warn(\n",
      "C:\\Users\\ulami\\anaconda3\\envs\\tf_env\\lib\\site-packages\\keras\\src\\layers\\core\\dense.py:87: UserWarning: Do not pass an `input_shape`/`input_dim` argument to a layer. When using Sequential models, prefer using an `Input(shape)` object as the first layer in the model instead.\n",
      "  super().__init__(activity_regularizer=activity_regularizer, **kwargs)\n",
      "C:\\Users\\ulami\\anaconda3\\envs\\tf_env\\lib\\site-packages\\optuna\\trial\\_trial.py:497: UserWarning: The reported value is ignored because this `step` 0 is already reported.\n",
      "  warnings.warn(\n",
      "C:\\Users\\ulami\\anaconda3\\envs\\tf_env\\lib\\site-packages\\optuna\\trial\\_trial.py:497: UserWarning: The reported value is ignored because this `step` 1 is already reported.\n",
      "  warnings.warn(\n",
      "C:\\Users\\ulami\\anaconda3\\envs\\tf_env\\lib\\site-packages\\optuna\\trial\\_trial.py:497: UserWarning: The reported value is ignored because this `step` 2 is already reported.\n",
      "  warnings.warn(\n",
      "C:\\Users\\ulami\\anaconda3\\envs\\tf_env\\lib\\site-packages\\optuna\\trial\\_trial.py:497: UserWarning: The reported value is ignored because this `step` 3 is already reported.\n",
      "  warnings.warn(\n"
     ]
    },
    {
     "name": "stdout",
     "output_type": "stream",
     "text": [
      "\u001b[1m 192/9060\u001b[0m \u001b[37m━━━━━━━━━━━━━━━━━━━━\u001b[0m \u001b[1m4s\u001b[0m 533us/step "
     ]
    },
    {
     "name": "stderr",
     "output_type": "stream",
     "text": [
      "C:\\Users\\ulami\\anaconda3\\envs\\tf_env\\lib\\site-packages\\optuna\\trial\\_trial.py:497: UserWarning: The reported value is ignored because this `step` 4 is already reported.\n",
      "  warnings.warn(\n"
     ]
    },
    {
     "name": "stdout",
     "output_type": "stream",
     "text": [
      "\u001b[1m9060/9060\u001b[0m \u001b[32m━━━━━━━━━━━━━━━━━━━━\u001b[0m\u001b[37m\u001b[0m \u001b[1m5s\u001b[0m 495us/step\n"
     ]
    },
    {
     "name": "stderr",
     "output_type": "stream",
     "text": [
      "C:\\Users\\ulami\\anaconda3\\envs\\tf_env\\lib\\site-packages\\optuna\\trial\\_trial.py:497: UserWarning: The reported value is ignored because this `step` 3 is already reported.\n",
      "  warnings.warn(\n",
      "[I 2025-08-17 11:45:30,412] Trial 20 finished with value: 0.9634126513984466 and parameters: {'epochs': 5, 'n_layers': 2, 'n_units_l0': 32, 'dropout_l0': 0.0, 'n_units_l1': 4, 'dropout_l1': 0.0}. Best is trial 15 with value: 0.9652311545107795.\n",
      "C:\\Users\\ulami\\anaconda3\\envs\\tf_env\\lib\\site-packages\\keras\\src\\layers\\core\\dense.py:87: UserWarning: Do not pass an `input_shape`/`input_dim` argument to a layer. When using Sequential models, prefer using an `Input(shape)` object as the first layer in the model instead.\n",
      "  super().__init__(activity_regularizer=activity_regularizer, **kwargs)\n"
     ]
    },
    {
     "name": "stdout",
     "output_type": "stream",
     "text": [
      "\u001b[1m9060/9060\u001b[0m \u001b[32m━━━━━━━━━━━━━━━━━━━━\u001b[0m\u001b[37m\u001b[0m \u001b[1m5s\u001b[0m 539us/step\n"
     ]
    },
    {
     "name": "stderr",
     "output_type": "stream",
     "text": [
      "C:\\Users\\ulami\\anaconda3\\envs\\tf_env\\lib\\site-packages\\optuna\\trial\\_trial.py:497: UserWarning: The reported value is ignored because this `step` 1 is already reported.\n",
      "  warnings.warn(\n",
      "C:\\Users\\ulami\\anaconda3\\envs\\tf_env\\lib\\site-packages\\keras\\src\\layers\\core\\dense.py:87: UserWarning: Do not pass an `input_shape`/`input_dim` argument to a layer. When using Sequential models, prefer using an `Input(shape)` object as the first layer in the model instead.\n",
      "  super().__init__(activity_regularizer=activity_regularizer, **kwargs)\n",
      "C:\\Users\\ulami\\anaconda3\\envs\\tf_env\\lib\\site-packages\\optuna\\trial\\_trial.py:497: UserWarning: The reported value is ignored because this `step` 0 is already reported.\n",
      "  warnings.warn(\n",
      "C:\\Users\\ulami\\anaconda3\\envs\\tf_env\\lib\\site-packages\\optuna\\trial\\_trial.py:497: UserWarning: The reported value is ignored because this `step` 1 is already reported.\n",
      "  warnings.warn(\n",
      "C:\\Users\\ulami\\anaconda3\\envs\\tf_env\\lib\\site-packages\\optuna\\trial\\_trial.py:497: UserWarning: The reported value is ignored because this `step` 2 is already reported.\n",
      "  warnings.warn(\n",
      "C:\\Users\\ulami\\anaconda3\\envs\\tf_env\\lib\\site-packages\\optuna\\trial\\_trial.py:497: UserWarning: The reported value is ignored because this `step` 3 is already reported.\n",
      "  warnings.warn(\n"
     ]
    },
    {
     "name": "stdout",
     "output_type": "stream",
     "text": [
      "\u001b[1m 207/9060\u001b[0m \u001b[37m━━━━━━━━━━━━━━━━━━━━\u001b[0m \u001b[1m4s\u001b[0m 495us/step "
     ]
    },
    {
     "name": "stderr",
     "output_type": "stream",
     "text": [
      "C:\\Users\\ulami\\anaconda3\\envs\\tf_env\\lib\\site-packages\\optuna\\trial\\_trial.py:497: UserWarning: The reported value is ignored because this `step` 4 is already reported.\n",
      "  warnings.warn(\n"
     ]
    },
    {
     "name": "stdout",
     "output_type": "stream",
     "text": [
      "\u001b[1m9060/9060\u001b[0m \u001b[32m━━━━━━━━━━━━━━━━━━━━\u001b[0m\u001b[37m\u001b[0m \u001b[1m5s\u001b[0m 501us/step\n"
     ]
    },
    {
     "name": "stderr",
     "output_type": "stream",
     "text": [
      "C:\\Users\\ulami\\anaconda3\\envs\\tf_env\\lib\\site-packages\\optuna\\trial\\_trial.py:497: UserWarning: The reported value is ignored because this `step` 2 is already reported.\n",
      "  warnings.warn(\n",
      "C:\\Users\\ulami\\anaconda3\\envs\\tf_env\\lib\\site-packages\\keras\\src\\layers\\core\\dense.py:87: UserWarning: Do not pass an `input_shape`/`input_dim` argument to a layer. When using Sequential models, prefer using an `Input(shape)` object as the first layer in the model instead.\n",
      "  super().__init__(activity_regularizer=activity_regularizer, **kwargs)\n",
      "C:\\Users\\ulami\\anaconda3\\envs\\tf_env\\lib\\site-packages\\optuna\\trial\\_trial.py:497: UserWarning: The reported value is ignored because this `step` 0 is already reported.\n",
      "  warnings.warn(\n",
      "C:\\Users\\ulami\\anaconda3\\envs\\tf_env\\lib\\site-packages\\optuna\\trial\\_trial.py:497: UserWarning: The reported value is ignored because this `step` 1 is already reported.\n",
      "  warnings.warn(\n",
      "C:\\Users\\ulami\\anaconda3\\envs\\tf_env\\lib\\site-packages\\optuna\\trial\\_trial.py:497: UserWarning: The reported value is ignored because this `step` 2 is already reported.\n",
      "  warnings.warn(\n",
      "C:\\Users\\ulami\\anaconda3\\envs\\tf_env\\lib\\site-packages\\optuna\\trial\\_trial.py:497: UserWarning: The reported value is ignored because this `step` 3 is already reported.\n",
      "  warnings.warn(\n"
     ]
    },
    {
     "name": "stdout",
     "output_type": "stream",
     "text": [
      "\u001b[1m 103/9060\u001b[0m \u001b[37m━━━━━━━━━━━━━━━━━━━━\u001b[0m \u001b[1m4s\u001b[0m 520us/step "
     ]
    },
    {
     "name": "stderr",
     "output_type": "stream",
     "text": [
      "C:\\Users\\ulami\\anaconda3\\envs\\tf_env\\lib\\site-packages\\optuna\\trial\\_trial.py:497: UserWarning: The reported value is ignored because this `step` 4 is already reported.\n",
      "  warnings.warn(\n"
     ]
    },
    {
     "name": "stdout",
     "output_type": "stream",
     "text": [
      "\u001b[1m9060/9060\u001b[0m \u001b[32m━━━━━━━━━━━━━━━━━━━━\u001b[0m\u001b[37m\u001b[0m \u001b[1m5s\u001b[0m 496us/step\n"
     ]
    },
    {
     "name": "stderr",
     "output_type": "stream",
     "text": [
      "C:\\Users\\ulami\\anaconda3\\envs\\tf_env\\lib\\site-packages\\optuna\\trial\\_trial.py:497: UserWarning: The reported value is ignored because this `step` 3 is already reported.\n",
      "  warnings.warn(\n",
      "[I 2025-08-17 11:51:27,169] Trial 21 finished with value: 0.9657460228108782 and parameters: {'epochs': 5, 'n_layers': 2, 'n_units_l0': 32, 'dropout_l0': 0.0, 'n_units_l1': 4, 'dropout_l1': 0.0}. Best is trial 21 with value: 0.9657460228108782.\n",
      "C:\\Users\\ulami\\anaconda3\\envs\\tf_env\\lib\\site-packages\\keras\\src\\layers\\core\\dense.py:87: UserWarning: Do not pass an `input_shape`/`input_dim` argument to a layer. When using Sequential models, prefer using an `Input(shape)` object as the first layer in the model instead.\n",
      "  super().__init__(activity_regularizer=activity_regularizer, **kwargs)\n",
      "[I 2025-08-17 11:51:50,662] Trial 22 pruned. Trial was pruned at epoch 0.\n",
      "C:\\Users\\ulami\\anaconda3\\envs\\tf_env\\lib\\site-packages\\keras\\src\\layers\\core\\dense.py:87: UserWarning: Do not pass an `input_shape`/`input_dim` argument to a layer. When using Sequential models, prefer using an `Input(shape)` object as the first layer in the model instead.\n",
      "  super().__init__(activity_regularizer=activity_regularizer, **kwargs)\n"
     ]
    },
    {
     "name": "stdout",
     "output_type": "stream",
     "text": [
      "\u001b[1m9060/9060\u001b[0m \u001b[32m━━━━━━━━━━━━━━━━━━━━\u001b[0m\u001b[37m\u001b[0m \u001b[1m5s\u001b[0m 560us/step\n"
     ]
    },
    {
     "name": "stderr",
     "output_type": "stream",
     "text": [
      "C:\\Users\\ulami\\anaconda3\\envs\\tf_env\\lib\\site-packages\\optuna\\trial\\_trial.py:497: UserWarning: The reported value is ignored because this `step` 1 is already reported.\n",
      "  warnings.warn(\n",
      "C:\\Users\\ulami\\anaconda3\\envs\\tf_env\\lib\\site-packages\\keras\\src\\layers\\core\\dense.py:87: UserWarning: Do not pass an `input_shape`/`input_dim` argument to a layer. When using Sequential models, prefer using an `Input(shape)` object as the first layer in the model instead.\n",
      "  super().__init__(activity_regularizer=activity_regularizer, **kwargs)\n",
      "C:\\Users\\ulami\\anaconda3\\envs\\tf_env\\lib\\site-packages\\optuna\\trial\\_trial.py:497: UserWarning: The reported value is ignored because this `step` 0 is already reported.\n",
      "  warnings.warn(\n",
      "C:\\Users\\ulami\\anaconda3\\envs\\tf_env\\lib\\site-packages\\optuna\\trial\\_trial.py:497: UserWarning: The reported value is ignored because this `step` 1 is already reported.\n",
      "  warnings.warn(\n",
      "C:\\Users\\ulami\\anaconda3\\envs\\tf_env\\lib\\site-packages\\optuna\\trial\\_trial.py:497: UserWarning: The reported value is ignored because this `step` 2 is already reported.\n",
      "  warnings.warn(\n"
     ]
    },
    {
     "name": "stdout",
     "output_type": "stream",
     "text": [
      "\u001b[1m 194/9060\u001b[0m \u001b[37m━━━━━━━━━━━━━━━━━━━━\u001b[0m \u001b[1m4s\u001b[0m 523us/step "
     ]
    },
    {
     "name": "stderr",
     "output_type": "stream",
     "text": [
      "C:\\Users\\ulami\\anaconda3\\envs\\tf_env\\lib\\site-packages\\optuna\\trial\\_trial.py:497: UserWarning: The reported value is ignored because this `step` 3 is already reported.\n",
      "  warnings.warn(\n"
     ]
    },
    {
     "name": "stdout",
     "output_type": "stream",
     "text": [
      "\u001b[1m9060/9060\u001b[0m \u001b[32m━━━━━━━━━━━━━━━━━━━━\u001b[0m\u001b[37m\u001b[0m \u001b[1m4s\u001b[0m 488us/step\n"
     ]
    },
    {
     "name": "stderr",
     "output_type": "stream",
     "text": [
      "C:\\Users\\ulami\\anaconda3\\envs\\tf_env\\lib\\site-packages\\optuna\\trial\\_trial.py:497: UserWarning: The reported value is ignored because this `step` 2 is already reported.\n",
      "  warnings.warn(\n",
      "C:\\Users\\ulami\\anaconda3\\envs\\tf_env\\lib\\site-packages\\keras\\src\\layers\\core\\dense.py:87: UserWarning: Do not pass an `input_shape`/`input_dim` argument to a layer. When using Sequential models, prefer using an `Input(shape)` object as the first layer in the model instead.\n",
      "  super().__init__(activity_regularizer=activity_regularizer, **kwargs)\n",
      "C:\\Users\\ulami\\anaconda3\\envs\\tf_env\\lib\\site-packages\\optuna\\trial\\_trial.py:497: UserWarning: The reported value is ignored because this `step` 0 is already reported.\n",
      "  warnings.warn(\n",
      "C:\\Users\\ulami\\anaconda3\\envs\\tf_env\\lib\\site-packages\\optuna\\trial\\_trial.py:497: UserWarning: The reported value is ignored because this `step` 1 is already reported.\n",
      "  warnings.warn(\n",
      "C:\\Users\\ulami\\anaconda3\\envs\\tf_env\\lib\\site-packages\\optuna\\trial\\_trial.py:497: UserWarning: The reported value is ignored because this `step` 2 is already reported.\n",
      "  warnings.warn(\n"
     ]
    },
    {
     "name": "stdout",
     "output_type": "stream",
     "text": [
      "\u001b[1m 219/9060\u001b[0m \u001b[37m━━━━━━━━━━━━━━━━━━━━\u001b[0m \u001b[1m4s\u001b[0m 523us/step "
     ]
    },
    {
     "name": "stderr",
     "output_type": "stream",
     "text": [
      "C:\\Users\\ulami\\anaconda3\\envs\\tf_env\\lib\\site-packages\\optuna\\trial\\_trial.py:497: UserWarning: The reported value is ignored because this `step` 3 is already reported.\n",
      "  warnings.warn(\n"
     ]
    },
    {
     "name": "stdout",
     "output_type": "stream",
     "text": [
      "\u001b[1m9060/9060\u001b[0m \u001b[32m━━━━━━━━━━━━━━━━━━━━\u001b[0m\u001b[37m\u001b[0m \u001b[1m5s\u001b[0m 538us/step\n"
     ]
    },
    {
     "name": "stderr",
     "output_type": "stream",
     "text": [
      "C:\\Users\\ulami\\anaconda3\\envs\\tf_env\\lib\\site-packages\\optuna\\trial\\_trial.py:497: UserWarning: The reported value is ignored because this `step` 3 is already reported.\n",
      "  warnings.warn(\n",
      "[I 2025-08-17 11:56:43,834] Trial 23 finished with value: 0.9641486876380464 and parameters: {'epochs': 4, 'n_layers': 2, 'n_units_l0': 32, 'dropout_l0': 0.0, 'n_units_l1': 4, 'dropout_l1': 0.0}. Best is trial 21 with value: 0.9657460228108782.\n",
      "C:\\Users\\ulami\\anaconda3\\envs\\tf_env\\lib\\site-packages\\keras\\src\\layers\\core\\dense.py:87: UserWarning: Do not pass an `input_shape`/`input_dim` argument to a layer. When using Sequential models, prefer using an `Input(shape)` object as the first layer in the model instead.\n",
      "  super().__init__(activity_regularizer=activity_regularizer, **kwargs)\n",
      "[I 2025-08-17 11:57:08,711] Trial 24 pruned. Trial was pruned at epoch 0.\n",
      "C:\\Users\\ulami\\anaconda3\\envs\\tf_env\\lib\\site-packages\\keras\\src\\layers\\core\\dense.py:87: UserWarning: Do not pass an `input_shape`/`input_dim` argument to a layer. When using Sequential models, prefer using an `Input(shape)` object as the first layer in the model instead.\n",
      "  super().__init__(activity_regularizer=activity_regularizer, **kwargs)\n",
      "[I 2025-08-17 11:57:35,166] Trial 25 pruned. Trial was pruned at epoch 0.\n",
      "C:\\Users\\ulami\\anaconda3\\envs\\tf_env\\lib\\site-packages\\keras\\src\\layers\\core\\dense.py:87: UserWarning: Do not pass an `input_shape`/`input_dim` argument to a layer. When using Sequential models, prefer using an `Input(shape)` object as the first layer in the model instead.\n",
      "  super().__init__(activity_regularizer=activity_regularizer, **kwargs)\n",
      "[I 2025-08-17 11:58:00,812] Trial 26 pruned. Trial was pruned at epoch 0.\n",
      "C:\\Users\\ulami\\anaconda3\\envs\\tf_env\\lib\\site-packages\\keras\\src\\layers\\core\\dense.py:87: UserWarning: Do not pass an `input_shape`/`input_dim` argument to a layer. When using Sequential models, prefer using an `Input(shape)` object as the first layer in the model instead.\n",
      "  super().__init__(activity_regularizer=activity_regularizer, **kwargs)\n",
      "[I 2025-08-17 12:00:19,254] Trial 27 pruned. Trial was pruned at epoch 5.\n",
      "C:\\Users\\ulami\\anaconda3\\envs\\tf_env\\lib\\site-packages\\keras\\src\\layers\\core\\dense.py:87: UserWarning: Do not pass an `input_shape`/`input_dim` argument to a layer. When using Sequential models, prefer using an `Input(shape)` object as the first layer in the model instead.\n",
      "  super().__init__(activity_regularizer=activity_regularizer, **kwargs)\n",
      "[I 2025-08-17 12:00:46,609] Trial 28 pruned. Trial was pruned at epoch 0.\n",
      "C:\\Users\\ulami\\anaconda3\\envs\\tf_env\\lib\\site-packages\\keras\\src\\layers\\core\\dense.py:87: UserWarning: Do not pass an `input_shape`/`input_dim` argument to a layer. When using Sequential models, prefer using an `Input(shape)` object as the first layer in the model instead.\n",
      "  super().__init__(activity_regularizer=activity_regularizer, **kwargs)\n",
      "[I 2025-08-17 12:01:13,354] Trial 29 pruned. Trial was pruned at epoch 0.\n",
      "C:\\Users\\ulami\\anaconda3\\envs\\tf_env\\lib\\site-packages\\keras\\src\\layers\\core\\dense.py:87: UserWarning: Do not pass an `input_shape`/`input_dim` argument to a layer. When using Sequential models, prefer using an `Input(shape)` object as the first layer in the model instead.\n",
      "  super().__init__(activity_regularizer=activity_regularizer, **kwargs)\n",
      "[I 2025-08-17 12:01:41,137] Trial 30 pruned. Trial was pruned at epoch 0.\n",
      "C:\\Users\\ulami\\anaconda3\\envs\\tf_env\\lib\\site-packages\\keras\\src\\layers\\core\\dense.py:87: UserWarning: Do not pass an `input_shape`/`input_dim` argument to a layer. When using Sequential models, prefer using an `Input(shape)` object as the first layer in the model instead.\n",
      "  super().__init__(activity_regularizer=activity_regularizer, **kwargs)\n",
      "[I 2025-08-17 12:02:04,814] Trial 31 pruned. Trial was pruned at epoch 0.\n",
      "C:\\Users\\ulami\\anaconda3\\envs\\tf_env\\lib\\site-packages\\keras\\src\\layers\\core\\dense.py:87: UserWarning: Do not pass an `input_shape`/`input_dim` argument to a layer. When using Sequential models, prefer using an `Input(shape)` object as the first layer in the model instead.\n",
      "  super().__init__(activity_regularizer=activity_regularizer, **kwargs)\n",
      "[I 2025-08-17 12:02:28,856] Trial 32 pruned. Trial was pruned at epoch 0.\n",
      "C:\\Users\\ulami\\anaconda3\\envs\\tf_env\\lib\\site-packages\\keras\\src\\layers\\core\\dense.py:87: UserWarning: Do not pass an `input_shape`/`input_dim` argument to a layer. When using Sequential models, prefer using an `Input(shape)` object as the first layer in the model instead.\n",
      "  super().__init__(activity_regularizer=activity_regularizer, **kwargs)\n",
      "[I 2025-08-17 12:02:51,609] Trial 33 pruned. Trial was pruned at epoch 0.\n",
      "C:\\Users\\ulami\\anaconda3\\envs\\tf_env\\lib\\site-packages\\keras\\src\\layers\\core\\dense.py:87: UserWarning: Do not pass an `input_shape`/`input_dim` argument to a layer. When using Sequential models, prefer using an `Input(shape)` object as the first layer in the model instead.\n",
      "  super().__init__(activity_regularizer=activity_regularizer, **kwargs)\n",
      "[I 2025-08-17 12:03:16,014] Trial 34 pruned. Trial was pruned at epoch 0.\n",
      "C:\\Users\\ulami\\anaconda3\\envs\\tf_env\\lib\\site-packages\\keras\\src\\layers\\core\\dense.py:87: UserWarning: Do not pass an `input_shape`/`input_dim` argument to a layer. When using Sequential models, prefer using an `Input(shape)` object as the first layer in the model instead.\n",
      "  super().__init__(activity_regularizer=activity_regularizer, **kwargs)\n",
      "[I 2025-08-17 12:03:39,835] Trial 35 pruned. Trial was pruned at epoch 0.\n",
      "C:\\Users\\ulami\\anaconda3\\envs\\tf_env\\lib\\site-packages\\keras\\src\\layers\\core\\dense.py:87: UserWarning: Do not pass an `input_shape`/`input_dim` argument to a layer. When using Sequential models, prefer using an `Input(shape)` object as the first layer in the model instead.\n",
      "  super().__init__(activity_regularizer=activity_regularizer, **kwargs)\n",
      "[I 2025-08-17 12:04:04,567] Trial 36 pruned. Trial was pruned at epoch 0.\n",
      "C:\\Users\\ulami\\anaconda3\\envs\\tf_env\\lib\\site-packages\\keras\\src\\layers\\core\\dense.py:87: UserWarning: Do not pass an `input_shape`/`input_dim` argument to a layer. When using Sequential models, prefer using an `Input(shape)` object as the first layer in the model instead.\n",
      "  super().__init__(activity_regularizer=activity_regularizer, **kwargs)\n"
     ]
    },
    {
     "name": "stdout",
     "output_type": "stream",
     "text": [
      "\u001b[1m9060/9060\u001b[0m \u001b[32m━━━━━━━━━━━━━━━━━━━━\u001b[0m\u001b[37m\u001b[0m \u001b[1m5s\u001b[0m 523us/step\n"
     ]
    },
    {
     "name": "stderr",
     "output_type": "stream",
     "text": [
      "C:\\Users\\ulami\\anaconda3\\envs\\tf_env\\lib\\site-packages\\optuna\\trial\\_trial.py:497: UserWarning: The reported value is ignored because this `step` 1 is already reported.\n",
      "  warnings.warn(\n",
      "C:\\Users\\ulami\\anaconda3\\envs\\tf_env\\lib\\site-packages\\keras\\src\\layers\\core\\dense.py:87: UserWarning: Do not pass an `input_shape`/`input_dim` argument to a layer. When using Sequential models, prefer using an `Input(shape)` object as the first layer in the model instead.\n",
      "  super().__init__(activity_regularizer=activity_regularizer, **kwargs)\n",
      "C:\\Users\\ulami\\anaconda3\\envs\\tf_env\\lib\\site-packages\\optuna\\trial\\_trial.py:497: UserWarning: The reported value is ignored because this `step` 0 is already reported.\n",
      "  warnings.warn(\n",
      "C:\\Users\\ulami\\anaconda3\\envs\\tf_env\\lib\\site-packages\\optuna\\trial\\_trial.py:497: UserWarning: The reported value is ignored because this `step` 1 is already reported.\n",
      "  warnings.warn(\n",
      "C:\\Users\\ulami\\anaconda3\\envs\\tf_env\\lib\\site-packages\\optuna\\trial\\_trial.py:497: UserWarning: The reported value is ignored because this `step` 2 is already reported.\n",
      "  warnings.warn(\n"
     ]
    },
    {
     "name": "stdout",
     "output_type": "stream",
     "text": [
      "\u001b[1m  91/9060\u001b[0m \u001b[37m━━━━━━━━━━━━━━━━━━━━\u001b[0m \u001b[1m5s\u001b[0m 560us/step "
     ]
    },
    {
     "name": "stderr",
     "output_type": "stream",
     "text": [
      "C:\\Users\\ulami\\anaconda3\\envs\\tf_env\\lib\\site-packages\\optuna\\trial\\_trial.py:497: UserWarning: The reported value is ignored because this `step` 3 is already reported.\n",
      "  warnings.warn(\n"
     ]
    },
    {
     "name": "stdout",
     "output_type": "stream",
     "text": [
      "\u001b[1m9060/9060\u001b[0m \u001b[32m━━━━━━━━━━━━━━━━━━━━\u001b[0m\u001b[37m\u001b[0m \u001b[1m5s\u001b[0m 566us/step\n"
     ]
    },
    {
     "name": "stderr",
     "output_type": "stream",
     "text": [
      "C:\\Users\\ulami\\anaconda3\\envs\\tf_env\\lib\\site-packages\\optuna\\trial\\_trial.py:497: UserWarning: The reported value is ignored because this `step` 2 is already reported.\n",
      "  warnings.warn(\n",
      "C:\\Users\\ulami\\anaconda3\\envs\\tf_env\\lib\\site-packages\\keras\\src\\layers\\core\\dense.py:87: UserWarning: Do not pass an `input_shape`/`input_dim` argument to a layer. When using Sequential models, prefer using an `Input(shape)` object as the first layer in the model instead.\n",
      "  super().__init__(activity_regularizer=activity_regularizer, **kwargs)\n",
      "C:\\Users\\ulami\\anaconda3\\envs\\tf_env\\lib\\site-packages\\optuna\\trial\\_trial.py:497: UserWarning: The reported value is ignored because this `step` 0 is already reported.\n",
      "  warnings.warn(\n",
      "C:\\Users\\ulami\\anaconda3\\envs\\tf_env\\lib\\site-packages\\optuna\\trial\\_trial.py:497: UserWarning: The reported value is ignored because this `step` 1 is already reported.\n",
      "  warnings.warn(\n",
      "C:\\Users\\ulami\\anaconda3\\envs\\tf_env\\lib\\site-packages\\optuna\\trial\\_trial.py:497: UserWarning: The reported value is ignored because this `step` 2 is already reported.\n",
      "  warnings.warn(\n"
     ]
    },
    {
     "name": "stdout",
     "output_type": "stream",
     "text": [
      "\u001b[1m 189/9060\u001b[0m \u001b[37m━━━━━━━━━━━━━━━━━━━━\u001b[0m \u001b[1m4s\u001b[0m 552us/step "
     ]
    },
    {
     "name": "stderr",
     "output_type": "stream",
     "text": [
      "C:\\Users\\ulami\\anaconda3\\envs\\tf_env\\lib\\site-packages\\optuna\\trial\\_trial.py:497: UserWarning: The reported value is ignored because this `step` 3 is already reported.\n",
      "  warnings.warn(\n"
     ]
    },
    {
     "name": "stdout",
     "output_type": "stream",
     "text": [
      "\u001b[1m9060/9060\u001b[0m \u001b[32m━━━━━━━━━━━━━━━━━━━━\u001b[0m\u001b[37m\u001b[0m \u001b[1m6s\u001b[0m 615us/step\n"
     ]
    },
    {
     "name": "stderr",
     "output_type": "stream",
     "text": [
      "C:\\Users\\ulami\\anaconda3\\envs\\tf_env\\lib\\site-packages\\optuna\\trial\\_trial.py:497: UserWarning: The reported value is ignored because this `step` 3 is already reported.\n",
      "  warnings.warn(\n",
      "[I 2025-08-17 12:09:25,103] Trial 37 finished with value: 0.9625683458509086 and parameters: {'epochs': 4, 'n_layers': 4, 'n_units_l0': 32, 'dropout_l0': 0.0, 'n_units_l1': 32, 'dropout_l1': 0.0, 'n_units_l2': 4, 'dropout_l2': 0.1, 'n_units_l3': 64, 'dropout_l3': 0.0}. Best is trial 21 with value: 0.9657460228108782.\n",
      "C:\\Users\\ulami\\anaconda3\\envs\\tf_env\\lib\\site-packages\\keras\\src\\layers\\core\\dense.py:87: UserWarning: Do not pass an `input_shape`/`input_dim` argument to a layer. When using Sequential models, prefer using an `Input(shape)` object as the first layer in the model instead.\n",
      "  super().__init__(activity_regularizer=activity_regularizer, **kwargs)\n"
     ]
    },
    {
     "name": "stdout",
     "output_type": "stream",
     "text": [
      "\u001b[1m9060/9060\u001b[0m \u001b[32m━━━━━━━━━━━━━━━━━━━━\u001b[0m\u001b[37m\u001b[0m \u001b[1m5s\u001b[0m 547us/step\n"
     ]
    },
    {
     "name": "stderr",
     "output_type": "stream",
     "text": [
      "C:\\Users\\ulami\\anaconda3\\envs\\tf_env\\lib\\site-packages\\optuna\\trial\\_trial.py:497: UserWarning: The reported value is ignored because this `step` 1 is already reported.\n",
      "  warnings.warn(\n",
      "C:\\Users\\ulami\\anaconda3\\envs\\tf_env\\lib\\site-packages\\keras\\src\\layers\\core\\dense.py:87: UserWarning: Do not pass an `input_shape`/`input_dim` argument to a layer. When using Sequential models, prefer using an `Input(shape)` object as the first layer in the model instead.\n",
      "  super().__init__(activity_regularizer=activity_regularizer, **kwargs)\n",
      "C:\\Users\\ulami\\anaconda3\\envs\\tf_env\\lib\\site-packages\\optuna\\trial\\_trial.py:497: UserWarning: The reported value is ignored because this `step` 0 is already reported.\n",
      "  warnings.warn(\n",
      "C:\\Users\\ulami\\anaconda3\\envs\\tf_env\\lib\\site-packages\\optuna\\trial\\_trial.py:497: UserWarning: The reported value is ignored because this `step` 1 is already reported.\n",
      "  warnings.warn(\n",
      "C:\\Users\\ulami\\anaconda3\\envs\\tf_env\\lib\\site-packages\\optuna\\trial\\_trial.py:497: UserWarning: The reported value is ignored because this `step` 2 is already reported.\n",
      "  warnings.warn(\n",
      "C:\\Users\\ulami\\anaconda3\\envs\\tf_env\\lib\\site-packages\\optuna\\trial\\_trial.py:497: UserWarning: The reported value is ignored because this `step` 3 is already reported.\n",
      "  warnings.warn(\n",
      "C:\\Users\\ulami\\anaconda3\\envs\\tf_env\\lib\\site-packages\\optuna\\trial\\_trial.py:497: UserWarning: The reported value is ignored because this `step` 4 is already reported.\n",
      "  warnings.warn(\n"
     ]
    },
    {
     "name": "stdout",
     "output_type": "stream",
     "text": [
      "\u001b[1m9060/9060\u001b[0m \u001b[32m━━━━━━━━━━━━━━━━━━━━\u001b[0m\u001b[37m\u001b[0m \u001b[1m5s\u001b[0m 530us/step\n"
     ]
    },
    {
     "name": "stderr",
     "output_type": "stream",
     "text": [
      "C:\\Users\\ulami\\anaconda3\\envs\\tf_env\\lib\\site-packages\\optuna\\trial\\_trial.py:497: UserWarning: The reported value is ignored because this `step` 2 is already reported.\n",
      "  warnings.warn(\n",
      "C:\\Users\\ulami\\anaconda3\\envs\\tf_env\\lib\\site-packages\\keras\\src\\layers\\core\\dense.py:87: UserWarning: Do not pass an `input_shape`/`input_dim` argument to a layer. When using Sequential models, prefer using an `Input(shape)` object as the first layer in the model instead.\n",
      "  super().__init__(activity_regularizer=activity_regularizer, **kwargs)\n",
      "C:\\Users\\ulami\\anaconda3\\envs\\tf_env\\lib\\site-packages\\optuna\\trial\\_trial.py:497: UserWarning: The reported value is ignored because this `step` 0 is already reported.\n",
      "  warnings.warn(\n",
      "C:\\Users\\ulami\\anaconda3\\envs\\tf_env\\lib\\site-packages\\optuna\\trial\\_trial.py:497: UserWarning: The reported value is ignored because this `step` 1 is already reported.\n",
      "  warnings.warn(\n",
      "C:\\Users\\ulami\\anaconda3\\envs\\tf_env\\lib\\site-packages\\optuna\\trial\\_trial.py:497: UserWarning: The reported value is ignored because this `step` 2 is already reported.\n",
      "  warnings.warn(\n",
      "C:\\Users\\ulami\\anaconda3\\envs\\tf_env\\lib\\site-packages\\optuna\\trial\\_trial.py:497: UserWarning: The reported value is ignored because this `step` 3 is already reported.\n",
      "  warnings.warn(\n",
      "C:\\Users\\ulami\\anaconda3\\envs\\tf_env\\lib\\site-packages\\optuna\\trial\\_trial.py:497: UserWarning: The reported value is ignored because this `step` 4 is already reported.\n",
      "  warnings.warn(\n"
     ]
    },
    {
     "name": "stdout",
     "output_type": "stream",
     "text": [
      "\u001b[1m 192/9060\u001b[0m \u001b[37m━━━━━━━━━━━━━━━━━━━━\u001b[0m \u001b[1m4s\u001b[0m 535us/step "
     ]
    },
    {
     "name": "stderr",
     "output_type": "stream",
     "text": [
      "C:\\Users\\ulami\\anaconda3\\envs\\tf_env\\lib\\site-packages\\optuna\\trial\\_trial.py:497: UserWarning: The reported value is ignored because this `step` 5 is already reported.\n",
      "  warnings.warn(\n"
     ]
    },
    {
     "name": "stdout",
     "output_type": "stream",
     "text": [
      "\u001b[1m9060/9060\u001b[0m \u001b[32m━━━━━━━━━━━━━━━━━━━━\u001b[0m\u001b[37m\u001b[0m \u001b[1m5s\u001b[0m 539us/step\n"
     ]
    },
    {
     "name": "stderr",
     "output_type": "stream",
     "text": [
      "C:\\Users\\ulami\\anaconda3\\envs\\tf_env\\lib\\site-packages\\optuna\\trial\\_trial.py:497: UserWarning: The reported value is ignored because this `step` 3 is already reported.\n",
      "  warnings.warn(\n",
      "[I 2025-08-17 12:16:23,104] Trial 38 finished with value: 0.9641397927581439 and parameters: {'epochs': 6, 'n_layers': 2, 'n_units_l0': 64, 'dropout_l0': 0.1, 'n_units_l1': 8, 'dropout_l1': 0.0}. Best is trial 21 with value: 0.9657460228108782.\n",
      "C:\\Users\\ulami\\anaconda3\\envs\\tf_env\\lib\\site-packages\\keras\\src\\layers\\core\\dense.py:87: UserWarning: Do not pass an `input_shape`/`input_dim` argument to a layer. When using Sequential models, prefer using an `Input(shape)` object as the first layer in the model instead.\n",
      "  super().__init__(activity_regularizer=activity_regularizer, **kwargs)\n",
      "[I 2025-08-17 12:16:49,765] Trial 39 pruned. Trial was pruned at epoch 0.\n",
      "C:\\Users\\ulami\\anaconda3\\envs\\tf_env\\lib\\site-packages\\keras\\src\\layers\\core\\dense.py:87: UserWarning: Do not pass an `input_shape`/`input_dim` argument to a layer. When using Sequential models, prefer using an `Input(shape)` object as the first layer in the model instead.\n",
      "  super().__init__(activity_regularizer=activity_regularizer, **kwargs)\n",
      "[I 2025-08-17 12:17:14,901] Trial 40 pruned. Trial was pruned at epoch 0.\n",
      "C:\\Users\\ulami\\anaconda3\\envs\\tf_env\\lib\\site-packages\\keras\\src\\layers\\core\\dense.py:87: UserWarning: Do not pass an `input_shape`/`input_dim` argument to a layer. When using Sequential models, prefer using an `Input(shape)` object as the first layer in the model instead.\n",
      "  super().__init__(activity_regularizer=activity_regularizer, **kwargs)\n",
      "[I 2025-08-17 12:17:39,385] Trial 41 pruned. Trial was pruned at epoch 0.\n",
      "C:\\Users\\ulami\\anaconda3\\envs\\tf_env\\lib\\site-packages\\keras\\src\\layers\\core\\dense.py:87: UserWarning: Do not pass an `input_shape`/`input_dim` argument to a layer. When using Sequential models, prefer using an `Input(shape)` object as the first layer in the model instead.\n",
      "  super().__init__(activity_regularizer=activity_regularizer, **kwargs)\n",
      "[I 2025-08-17 12:18:51,536] Trial 42 pruned. Trial was pruned at epoch 2.\n",
      "C:\\Users\\ulami\\anaconda3\\envs\\tf_env\\lib\\site-packages\\keras\\src\\layers\\core\\dense.py:87: UserWarning: Do not pass an `input_shape`/`input_dim` argument to a layer. When using Sequential models, prefer using an `Input(shape)` object as the first layer in the model instead.\n",
      "  super().__init__(activity_regularizer=activity_regularizer, **kwargs)\n",
      "[I 2025-08-17 12:19:16,500] Trial 43 pruned. Trial was pruned at epoch 0.\n",
      "C:\\Users\\ulami\\anaconda3\\envs\\tf_env\\lib\\site-packages\\keras\\src\\layers\\core\\dense.py:87: UserWarning: Do not pass an `input_shape`/`input_dim` argument to a layer. When using Sequential models, prefer using an `Input(shape)` object as the first layer in the model instead.\n",
      "  super().__init__(activity_regularizer=activity_regularizer, **kwargs)\n",
      "[I 2025-08-17 12:19:40,582] Trial 44 pruned. Trial was pruned at epoch 0.\n",
      "C:\\Users\\ulami\\anaconda3\\envs\\tf_env\\lib\\site-packages\\keras\\src\\layers\\core\\dense.py:87: UserWarning: Do not pass an `input_shape`/`input_dim` argument to a layer. When using Sequential models, prefer using an `Input(shape)` object as the first layer in the model instead.\n",
      "  super().__init__(activity_regularizer=activity_regularizer, **kwargs)\n",
      "[I 2025-08-17 12:20:04,545] Trial 45 pruned. Trial was pruned at epoch 0.\n",
      "C:\\Users\\ulami\\anaconda3\\envs\\tf_env\\lib\\site-packages\\keras\\src\\layers\\core\\dense.py:87: UserWarning: Do not pass an `input_shape`/`input_dim` argument to a layer. When using Sequential models, prefer using an `Input(shape)` object as the first layer in the model instead.\n",
      "  super().__init__(activity_regularizer=activity_regularizer, **kwargs)\n",
      "[I 2025-08-17 12:20:29,426] Trial 46 pruned. Trial was pruned at epoch 0.\n",
      "C:\\Users\\ulami\\anaconda3\\envs\\tf_env\\lib\\site-packages\\keras\\src\\layers\\core\\dense.py:87: UserWarning: Do not pass an `input_shape`/`input_dim` argument to a layer. When using Sequential models, prefer using an `Input(shape)` object as the first layer in the model instead.\n",
      "  super().__init__(activity_regularizer=activity_regularizer, **kwargs)\n"
     ]
    },
    {
     "name": "stdout",
     "output_type": "stream",
     "text": [
      "\u001b[1m9060/9060\u001b[0m \u001b[32m━━━━━━━━━━━━━━━━━━━━\u001b[0m\u001b[37m\u001b[0m \u001b[1m5s\u001b[0m 520us/step\n"
     ]
    },
    {
     "name": "stderr",
     "output_type": "stream",
     "text": [
      "C:\\Users\\ulami\\anaconda3\\envs\\tf_env\\lib\\site-packages\\optuna\\trial\\_trial.py:497: UserWarning: The reported value is ignored because this `step` 1 is already reported.\n",
      "  warnings.warn(\n",
      "C:\\Users\\ulami\\anaconda3\\envs\\tf_env\\lib\\site-packages\\keras\\src\\layers\\core\\dense.py:87: UserWarning: Do not pass an `input_shape`/`input_dim` argument to a layer. When using Sequential models, prefer using an `Input(shape)` object as the first layer in the model instead.\n",
      "  super().__init__(activity_regularizer=activity_regularizer, **kwargs)\n",
      "C:\\Users\\ulami\\anaconda3\\envs\\tf_env\\lib\\site-packages\\optuna\\trial\\_trial.py:497: UserWarning: The reported value is ignored because this `step` 0 is already reported.\n",
      "  warnings.warn(\n",
      "C:\\Users\\ulami\\anaconda3\\envs\\tf_env\\lib\\site-packages\\optuna\\trial\\_trial.py:497: UserWarning: The reported value is ignored because this `step` 1 is already reported.\n",
      "  warnings.warn(\n",
      "C:\\Users\\ulami\\anaconda3\\envs\\tf_env\\lib\\site-packages\\optuna\\trial\\_trial.py:497: UserWarning: The reported value is ignored because this `step` 2 is already reported.\n",
      "  warnings.warn(\n",
      "C:\\Users\\ulami\\anaconda3\\envs\\tf_env\\lib\\site-packages\\optuna\\trial\\_trial.py:497: UserWarning: The reported value is ignored because this `step` 3 is already reported.\n",
      "  warnings.warn(\n"
     ]
    },
    {
     "name": "stdout",
     "output_type": "stream",
     "text": [
      "\u001b[1m 190/9060\u001b[0m \u001b[37m━━━━━━━━━━━━━━━━━━━━\u001b[0m \u001b[1m4s\u001b[0m 540us/step "
     ]
    },
    {
     "name": "stderr",
     "output_type": "stream",
     "text": [
      "C:\\Users\\ulami\\anaconda3\\envs\\tf_env\\lib\\site-packages\\optuna\\trial\\_trial.py:497: UserWarning: The reported value is ignored because this `step` 4 is already reported.\n",
      "  warnings.warn(\n"
     ]
    },
    {
     "name": "stdout",
     "output_type": "stream",
     "text": [
      "\u001b[1m9060/9060\u001b[0m \u001b[32m━━━━━━━━━━━━━━━━━━━━\u001b[0m\u001b[37m\u001b[0m \u001b[1m5s\u001b[0m 521us/step\n"
     ]
    },
    {
     "name": "stderr",
     "output_type": "stream",
     "text": [
      "C:\\Users\\ulami\\anaconda3\\envs\\tf_env\\lib\\site-packages\\optuna\\trial\\_trial.py:497: UserWarning: The reported value is ignored because this `step` 2 is already reported.\n",
      "  warnings.warn(\n",
      "C:\\Users\\ulami\\anaconda3\\envs\\tf_env\\lib\\site-packages\\keras\\src\\layers\\core\\dense.py:87: UserWarning: Do not pass an `input_shape`/`input_dim` argument to a layer. When using Sequential models, prefer using an `Input(shape)` object as the first layer in the model instead.\n",
      "  super().__init__(activity_regularizer=activity_regularizer, **kwargs)\n",
      "C:\\Users\\ulami\\anaconda3\\envs\\tf_env\\lib\\site-packages\\optuna\\trial\\_trial.py:497: UserWarning: The reported value is ignored because this `step` 0 is already reported.\n",
      "  warnings.warn(\n",
      "C:\\Users\\ulami\\anaconda3\\envs\\tf_env\\lib\\site-packages\\optuna\\trial\\_trial.py:497: UserWarning: The reported value is ignored because this `step` 1 is already reported.\n",
      "  warnings.warn(\n",
      "C:\\Users\\ulami\\anaconda3\\envs\\tf_env\\lib\\site-packages\\optuna\\trial\\_trial.py:497: UserWarning: The reported value is ignored because this `step` 2 is already reported.\n",
      "  warnings.warn(\n",
      "C:\\Users\\ulami\\anaconda3\\envs\\tf_env\\lib\\site-packages\\optuna\\trial\\_trial.py:497: UserWarning: The reported value is ignored because this `step` 3 is already reported.\n",
      "  warnings.warn(\n"
     ]
    },
    {
     "name": "stdout",
     "output_type": "stream",
     "text": [
      "\u001b[1m 183/9060\u001b[0m \u001b[37m━━━━━━━━━━━━━━━━━━━━\u001b[0m \u001b[1m5s\u001b[0m 592us/step "
     ]
    },
    {
     "name": "stderr",
     "output_type": "stream",
     "text": [
      "C:\\Users\\ulami\\anaconda3\\envs\\tf_env\\lib\\site-packages\\optuna\\trial\\_trial.py:497: UserWarning: The reported value is ignored because this `step` 4 is already reported.\n",
      "  warnings.warn(\n"
     ]
    },
    {
     "name": "stdout",
     "output_type": "stream",
     "text": [
      "\u001b[1m9060/9060\u001b[0m \u001b[32m━━━━━━━━━━━━━━━━━━━━\u001b[0m\u001b[37m\u001b[0m \u001b[1m5s\u001b[0m 587us/step\n"
     ]
    },
    {
     "name": "stderr",
     "output_type": "stream",
     "text": [
      "C:\\Users\\ulami\\anaconda3\\envs\\tf_env\\lib\\site-packages\\optuna\\trial\\_trial.py:497: UserWarning: The reported value is ignored because this `step` 3 is already reported.\n",
      "  warnings.warn(\n",
      "[I 2025-08-17 12:27:10,573] Trial 47 finished with value: 0.9643271488533688 and parameters: {'epochs': 5, 'n_layers': 4, 'n_units_l0': 64, 'dropout_l0': 0.1, 'n_units_l1': 16, 'dropout_l1': 0.0, 'n_units_l2': 32, 'dropout_l2': 0.1, 'n_units_l3': 32, 'dropout_l3': 0.0}. Best is trial 21 with value: 0.9657460228108782.\n",
      "C:\\Users\\ulami\\anaconda3\\envs\\tf_env\\lib\\site-packages\\keras\\src\\layers\\core\\dense.py:87: UserWarning: Do not pass an `input_shape`/`input_dim` argument to a layer. When using Sequential models, prefer using an `Input(shape)` object as the first layer in the model instead.\n",
      "  super().__init__(activity_regularizer=activity_regularizer, **kwargs)\n",
      "[I 2025-08-17 12:28:25,709] Trial 48 pruned. Trial was pruned at epoch 2.\n",
      "C:\\Users\\ulami\\anaconda3\\envs\\tf_env\\lib\\site-packages\\keras\\src\\layers\\core\\dense.py:87: UserWarning: Do not pass an `input_shape`/`input_dim` argument to a layer. When using Sequential models, prefer using an `Input(shape)` object as the first layer in the model instead.\n",
      "  super().__init__(activity_regularizer=activity_regularizer, **kwargs)\n",
      "[I 2025-08-17 12:28:52,415] Trial 49 pruned. Trial was pruned at epoch 0.\n"
     ]
    },
    {
     "name": "stdout",
     "output_type": "stream",
     "text": [
      "Best params: {'epochs': 5, 'n_layers': 2, 'n_units_l0': 32, 'dropout_l0': 0.0, 'n_units_l1': 4, 'dropout_l1': 0.0}\n",
      "Best CV macro F1: 0.9657\n"
     ]
    }
   ],
   "source": [
    "import optuna\n",
    "from optuna.integration import TFKerasPruningCallback\n",
    "import numpy as np\n",
    "import pandas as pd\n",
    "\n",
    "from sklearn.model_selection import train_test_split, StratifiedKFold\n",
    "from sklearn.preprocessing import StandardScaler\n",
    "from sklearn.metrics import classification_report\n",
    "\n",
    "from tensorflow.keras.models import Sequential\n",
    "from tensorflow.keras.layers import Dense, Dropout\n",
    "from tensorflow.keras.optimizers import Adam\n",
    "from tensorflow.keras.callbacks import EarlyStopping\n",
    "\n",
    "X = data.drop(columns=['attack_cat', 'Label']).values\n",
    "y = data['Label'].values\n",
    "\n",
    "X_trainval, X_test, y_trainval, y_test = train_test_split(\n",
    "    X, y, test_size=0.2, stratify=y, random_state=1\n",
    ")\n",
    "\n",
    "# ---------------------------\n",
    "# Model factory\n",
    "# ---------------------------\n",
    "def create_model(trial, input_dim):\n",
    "    model = Sequential()\n",
    "    n_layers = trial.suggest_int(\"n_layers\", 2, 5)\n",
    "    for i in range(n_layers):\n",
    "        units = trial.suggest_categorical(f\"n_units_l{i}\", [4, 8, 16, 32, 64])\n",
    "        dropout_rate = trial.suggest_categorical(f\"dropout_l{i}\", [0.0, 0.1, 0.2])\n",
    "\n",
    "        if i == 0:\n",
    "            model.add(Dense(units, activation='relu', input_shape=(input_dim,)))\n",
    "        else:\n",
    "            model.add(Dense(units, activation='relu'))\n",
    "\n",
    "        if dropout_rate > 0:\n",
    "            model.add(Dropout(dropout_rate))\n",
    "\n",
    "    model.add(Dense(1, activation='sigmoid'))\n",
    "    model.compile(optimizer=Adam(learning_rate=0.001), loss='binary_crossentropy', metrics=['accuracy'])\n",
    "    return model\n",
    "\n",
    "# ---------------------------\n",
    "# 2) Optuna objective with Stratified K-Fold on trainval\n",
    "#    + collect out-of-fold predictions to build one CV report per trial\n",
    "# ---------------------------\n",
    "trial_reports = []\n",
    "\n",
    "def objective(trial):\n",
    "    n_epochs   = trial.suggest_int(\"epochs\", 3, 10)\n",
    "\n",
    "    skf = StratifiedKFold(n_splits=3, shuffle=True, random_state=1)\n",
    "\n",
    "    # Out-of-fold (OOF) predictions aligned to y_trainval\n",
    "    oof_pred = np.full(shape=y_trainval.shape[0], fill_value=np.nan, dtype=float)\n",
    "\n",
    "    fold_f1s = []\n",
    "    folds_meta = []\n",
    "    for fold_idx, (tr_idx, va_idx) in enumerate(skf.split(X_trainval, y_trainval), start=1):\n",
    "        X_tr, X_va = X_trainval[tr_idx], X_trainval[va_idx]\n",
    "        y_tr, y_va = y_trainval[tr_idx], y_trainval[va_idx]\n",
    "\n",
    "        scaler = StandardScaler()\n",
    "        X_tr = scaler.fit_transform(X_tr)\n",
    "        X_va = scaler.transform(X_va)\n",
    "\n",
    "        model = create_model(trial, input_dim=X_tr.shape[1])\n",
    "\n",
    "        early_stop = EarlyStopping(monitor='val_loss', patience=3, restore_best_weights=True, verbose=0)\n",
    "        pruning_cb = TFKerasPruningCallback(trial, \"val_accuracy\")\n",
    "\n",
    "        model.fit(\n",
    "            X_tr, y_tr,\n",
    "            validation_data=(X_va, y_va),\n",
    "            epochs=n_epochs,\n",
    "            batch_size=32,\n",
    "            verbose=0,\n",
    "            callbacks=[early_stop, pruning_cb]\n",
    "        )\n",
    "\n",
    "        va_prob = model.predict(X_va, verbose=1).ravel()\n",
    "        oof_pred[va_idx] = va_prob\n",
    "        va_pred = (va_prob > 0.5).astype(int)\n",
    "\n",
    "        rep = classification_report(y_va, va_pred, output_dict=True, zero_division=0)\n",
    "        f1_macro = rep['macro avg']['f1-score']\n",
    "        fold_f1s.append(f1_macro)\n",
    "        folds_meta.append({'fold': fold_idx, 'f1_macro': float(f1_macro)})\n",
    "\n",
    "        trial.report(np.mean(fold_f1s), step=fold_idx)\n",
    "        if trial.should_prune():\n",
    "            raise optuna.exceptions.TrialPruned()\n",
    "\n",
    "    # Build ONE report per trial from OOF predictions (same structure you used before)\n",
    "    assert not np.isnan(oof_pred).any(), \"OOF predictions not fully filled\"\n",
    "    oof_label = (oof_pred > 0.5).astype(int)\n",
    "    cv_report = classification_report(y_trainval, oof_label, output_dict=True, zero_division=0)\n",
    "\n",
    "    # Save exactly the fields your flattening code expects\n",
    "    trial_reports.append({\n",
    "        'trial_number': trial.number,\n",
    "        'params': trial.params,\n",
    "        'report': cv_report,   # has keys: 'accuracy', 'macro avg', '0', '1', ...\n",
    "        'folds': folds_meta,\n",
    "        'mean_f1_macro': float(np.mean(fold_f1s))\n",
    "    })\n",
    "\n",
    "    return float(np.mean(fold_f1s))\n",
    "\n",
    "study = optuna.create_study(direction=\"maximize\")\n",
    "study.optimize(objective, n_trials=50)\n",
    "\n",
    "print(\"Best params:\", study.best_trial.params)\n",
    "print(f\"Best CV macro F1: {study.best_value:.4f}\")\n"
   ]
  },
  {
   "cell_type": "code",
   "execution_count": 7,
   "id": "b0a45f41-2786-4f24-9824-9428df09f414",
   "metadata": {},
   "outputs": [
    {
     "name": "stdout",
     "output_type": "stream",
     "text": [
      "Zapisano raporty do: optuna_UNSW_NB15_classification_reports.csv\n"
     ]
    }
   ],
   "source": [
    "# Po zakończeniu study.optimize(...)\n",
    "\n",
    "# Przekształcenie do DataFrame: jeden wiersz = jeden trial\n",
    "flattened_reports = []\n",
    "for entry in trial_reports:\n",
    "    flat = {\n",
    "        'trial_number': entry['trial_number'],\n",
    "        **entry['params'],\n",
    "        'accuracy': entry['report']['accuracy'],\n",
    "        'macro_f1': entry['report']['macro avg']['f1-score'],\n",
    "        'macro_precision': entry['report']['macro avg']['precision'],\n",
    "        'macro_recall': entry['report']['macro avg']['recall'],\n",
    "        'class_0_f1': entry['report']['0']['f1-score'],\n",
    "        'class_1_f1': entry['report']['1']['f1-score']\n",
    "    }\n",
    "    flattened_reports.append(flat)\n",
    "\n",
    "df_reports = pd.DataFrame(flattened_reports)\n",
    "df_reports.to_csv('optuna_UNSW_NB15_classification_reports.csv', index=False)\n",
    "\n",
    "print(\"Zapisano raporty do: optuna_UNSW_NB15_classification_reports.csv\")\n"
   ]
  },
  {
   "cell_type": "code",
   "execution_count": 8,
   "id": "520a4a00-84f7-47a2-94d2-cf3605843d74",
   "metadata": {},
   "outputs": [
    {
     "name": "stdout",
     "output_type": "stream",
     "text": [
      "Epoch 1/5\n"
     ]
    },
    {
     "name": "stderr",
     "output_type": "stream",
     "text": [
      "C:\\Users\\ulami\\anaconda3\\envs\\tf_env\\lib\\site-packages\\keras\\src\\layers\\core\\dense.py:87: UserWarning: Do not pass an `input_shape`/`input_dim` argument to a layer. When using Sequential models, prefer using an `Input(shape)` object as the first layer in the model instead.\n",
      "  super().__init__(activity_regularizer=activity_regularizer, **kwargs)\n"
     ]
    },
    {
     "name": "stdout",
     "output_type": "stream",
     "text": [
      "\u001b[1m27180/27180\u001b[0m \u001b[32m━━━━━━━━━━━━━━━━━━━━\u001b[0m\u001b[37m\u001b[0m \u001b[1m23s\u001b[0m 831us/step - accuracy: 0.9888 - loss: 0.1440\n",
      "Epoch 2/5\n",
      "\u001b[1m27180/27180\u001b[0m \u001b[32m━━━━━━━━━━━━━━━━━━━━\u001b[0m\u001b[37m\u001b[0m \u001b[1m23s\u001b[0m 840us/step - accuracy: 0.9966 - loss: 0.0072\n",
      "Epoch 3/5\n",
      "\u001b[1m27180/27180\u001b[0m \u001b[32m━━━━━━━━━━━━━━━━━━━━\u001b[0m\u001b[37m\u001b[0m \u001b[1m24s\u001b[0m 864us/step - accuracy: 0.9970 - loss: 0.0061\n",
      "Epoch 4/5\n",
      "\u001b[1m27180/27180\u001b[0m \u001b[32m━━━━━━━━━━━━━━━━━━━━\u001b[0m\u001b[37m\u001b[0m \u001b[1m24s\u001b[0m 873us/step - accuracy: 0.9971 - loss: 0.0059\n",
      "Epoch 5/5\n",
      "\u001b[1m27180/27180\u001b[0m \u001b[32m━━━━━━━━━━━━━━━━━━━━\u001b[0m\u001b[37m\u001b[0m \u001b[1m24s\u001b[0m 885us/step - accuracy: 0.9971 - loss: 0.0058\n",
      "\u001b[1m6796/6796\u001b[0m \u001b[32m━━━━━━━━━━━━━━━━━━━━\u001b[0m\u001b[37m\u001b[0m \u001b[1m4s\u001b[0m 567us/step\n",
      "Final Test Set Report:\n",
      "              precision    recall  f1-score   support\n",
      "\n",
      "           0       1.00      1.00      1.00    212998\n",
      "           1       0.96      0.89      0.92      4443\n",
      "\n",
      "    accuracy                           1.00    217441\n",
      "   macro avg       0.98      0.94      0.96    217441\n",
      "weighted avg       1.00      1.00      1.00    217441\n",
      "\n"
     ]
    }
   ],
   "source": [
    "scaler_full = StandardScaler().fit(X_trainval)\n",
    "X_trainval_scaled = scaler_full.transform(X_trainval)\n",
    "X_test_scaled = scaler_full.transform(X_test)\n",
    "\n",
    "best_model = create_model(study.best_trial, input_dim=X_trainval_scaled.shape[1])\n",
    "best_model.fit(\n",
    "    X_trainval_scaled, y_trainval,\n",
    "    epochs=study.best_trial.params['epochs'],\n",
    "    batch_size=32,\n",
    "    verbose=1\n",
    ")\n",
    "\n",
    "y_test_pred = (best_model.predict(X_test_scaled, verbose=1).ravel() > 0.5).astype(int)\n",
    "final_report = classification_report(y_test, y_test_pred, zero_division=0)\n",
    "print(\"Final Test Set Report:\")\n",
    "print(final_report)"
   ]
  },
  {
   "cell_type": "code",
   "execution_count": 9,
   "id": "564b6fb1-1108-464b-972f-cad664cf9a64",
   "metadata": {},
   "outputs": [
    {
     "name": "stdout",
     "output_type": "stream",
     "text": [
      "Test Accuracy: 99.70%\n",
      "Test Precision: 99.69%\n",
      "Test Recall: 99.70%\n"
     ]
    }
   ],
   "source": [
    "from sklearn.metrics import accuracy_score, precision_score, recall_score\n",
    "\n",
    "# Calculate metrics\n",
    "accuracy = accuracy_score(y_test, y_test_pred)\n",
    "precision = precision_score(y_test, y_test_pred, average='weighted')\n",
    "recall = recall_score(y_test, y_test_pred, average='weighted')\n",
    "\n",
    "# Print results\n",
    "print(f\"Test Accuracy: {accuracy * 100:.2f}%\")\n",
    "print(f\"Test Precision: {precision * 100:.2f}%\")\n",
    "print(f\"Test Recall: {recall * 100:.2f}%\")\n"
   ]
  },
  {
   "cell_type": "code",
   "execution_count": 10,
   "id": "f66841e6-867a-475f-8252-72fbb0dab47e",
   "metadata": {},
   "outputs": [
    {
     "data": {
      "image/png": "[encoded data removed]",
      "text/plain": [
       "<Figure size 600x400 with 2 Axes>"
      ]
     },
     "metadata": {},
     "output_type": "display_data"
    },
    {
     "name": "stdout",
     "output_type": "stream",
     "text": [
      "                precision    recall  f1-score   support\n",
      "\n",
      "Normal Traffic       1.00      1.00      1.00    212998\n",
      "        Attack       0.96      0.89      0.92      4443\n",
      "\n",
      "      accuracy                           1.00    217441\n",
      "     macro avg       0.98      0.94      0.96    217441\n",
      "  weighted avg       1.00      1.00      1.00    217441\n",
      "\n"
     ]
    }
   ],
   "source": [
    "import matplotlib.pyplot as plt\n",
    "import seaborn as sns\n",
    "from sklearn.metrics import confusion_matrix, classification_report\n",
    "\n",
    "# Compute confusion matrix\n",
    "cm = confusion_matrix(y_test, y_test_pred)\n",
    "\n",
    "# Plot the confusion matrix\n",
    "plt.figure(figsize=(6, 4))\n",
    "sns.heatmap(cm, annot=True, fmt='d', cmap='Blues', xticklabels=['Normal Traffic (0)', 'Attack (1)'], yticklabels=['Normal Traffic (0)', 'Attack (1)'])\n",
    "plt.xlabel('Predicted')\n",
    "plt.ylabel('Actual')\n",
    "plt.title('Confusion Matrix')\n",
    "plt.show()\n",
    "\n",
    "# Print detailed classification report\n",
    "print(classification_report(y_test, y_test_pred, target_names=['Normal Traffic', 'Attack']))\n"
   ]
  },
  {
   "cell_type": "code",
   "execution_count": 11,
   "id": "270ab912-50a9-4bc3-b236-bbb8140594c6",
   "metadata": {},
   "outputs": [],
   "source": [
    "import optuna.visualization as vis"
   ]
  },
  {
   "cell_type": "code",
   "execution_count": 12,
   "id": "50070fdc-e41f-4b3f-9f2d-3ca6d22b163d",
   "metadata": {},
   "outputs": [
    {
     "data": {
      "application/vnd.plotly.v1+json": {
       "config": {
        "plotlyServerURL": "https://plot.ly"
       },
       "data": [
        {
         "mode": "markers",
         "name": "Objective Value",
         "type": "scatter",
         "x": [
          0,
          1,
          2,
          3,
          4,
          12,
          15,
          20,
          21,
          23,
          37,
          38,
          47
         ],
         "y": [
          0.959473924294968,
          0.9618881474778224,
          0.9623812406016051,
          0.9623824247443732,
          0.9620406127099826,
          0.9642865553379357,
          0.9652311545107795,
          0.9634126513984466,
          0.9657460228108782,
          0.9641486876380464,
          0.9625683458509086,
          0.9641397927581439,
          0.9643271488533688
         ]
        },
        {
         "mode": "lines",
         "name": "Best Value",
         "type": "scatter",
         "x": [
          0,
          1,
          2,
          3,
          4,
          5,
          6,
          7,
          8,
          9,
          10,
          11,
          12,
          13,
          14,
          15,
          16,
          17,
          18,
          19,
          20,
          21,
          22,
          23,
          24,
          25,
          26,
          27,
          28,
          29,
          30,
          31,
          32,
          33,
          34,
          35,
          36,
          37,
          38,
          39,
          40,
          41,
          42,
          43,
          44,
          45,
          46,
          47,
          48,
          49
         ],
         "y": [
          0.959473924294968,
          0.9618881474778224,
          0.9623812406016051,
          0.9623824247443732,
          0.9623824247443732,
          0.9623824247443732,
          0.9623824247443732,
          0.9623824247443732,
          0.9623824247443732,
          0.9623824247443732,
          0.9623824247443732,
          0.9623824247443732,
          0.9642865553379357,
          0.9642865553379357,
          0.9642865553379357,
          0.9652311545107795,
          0.9652311545107795,
          0.9652311545107795,
          0.9652311545107795,
          0.9652311545107795,
          0.9652311545107795,
          0.9657460228108782,
          0.9657460228108782,
          0.9657460228108782,
          0.9657460228108782,
          0.9657460228108782,
          0.9657460228108782,
          0.9657460228108782,
          0.9657460228108782,
          0.9657460228108782,
          0.9657460228108782,
          0.9657460228108782,
          0.9657460228108782,
          0.9657460228108782,
          0.9657460228108782,
          0.9657460228108782,
          0.9657460228108782,
          0.9657460228108782,
          0.9657460228108782,
          0.9657460228108782,
          0.9657460228108782,
          0.9657460228108782,
          0.9657460228108782,
          0.9657460228108782,
          0.9657460228108782,
          0.9657460228108782,
          0.9657460228108782,
          0.9657460228108782,
          0.9657460228108782,
          0.9657460228108782
         ]
        },
        {
         "marker": {
          "color": "#cccccc"
         },
         "mode": "markers",
         "name": "Infeasible Trial",
         "showlegend": false,
         "type": "scatter",
         "x": [],
         "y": []
        }
       ],
       "layout": {
        "template": {
         "data": {
          "bar": [
           {
            "error_x": {
             "color": "#2a3f5f"
            },
            "error_y": {
             "color": "#2a3f5f"
            },
            "marker": {
             "line": {
              "color": "#E5ECF6",
              "width": 0.5
             },
             "pattern": {
              "fillmode": "overlay",
              "size": 10,
              "solidity": 0.2
             }
            },
            "type": "bar"
           }
          ],
          "barpolar": [
           {
            "marker": {
             "line": {
              "color": "#E5ECF6",
              "width": 0.5
             },
             "pattern": {
              "fillmode": "overlay",
              "size": 10,
              "solidity": 0.2
             }
            },
            "type": "barpolar"
           }
          ],
          "carpet": [
           {
            "aaxis": {
             "endlinecolor": "#2a3f5f",
             "gridcolor": "white",
             "linecolor": "white",
             "minorgridcolor": "white",
             "startlinecolor": "#2a3f5f"
            },
            "baxis": {
             "endlinecolor": "#2a3f5f",
             "gridcolor": "white",
             "linecolor": "white",
             "minorgridcolor": "white",
             "startlinecolor": "#2a3f5f"
            },
            "type": "carpet"
           }
          ],
          "choropleth": [
           {
            "colorbar": {
             "outlinewidth": 0,
             "ticks": ""
            },
            "type": "choropleth"
           }
          ],
          "contour": [
           {
            "colorbar": {
             "outlinewidth": 0,
             "ticks": ""
            },
            "colorscale": [
             [
              0,
              "#0d0887"
             ],
             [
              0.1111111111111111,
              "#46039f"
             ],
             [
              0.2222222222222222,
              "#7201a8"
             ],
             [
              0.3333333333333333,
              "#9c179e"
             ],
             [
              0.4444444444444444,
              "#bd3786"
             ],
             [
              0.5555555555555556,
              "#d8576b"
             ],
             [
              0.6666666666666666,
              "#ed7953"
             ],
             [
              0.7777777777777778,
              "#fb9f3a"
             ],
             [
              0.8888888888888888,
              "#fdca26"
             ],
             [
              1,
              "#f0f921"
             ]
            ],
            "type": "contour"
           }
          ],
          "contourcarpet": [
           {
            "colorbar": {
             "outlinewidth": 0,
             "ticks": ""
            },
            "type": "contourcarpet"
           }
          ],
          "heatmap": [
           {
            "colorbar": {
             "outlinewidth": 0,
             "ticks": ""
            },
            "colorscale": [
             [
              0,
              "#0d0887"
             ],
             [
              0.1111111111111111,
              "#46039f"
             ],
             [
              0.2222222222222222,
              "#7201a8"
             ],
             [
              0.3333333333333333,
              "#9c179e"
             ],
             [
              0.4444444444444444,
              "#bd3786"
             ],
             [
              0.5555555555555556,
              "#d8576b"
             ],
             [
              0.6666666666666666,
              "#ed7953"
             ],
             [
              0.7777777777777778,
              "#fb9f3a"
             ],
             [
              0.8888888888888888,
              "#fdca26"
             ],
             [
              1,
              "#f0f921"
             ]
            ],
            "type": "heatmap"
           }
          ],
          "histogram": [
           {
            "marker": {
             "pattern": {
              "fillmode": "overlay",
              "size": 10,
              "solidity": 0.2
             }
            },
            "type": "histogram"
           }
          ],
          "histogram2d": [
           {
            "colorbar": {
             "outlinewidth": 0,
             "ticks": ""
            },
            "colorscale": [
             [
              0,
              "#0d0887"
             ],
             [
              0.1111111111111111,
              "#46039f"
             ],
             [
              0.2222222222222222,
              "#7201a8"
             ],
             [
              0.3333333333333333,
              "#9c179e"
             ],
             [
              0.4444444444444444,
              "#bd3786"
             ],
             [
              0.5555555555555556,
              "#d8576b"
             ],
             [
              0.6666666666666666,
              "#ed7953"
             ],
             [
              0.7777777777777778,
              "#fb9f3a"
             ],
             [
              0.8888888888888888,
              "#fdca26"
             ],
             [
              1,
              "#f0f921"
             ]
            ],
            "type": "histogram2d"
           }
          ],
          "histogram2dcontour": [
           {
            "colorbar": {
             "outlinewidth": 0,
             "ticks": ""
            },
            "colorscale": [
             [
              0,
              "#0d0887"
             ],
             [
              0.1111111111111111,
              "#46039f"
             ],
             [
              0.2222222222222222,
              "#7201a8"
             ],
             [
              0.3333333333333333,
              "#9c179e"
             ],
             [
              0.4444444444444444,
              "#bd3786"
             ],
             [
              0.5555555555555556,
              "#d8576b"
             ],
             [
              0.6666666666666666,
              "#ed7953"
             ],
             [
              0.7777777777777778,
              "#fb9f3a"
             ],
             [
              0.8888888888888888,
              "#fdca26"
             ],
             [
              1,
              "#f0f921"
             ]
            ],
            "type": "histogram2dcontour"
           }
          ],
          "mesh3d": [
           {
            "colorbar": {
             "outlinewidth": 0,
             "ticks": ""
            },
            "type": "mesh3d"
           }
          ],
          "parcoords": [
           {
            "line": {
             "colorbar": {
              "outlinewidth": 0,
              "ticks": ""
             }
            },
            "type": "parcoords"
           }
          ],
          "pie": [
           {
            "automargin": true,
            "type": "pie"
           }
          ],
          "scatter": [
           {
            "fillpattern": {
             "fillmode": "overlay",
             "size": 10,
             "solidity": 0.2
            },
            "type": "scatter"
           }
          ],
          "scatter3d": [
           {
            "line": {
             "colorbar": {
              "outlinewidth": 0,
              "ticks": ""
             }
            },
            "marker": {
             "colorbar": {
              "outlinewidth": 0,
              "ticks": ""
             }
            },
            "type": "scatter3d"
           }
          ],
          "scattercarpet": [
           {
            "marker": {
             "colorbar": {
              "outlinewidth": 0,
              "ticks": ""
             }
            },
            "type": "scattercarpet"
           }
          ],
          "scattergeo": [
           {
            "marker": {
             "colorbar": {
              "outlinewidth": 0,
              "ticks": ""
             }
            },
            "type": "scattergeo"
           }
          ],
          "scattergl": [
           {
            "marker": {
             "colorbar": {
              "outlinewidth": 0,
              "ticks": ""
             }
            },
            "type": "scattergl"
           }
          ],
          "scattermap": [
           {
            "marker": {
             "colorbar": {
              "outlinewidth": 0,
              "ticks": ""
             }
            },
            "type": "scattermap"
           }
          ],
          "scattermapbox": [
           {
            "marker": {
             "colorbar": {
              "outlinewidth": 0,
              "ticks": ""
             }
            },
            "type": "scattermapbox"
           }
          ],
          "scatterpolar": [
           {
            "marker": {
             "colorbar": {
              "outlinewidth": 0,
              "ticks": ""
             }
            },
            "type": "scatterpolar"
           }
          ],
          "scatterpolargl": [
           {
            "marker": {
             "colorbar": {
              "outlinewidth": 0,
              "ticks": ""
             }
            },
            "type": "scatterpolargl"
           }
          ],
          "scatterternary": [
           {
            "marker": {
             "colorbar": {
              "outlinewidth": 0,
              "ticks": ""
             }
            },
            "type": "scatterternary"
           }
          ],
          "surface": [
           {
            "colorbar": {
             "outlinewidth": 0,
             "ticks": ""
            },
            "colorscale": [
             [
              0,
              "#0d0887"
             ],
             [
              0.1111111111111111,
              "#46039f"
             ],
             [
              0.2222222222222222,
              "#7201a8"
             ],
             [
              0.3333333333333333,
              "#9c179e"
             ],
             [
              0.4444444444444444,
              "#bd3786"
             ],
             [
              0.5555555555555556,
              "#d8576b"
             ],
             [
              0.6666666666666666,
              "#ed7953"
             ],
             [
              0.7777777777777778,
              "#fb9f3a"
             ],
             [
              0.8888888888888888,
              "#fdca26"
             ],
             [
              1,
              "#f0f921"
             ]
            ],
            "type": "surface"
           }
          ],
          "table": [
           {
            "cells": {
             "fill": {
              "color": "#EBF0F8"
             },
             "line": {
              "color": "white"
             }
            },
            "header": {
             "fill": {
              "color": "#C8D4E3"
             },
             "line": {
              "color": "white"
             }
            },
            "type": "table"
           }
          ]
         },
         "layout": {
          "annotationdefaults": {
           "arrowcolor": "#2a3f5f",
           "arrowhead": 0,
           "arrowwidth": 1
          },
          "autotypenumbers": "strict",
          "coloraxis": {
           "colorbar": {
            "outlinewidth": 0,
            "ticks": ""
           }
          },
          "colorscale": {
           "diverging": [
            [
             0,
             "#8e0152"
            ],
            [
             0.1,
             "#c51b7d"
            ],
            [
             0.2,
             "#de77ae"
            ],
            [
             0.3,
             "#f1b6da"
            ],
            [
             0.4,
             "#fde0ef"
            ],
            [
             0.5,
             "#f7f7f7"
            ],
            [
             0.6,
             "#e6f5d0"
            ],
            [
             0.7,
             "#b8e186"
            ],
            [
             0.8,
             "#7fbc41"
            ],
            [
             0.9,
             "#4d9221"
            ],
            [
             1,
             "#276419"
            ]
           ],
           "sequential": [
            [
             0,
             "#0d0887"
            ],
            [
             0.1111111111111111,
             "#46039f"
            ],
            [
             0.2222222222222222,
             "#7201a8"
            ],
            [
             0.3333333333333333,
             "#9c179e"
            ],
            [
             0.4444444444444444,
             "#bd3786"
            ],
            [
             0.5555555555555556,
             "#d8576b"
            ],
            [
             0.6666666666666666,
             "#ed7953"
            ],
            [
             0.7777777777777778,
             "#fb9f3a"
            ],
            [
             0.8888888888888888,
             "#fdca26"
            ],
            [
             1,
             "#f0f921"
            ]
           ],
           "sequentialminus": [
            [
             0,
             "#0d0887"
            ],
            [
             0.1111111111111111,
             "#46039f"
            ],
            [
             0.2222222222222222,
             "#7201a8"
            ],
            [
             0.3333333333333333,
             "#9c179e"
            ],
            [
             0.4444444444444444,
             "#bd3786"
            ],
            [
             0.5555555555555556,
             "#d8576b"
            ],
            [
             0.6666666666666666,
             "#ed7953"
            ],
            [
             0.7777777777777778,
             "#fb9f3a"
            ],
            [
             0.8888888888888888,
             "#fdca26"
            ],
            [
             1,
             "#f0f921"
            ]
           ]
          },
          "colorway": [
           "#636efa",
           "#EF553B",
           "#00cc96",
           "#ab63fa",
           "#FFA15A",
           "#19d3f3",
           "#FF6692",
           "#B6E880",
           "#FF97FF",
           "#FECB52"
          ],
          "font": {
           "color": "#2a3f5f"
          },
          "geo": {
           "bgcolor": "white",
           "lakecolor": "white",
           "landcolor": "#E5ECF6",
           "showlakes": true,
           "showland": true,
           "subunitcolor": "white"
          },
          "hoverlabel": {
           "align": "left"
          },
          "hovermode": "closest",
          "mapbox": {
           "style": "light"
          },
          "paper_bgcolor": "white",
          "plot_bgcolor": "#E5ECF6",
          "polar": {
           "angularaxis": {
            "gridcolor": "white",
            "linecolor": "white",
            "ticks": ""
           },
           "bgcolor": "#E5ECF6",
           "radialaxis": {
            "gridcolor": "white",
            "linecolor": "white",
            "ticks": ""
           }
          },
          "scene": {
           "xaxis": {
            "backgroundcolor": "#E5ECF6",
            "gridcolor": "white",
            "gridwidth": 2,
            "linecolor": "white",
            "showbackground": true,
            "ticks": "",
            "zerolinecolor": "white"
           },
           "yaxis": {
            "backgroundcolor": "#E5ECF6",
            "gridcolor": "white",
            "gridwidth": 2,
            "linecolor": "white",
            "showbackground": true,
            "ticks": "",
            "zerolinecolor": "white"
           },
           "zaxis": {
            "backgroundcolor": "#E5ECF6",
            "gridcolor": "white",
            "gridwidth": 2,
            "linecolor": "white",
            "showbackground": true,
            "ticks": "",
            "zerolinecolor": "white"
           }
          },
          "shapedefaults": {
           "line": {
            "color": "#2a3f5f"
           }
          },
          "ternary": {
           "aaxis": {
            "gridcolor": "white",
            "linecolor": "white",
            "ticks": ""
           },
           "baxis": {
            "gridcolor": "white",
            "linecolor": "white",
            "ticks": ""
           },
           "bgcolor": "#E5ECF6",
           "caxis": {
            "gridcolor": "white",
            "linecolor": "white",
            "ticks": ""
           }
          },
          "title": {
           "x": 0.05
          },
          "xaxis": {
           "automargin": true,
           "gridcolor": "white",
           "linecolor": "white",
           "ticks": "",
           "title": {
            "standoff": 15
           },
           "zerolinecolor": "white",
           "zerolinewidth": 2
          },
          "yaxis": {
           "automargin": true,
           "gridcolor": "white",
           "linecolor": "white",
           "ticks": "",
           "title": {
            "standoff": 15
           },
           "zerolinecolor": "white",
           "zerolinewidth": 2
          }
         }
        },
        "title": {
         "text": "Optimization History Plot"
        },
        "xaxis": {
         "title": {
          "text": "Trial"
         }
        },
        "yaxis": {
         "title": {
          "text": "Objective Value"
         }
        }
       }
      },
      "image/png": "[encoded data removed]"
     },
     "metadata": {},
     "output_type": "display_data"
    }
   ],
   "source": [
    "fig1 = optuna.visualization.plot_optimization_history(study)\n",
    "fig1.show()"
   ]
  },
  {
   "cell_type": "code",
   "execution_count": 13,
   "id": "10f30eb6-584e-4c9a-b4af-7f2cecc1b829",
   "metadata": {},
   "outputs": [
    {
     "data": {
      "application/vnd.plotly.v1+json": {
       "config": {
        "plotlyServerURL": "https://plot.ly"
       },
       "data": [
        {
         "cliponaxis": false,
         "hovertemplate": [
          "dropout_l0 (CategoricalDistribution): 0.044576341670703144<extra></extra>",
          "epochs (IntDistribution): 0.05753408639525244<extra></extra>",
          "n_layers (IntDistribution): 0.1557953323843213<extra></extra>",
          "n_units_l1 (CategoricalDistribution): 0.16490627231500365<extra></extra>",
          "dropout_l1 (CategoricalDistribution): 0.2634466864100137<extra></extra>",
          "n_units_l0 (CategoricalDistribution): 0.3137412808247059<extra></extra>"
         ],
         "name": "Objective Value",
         "orientation": "h",
         "text": [
          "0.04",
          "0.06",
          "0.16",
          "0.16",
          "0.26",
          "0.31"
         ],
         "textposition": "outside",
         "type": "bar",
         "x": [
          0.044576341670703144,
          0.05753408639525244,
          0.1557953323843213,
          0.16490627231500365,
          0.2634466864100137,
          0.3137412808247059
         ],
         "y": [
          "dropout_l0",
          "epochs",
          "n_layers",
          "n_units_l1",
          "dropout_l1",
          "n_units_l0"
         ]
        }
       ],
       "layout": {
        "template": {
         "data": {
          "bar": [
           {
            "error_x": {
             "color": "#2a3f5f"
            },
            "error_y": {
             "color": "#2a3f5f"
            },
            "marker": {
             "line": {
              "color": "#E5ECF6",
              "width": 0.5
             },
             "pattern": {
              "fillmode": "overlay",
              "size": 10,
              "solidity": 0.2
             }
            },
            "type": "bar"
           }
          ],
          "barpolar": [
           {
            "marker": {
             "line": {
              "color": "#E5ECF6",
              "width": 0.5
             },
             "pattern": {
              "fillmode": "overlay",
              "size": 10,
              "solidity": 0.2
             }
            },
            "type": "barpolar"
           }
          ],
          "carpet": [
           {
            "aaxis": {
             "endlinecolor": "#2a3f5f",
             "gridcolor": "white",
             "linecolor": "white",
             "minorgridcolor": "white",
             "startlinecolor": "#2a3f5f"
            },
            "baxis": {
             "endlinecolor": "#2a3f5f",
             "gridcolor": "white",
             "linecolor": "white",
             "minorgridcolor": "white",
             "startlinecolor": "#2a3f5f"
            },
            "type": "carpet"
           }
          ],
          "choropleth": [
           {
            "colorbar": {
             "outlinewidth": 0,
             "ticks": ""
            },
            "type": "choropleth"
           }
          ],
          "contour": [
           {
            "colorbar": {
             "outlinewidth": 0,
             "ticks": ""
            },
            "colorscale": [
             [
              0,
              "#0d0887"
             ],
             [
              0.1111111111111111,
              "#46039f"
             ],
             [
              0.2222222222222222,
              "#7201a8"
             ],
             [
              0.3333333333333333,
              "#9c179e"
             ],
             [
              0.4444444444444444,
              "#bd3786"
             ],
             [
              0.5555555555555556,
              "#d8576b"
             ],
             [
              0.6666666666666666,
              "#ed7953"
             ],
             [
              0.7777777777777778,
              "#fb9f3a"
             ],
             [
              0.8888888888888888,
              "#fdca26"
             ],
             [
              1,
              "#f0f921"
             ]
            ],
            "type": "contour"
           }
          ],
          "contourcarpet": [
           {
            "colorbar": {
             "outlinewidth": 0,
             "ticks": ""
            },
            "type": "contourcarpet"
           }
          ],
          "heatmap": [
           {
            "colorbar": {
             "outlinewidth": 0,
             "ticks": ""
            },
            "colorscale": [
             [
              0,
              "#0d0887"
             ],
             [
              0.1111111111111111,
              "#46039f"
             ],
             [
              0.2222222222222222,
              "#7201a8"
             ],
             [
              0.3333333333333333,
              "#9c179e"
             ],
             [
              0.4444444444444444,
              "#bd3786"
             ],
             [
              0.5555555555555556,
              "#d8576b"
             ],
             [
              0.6666666666666666,
              "#ed7953"
             ],
             [
              0.7777777777777778,
              "#fb9f3a"
             ],
             [
              0.8888888888888888,
              "#fdca26"
             ],
             [
              1,
              "#f0f921"
             ]
            ],
            "type": "heatmap"
           }
          ],
          "histogram": [
           {
            "marker": {
             "pattern": {
              "fillmode": "overlay",
              "size": 10,
              "solidity": 0.2
             }
            },
            "type": "histogram"
           }
          ],
          "histogram2d": [
           {
            "colorbar": {
             "outlinewidth": 0,
             "ticks": ""
            },
            "colorscale": [
             [
              0,
              "#0d0887"
             ],
             [
              0.1111111111111111,
              "#46039f"
             ],
             [
              0.2222222222222222,
              "#7201a8"
             ],
             [
              0.3333333333333333,
              "#9c179e"
             ],
             [
              0.4444444444444444,
              "#bd3786"
             ],
             [
              0.5555555555555556,
              "#d8576b"
             ],
             [
              0.6666666666666666,
              "#ed7953"
             ],
             [
              0.7777777777777778,
              "#fb9f3a"
             ],
             [
              0.8888888888888888,
              "#fdca26"
             ],
             [
              1,
              "#f0f921"
             ]
            ],
            "type": "histogram2d"
           }
          ],
          "histogram2dcontour": [
           {
            "colorbar": {
             "outlinewidth": 0,
             "ticks": ""
            },
            "colorscale": [
             [
              0,
              "#0d0887"
             ],
             [
              0.1111111111111111,
              "#46039f"
             ],
             [
              0.2222222222222222,
              "#7201a8"
             ],
             [
              0.3333333333333333,
              "#9c179e"
             ],
             [
              0.4444444444444444,
              "#bd3786"
             ],
             [
              0.5555555555555556,
              "#d8576b"
             ],
             [
              0.6666666666666666,
              "#ed7953"
             ],
             [
              0.7777777777777778,
              "#fb9f3a"
             ],
             [
              0.8888888888888888,
              "#fdca26"
             ],
             [
              1,
              "#f0f921"
             ]
            ],
            "type": "histogram2dcontour"
           }
          ],
          "mesh3d": [
           {
            "colorbar": {
             "outlinewidth": 0,
             "ticks": ""
            },
            "type": "mesh3d"
           }
          ],
          "parcoords": [
           {
            "line": {
             "colorbar": {
              "outlinewidth": 0,
              "ticks": ""
             }
            },
            "type": "parcoords"
           }
          ],
          "pie": [
           {
            "automargin": true,
            "type": "pie"
           }
          ],
          "scatter": [
           {
            "fillpattern": {
             "fillmode": "overlay",
             "size": 10,
             "solidity": 0.2
            },
            "type": "scatter"
           }
          ],
          "scatter3d": [
           {
            "line": {
             "colorbar": {
              "outlinewidth": 0,
              "ticks": ""
             }
            },
            "marker": {
             "colorbar": {
              "outlinewidth": 0,
              "ticks": ""
             }
            },
            "type": "scatter3d"
           }
          ],
          "scattercarpet": [
           {
            "marker": {
             "colorbar": {
              "outlinewidth": 0,
              "ticks": ""
             }
            },
            "type": "scattercarpet"
           }
          ],
          "scattergeo": [
           {
            "marker": {
             "colorbar": {
              "outlinewidth": 0,
              "ticks": ""
             }
            },
            "type": "scattergeo"
           }
          ],
          "scattergl": [
           {
            "marker": {
             "colorbar": {
              "outlinewidth": 0,
              "ticks": ""
             }
            },
            "type": "scattergl"
           }
          ],
          "scattermap": [
           {
            "marker": {
             "colorbar": {
              "outlinewidth": 0,
              "ticks": ""
             }
            },
            "type": "scattermap"
           }
          ],
          "scattermapbox": [
           {
            "marker": {
             "colorbar": {
              "outlinewidth": 0,
              "ticks": ""
             }
            },
            "type": "scattermapbox"
           }
          ],
          "scatterpolar": [
           {
            "marker": {
             "colorbar": {
              "outlinewidth": 0,
              "ticks": ""
             }
            },
            "type": "scatterpolar"
           }
          ],
          "scatterpolargl": [
           {
            "marker": {
             "colorbar": {
              "outlinewidth": 0,
              "ticks": ""
             }
            },
            "type": "scatterpolargl"
           }
          ],
          "scatterternary": [
           {
            "marker": {
             "colorbar": {
              "outlinewidth": 0,
              "ticks": ""
             }
            },
            "type": "scatterternary"
           }
          ],
          "surface": [
           {
            "colorbar": {
             "outlinewidth": 0,
             "ticks": ""
            },
            "colorscale": [
             [
              0,
              "#0d0887"
             ],
             [
              0.1111111111111111,
              "#46039f"
             ],
             [
              0.2222222222222222,
              "#7201a8"
             ],
             [
              0.3333333333333333,
              "#9c179e"
             ],
             [
              0.4444444444444444,
              "#bd3786"
             ],
             [
              0.5555555555555556,
              "#d8576b"
             ],
             [
              0.6666666666666666,
              "#ed7953"
             ],
             [
              0.7777777777777778,
              "#fb9f3a"
             ],
             [
              0.8888888888888888,
              "#fdca26"
             ],
             [
              1,
              "#f0f921"
             ]
            ],
            "type": "surface"
           }
          ],
          "table": [
           {
            "cells": {
             "fill": {
              "color": "#EBF0F8"
             },
             "line": {
              "color": "white"
             }
            },
            "header": {
             "fill": {
              "color": "#C8D4E3"
             },
             "line": {
              "color": "white"
             }
            },
            "type": "table"
           }
          ]
         },
         "layout": {
          "annotationdefaults": {
           "arrowcolor": "#2a3f5f",
           "arrowhead": 0,
           "arrowwidth": 1
          },
          "autotypenumbers": "strict",
          "coloraxis": {
           "colorbar": {
            "outlinewidth": 0,
            "ticks": ""
           }
          },
          "colorscale": {
           "diverging": [
            [
             0,
             "#8e0152"
            ],
            [
             0.1,
             "#c51b7d"
            ],
            [
             0.2,
             "#de77ae"
            ],
            [
             0.3,
             "#f1b6da"
            ],
            [
             0.4,
             "#fde0ef"
            ],
            [
             0.5,
             "#f7f7f7"
            ],
            [
             0.6,
             "#e6f5d0"
            ],
            [
             0.7,
             "#b8e186"
            ],
            [
             0.8,
             "#7fbc41"
            ],
            [
             0.9,
             "#4d9221"
            ],
            [
             1,
             "#276419"
            ]
           ],
           "sequential": [
            [
             0,
             "#0d0887"
            ],
            [
             0.1111111111111111,
             "#46039f"
            ],
            [
             0.2222222222222222,
             "#7201a8"
            ],
            [
             0.3333333333333333,
             "#9c179e"
            ],
            [
             0.4444444444444444,
             "#bd3786"
            ],
            [
             0.5555555555555556,
             "#d8576b"
            ],
            [
             0.6666666666666666,
             "#ed7953"
            ],
            [
             0.7777777777777778,
             "#fb9f3a"
            ],
            [
             0.8888888888888888,
             "#fdca26"
            ],
            [
             1,
             "#f0f921"
            ]
           ],
           "sequentialminus": [
            [
             0,
             "#0d0887"
            ],
            [
             0.1111111111111111,
             "#46039f"
            ],
            [
             0.2222222222222222,
             "#7201a8"
            ],
            [
             0.3333333333333333,
             "#9c179e"
            ],
            [
             0.4444444444444444,
             "#bd3786"
            ],
            [
             0.5555555555555556,
             "#d8576b"
            ],
            [
             0.6666666666666666,
             "#ed7953"
            ],
            [
             0.7777777777777778,
             "#fb9f3a"
            ],
            [
             0.8888888888888888,
             "#fdca26"
            ],
            [
             1,
             "#f0f921"
            ]
           ]
          },
          "colorway": [
           "#636efa",
           "#EF553B",
           "#00cc96",
           "#ab63fa",
           "#FFA15A",
           "#19d3f3",
           "#FF6692",
           "#B6E880",
           "#FF97FF",
           "#FECB52"
          ],
          "font": {
           "color": "#2a3f5f"
          },
          "geo": {
           "bgcolor": "white",
           "lakecolor": "white",
           "landcolor": "#E5ECF6",
           "showlakes": true,
           "showland": true,
           "subunitcolor": "white"
          },
          "hoverlabel": {
           "align": "left"
          },
          "hovermode": "closest",
          "mapbox": {
           "style": "light"
          },
          "paper_bgcolor": "white",
          "plot_bgcolor": "#E5ECF6",
          "polar": {
           "angularaxis": {
            "gridcolor": "white",
            "linecolor": "white",
            "ticks": ""
           },
           "bgcolor": "#E5ECF6",
           "radialaxis": {
            "gridcolor": "white",
            "linecolor": "white",
            "ticks": ""
           }
          },
          "scene": {
           "xaxis": {
            "backgroundcolor": "#E5ECF6",
            "gridcolor": "white",
            "gridwidth": 2,
            "linecolor": "white",
            "showbackground": true,
            "ticks": "",
            "zerolinecolor": "white"
           },
           "yaxis": {
            "backgroundcolor": "#E5ECF6",
            "gridcolor": "white",
            "gridwidth": 2,
            "linecolor": "white",
            "showbackground": true,
            "ticks": "",
            "zerolinecolor": "white"
           },
           "zaxis": {
            "backgroundcolor": "#E5ECF6",
            "gridcolor": "white",
            "gridwidth": 2,
            "linecolor": "white",
            "showbackground": true,
            "ticks": "",
            "zerolinecolor": "white"
           }
          },
          "shapedefaults": {
           "line": {
            "color": "#2a3f5f"
           }
          },
          "ternary": {
           "aaxis": {
            "gridcolor": "white",
            "linecolor": "white",
            "ticks": ""
           },
           "baxis": {
            "gridcolor": "white",
            "linecolor": "white",
            "ticks": ""
           },
           "bgcolor": "#E5ECF6",
           "caxis": {
            "gridcolor": "white",
            "linecolor": "white",
            "ticks": ""
           }
          },
          "title": {
           "x": 0.05
          },
          "xaxis": {
           "automargin": true,
           "gridcolor": "white",
           "linecolor": "white",
           "ticks": "",
           "title": {
            "standoff": 15
           },
           "zerolinecolor": "white",
           "zerolinewidth": 2
          },
          "yaxis": {
           "automargin": true,
           "gridcolor": "white",
           "linecolor": "white",
           "ticks": "",
           "title": {
            "standoff": 15
           },
           "zerolinecolor": "white",
           "zerolinewidth": 2
          }
         }
        },
        "title": {
         "text": "Hyperparameter Importances"
        },
        "xaxis": {
         "title": {
          "text": "Hyperparameter Importance"
         }
        },
        "yaxis": {
         "title": {
          "text": "Hyperparameter"
         }
        }
       }
      },
      "image/png": "[encoded data removed]"
     },
     "metadata": {},
     "output_type": "display_data"
    }
   ],
   "source": [
    "optuna.visualization.plot_param_importances(study).show()\n"
   ]
  },
  {
   "cell_type": "code",
   "execution_count": 14,
   "id": "25641d2d-e7e7-4042-9cae-0b77c03685b5",
   "metadata": {},
   "outputs": [
    {
     "data": {
      "application/vnd.plotly.v1+json": {
       "config": {
        "plotlyServerURL": "https://plot.ly"
       },
       "data": [
        {
         "dimensions": [
          {
           "label": "Objective Value",
           "range": [
            0.959473924294968,
            0.959473924294968
           ],
           "values": [
            0.959473924294968
           ]
          },
          {
           "label": "dropout_l0",
           "range": [
            0,
            0
           ],
           "ticktext": [
            "0.2"
           ],
           "tickvals": [
            0
           ],
           "values": [
            0
           ]
          },
          {
           "label": "dropout_l1",
           "range": [
            0,
            0
           ],
           "ticktext": [
            "0.2"
           ],
           "tickvals": [
            0
           ],
           "values": [
            0
           ]
          },
          {
           "label": "dropout_l2",
           "range": [
            0,
            0
           ],
           "ticktext": [
            "0.1"
           ],
           "tickvals": [
            0
           ],
           "values": [
            0
           ]
          },
          {
           "label": "dropout_l3",
           "range": [
            0,
            0
           ],
           "ticktext": [
            "0.1"
           ],
           "tickvals": [
            0
           ],
           "values": [
            0
           ]
          },
          {
           "label": "dropout_l4",
           "range": [
            0,
            0
           ],
           "ticktext": [
            "0.1"
           ],
           "tickvals": [
            0
           ],
           "values": [
            0
           ]
          },
          {
           "label": "epochs",
           "range": [
            6,
            6
           ],
           "values": [
            6
           ]
          },
          {
           "label": "n_layers",
           "range": [
            5,
            5
           ],
           "values": [
            5
           ]
          },
          {
           "label": "n_units_l0",
           "range": [
            0,
            0
           ],
           "ticktext": [
            "8"
           ],
           "tickvals": [
            0
           ],
           "values": [
            0
           ]
          },
          {
           "label": "n_units_l1",
           "range": [
            0,
            0
           ],
           "ticktext": [
            "64"
           ],
           "tickvals": [
            0
           ],
           "values": [
            0
           ]
          },
          {
           "label": "n_units_l2",
           "range": [
            0,
            0
           ],
           "ticktext": [
            "16"
           ],
           "tickvals": [
            0
           ],
           "values": [
            0
           ]
          },
          {
           "label": "n_units_l3",
           "range": [
            0,
            0
           ],
           "ticktext": [
            "64"
           ],
           "tickvals": [
            0
           ],
           "values": [
            0
           ]
          },
          {
           "label": "n_units_l4",
           "range": [
            0,
            0
           ],
           "ticktext": [
            "4"
           ],
           "tickvals": [
            0
           ],
           "values": [
            0
           ]
          }
         ],
         "labelangle": 30,
         "labelside": "bottom",
         "line": {
          "color": [
           0.959473924294968
          ],
          "colorbar": {
           "title": {
            "text": "Objective Value"
           }
          },
          "colorscale": [
           [
            0,
            "rgb(247,251,255)"
           ],
           [
            0.125,
            "rgb(222,235,247)"
           ],
           [
            0.25,
            "rgb(198,219,239)"
           ],
           [
            0.375,
            "rgb(158,202,225)"
           ],
           [
            0.5,
            "rgb(107,174,214)"
           ],
           [
            0.625,
            "rgb(66,146,198)"
           ],
           [
            0.75,
            "rgb(33,113,181)"
           ],
           [
            0.875,
            "rgb(8,81,156)"
           ],
           [
            1,
            "rgb(8,48,107)"
           ]
          ],
          "reversescale": false,
          "showscale": true
         },
         "type": "parcoords"
        }
       ],
       "layout": {
        "template": {
         "data": {
          "bar": [
           {
            "error_x": {
             "color": "#2a3f5f"
            },
            "error_y": {
             "color": "#2a3f5f"
            },
            "marker": {
             "line": {
              "color": "#E5ECF6",
              "width": 0.5
             },
             "pattern": {
              "fillmode": "overlay",
              "size": 10,
              "solidity": 0.2
             }
            },
            "type": "bar"
           }
          ],
          "barpolar": [
           {
            "marker": {
             "line": {
              "color": "#E5ECF6",
              "width": 0.5
             },
             "pattern": {
              "fillmode": "overlay",
              "size": 10,
              "solidity": 0.2
             }
            },
            "type": "barpolar"
           }
          ],
          "carpet": [
           {
            "aaxis": {
             "endlinecolor": "#2a3f5f",
             "gridcolor": "white",
             "linecolor": "white",
             "minorgridcolor": "white",
             "startlinecolor": "#2a3f5f"
            },
            "baxis": {
             "endlinecolor": "#2a3f5f",
             "gridcolor": "white",
             "linecolor": "white",
             "minorgridcolor": "white",
             "startlinecolor": "#2a3f5f"
            },
            "type": "carpet"
           }
          ],
          "choropleth": [
           {
            "colorbar": {
             "outlinewidth": 0,
             "ticks": ""
            },
            "type": "choropleth"
           }
          ],
          "contour": [
           {
            "colorbar": {
             "outlinewidth": 0,
             "ticks": ""
            },
            "colorscale": [
             [
              0,
              "#0d0887"
             ],
             [
              0.1111111111111111,
              "#46039f"
             ],
             [
              0.2222222222222222,
              "#7201a8"
             ],
             [
              0.3333333333333333,
              "#9c179e"
             ],
             [
              0.4444444444444444,
              "#bd3786"
             ],
             [
              0.5555555555555556,
              "#d8576b"
             ],
             [
              0.6666666666666666,
              "#ed7953"
             ],
             [
              0.7777777777777778,
              "#fb9f3a"
             ],
             [
              0.8888888888888888,
              "#fdca26"
             ],
             [
              1,
              "#f0f921"
             ]
            ],
            "type": "contour"
           }
          ],
          "contourcarpet": [
           {
            "colorbar": {
             "outlinewidth": 0,
             "ticks": ""
            },
            "type": "contourcarpet"
           }
          ],
          "heatmap": [
           {
            "colorbar": {
             "outlinewidth": 0,
             "ticks": ""
            },
            "colorscale": [
             [
              0,
              "#0d0887"
             ],
             [
              0.1111111111111111,
              "#46039f"
             ],
             [
              0.2222222222222222,
              "#7201a8"
             ],
             [
              0.3333333333333333,
              "#9c179e"
             ],
             [
              0.4444444444444444,
              "#bd3786"
             ],
             [
              0.5555555555555556,
              "#d8576b"
             ],
             [
              0.6666666666666666,
              "#ed7953"
             ],
             [
              0.7777777777777778,
              "#fb9f3a"
             ],
             [
              0.8888888888888888,
              "#fdca26"
             ],
             [
              1,
              "#f0f921"
             ]
            ],
            "type": "heatmap"
           }
          ],
          "histogram": [
           {
            "marker": {
             "pattern": {
              "fillmode": "overlay",
              "size": 10,
              "solidity": 0.2
             }
            },
            "type": "histogram"
           }
          ],
          "histogram2d": [
           {
            "colorbar": {
             "outlinewidth": 0,
             "ticks": ""
            },
            "colorscale": [
             [
              0,
              "#0d0887"
             ],
             [
              0.1111111111111111,
              "#46039f"
             ],
             [
              0.2222222222222222,
              "#7201a8"
             ],
             [
              0.3333333333333333,
              "#9c179e"
             ],
             [
              0.4444444444444444,
              "#bd3786"
             ],
             [
              0.5555555555555556,
              "#d8576b"
             ],
             [
              0.6666666666666666,
              "#ed7953"
             ],
             [
              0.7777777777777778,
              "#fb9f3a"
             ],
             [
              0.8888888888888888,
              "#fdca26"
             ],
             [
              1,
              "#f0f921"
             ]
            ],
            "type": "histogram2d"
           }
          ],
          "histogram2dcontour": [
           {
            "colorbar": {
             "outlinewidth": 0,
             "ticks": ""
            },
            "colorscale": [
             [
              0,
              "#0d0887"
             ],
             [
              0.1111111111111111,
              "#46039f"
             ],
             [
              0.2222222222222222,
              "#7201a8"
             ],
             [
              0.3333333333333333,
              "#9c179e"
             ],
             [
              0.4444444444444444,
              "#bd3786"
             ],
             [
              0.5555555555555556,
              "#d8576b"
             ],
             [
              0.6666666666666666,
              "#ed7953"
             ],
             [
              0.7777777777777778,
              "#fb9f3a"
             ],
             [
              0.8888888888888888,
              "#fdca26"
             ],
             [
              1,
              "#f0f921"
             ]
            ],
            "type": "histogram2dcontour"
           }
          ],
          "mesh3d": [
           {
            "colorbar": {
             "outlinewidth": 0,
             "ticks": ""
            },
            "type": "mesh3d"
           }
          ],
          "parcoords": [
           {
            "line": {
             "colorbar": {
              "outlinewidth": 0,
              "ticks": ""
             }
            },
            "type": "parcoords"
           }
          ],
          "pie": [
           {
            "automargin": true,
            "type": "pie"
           }
          ],
          "scatter": [
           {
            "fillpattern": {
             "fillmode": "overlay",
             "size": 10,
             "solidity": 0.2
            },
            "type": "scatter"
           }
          ],
          "scatter3d": [
           {
            "line": {
             "colorbar": {
              "outlinewidth": 0,
              "ticks": ""
             }
            },
            "marker": {
             "colorbar": {
              "outlinewidth": 0,
              "ticks": ""
             }
            },
            "type": "scatter3d"
           }
          ],
          "scattercarpet": [
           {
            "marker": {
             "colorbar": {
              "outlinewidth": 0,
              "ticks": ""
             }
            },
            "type": "scattercarpet"
           }
          ],
          "scattergeo": [
           {
            "marker": {
             "colorbar": {
              "outlinewidth": 0,
              "ticks": ""
             }
            },
            "type": "scattergeo"
           }
          ],
          "scattergl": [
           {
            "marker": {
             "colorbar": {
              "outlinewidth": 0,
              "ticks": ""
             }
            },
            "type": "scattergl"
           }
          ],
          "scattermap": [
           {
            "marker": {
             "colorbar": {
              "outlinewidth": 0,
              "ticks": ""
             }
            },
            "type": "scattermap"
           }
          ],
          "scattermapbox": [
           {
            "marker": {
             "colorbar": {
              "outlinewidth": 0,
              "ticks": ""
             }
            },
            "type": "scattermapbox"
           }
          ],
          "scatterpolar": [
           {
            "marker": {
             "colorbar": {
              "outlinewidth": 0,
              "ticks": ""
             }
            },
            "type": "scatterpolar"
           }
          ],
          "scatterpolargl": [
           {
            "marker": {
             "colorbar": {
              "outlinewidth": 0,
              "ticks": ""
             }
            },
            "type": "scatterpolargl"
           }
          ],
          "scatterternary": [
           {
            "marker": {
             "colorbar": {
              "outlinewidth": 0,
              "ticks": ""
             }
            },
            "type": "scatterternary"
           }
          ],
          "surface": [
           {
            "colorbar": {
             "outlinewidth": 0,
             "ticks": ""
            },
            "colorscale": [
             [
              0,
              "#0d0887"
             ],
             [
              0.1111111111111111,
              "#46039f"
             ],
             [
              0.2222222222222222,
              "#7201a8"
             ],
             [
              0.3333333333333333,
              "#9c179e"
             ],
             [
              0.4444444444444444,
              "#bd3786"
             ],
             [
              0.5555555555555556,
              "#d8576b"
             ],
             [
              0.6666666666666666,
              "#ed7953"
             ],
             [
              0.7777777777777778,
              "#fb9f3a"
             ],
             [
              0.8888888888888888,
              "#fdca26"
             ],
             [
              1,
              "#f0f921"
             ]
            ],
            "type": "surface"
           }
          ],
          "table": [
           {
            "cells": {
             "fill": {
              "color": "#EBF0F8"
             },
             "line": {
              "color": "white"
             }
            },
            "header": {
             "fill": {
              "color": "#C8D4E3"
             },
             "line": {
              "color": "white"
             }
            },
            "type": "table"
           }
          ]
         },
         "layout": {
          "annotationdefaults": {
           "arrowcolor": "#2a3f5f",
           "arrowhead": 0,
           "arrowwidth": 1
          },
          "autotypenumbers": "strict",
          "coloraxis": {
           "colorbar": {
            "outlinewidth": 0,
            "ticks": ""
           }
          },
          "colorscale": {
           "diverging": [
            [
             0,
             "#8e0152"
            ],
            [
             0.1,
             "#c51b7d"
            ],
            [
             0.2,
             "#de77ae"
            ],
            [
             0.3,
             "#f1b6da"
            ],
            [
             0.4,
             "#fde0ef"
            ],
            [
             0.5,
             "#f7f7f7"
            ],
            [
             0.6,
             "#e6f5d0"
            ],
            [
             0.7,
             "#b8e186"
            ],
            [
             0.8,
             "#7fbc41"
            ],
            [
             0.9,
             "#4d9221"
            ],
            [
             1,
             "#276419"
            ]
           ],
           "sequential": [
            [
             0,
             "#0d0887"
            ],
            [
             0.1111111111111111,
             "#46039f"
            ],
            [
             0.2222222222222222,
             "#7201a8"
            ],
            [
             0.3333333333333333,
             "#9c179e"
            ],
            [
             0.4444444444444444,
             "#bd3786"
            ],
            [
             0.5555555555555556,
             "#d8576b"
            ],
            [
             0.6666666666666666,
             "#ed7953"
            ],
            [
             0.7777777777777778,
             "#fb9f3a"
            ],
            [
             0.8888888888888888,
             "#fdca26"
            ],
            [
             1,
             "#f0f921"
            ]
           ],
           "sequentialminus": [
            [
             0,
             "#0d0887"
            ],
            [
             0.1111111111111111,
             "#46039f"
            ],
            [
             0.2222222222222222,
             "#7201a8"
            ],
            [
             0.3333333333333333,
             "#9c179e"
            ],
            [
             0.4444444444444444,
             "#bd3786"
            ],
            [
             0.5555555555555556,
             "#d8576b"
            ],
            [
             0.6666666666666666,
             "#ed7953"
            ],
            [
             0.7777777777777778,
             "#fb9f3a"
            ],
            [
             0.8888888888888888,
             "#fdca26"
            ],
            [
             1,
             "#f0f921"
            ]
           ]
          },
          "colorway": [
           "#636efa",
           "#EF553B",
           "#00cc96",
           "#ab63fa",
           "#FFA15A",
           "#19d3f3",
           "#FF6692",
           "#B6E880",
           "#FF97FF",
           "#FECB52"
          ],
          "font": {
           "color": "#2a3f5f"
          },
          "geo": {
           "bgcolor": "white",
           "lakecolor": "white",
           "landcolor": "#E5ECF6",
           "showlakes": true,
           "showland": true,
           "subunitcolor": "white"
          },
          "hoverlabel": {
           "align": "left"
          },
          "hovermode": "closest",
          "mapbox": {
           "style": "light"
          },
          "paper_bgcolor": "white",
          "plot_bgcolor": "#E5ECF6",
          "polar": {
           "angularaxis": {
            "gridcolor": "white",
            "linecolor": "white",
            "ticks": ""
           },
           "bgcolor": "#E5ECF6",
           "radialaxis": {
            "gridcolor": "white",
            "linecolor": "white",
            "ticks": ""
           }
          },
          "scene": {
           "xaxis": {
            "backgroundcolor": "#E5ECF6",
            "gridcolor": "white",
            "gridwidth": 2,
            "linecolor": "white",
            "showbackground": true,
            "ticks": "",
            "zerolinecolor": "white"
           },
           "yaxis": {
            "backgroundcolor": "#E5ECF6",
            "gridcolor": "white",
            "gridwidth": 2,
            "linecolor": "white",
            "showbackground": true,
            "ticks": "",
            "zerolinecolor": "white"
           },
           "zaxis": {
            "backgroundcolor": "#E5ECF6",
            "gridcolor": "white",
            "gridwidth": 2,
            "linecolor": "white",
            "showbackground": true,
            "ticks": "",
            "zerolinecolor": "white"
           }
          },
          "shapedefaults": {
           "line": {
            "color": "#2a3f5f"
           }
          },
          "ternary": {
           "aaxis": {
            "gridcolor": "white",
            "linecolor": "white",
            "ticks": ""
           },
           "baxis": {
            "gridcolor": "white",
            "linecolor": "white",
            "ticks": ""
           },
           "bgcolor": "#E5ECF6",
           "caxis": {
            "gridcolor": "white",
            "linecolor": "white",
            "ticks": ""
           }
          },
          "title": {
           "x": 0.05
          },
          "xaxis": {
           "automargin": true,
           "gridcolor": "white",
           "linecolor": "white",
           "ticks": "",
           "title": {
            "standoff": 15
           },
           "zerolinecolor": "white",
           "zerolinewidth": 2
          },
          "yaxis": {
           "automargin": true,
           "gridcolor": "white",
           "linecolor": "white",
           "ticks": "",
           "title": {
            "standoff": 15
           },
           "zerolinecolor": "white",
           "zerolinewidth": 2
          }
         }
        },
        "title": {
         "text": "Parallel Coordinate Plot"
        }
       }
      },
      "image/png": "[encoded data removed]"
     },
     "metadata": {},
     "output_type": "display_data"
    },
    {
     "data": {
      "application/vnd.plotly.v1+json": {
       "config": {
        "plotlyServerURL": "https://plot.ly"
       },
       "data": [
        {
         "marker": {
          "color": [
           0,
           1,
           2,
           3,
           4,
           12,
           15,
           20,
           21,
           23,
           37,
           38,
           47
          ],
          "colorbar": {
           "title": {
            "text": "Trial"
           },
           "x": 1,
           "xpad": 40
          },
          "colorscale": [
           [
            0,
            "rgb(247,251,255)"
           ],
           [
            0.125,
            "rgb(222,235,247)"
           ],
           [
            0.25,
            "rgb(198,219,239)"
           ],
           [
            0.375,
            "rgb(158,202,225)"
           ],
           [
            0.5,
            "rgb(107,174,214)"
           ],
           [
            0.625,
            "rgb(66,146,198)"
           ],
           [
            0.75,
            "rgb(33,113,181)"
           ],
           [
            0.875,
            "rgb(8,81,156)"
           ],
           [
            1,
            "rgb(8,48,107)"
           ]
          ],
          "line": {
           "color": "Grey",
           "width": 0.5
          },
          "showscale": true
         },
         "mode": "markers",
         "name": "Feasible Trial",
         "showlegend": false,
         "type": "scatter",
         "x": [
          0.2,
          0.1,
          0.2,
          0.1,
          0,
          0.1,
          0.1,
          0,
          0,
          0,
          0,
          0.1,
          0.1
         ],
         "xaxis": "x",
         "y": [
          0.959473924294968,
          0.9618881474778224,
          0.9623812406016051,
          0.9623824247443732,
          0.9620406127099826,
          0.9642865553379357,
          0.9652311545107795,
          0.9634126513984466,
          0.9657460228108782,
          0.9641486876380464,
          0.9625683458509086,
          0.9641397927581439,
          0.9643271488533688
         ],
         "yaxis": "y"
        },
        {
         "marker": {
          "color": [
           0,
           1,
           2,
           3,
           4,
           12,
           15,
           20,
           21,
           23,
           37,
           38,
           47
          ],
          "colorbar": {
           "title": {
            "text": "Trial"
           },
           "x": 1,
           "xpad": 40
          },
          "colorscale": [
           [
            0,
            "rgb(247,251,255)"
           ],
           [
            0.125,
            "rgb(222,235,247)"
           ],
           [
            0.25,
            "rgb(198,219,239)"
           ],
           [
            0.375,
            "rgb(158,202,225)"
           ],
           [
            0.5,
            "rgb(107,174,214)"
           ],
           [
            0.625,
            "rgb(66,146,198)"
           ],
           [
            0.75,
            "rgb(33,113,181)"
           ],
           [
            0.875,
            "rgb(8,81,156)"
           ],
           [
            1,
            "rgb(8,48,107)"
           ]
          ],
          "line": {
           "color": "Grey",
           "width": 0.5
          },
          "showscale": false
         },
         "mode": "markers",
         "name": "Feasible Trial",
         "showlegend": false,
         "type": "scatter",
         "x": [
          0.2,
          0,
          0,
          0,
          0,
          0,
          0,
          0,
          0,
          0,
          0,
          0,
          0
         ],
         "xaxis": "x2",
         "y": [
          0.959473924294968,
          0.9618881474778224,
          0.9623812406016051,
          0.9623824247443732,
          0.9620406127099826,
          0.9642865553379357,
          0.9652311545107795,
          0.9634126513984466,
          0.9657460228108782,
          0.9641486876380464,
          0.9625683458509086,
          0.9641397927581439,
          0.9643271488533688
         ],
         "yaxis": "y2"
        },
        {
         "marker": {
          "color": [
           0,
           1,
           2,
           3,
           4,
           12,
           15,
           37,
           47
          ],
          "colorbar": {
           "title": {
            "text": "Trial"
           },
           "x": 1,
           "xpad": 40
          },
          "colorscale": [
           [
            0,
            "rgb(247,251,255)"
           ],
           [
            0.125,
            "rgb(222,235,247)"
           ],
           [
            0.25,
            "rgb(198,219,239)"
           ],
           [
            0.375,
            "rgb(158,202,225)"
           ],
           [
            0.5,
            "rgb(107,174,214)"
           ],
           [
            0.625,
            "rgb(66,146,198)"
           ],
           [
            0.75,
            "rgb(33,113,181)"
           ],
           [
            0.875,
            "rgb(8,81,156)"
           ],
           [
            1,
            "rgb(8,48,107)"
           ]
          ],
          "line": {
           "color": "Grey",
           "width": 0.5
          },
          "showscale": false
         },
         "mode": "markers",
         "name": "Feasible Trial",
         "showlegend": false,
         "type": "scatter",
         "x": [
          0.1,
          0,
          0.1,
          0.1,
          0.2,
          0.1,
          0.1,
          0.1,
          0.1
         ],
         "xaxis": "x3",
         "y": [
          0.959473924294968,
          0.9618881474778224,
          0.9623812406016051,
          0.9623824247443732,
          0.9620406127099826,
          0.9642865553379357,
          0.9652311545107795,
          0.9625683458509086,
          0.9643271488533688
         ],
         "yaxis": "y3"
        },
        {
         "marker": {
          "color": [
           0,
           2,
           3,
           4,
           12,
           37,
           47
          ],
          "colorbar": {
           "title": {
            "text": "Trial"
           },
           "x": 1,
           "xpad": 40
          },
          "colorscale": [
           [
            0,
            "rgb(247,251,255)"
           ],
           [
            0.125,
            "rgb(222,235,247)"
           ],
           [
            0.25,
            "rgb(198,219,239)"
           ],
           [
            0.375,
            "rgb(158,202,225)"
           ],
           [
            0.5,
            "rgb(107,174,214)"
           ],
           [
            0.625,
            "rgb(66,146,198)"
           ],
           [
            0.75,
            "rgb(33,113,181)"
           ],
           [
            0.875,
            "rgb(8,81,156)"
           ],
           [
            1,
            "rgb(8,48,107)"
           ]
          ],
          "line": {
           "color": "Grey",
           "width": 0.5
          },
          "showscale": false
         },
         "mode": "markers",
         "name": "Feasible Trial",
         "showlegend": false,
         "type": "scatter",
         "x": [
          0.1,
          0,
          0.2,
          0.1,
          0,
          0,
          0
         ],
         "xaxis": "x4",
         "y": [
          0.959473924294968,
          0.9623812406016051,
          0.9623824247443732,
          0.9620406127099826,
          0.9642865553379357,
          0.9625683458509086,
          0.9643271488533688
         ],
         "yaxis": "y4"
        },
        {
         "marker": {
          "color": [
           0
          ],
          "colorbar": {
           "title": {
            "text": "Trial"
           },
           "x": 1,
           "xpad": 40
          },
          "colorscale": [
           [
            0,
            "rgb(247,251,255)"
           ],
           [
            0.125,
            "rgb(222,235,247)"
           ],
           [
            0.25,
            "rgb(198,219,239)"
           ],
           [
            0.375,
            "rgb(158,202,225)"
           ],
           [
            0.5,
            "rgb(107,174,214)"
           ],
           [
            0.625,
            "rgb(66,146,198)"
           ],
           [
            0.75,
            "rgb(33,113,181)"
           ],
           [
            0.875,
            "rgb(8,81,156)"
           ],
           [
            1,
            "rgb(8,48,107)"
           ]
          ],
          "line": {
           "color": "Grey",
           "width": 0.5
          },
          "showscale": false
         },
         "mode": "markers",
         "name": "Feasible Trial",
         "showlegend": false,
         "type": "scatter",
         "x": [
          0.1
         ],
         "xaxis": "x5",
         "y": [
          0.959473924294968
         ],
         "yaxis": "y5"
        },
        {
         "marker": {
          "color": [
           0,
           1,
           2,
           3,
           4,
           12,
           15,
           20,
           21,
           23,
           37,
           38,
           47
          ],
          "colorbar": {
           "title": {
            "text": "Trial"
           },
           "x": 1,
           "xpad": 40
          },
          "colorscale": [
           [
            0,
            "rgb(247,251,255)"
           ],
           [
            0.125,
            "rgb(222,235,247)"
           ],
           [
            0.25,
            "rgb(198,219,239)"
           ],
           [
            0.375,
            "rgb(158,202,225)"
           ],
           [
            0.5,
            "rgb(107,174,214)"
           ],
           [
            0.625,
            "rgb(66,146,198)"
           ],
           [
            0.75,
            "rgb(33,113,181)"
           ],
           [
            0.875,
            "rgb(8,81,156)"
           ],
           [
            1,
            "rgb(8,48,107)"
           ]
          ],
          "line": {
           "color": "Grey",
           "width": 0.5
          },
          "showscale": false
         },
         "mode": "markers",
         "name": "Feasible Trial",
         "showlegend": false,
         "type": "scatter",
         "x": [
          6,
          6,
          3,
          9,
          6,
          4,
          10,
          5,
          5,
          4,
          4,
          6,
          5
         ],
         "xaxis": "x6",
         "y": [
          0.959473924294968,
          0.9618881474778224,
          0.9623812406016051,
          0.9623824247443732,
          0.9620406127099826,
          0.9642865553379357,
          0.9652311545107795,
          0.9634126513984466,
          0.9657460228108782,
          0.9641486876380464,
          0.9625683458509086,
          0.9641397927581439,
          0.9643271488533688
         ],
         "yaxis": "y6"
        },
        {
         "marker": {
          "color": [
           0,
           1,
           2,
           3,
           4,
           12,
           15,
           20,
           21,
           23,
           37,
           38,
           47
          ],
          "colorbar": {
           "title": {
            "text": "Trial"
           },
           "x": 1,
           "xpad": 40
          },
          "colorscale": [
           [
            0,
            "rgb(247,251,255)"
           ],
           [
            0.125,
            "rgb(222,235,247)"
           ],
           [
            0.25,
            "rgb(198,219,239)"
           ],
           [
            0.375,
            "rgb(158,202,225)"
           ],
           [
            0.5,
            "rgb(107,174,214)"
           ],
           [
            0.625,
            "rgb(66,146,198)"
           ],
           [
            0.75,
            "rgb(33,113,181)"
           ],
           [
            0.875,
            "rgb(8,81,156)"
           ],
           [
            1,
            "rgb(8,48,107)"
           ]
          ],
          "line": {
           "color": "Grey",
           "width": 0.5
          },
          "showscale": false
         },
         "mode": "markers",
         "name": "Feasible Trial",
         "showlegend": false,
         "type": "scatter",
         "x": [
          5,
          3,
          4,
          4,
          4,
          4,
          3,
          2,
          2,
          2,
          4,
          2,
          4
         ],
         "xaxis": "x7",
         "y": [
          0.959473924294968,
          0.9618881474778224,
          0.9623812406016051,
          0.9623824247443732,
          0.9620406127099826,
          0.9642865553379357,
          0.9652311545107795,
          0.9634126513984466,
          0.9657460228108782,
          0.9641486876380464,
          0.9625683458509086,
          0.9641397927581439,
          0.9643271488533688
         ],
         "yaxis": "y7"
        },
        {
         "marker": {
          "color": [
           0,
           1,
           2,
           3,
           4,
           12,
           15,
           20,
           21,
           23,
           37,
           38,
           47
          ],
          "colorbar": {
           "title": {
            "text": "Trial"
           },
           "x": 1,
           "xpad": 40
          },
          "colorscale": [
           [
            0,
            "rgb(247,251,255)"
           ],
           [
            0.125,
            "rgb(222,235,247)"
           ],
           [
            0.25,
            "rgb(198,219,239)"
           ],
           [
            0.375,
            "rgb(158,202,225)"
           ],
           [
            0.5,
            "rgb(107,174,214)"
           ],
           [
            0.625,
            "rgb(66,146,198)"
           ],
           [
            0.75,
            "rgb(33,113,181)"
           ],
           [
            0.875,
            "rgb(8,81,156)"
           ],
           [
            1,
            "rgb(8,48,107)"
           ]
          ],
          "line": {
           "color": "Grey",
           "width": 0.5
          },
          "showscale": false
         },
         "mode": "markers",
         "name": "Feasible Trial",
         "showlegend": false,
         "type": "scatter",
         "x": [
          8,
          16,
          32,
          16,
          16,
          32,
          32,
          32,
          32,
          32,
          32,
          64,
          64
         ],
         "xaxis": "x8",
         "y": [
          0.959473924294968,
          0.9618881474778224,
          0.9623812406016051,
          0.9623824247443732,
          0.9620406127099826,
          0.9642865553379357,
          0.9652311545107795,
          0.9634126513984466,
          0.9657460228108782,
          0.9641486876380464,
          0.9625683458509086,
          0.9641397927581439,
          0.9643271488533688
         ],
         "yaxis": "y8"
        },
        {
         "marker": {
          "color": [
           0,
           1,
           2,
           3,
           4,
           12,
           15,
           20,
           21,
           23,
           37,
           38,
           47
          ],
          "colorbar": {
           "title": {
            "text": "Trial"
           },
           "x": 1,
           "xpad": 40
          },
          "colorscale": [
           [
            0,
            "rgb(247,251,255)"
           ],
           [
            0.125,
            "rgb(222,235,247)"
           ],
           [
            0.25,
            "rgb(198,219,239)"
           ],
           [
            0.375,
            "rgb(158,202,225)"
           ],
           [
            0.5,
            "rgb(107,174,214)"
           ],
           [
            0.625,
            "rgb(66,146,198)"
           ],
           [
            0.75,
            "rgb(33,113,181)"
           ],
           [
            0.875,
            "rgb(8,81,156)"
           ],
           [
            1,
            "rgb(8,48,107)"
           ]
          ],
          "line": {
           "color": "Grey",
           "width": 0.5
          },
          "showscale": false
         },
         "mode": "markers",
         "name": "Feasible Trial",
         "showlegend": false,
         "type": "scatter",
         "x": [
          64,
          4,
          64,
          8,
          8,
          16,
          4,
          4,
          4,
          4,
          32,
          8,
          16
         ],
         "xaxis": "x9",
         "y": [
          0.959473924294968,
          0.9618881474778224,
          0.9623812406016051,
          0.9623824247443732,
          0.9620406127099826,
          0.9642865553379357,
          0.9652311545107795,
          0.9634126513984466,
          0.9657460228108782,
          0.9641486876380464,
          0.9625683458509086,
          0.9641397927581439,
          0.9643271488533688
         ],
         "yaxis": "y9"
        },
        {
         "marker": {
          "color": [
           0,
           1,
           2,
           3,
           4,
           12,
           15,
           37,
           47
          ],
          "colorbar": {
           "title": {
            "text": "Trial"
           },
           "x": 1,
           "xpad": 40
          },
          "colorscale": [
           [
            0,
            "rgb(247,251,255)"
           ],
           [
            0.125,
            "rgb(222,235,247)"
           ],
           [
            0.25,
            "rgb(198,219,239)"
           ],
           [
            0.375,
            "rgb(158,202,225)"
           ],
           [
            0.5,
            "rgb(107,174,214)"
           ],
           [
            0.625,
            "rgb(66,146,198)"
           ],
           [
            0.75,
            "rgb(33,113,181)"
           ],
           [
            0.875,
            "rgb(8,81,156)"
           ],
           [
            1,
            "rgb(8,48,107)"
           ]
          ],
          "line": {
           "color": "Grey",
           "width": 0.5
          },
          "showscale": false
         },
         "mode": "markers",
         "name": "Feasible Trial",
         "showlegend": false,
         "type": "scatter",
         "x": [
          16,
          16,
          32,
          8,
          32,
          8,
          8,
          4,
          32
         ],
         "xaxis": "x10",
         "y": [
          0.959473924294968,
          0.9618881474778224,
          0.9623812406016051,
          0.9623824247443732,
          0.9620406127099826,
          0.9642865553379357,
          0.9652311545107795,
          0.9625683458509086,
          0.9643271488533688
         ],
         "yaxis": "y10"
        },
        {
         "marker": {
          "color": [
           0,
           2,
           3,
           4,
           12,
           37,
           47
          ],
          "colorbar": {
           "title": {
            "text": "Trial"
           },
           "x": 1,
           "xpad": 40
          },
          "colorscale": [
           [
            0,
            "rgb(247,251,255)"
           ],
           [
            0.125,
            "rgb(222,235,247)"
           ],
           [
            0.25,
            "rgb(198,219,239)"
           ],
           [
            0.375,
            "rgb(158,202,225)"
           ],
           [
            0.5,
            "rgb(107,174,214)"
           ],
           [
            0.625,
            "rgb(66,146,198)"
           ],
           [
            0.75,
            "rgb(33,113,181)"
           ],
           [
            0.875,
            "rgb(8,81,156)"
           ],
           [
            1,
            "rgb(8,48,107)"
           ]
          ],
          "line": {
           "color": "Grey",
           "width": 0.5
          },
          "showscale": false
         },
         "mode": "markers",
         "name": "Feasible Trial",
         "showlegend": false,
         "type": "scatter",
         "x": [
          64,
          64,
          4,
          32,
          64,
          64,
          32
         ],
         "xaxis": "x11",
         "y": [
          0.959473924294968,
          0.9623812406016051,
          0.9623824247443732,
          0.9620406127099826,
          0.9642865553379357,
          0.9625683458509086,
          0.9643271488533688
         ],
         "yaxis": "y11"
        },
        {
         "marker": {
          "color": [
           0
          ],
          "colorbar": {
           "title": {
            "text": "Trial"
           },
           "x": 1,
           "xpad": 40
          },
          "colorscale": [
           [
            0,
            "rgb(247,251,255)"
           ],
           [
            0.125,
            "rgb(222,235,247)"
           ],
           [
            0.25,
            "rgb(198,219,239)"
           ],
           [
            0.375,
            "rgb(158,202,225)"
           ],
           [
            0.5,
            "rgb(107,174,214)"
           ],
           [
            0.625,
            "rgb(66,146,198)"
           ],
           [
            0.75,
            "rgb(33,113,181)"
           ],
           [
            0.875,
            "rgb(8,81,156)"
           ],
           [
            1,
            "rgb(8,48,107)"
           ]
          ],
          "line": {
           "color": "Grey",
           "width": 0.5
          },
          "showscale": false
         },
         "mode": "markers",
         "name": "Feasible Trial",
         "showlegend": false,
         "type": "scatter",
         "x": [
          4
         ],
         "xaxis": "x12",
         "y": [
          0.959473924294968
         ],
         "yaxis": "y12"
        }
       ],
       "layout": {
        "template": {
         "data": {
          "bar": [
           {
            "error_x": {
             "color": "#2a3f5f"
            },
            "error_y": {
             "color": "#2a3f5f"
            },
            "marker": {
             "line": {
              "color": "#E5ECF6",
              "width": 0.5
             },
             "pattern": {
              "fillmode": "overlay",
              "size": 10,
              "solidity": 0.2
             }
            },
            "type": "bar"
           }
          ],
          "barpolar": [
           {
            "marker": {
             "line": {
              "color": "#E5ECF6",
              "width": 0.5
             },
             "pattern": {
              "fillmode": "overlay",
              "size": 10,
              "solidity": 0.2
             }
            },
            "type": "barpolar"
           }
          ],
          "carpet": [
           {
            "aaxis": {
             "endlinecolor": "#2a3f5f",
             "gridcolor": "white",
             "linecolor": "white",
             "minorgridcolor": "white",
             "startlinecolor": "#2a3f5f"
            },
            "baxis": {
             "endlinecolor": "#2a3f5f",
             "gridcolor": "white",
             "linecolor": "white",
             "minorgridcolor": "white",
             "startlinecolor": "#2a3f5f"
            },
            "type": "carpet"
           }
          ],
          "choropleth": [
           {
            "colorbar": {
             "outlinewidth": 0,
             "ticks": ""
            },
            "type": "choropleth"
           }
          ],
          "contour": [
           {
            "colorbar": {
             "outlinewidth": 0,
             "ticks": ""
            },
            "colorscale": [
             [
              0,
              "#0d0887"
             ],
             [
              0.1111111111111111,
              "#46039f"
             ],
             [
              0.2222222222222222,
              "#7201a8"
             ],
             [
              0.3333333333333333,
              "#9c179e"
             ],
             [
              0.4444444444444444,
              "#bd3786"
             ],
             [
              0.5555555555555556,
              "#d8576b"
             ],
             [
              0.6666666666666666,
              "#ed7953"
             ],
             [
              0.7777777777777778,
              "#fb9f3a"
             ],
             [
              0.8888888888888888,
              "#fdca26"
             ],
             [
              1,
              "#f0f921"
             ]
            ],
            "type": "contour"
           }
          ],
          "contourcarpet": [
           {
            "colorbar": {
             "outlinewidth": 0,
             "ticks": ""
            },
            "type": "contourcarpet"
           }
          ],
          "heatmap": [
           {
            "colorbar": {
             "outlinewidth": 0,
             "ticks": ""
            },
            "colorscale": [
             [
              0,
              "#0d0887"
             ],
             [
              0.1111111111111111,
              "#46039f"
             ],
             [
              0.2222222222222222,
              "#7201a8"
             ],
             [
              0.3333333333333333,
              "#9c179e"
             ],
             [
              0.4444444444444444,
              "#bd3786"
             ],
             [
              0.5555555555555556,
              "#d8576b"
             ],
             [
              0.6666666666666666,
              "#ed7953"
             ],
             [
              0.7777777777777778,
              "#fb9f3a"
             ],
             [
              0.8888888888888888,
              "#fdca26"
             ],
             [
              1,
              "#f0f921"
             ]
            ],
            "type": "heatmap"
           }
          ],
          "histogram": [
           {
            "marker": {
             "pattern": {
              "fillmode": "overlay",
              "size": 10,
              "solidity": 0.2
             }
            },
            "type": "histogram"
           }
          ],
          "histogram2d": [
           {
            "colorbar": {
             "outlinewidth": 0,
             "ticks": ""
            },
            "colorscale": [
             [
              0,
              "#0d0887"
             ],
             [
              0.1111111111111111,
              "#46039f"
             ],
             [
              0.2222222222222222,
              "#7201a8"
             ],
             [
              0.3333333333333333,
              "#9c179e"
             ],
             [
              0.4444444444444444,
              "#bd3786"
             ],
             [
              0.5555555555555556,
              "#d8576b"
             ],
             [
              0.6666666666666666,
              "#ed7953"
             ],
             [
              0.7777777777777778,
              "#fb9f3a"
             ],
             [
              0.8888888888888888,
              "#fdca26"
             ],
             [
              1,
              "#f0f921"
             ]
            ],
            "type": "histogram2d"
           }
          ],
          "histogram2dcontour": [
           {
            "colorbar": {
             "outlinewidth": 0,
             "ticks": ""
            },
            "colorscale": [
             [
              0,
              "#0d0887"
             ],
             [
              0.1111111111111111,
              "#46039f"
             ],
             [
              0.2222222222222222,
              "#7201a8"
             ],
             [
              0.3333333333333333,
              "#9c179e"
             ],
             [
              0.4444444444444444,
              "#bd3786"
             ],
             [
              0.5555555555555556,
              "#d8576b"
             ],
             [
              0.6666666666666666,
              "#ed7953"
             ],
             [
              0.7777777777777778,
              "#fb9f3a"
             ],
             [
              0.8888888888888888,
              "#fdca26"
             ],
             [
              1,
              "#f0f921"
             ]
            ],
            "type": "histogram2dcontour"
           }
          ],
          "mesh3d": [
           {
            "colorbar": {
             "outlinewidth": 0,
             "ticks": ""
            },
            "type": "mesh3d"
           }
          ],
          "parcoords": [
           {
            "line": {
             "colorbar": {
              "outlinewidth": 0,
              "ticks": ""
             }
            },
            "type": "parcoords"
           }
          ],
          "pie": [
           {
            "automargin": true,
            "type": "pie"
           }
          ],
          "scatter": [
           {
            "fillpattern": {
             "fillmode": "overlay",
             "size": 10,
             "solidity": 0.2
            },
            "type": "scatter"
           }
          ],
          "scatter3d": [
           {
            "line": {
             "colorbar": {
              "outlinewidth": 0,
              "ticks": ""
             }
            },
            "marker": {
             "colorbar": {
              "outlinewidth": 0,
              "ticks": ""
             }
            },
            "type": "scatter3d"
           }
          ],
          "scattercarpet": [
           {
            "marker": {
             "colorbar": {
              "outlinewidth": 0,
              "ticks": ""
             }
            },
            "type": "scattercarpet"
           }
          ],
          "scattergeo": [
           {
            "marker": {
             "colorbar": {
              "outlinewidth": 0,
              "ticks": ""
             }
            },
            "type": "scattergeo"
           }
          ],
          "scattergl": [
           {
            "marker": {
             "colorbar": {
              "outlinewidth": 0,
              "ticks": ""
             }
            },
            "type": "scattergl"
           }
          ],
          "scattermap": [
           {
            "marker": {
             "colorbar": {
              "outlinewidth": 0,
              "ticks": ""
             }
            },
            "type": "scattermap"
           }
          ],
          "scattermapbox": [
           {
            "marker": {
             "colorbar": {
              "outlinewidth": 0,
              "ticks": ""
             }
            },
            "type": "scattermapbox"
           }
          ],
          "scatterpolar": [
           {
            "marker": {
             "colorbar": {
              "outlinewidth": 0,
              "ticks": ""
             }
            },
            "type": "scatterpolar"
           }
          ],
          "scatterpolargl": [
           {
            "marker": {
             "colorbar": {
              "outlinewidth": 0,
              "ticks": ""
             }
            },
            "type": "scatterpolargl"
           }
          ],
          "scatterternary": [
           {
            "marker": {
             "colorbar": {
              "outlinewidth": 0,
              "ticks": ""
             }
            },
            "type": "scatterternary"
           }
          ],
          "surface": [
           {
            "colorbar": {
             "outlinewidth": 0,
             "ticks": ""
            },
            "colorscale": [
             [
              0,
              "#0d0887"
             ],
             [
              0.1111111111111111,
              "#46039f"
             ],
             [
              0.2222222222222222,
              "#7201a8"
             ],
             [
              0.3333333333333333,
              "#9c179e"
             ],
             [
              0.4444444444444444,
              "#bd3786"
             ],
             [
              0.5555555555555556,
              "#d8576b"
             ],
             [
              0.6666666666666666,
              "#ed7953"
             ],
             [
              0.7777777777777778,
              "#fb9f3a"
             ],
             [
              0.8888888888888888,
              "#fdca26"
             ],
             [
              1,
              "#f0f921"
             ]
            ],
            "type": "surface"
           }
          ],
          "table": [
           {
            "cells": {
             "fill": {
              "color": "#EBF0F8"
             },
             "line": {
              "color": "white"
             }
            },
            "header": {
             "fill": {
              "color": "#C8D4E3"
             },
             "line": {
              "color": "white"
             }
            },
            "type": "table"
           }
          ]
         },
         "layout": {
          "annotationdefaults": {
           "arrowcolor": "#2a3f5f",
           "arrowhead": 0,
           "arrowwidth": 1
          },
          "autotypenumbers": "strict",
          "coloraxis": {
           "colorbar": {
            "outlinewidth": 0,
            "ticks": ""
           }
          },
          "colorscale": {
           "diverging": [
            [
             0,
             "#8e0152"
            ],
            [
             0.1,
             "#c51b7d"
            ],
            [
             0.2,
             "#de77ae"
            ],
            [
             0.3,
             "#f1b6da"
            ],
            [
             0.4,
             "#fde0ef"
            ],
            [
             0.5,
             "#f7f7f7"
            ],
            [
             0.6,
             "#e6f5d0"
            ],
            [
             0.7,
             "#b8e186"
            ],
            [
             0.8,
             "#7fbc41"
            ],
            [
             0.9,
             "#4d9221"
            ],
            [
             1,
             "#276419"
            ]
           ],
           "sequential": [
            [
             0,
             "#0d0887"
            ],
            [
             0.1111111111111111,
             "#46039f"
            ],
            [
             0.2222222222222222,
             "#7201a8"
            ],
            [
             0.3333333333333333,
             "#9c179e"
            ],
            [
             0.4444444444444444,
             "#bd3786"
            ],
            [
             0.5555555555555556,
             "#d8576b"
            ],
            [
             0.6666666666666666,
             "#ed7953"
            ],
            [
             0.7777777777777778,
             "#fb9f3a"
            ],
            [
             0.8888888888888888,
             "#fdca26"
            ],
            [
             1,
             "#f0f921"
            ]
           ],
           "sequentialminus": [
            [
             0,
             "#0d0887"
            ],
            [
             0.1111111111111111,
             "#46039f"
            ],
            [
             0.2222222222222222,
             "#7201a8"
            ],
            [
             0.3333333333333333,
             "#9c179e"
            ],
            [
             0.4444444444444444,
             "#bd3786"
            ],
            [
             0.5555555555555556,
             "#d8576b"
            ],
            [
             0.6666666666666666,
             "#ed7953"
            ],
            [
             0.7777777777777778,
             "#fb9f3a"
            ],
            [
             0.8888888888888888,
             "#fdca26"
            ],
            [
             1,
             "#f0f921"
            ]
           ]
          },
          "colorway": [
           "#636efa",
           "#EF553B",
           "#00cc96",
           "#ab63fa",
           "#FFA15A",
           "#19d3f3",
           "#FF6692",
           "#B6E880",
           "#FF97FF",
           "#FECB52"
          ],
          "font": {
           "color": "#2a3f5f"
          },
          "geo": {
           "bgcolor": "white",
           "lakecolor": "white",
           "landcolor": "#E5ECF6",
           "showlakes": true,
           "showland": true,
           "subunitcolor": "white"
          },
          "hoverlabel": {
           "align": "left"
          },
          "hovermode": "closest",
          "mapbox": {
           "style": "light"
          },
          "paper_bgcolor": "white",
          "plot_bgcolor": "#E5ECF6",
          "polar": {
           "angularaxis": {
            "gridcolor": "white",
            "linecolor": "white",
            "ticks": ""
           },
           "bgcolor": "#E5ECF6",
           "radialaxis": {
            "gridcolor": "white",
            "linecolor": "white",
            "ticks": ""
           }
          },
          "scene": {
           "xaxis": {
            "backgroundcolor": "#E5ECF6",
            "gridcolor": "white",
            "gridwidth": 2,
            "linecolor": "white",
            "showbackground": true,
            "ticks": "",
            "zerolinecolor": "white"
           },
           "yaxis": {
            "backgroundcolor": "#E5ECF6",
            "gridcolor": "white",
            "gridwidth": 2,
            "linecolor": "white",
            "showbackground": true,
            "ticks": "",
            "zerolinecolor": "white"
           },
           "zaxis": {
            "backgroundcolor": "#E5ECF6",
            "gridcolor": "white",
            "gridwidth": 2,
            "linecolor": "white",
            "showbackground": true,
            "ticks": "",
            "zerolinecolor": "white"
           }
          },
          "shapedefaults": {
           "line": {
            "color": "#2a3f5f"
           }
          },
          "ternary": {
           "aaxis": {
            "gridcolor": "white",
            "linecolor": "white",
            "ticks": ""
           },
           "baxis": {
            "gridcolor": "white",
            "linecolor": "white",
            "ticks": ""
           },
           "bgcolor": "#E5ECF6",
           "caxis": {
            "gridcolor": "white",
            "linecolor": "white",
            "ticks": ""
           }
          },
          "title": {
           "x": 0.05
          },
          "xaxis": {
           "automargin": true,
           "gridcolor": "white",
           "linecolor": "white",
           "ticks": "",
           "title": {
            "standoff": 15
           },
           "zerolinecolor": "white",
           "zerolinewidth": 2
          },
          "yaxis": {
           "automargin": true,
           "gridcolor": "white",
           "linecolor": "white",
           "ticks": "",
           "title": {
            "standoff": 15
           },
           "zerolinecolor": "white",
           "zerolinewidth": 2
          }
         }
        },
        "title": {
         "text": "Slice Plot"
        },
        "width": 3600,
        "xaxis": {
         "anchor": "y",
         "categoryarray": [
          0,
          0.1,
          0.2
         ],
         "categoryorder": "array",
         "domain": [
          0,
          0.06805555555555555
         ],
         "title": {
          "text": "dropout_l0"
         },
         "type": "category"
        },
        "xaxis10": {
         "anchor": "y10",
         "categoryarray": [
          4,
          8,
          16,
          32,
          64
         ],
         "categoryorder": "array",
         "domain": [
          0.7625,
          0.8305555555555555
         ],
         "title": {
          "text": "n_units_l2"
         },
         "type": "category"
        },
        "xaxis11": {
         "anchor": "y11",
         "categoryarray": [
          4,
          8,
          16,
          32,
          64
         ],
         "categoryorder": "array",
         "domain": [
          0.8472222222222221,
          0.9152777777777776
         ],
         "title": {
          "text": "n_units_l3"
         },
         "type": "category"
        },
        "xaxis12": {
         "anchor": "y12",
         "categoryarray": [
          4,
          8,
          16,
          32,
          64
         ],
         "categoryorder": "array",
         "domain": [
          0.9319444444444444,
          0.9999999999999999
         ],
         "title": {
          "text": "n_units_l4"
         },
         "type": "category"
        },
        "xaxis2": {
         "anchor": "y2",
         "categoryarray": [
          0,
          0.1,
          0.2
         ],
         "categoryorder": "array",
         "domain": [
          0.08472222222222221,
          0.15277777777777776
         ],
         "title": {
          "text": "dropout_l1"
         },
         "type": "category"
        },
        "xaxis3": {
         "anchor": "y3",
         "categoryarray": [
          0,
          0.1,
          0.2
         ],
         "categoryorder": "array",
         "domain": [
          0.16944444444444443,
          0.2375
         ],
         "title": {
          "text": "dropout_l2"
         },
         "type": "category"
        },
        "xaxis4": {
         "anchor": "y4",
         "categoryarray": [
          0,
          0.1,
          0.2
         ],
         "categoryorder": "array",
         "domain": [
          0.25416666666666665,
          0.3222222222222222
         ],
         "title": {
          "text": "dropout_l3"
         },
         "type": "category"
        },
        "xaxis5": {
         "anchor": "y5",
         "categoryarray": [
          0,
          0.1,
          0.2
         ],
         "categoryorder": "array",
         "domain": [
          0.33888888888888885,
          0.4069444444444444
         ],
         "title": {
          "text": "dropout_l4"
         },
         "type": "category"
        },
        "xaxis6": {
         "anchor": "y6",
         "domain": [
          0.42361111111111105,
          0.4916666666666666
         ],
         "title": {
          "text": "epochs"
         }
        },
        "xaxis7": {
         "anchor": "y7",
         "domain": [
          0.5083333333333333,
          0.5763888888888888
         ],
         "title": {
          "text": "n_layers"
         }
        },
        "xaxis8": {
         "anchor": "y8",
         "categoryarray": [
          4,
          8,
          16,
          32,
          64
         ],
         "categoryorder": "array",
         "domain": [
          0.5930555555555554,
          0.661111111111111
         ],
         "title": {
          "text": "n_units_l0"
         },
         "type": "category"
        },
        "xaxis9": {
         "anchor": "y9",
         "categoryarray": [
          4,
          8,
          16,
          32,
          64
         ],
         "categoryorder": "array",
         "domain": [
          0.6777777777777777,
          0.7458333333333332
         ],
         "title": {
          "text": "n_units_l1"
         },
         "type": "category"
        },
        "yaxis": {
         "anchor": "x",
         "domain": [
          0,
          1
         ],
         "title": {
          "text": "Objective Value"
         }
        },
        "yaxis10": {
         "anchor": "x10",
         "domain": [
          0,
          1
         ],
         "matches": "y",
         "showticklabels": false
        },
        "yaxis11": {
         "anchor": "x11",
         "domain": [
          0,
          1
         ],
         "matches": "y",
         "showticklabels": false
        },
        "yaxis12": {
         "anchor": "x12",
         "domain": [
          0,
          1
         ],
         "matches": "y",
         "showticklabels": false
        },
        "yaxis2": {
         "anchor": "x2",
         "domain": [
          0,
          1
         ],
         "matches": "y",
         "showticklabels": false
        },
        "yaxis3": {
         "anchor": "x3",
         "domain": [
          0,
          1
         ],
         "matches": "y",
         "showticklabels": false
        },
        "yaxis4": {
         "anchor": "x4",
         "domain": [
          0,
          1
         ],
         "matches": "y",
         "showticklabels": false
        },
        "yaxis5": {
         "anchor": "x5",
         "domain": [
          0,
          1
         ],
         "matches": "y",
         "showticklabels": false
        },
        "yaxis6": {
         "anchor": "x6",
         "domain": [
          0,
          1
         ],
         "matches": "y",
         "showticklabels": false
        },
        "yaxis7": {
         "anchor": "x7",
         "domain": [
          0,
          1
         ],
         "matches": "y",
         "showticklabels": false
        },
        "yaxis8": {
         "anchor": "x8",
         "domain": [
          0,
          1
         ],
         "matches": "y",
         "showticklabels": false
        },
        "yaxis9": {
         "anchor": "x9",
         "domain": [
          0,
          1
         ],
         "matches": "y",
         "showticklabels": false
        }
       }
      },
      "image/png": "[encoded data removed]"
     },
     "metadata": {},
     "output_type": "display_data"
    }
   ],
   "source": [
    "fig3 = optuna.visualization.plot_parallel_coordinate(study)\n",
    "fig3.show()\n",
    "\n",
    "fig4 = optuna.visualization.plot_slice(study)\n",
    "fig4.show()"
   ]
  },
  {
   "cell_type": "markdown",
   "id": "e3d282ca-2c11-4485-9dd4-3ff4be2bc4cc",
   "metadata": {},
   "source": [
    "# Feature Selection with Random Forest"
   ]
  },
  {
   "cell_type": "code",
   "execution_count": 18,
   "id": "444b9309-209c-41be-be8e-c62ff6925b74",
   "metadata": {},
   "outputs": [
    {
     "data": {
      "text/html": [
       "<div>\n",
       "<style scoped>\n",
       "    .dataframe tbody tr th:only-of-type {\n",
       "        vertical-align: middle;\n",
       "    }\n",
       "\n",
       "    .dataframe tbody tr th {\n",
       "        vertical-align: top;\n",
       "    }\n",
       "\n",
       "    .dataframe thead th {\n",
       "        text-align: right;\n",
       "    }\n",
       "</style>\n",
       "<table border=\"1\" class=\"dataframe\">\n",
       "  <thead>\n",
       "    <tr style=\"text-align: right;\">\n",
       "      <th></th>\n",
       "      <th>Feature</th>\n",
       "      <th>Importance</th>\n",
       "    </tr>\n",
       "  </thead>\n",
       "  <tbody>\n",
       "    <tr>\n",
       "      <th>5</th>\n",
       "      <td>sttl</td>\n",
       "      <td>0.197603</td>\n",
       "    </tr>\n",
       "    <tr>\n",
       "      <th>32</th>\n",
       "      <td>ct_state_ttl</td>\n",
       "      <td>0.163063</td>\n",
       "    </tr>\n",
       "    <tr>\n",
       "      <th>19</th>\n",
       "      <td>dmeansz</td>\n",
       "      <td>0.059642</td>\n",
       "    </tr>\n",
       "    <tr>\n",
       "      <th>10</th>\n",
       "      <td>Sload</td>\n",
       "      <td>0.054844</td>\n",
       "    </tr>\n",
       "    <tr>\n",
       "      <th>30</th>\n",
       "      <td>ackdat</td>\n",
       "      <td>0.046424</td>\n",
       "    </tr>\n",
       "    <tr>\n",
       "      <th>6</th>\n",
       "      <td>dttl</td>\n",
       "      <td>0.043748</td>\n",
       "    </tr>\n",
       "    <tr>\n",
       "      <th>3</th>\n",
       "      <td>sbytes</td>\n",
       "      <td>0.039784</td>\n",
       "    </tr>\n",
       "    <tr>\n",
       "      <th>29</th>\n",
       "      <td>synack</td>\n",
       "      <td>0.037702</td>\n",
       "    </tr>\n",
       "    <tr>\n",
       "      <th>28</th>\n",
       "      <td>tcprtt</td>\n",
       "      <td>0.037401</td>\n",
       "    </tr>\n",
       "    <tr>\n",
       "      <th>18</th>\n",
       "      <td>smeansz</td>\n",
       "      <td>0.035313</td>\n",
       "    </tr>\n",
       "    <tr>\n",
       "      <th>11</th>\n",
       "      <td>Dload</td>\n",
       "      <td>0.033155</td>\n",
       "    </tr>\n",
       "    <tr>\n",
       "      <th>1</th>\n",
       "      <td>state</td>\n",
       "      <td>0.028525</td>\n",
       "    </tr>\n",
       "    <tr>\n",
       "      <th>4</th>\n",
       "      <td>dbytes</td>\n",
       "      <td>0.027278</td>\n",
       "    </tr>\n",
       "    <tr>\n",
       "      <th>27</th>\n",
       "      <td>Dintpkt</td>\n",
       "      <td>0.021466</td>\n",
       "    </tr>\n",
       "    <tr>\n",
       "      <th>2</th>\n",
       "      <td>dur</td>\n",
       "      <td>0.018886</td>\n",
       "    </tr>\n",
       "    <tr>\n",
       "      <th>25</th>\n",
       "      <td>Ltime</td>\n",
       "      <td>0.018775</td>\n",
       "    </tr>\n",
       "    <tr>\n",
       "      <th>24</th>\n",
       "      <td>Stime</td>\n",
       "      <td>0.017993</td>\n",
       "    </tr>\n",
       "    <tr>\n",
       "      <th>36</th>\n",
       "      <td>ct_srv_dst</td>\n",
       "      <td>0.016914</td>\n",
       "    </tr>\n",
       "    <tr>\n",
       "      <th>35</th>\n",
       "      <td>ct_srv_src</td>\n",
       "      <td>0.012445</td>\n",
       "    </tr>\n",
       "    <tr>\n",
       "      <th>26</th>\n",
       "      <td>Sintpkt</td>\n",
       "      <td>0.011830</td>\n",
       "    </tr>\n",
       "    <tr>\n",
       "      <th>13</th>\n",
       "      <td>Dpkts</td>\n",
       "      <td>0.011091</td>\n",
       "    </tr>\n",
       "    <tr>\n",
       "      <th>40</th>\n",
       "      <td>ct_dst_sport_ltm</td>\n",
       "      <td>0.008885</td>\n",
       "    </tr>\n",
       "    <tr>\n",
       "      <th>0</th>\n",
       "      <td>proto</td>\n",
       "      <td>0.007999</td>\n",
       "    </tr>\n",
       "    <tr>\n",
       "      <th>9</th>\n",
       "      <td>service</td>\n",
       "      <td>0.005709</td>\n",
       "    </tr>\n",
       "    <tr>\n",
       "      <th>12</th>\n",
       "      <td>Spkts</td>\n",
       "      <td>0.004903</td>\n",
       "    </tr>\n",
       "    <tr>\n",
       "      <th>38</th>\n",
       "      <td>ct_src_ ltm</td>\n",
       "      <td>0.004556</td>\n",
       "    </tr>\n",
       "    <tr>\n",
       "      <th>23</th>\n",
       "      <td>Djit</td>\n",
       "      <td>0.004263</td>\n",
       "    </tr>\n",
       "    <tr>\n",
       "      <th>7</th>\n",
       "      <td>sloss</td>\n",
       "      <td>0.003951</td>\n",
       "    </tr>\n",
       "    <tr>\n",
       "      <th>22</th>\n",
       "      <td>Sjit</td>\n",
       "      <td>0.003871</td>\n",
       "    </tr>\n",
       "    <tr>\n",
       "      <th>39</th>\n",
       "      <td>ct_src_dport_ltm</td>\n",
       "      <td>0.003596</td>\n",
       "    </tr>\n",
       "    <tr>\n",
       "      <th>41</th>\n",
       "      <td>ct_dst_src_ltm</td>\n",
       "      <td>0.003534</td>\n",
       "    </tr>\n",
       "    <tr>\n",
       "      <th>37</th>\n",
       "      <td>ct_dst_ltm</td>\n",
       "      <td>0.003428</td>\n",
       "    </tr>\n",
       "    <tr>\n",
       "      <th>17</th>\n",
       "      <td>dtcpb</td>\n",
       "      <td>0.002804</td>\n",
       "    </tr>\n",
       "    <tr>\n",
       "      <th>16</th>\n",
       "      <td>stcpb</td>\n",
       "      <td>0.002417</td>\n",
       "    </tr>\n",
       "    <tr>\n",
       "      <th>8</th>\n",
       "      <td>dloss</td>\n",
       "      <td>0.001968</td>\n",
       "    </tr>\n",
       "    <tr>\n",
       "      <th>14</th>\n",
       "      <td>swin</td>\n",
       "      <td>0.001967</td>\n",
       "    </tr>\n",
       "    <tr>\n",
       "      <th>31</th>\n",
       "      <td>is_sm_ips_ports</td>\n",
       "      <td>0.001911</td>\n",
       "    </tr>\n",
       "    <tr>\n",
       "      <th>15</th>\n",
       "      <td>dwin</td>\n",
       "      <td>0.000175</td>\n",
       "    </tr>\n",
       "    <tr>\n",
       "      <th>33</th>\n",
       "      <td>ct_flw_http_mthd</td>\n",
       "      <td>0.000094</td>\n",
       "    </tr>\n",
       "    <tr>\n",
       "      <th>20</th>\n",
       "      <td>trans_depth</td>\n",
       "      <td>0.000079</td>\n",
       "    </tr>\n",
       "    <tr>\n",
       "      <th>21</th>\n",
       "      <td>res_bdy_len</td>\n",
       "      <td>0.000011</td>\n",
       "    </tr>\n",
       "    <tr>\n",
       "      <th>34</th>\n",
       "      <td>is_ftp_login</td>\n",
       "      <td>0.000000</td>\n",
       "    </tr>\n",
       "  </tbody>\n",
       "</table>\n",
       "</div>"
      ],
      "text/plain": [
       "             Feature  Importance\n",
       "5               sttl    0.197603\n",
       "32      ct_state_ttl    0.163063\n",
       "19           dmeansz    0.059642\n",
       "10             Sload    0.054844\n",
       "30            ackdat    0.046424\n",
       "6               dttl    0.043748\n",
       "3             sbytes    0.039784\n",
       "29            synack    0.037702\n",
       "28            tcprtt    0.037401\n",
       "18           smeansz    0.035313\n",
       "11             Dload    0.033155\n",
       "1              state    0.028525\n",
       "4             dbytes    0.027278\n",
       "27           Dintpkt    0.021466\n",
       "2                dur    0.018886\n",
       "25             Ltime    0.018775\n",
       "24             Stime    0.017993\n",
       "36        ct_srv_dst    0.016914\n",
       "35        ct_srv_src    0.012445\n",
       "26           Sintpkt    0.011830\n",
       "13             Dpkts    0.011091\n",
       "40  ct_dst_sport_ltm    0.008885\n",
       "0              proto    0.007999\n",
       "9            service    0.005709\n",
       "12             Spkts    0.004903\n",
       "38       ct_src_ ltm    0.004556\n",
       "23              Djit    0.004263\n",
       "7              sloss    0.003951\n",
       "22              Sjit    0.003871\n",
       "39  ct_src_dport_ltm    0.003596\n",
       "41    ct_dst_src_ltm    0.003534\n",
       "37        ct_dst_ltm    0.003428\n",
       "17             dtcpb    0.002804\n",
       "16             stcpb    0.002417\n",
       "8              dloss    0.001968\n",
       "14              swin    0.001967\n",
       "31   is_sm_ips_ports    0.001911\n",
       "15              dwin    0.000175\n",
       "33  ct_flw_http_mthd    0.000094\n",
       "20       trans_depth    0.000079\n",
       "21       res_bdy_len    0.000011\n",
       "34      is_ftp_login    0.000000"
      ]
     },
     "execution_count": 18,
     "metadata": {},
     "output_type": "execute_result"
    }
   ],
   "source": [
    "from sklearn.ensemble import RandomForestClassifier\n",
    "\n",
    "X_df = data.drop(columns=['attack_cat', 'Label']) # Keep as DataFrame\n",
    "y = data['Label']\n",
    "\n",
    "# Train a Random Forest model for feature importance\n",
    "rf = RandomForestClassifier(n_estimators=100, random_state=42)\n",
    "rf.fit(X_df, y)\n",
    "feature_importances = rf.feature_importances_\n",
    "feature_importance_df = pd.DataFrame({'Feature': X_df.columns, 'Importance': feature_importances})\n",
    "feature_importance_df = feature_importance_df.sort_values(by='Importance', ascending=False)\n",
    "feature_importance_df"
   ]
  },
  {
   "cell_type": "code",
   "execution_count": 19,
   "id": "f75456a1-e0d6-4c01-b695-0cf5ccb141f2",
   "metadata": {},
   "outputs": [
    {
     "name": "stdout",
     "output_type": "stream",
     "text": [
      "42\n",
      "42\n"
     ]
    }
   ],
   "source": [
    "print(len(feature_importance_df))\n",
    "print(len(X_df.columns))"
   ]
  },
  {
   "cell_type": "code",
   "execution_count": 20,
   "id": "09e855e0-1900-45e1-9c4b-c2b95a06c14c",
   "metadata": {},
   "outputs": [],
   "source": [
    "# ----- Your fixed best hyperparameters -----\n",
    "best_params = {\n",
    "    'epochs': 5,\n",
    "    'n_layers': 2,\n",
    "    'n_units_l0': 32, 'dropout_l0': 0.0,\n",
    "    'n_units_l1': 4, 'dropout_l1': 0.0,\n",
    "    'learning_rate': 1e-3,\n",
    "    'batch_size': 32\n",
    "}"
   ]
  },
  {
   "cell_type": "code",
   "execution_count": 22,
   "id": "05492658-3c0f-4b30-bdb8-39d4479aadd8",
   "metadata": {},
   "outputs": [
    {
     "name": "stdout",
     "output_type": "stream",
     "text": [
      "\u001b[1m13590/13590\u001b[0m \u001b[32m━━━━━━━━━━━━━━━━━━━━\u001b[0m\u001b[37m\u001b[0m \u001b[1m7s\u001b[0m 497us/step\n",
      "\u001b[1m13590/13590\u001b[0m \u001b[32m━━━━━━━━━━━━━━━━━━━━\u001b[0m\u001b[37m\u001b[0m \u001b[1m7s\u001b[0m 542us/step\n",
      "\u001b[1m13590/13590\u001b[0m \u001b[32m━━━━━━━━━━━━━━━━━━━━\u001b[0m\u001b[37m\u001b[0m \u001b[1m7s\u001b[0m 480us/step\n",
      "\u001b[1m13590/13590\u001b[0m \u001b[32m━━━━━━━━━━━━━━━━━━━━\u001b[0m\u001b[37m\u001b[0m \u001b[1m7s\u001b[0m 477us/step\n",
      "\u001b[1m13590/13590\u001b[0m \u001b[32m━━━━━━━━━━━━━━━━━━━━\u001b[0m\u001b[37m\u001b[0m \u001b[1m7s\u001b[0m 507us/step\n",
      "\u001b[1m13590/13590\u001b[0m \u001b[32m━━━━━━━━━━━━━━━━━━━━\u001b[0m\u001b[37m\u001b[0m \u001b[1m7s\u001b[0m 485us/step\n",
      "\u001b[1m13590/13590\u001b[0m \u001b[32m━━━━━━━━━━━━━━━━━━━━\u001b[0m\u001b[37m\u001b[0m \u001b[1m8s\u001b[0m 573us/step\n",
      "\u001b[1m13590/13590\u001b[0m \u001b[32m━━━━━━━━━━━━━━━━━━━━\u001b[0m\u001b[37m\u001b[0m \u001b[1m7s\u001b[0m 501us/step\n",
      "\u001b[1m13590/13590\u001b[0m \u001b[32m━━━━━━━━━━━━━━━━━━━━\u001b[0m\u001b[37m\u001b[0m \u001b[1m7s\u001b[0m 534us/step\n",
      "\u001b[1m13590/13590\u001b[0m \u001b[32m━━━━━━━━━━━━━━━━━━━━\u001b[0m\u001b[37m\u001b[0m \u001b[1m7s\u001b[0m 512us/step\n",
      "\u001b[1m13590/13590\u001b[0m \u001b[32m━━━━━━━━━━━━━━━━━━━━\u001b[0m\u001b[37m\u001b[0m \u001b[1m7s\u001b[0m 494us/step\n",
      "\u001b[1m13590/13590\u001b[0m \u001b[32m━━━━━━━━━━━━━━━━━━━━\u001b[0m\u001b[37m\u001b[0m \u001b[1m7s\u001b[0m 535us/step\n",
      "\u001b[1m13590/13590\u001b[0m \u001b[32m━━━━━━━━━━━━━━━━━━━━\u001b[0m\u001b[37m\u001b[0m \u001b[1m8s\u001b[0m 560us/step\n",
      "\u001b[1m13590/13590\u001b[0m \u001b[32m━━━━━━━━━━━━━━━━━━━━\u001b[0m\u001b[37m\u001b[0m \u001b[1m7s\u001b[0m 506us/step\n",
      "\u001b[1m13590/13590\u001b[0m \u001b[32m━━━━━━━━━━━━━━━━━━━━\u001b[0m\u001b[37m\u001b[0m \u001b[1m8s\u001b[0m 558us/step\n",
      "\u001b[1m13590/13590\u001b[0m \u001b[32m━━━━━━━━━━━━━━━━━━━━\u001b[0m\u001b[37m\u001b[0m \u001b[1m7s\u001b[0m 523us/step\n",
      "\u001b[1m13590/13590\u001b[0m \u001b[32m━━━━━━━━━━━━━━━━━━━━\u001b[0m\u001b[37m\u001b[0m \u001b[1m7s\u001b[0m 521us/step\n",
      "\u001b[1m13590/13590\u001b[0m \u001b[32m━━━━━━━━━━━━━━━━━━━━\u001b[0m\u001b[37m\u001b[0m \u001b[1m7s\u001b[0m 513us/step\n",
      "\u001b[1m13590/13590\u001b[0m \u001b[32m━━━━━━━━━━━━━━━━━━━━\u001b[0m\u001b[37m\u001b[0m \u001b[1m8s\u001b[0m 556us/step\n",
      "\u001b[1m13590/13590\u001b[0m \u001b[32m━━━━━━━━━━━━━━━━━━━━\u001b[0m\u001b[37m\u001b[0m \u001b[1m7s\u001b[0m 523us/step\n",
      "\u001b[1m13590/13590\u001b[0m \u001b[32m━━━━━━━━━━━━━━━━━━━━\u001b[0m\u001b[37m\u001b[0m \u001b[1m7s\u001b[0m 525us/step\n",
      "\u001b[1m13590/13590\u001b[0m \u001b[32m━━━━━━━━━━━━━━━━━━━━\u001b[0m\u001b[37m\u001b[0m \u001b[1m7s\u001b[0m 515us/step\n",
      "\u001b[1m13590/13590\u001b[0m \u001b[32m━━━━━━━━━━━━━━━━━━━━\u001b[0m\u001b[37m\u001b[0m \u001b[1m7s\u001b[0m 526us/step\n",
      "\u001b[1m13590/13590\u001b[0m \u001b[32m━━━━━━━━━━━━━━━━━━━━\u001b[0m\u001b[37m\u001b[0m \u001b[1m7s\u001b[0m 541us/step\n",
      "\u001b[1m13590/13590\u001b[0m \u001b[32m━━━━━━━━━━━━━━━━━━━━\u001b[0m\u001b[37m\u001b[0m \u001b[1m8s\u001b[0m 553us/step\n",
      "\u001b[1m13590/13590\u001b[0m \u001b[32m━━━━━━━━━━━━━━━━━━━━\u001b[0m\u001b[37m\u001b[0m \u001b[1m7s\u001b[0m 529us/step\n",
      "\u001b[1m13590/13590\u001b[0m \u001b[32m━━━━━━━━━━━━━━━━━━━━\u001b[0m\u001b[37m\u001b[0m \u001b[1m7s\u001b[0m 528us/step\n",
      "\u001b[1m13590/13590\u001b[0m \u001b[32m━━━━━━━━━━━━━━━━━━━━\u001b[0m\u001b[37m\u001b[0m \u001b[1m7s\u001b[0m 546us/step\n",
      "\u001b[1m13590/13590\u001b[0m \u001b[32m━━━━━━━━━━━━━━━━━━━━\u001b[0m\u001b[37m\u001b[0m \u001b[1m7s\u001b[0m 502us/step\n",
      "\u001b[1m13590/13590\u001b[0m \u001b[32m━━━━━━━━━━━━━━━━━━━━\u001b[0m\u001b[37m\u001b[0m \u001b[1m7s\u001b[0m 498us/step\n",
      "\u001b[1m13590/13590\u001b[0m \u001b[32m━━━━━━━━━━━━━━━━━━━━\u001b[0m\u001b[37m\u001b[0m \u001b[1m7s\u001b[0m 546us/step\n",
      "\u001b[1m13590/13590\u001b[0m \u001b[32m━━━━━━━━━━━━━━━━━━━━\u001b[0m\u001b[37m\u001b[0m \u001b[1m8s\u001b[0m 571us/step\n",
      "\u001b[1m13590/13590\u001b[0m \u001b[32m━━━━━━━━━━━━━━━━━━━━\u001b[0m\u001b[37m\u001b[0m \u001b[1m7s\u001b[0m 506us/step\n",
      "\u001b[1m13590/13590\u001b[0m \u001b[32m━━━━━━━━━━━━━━━━━━━━\u001b[0m\u001b[37m\u001b[0m \u001b[1m8s\u001b[0m 553us/step\n",
      "\u001b[1m13590/13590\u001b[0m \u001b[32m━━━━━━━━━━━━━━━━━━━━\u001b[0m\u001b[37m\u001b[0m \u001b[1m7s\u001b[0m 514us/step\n",
      "\u001b[1m13590/13590\u001b[0m \u001b[32m━━━━━━━━━━━━━━━━━━━━\u001b[0m\u001b[37m\u001b[0m \u001b[1m7s\u001b[0m 515us/step\n",
      "\u001b[1m13590/13590\u001b[0m \u001b[32m━━━━━━━━━━━━━━━━━━━━\u001b[0m\u001b[37m\u001b[0m \u001b[1m7s\u001b[0m 527us/step\n",
      "\u001b[1m13590/13590\u001b[0m \u001b[32m━━━━━━━━━━━━━━━━━━━━\u001b[0m\u001b[37m\u001b[0m \u001b[1m7s\u001b[0m 508us/step\n",
      "\u001b[1m13590/13590\u001b[0m \u001b[32m━━━━━━━━━━━━━━━━━━━━\u001b[0m\u001b[37m\u001b[0m \u001b[1m7s\u001b[0m 513us/step\n",
      "\u001b[1m13590/13590\u001b[0m \u001b[32m━━━━━━━━━━━━━━━━━━━━\u001b[0m\u001b[37m\u001b[0m \u001b[1m8s\u001b[0m 550us/step\n",
      "\u001b[1m13590/13590\u001b[0m \u001b[32m━━━━━━━━━━━━━━━━━━━━\u001b[0m\u001b[37m\u001b[0m \u001b[1m7s\u001b[0m 515us/step\n",
      "\u001b[1m13590/13590\u001b[0m \u001b[32m━━━━━━━━━━━━━━━━━━━━\u001b[0m\u001b[37m\u001b[0m \u001b[1m7s\u001b[0m 515us/step\n",
      "\u001b[1m13590/13590\u001b[0m \u001b[32m━━━━━━━━━━━━━━━━━━━━\u001b[0m\u001b[37m\u001b[0m \u001b[1m7s\u001b[0m 528us/step\n",
      "\u001b[1m13590/13590\u001b[0m \u001b[32m━━━━━━━━━━━━━━━━━━━━\u001b[0m\u001b[37m\u001b[0m \u001b[1m7s\u001b[0m 531us/step\n",
      "\u001b[1m13590/13590\u001b[0m \u001b[32m━━━━━━━━━━━━━━━━━━━━\u001b[0m\u001b[37m\u001b[0m \u001b[1m7s\u001b[0m 507us/step\n",
      "\u001b[1m13590/13590\u001b[0m \u001b[32m━━━━━━━━━━━━━━━━━━━━\u001b[0m\u001b[37m\u001b[0m \u001b[1m7s\u001b[0m 530us/step\n",
      "\u001b[1m13590/13590\u001b[0m \u001b[32m━━━━━━━━━━━━━━━━━━━━\u001b[0m\u001b[37m\u001b[0m \u001b[1m7s\u001b[0m 526us/step\n",
      "\u001b[1m13590/13590\u001b[0m \u001b[32m━━━━━━━━━━━━━━━━━━━━\u001b[0m\u001b[37m\u001b[0m \u001b[1m8s\u001b[0m 554us/step\n",
      "\u001b[1m13590/13590\u001b[0m \u001b[32m━━━━━━━━━━━━━━━━━━━━\u001b[0m\u001b[37m\u001b[0m \u001b[1m7s\u001b[0m 518us/step\n",
      "\u001b[1m13590/13590\u001b[0m \u001b[32m━━━━━━━━━━━━━━━━━━━━\u001b[0m\u001b[37m\u001b[0m \u001b[1m7s\u001b[0m 526us/step\n",
      "\u001b[1m13590/13590\u001b[0m \u001b[32m━━━━━━━━━━━━━━━━━━━━\u001b[0m\u001b[37m\u001b[0m \u001b[1m7s\u001b[0m 547us/step\n",
      "\u001b[1m13590/13590\u001b[0m \u001b[32m━━━━━━━━━━━━━━━━━━━━\u001b[0m\u001b[37m\u001b[0m \u001b[1m7s\u001b[0m 548us/step\n",
      "\u001b[1m13590/13590\u001b[0m \u001b[32m━━━━━━━━━━━━━━━━━━━━\u001b[0m\u001b[37m\u001b[0m \u001b[1m7s\u001b[0m 520us/step\n",
      "\u001b[1m13590/13590\u001b[0m \u001b[32m━━━━━━━━━━━━━━━━━━━━\u001b[0m\u001b[37m\u001b[0m \u001b[1m7s\u001b[0m 507us/step\n",
      "\u001b[1m13590/13590\u001b[0m \u001b[32m━━━━━━━━━━━━━━━━━━━━\u001b[0m\u001b[37m\u001b[0m \u001b[1m7s\u001b[0m 528us/step\n",
      "\u001b[1m13590/13590\u001b[0m \u001b[32m━━━━━━━━━━━━━━━━━━━━\u001b[0m\u001b[37m\u001b[0m \u001b[1m7s\u001b[0m 523us/step\n",
      "\u001b[1m13590/13590\u001b[0m \u001b[32m━━━━━━━━━━━━━━━━━━━━\u001b[0m\u001b[37m\u001b[0m \u001b[1m7s\u001b[0m 519us/step\n",
      "\u001b[1m13590/13590\u001b[0m \u001b[32m━━━━━━━━━━━━━━━━━━━━\u001b[0m\u001b[37m\u001b[0m \u001b[1m7s\u001b[0m 515us/step\n",
      "\u001b[1m13590/13590\u001b[0m \u001b[32m━━━━━━━━━━━━━━━━━━━━\u001b[0m\u001b[37m\u001b[0m \u001b[1m7s\u001b[0m 514us/step\n",
      "\u001b[1m13590/13590\u001b[0m \u001b[32m━━━━━━━━━━━━━━━━━━━━\u001b[0m\u001b[37m\u001b[0m \u001b[1m7s\u001b[0m 525us/step\n",
      "\u001b[1m13590/13590\u001b[0m \u001b[32m━━━━━━━━━━━━━━━━━━━━\u001b[0m\u001b[37m\u001b[0m \u001b[1m7s\u001b[0m 524us/step\n",
      "\u001b[1m13590/13590\u001b[0m \u001b[32m━━━━━━━━━━━━━━━━━━━━\u001b[0m\u001b[37m\u001b[0m \u001b[1m7s\u001b[0m 511us/step\n",
      "\u001b[1m13590/13590\u001b[0m \u001b[32m━━━━━━━━━━━━━━━━━━━━\u001b[0m\u001b[37m\u001b[0m \u001b[1m7s\u001b[0m 523us/step\n",
      "\u001b[1m13590/13590\u001b[0m \u001b[32m━━━━━━━━━━━━━━━━━━━━\u001b[0m\u001b[37m\u001b[0m \u001b[1m7s\u001b[0m 516us/step\n",
      "\u001b[1m13590/13590\u001b[0m \u001b[32m━━━━━━━━━━━━━━━━━━━━\u001b[0m\u001b[37m\u001b[0m \u001b[1m7s\u001b[0m 510us/step\n",
      "\u001b[1m13590/13590\u001b[0m \u001b[32m━━━━━━━━━━━━━━━━━━━━\u001b[0m\u001b[37m\u001b[0m \u001b[1m7s\u001b[0m 503us/step\n",
      "\u001b[1m13590/13590\u001b[0m \u001b[32m━━━━━━━━━━━━━━━━━━━━\u001b[0m\u001b[37m\u001b[0m \u001b[1m7s\u001b[0m 529us/step\n",
      "\u001b[1m13590/13590\u001b[0m \u001b[32m━━━━━━━━━━━━━━━━━━━━\u001b[0m\u001b[37m\u001b[0m \u001b[1m7s\u001b[0m 513us/step\n",
      "\u001b[1m13590/13590\u001b[0m \u001b[32m━━━━━━━━━━━━━━━━━━━━\u001b[0m\u001b[37m\u001b[0m \u001b[1m7s\u001b[0m 515us/step\n",
      "\u001b[1m13590/13590\u001b[0m \u001b[32m━━━━━━━━━━━━━━━━━━━━\u001b[0m\u001b[37m\u001b[0m \u001b[1m7s\u001b[0m 529us/step\n",
      "\u001b[1m13590/13590\u001b[0m \u001b[32m━━━━━━━━━━━━━━━━━━━━\u001b[0m\u001b[37m\u001b[0m \u001b[1m7s\u001b[0m 513us/step\n",
      "\u001b[1m13590/13590\u001b[0m \u001b[32m━━━━━━━━━━━━━━━━━━━━\u001b[0m\u001b[37m\u001b[0m \u001b[1m7s\u001b[0m 509us/step\n",
      "\u001b[1m13590/13590\u001b[0m \u001b[32m━━━━━━━━━━━━━━━━━━━━\u001b[0m\u001b[37m\u001b[0m \u001b[1m7s\u001b[0m 547us/step\n",
      "\u001b[1m13590/13590\u001b[0m \u001b[32m━━━━━━━━━━━━━━━━━━━━\u001b[0m\u001b[37m\u001b[0m \u001b[1m7s\u001b[0m 513us/step\n",
      "\u001b[1m13590/13590\u001b[0m \u001b[32m━━━━━━━━━━━━━━━━━━━━\u001b[0m\u001b[37m\u001b[0m \u001b[1m7s\u001b[0m 503us/step\n",
      "\u001b[1m13590/13590\u001b[0m \u001b[32m━━━━━━━━━━━━━━━━━━━━\u001b[0m\u001b[37m\u001b[0m \u001b[1m7s\u001b[0m 545us/step\n",
      "\u001b[1m13590/13590\u001b[0m \u001b[32m━━━━━━━━━━━━━━━━━━━━\u001b[0m\u001b[37m\u001b[0m \u001b[1m7s\u001b[0m 512us/step\n",
      "\u001b[1m13590/13590\u001b[0m \u001b[32m━━━━━━━━━━━━━━━━━━━━\u001b[0m\u001b[37m\u001b[0m \u001b[1m7s\u001b[0m 529us/step\n",
      "\u001b[1m13590/13590\u001b[0m \u001b[32m━━━━━━━━━━━━━━━━━━━━\u001b[0m\u001b[37m\u001b[0m \u001b[1m7s\u001b[0m 532us/step\n",
      "\u001b[1m13590/13590\u001b[0m \u001b[32m━━━━━━━━━━━━━━━━━━━━\u001b[0m\u001b[37m\u001b[0m \u001b[1m7s\u001b[0m 495us/step\n",
      "\u001b[1m13590/13590\u001b[0m \u001b[32m━━━━━━━━━━━━━━━━━━━━\u001b[0m\u001b[37m\u001b[0m \u001b[1m7s\u001b[0m 519us/step\n",
      "\u001b[1m13590/13590\u001b[0m \u001b[32m━━━━━━━━━━━━━━━━━━━━\u001b[0m\u001b[37m\u001b[0m \u001b[1m7s\u001b[0m 534us/step\n",
      "\u001b[1m13590/13590\u001b[0m \u001b[32m━━━━━━━━━━━━━━━━━━━━\u001b[0m\u001b[37m\u001b[0m \u001b[1m7s\u001b[0m 533us/step\n",
      "\u001b[1m13590/13590\u001b[0m \u001b[32m━━━━━━━━━━━━━━━━━━━━\u001b[0m\u001b[37m\u001b[0m \u001b[1m7s\u001b[0m 509us/step\n",
      "Best k = 31 with mean CV macro F1 = 0.9648\n"
     ]
    },
    {
     "data": {
      "image/png": "[encoded data removed]",
      "text/plain": [
       "<Figure size 640x480 with 1 Axes>"
      ]
     },
     "metadata": {},
     "output_type": "display_data"
    },
    {
     "name": "stdout",
     "output_type": "stream",
     "text": [
      "Selected features: ['sttl', 'ct_state_ttl', 'dmeansz', 'Sload', 'ackdat', 'dttl', 'sbytes', 'synack', 'tcprtt', 'smeansz', 'Dload', 'state', 'dbytes', 'Dintpkt', 'dur', 'Ltime', 'Stime', 'ct_srv_dst', 'ct_srv_src', 'Sintpkt', 'Dpkts', 'ct_dst_sport_ltm', 'proto', 'service', 'Spkts', 'ct_src_ ltm', 'Djit', 'sloss', 'Sjit', 'ct_src_dport_ltm', 'ct_dst_src_ltm']\n",
      "Epoch 1/5\n",
      "\u001b[1m27180/27180\u001b[0m \u001b[32m━━━━━━━━━━━━━━━━━━━━\u001b[0m\u001b[37m\u001b[0m \u001b[1m24s\u001b[0m 846us/step - accuracy: 0.9948 - loss: 0.0170\n",
      "Epoch 2/5\n",
      "\u001b[1m27180/27180\u001b[0m \u001b[32m━━━━━━━━━━━━━━━━━━━━\u001b[0m\u001b[37m\u001b[0m \u001b[1m22s\u001b[0m 824us/step - accuracy: 0.9970 - loss: 0.0061\n",
      "Epoch 3/5\n",
      "\u001b[1m27180/27180\u001b[0m \u001b[32m━━━━━━━━━━━━━━━━━━━━\u001b[0m\u001b[37m\u001b[0m \u001b[1m22s\u001b[0m 819us/step - accuracy: 0.9971 - loss: 0.0058\n",
      "Epoch 4/5\n",
      "\u001b[1m27180/27180\u001b[0m \u001b[32m━━━━━━━━━━━━━━━━━━━━\u001b[0m\u001b[37m\u001b[0m \u001b[1m23s\u001b[0m 851us/step - accuracy: 0.9972 - loss: 0.0057\n",
      "Epoch 5/5\n",
      "\u001b[1m27180/27180\u001b[0m \u001b[32m━━━━━━━━━━━━━━━━━━━━\u001b[0m\u001b[37m\u001b[0m \u001b[1m23s\u001b[0m 832us/step - accuracy: 0.9972 - loss: 0.0056\n",
      "\u001b[1m6796/6796\u001b[0m \u001b[32m━━━━━━━━━━━━━━━━━━━━\u001b[0m\u001b[37m\u001b[0m \u001b[1m3s\u001b[0m 496us/step\n",
      "Final Test Set Report (using best_k features):\n",
      "              precision    recall  f1-score   support\n",
      "\n",
      "           0       1.00      1.00      1.00    212998\n",
      "           1       0.89      0.98      0.93      4443\n",
      "\n",
      "    accuracy                           1.00    217441\n",
      "   macro avg       0.95      0.99      0.97    217441\n",
      "weighted avg       1.00      1.00      1.00    217441\n",
      "\n"
     ]
    }
   ],
   "source": [
    "import numpy as np\n",
    "import pandas as pd\n",
    "import matplotlib.pyplot as plt\n",
    "\n",
    "from sklearn.model_selection import StratifiedKFold, train_test_split\n",
    "from sklearn.preprocessing import StandardScaler\n",
    "from sklearn.metrics import classification_report\n",
    "\n",
    "from tensorflow.keras import Input\n",
    "from tensorflow.keras.models import Sequential\n",
    "from tensorflow.keras.layers import Dense, Dropout\n",
    "from tensorflow.keras.optimizers import Adam\n",
    "from tensorflow.keras.callbacks import EarlyStopping\n",
    "\n",
    "\n",
    "# ----- Split once: trainval / test -----\n",
    "\n",
    "X_df = data.drop(columns=['attack_cat', 'Label']) # Keep as DataFrame\n",
    "y = data['Label'].values\n",
    "\n",
    "X_trainval_df, X_test_df, y_trainval, y_test = train_test_split(\n",
    "    X_df, y, test_size=0.2, stratify=y, random_state=1\n",
    ")\n",
    "\n",
    "# ----- Model builder using your fixed params -----\n",
    "def build_model(input_dim: int):\n",
    "    m = Sequential()\n",
    "    m.add(Input(shape=(input_dim,)))\n",
    "    for i in range(best_params['n_layers']):\n",
    "        units = best_params.get(f\"n_units_l{i}\")\n",
    "        dr = best_params.get(f\"dropout_l{i}\", 0.0)\n",
    "        m.add(Dense(units, activation='relu'))\n",
    "        if dr and dr > 0:\n",
    "            m.add(Dropout(dr))\n",
    "    m.add(Dense(1, activation='sigmoid'))\n",
    "    m.compile(optimizer=Adam(learning_rate=best_params['learning_rate']),\n",
    "              loss='binary_crossentropy', metrics=['accuracy'])\n",
    "    return m\n",
    "\n",
    "# ----- Prepare top-k feature order (from your RandomForest importances) -----\n",
    "top_features = (\n",
    "    feature_importance_df.sort_values('Importance', ascending=False)['Feature']\n",
    "    .tolist()\n",
    ")\n",
    "top_features = [f for f in top_features if f in X_trainval_df.columns]\n",
    "max_k = len(top_features)\n",
    "\n",
    "# ----- CV eval for a given k (on trainval only; scaling inside each fold) -----\n",
    "def cv_macro_f1_for_k(k: int, n_splits: int = 2, seed: int = 1):\n",
    "    feats = top_features[:k]\n",
    "    Xk = X_trainval_df[feats].values\n",
    "    yk = y_trainval\n",
    "\n",
    "    skf = StratifiedKFold(n_splits=n_splits, shuffle=True, random_state=seed)\n",
    "    fold_scores = []\n",
    "\n",
    "    for tr_idx, va_idx in skf.split(Xk, yk):\n",
    "        X_tr, X_va = Xk[tr_idx], Xk[va_idx]\n",
    "        y_tr, y_va = yk[tr_idx], yk[va_idx]\n",
    "\n",
    "        scaler = StandardScaler().fit(X_tr)\n",
    "        X_tr = scaler.transform(X_tr)\n",
    "        X_va = scaler.transform(X_va)\n",
    "\n",
    "        model = build_model(input_dim=X_tr.shape[1])\n",
    "        early = EarlyStopping(monitor='val_loss', patience=3, restore_best_weights=True, verbose=0)\n",
    "\n",
    "        model.fit(X_tr, y_tr,\n",
    "                  validation_data=(X_va, y_va),\n",
    "                  epochs=best_params['epochs'],\n",
    "                  batch_size=best_params['batch_size'],\n",
    "                  verbose=0,\n",
    "                  callbacks=[early])\n",
    "\n",
    "        preds = (model.predict(X_va, verbose=1).ravel() > 0.5).astype(int)\n",
    "        rep = classification_report(y_va, preds, output_dict=True, zero_division=0)\n",
    "        fold_scores.append(rep['macro avg']['f1-score'])\n",
    "\n",
    "    return float(np.mean(fold_scores)), float(np.std(fold_scores))\n",
    "\n",
    "# ----- Search k = 1..max_k -----\n",
    "results = []\n",
    "for k in range(1, max_k + 1):\n",
    "    mean_f1, std_f1 = cv_macro_f1_for_k(k)\n",
    "    results.append({'k': k, 'mean_macro_f1': mean_f1, 'std_macro_f1': std_f1})\n",
    "\n",
    "df_k = pd.DataFrame(results)\n",
    "best_row = df_k.iloc[df_k['mean_macro_f1'].idxmax()]\n",
    "best_k = int(best_row['k'])\n",
    "print(f\"Best k = {best_k} with mean CV macro F1 = {best_row['mean_macro_f1']:.4f}\")\n",
    "\n",
    "# ----- Plot performance vs k -----\n",
    "plt.figure()\n",
    "plt.plot(df_k['k'], df_k['mean_macro_f1'])\n",
    "plt.xlabel('Top-k Features')\n",
    "plt.ylabel('Macro F1')\n",
    "plt.title('Feature Count vs Performance')\n",
    "plt.grid(True)\n",
    "plt.show()\n",
    "\n",
    "# ----- Final train on all trainval with best_k features; evaluate once on test -----\n",
    "selected_features = top_features[:best_k]\n",
    "print(\"Selected features:\", selected_features)\n",
    "\n",
    "Xtr_sel = X_trainval_df[selected_features].values\n",
    "Xte_sel = X_test_df[selected_features].values\n",
    "\n",
    "scaler_full = StandardScaler().fit(Xtr_sel)\n",
    "Xtr_sel = scaler_full.transform(Xtr_sel)\n",
    "Xte_sel = scaler_full.transform(Xte_sel)\n",
    "\n",
    "final_model = build_model(input_dim=Xtr_sel.shape[1])\n",
    "final_model.fit(\n",
    "    Xtr_sel, y_trainval,\n",
    "    epochs=best_params['epochs'],\n",
    "    batch_size=best_params['batch_size'],\n",
    "    verbose=1\n",
    ")\n",
    "\n",
    "test_preds = (final_model.predict(Xte_sel, verbose=1).ravel() > 0.5).astype(int)\n",
    "final_report = classification_report(y_test, test_preds, zero_division=0)\n",
    "print(\"Final Test Set Report (using best_k features):\")\n",
    "print(final_report)\n"
   ]
  },
  {
   "cell_type": "code",
   "execution_count": 23,
   "id": "947fc924-c3ae-4814-aa04-94580e7d0d40",
   "metadata": {},
   "outputs": [
    {
     "data": {
      "text/html": [
       "<div>\n",
       "<style scoped>\n",
       "    .dataframe tbody tr th:only-of-type {\n",
       "        vertical-align: middle;\n",
       "    }\n",
       "\n",
       "    .dataframe tbody tr th {\n",
       "        vertical-align: top;\n",
       "    }\n",
       "\n",
       "    .dataframe thead th {\n",
       "        text-align: right;\n",
       "    }\n",
       "</style>\n",
       "<table border=\"1\" class=\"dataframe\">\n",
       "  <thead>\n",
       "    <tr style=\"text-align: right;\">\n",
       "      <th></th>\n",
       "      <th>k</th>\n",
       "      <th>mean_macro_f1</th>\n",
       "      <th>std_macro_f1</th>\n",
       "    </tr>\n",
       "  </thead>\n",
       "  <tbody>\n",
       "    <tr>\n",
       "      <th>0</th>\n",
       "      <td>1</td>\n",
       "      <td>0.944357</td>\n",
       "      <td>0.001091</td>\n",
       "    </tr>\n",
       "    <tr>\n",
       "      <th>1</th>\n",
       "      <td>2</td>\n",
       "      <td>0.957725</td>\n",
       "      <td>0.002110</td>\n",
       "    </tr>\n",
       "    <tr>\n",
       "      <th>2</th>\n",
       "      <td>3</td>\n",
       "      <td>0.953217</td>\n",
       "      <td>0.006762</td>\n",
       "    </tr>\n",
       "    <tr>\n",
       "      <th>3</th>\n",
       "      <td>4</td>\n",
       "      <td>0.957627</td>\n",
       "      <td>0.001144</td>\n",
       "    </tr>\n",
       "    <tr>\n",
       "      <th>4</th>\n",
       "      <td>5</td>\n",
       "      <td>0.958524</td>\n",
       "      <td>0.001808</td>\n",
       "    </tr>\n",
       "    <tr>\n",
       "      <th>5</th>\n",
       "      <td>6</td>\n",
       "      <td>0.958968</td>\n",
       "      <td>0.002089</td>\n",
       "    </tr>\n",
       "    <tr>\n",
       "      <th>6</th>\n",
       "      <td>7</td>\n",
       "      <td>0.958996</td>\n",
       "      <td>0.001338</td>\n",
       "    </tr>\n",
       "    <tr>\n",
       "      <th>7</th>\n",
       "      <td>8</td>\n",
       "      <td>0.958975</td>\n",
       "      <td>0.001987</td>\n",
       "    </tr>\n",
       "    <tr>\n",
       "      <th>8</th>\n",
       "      <td>9</td>\n",
       "      <td>0.959243</td>\n",
       "      <td>0.001817</td>\n",
       "    </tr>\n",
       "    <tr>\n",
       "      <th>9</th>\n",
       "      <td>10</td>\n",
       "      <td>0.958912</td>\n",
       "      <td>0.002763</td>\n",
       "    </tr>\n",
       "    <tr>\n",
       "      <th>10</th>\n",
       "      <td>11</td>\n",
       "      <td>0.958266</td>\n",
       "      <td>0.000320</td>\n",
       "    </tr>\n",
       "    <tr>\n",
       "      <th>11</th>\n",
       "      <td>12</td>\n",
       "      <td>0.959603</td>\n",
       "      <td>0.001786</td>\n",
       "    </tr>\n",
       "    <tr>\n",
       "      <th>12</th>\n",
       "      <td>13</td>\n",
       "      <td>0.959667</td>\n",
       "      <td>0.001402</td>\n",
       "    </tr>\n",
       "    <tr>\n",
       "      <th>13</th>\n",
       "      <td>14</td>\n",
       "      <td>0.958822</td>\n",
       "      <td>0.001815</td>\n",
       "    </tr>\n",
       "    <tr>\n",
       "      <th>14</th>\n",
       "      <td>15</td>\n",
       "      <td>0.958199</td>\n",
       "      <td>0.000238</td>\n",
       "    </tr>\n",
       "    <tr>\n",
       "      <th>15</th>\n",
       "      <td>16</td>\n",
       "      <td>0.959495</td>\n",
       "      <td>0.001722</td>\n",
       "    </tr>\n",
       "    <tr>\n",
       "      <th>16</th>\n",
       "      <td>17</td>\n",
       "      <td>0.959978</td>\n",
       "      <td>0.001668</td>\n",
       "    </tr>\n",
       "    <tr>\n",
       "      <th>17</th>\n",
       "      <td>18</td>\n",
       "      <td>0.960366</td>\n",
       "      <td>0.000001</td>\n",
       "    </tr>\n",
       "    <tr>\n",
       "      <th>18</th>\n",
       "      <td>19</td>\n",
       "      <td>0.961659</td>\n",
       "      <td>0.001432</td>\n",
       "    </tr>\n",
       "    <tr>\n",
       "      <th>19</th>\n",
       "      <td>20</td>\n",
       "      <td>0.960642</td>\n",
       "      <td>0.000828</td>\n",
       "    </tr>\n",
       "    <tr>\n",
       "      <th>20</th>\n",
       "      <td>21</td>\n",
       "      <td>0.959178</td>\n",
       "      <td>0.001520</td>\n",
       "    </tr>\n",
       "    <tr>\n",
       "      <th>21</th>\n",
       "      <td>22</td>\n",
       "      <td>0.962079</td>\n",
       "      <td>0.000447</td>\n",
       "    </tr>\n",
       "    <tr>\n",
       "      <th>22</th>\n",
       "      <td>23</td>\n",
       "      <td>0.961933</td>\n",
       "      <td>0.002243</td>\n",
       "    </tr>\n",
       "    <tr>\n",
       "      <th>23</th>\n",
       "      <td>24</td>\n",
       "      <td>0.961211</td>\n",
       "      <td>0.002662</td>\n",
       "    </tr>\n",
       "    <tr>\n",
       "      <th>24</th>\n",
       "      <td>25</td>\n",
       "      <td>0.960585</td>\n",
       "      <td>0.000280</td>\n",
       "    </tr>\n",
       "    <tr>\n",
       "      <th>25</th>\n",
       "      <td>26</td>\n",
       "      <td>0.963789</td>\n",
       "      <td>0.000011</td>\n",
       "    </tr>\n",
       "    <tr>\n",
       "      <th>26</th>\n",
       "      <td>27</td>\n",
       "      <td>0.963903</td>\n",
       "      <td>0.000112</td>\n",
       "    </tr>\n",
       "    <tr>\n",
       "      <th>27</th>\n",
       "      <td>28</td>\n",
       "      <td>0.953332</td>\n",
       "      <td>0.009557</td>\n",
       "    </tr>\n",
       "    <tr>\n",
       "      <th>28</th>\n",
       "      <td>29</td>\n",
       "      <td>0.961195</td>\n",
       "      <td>0.002020</td>\n",
       "    </tr>\n",
       "    <tr>\n",
       "      <th>29</th>\n",
       "      <td>30</td>\n",
       "      <td>0.962619</td>\n",
       "      <td>0.000243</td>\n",
       "    </tr>\n",
       "    <tr>\n",
       "      <th>30</th>\n",
       "      <td>31</td>\n",
       "      <td>0.964785</td>\n",
       "      <td>0.000039</td>\n",
       "    </tr>\n",
       "    <tr>\n",
       "      <th>31</th>\n",
       "      <td>32</td>\n",
       "      <td>0.964469</td>\n",
       "      <td>0.001556</td>\n",
       "    </tr>\n",
       "    <tr>\n",
       "      <th>32</th>\n",
       "      <td>33</td>\n",
       "      <td>0.963323</td>\n",
       "      <td>0.001857</td>\n",
       "    </tr>\n",
       "    <tr>\n",
       "      <th>33</th>\n",
       "      <td>34</td>\n",
       "      <td>0.963300</td>\n",
       "      <td>0.002168</td>\n",
       "    </tr>\n",
       "    <tr>\n",
       "      <th>34</th>\n",
       "      <td>35</td>\n",
       "      <td>0.964091</td>\n",
       "      <td>0.001089</td>\n",
       "    </tr>\n",
       "    <tr>\n",
       "      <th>35</th>\n",
       "      <td>36</td>\n",
       "      <td>0.962920</td>\n",
       "      <td>0.002079</td>\n",
       "    </tr>\n",
       "    <tr>\n",
       "      <th>36</th>\n",
       "      <td>37</td>\n",
       "      <td>0.961705</td>\n",
       "      <td>0.001653</td>\n",
       "    </tr>\n",
       "    <tr>\n",
       "      <th>37</th>\n",
       "      <td>38</td>\n",
       "      <td>0.963906</td>\n",
       "      <td>0.000233</td>\n",
       "    </tr>\n",
       "    <tr>\n",
       "      <th>38</th>\n",
       "      <td>39</td>\n",
       "      <td>0.963080</td>\n",
       "      <td>0.001731</td>\n",
       "    </tr>\n",
       "    <tr>\n",
       "      <th>39</th>\n",
       "      <td>40</td>\n",
       "      <td>0.963200</td>\n",
       "      <td>0.002561</td>\n",
       "    </tr>\n",
       "    <tr>\n",
       "      <th>40</th>\n",
       "      <td>41</td>\n",
       "      <td>0.964484</td>\n",
       "      <td>0.000838</td>\n",
       "    </tr>\n",
       "    <tr>\n",
       "      <th>41</th>\n",
       "      <td>42</td>\n",
       "      <td>0.964277</td>\n",
       "      <td>0.001062</td>\n",
       "    </tr>\n",
       "  </tbody>\n",
       "</table>\n",
       "</div>"
      ],
      "text/plain": [
       "     k  mean_macro_f1  std_macro_f1\n",
       "0    1       0.944357      0.001091\n",
       "1    2       0.957725      0.002110\n",
       "2    3       0.953217      0.006762\n",
       "3    4       0.957627      0.001144\n",
       "4    5       0.958524      0.001808\n",
       "5    6       0.958968      0.002089\n",
       "6    7       0.958996      0.001338\n",
       "7    8       0.958975      0.001987\n",
       "8    9       0.959243      0.001817\n",
       "9   10       0.958912      0.002763\n",
       "10  11       0.958266      0.000320\n",
       "11  12       0.959603      0.001786\n",
       "12  13       0.959667      0.001402\n",
       "13  14       0.958822      0.001815\n",
       "14  15       0.958199      0.000238\n",
       "15  16       0.959495      0.001722\n",
       "16  17       0.959978      0.001668\n",
       "17  18       0.960366      0.000001\n",
       "18  19       0.961659      0.001432\n",
       "19  20       0.960642      0.000828\n",
       "20  21       0.959178      0.001520\n",
       "21  22       0.962079      0.000447\n",
       "22  23       0.961933      0.002243\n",
       "23  24       0.961211      0.002662\n",
       "24  25       0.960585      0.000280\n",
       "25  26       0.963789      0.000011\n",
       "26  27       0.963903      0.000112\n",
       "27  28       0.953332      0.009557\n",
       "28  29       0.961195      0.002020\n",
       "29  30       0.962619      0.000243\n",
       "30  31       0.964785      0.000039\n",
       "31  32       0.964469      0.001556\n",
       "32  33       0.963323      0.001857\n",
       "33  34       0.963300      0.002168\n",
       "34  35       0.964091      0.001089\n",
       "35  36       0.962920      0.002079\n",
       "36  37       0.961705      0.001653\n",
       "37  38       0.963906      0.000233\n",
       "38  39       0.963080      0.001731\n",
       "39  40       0.963200      0.002561\n",
       "40  41       0.964484      0.000838\n",
       "41  42       0.964277      0.001062"
      ]
     },
     "execution_count": 23,
     "metadata": {},
     "output_type": "execute_result"
    }
   ],
   "source": [
    "df_k"
   ]
  },
  {
   "cell_type": "markdown",
   "id": "8ea506ae-cbf0-424b-a3b5-1c0feece0194",
   "metadata": {},
   "source": [
    "# WYBRANE 18 NAJWAŻNIEJSZYCH CECH"
   ]
  },
  {
   "cell_type": "code",
   "execution_count": 24,
   "id": "457e2be9-e9af-4c3d-a3e5-e9ef1aa829d4",
   "metadata": {},
   "outputs": [
    {
     "name": "stdout",
     "output_type": "stream",
     "text": [
      "Selected features: ['sttl', 'ct_state_ttl', 'dmeansz', 'Sload', 'ackdat', 'dttl', 'sbytes', 'synack', 'tcprtt', 'smeansz', 'Dload', 'state', 'dbytes', 'Dintpkt', 'dur', 'Ltime', 'Stime', 'ct_srv_dst']\n",
      "Epoch 1/5\n",
      "\u001b[1m27180/27180\u001b[0m \u001b[32m━━━━━━━━━━━━━━━━━━━━\u001b[0m\u001b[37m\u001b[0m \u001b[1m24s\u001b[0m 880us/step - accuracy: 0.9926 - loss: 0.0266\n",
      "Epoch 2/5\n",
      "\u001b[1m27180/27180\u001b[0m \u001b[32m━━━━━━━━━━━━━━━━━━━━\u001b[0m\u001b[37m\u001b[0m \u001b[1m24s\u001b[0m 866us/step - accuracy: 0.9965 - loss: 0.0077\n",
      "Epoch 3/5\n",
      "\u001b[1m27180/27180\u001b[0m \u001b[32m━━━━━━━━━━━━━━━━━━━━\u001b[0m\u001b[37m\u001b[0m \u001b[1m23s\u001b[0m 843us/step - accuracy: 0.9967 - loss: 0.0074\n",
      "Epoch 4/5\n",
      "\u001b[1m27180/27180\u001b[0m \u001b[32m━━━━━━━━━━━━━━━━━━━━\u001b[0m\u001b[37m\u001b[0m \u001b[1m24s\u001b[0m 873us/step - accuracy: 0.9969 - loss: 0.0069\n",
      "Epoch 5/5\n",
      "\u001b[1m27180/27180\u001b[0m \u001b[32m━━━━━━━━━━━━━━━━━━━━\u001b[0m\u001b[37m\u001b[0m \u001b[1m24s\u001b[0m 866us/step - accuracy: 0.9967 - loss: 0.0067\n",
      "\u001b[1m6796/6796\u001b[0m \u001b[32m━━━━━━━━━━━━━━━━━━━━\u001b[0m\u001b[37m\u001b[0m \u001b[1m3s\u001b[0m 508us/step\n",
      "Final Test Set Report (using best_k features):\n",
      "              precision    recall  f1-score   support\n",
      "\n",
      "           0       1.00      1.00      1.00    212998\n",
      "           1       0.91      0.94      0.93      4443\n",
      "\n",
      "    accuracy                           1.00    217441\n",
      "   macro avg       0.95      0.97      0.96    217441\n",
      "weighted avg       1.00      1.00      1.00    217441\n",
      "\n"
     ]
    }
   ],
   "source": [
    "# ----- Final train on all trainval with best_k features; evaluate once on test -----\n",
    "selected_features = top_features[:18]\n",
    "print(\"Selected features:\", selected_features)\n",
    "\n",
    "Xtr_sel = X_trainval_df[selected_features].values\n",
    "Xte_sel = X_test_df[selected_features].values\n",
    "\n",
    "scaler_full = StandardScaler().fit(Xtr_sel)\n",
    "Xtr_sel = scaler_full.transform(Xtr_sel)\n",
    "Xte_sel = scaler_full.transform(Xte_sel)\n",
    "\n",
    "final_model = build_model(input_dim=Xtr_sel.shape[1])\n",
    "final_model.fit(\n",
    "    Xtr_sel, y_trainval,\n",
    "    epochs=best_params['epochs'],\n",
    "    batch_size=best_params['batch_size'],\n",
    "    verbose=1\n",
    ")\n",
    "\n",
    "test_preds = (final_model.predict(Xte_sel, verbose=1).ravel() > 0.5).astype(int)\n",
    "final_report = classification_report(y_test, test_preds, zero_division=0)\n",
    "print(\"Final Test Set Report (using best_k features):\")\n",
    "print(final_report)"
   ]
  },
  {
   "cell_type": "code",
   "execution_count": 25,
   "id": "0a7dc856-cb00-41a6-9c42-542188d326e1",
   "metadata": {},
   "outputs": [
    {
     "name": "stdout",
     "output_type": "stream",
     "text": [
      "Test Accuracy: 99.69%\n",
      "Test Precision: 99.70%\n",
      "Test Recall: 99.69%\n"
     ]
    }
   ],
   "source": [
    "from sklearn.metrics import accuracy_score, precision_score, recall_score\n",
    "# Calculate metrics\n",
    "accuracy = accuracy_score(y_test, test_preds)\n",
    "precision = precision_score(y_test, test_preds, average='weighted')  # Use 'macro' or 'micro' for different averaging\n",
    "recall = recall_score(y_test, test_preds, average='weighted')\n",
    "\n",
    "# Print results\n",
    "print(f\"Test Accuracy: {accuracy * 100:.2f}%\")\n",
    "print(f\"Test Precision: {precision * 100:.2f}%\")\n",
    "print(f\"Test Recall: {recall * 100:.2f}%\")\n"
   ]
  },
  {
   "cell_type": "code",
   "execution_count": 26,
   "id": "516a2900-0508-43e4-8a7e-3bb67dacfbea",
   "metadata": {},
   "outputs": [
    {
     "data": {
      "image/png": "[encoded data removed]",
      "text/plain": [
       "<Figure size 600x400 with 2 Axes>"
      ]
     },
     "metadata": {},
     "output_type": "display_data"
    },
    {
     "name": "stdout",
     "output_type": "stream",
     "text": [
      "                precision    recall  f1-score   support\n",
      "\n",
      "Normal Traffic       1.00      1.00      1.00    212998\n",
      "        Attack       0.91      0.94      0.93      4443\n",
      "\n",
      "      accuracy                           1.00    217441\n",
      "     macro avg       0.95      0.97      0.96    217441\n",
      "  weighted avg       1.00      1.00      1.00    217441\n",
      "\n"
     ]
    }
   ],
   "source": [
    "import matplotlib.pyplot as plt\n",
    "import seaborn as sns\n",
    "from sklearn.metrics import confusion_matrix, classification_report\n",
    "\n",
    "# Compute confusion matrix\n",
    "cm = confusion_matrix(y_test, test_preds)\n",
    "\n",
    "# Plot the confusion matrix\n",
    "plt.figure(figsize=(6, 4))\n",
    "sns.heatmap(cm, annot=True, fmt='d', cmap='Blues', xticklabels=['Normal Traffic (0)', 'Attack (1)'], yticklabels=['Normal Traffic (0)', 'Attack (1)'])\n",
    "plt.xlabel('Predicted')\n",
    "plt.ylabel('Actual')\n",
    "plt.title('Confusion Matrix')\n",
    "plt.show()\n",
    "\n",
    "# Print detailed classification report\n",
    "print(classification_report(y_test, test_preds, target_names=['Normal Traffic', 'Attack']))\n"
   ]
  },
  {
   "cell_type": "code",
   "execution_count": 27,
   "id": "35ddf299-78fa-43ac-bc6b-5f15b06ed79a",
   "metadata": {},
   "outputs": [],
   "source": [
    "# # Save the trained model\n",
    "final_model.save(\"UNSW_NB15_csv_final.keras\")"
   ]
  },
  {
   "cell_type": "code",
   "execution_count": 4,
   "id": "009b51bb-82fb-4a44-9867-24cd6df3b73c",
   "metadata": {},
   "outputs": [],
   "source": [
    "from tensorflow.keras.models import load_model\n",
    "final_model = load_model(r\"C:\\Users\\ulami\\Desktop\\magisterka\\models_final\\UNSW_NB15_csv_final.keras\")   "
   ]
  },
  {
   "cell_type": "markdown",
   "id": "e3e777b8-4720-4717-93fe-66f75d952ac1",
   "metadata": {},
   "source": [
    "# FGSM"
   ]
  },
  {
   "cell_type": "code",
   "execution_count": 28,
   "id": "fc80053c-8197-44e5-9228-240f611a9ebe",
   "metadata": {},
   "outputs": [
    {
     "name": "stdout",
     "output_type": "stream",
     "text": [
      "Gradient stats:\n",
      "  Min: -3.9291232\n",
      "  Max: 4.3569474\n",
      "  Mean: -0.008619775\n",
      "Avg abs gradient per feature: [0.03051898 0.01534259 0.0609132  0.01201133 0.01668486 0.01105658\n",
      " 0.02145385 0.02034364 0.01009674 0.04133483 0.01569602 0.03373316\n",
      " 0.0441159  0.00819941 0.1075601  0.05633737 0.05742814 0.17042114]\n"
     ]
    }
   ],
   "source": [
    "import tensorflow as tf\n",
    "import numpy as np\n",
    "\n",
    "# Separate attack and normal samples\n",
    "X_test_attack = Xte_sel[y_test == 1]\n",
    "y_test_attack = y_test[y_test == 1]\n",
    "\n",
    "X_test_normal = Xte_sel[y_test == 0]\n",
    "y_test_normal = y_test[y_test == 0]\n",
    "\n",
    "# Convert to tensors\n",
    "X_attack_tensor = tf.convert_to_tensor(X_test_attack, dtype=tf.float32)\n",
    "y_attack_tensor = tf.convert_to_tensor(y_test_attack.astype(np.float32))  # <- remove .values\n",
    "\n",
    "# FGSM\n",
    "def fgsm_attack(model, X, y, epsilon):\n",
    "    with tf.GradientTape() as tape:\n",
    "        tape.watch(X)\n",
    "        predictions = model(X)\n",
    "        loss = tf.keras.losses.binary_crossentropy(tf.reshape(y, (-1, 1)), predictions)\n",
    "    gradient = tape.gradient(loss, X)\n",
    "     # Print gradient statistics\n",
    "    print(\"Gradient stats:\")\n",
    "    print(\"  Min:\", tf.reduce_min(gradient).numpy())\n",
    "    print(\"  Max:\", tf.reduce_max(gradient).numpy())\n",
    "    print(\"  Mean:\", tf.reduce_mean(gradient).numpy()) \n",
    "    avg_abs_grad = tf.reduce_mean(tf.abs(gradient), axis=0)\n",
    "    print(\"Avg abs gradient per feature:\", avg_abs_grad.numpy())\n",
    "    signed_grad = tf.sign(gradient)\n",
    "    X_adv = X + epsilon * signed_grad\n",
    "    return X_adv.numpy()\n",
    "\n",
    "# Generate adversarial attack examples\n",
    "epsilon = 0.3\n",
    "X_attack_adv = fgsm_attack(final_model, X_attack_tensor, y_attack_tensor, epsilon=epsilon)\n",
    "\n",
    "# Combine normal and adversarial attack samples back together\n",
    "X_test_combined = np.vstack((X_test_normal, X_attack_adv))\n",
    "y_test_combined = np.hstack((y_test_normal, y_test_attack))\n",
    "\n",
    "# shuffle the test set\n",
    "from sklearn.utils import shuffle\n",
    "X_test_adv_final, y_test_adv_final = shuffle(X_test_combined, y_test_combined, random_state=1)"
   ]
  },
  {
   "cell_type": "code",
   "execution_count": 30,
   "id": "884c136a-230b-42b8-a9d6-c4ba08b1de4a",
   "metadata": {},
   "outputs": [
    {
     "name": "stdout",
     "output_type": "stream",
     "text": [
      "\u001b[1m6796/6796\u001b[0m \u001b[32m━━━━━━━━━━━━━━━━━━━━\u001b[0m\u001b[37m\u001b[0m \u001b[1m6s\u001b[0m 812us/step\n",
      "Test Accuracy: 98.71%\n",
      "Test Precision: 98.56%\n",
      "Test Recall: 98.71%\n"
     ]
    }
   ],
   "source": [
    "from sklearn.metrics import accuracy_score, precision_score, recall_score\n",
    "\n",
    "# Get predictions\n",
    "y_pred = final_model.predict(X_test_adv_final)\n",
    "y_pred = (y_pred > 0.5).astype(int)\n",
    "\n",
    "# Calculate metrics\n",
    "accuracy = accuracy_score(y_test_adv_final, y_pred)\n",
    "precision = precision_score(y_test_adv_final, y_pred, average='weighted')\n",
    "recall = recall_score(y_test_adv_final, y_pred, average='weighted')\n",
    "\n",
    "# Print results\n",
    "print(f\"Test Accuracy: {accuracy * 100:.2f}%\")\n",
    "print(f\"Test Precision: {precision * 100:.2f}%\")\n",
    "print(f\"Test Recall: {recall * 100:.2f}%\")\n"
   ]
  },
  {
   "cell_type": "code",
   "execution_count": 31,
   "id": "1608e8e1-0677-4bc6-949d-914ba0c75cee",
   "metadata": {},
   "outputs": [
    {
     "data": {
      "image/png": "[encoded data removed]",
      "text/plain": [
       "<Figure size 600x400 with 2 Axes>"
      ]
     },
     "metadata": {},
     "output_type": "display_data"
    },
    {
     "name": "stdout",
     "output_type": "stream",
     "text": [
      "                precision    recall  f1-score   support\n",
      "\n",
      "Normal Traffic       0.99      1.00      0.99    212998\n",
      "        Attack       0.83      0.46      0.59      4443\n",
      "\n",
      "      accuracy                           0.99    217441\n",
      "     macro avg       0.91      0.73      0.79    217441\n",
      "  weighted avg       0.99      0.99      0.99    217441\n",
      "\n"
     ]
    }
   ],
   "source": [
    "import matplotlib.pyplot as plt\n",
    "import seaborn as sns\n",
    "from sklearn.metrics import confusion_matrix, classification_report\n",
    "\n",
    "# Compute confusion matrix\n",
    "cm = confusion_matrix(y_test_adv_final, y_pred)\n",
    "\n",
    "# Plot the confusion matrix\n",
    "plt.figure(figsize=(6, 4))\n",
    "sns.heatmap(cm, annot=True, fmt='d', cmap='Blues', xticklabels=['Normal Traffic (0)', 'Attack (1)'], yticklabels=['Normal Traffic (0)', 'Attack (1)'])\n",
    "plt.xlabel('Predicted')\n",
    "plt.ylabel('Actual')\n",
    "plt.title('Confusion Matrix')\n",
    "plt.show()\n",
    "\n",
    "# Print detailed classification report\n",
    "print(classification_report(y_test_adv_final, y_pred, target_names=['Normal Traffic', 'Attack']))\n"
   ]
  },
  {
   "cell_type": "code",
   "execution_count": 32,
   "id": "b250fb2c-388c-449d-a154-56dce27d3808",
   "metadata": {},
   "outputs": [
    {
     "name": "stdout",
     "output_type": "stream",
     "text": [
      "Total attack samples: 4443\n",
      "Flipped 1→0 (attack→normal): 2144 (48.26%)\n",
      "Flipped 0→1 (normal→attack): 7 (0.16%)\n",
      "Stayed 1→1: 2054 (46.23%)\n",
      "Stayed 0→0: 238 (5.36%)\n",
      "\n",
      "Transition table (orig → adv):\n",
      " adv      0     1\n",
      "orig            \n",
      "0      238     7\n",
      "1     2144  2054\n"
     ]
    }
   ],
   "source": [
    "import numpy as np\n",
    "import pandas as pd\n",
    "\n",
    "# Predictions on the (scaled) originals and adversarials\n",
    "p_orig_attack = final_model.predict(X_test_attack, verbose=0).ravel()\n",
    "p_adv_attack  = final_model.predict(X_attack_adv,  verbose=0).ravel()\n",
    "\n",
    "orig_pred = (p_orig_attack > 0.5).astype(int)\n",
    "adv_pred  = (p_adv_attack  > 0.5).astype(int)\n",
    "\n",
    "# Masks for transitions\n",
    "mask_1_to_0 = (orig_pred == 1) & (adv_pred == 0)  # attack → normal\n",
    "mask_0_to_1 = (orig_pred == 0) & (adv_pred == 1)  # normal → attack (on the same attack samples)\n",
    "\n",
    "n_1_to_0 = int(mask_1_to_0.sum())\n",
    "n_0_to_1 = int(mask_0_to_1.sum())\n",
    "\n",
    "# Optional: unchanged counts\n",
    "n_1_to_1 = int(((orig_pred == 1) & (adv_pred == 1)).sum())\n",
    "n_0_to_0 = int(((orig_pred == 0) & (adv_pred == 0)).sum())\n",
    "\n",
    "total = len(orig_pred)\n",
    "\n",
    "print(f\"Total attack samples: {total}\")\n",
    "print(f\"Flipped 1→0 (attack→normal): {n_1_to_0} ({n_1_to_0/total:.2%})\")\n",
    "print(f\"Flipped 0→1 (normal→attack): {n_0_to_1} ({n_0_to_1/total:.2%})\")\n",
    "print(f\"Stayed 1→1: {n_1_to_1} ({n_1_to_1/total:.2%})\")\n",
    "print(f\"Stayed 0→0: {n_0_to_0} ({n_0_to_0/total:.2%})\")\n",
    "\n",
    "# Optional: a tidy 2×2 table of transitions\n",
    "transition = pd.crosstab(pd.Series(orig_pred, name=\"orig\"),\n",
    "                         pd.Series(adv_pred,  name=\"adv\"))\n",
    "print(\"\\nTransition table (orig → adv):\\n\", transition)\n"
   ]
  },
  {
   "cell_type": "code",
   "execution_count": 35,
   "id": "5f34e072-8630-41c6-85c8-786ae3fe9128",
   "metadata": {},
   "outputs": [
    {
     "name": "stdout",
     "output_type": "stream",
     "text": [
      "Total attack samples: 4443\n",
      "Flipped (1→0): 2144\n",
      "\n",
      "🟦 Original Attack Samples (that later flipped 1→0):\n",
      "\n",
      "    sttl  ct_state_ttl  dmeansz         Sload    ackdat   dttl   sbytes    synack    tcprtt  \\\n",
      "0  254.0           2.0      0.0  4.560000e+07  0.000000    0.0    114.0  0.000000  0.000000   \n",
      "1  254.0           2.0      0.0  5.066666e+07  0.000000    0.0    114.0  0.000000  0.000000   \n",
      "2  254.0           2.0      0.0  4.145454e+07  0.000000    0.0    114.0  0.000000  0.000000   \n",
      "3  254.0           2.0      0.0  5.700000e+07  0.000000    0.0    114.0  0.000000  0.000000   \n",
      "4  254.0           2.0      0.0  6.514286e+07  0.000000    0.0    114.0  0.000000  0.000000   \n",
      "5   62.0           1.0    375.0  2.141865e+03  0.055738  252.0    364.0  0.087962  0.143700   \n",
      "6   62.0           1.0     75.0  1.058107e+05  0.097859  252.0  48383.0  0.075140  0.172999   \n",
      "7  254.0           2.0      0.0  6.109091e+07  0.000000    0.0    168.0  0.000000  0.000000   \n",
      "8  254.0           2.0      0.0  4.560000e+07  0.000000    0.0    114.0  0.000000  0.000000   \n",
      "9  254.0           1.0     45.0  1.926545e+04  0.075242  252.0   2516.0  0.096398  0.171640   \n",
      "\n",
      "   smeansz         Dload  state  dbytes       Dintpkt       dur         Ltime         Stime  \\\n",
      "0     57.0      0.000000    6.0     0.0 -1.421085e-14  0.000010  1.421932e+09  1.421932e+09   \n",
      "1     57.0      0.000000    6.0     0.0 -1.421085e-14  0.000009  1.421931e+09  1.421931e+09   \n",
      "2     57.0      0.000000    6.0     0.0 -1.421085e-14  0.000011  1.421931e+09  1.421931e+09   \n",
      "3     57.0      0.000000    6.0     0.0 -1.421085e-14  0.000008  1.421934e+09  1.421934e+09   \n",
      "4     57.0      0.000000    6.0     0.0 -1.421085e-14  0.000007  1.421931e+09  1.421931e+09   \n",
      "5     46.0  22687.654300    5.0  3754.0  1.226131e+02  1.191485  1.421931e+09  1.421931e+09   \n",
      "6    896.0   4175.565430    5.0  1948.0  1.374046e+02  3.590412  1.421928e+09  1.421928e+09   \n",
      "7     84.0      0.000000    6.0     0.0 -1.421085e-14  0.000011  1.421930e+09  1.421930e+09   \n",
      "8     57.0      0.000000    6.0     0.0 -1.421085e-14  0.000010  1.421932e+09  1.421932e+09   \n",
      "9    252.0   1905.280273    5.0   268.0  1.688284e+02  0.940544  1.421933e+09  1.421933e+09   \n",
      "\n",
      "   ct_srv_dst  Prediction  \n",
      "0        11.0           1  \n",
      "1         7.0           1  \n",
      "2        13.0           1  \n",
      "3        11.0           1  \n",
      "4        11.0           1  \n",
      "5         1.0           1  \n",
      "6         1.0           1  \n",
      "7         1.0           1  \n",
      "8         9.0           1  \n",
      "9         2.0           1  \n",
      "\n",
      "🟥 Corresponding Adversarial Samples:\n",
      "\n",
      "         sttl  ct_state_ttl     dmeansz       Sload    ackdat        dttl        sbytes    synack  \\\n",
      "0  244.294159      2.091782  103.370064  32846538.0 -0.003303   -7.362175  11145.360352 -0.003530   \n",
      "1  244.294159      1.908218  103.370064  37913200.0 -0.003303    7.362172  11145.360352 -0.003530   \n",
      "2  244.294159      2.091782  103.370064  28701080.0 -0.003303   -7.362175  11145.360352 -0.003530   \n",
      "3  244.294159      2.091782  103.370064  44246536.0 -0.003303   -7.362175  11145.360352 -0.003530   \n",
      "4  244.294159      2.091782  103.370064  52389392.0 -0.003303   -7.362175  11145.360352 -0.003530   \n",
      "5   71.705841      1.091782  271.629944 -12751322.0  0.059041  244.637817  11395.359375  0.091492   \n",
      "6   71.705841      1.091782  -28.370079 -12647654.0  0.101162  244.637817  37351.640625  0.078671   \n",
      "7  244.294159      1.908218 -103.370049  48337444.0 -0.003303    7.362172 -10863.361328  0.003530   \n",
      "8  244.294159      1.908218  103.370064  32846538.0 -0.003303    7.362172  11145.360352 -0.003530   \n",
      "9  244.294159      1.091782  -58.370049 -12734198.0  0.071939  244.637817  13547.359375  0.092867   \n",
      "\n",
      "     tcprtt     smeansz        Dload     state        dbytes     Dintpkt       dur         Ltime  \\\n",
      "0 -0.006420    9.089321  1354671.625  5.583752  53339.375000 -533.972412 -4.990583  1.421928e+09   \n",
      "1 -0.006420    9.089321  1354671.625  6.416247  53339.375000 -533.972412 -4.990584  1.421927e+09   \n",
      "2 -0.006420    9.089321  1354671.625  5.583752  53339.375000 -533.972412 -4.990582  1.421927e+09   \n",
      "3 -0.006420    9.089321  1354671.625  5.583752  53339.375000 -533.972412 -4.990585  1.421930e+09   \n",
      "4 -0.006420    9.089321  1354671.625  5.583752  53339.375000 -533.972412 -4.990586  1.421927e+09   \n",
      "5  0.137280   93.910690 -1331983.750  5.416248 -49585.386719  656.585571 -3.799108  1.421935e+09   \n",
      "6  0.166579  848.089294 -1350496.250  5.416248 -51391.378906  671.377075 -1.400181  1.421932e+09   \n",
      "7 -0.006420   36.089306  1354671.625  6.416247  53339.375000  533.972473 -4.990582  1.421927e+09   \n",
      "8 -0.006420    9.089321  1354671.625  6.416247  53339.375000 -533.972412 -4.990583  1.421928e+09   \n",
      "9  0.165220  299.910675  1356576.875  5.416248 -53071.371094  702.800842 -4.050049  1.421929e+09   \n",
      "\n",
      "          Stime  ct_srv_dst  Prediction  \n",
      "0  1.421928e+09    9.680974           0  \n",
      "1  1.421927e+09    5.680974           0  \n",
      "2  1.421927e+09   11.680974           0  \n",
      "3  1.421930e+09    9.680974           0  \n",
      "4  1.421927e+09    9.680974           0  \n",
      "5  1.421935e+09    2.319026           0  \n",
      "6  1.421932e+09    2.319026           0  \n",
      "7  1.421927e+09    2.319026           0  \n",
      "8  1.421928e+09    7.680974           0  \n",
      "9  1.421929e+09    3.319026           0  \n",
      "\n",
      "🟩 Normal Samples (benign) for comparison:\n",
      "\n",
      "   sttl  ct_state_ttl  dmeansz         Sload    ackdat  dttl   sbytes    synack    tcprtt  \\\n",
      "0  31.0           0.0     91.0  1.047370e+04  0.000123  29.0   1540.0  0.000540  0.000663   \n",
      "1  31.0           0.0     89.0  5.154457e+05  0.000000  29.0    146.0  0.000000  0.000000   \n",
      "2  31.0           0.0   1458.0  1.067164e+04  0.000338  29.0  19410.0  0.000477  0.000815   \n",
      "3  31.0           0.0     91.0  4.985542e+05  0.000133  29.0   1540.0  0.000465  0.000598   \n",
      "4  31.0           0.0     81.0  5.000000e+05  0.000000  29.0    130.0  0.000000  0.000000   \n",
      "5  31.0           0.0    665.0  6.054832e+05  0.000135  29.0   3302.0  0.000504  0.000639   \n",
      "6  31.0           0.0    517.0  5.601786e+05  0.000189  29.0   2542.0  0.001958  0.002147   \n",
      "7  31.0           0.0     91.0  8.318571e+05  0.000137  29.0   1540.0  0.000472  0.000609   \n",
      "8  31.0           0.0     81.0  4.810361e+05  0.000000  29.0    130.0  0.000000  0.000000   \n",
      "9  31.0           0.0    429.0  1.839360e+06  0.000146  29.0   2334.0  0.000627  0.000773   \n",
      "\n",
      "   smeansz         Dload  state     dbytes    Dintpkt        dur         Ltime         Stime  \\\n",
      "0     96.0  1.126431e+04    5.0     1644.0  64.847766   1.102953  1.421964e+09  1.421964e+09   \n",
      "1     73.0  6.284201e+05    2.0      178.0   0.009000   0.001133  1.421939e+09  1.421939e+09   \n",
      "2     53.0  5.989569e+05    5.0  1087890.0  19.477184  14.510987  1.421957e+09  1.421957e+09   \n",
      "3     96.0  5.361875e+05    5.0     1644.0   1.335412   0.023171  1.421954e+09  1.421954e+09   \n",
      "4     65.0  6.230769e+05    2.0      162.0   0.008000   0.001040  1.421949e+09  1.421949e+09   \n",
      "5     61.0  6.830508e+06    5.0    37226.0   0.769345   0.042822  1.421946e+09  1.421946e+09   \n",
      "6     64.0  4.791232e+06    5.0    21720.0   0.815634   0.035403  1.421933e+09  1.421933e+09   \n",
      "7     96.0  8.946496e+05    5.0     1644.0   0.788882   0.013887  1.421969e+09  1.421969e+09   \n",
      "8     65.0  5.994450e+05    2.0      162.0   0.030000   0.001081  1.421935e+09  1.421935e+09   \n",
      "9     65.0  1.285283e+07    5.0    16290.0   0.249622   0.009873  1.421936e+09  1.421936e+09   \n",
      "\n",
      "   ct_srv_dst  Prediction  \n",
      "0        20.0           0  \n",
      "1         4.0           0  \n",
      "2         1.0           0  \n",
      "3        14.0           0  \n",
      "4         2.0           0  \n",
      "5        20.0           0  \n",
      "6        13.0           0  \n",
      "7         4.0           0  \n",
      "8         2.0           0  \n",
      "9        10.0           0  \n"
     ]
    }
   ],
   "source": [
    "import numpy as np\n",
    "import pandas as pd\n",
    "\n",
    "column_names = selected_features\n",
    "\n",
    "# --- Predict on scaled inputs (no inverse-transform for prediction) ---\n",
    "p_orig_attack = final_model.predict(X_test_attack, verbose=0).ravel()\n",
    "p_adv_attack  = final_model.predict(X_attack_adv,  verbose=0).ravel()\n",
    "\n",
    "orig_pred = (p_orig_attack > 0.5).astype(int)\n",
    "adv_pred  = (p_adv_attack  > 0.5).astype(int)\n",
    "\n",
    "# --- Find flips: 1 -> 0 ---\n",
    "idx_flip = np.where((orig_pred == 1) & (adv_pred == 0))[0]\n",
    "print(f\"Total attack samples: {len(X_test_attack)}\")\n",
    "print(f\"Flipped (1→0): {len(idx_flip)}\")\n",
    "\n",
    "if idx_flip.size == 0:\n",
    "    print(\"No examples flipped from attack (1) to normal (0).\")\n",
    "else:\n",
    "    # show up to N examples\n",
    "    N = 10\n",
    "    idx_show = idx_flip[:N]\n",
    "\n",
    "    # inverse-transform ONLY FOR DISPLAY\n",
    "    scaler_display = scaler if 'scaler' in locals() else scaler_full\n",
    "    X_orig_disp = scaler_display.inverse_transform(X_test_attack[idx_show])\n",
    "    X_adv_disp  = scaler_display.inverse_transform(X_attack_adv[idx_show])\n",
    "\n",
    "    # predictions (from the already-computed probs)\n",
    "    y_pred_orig = orig_pred[idx_show]\n",
    "    y_pred_adv  = adv_pred[idx_show]\n",
    "\n",
    "    # build tables like before\n",
    "    df_original = pd.DataFrame(X_orig_disp, columns=column_names)\n",
    "    df_original[\"Prediction\"] = y_pred_orig\n",
    "\n",
    "    df_adversarial = pd.DataFrame(X_adv_disp, columns=column_names)\n",
    "    df_adversarial[\"Prediction\"] = y_pred_adv\n",
    "\n",
    "    # display settings (same style as earlier)\n",
    "    pd.set_option('display.max_columns', None)\n",
    "    pd.set_option('display.precision', 6)\n",
    "    pd.set_option('display.width', 100)\n",
    "\n",
    "    print(\"\\n🟦 Original Attack Samples (that later flipped 1→0):\\n\")\n",
    "    print(df_original)\n",
    "\n",
    "    print(\"\\n🟥 Corresponding Adversarial Samples:\\n\")\n",
    "    print(df_adversarial)\n",
    "\n",
    "# 🟩 Normal samples for comparison (first up to 10)\n",
    "n_norm = min(10, len(X_test_normal))\n",
    "X_norm_scaled = X_test_normal[:n_norm]  # already scaled\n",
    "scaler_display = scaler if 'scaler' in locals() else scaler_full\n",
    "\n",
    "# Inverse-transform for display only\n",
    "X_norm_disp = scaler_display.inverse_transform(X_norm_scaled)\n",
    "\n",
    "# Predictions on scaled inputs\n",
    "y_pred_norm = (final_model.predict(X_norm_scaled, verbose=0).ravel() > 0.5).astype(int)\n",
    "\n",
    "# Build table\n",
    "df_normal = pd.DataFrame(X_norm_disp, columns=column_names)\n",
    "df_normal[\"Prediction\"] = y_pred_norm\n",
    "\n",
    "print(\"\\n🟩 Normal Samples (benign) for comparison:\\n\")\n",
    "print(df_normal)\n"
   ]
  },
  {
   "cell_type": "markdown",
   "id": "f4eabe9c-e402-49a2-8a1c-d0204714510f",
   "metadata": {},
   "source": [
    "# FGSM with real-life values "
   ]
  },
  {
   "cell_type": "code",
   "execution_count": 8,
   "id": "2b87577b-23e2-431e-8cb8-31b372b1ede9",
   "metadata": {},
   "outputs": [],
   "source": [
    "import numpy as np\n",
    "import pandas as pd\n",
    "import matplotlib.pyplot as plt\n",
    "\n",
    "from sklearn.model_selection import StratifiedKFold, train_test_split\n",
    "from sklearn.preprocessing import StandardScaler\n",
    "from sklearn.metrics import classification_report\n",
    "\n",
    "from tensorflow.keras import Input\n",
    "from tensorflow.keras.models import Sequential\n",
    "from tensorflow.keras.layers import Dense, Dropout\n",
    "from tensorflow.keras.optimizers import Adam\n",
    "from tensorflow.keras.callbacks import EarlyStopping"
   ]
  },
  {
   "cell_type": "code",
   "execution_count": 9,
   "id": "53072d1b-205a-4e30-9bd8-8ed74940b8cc",
   "metadata": {},
   "outputs": [],
   "source": [
    "X_df = data.drop(columns=['attack_cat', 'Label']) # Keep as DataFrame\n",
    "y = data['Label'].values\n",
    "\n",
    "X_trainval_df, X_test_df, y_trainval, y_test = train_test_split(\n",
    "    X_df, y, test_size=0.2, stratify=y, random_state=1\n",
    ")\n",
    "\n",
    "selected_features = ['sttl', 'ct_state_ttl', 'dmeansz', 'Sload', 'ackdat', 'dttl', 'sbytes', \n",
    " 'synack', 'tcprtt', 'smeansz', 'Dload', 'state', 'dbytes', 'Dintpkt', 'dur', 'Ltime', 'Stime', 'ct_srv_dst']\n",
    "\n",
    "Xtr_sel = X_trainval_df[selected_features].values\n",
    "Xte_sel = X_test_df[selected_features].values\n",
    "\n",
    "scaler_full = StandardScaler().fit(Xtr_sel)\n",
    "Xtr_sel = scaler_full.transform(Xtr_sel)\n",
    "Xte_sel = scaler_full.transform(Xte_sel)"
   ]
  },
  {
   "cell_type": "code",
   "execution_count": 10,
   "id": "49556048-d7fa-4dd7-8a19-5dca39d53bc0",
   "metadata": {},
   "outputs": [],
   "source": [
    "import numpy as np\n",
    "\n",
    "def enforce_unsw_constraints_in_scaled_space(X_scaled, scaler, feature_order):\n",
    "    \"\"\"\n",
    "    Enforce UNSW-NB15 constraints directly in scaled space:\n",
    "      - sttl:    integer in [0, 255]\n",
    "      - sbytes:  integer >= 1   (force > 0 as requested)\n",
    "      - smeansz: float  > 0\n",
    "      - Sload:   recompute consistently as 8*sbytes/dur when dur>0, else 0; clamp >= 0\n",
    "    Everything else untouched.\n",
    "    Requires a StandardScaler-like scaler (mean_, scale_).\n",
    "    \"\"\"\n",
    "    Xs = np.asarray(X_scaled, dtype=np.float64, order=\"C\")\n",
    "\n",
    "    if not hasattr(scaler, \"mean_\") or not hasattr(scaler, \"scale_\"):\n",
    "        raise ValueError(\"This function expects a StandardScaler (with mean_ and scale_).\")\n",
    "\n",
    "    mean = np.asarray(scaler.mean_, dtype=np.float64)\n",
    "    scale = np.asarray(scaler.scale_, dtype=np.float64)\n",
    "    col = {c: i for i, c in enumerate(feature_order)}\n",
    "\n",
    "    def _to_orig(z, j):     return z * scale[j] + mean[j]\n",
    "    def _to_scaled(x, j):   return (x - mean[j]) / scale[j]\n",
    "    def _rint_clip_nonneg(x, lo=0):  # round to nearest int, then clip >= lo\n",
    "        x = np.rint(x)\n",
    "        return np.clip(x, lo, None)\n",
    "\n",
    "    eps_pos = 1e-9  # for strict positivity\n",
    "\n",
    "    # ---- sttl: integer [0,255] ----\n",
    "    if 'sttl' in col:\n",
    "        j = col['sttl']\n",
    "        x = _to_orig(Xs[:, j], j)\n",
    "        x = np.clip(np.rint(x), 0, 255)   # exact integer\n",
    "        Xs[:, j] = _to_scaled(x, j)\n",
    "\n",
    "    # ---- sbytes: integer >= 1 ----\n",
    "    j_sbytes = col.get('sbytes', None)\n",
    "    if j_sbytes is not None:\n",
    "        x = _to_orig(Xs[:, j_sbytes], j_sbytes)\n",
    "        x = _rint_clip_nonneg(x, lo=1)    # force > 0 → min 1\n",
    "        Xs[:, j_sbytes] = _to_scaled(x, j_sbytes)\n",
    "        sbytes_orig = x\n",
    "    else:\n",
    "        sbytes_orig = None\n",
    "\n",
    "    # ---- smeansz: strictly > 0 ----\n",
    "    if 'smeansz' in col:\n",
    "        j = col['smeansz']\n",
    "        x = _to_orig(Xs[:, j], j)\n",
    "        x = np.maximum(x, eps_pos)\n",
    "        Xs[:, j] = _to_scaled(x, j)\n",
    "\n",
    "    # ---- Sload: recompute from sbytes & dur when possible, clamp >= 0 ----\n",
    "    j_sload = col.get('Sload', None)\n",
    "    j_dur   = col.get('dur',   None)\n",
    "\n",
    "    if (j_sload is not None) and (sbytes_orig is not None) and (j_dur is not None):\n",
    "        dur_orig = _to_orig(Xs[:, j_dur], j_dur)\n",
    "        # safe denom: if dur <= 0 -> set rate = 0\n",
    "        with np.errstate(divide='ignore', invalid='ignore'):\n",
    "            sload_new = np.where(dur_orig > 0.0, 8.0 * sbytes_orig / dur_orig, 0.0)\n",
    "        sload_new = np.maximum(sload_new, 0.0)\n",
    "        Xs[:, j_sload] = _to_scaled(sload_new, j_sload)\n",
    "    elif j_sload is not None:\n",
    "        # If we can't recompute, at least clamp Sload >= 0\n",
    "        x = _to_orig(Xs[:, j_sload], j_sload)\n",
    "        x = np.maximum(x, 0.0)\n",
    "        Xs[:, j_sload] = _to_scaled(x, j_sload)\n",
    "\n",
    "    return Xs\n"
   ]
  },
  {
   "cell_type": "code",
   "execution_count": 39,
   "id": "86a93c6c-d5f6-488b-8629-c60a2a9523ec",
   "metadata": {},
   "outputs": [
    {
     "name": "stdout",
     "output_type": "stream",
     "text": [
      "Gradient stats:\n",
      "  Min: -3.9291232\n",
      "  Max: 4.3569474\n",
      "  Mean: -0.008619775\n",
      "Avg abs gradient per feature: [0.03051898 0.01534259 0.0609132  0.01201133 0.01668486 0.01105658\n",
      " 0.02145385 0.02034364 0.01009674 0.04133483 0.01569602 0.03373316\n",
      " 0.0441159  0.00819941 0.1075601  0.05633737 0.05742814 0.17042114]\n"
     ]
    }
   ],
   "source": [
    "import tensorflow as tf\n",
    "import numpy as np\n",
    "\n",
    "# ---- Split attack/normal on the (scaled) test set ----\n",
    "X_test_attack = Xte_sel[y_test == 1]\n",
    "y_test_attack = y_test[y_test == 1]\n",
    "\n",
    "X_test_normal = Xte_sel[y_test == 0]\n",
    "y_test_normal = y_test[y_test == 0]\n",
    "\n",
    "# Convert to tensors\n",
    "X_attack_tensor = tf.convert_to_tensor(X_test_attack, dtype=tf.float32)\n",
    "y_attack_tensor = tf.convert_to_tensor(y_test_attack.astype(np.float32))\n",
    "\n",
    "# Feature order & scaler used in training\n",
    "feature_order = selected_features  # e.g. ['Offset','sTtl','sMeanPktSz','sHops','State']\n",
    "scaler_project = scaler if 'scaler' in locals() else scaler_full\n",
    "feat_idx = {c: i for i, c in enumerate(feature_order)}\n",
    "\n",
    "# ---- FGSM with feature mask (exclude 'State') ----\n",
    "def fgsm_attack(model, X, y, epsilon, feature_mask=None):\n",
    "    with tf.GradientTape() as tape:\n",
    "        tape.watch(X)\n",
    "        predictions = model(X)\n",
    "        loss = tf.keras.losses.binary_crossentropy(tf.reshape(y, (-1, 1)), predictions)\n",
    "    gradient = tape.gradient(loss, X)\n",
    "\n",
    "    # Optional debug\n",
    "    print(\"Gradient stats:\")\n",
    "    print(\"  Min:\", tf.reduce_min(gradient).numpy())\n",
    "    print(\"  Max:\", tf.reduce_max(gradient).numpy())\n",
    "    print(\"  Mean:\", tf.reduce_mean(gradient).numpy())\n",
    "    print(\"Avg abs gradient per feature:\", tf.reduce_mean(tf.abs(gradient), axis=0).numpy())\n",
    "\n",
    "    signed_grad = tf.sign(gradient)\n",
    "    if feature_mask is not None:\n",
    "        mask = tf.reshape(tf.convert_to_tensor(feature_mask, dtype=X.dtype), (1, -1))\n",
    "        signed_grad = signed_grad * mask  # broadcast across batch\n",
    "\n",
    "    X_adv = X + epsilon * signed_grad\n",
    "    return X_adv.numpy()\n",
    "\n",
    "# ---- FGSM with UNSW-NB15 realism mask (using your selected_features) ----\n",
    "feat_idx = {c: i for i, c in enumerate(selected_features)}\n",
    "\n",
    "# Start with all features frozen (0)\n",
    "mask_vec = np.zeros(X_test_attack.shape[1], dtype=np.float32)\n",
    "\n",
    "# Whitelist the 4 source-controllable features\n",
    "for feat in ['sttl', 'Sload', 'sbytes', 'smeansz']:\n",
    "    if feat in feat_idx:\n",
    "        mask_vec[feat_idx[feat]] = 1.0\n",
    "\n",
    "epsilon = 0.3\n",
    "X_attack_adv = fgsm_attack(\n",
    "    final_model,\n",
    "    X_attack_tensor,\n",
    "    y_attack_tensor,\n",
    "    epsilon=epsilon,\n",
    "    feature_mask=mask_vec\n",
    ")\n",
    "\n",
    "\n",
    "# X_attack_adv = enforce_realistic_values_and_rescale(\n",
    "#     X_attack_adv, X_test_attack, scaler_project, feature_order\n",
    "# )\n",
    "\n",
    "X_attack_adv = enforce_unsw_constraints_in_scaled_space(\n",
    "    X_attack_adv, scaler_project, selected_features\n",
    ")\n",
    "\n",
    "# ---- Rebuild the (scaled) test set and labels ----\n",
    "X_test_combined = np.vstack((X_test_normal, X_attack_adv))\n",
    "y_test_combined = np.hstack((y_test_normal, y_test_attack))\n",
    "\n",
    "from sklearn.utils import shuffle\n",
    "X_test_adv_final, y_test_adv_final = shuffle(\n",
    "    X_test_combined, y_test_combined, random_state=1\n",
    ")\n"
   ]
  },
  {
   "cell_type": "code",
   "execution_count": 40,
   "id": "46d25934-7e91-47f3-8718-a45feea45861",
   "metadata": {},
   "outputs": [
    {
     "name": "stdout",
     "output_type": "stream",
     "text": [
      "\u001b[1m6796/6796\u001b[0m \u001b[32m━━━━━━━━━━━━━━━━━━━━\u001b[0m\u001b[37m\u001b[0m \u001b[1m6s\u001b[0m 817us/step\n",
      "Test Accuracy: 99.66%\n",
      "Test Precision: 99.67%\n",
      "Test Recall: 99.66%\n"
     ]
    }
   ],
   "source": [
    "from sklearn.metrics import accuracy_score, precision_score, recall_score\n",
    "\n",
    "# Get predictions\n",
    "y_pred = final_model.predict(X_test_adv_final)\n",
    "y_pred = (y_pred > 0.5).astype(int)\n",
    "\n",
    "# Calculate metrics\n",
    "accuracy = accuracy_score(y_test_adv_final, y_pred)\n",
    "precision = precision_score(y_test_adv_final, y_pred, average='weighted')\n",
    "recall = recall_score(y_test_adv_final, y_pred, average='weighted')\n",
    "\n",
    "# Print results\n",
    "print(f\"Test Accuracy: {accuracy * 100:.2f}%\")\n",
    "print(f\"Test Precision: {precision * 100:.2f}%\")\n",
    "print(f\"Test Recall: {recall * 100:.2f}%\")\n"
   ]
  },
  {
   "cell_type": "code",
   "execution_count": 41,
   "id": "02b45289-d19e-4255-a004-b320c7d20cfc",
   "metadata": {},
   "outputs": [
    {
     "data": {
      "image/png": "[encoded data removed]",
      "text/plain": [
       "<Figure size 600x400 with 2 Axes>"
      ]
     },
     "metadata": {},
     "output_type": "display_data"
    },
    {
     "name": "stdout",
     "output_type": "stream",
     "text": [
      "                precision    recall  f1-score   support\n",
      "\n",
      "Normal Traffic       1.00      1.00      1.00    212998\n",
      "        Attack       0.91      0.93      0.92      4443\n",
      "\n",
      "      accuracy                           1.00    217441\n",
      "     macro avg       0.95      0.96      0.96    217441\n",
      "  weighted avg       1.00      1.00      1.00    217441\n",
      "\n"
     ]
    }
   ],
   "source": [
    "import matplotlib.pyplot as plt\n",
    "import seaborn as sns\n",
    "from sklearn.metrics import confusion_matrix, classification_report\n",
    "\n",
    "# Compute confusion matrix\n",
    "cm = confusion_matrix(y_test_adv_final, y_pred)\n",
    "\n",
    "# Plot the confusion matrix\n",
    "plt.figure(figsize=(6, 4))\n",
    "sns.heatmap(cm, annot=True, fmt='d', cmap='Blues', xticklabels=['Normal Traffic (0)', 'Attack (1)'], yticklabels=['Normal Traffic (0)', 'Attack (1)'])\n",
    "plt.xlabel('Predicted')\n",
    "plt.ylabel('Actual')\n",
    "plt.title('Confusion Matrix')\n",
    "plt.show()\n",
    "\n",
    "# Print detailed classification report\n",
    "print(classification_report(y_test_adv_final, y_pred, target_names=['Normal Traffic', 'Attack']))\n"
   ]
  },
  {
   "cell_type": "code",
   "execution_count": 42,
   "id": "4329c873-1a1e-44cf-986e-660f75a79e88",
   "metadata": {},
   "outputs": [
    {
     "name": "stdout",
     "output_type": "stream",
     "text": [
      "Total attack samples: 4443\n",
      "Flipped (1→0): 80\n",
      "\n",
      "🟦 Original Attack Samples (that later flipped 1→0):\n",
      "\n",
      "    sttl  ct_state_ttl  dmeansz         Sload    ackdat   dttl  sbytes    synack    tcprtt  \\\n",
      "0  254.0           2.0      0.0  6.109091e+07  0.000000    0.0   168.0  0.000000  0.000000   \n",
      "1  254.0           1.0     44.0  8.035181e+03  0.051902  252.0   566.0  0.066502  0.118404   \n",
      "2  254.0           2.0      0.0  2.836364e+07  0.000000    0.0    78.0  0.000000  0.000000   \n",
      "3  254.0           1.0     45.0  9.680871e+03  0.061410  252.0   490.0  0.071406  0.132816   \n",
      "4  254.0           1.0     45.0  1.527570e+04  0.038910  252.0   756.0  0.083052  0.121962   \n",
      "5  254.0           1.0     81.0  1.220943e+04  0.032274  252.0   994.0  0.082042  0.114316   \n",
      "6  254.0           1.0     44.0  6.769333e+03  0.068052  252.0   756.0  0.077196  0.145248   \n",
      "7  254.0           2.0      0.0  5.200000e+07  0.000000    0.0    78.0  0.000000  0.000000   \n",
      "8  254.0           1.0     94.0  1.434518e+04  0.072835  252.0  1258.0  0.069645  0.142480   \n",
      "9  254.0           1.0     45.0  7.409110e+03  0.058459  252.0   756.0  0.066039  0.124498   \n",
      "\n",
      "   smeansz        Dload  state  dbytes       Dintpkt       dur         Ltime         Stime  \\\n",
      "0     84.0     0.000000    6.0     0.0 -1.421085e-14  0.000011  1.421929e+09  1.421929e+09   \n",
      "1     57.0  4884.129883    5.0   354.0  6.303728e+01  0.507767  1.421930e+09  1.421930e+09   \n",
      "2     39.0     0.000000    6.0     0.0 -1.421085e-14  0.000011  1.421929e+09  1.421929e+09   \n",
      "3     49.0  4917.268066    5.0   268.0  5.860280e+01  0.364430  1.421930e+09  1.421930e+09   \n",
      "4     76.0  5024.604492    5.0   268.0  5.471840e+01  0.356645  1.421933e+09  1.421933e+09   \n",
      "5     83.0  9759.509766    5.0   810.0  5.727989e+01  0.597571  1.421934e+09  1.421934e+09   \n",
      "6     76.0  3081.488037    5.0   354.0  1.039429e+02  0.804806  1.421932e+09  1.421932e+09   \n",
      "7     39.0     0.000000    6.0     0.0 -1.421085e-14  0.000006  1.421929e+09  1.421929e+09   \n",
      "8    105.0  8142.196289    5.0   748.0  8.188371e+01  0.643561  1.421933e+09  1.421933e+09   \n",
      "9     76.0  2437.064209    5.0   268.0  1.338524e+02  0.735311  1.421932e+09  1.421932e+09   \n",
      "\n",
      "   ct_srv_dst  Prediction  \n",
      "0         5.0           1  \n",
      "1         8.0           1  \n",
      "2         6.0           1  \n",
      "3         8.0           1  \n",
      "4         6.0           1  \n",
      "5         7.0           1  \n",
      "6         7.0           1  \n",
      "7         8.0           1  \n",
      "8         5.0           1  \n",
      "9         7.0           1  \n",
      "\n",
      "🟥 Corresponding Adversarial Samples:\n",
      "\n",
      "    sttl  ct_state_ttl    dmeansz         Sload        ackdat          dttl   sbytes  \\\n",
      "0  244.0           2.0   0.000009  7.259048e+05 -1.833094e-11  1.462137e-07      1.0   \n",
      "1  244.0           1.0  43.999994  1.827137e+05  5.190200e-02  2.520000e+02  11597.0   \n",
      "2  244.0           2.0   0.000009  7.259048e+05 -1.833094e-11  1.462137e-07      1.0   \n",
      "3  244.0           1.0  44.999999  2.529100e+05  6.141000e-02  2.520000e+02  11521.0   \n",
      "4  244.0           1.0  44.999999  2.643974e+05  3.891000e-02  2.520000e+02  11787.0   \n",
      "5  244.0           1.0  81.000004  1.609851e+05  3.227400e-02  2.520000e+02  12025.0   \n",
      "6  244.0           1.0  43.999994  1.171661e+05  6.805200e-02  2.520000e+02  11787.0   \n",
      "7  244.0           2.0   0.000009  1.333100e+06 -1.833094e-11  1.462137e-07      1.0   \n",
      "8  244.0           1.0  93.999990  1.527625e+05  7.283500e-02  2.520000e+02  12289.0   \n",
      "9  244.0           1.0  44.999999  1.282396e+05  5.845900e-02  2.520000e+02  11787.0   \n",
      "\n",
      "         synack        tcprtt       smeansz        Dload  state      dbytes     Dintpkt       dur  \\\n",
      "0 -3.088273e-11 -3.063888e-11  3.608931e+01    -0.074826    6.0   -0.002379    0.000003  0.000011   \n",
      "1  6.650200e-02  1.184040e-01  1.049107e+02  4884.173081    5.0  353.999247   63.037286  0.507767   \n",
      "2 -3.088273e-11 -3.063888e-11  1.000004e-09    -0.074826    6.0   -0.002379    0.000003  0.000011   \n",
      "3  7.140600e-02  1.328160e-01  9.691069e+01  4917.278415    5.0  267.999870   58.602801  0.364430   \n",
      "4  8.305200e-02  1.219620e-01  1.239107e+02  5024.668888    5.0  267.999870   54.718396  0.356645   \n",
      "5  8.204200e-02  1.143160e-01  1.309107e+02  9759.539069    5.0  810.002599   57.279892  0.597571   \n",
      "6  7.719600e-02  1.452480e-01  1.239107e+02  3081.412708    5.0  353.999247  103.942859  0.804806   \n",
      "7 -3.088273e-11 -3.063888e-11  1.000004e-09    -0.074826    6.0   -0.002379    0.000003  0.000006   \n",
      "8  6.964500e-02  1.424800e-01  1.529107e+02  8142.222395    5.0  748.001446   81.883711  0.643561   \n",
      "9  6.603900e-02  1.244980e-01  1.239107e+02  2437.069870    5.0  267.999870  133.852406  0.735311   \n",
      "\n",
      "          Ltime         Stime  ct_srv_dst  Prediction  \n",
      "0  1.421929e+09  1.421929e+09         5.0           0  \n",
      "1  1.421930e+09  1.421930e+09         8.0           0  \n",
      "2  1.421929e+09  1.421929e+09         6.0           0  \n",
      "3  1.421930e+09  1.421930e+09         8.0           0  \n",
      "4  1.421933e+09  1.421933e+09         6.0           0  \n",
      "5  1.421934e+09  1.421934e+09         7.0           0  \n",
      "6  1.421932e+09  1.421932e+09         7.0           0  \n",
      "7  1.421929e+09  1.421929e+09         8.0           0  \n",
      "8  1.421933e+09  1.421933e+09         5.0           0  \n",
      "9  1.421932e+09  1.421932e+09         7.0           0  \n",
      "\n",
      "🟩 Normal Samples (benign) for comparison:\n",
      "\n",
      "   sttl  ct_state_ttl  dmeansz         Sload    ackdat  dttl   sbytes    synack    tcprtt  \\\n",
      "0  31.0           0.0     91.0  1.047370e+04  0.000123  29.0   1540.0  0.000540  0.000663   \n",
      "1  31.0           0.0     89.0  5.154457e+05  0.000000  29.0    146.0  0.000000  0.000000   \n",
      "2  31.0           0.0   1458.0  1.067164e+04  0.000338  29.0  19410.0  0.000477  0.000815   \n",
      "3  31.0           0.0     91.0  4.985542e+05  0.000133  29.0   1540.0  0.000465  0.000598   \n",
      "4  31.0           0.0     81.0  5.000000e+05  0.000000  29.0    130.0  0.000000  0.000000   \n",
      "5  31.0           0.0    665.0  6.054832e+05  0.000135  29.0   3302.0  0.000504  0.000639   \n",
      "6  31.0           0.0    517.0  5.601786e+05  0.000189  29.0   2542.0  0.001958  0.002147   \n",
      "7  31.0           0.0     91.0  8.318571e+05  0.000137  29.0   1540.0  0.000472  0.000609   \n",
      "8  31.0           0.0     81.0  4.810361e+05  0.000000  29.0    130.0  0.000000  0.000000   \n",
      "9  31.0           0.0    429.0  1.839360e+06  0.000146  29.0   2334.0  0.000627  0.000773   \n",
      "\n",
      "   smeansz         Dload  state     dbytes    Dintpkt        dur         Ltime         Stime  \\\n",
      "0     96.0  1.126431e+04    5.0     1644.0  64.847766   1.102953  1.421964e+09  1.421964e+09   \n",
      "1     73.0  6.284201e+05    2.0      178.0   0.009000   0.001133  1.421939e+09  1.421939e+09   \n",
      "2     53.0  5.989569e+05    5.0  1087890.0  19.477184  14.510987  1.421957e+09  1.421957e+09   \n",
      "3     96.0  5.361875e+05    5.0     1644.0   1.335412   0.023171  1.421954e+09  1.421954e+09   \n",
      "4     65.0  6.230769e+05    2.0      162.0   0.008000   0.001040  1.421949e+09  1.421949e+09   \n",
      "5     61.0  6.830508e+06    5.0    37226.0   0.769345   0.042822  1.421946e+09  1.421946e+09   \n",
      "6     64.0  4.791232e+06    5.0    21720.0   0.815634   0.035403  1.421933e+09  1.421933e+09   \n",
      "7     96.0  8.946496e+05    5.0     1644.0   0.788882   0.013887  1.421969e+09  1.421969e+09   \n",
      "8     65.0  5.994450e+05    2.0      162.0   0.030000   0.001081  1.421935e+09  1.421935e+09   \n",
      "9     65.0  1.285283e+07    5.0    16290.0   0.249622   0.009873  1.421936e+09  1.421936e+09   \n",
      "\n",
      "   ct_srv_dst  Prediction  \n",
      "0        20.0           0  \n",
      "1         4.0           0  \n",
      "2         1.0           0  \n",
      "3        14.0           0  \n",
      "4         2.0           0  \n",
      "5        20.0           0  \n",
      "6        13.0           0  \n",
      "7         4.0           0  \n",
      "8         2.0           0  \n",
      "9        10.0           0  \n"
     ]
    }
   ],
   "source": [
    "import numpy as np\n",
    "import pandas as pd\n",
    "\n",
    "column_names = selected_features\n",
    "\n",
    "# --- Predict on scaled inputs (no inverse-transform for prediction) ---\n",
    "p_orig_attack = final_model.predict(X_test_attack, verbose=0).ravel()\n",
    "p_adv_attack  = final_model.predict(X_attack_adv,  verbose=0).ravel()\n",
    "\n",
    "orig_pred = (p_orig_attack > 0.5).astype(int)\n",
    "adv_pred  = (p_adv_attack  > 0.5).astype(int)\n",
    "\n",
    "# --- Find flips: 1 -> 0 ---\n",
    "idx_flip = np.where((orig_pred == 1) & (adv_pred == 0))[0]\n",
    "print(f\"Total attack samples: {len(X_test_attack)}\")\n",
    "print(f\"Flipped (1→0): {len(idx_flip)}\")\n",
    "\n",
    "if idx_flip.size == 0:\n",
    "    print(\"No examples flipped from attack (1) to normal (0).\")\n",
    "else:\n",
    "    # show up to N examples\n",
    "    N = 10\n",
    "    idx_show = idx_flip[:N]\n",
    "\n",
    "    # inverse-transform ONLY FOR DISPLAY\n",
    "    scaler_display = scaler if 'scaler' in locals() else scaler_full\n",
    "    X_orig_disp = scaler_display.inverse_transform(X_test_attack[idx_show])\n",
    "    X_adv_disp  = scaler_display.inverse_transform(X_attack_adv[idx_show])\n",
    "\n",
    "    # predictions (from the already-computed probs)\n",
    "    y_pred_orig = orig_pred[idx_show]\n",
    "    y_pred_adv  = adv_pred[idx_show]\n",
    "\n",
    "    # build tables like before\n",
    "    df_original = pd.DataFrame(X_orig_disp, columns=column_names)\n",
    "    df_original[\"Prediction\"] = y_pred_orig\n",
    "\n",
    "    df_adversarial = pd.DataFrame(X_adv_disp, columns=column_names)\n",
    "    df_adversarial[\"Prediction\"] = y_pred_adv\n",
    "\n",
    "    # display settings (same style as earlier)\n",
    "    pd.set_option('display.max_columns', None)\n",
    "    pd.set_option('display.precision', 6)\n",
    "    pd.set_option('display.width', 100)\n",
    "\n",
    "    print(\"\\n🟦 Original Attack Samples (that later flipped 1→0):\\n\")\n",
    "    print(df_original)\n",
    "\n",
    "    print(\"\\n🟥 Corresponding Adversarial Samples:\\n\")\n",
    "    print(df_adversarial)\n",
    "\n",
    "# 🟩 Normal samples for comparison (first up to 10)\n",
    "n_norm = min(10, len(X_test_normal))\n",
    "X_norm_scaled = X_test_normal[:n_norm]  # already scaled\n",
    "scaler_display = scaler if 'scaler' in locals() else scaler_full\n",
    "\n",
    "# Inverse-transform for display only\n",
    "X_norm_disp = scaler_display.inverse_transform(X_norm_scaled)\n",
    "\n",
    "# Predictions on scaled inputs\n",
    "y_pred_norm = (final_model.predict(X_norm_scaled, verbose=0).ravel() > 0.5).astype(int)\n",
    "\n",
    "# Build table\n",
    "df_normal = pd.DataFrame(X_norm_disp, columns=column_names)\n",
    "df_normal[\"Prediction\"] = y_pred_norm\n",
    "\n",
    "print(\"\\n🟩 Normal Samples (benign) for comparison:\\n\")\n",
    "print(df_normal)\n"
   ]
  },
  {
   "cell_type": "markdown",
   "id": "e5b2fff1-134c-4f9c-a71d-b833065abae8",
   "metadata": {},
   "source": [
    "# ZOO"
   ]
  },
  {
   "cell_type": "code",
   "execution_count": 11,
   "id": "6043057e-dc82-49da-836f-596c0cc9bda7",
   "metadata": {},
   "outputs": [],
   "source": [
    "import numpy as np\n",
    "from sklearn.metrics import accuracy_score\n",
    "\n",
    "# ---------- Utilities ----------\n",
    "def predict_proba(model, X):\n",
    "    \"\"\"Return P(y=1) as a flat numpy array.\"\"\"\n",
    "    return model.predict(X, verbose=0).ravel()\n",
    "\n",
    "def bce_loss(p, y):\n",
    "    \"\"\"Binary cross-entropy (elementwise) with clipping for numerical stability.\"\"\"\n",
    "    eps = 1e-7\n",
    "    p = np.clip(p, eps, 1 - eps)\n",
    "    return -(y * np.log(p) + (1 - y) * np.log(1 - p))\n",
    "\n",
    "def loss_at_x(model, x, y_scalar):\n",
    "    \"\"\"Loss at a single point x (1D) for label y in {0,1}.\"\"\"\n",
    "    p = predict_proba(model, x[None, :])[0]\n",
    "    return bce_loss(p, y_scalar)\n",
    "\n",
    "def finite_diff_grad(model, x, y_scalar, h=1e-3):\n",
    "    \"\"\"\n",
    "    Central-difference gradient of loss wrt x.\n",
    "    Uses 2*d queries per call (d = number of features).\n",
    "    \"\"\"\n",
    "    d = x.shape[0]\n",
    "    batch_plus = np.repeat(x[None, :], d, axis=0)\n",
    "    batch_minus = batch_plus.copy()\n",
    "    for i in range(d):\n",
    "        batch_plus[i, i] += h\n",
    "        batch_minus[i, i] -= h\n",
    "\n",
    "    p_plus = predict_proba(model, batch_plus)\n",
    "    p_minus = predict_proba(model, batch_minus)\n",
    "    L_plus = bce_loss(p_plus, np.full(d, y_scalar))\n",
    "    L_minus = bce_loss(p_minus, np.full(d, y_scalar))\n",
    "\n",
    "    # central difference derivative dL/dx_i ≈ (L(x+h e_i) - L(x-h e_i)) / (2h)\n",
    "    grad = (L_plus - L_minus) / (2.0 * h)\n",
    "    queries = 2 * d\n",
    "    return grad, queries\n",
    "\n",
    "def project_linf(x0, x, eps):\n",
    "    \"\"\"Project x to the Linf ball around x0 with radius eps.\"\"\"\n",
    "    return np.clip(x, x0 - eps, x0 + eps)\n",
    "\n",
    "def project_l2(x0, x, eps):\n",
    "    \"\"\"Project x to the L2 ball around x0 with radius eps.\"\"\"\n",
    "    delta = x - x0\n",
    "    norm = np.linalg.norm(delta, ord=2)\n",
    "    if norm > eps:\n",
    "        delta = delta * (eps / (norm + 1e-12))\n",
    "    return x0 + delta\n",
    "\n",
    "# ---------- Core ZOO attacker (single example) ----------\n",
    "def zoo_attack_single(\n",
    "    model,\n",
    "    x0,\n",
    "    y_true,\n",
    "    steps=300,\n",
    "    lr=0.05,\n",
    "    h=1e-3,\n",
    "    eps=0.5,\n",
    "    norm=\"linf\",          # \"linf\" or \"l2\"\n",
    "    targeted=None,        # None for untargeted; otherwise target label in {0,1}\n",
    "    clip_min=None,\n",
    "    clip_max=None,\n",
    "    early_stop=True\n",
    "):\n",
    "    \"\"\"\n",
    "    Runs ZOO on one sample.\n",
    "    - Untargeted: ascend BCE loss for the true label until misclassification.\n",
    "    - Targeted:   descend BCE loss for the chosen target label until classified as target.\n",
    "\n",
    "    Returns: x_adv, success(bool), queries(int), iters(int)\n",
    "    \"\"\"\n",
    "    x = x0.copy()\n",
    "    queries = 0\n",
    "    d = x.size\n",
    "\n",
    "    # Choose projector\n",
    "    projector = project_linf if norm == \"linf\" else project_l2\n",
    "\n",
    "    # Initial check\n",
    "    p0 = predict_proba(model, x[None, :])[0]; queries += 1\n",
    "    y_pred0 = int(p0 > 0.5)\n",
    "    already_wrong = (y_pred0 != y_true)\n",
    "    if targeted is None and already_wrong:\n",
    "        return x, True, queries, 0  # already misclassified\n",
    "\n",
    "    for t in range(1, steps + 1):\n",
    "        # For targeted, define loss towards the target; for untargeted, towards the true label\n",
    "        label_for_loss = targeted if targeted is not None else y_true\n",
    "\n",
    "        # Zeroth-order gradient estimate of d(loss)/dx\n",
    "        grad, q = finite_diff_grad(model, x, label_for_loss, h=h)\n",
    "        queries += q\n",
    "\n",
    "        # Update rule: untargeted -> ascend; targeted -> descend\n",
    "        direction = +1.0 if targeted is None else -1.0\n",
    "        x = x + direction * lr * grad\n",
    "\n",
    "        # Project to epsilon-ball around original point\n",
    "        x = projector(x0, x, eps)\n",
    "\n",
    "        # Optional: keep within observed data range to avoid extreme z-scores\n",
    "        if (clip_min is not None) and (clip_max is not None):\n",
    "            x = np.minimum(np.maximum(x, clip_min), clip_max)\n",
    "\n",
    "        # Check success condition\n",
    "        p = predict_proba(model, x[None, :])[0]; queries += 1\n",
    "        y_pred = int(p > 0.5)\n",
    "        success = (y_pred != y_true) if targeted is None else (y_pred == targeted)\n",
    "\n",
    "        if early_stop and success:\n",
    "            return x, True, queries, t\n",
    "\n",
    "    # End of budget\n",
    "    p = predict_proba(model, x[None, :])[0]; queries += 1\n",
    "    y_pred = int(p > 0.5)\n",
    "    success = (y_pred != y_true) if targeted is None else (y_pred == targeted)\n",
    "    return x, success, queries, steps\n",
    "\n",
    "# ---------- Convenience: attack a batch and summarize ----------\n",
    "def run_zoo_attack(\n",
    "    model,\n",
    "    X,\n",
    "    y,\n",
    "    X_train_for_bounds=None,     # e.g., Xtr_sel to bound to observed range\n",
    "    max_samples=100,\n",
    "    eps=0.5,\n",
    "    norm=\"linf\",\n",
    "    steps=300,\n",
    "    lr=0.05,\n",
    "    h=1e-3,\n",
    "    targeted=None,\n",
    "    only_on_correct=True,\n",
    "    random_state=0\n",
    "):\n",
    "    rng = np.random.default_rng(random_state)\n",
    "\n",
    "    # Bounds from training data (optional but recommended for tabular)\n",
    "    if X_train_for_bounds is not None:\n",
    "        clip_min = X_train_for_bounds.min(axis=0)\n",
    "        clip_max = X_train_for_bounds.max(axis=0)\n",
    "    else:\n",
    "        clip_min = clip_max = None\n",
    "\n",
    "    # Decide which indices to attack\n",
    "    y_pred_all = (predict_proba(model, X) > 0.5).astype(int)\n",
    "    if only_on_correct:\n",
    "        candidates = np.where(y_pred_all == y)[0]\n",
    "    else:\n",
    "        candidates = np.arange(len(y))\n",
    "    rng.shuffle(candidates)\n",
    "    idxs = candidates[:max_samples]\n",
    "\n",
    "    successes = []\n",
    "    queries_list = []\n",
    "    iters_list = []\n",
    "    X_adv = np.copy(X)\n",
    "\n",
    "    for idx in idxs:\n",
    "        x0 = X[idx]\n",
    "        y_true = int(y[idx])\n",
    "        x_adv, success, q, iters = zoo_attack_single(\n",
    "            model=model,\n",
    "            x0=x0,\n",
    "            y_true=y_true,\n",
    "            steps=steps,\n",
    "            lr=lr,\n",
    "            h=h,\n",
    "            eps=eps,\n",
    "            norm=norm,\n",
    "            targeted=targeted,\n",
    "            clip_min=clip_min,\n",
    "            clip_max=clip_max,\n",
    "            early_stop=True\n",
    "        )\n",
    "        X_adv[idx] = x_adv\n",
    "        successes.append(success)\n",
    "        queries_list.append(q)\n",
    "        iters_list.append(iters)\n",
    "\n",
    "    # Metrics\n",
    "    success_rate = np.mean(successes) if len(successes) else 0.0\n",
    "    avg_queries = np.mean(queries_list) if queries_list else 0\n",
    "    avg_iters = np.mean(iters_list) if iters_list else 0\n",
    "\n",
    "    # Evaluate accuracy before/after (on attacked subset)\n",
    "    acc_before = accuracy_score(y[idxs], y_pred_all[idxs])\n",
    "    acc_after = accuracy_score(y[idxs], (predict_proba(model, X_adv[idxs]) > 0.5).astype(int))\n",
    "\n",
    "    summary = {\n",
    "        \"num_attacked\": len(idxs),\n",
    "        \"only_on_correct\": only_on_correct,\n",
    "        \"targeted\": targeted,\n",
    "        \"eps\": eps,\n",
    "        \"norm\": norm,\n",
    "        \"steps\": steps,\n",
    "        \"lr\": lr,\n",
    "        \"h\": h,\n",
    "        \"success_rate\": float(success_rate),\n",
    "        \"avg_queries\": float(avg_queries),\n",
    "        \"avg_iters\": float(avg_iters),\n",
    "        \"acc_before_on_subset\": float(acc_before),\n",
    "        \"acc_after_on_subset\": float(acc_after),\n",
    "        \"attacked_indices\": idxs,\n",
    "        \"successes_bool\": np.array(successes, dtype=bool),\n",
    "        \"queries_each\": np.array(queries_list, dtype=int),\n",
    "        \"iters_each\": np.array(iters_list, dtype=int),\n",
    "        \"X_adv\": X_adv,  # full array with adversarial versions at attacked indices\n",
    "    }\n",
    "    return summary"
   ]
  },
  {
   "cell_type": "code",
   "execution_count": 16,
   "id": "f01b1c98-2e5d-4db8-9621-151ebd85b76f",
   "metadata": {},
   "outputs": [
    {
     "name": "stdout",
     "output_type": "stream",
     "text": [
      "Attack samples in test set: 4443\n"
     ]
    }
   ],
   "source": [
    "# --- 1) Slice out ATTACK samples (y == 1) from your standardized test set ---\n",
    "attack_mask = (y_test.astype(int) == 1)\n",
    "X_attack = Xte_sel[attack_mask]\n",
    "y_attack = y_test[attack_mask].astype(int)\n",
    "\n",
    "print(f\"Attack samples in test set: {len(y_attack)}\")"
   ]
  },
  {
   "cell_type": "code",
   "execution_count": 45,
   "id": "ec483a25-25f6-476b-947e-b8f741d63ea6",
   "metadata": {},
   "outputs": [
    {
     "name": "stdout",
     "output_type": "stream",
     "text": [
      "Baseline detection rate on attack samples (TPR): 0.945\n",
      "==== ZOO on attack samples (targeted to NORMAL / 0) ====\n",
      "num_attacked: 4198\n",
      "only_on_correct: True\n",
      "targeted: 0\n",
      "eps: 0.5\n",
      "norm: linf\n",
      "steps: 300\n",
      "lr: 0.1\n",
      "h: 0.001\n",
      "success_rate: 0.9192472606002858\n",
      "avg_queries: 1073.4197236779419\n",
      "avg_iters: 28.98213434969033\n",
      "acc_before_on_subset: 1.0\n",
      "acc_after_on_subset: 0.08075273939971415\n",
      "\n",
      "--- Evasion results ---\n",
      "Detection rate on attack samples BEFORE: 0.945\n",
      "Detection rate on attack samples AFTER:  0.076\n",
      "Evasion rate among ALL attack samples:   0.924\n",
      "Evasion rate among ATTACKED subset:      0.919\n",
      "Avg queries per attacked sample:         1073.4\n",
      "\n",
      "Final Test Set Report AFTER targeted ZOO on attack samples:\n",
      "              precision    recall  f1-score   support\n",
      "\n",
      "           0       0.98      1.00      0.99    212998\n",
      "           1       0.44      0.08      0.13      4443\n",
      "\n",
      "    accuracy                           0.98    217441\n",
      "   macro avg       0.71      0.54      0.56    217441\n",
      "weighted avg       0.97      0.98      0.97    217441\n",
      "\n"
     ]
    }
   ],
   "source": [
    "# Baseline detection on those attack samples\n",
    "pred_attack_before = (final_model.predict(X_attack, verbose=0).ravel() > 0.5).astype(int)\n",
    "tpr_before = (pred_attack_before == 1).mean()  # detection rate among attack samples\n",
    "print(f\"Baseline detection rate on attack samples (TPR): {tpr_before:.3f}\")\n",
    "\n",
    "# --- 2) Run TARGETED ZOO to force label 0 (normal) on attack samples only ---\n",
    "zoo_attack_on_attacks = run_zoo_attack(\n",
    "    model=final_model,\n",
    "    X=X_attack,\n",
    "    y=y_attack,\n",
    "    X_train_for_bounds=None,   # black-box friendly; use Xtr_sel if you're OK with train-derived bounds\n",
    "    targeted=0,                # <- IMPORTANT: push to normal class\n",
    "    only_on_correct=True,      # only try to evade ones currently detected as attack\n",
    "    max_samples=min(4443, len(y_attack)),  # cap if large set\n",
    "    eps=0.5,                   # Linf radius in STANDARDIZED units\n",
    "    norm=\"linf\",\n",
    "    steps=300,\n",
    "    lr=0.1,\n",
    "    h=1e-3,\n",
    "    random_state=42\n",
    ")\n",
    "\n",
    "print(\"==== ZOO on attack samples (targeted to NORMAL / 0) ====\")\n",
    "for k, v in zoo_attack_on_attacks.items():\n",
    "    if k in {\"X_adv\", \"attacked_indices\", \"successes_bool\", \"queries_each\", \"iters_each\"}:\n",
    "        continue\n",
    "    print(f\"{k}: {v}\")\n",
    "\n",
    "# --- 3) Evaluate evasion on attacked subset and overall attack set ---\n",
    "X_attack_adv = zoo_attack_on_attacks[\"X_adv\"]  # same shape as X_attack; attacked indices modified\n",
    "attacked_local_idx = zoo_attack_on_attacks[\"attacked_indices\"]\n",
    "success_flags = zoo_attack_on_attacks[\"successes_bool\"]\n",
    "queries_each = zoo_attack_on_attacks[\"queries_each\"]\n",
    "\n",
    "# Predictions AFTER on attack-only array (includes both attacked & untouched elements)\n",
    "pred_attack_after = (final_model.predict(X_attack_adv, verbose=0).ravel() > 0.5).astype(int)\n",
    "tpr_after = (pred_attack_after == 1).mean()\n",
    "evasion_rate_all_attacks = (pred_attack_after == 0).mean()\n",
    "\n",
    "# Evasion rate restricted to actually ATTACKED samples\n",
    "evasion_rate_attacked = success_flags.mean() if len(success_flags) else 0.0\n",
    "avg_queries_attacked = queries_each.mean() if len(queries_each) else 0.0\n",
    "\n",
    "print(f\"\\n--- Evasion results ---\")\n",
    "print(f\"Detection rate on attack samples BEFORE: {tpr_before:.3f}\")\n",
    "print(f\"Detection rate on attack samples AFTER:  {tpr_after:.3f}\")\n",
    "print(f\"Evasion rate among ALL attack samples:   {evasion_rate_all_attacks:.3f}\")\n",
    "print(f\"Evasion rate among ATTACKED subset:      {evasion_rate_attacked:.3f}\")\n",
    "print(f\"Avg queries per attacked sample:         {avg_queries_attacked:.1f}\")\n",
    "\n",
    "# --- 4) (Optional) Put adversarial attacks back into the FULL test matrix ---\n",
    "# This is handy if you want to re-run a full classification report after evasion.\n",
    "Xte_adv_full = Xte_sel.copy()\n",
    "global_attack_indices = np.where(attack_mask)[0]\n",
    "Xte_adv_full[global_attack_indices] = X_attack_adv\n",
    "\n",
    "# Example: full post-attack report\n",
    "test_preds_after = (final_model.predict(Xte_adv_full, verbose=0).ravel() > 0.5).astype(int)\n",
    "\n",
    "from sklearn.metrics import classification_report\n",
    "print(\"\\nFinal Test Set Report AFTER targeted ZOO on attack samples:\")\n",
    "print(classification_report(y_test, test_preds_after, zero_division=0))\n"
   ]
  },
  {
   "cell_type": "code",
   "execution_count": null,
   "id": "6066e2221965e3ba",
   "metadata": {},
   "outputs": [],
   "source": [
    " 0       0.98      1.00      0.99    212998\n",
    "           1       0.44      0.08      0.13      4443\n",
    "\n",
    "    accuracy                           0.98    217441\n",
    "   macro avg       0.71      0.54      0.56    217441\n",
    "weighted avg       0.97      0.98      0.97    217441"
   ]
  },
  {
   "cell_type": "code",
   "execution_count": null,
   "id": "e23f93dc-8040-413f-9762-cc2dfc8db64d",
   "metadata": {},
   "outputs": [
    {
     "name": "stdout",
     "output_type": "stream",
     "text": [
      "Test Accuracy: 97.92%\n",
      "Test Precision: 97.00%\n",
      "Test Recall: 97.92%\n"
     ]
    }
   ],
   "source": [
    "from sklearn.metrics import accuracy_score, precision_score, recall_score\n",
    "\n",
    "# Get predictions\n",
    "# y_pred = final_model.predict(X_test_adv_final)\n",
    "y_pred = test_preds_after\n",
    "\n",
    "# Calculate metrics\n",
    "accuracy = accuracy_score(y_test, y_pred)\n",
    "precision = precision_score(y_test, y_pred, average='weighted')\n",
    "recall = recall_score(y_test, y_pred, average='weighted')\n",
    "\n",
    "# Print results\n",
    "print(f\"Test Accuracy: {accuracy * 100:.2f}%\")\n",
    "print(f\"Test Precision: {precision * 100:.2f}%\")\n",
    "print(f\"Test Recall: {recall * 100:.2f}%\")"
   ]
  },
  {
   "cell_type": "code",
   "execution_count": null,
   "id": "375db610-ec06-46a0-8051-d9f3ea7119e3",
   "metadata": {},
   "outputs": [
    {
     "data": {
      "image/png": "[encoded data removed]",
      "text/plain": [
       "<Figure size 600x400 with 2 Axes>"
      ]
     },
     "metadata": {},
     "output_type": "display_data"
    },
    {
     "name": "stdout",
     "output_type": "stream",
     "text": [
      "                precision    recall  f1-score   support\n",
      "\n",
      "Normal Traffic       0.98      1.00      0.99    212998\n",
      "        Attack       0.44      0.08      0.13      4443\n",
      "\n",
      "      accuracy                           0.98    217441\n",
      "     macro avg       0.71      0.54      0.56    217441\n",
      "  weighted avg       0.97      0.98      0.97    217441\n",
      "\n"
     ]
    }
   ],
   "source": [
    "import matplotlib.pyplot as plt\n",
    "import seaborn as sns\n",
    "from sklearn.metrics import confusion_matrix, classification_report\n",
    "\n",
    "# Compute confusion matrix\n",
    "cm = confusion_matrix(y_test, y_pred)\n",
    "\n",
    "# Plot the confusion matrix\n",
    "plt.figure(figsize=(6, 4))\n",
    "sns.heatmap(cm, annot=True, fmt='d', cmap='Blues', xticklabels=['Normal Traffic (0)', 'Attack (1)'], yticklabels=['Normal Traffic (0)', 'Attack (1)'])\n",
    "plt.xlabel('Predicted')\n",
    "plt.ylabel('Actual')\n",
    "plt.title('Confusion Matrix')\n",
    "plt.show()\n",
    "\n",
    "# Print detailed classification report\n",
    "print(classification_report(y_test, y_pred, target_names=['Normal Traffic', 'Attack']))\n"
   ]
  },
  {
   "cell_type": "code",
   "execution_count": 49,
   "id": "b6968339-6e6e-480a-bbf4-fe76c9a2ad0d",
   "metadata": {},
   "outputs": [
    {
     "name": "stdout",
     "output_type": "stream",
     "text": [
      "\n",
      "🟦 Original Attack Samples (that later flipped 1→0):\n",
      "\n",
      "    sttl  ct_state_ttl  dmeansz         Sload    ackdat   dttl  sbytes    synack    tcprtt  smeansz         Dload  state  dbytes       Dintpkt       dur         Ltime         Stime  ct_srv_dst\n",
      "0  254.0           2.0      0.0  4.145454e+07  0.000000    0.0   114.0  0.000000  0.000000     57.0      0.000000    6.0     0.0 -1.421085e-14  0.000011  1.421933e+09  1.421933e+09        12.0\n",
      "1  254.0           2.0      0.0  8.914286e+07  0.000000    0.0   156.0  0.000000  0.000000     78.0      0.000000    6.0     0.0 -1.421085e-14  0.000007  1.421929e+09  1.421929e+09         2.0\n",
      "2  254.0           2.0      0.0  1.140000e+08  0.000000    0.0   114.0  0.000000  0.000000     57.0      0.000000    6.0     0.0 -1.421085e-14  0.000004  1.421931e+09  1.421931e+09        13.0\n",
      "3   62.0           2.0      0.0  7.272727e+07  0.000000    0.0   200.0  0.000000  0.000000    100.0      0.000000    6.0     0.0 -1.421085e-14  0.000011  1.421929e+09  1.421929e+09         2.0\n",
      "4  254.0           2.0      0.0  5.200000e+07  0.000000    0.0    78.0  0.000000  0.000000     39.0      0.000000    6.0     0.0 -1.421085e-14  0.000006  1.421930e+09  1.421930e+09         2.0\n",
      "5  254.0           2.0      0.0  7.272727e+07  0.000000    0.0   200.0  0.000000  0.000000    100.0      0.000000    6.0     0.0 -1.421085e-14  0.000011  1.421931e+09  1.421931e+09        18.0\n",
      "6   62.0           1.0     92.0  1.619724e+04  0.072979  252.0  4204.0  0.064161  0.137140    175.0   6991.063477    5.0  1830.0  1.013208e+02  1.989969  1.421934e+09  1.421934e+09         1.0\n",
      "7  254.0           2.0      0.0  1.333333e+08  0.000000    0.0   200.0  0.000000  0.000000    100.0      0.000000    6.0     0.0 -1.421085e-14  0.000006  1.421931e+09  1.421931e+09        10.0\n",
      "8   62.0           1.0    172.0  1.737374e+04  0.030739  252.0   826.0  0.039594  0.070333     83.0  28115.566410    5.0  1376.0  3.603172e+01  0.342586  1.421934e+09  1.421934e+09         4.0\n",
      "9  254.0           2.0      0.0  2.666667e+08  0.000000    0.0   200.0  0.000000  0.000000    100.0      0.000000    6.0     0.0 -1.421085e-14  0.000006  1.421931e+09  1.421931e+09         9.0\n",
      "\n",
      "🟥 Adversarial Counterparts:\n",
      "\n",
      "         sttl  ct_state_ttl     dmeansz         Sload    ackdat        dttl       sbytes    synack    tcprtt     smeansz          Dload     state        dbytes     Dintpkt       dur         Ltime         Stime  ct_srv_dst\n",
      "0  246.212440      1.991418   41.827252  3.809917e+07 -0.002370   -2.853351  -644.340048 -0.001629 -0.000784    9.672497  460056.480221  5.745910  33480.940533  -91.556350 -8.317644  1.421926e+09  1.421926e+09   11.781095\n",
      "1  253.063580      1.967647   -7.147149  8.866547e+07 -0.000646   -2.964080 -2517.915775  0.000139  0.000114    3.559537  448294.666504  5.799136  14959.546626  -21.684957 -8.317648  1.421925e+09  1.421925e+09    4.198377\n",
      "2  244.170867      1.991147   12.951127  1.134489e+08 -0.003453   -1.150585  3423.518705 -0.002669 -0.001127  120.838204 -204768.601271  5.460517  45532.510683 -211.311631 -7.975164  1.421925e+09  1.421924e+09   13.127705\n",
      "3   61.511735      1.997555  -23.834099  7.207024e+07 -0.000081   -0.313902  -285.030788  0.001147  0.000388   59.903127  213273.711418  6.074373    426.022793   21.578866 -6.960711  1.421928e+09  1.421928e+09    3.872259\n",
      "4  253.168869      1.968154   -6.062754  5.146586e+07 -0.000628   -2.882167 -2406.549936  0.000140  0.000069  -33.334861  437959.342781  5.802411  14643.738685  -18.374924 -8.317649  1.421927e+09  1.421926e+09    4.198377\n",
      "5  242.611870      2.009947   -2.397786  7.234491e+07 -0.004282    2.427550  5626.076462 -0.002892 -0.001897  179.851138 -527074.594990  5.660513  39889.298315 -209.555828 -7.213951  1.421926e+09  1.421924e+09   18.151868\n",
      "6   61.984573      1.005051   -6.117212 -8.139036e+05  0.073072  251.423391  2178.399214  0.064740  0.137069  174.367939 -275400.125342  5.076201 -21705.109909   41.973602 -4.357881  1.421934e+09  1.421934e+09    3.198377\n",
      "7  242.976430      1.942690   40.053814  1.357583e+08 -0.004495    3.362528  6719.094328 -0.003892 -0.002031  164.710696 -142393.307705  5.608262  36704.195071 -161.958196 -5.123389  1.421924e+09  1.421924e+09    9.335359\n",
      "8   61.861350      1.002033  104.738755 -5.575649e+05  0.030782  251.531926  -348.769553  0.040089  0.070379   82.057619 -138703.018064  5.039159 -13512.542827   -4.367657 -4.084053  1.421935e+09  1.421935e+09    6.149054\n",
      "9  245.991448      1.976051   32.808084  2.676901e+08 -0.002999    3.340587  7035.471166 -0.002414 -0.001057  178.769703 -263994.850889  5.822396  27423.362712 -114.519701 -1.719674  1.421924e+09  1.421924e+09    8.091663\n"
     ]
    }
   ],
   "source": [
    "import numpy as np\n",
    "import pandas as pd\n",
    "\n",
    "# --- 1) Collect only the successfully flipped samples (1 → 0) ---\n",
    "success_mask = zoo_attack_on_attacks[\"successes_bool\"]\n",
    "attacked_idx = zoo_attack_on_attacks[\"attacked_indices\"]\n",
    "successful_local_idx = np.array(attacked_idx)[success_mask]\n",
    "\n",
    "# Standardized (model-space) originals + adversarials for those successes\n",
    "X_orig_success_std = X_attack[successful_local_idx]\n",
    "X_adv_success_std  = zoo_attack_on_attacks[\"X_adv\"][successful_local_idx]\n",
    "\n",
    "# Sanity: keep only those that truly flipped 1->0 according to the model\n",
    "pred_orig = (final_model.predict(X_orig_success_std, verbose=0).ravel() > 0.5).astype(int)\n",
    "pred_adv  = (final_model.predict(X_adv_success_std,  verbose=0).ravel() > 0.5).astype(int)\n",
    "\n",
    "flip_mask = (pred_orig == 1) & (pred_adv == 0)\n",
    "X_orig_success_std = X_orig_success_std[flip_mask]\n",
    "X_adv_success_std  = X_adv_success_std[flip_mask]\n",
    "pred_orig = pred_orig[flip_mask]\n",
    "pred_adv  = pred_adv[flip_mask]\n",
    "\n",
    "# --- 2) Inverse-transform back to original feature units ---\n",
    "# scaler_full was fit on the selected columns used by the model (Xtr_sel)\n",
    "X_orig_success = scaler_full.inverse_transform(X_orig_success_std)\n",
    "X_adv_success  = scaler_full.inverse_transform(X_adv_success_std)\n",
    "\n",
    "# --- 3) Build DataFrames with your desired columns and formatting ---\n",
    "cols = selected_features\n",
    "\n",
    "def make_df(X, preds):\n",
    "    df = pd.DataFrame(X, columns=cols)\n",
    "    return df\n",
    "\n",
    "df_orig = make_df(X_orig_success, pred_orig)\n",
    "df_adv  = make_df(X_adv_success,  pred_adv)\n",
    "\n",
    "# --- 4) Show up to 10 examples in your exact format ---\n",
    "n_show = min(10, len(df_orig))\n",
    "\n",
    "# display settings (same style as earlier)\n",
    "pd.set_option('display.max_columns', None)\n",
    "pd.set_option('display.precision', 6)\n",
    "pd.set_option('display.width', 100)\n",
    "\n",
    "# print(\"\\n🟦 Original Attack Samples (that later flipped 1→0):\\n\")\n",
    "# print(df_original)\n",
    "\n",
    "# print(\"\\n🟥 Corresponding Adversarial Samples:\\n\")\n",
    "# print(df_adversarial)\n",
    "\n",
    "print(\"\\n🟦 Original Attack Samples (that later flipped 1→0):\\n\")\n",
    "print(df_orig.head(n_show).to_string(index=True))\n",
    "\n",
    "print(\"\\n🟥 Adversarial Counterparts:\\n\")\n",
    "print(df_adv.head(n_show).to_string(index=True))\n"
   ]
  },
  {
   "cell_type": "code",
   "execution_count": null,
   "id": "da1158e7-90ae-4ef9-b656-158774f9b655",
   "metadata": {},
   "outputs": [],
   "source": []
  },
  {
   "cell_type": "code",
   "execution_count": null,
   "id": "959e6959-60a2-4a68-a667-ef03e5b3d052",
   "metadata": {},
   "outputs": [],
   "source": []
  },
  {
   "cell_type": "code",
   "execution_count": 22,
   "id": "60147d1a-a1a8-403f-ba95-e7a8d7e50c32",
   "metadata": {},
   "outputs": [],
   "source": [
    "import numpy as np\n",
    "from sklearn.metrics import accuracy_score\n",
    "\n",
    "# ---------- Constrained finite-diff (central) ----------\n",
    "def finite_diff_grad_constrained(\n",
    "    model,\n",
    "    x,\n",
    "    y_scalar,\n",
    "    h,\n",
    "    projector,             # function(x0, x, eps) -> projected x\n",
    "    x0,\n",
    "    eps,\n",
    "    enforcer_batch,        # function(X_scaled_batch) -> X_scaled_batch_feasible\n",
    "    clip_min=None,\n",
    "    clip_max=None,\n",
    "):\n",
    "    \"\"\"\n",
    "    Central-difference gradient of loss wrt x, but every probe is projected and\n",
    "    run through the feasibility enforcer before the model sees it.\n",
    "    \"\"\"\n",
    "    d = x.shape[0]\n",
    "    batch_plus = np.repeat(x[None, :], d, axis=0)\n",
    "    batch_minus = batch_plus.copy()\n",
    "    for i in range(d):\n",
    "        batch_plus[i, i] += h\n",
    "        batch_minus[i, i] -= h\n",
    "\n",
    "    # Project probes to epsilon-ball and apply optional [clip_min, clip_max]\n",
    "    batch_plus = projector(x0, batch_plus, eps)\n",
    "    batch_minus = projector(x0, batch_minus, eps)\n",
    "    if (clip_min is not None) and (clip_max is not None):\n",
    "        batch_plus = np.minimum(np.maximum(batch_plus, clip_min), clip_max)\n",
    "        batch_minus = np.minimum(np.maximum(batch_minus, clip_min), clip_max)\n",
    "\n",
    "    # Enforce real-world constraints on the *batch* of probes\n",
    "    batch_plus = enforcer_batch(batch_plus)\n",
    "    batch_minus = enforcer_batch(batch_minus)\n",
    "\n",
    "    p_plus = predict_proba(model, batch_plus)\n",
    "    p_minus = predict_proba(model, batch_minus)\n",
    "\n",
    "    L_plus = bce_loss(p_plus, np.full(d, y_scalar))\n",
    "    L_minus = bce_loss(p_minus, np.full(d, y_scalar))\n",
    "\n",
    "    grad = (L_plus - L_minus) / (2.0 * h)\n",
    "    queries = 2 * d\n",
    "    return grad, queries\n",
    "\n",
    "\n",
    "# ---------- Single-example constrained ZOO ----------\n",
    "def zoo_attack_single_constrained(\n",
    "    model,\n",
    "    x0_scaled,\n",
    "    y_true,\n",
    "    *,\n",
    "    steps=300,\n",
    "    lr=0.05,\n",
    "    h=1e-3,\n",
    "    eps=0.5,\n",
    "    norm=\"linf\",          # \"linf\" or \"l2\"\n",
    "    targeted=None,        # None for untargeted; otherwise target label in {0,1}\n",
    "    clip_min=None,\n",
    "    clip_max=None,\n",
    "    early_stop=True,\n",
    "    # --- NEW: feasibility enforcer wiring ---\n",
    "    scaler=None,\n",
    "    feature_order=None,\n",
    "    X_orig_scaled_ref=None,     # scaled original(s) used to pin immutable features (e.g., same row)\n",
    "    enforcer_func=enforce_unsw_constraints_in_scaled_space,\n",
    "):\n",
    "    \"\"\"\n",
    "    Constrained ZOO:\n",
    "      - Every step and probe stays inside the epsilon ball AND inside the\n",
    "        real-world feasible set (via enforcer_func).\n",
    "    Returns: x_adv_scaled, success(bool), queries(int), iters(int)\n",
    "    \"\"\"\n",
    "    assert scaler is not None and feature_order is not None and X_orig_scaled_ref is not None, \\\n",
    "        \"Provide scaler, feature_order, and X_orig_scaled_ref for constraint enforcement.\"\n",
    "\n",
    "    # Build a *batch* enforcer that always uses the same original sample row\n",
    "    # for non-attackable features (radiotap.*, etc.)\n",
    "    def enforcer_batch(X_scaled_batch):\n",
    "        # X_orig_scaled is repeated to match the batch shape\n",
    "        X_orig_scaled = np.repeat(X_orig_scaled_ref[None, :], X_scaled_batch.shape[0], axis=0)\n",
    "        return enforcer_func(X_scaled_batch, scaler, feature_order)\n",
    "\n",
    "    x = x0_scaled.copy()\n",
    "    queries = 0\n",
    "\n",
    "    projector = project_linf if norm == \"linf\" else project_l2\n",
    "\n",
    "    # Initial feasibility snap (optional but keeps x exactly feasible before starting)\n",
    "    x = enforcer_batch(x[None, :])[0]\n",
    "\n",
    "    # Initial check\n",
    "    p0 = predict_proba(model, x[None, :])[0]; queries += 1\n",
    "    y_pred0 = int(p0 > 0.5)\n",
    "    already_wrong = (y_pred0 != y_true)\n",
    "    if targeted is None and already_wrong:\n",
    "        return x, True, queries, 0\n",
    "\n",
    "    for t in range(1, steps + 1):\n",
    "        label_for_loss = targeted if targeted is not None else y_true\n",
    "\n",
    "        # Constrained finite-diff gradient\n",
    "        grad, q = finite_diff_grad_constrained(\n",
    "            model=model,\n",
    "            x=x,\n",
    "            y_scalar=label_for_loss,\n",
    "            h=h,\n",
    "            projector=projector,\n",
    "            x0=x0_scaled,\n",
    "            eps=eps,\n",
    "            enforcer_batch=enforcer_batch,\n",
    "            clip_min=clip_min,\n",
    "            clip_max=clip_max,\n",
    "        )\n",
    "        queries += q\n",
    "\n",
    "        # Update (ascend for untargeted, descend for targeted)\n",
    "        direction = +1.0 if targeted is None else -1.0\n",
    "        x = x + direction * lr * grad\n",
    "\n",
    "        # Project to ε-ball\n",
    "        x = projector(x0_scaled, x, eps)\n",
    "\n",
    "        # Optional clip to observed range (still in scaled space)\n",
    "        if (clip_min is not None) and (clip_max is not None):\n",
    "            x = np.minimum(np.maximum(x, clip_min), clip_max)\n",
    "\n",
    "        # Enforce physical/measurement constraints + rescale\n",
    "        x = enforcer_batch(x[None, :])[0]\n",
    "\n",
    "        # Success check\n",
    "        p = predict_proba(model, x[None, :])[0]; queries += 1\n",
    "        y_pred = int(p > 0.5)\n",
    "        success = (y_pred != y_true) if targeted is None else (y_pred == targeted)\n",
    "        if early_stop and success:\n",
    "            return x, True, queries, t\n",
    "\n",
    "    # Final check\n",
    "    p = predict_proba(model, x[None, :])[0]; queries += 1\n",
    "    y_pred = int(p > 0.5)\n",
    "    success = (y_pred != y_true) if targeted is None else (y_pred == targeted)\n",
    "    return x, success, queries, steps\n",
    "\n",
    "\n",
    "# ---------- Batch convenience with constraints ----------\n",
    "def run_zoo_attack_constrained(\n",
    "    model,\n",
    "    X_scaled,\n",
    "    y,\n",
    "    *,\n",
    "    scaler,\n",
    "    feature_order,\n",
    "    X_orig_scaled=None,       # if None, we assume X_orig_scaled == X_scaled (same standardization pipeline)\n",
    "    X_train_for_bounds=None,  # to compute clip_min/clip_max in scaled space (optional)\n",
    "    max_samples=100,\n",
    "    eps=0.5,\n",
    "    norm=\"linf\",\n",
    "    steps=300,\n",
    "    lr=0.05,\n",
    "    h=1e-3,\n",
    "    targeted=None,\n",
    "    only_on_correct=True,\n",
    "    random_state=0\n",
    "):\n",
    "    rng = np.random.default_rng(random_state)\n",
    "\n",
    "    # Bounds in *scaled* space if provided (recommended on tabular)\n",
    "    if X_train_for_bounds is not None:\n",
    "        clip_min = X_train_for_bounds.min(axis=0)\n",
    "        clip_max = X_train_for_bounds.max(axis=0)\n",
    "    else:\n",
    "        clip_min = clip_max = None\n",
    "\n",
    "    if X_orig_scaled is None:\n",
    "        X_orig_scaled = X_scaled\n",
    "\n",
    "    # Decide which indices to attack\n",
    "    y_pred_all = (predict_proba(model, X_scaled) > 0.5).astype(int)\n",
    "    if only_on_correct:\n",
    "        candidates = np.where(y_pred_all == y)[0]\n",
    "    else:\n",
    "        candidates = np.arange(len(y))\n",
    "    rng.shuffle(candidates)\n",
    "    idxs = candidates[:max_samples]\n",
    "\n",
    "    successes = []\n",
    "    queries_list = []\n",
    "    iters_list = []\n",
    "    X_adv_scaled = np.copy(X_scaled)\n",
    "\n",
    "    for idx in tqdm(idxs, desc=\"ZOO attack\", unit=\"sample\"):\n",
    "        x0 = X_scaled[idx]\n",
    "        y_true = int(y[idx])\n",
    "\n",
    "        # Single-row \"original scaled\" reference for immutable features\n",
    "        x_orig_ref = X_orig_scaled[idx]\n",
    "\n",
    "        x_adv, success, q, iters = zoo_attack_single_constrained(\n",
    "            model=model,\n",
    "            x0_scaled=x0,\n",
    "            y_true=y_true,\n",
    "            steps=steps,\n",
    "            lr=lr,\n",
    "            h=h,\n",
    "            eps=eps,\n",
    "            norm=norm,\n",
    "            targeted=targeted,\n",
    "            clip_min=clip_min,\n",
    "            clip_max=clip_max,\n",
    "            early_stop=True,\n",
    "            scaler=scaler,\n",
    "            feature_order=feature_order,\n",
    "            X_orig_scaled_ref=x_orig_ref,\n",
    "        )\n",
    "        X_adv_scaled[idx] = x_adv\n",
    "        successes.append(success)\n",
    "        queries_list.append(q)\n",
    "        iters_list.append(iters)\n",
    "\n",
    "    # Metrics\n",
    "    success_rate = float(np.mean(successes)) if len(successes) else 0.0\n",
    "    avg_queries = float(np.mean(queries_list)) if queries_list else 0.0\n",
    "    avg_iters = float(np.mean(iters_list)) if iters_list else 0.0\n",
    "\n",
    "    acc_before = accuracy_score(y[idxs], y_pred_all[idxs])\n",
    "    acc_after = accuracy_score(y[idxs], (predict_proba(model, X_adv_scaled[idxs]) > 0.5).astype(int))\n",
    "\n",
    "    summary = {\n",
    "        \"num_attacked\": len(idxs),\n",
    "        \"only_on_correct\": only_on_correct,\n",
    "        \"targeted\": targeted,\n",
    "        \"eps\": eps,\n",
    "        \"norm\": norm,\n",
    "        \"steps\": steps,\n",
    "        \"lr\": lr,\n",
    "        \"h\": h,\n",
    "        \"success_rate\": success_rate,\n",
    "        \"avg_queries\": avg_queries,\n",
    "        \"avg_iters\": avg_iters,\n",
    "        \"acc_before_on_subset\": float(acc_before),\n",
    "        \"acc_after_on_subset\": float(acc_after),\n",
    "        \"attacked_indices\": idxs,\n",
    "        \"successes_bool\": np.array(successes, dtype=bool),\n",
    "        \"queries_each\": np.array(queries_list, dtype=int),\n",
    "        \"iters_each\": np.array(iters_list, dtype=int),\n",
    "        \"X_adv\": X_adv_scaled.astype(np.float32),\n",
    "    }\n",
    "    return summary\n"
   ]
  },
  {
   "cell_type": "code",
   "execution_count": 32,
   "id": "6e5fd548-dd80-44df-b862-495278bfa3f3",
   "metadata": {},
   "outputs": [],
   "source": [
    "# ---------- Single-example constrained ZOO (updated to match enforce_unsw_constraints_in_scaled_space) ----------\n",
    "def zoo_attack_single_constrained(\n",
    "    model,\n",
    "    x0_scaled,\n",
    "    y_true,\n",
    "    *,\n",
    "    steps=300,\n",
    "    lr=0.05,\n",
    "    h=1e-3,\n",
    "    eps=0.5,\n",
    "    norm=\"linf\",          # \"linf\" or \"l2\"\n",
    "    targeted=None,        # None for untargeted; otherwise target label in {0,1}\n",
    "    clip_min=None,\n",
    "    clip_max=None,\n",
    "    early_stop=True,\n",
    "    # --- NEW: feasibility enforcer wiring ---\n",
    "    scaler=None,\n",
    "    feature_order=None,\n",
    "    X_orig_scaled_ref=None,     # scaled original(s) used to pin immutable features (e.g., same row)\n",
    "    enforcer_func=enforce_unsw_constraints_in_scaled_space,\n",
    "    # --- NEW: immutables and control flag ---\n",
    "    immutable_mask=None,        # 1D array same length as x0_scaled: 1.0 == keep immutable (do not change)\n",
    "    enforce_constraints=True,\n",
    "):\n",
    "    \"\"\"\n",
    "    Constrained ZOO:\n",
    "      - Every step and probe stays inside the epsilon ball AND inside the\n",
    "        real-world feasible set (via enforcer_func).\n",
    "      - Supports immutable_mask (features that must remain equal to the original).\n",
    "    Returns: x_adv_scaled, success(bool), queries(int), iters(int)\n",
    "    \"\"\"\n",
    "    assert scaler is not None and feature_order is not None and X_orig_scaled_ref is not None, \\\n",
    "        \"Provide scaler, feature_order, and X_orig_scaled_ref for constraint enforcement.\"\n",
    "\n",
    "    x = x0_scaled.copy()\n",
    "    queries = 0\n",
    "    d = x.size\n",
    "\n",
    "    # Validate immutable_mask if provided\n",
    "    if immutable_mask is not None:\n",
    "        immutable_mask = np.asarray(immutable_mask, dtype=float).ravel()\n",
    "        if immutable_mask.shape[0] != d:\n",
    "            raise ValueError(\"immutable_mask must have same length as x0_scaled\")\n",
    "\n",
    "    projector = project_linf if norm == \"linf\" else project_l2\n",
    "\n",
    "    # Build a *batch* enforcer that always uses the same original sample row\n",
    "    # for immutable features. The enforcer_func is optional (controlled by enforce_constraints).\n",
    "    def enforcer_batch(X_scaled_batch):\n",
    "        # X_orig_scaled is repeated to match the batch shape\n",
    "        X_orig_scaled = np.repeat(X_orig_scaled_ref[None, :], X_scaled_batch.shape[0], axis=0)\n",
    "\n",
    "        if enforce_constraints and (enforcer_func is not None):\n",
    "            # Match your enforcer signature: (X_scaled, scaler, feature_order)\n",
    "            X_enforced = enforcer_func(X_scaled_batch, scaler, feature_order)\n",
    "        else:\n",
    "            # No enforcement requested: just use the batch as-is\n",
    "            X_enforced = X_scaled_batch.copy()\n",
    "\n",
    "        # Re-apply immutables: keep original x_orig entries for immutable fields\n",
    "        if immutable_mask is not None:\n",
    "            imm_bool = (immutable_mask == 1.0)\n",
    "            if imm_bool.any():\n",
    "                # Broadcast original values into the enforced batch\n",
    "                X_enforced[:, imm_bool] = X_orig_scaled[:, imm_bool]\n",
    "\n",
    "        return X_enforced\n",
    "\n",
    "    # Initial feasibility snap (optional but keeps x exactly feasible before starting)\n",
    "    x = enforcer_batch(x[None, :])[0]\n",
    "\n",
    "    # Initial check\n",
    "    p0 = predict_proba(model, x[None, :])[0]; queries += 1\n",
    "    y_pred0 = int(p0 > 0.5)\n",
    "    already_wrong = (y_pred0 != y_true)\n",
    "    if targeted is None and already_wrong:\n",
    "        return x, True, queries, 0\n",
    "\n",
    "    for t in range(1, steps + 1):\n",
    "        label_for_loss = targeted if targeted is not None else y_true\n",
    "\n",
    "        # Constrained finite-diff gradient\n",
    "        grad, q = finite_diff_grad_constrained(\n",
    "            model=model,\n",
    "            x=x,\n",
    "            y_scalar=label_for_loss,\n",
    "            h=h,\n",
    "            projector=projector,\n",
    "            x0=x0_scaled,\n",
    "            eps=eps,\n",
    "            enforcer_batch=enforcer_batch,\n",
    "            clip_min=clip_min,\n",
    "            clip_max=clip_max,\n",
    "        )\n",
    "        queries += q\n",
    "\n",
    "        # Update (ascend for untargeted, descend for targeted)\n",
    "        direction = +1.0 if targeted is None else -1.0\n",
    "        x = x + direction * lr * grad\n",
    "\n",
    "        # Project to ε-ball\n",
    "        x = projector(x0_scaled, x, eps)\n",
    "\n",
    "        # Optional clip to observed range (still in scaled space)\n",
    "        if (clip_min is not None) and (clip_max is not None):\n",
    "            x = np.minimum(np.maximum(x, clip_min), clip_max)\n",
    "\n",
    "        # Enforce physical/measurement constraints + re-apply immutables via enforcer_batch\n",
    "        x = enforcer_batch(x[None, :])[0]\n",
    "\n",
    "        # Success check\n",
    "        p = predict_proba(model, x[None, :])[0]; queries += 1\n",
    "        y_pred = int(p > 0.5)\n",
    "        success = (y_pred != y_true) if targeted is None else (y_pred == targeted)\n",
    "        if early_stop and success:\n",
    "            return x, True, queries, t\n",
    "\n",
    "    # Final check\n",
    "    p = predict_proba(model, x[None, :])[0]; queries += 1\n",
    "    y_pred = int(p > 0.5)\n",
    "    success = (y_pred != y_true) if targeted is None else (y_pred == targeted)\n",
    "    return x, success, queries, steps\n",
    "\n",
    "\n",
    "# ---------- Batch convenience with constraints (forwards enforcer_func and immutable_mask) ----------\n",
    "def run_zoo_attack_constrained(\n",
    "    model,\n",
    "    X_scaled,\n",
    "    y,\n",
    "    *,\n",
    "    scaler,\n",
    "    feature_order,\n",
    "    X_orig_scaled=None,       # if None, we assume X_orig_scaled == X_scaled (same standardization pipeline)\n",
    "    X_train_for_bounds=None,  # to compute clip_min/clip_max in scaled space (optional)\n",
    "    max_samples=100,\n",
    "    eps=0.5,\n",
    "    norm=\"linf\",\n",
    "    steps=300,\n",
    "    lr=0.05,\n",
    "    h=1e-3,\n",
    "    targeted=None,\n",
    "    only_on_correct=True,\n",
    "    immutable_mask=None,\n",
    "    enforce_constraints=True,\n",
    "    enforcer_func=enforce_unsw_constraints_in_scaled_space,\n",
    "    random_state=0\n",
    "):\n",
    "    rng = np.random.default_rng(random_state)\n",
    "\n",
    "    # Bounds in *scaled* space if provided (recommended on tabular)\n",
    "    if X_train_for_bounds is not None:\n",
    "        clip_min = X_train_for_bounds.min(axis=0)\n",
    "        clip_max = X_train_for_bounds.max(axis=0)\n",
    "    else:\n",
    "        clip_min = clip_max = None\n",
    "\n",
    "    if X_orig_scaled is None:\n",
    "        X_orig_scaled = X_scaled\n",
    "\n",
    "    # Decide which indices to attack\n",
    "    y_pred_all = (predict_proba(model, X_scaled) > 0.5).astype(int)\n",
    "    if only_on_correct:\n",
    "        candidates = np.where(y_pred_all == y)[0]\n",
    "    else:\n",
    "        candidates = np.arange(len(y))\n",
    "    rng.shuffle(candidates)\n",
    "    idxs = candidates[:max_samples]\n",
    "\n",
    "    successes = []\n",
    "    queries_list = []\n",
    "    iters_list = []\n",
    "    X_adv_scaled = np.copy(X_scaled)\n",
    "\n",
    "    # Validate immutable_mask if provided (must be 1D of length d)\n",
    "    if immutable_mask is not None:\n",
    "        immutable_mask = np.asarray(immutable_mask, dtype=float).ravel()\n",
    "        if immutable_mask.shape[0] != X_scaled.shape[1]:\n",
    "            raise ValueError(\"immutable_mask must have same length as number of features\")\n",
    "\n",
    "    for idx in tqdm(idxs, desc=\"ZOO attack\", unit=\"sample\"):\n",
    "        x0 = X_scaled[idx]\n",
    "        y_true = int(y[idx])\n",
    "\n",
    "        # Single-row \"original scaled\" reference for immutable features\n",
    "        x_orig_ref = X_orig_scaled[idx]\n",
    "\n",
    "        x_adv, success, q, iters = zoo_attack_single_constrained(\n",
    "            model=model,\n",
    "            x0_scaled=x0,\n",
    "            y_true=y_true,\n",
    "            steps=steps,\n",
    "            lr=lr,\n",
    "            h=h,\n",
    "            eps=eps,\n",
    "            norm=norm,\n",
    "            targeted=targeted,\n",
    "            clip_min=clip_min,\n",
    "            clip_max=clip_max,\n",
    "            early_stop=True,\n",
    "            scaler=scaler,\n",
    "            feature_order=feature_order,\n",
    "            X_orig_scaled_ref=x_orig_ref,\n",
    "            enforcer_func=enforcer_func,\n",
    "            immutable_mask=immutable_mask,\n",
    "            enforce_constraints=enforce_constraints,\n",
    "        )\n",
    "        X_adv_scaled[idx] = x_adv\n",
    "        successes.append(success)\n",
    "        queries_list.append(q)\n",
    "        iters_list.append(iters)\n",
    "\n",
    "    # Metrics\n",
    "    success_rate = float(np.mean(successes)) if len(successes) else 0.0\n",
    "    avg_queries = float(np.mean(queries_list)) if queries_list else 0.0\n",
    "    avg_iters = float(np.mean(iters_list)) if iters_list else 0.0\n",
    "\n",
    "    acc_before = accuracy_score(y[idxs], y_pred_all[idxs])\n",
    "    acc_after = accuracy_score(y[idxs], (predict_proba(model, X_adv_scaled[idxs]) > 0.5).astype(int))\n",
    "\n",
    "    summary = {\n",
    "        \"num_attacked\": len(idxs),\n",
    "        \"only_on_correct\": only_on_correct,\n",
    "        \"targeted\": targeted,\n",
    "        \"eps\": eps,\n",
    "        \"norm\": norm,\n",
    "        \"steps\": steps,\n",
    "        \"lr\": lr,\n",
    "        \"h\": h,\n",
    "        \"success_rate\": success_rate,\n",
    "        \"avg_queries\": avg_queries,\n",
    "        \"avg_iters\": avg_iters,\n",
    "        \"acc_before_on_subset\": float(acc_before),\n",
    "        \"acc_after_on_subset\": float(acc_after),\n",
    "        \"attacked_indices\": idxs,\n",
    "        \"successes_bool\": np.array(successes, dtype=bool),\n",
    "        \"queries_each\": np.array(queries_list, dtype=int),\n",
    "        \"iters_each\": np.array(iters_list, dtype=int),\n",
    "        \"X_adv\": X_adv_scaled.astype(np.float32),\n",
    "    }\n",
    "    return summary\n"
   ]
  },
  {
   "cell_type": "code",
   "execution_count": 14,
   "id": "1de3e018-deac-4c6b-8158-3a7297ad7f31",
   "metadata": {},
   "outputs": [],
   "source": [
    "from tensorflow.keras.models import load_model\n",
    "final_model = load_model(r\"C:\\Users\\ulami\\Desktop\\magisterka\\models_final\\UNSW_NB15_csv_final.keras\")   "
   ]
  },
  {
   "cell_type": "code",
   "execution_count": 18,
   "id": "c5aba7df-1a30-481a-bc2c-24a55d1da77d",
   "metadata": {},
   "outputs": [],
   "source": [
    "feature_order = selected_features  # e.g. ['Offset','sTtl','sMeanPktSz','sHops','State']\n",
    "scaler_project = scaler if 'scaler' in locals() else scaler_full\n",
    "feat_idx = {c: i for i, c in enumerate(feature_order)}"
   ]
  },
  {
   "cell_type": "code",
   "execution_count": 34,
   "id": "d8a19b10-a41a-4f3a-9a67-9b97a65a731f",
   "metadata": {},
   "outputs": [
    {
     "name": "stderr",
     "output_type": "stream",
     "text": [
      "ZOO attack: 100%|██████████| 200/200 [4:04:31<00:00, 73.36s/sample]  \n"
     ]
    }
   ],
   "source": [
    "import numpy as np\n",
    "\n",
    "# --- Option A: create immutable_mask by listing feature names you want to keep unchanged ---\n",
    "immutable_features = ['sttl', 'Sload', 'sbytes', 'smeansz']  # example names — replace with your real immutables\n",
    "immutable_mask = np.array([0.0 if f in immutable_features else 1.0 for f in feature_order])\n",
    "\n",
    "# --- Option B: create immutable_mask by prefix rule (e.g., keep all radiotap.* columns immutable) ---\n",
    "# immutable_mask = np.array([1.0 if f.startswith('radiotap') else 0.0 for f in feature_order])\n",
    "\n",
    "# --- Optional: bounds from training set in scaled space (recommended) ---\n",
    "# If you have X_train_scaled (same scaler/feature_order), pass it so run_zoo_attack_constrained computes clip_min/clip_max.\n",
    "# X_train_for_bounds = X_train_scaled\n",
    "X_train_for_bounds = None  # or set to your X_train_scaled array\n",
    "\n",
    "# --- 2) Run TARGETED, CONSTRAINED ZOO to force label 0 on attack samples only ---\n",
    "zoo_attack_on_attacks = run_zoo_attack_constrained(\n",
    "    model=final_model,\n",
    "    X_scaled=X_attack,                  # standardized test subset (attacks)\n",
    "    y=y_attack,\n",
    "    scaler=scaler_project,              # same scaler used to create X_attack\n",
    "    feature_order=feature_order,        # list/tuple of column names in scaler order\n",
    "    X_orig_scaled=X_attack,             # per-sample \"original\" in scaled space\n",
    "    X_train_for_bounds=X_train_for_bounds,\n",
    "    targeted=0,\n",
    "    only_on_correct=True,\n",
    "    max_samples=min(200, len(y_attack)),\n",
    "    eps=0.3,                            # epsilon in standardized units\n",
    "    norm=\"linf\",\n",
    "    steps=300,\n",
    "    lr=0.1,\n",
    "    h=1e-3,\n",
    "    random_state=1,\n",
    "    # --- new args forwarded to the attack ---\n",
    "    immutable_mask=immutable_mask,                          # None or 1D array (1.0 = keep immutable)\n",
    "    enforce_constraints=True,                               # whether to call enforcer_func\n",
    "    enforcer_func=enforce_unsw_constraints_in_scaled_space, # your enforcer\n",
    ")\n"
   ]
  },
  {
   "cell_type": "code",
   "execution_count": 24,
   "id": "ab931e4a-aaee-470d-b618-d5e37a82040c",
   "metadata": {},
   "outputs": [
    {
     "name": "stderr",
     "output_type": "stream",
     "text": [
      "ZOO attack: 100%|██████████| 200/200 [1:00:43<00:00, 18.22s/sample]\n"
     ]
    }
   ],
   "source": [
    "from tqdm import tqdm\n",
    "\n",
    "# --- 2) Run TARGETED, CONSTRAINED ZOO to force label 0 on attack samples only ---\n",
    "zoo_attack_on_attacks = run_zoo_attack_constrained(\n",
    "    model=final_model,\n",
    "    X_scaled=X_attack,                  # standardized test subset (attacks)\n",
    "    y=y_attack,\n",
    "    scaler=scaler_project,                      # same scaler used to create X_attack\n",
    "    feature_order=feature_order,        # list/tuple of column names in scaler order\n",
    "    X_orig_scaled=X_attack,             # per-sample \"original\" in scaled space\n",
    "    targeted=0,\n",
    "    only_on_correct=True,\n",
    "    max_samples=min(200, len(y_attack)),\n",
    "    eps=0.3,                            # epsilon in standardized units\n",
    "    norm=\"linf\",\n",
    "    steps=300,\n",
    "    lr=0.1,\n",
    "    h=1e-3,\n",
    "    random_state=1\n",
    ")\n"
   ]
  },
  {
   "cell_type": "code",
   "execution_count": 35,
   "id": "298b21b8-1d48-4e19-b0ad-be30b43c25a9",
   "metadata": {},
   "outputs": [
    {
     "name": "stdout",
     "output_type": "stream",
     "text": [
      "\n",
      "--- Evasion results (ONLY on ATTACKED SUBSET: 200 samples) ---\n",
      "Detection rate BEFORE (attacked subset): 1.000\n",
      "Detection rate AFTER  (attacked subset): 0.995\n",
      "Evasion rate (attacked subset, pred==0 AFTER): 0.005\n",
      "Reported attack success rate (success_flags mean): 0.005\n",
      "Avg queries per attacked sample: 11047.4\n",
      "\n",
      "Final Test Set Report AFTER injecting ONLY the attacked adversarials into the full test set:\n",
      "              precision    recall  f1-score   support\n",
      "\n",
      "           0       1.00      1.00      1.00    212998\n",
      "           1       0.91      0.94      0.93      4443\n",
      "\n",
      "    accuracy                           1.00    217441\n",
      "   macro avg       0.95      0.97      0.96    217441\n",
      "weighted avg       1.00      1.00      1.00    217441\n",
      "\n"
     ]
    }
   ],
   "source": [
    "# --- 3) Evaluate ONLY on the actually ATTACKED subset (e.g. the 500 samples you attacked) ---\n",
    "X_attack_adv = zoo_attack_on_attacks[\"X_adv\"]  # full-length X_attack array where only attacked rows were changed\n",
    "attacked_local_idx = np.array(zoo_attack_on_attacks[\"attacked_indices\"], dtype=int)  # local indices inside X_attack that were attacked\n",
    "success_flags = np.array(zoo_attack_on_attacks[\"successes_bool\"], dtype=bool)\n",
    "queries_each = np.array(zoo_attack_on_attacks[\"queries_each\"], dtype=int)\n",
    "\n",
    "# Defensive: if nothing was attacked, skip gracefully\n",
    "if len(attacked_local_idx) == 0:\n",
    "    print(\"No attacked samples were produced (attacked_indices is empty). Nothing to evaluate.\")\n",
    "else:\n",
    "    # Subset BEFORE (original X_attack rows for the attacked subset)\n",
    "    X_attacked_before = X_attack[attacked_local_idx]\n",
    "    pred_before = (final_model.predict(X_attacked_before, verbose=0).ravel() > 0.5).astype(int)\n",
    "    detection_rate_before = (pred_before == 1).mean()\n",
    "\n",
    "    # Subset AFTER (adversarial rows in X_attack_adv corresponding to attacked_local_idx)\n",
    "    X_attacked_after = X_attack_adv[attacked_local_idx]\n",
    "    pred_after = (final_model.predict(X_attacked_after, verbose=0).ravel() > 0.5).astype(int)\n",
    "    detection_rate_after = (pred_after == 1).mean()\n",
    "\n",
    "    # Evasion: fraction predicted as 0 after attack on the attacked subset\n",
    "    evasion_rate_subset = (pred_after == 0).mean()\n",
    "\n",
    "    # Consistency checks / summary stats\n",
    "    avg_queries_attacked = queries_each.mean() if queries_each.size else 0.0\n",
    "    reported_success_rate = success_flags.mean() if success_flags.size else 0.0\n",
    "\n",
    "    print(f\"\\n--- Evasion results (ONLY on ATTACKED SUBSET: {len(attacked_local_idx)} samples) ---\")\n",
    "    print(f\"Detection rate BEFORE (attacked subset): {detection_rate_before:.3f}\")\n",
    "    print(f\"Detection rate AFTER  (attacked subset): {detection_rate_after:.3f}\")\n",
    "    print(f\"Evasion rate (attacked subset, pred==0 AFTER): {evasion_rate_subset:.3f}\")\n",
    "    print(f\"Reported attack success rate (success_flags mean): {reported_success_rate:.3f}\")\n",
    "    print(f\"Avg queries per attacked sample: {avg_queries_attacked:.1f}\")\n",
    "\n",
    "# --- 4) (optional) Put those adversarial attacks back into the FULL test matrix ---\n",
    "# If you still want to inject only the attacked rows into the full test set for a full-report, map local->global:\n",
    "global_attack_indices = np.where(attack_mask)[0]            # all global indices that were selected as \"attack\" set\n",
    "# Map only if attacked_local_idx not empty\n",
    "if len(attacked_local_idx):\n",
    "    attacked_global_indices = global_attack_indices[attacked_local_idx]  # map local attacked indices -> global indices\n",
    "\n",
    "    Xte_adv_full = Xte_sel.copy()\n",
    "    # Replace only the attacked global rows with their adversarial versions\n",
    "    Xte_adv_full[attacked_global_indices] = X_attack_adv[attacked_local_idx]\n",
    "\n",
    "    # Evaluate on the full test set after injecting only the attacked adversarials\n",
    "    test_preds_after = (final_model.predict(Xte_adv_full, verbose=0).ravel() > 0.5).astype(int)\n",
    "\n",
    "    from sklearn.metrics import classification_report\n",
    "    print(\"\\nFinal Test Set Report AFTER injecting ONLY the attacked adversarials into the full test set:\")\n",
    "    print(classification_report(y_test, test_preds_after, zero_division=0))\n",
    "else:\n",
    "    print(\"No attacked rows to inject into full test set (skipping full-set report).\")\n"
   ]
  },
  {
   "cell_type": "code",
   "execution_count": 29,
   "id": "b0968c43-e993-40fd-a314-d65729905dc1",
   "metadata": {},
   "outputs": [
    {
     "name": "stdout",
     "output_type": "stream",
     "text": [
      "\u001b[1m6663/6663\u001b[0m \u001b[32m━━━━━━━━━━━━━━━━━━━━\u001b[0m\u001b[37m\u001b[0m \u001b[1m5s\u001b[0m 813us/step\n"
     ]
    },
    {
     "data": {
      "image/png": "[encoded data removed]",
      "text/plain": [
       "<Figure size 600x400 with 2 Axes>"
      ]
     },
     "metadata": {},
     "output_type": "display_data"
    },
    {
     "name": "stdout",
     "output_type": "stream",
     "text": [
      "                precision    recall  f1-score   support\n",
      "\n",
      "Normal Traffic       1.00      1.00      1.00    212998\n",
      "        Attack       0.10      0.24      0.14       200\n",
      "\n",
      "      accuracy                           1.00    213198\n",
      "     macro avg       0.55      0.62      0.57    213198\n",
      "  weighted avg       1.00      1.00      1.00    213198\n",
      "\n"
     ]
    }
   ],
   "source": [
    "import matplotlib.pyplot as plt\n",
    "import seaborn as sns\n",
    "from sklearn.metrics import confusion_matrix, classification_report\n",
    "\n",
    "# Get predictions\n",
    "y_pred = final_model.predict(X_test_adv_final)\n",
    "y_pred = (y_pred > 0.5).astype(int)\n",
    "\n",
    "# Compute confusion matrix\n",
    "cm = confusion_matrix(y_test_adv_final, y_pred)\n",
    "\n",
    "# Plot the confusion matrix\n",
    "plt.figure(figsize=(6, 4))\n",
    "sns.heatmap(cm, annot=True, fmt='d', cmap='Blues', xticklabels=['Normal Traffic (0)', 'Attack (1)'], yticklabels=['Normal Traffic (0)', 'Attack (1)'])\n",
    "plt.xlabel('Predicted')\n",
    "plt.ylabel('Actual')\n",
    "# plt.title('Confusion Matrix')\n",
    "plt.show()\n",
    "\n",
    "# Print detailed classification report\n",
    "print(classification_report(y_test_adv_final, y_pred, target_names=['Normal Traffic', 'Attack']))\n"
   ]
  },
  {
   "cell_type": "code",
   "execution_count": 37,
   "id": "7d1b21a5-744d-4db2-ac32-4d0abbef1d92",
   "metadata": {},
   "outputs": [
    {
     "name": "stdout",
     "output_type": "stream",
     "text": [
      "\n",
      "🟦 Original Attack Samples (that later flipped 1→0):\n",
      "\n",
      "    sttl  ct_state_ttl  dmeansz         Sload    ackdat   dttl  sbytes    synack    tcprtt  smeansz         Dload  state  dbytes       Dintpkt       dur         Ltime         Stime  ct_srv_dst\n",
      "0  254.0           1.0    149.0  4.496946e+03  0.085696  252.0  1888.0  0.085870  0.171566    157.0   5037.307617    5.0  2088.0  2.302192e+02  3.079423  1.421933e+09  1.421933e+09         1.0\n",
      "1  254.0           2.0      0.0  1.520000e+08  0.000000    0.0   114.0  0.000000  0.000000     57.0      0.000000    6.0     0.0 -1.421085e-14  0.000003  1.421932e+09  1.421932e+09        11.0\n",
      "2  254.0           1.0    122.0  1.157428e+04  0.046698  252.0  3456.0  0.070368  0.117066    133.0  10627.166020    5.0  3174.0  8.906380e+01  2.297508  1.421930e+09  1.421930e+09         1.0\n",
      "3  254.0           2.0      0.0  8.000000e+07  0.000000    0.0   200.0  0.000000  0.000000    100.0      0.000000    6.0     0.0 -1.421085e-14  0.000010  1.421931e+09  1.421931e+09         7.0\n",
      "4  254.0           2.0      0.0  7.272727e+07  0.000000    0.0   200.0  0.000000  0.000000    100.0      0.000000    6.0     0.0 -1.421085e-14  0.000001  1.421931e+09  1.421931e+09        12.0\n",
      "5  254.0           1.0     45.0  1.259561e+04  0.078917  252.0  1064.0  0.156423  0.235340    106.0   2945.111084    5.0   268.0  9.040820e+01  0.608466  1.421932e+09  1.421932e+09         2.0\n",
      "6  254.0           2.0      0.0  4.145454e+07  0.000000    0.0   114.0  0.000000  0.000000     57.0      0.000000    6.0     0.0 -1.421085e-14  0.000011  1.421931e+09  1.421931e+09        12.0\n",
      "7  254.0           2.0      0.0  1.120000e+08  0.000000    0.0   168.0  0.000000  0.000000     84.0      0.000000    6.0     0.0 -1.421085e-14  0.000006  1.421934e+09  1.421934e+09         1.0\n",
      "8  254.0           2.0      0.0  6.545454e+07  0.000000    0.0   180.0  0.000000  0.000000     90.0      0.000000    6.0     0.0 -1.421085e-14  0.000011  1.421931e+09  1.421931e+09        14.0\n",
      "9  254.0           2.0      0.0  4.560000e+07  0.000000    0.0   114.0  0.000000  0.000000     57.0      0.000000    6.0     0.0 -1.421085e-14  0.000010  1.421933e+09  1.421933e+09        11.0\n",
      "\n",
      "🟥 Adversarial Counterparts:\n",
      "\n",
      "    sttl  ct_state_ttl    dmeansz     Sload    ackdat        dttl        sbytes    synack    tcprtt     smeansz          Dload     state        dbytes     Dintpkt       dur         Ltime         Stime  ct_srv_dst\n",
      "0  254.0      1.091782  45.629951 -0.079405  0.085285  248.038193   8612.000000  0.088006  0.171865  185.551758  839412.937500  5.416247 -51251.378906  356.308136 -1.911170  1.421929e+09  1.421929e+09    2.319026\n",
      "1  254.0      1.978996  42.065498 -0.079405 -0.001993   -2.195560  10555.000000 -0.001671 -0.000355   42.451168  271867.468750  5.674274  33034.781250 -103.162674 -4.990590  1.421928e+09  1.421928e+09   10.512529\n",
      "2  254.0      1.032690  18.629921 -0.079405  0.046620  250.442551   5990.000000  0.071450  0.117078  141.325790  181954.218750  5.314561 -50165.378906  158.044022 -2.693085  1.421928e+09  1.421928e+09    2.319026\n",
      "3  254.0      1.983820  25.569557 -0.079405 -0.001811    1.204706  10720.000000 -0.001336 -0.000924   98.825356  140899.468750  5.970931  12559.195312  -31.986372 -4.990583  1.421927e+09  1.421927e+09    6.619007\n",
      "4  254.0      1.997486  22.158211 -0.079405 -0.003126   -1.760105      0.999989 -0.002111 -0.001230   71.856613  490429.968750  5.849910  25345.707031 -212.436203 -4.990592  1.421927e+09  1.421927e+09   12.946560\n",
      "5  254.0      1.011910  -4.031914 -0.079405  0.078911  251.787094   1197.000000  0.156401  0.235193  109.799507   37436.714844  5.094858 -20145.066406   96.747131 -3.036739  1.421931e+09  1.421931e+09    3.319026\n",
      "6  254.0      2.003392  17.128517 -0.079405 -0.001511   -0.104732      0.999989 -0.000876 -0.000705   45.611477  147493.718750  5.969665  14344.886719  -39.932568 -4.990582  1.421928e+09  1.421928e+09   11.873894\n",
      "7  254.0      1.955925  31.295479 -0.079405 -0.002503    0.118189   8293.000000 -0.000569 -0.000310   36.089321  654812.687500  5.783597  34047.910156  -93.275024 -4.990587  1.421930e+09  1.421930e+09    2.319026\n",
      "8  254.0      1.996856  33.740517 -0.079405 -0.003303   -1.467998      0.999989 -0.002250 -0.001273   86.314720  213192.968750  5.697310  39791.800781 -139.360870 -4.990582  1.421927e+09  1.421927e+09   13.861891\n",
      "9  254.0      1.991136  41.835487 -0.079405 -0.002333   -2.615658      0.999989 -0.001609 -0.000828   11.117481  425901.468750  5.779569  32380.912109  -89.869507 -4.990583  1.421929e+09  1.421929e+09   10.741078\n"
     ]
    }
   ],
   "source": [
    "import numpy as np\n",
    "import pandas as pd\n",
    "\n",
    "X_orig_success = scaler_full.inverse_transform(X_attack)\n",
    "X_adv_success  = scaler_full.inverse_transform(X_attacked_after)\n",
    "\n",
    "# --- 3) Build DataFrames with your desired columns and formatting ---\n",
    "cols = selected_features\n",
    "\n",
    "def make_df(X, preds):\n",
    "    df = pd.DataFrame(X, columns=cols)\n",
    "    return df\n",
    "\n",
    "# df_orig = make_df(X_orig_success, pred_orig)\n",
    "# df_adv  = make_df(X_adv_success,  pred_adv)\n",
    "\n",
    "# --- 4) Show up to 10 examples in your exact format ---\n",
    "n_show = min(10, len(df_orig))\n",
    "\n",
    "# display settings (same style as earlier)\n",
    "pd.set_option('display.max_columns', None)\n",
    "pd.set_option('display.precision', 6)\n",
    "pd.set_option('display.width', 100)\n",
    "\n",
    "# print(\"\\n🟦 Original Attack Samples (that later flipped 1→0):\\n\")\n",
    "# print(df_original)\n",
    "\n",
    "# print(\"\\n🟥 Corresponding Adversarial Samples:\\n\")\n",
    "# print(df_adversarial)\n",
    "\n",
    "print(\"\\n🟦 Original Attack Samples (that later flipped 1→0):\\n\")\n",
    "print(df_orig.head(n_show).to_string(index=True))\n",
    "\n",
    "print(\"\\n🟥 Adversarial Counterparts:\\n\")\n",
    "print(df_adv.head(n_show).to_string(index=True))\n"
   ]
  },
  {
   "cell_type": "code",
   "execution_count": 53,
   "id": "434f4b85-d2f5-4f9a-a574-51494ed34140",
   "metadata": {},
   "outputs": [
    {
     "name": "stdout",
     "output_type": "stream",
     "text": [
      "\n",
      "🟦 Original Attack Samples (that later flipped 1→0):\n",
      "\n",
      "    sttl  ct_state_ttl  dmeansz         Sload    ackdat   dttl  sbytes    synack    tcprtt  smeansz         Dload  state  dbytes       Dintpkt       dur         Ltime         Stime  ct_srv_dst\n",
      "0  254.0           1.0    149.0  4.496946e+03  0.085696  252.0  1888.0  0.085870  0.171566    157.0   5037.307617    5.0  2088.0  2.302192e+02  3.079423  1.421933e+09  1.421933e+09         1.0\n",
      "1  254.0           2.0      0.0  1.520000e+08  0.000000    0.0   114.0  0.000000  0.000000     57.0      0.000000    6.0     0.0 -1.421085e-14  0.000003  1.421932e+09  1.421932e+09        11.0\n",
      "2  254.0           1.0    122.0  1.157428e+04  0.046698  252.0  3456.0  0.070368  0.117066    133.0  10627.166020    5.0  3174.0  8.906380e+01  2.297508  1.421930e+09  1.421930e+09         1.0\n",
      "3  254.0           2.0      0.0  8.000000e+07  0.000000    0.0   200.0  0.000000  0.000000    100.0      0.000000    6.0     0.0 -1.421085e-14  0.000010  1.421931e+09  1.421931e+09         7.0\n",
      "4  254.0           2.0      0.0  7.272727e+07  0.000000    0.0   200.0  0.000000  0.000000    100.0      0.000000    6.0     0.0 -1.421085e-14  0.000001  1.421931e+09  1.421931e+09        12.0\n",
      "5  254.0           1.0     45.0  1.259561e+04  0.078917  252.0  1064.0  0.156423  0.235340    106.0   2945.111084    5.0   268.0  9.040820e+01  0.608466  1.421932e+09  1.421932e+09         2.0\n",
      "6  254.0           2.0      0.0  4.145454e+07  0.000000    0.0   114.0  0.000000  0.000000     57.0      0.000000    6.0     0.0 -1.421085e-14  0.000011  1.421931e+09  1.421931e+09        12.0\n",
      "7  254.0           2.0      0.0  1.120000e+08  0.000000    0.0   168.0  0.000000  0.000000     84.0      0.000000    6.0     0.0 -1.421085e-14  0.000006  1.421934e+09  1.421934e+09         1.0\n",
      "8  254.0           2.0      0.0  6.545454e+07  0.000000    0.0   180.0  0.000000  0.000000     90.0      0.000000    6.0     0.0 -1.421085e-14  0.000011  1.421931e+09  1.421931e+09        14.0\n",
      "9  254.0           2.0      0.0  4.560000e+07  0.000000    0.0   114.0  0.000000  0.000000     57.0      0.000000    6.0     0.0 -1.421085e-14  0.000010  1.421933e+09  1.421933e+09        11.0\n",
      "\n",
      "🟥 Adversarial Counterparts:\n",
      "\n",
      "    sttl  ct_state_ttl    dmeansz         Sload    ackdat        dttl  sbytes    synack    tcprtt     smeansz          Dload     state        dbytes     Dintpkt       dur         Ltime         Stime  ct_srv_dst\n",
      "0  254.0      1.091782  45.629951 -7.940453e-02  0.085285  248.036179  8609.0  0.088007  0.171866  185.573181  839574.187500  5.416247 -51251.378906  356.377106 -1.911170  1.421929e+09  1.421929e+09    2.319026\n",
      "1  254.0      1.950535  65.749672  1.497193e+08 -0.003303   -7.362171  2789.0 -0.003530 -0.001301   62.090420  235559.218750  5.583753  53339.375000 -415.525757 -4.990590  1.421928e+09  1.421928e+09   10.977568\n",
      "2  254.0      1.032685  18.629921 -7.940453e-02  0.046620  250.444443  5994.0  0.071449  0.117078  141.308655  182061.718750  5.314557 -50165.378906  157.990982 -2.693085  1.421928e+09  1.421928e+09    2.319026\n",
      "3  254.0      1.993782  30.157692  7.851312e+07 -0.001154    0.220579  1333.0 -0.000754 -0.000385   82.639252  206275.718750  6.011876  12174.500000  -16.380415 -3.657589  1.421927e+09  1.421927e+09    6.461400\n",
      "4  254.0      1.965043  49.911934  7.051330e+07 -0.003303   -6.019947  4213.0 -0.003530 -0.001647  112.957878   45903.214844  5.583753  53339.375000 -414.952881 -4.990592  1.421927e+09  1.421927e+09   12.143154\n",
      "5  254.0      1.011909  -4.038079 -7.940453e-02  0.078911  251.787537  1205.0  0.156401  0.235193  109.796654   37450.214844  5.094874 -20141.886719   96.757736 -3.038871  1.421931e+09  1.421931e+09    3.319026\n",
      "6  254.0      1.993964  36.398109  3.842516e+07 -0.002178   -2.260433  -435.0 -0.001463 -0.000760   17.420956  391517.718750  5.794045  29295.423828  -80.379684 -4.990582  1.421927e+09  1.421927e+09   11.802271\n",
      "7  254.0      1.970656  20.769844  1.097032e+08 -0.002459   -0.411319  -823.0 -0.000283 -0.000175   36.089321  705197.437500  5.968404  31483.824219  -39.327847 -4.990587  1.421930e+09  1.421930e+09    2.319026\n",
      "8  254.0      1.971183  41.927864  6.353183e+07 -0.003303   -5.126876  2740.0 -0.003530 -0.001155  105.814049  117200.968750  5.583753  53339.375000 -309.885864 -4.990582  1.421927e+09  1.421927e+09   14.082552\n",
      "9  254.0      1.990330  44.148018  4.209893e+07 -0.002452   -3.111816  -746.0 -0.001704 -0.000788    9.089321  489016.968750  5.725243  35270.871094  -97.115509 -4.990583  1.421929e+09  1.421929e+09   10.772474\n"
     ]
    }
   ],
   "source": [
    "import numpy as np\n",
    "import pandas as pd\n",
    "\n",
    "# --- 1) Collect only the successfully flipped samples (1 → 0) ---\n",
    "success_mask = zoo_attack_on_attacks[\"successes_bool\"]\n",
    "attacked_idx = zoo_attack_on_attacks[\"attacked_indices\"]\n",
    "successful_local_idx = np.array(attacked_idx)[success_mask]\n",
    "\n",
    "# Standardized (model-space) originals + adversarials for those successes\n",
    "X_orig_success_std = X_attack[successful_local_idx]\n",
    "X_adv_success_std  = zoo_attack_on_attacks[\"X_adv\"][successful_local_idx]\n",
    "\n",
    "# Sanity: keep only those that truly flipped 1->0 according to the model\n",
    "pred_orig = (final_model.predict(X_orig_success_std, verbose=0).ravel() > 0.5).astype(int)\n",
    "pred_adv  = (final_model.predict(X_adv_success_std,  verbose=0).ravel() > 0.5).astype(int)\n",
    "\n",
    "flip_mask = (pred_orig == 1) & (pred_adv == 0)\n",
    "X_orig_success_std = X_orig_success_std[flip_mask]\n",
    "X_adv_success_std  = X_adv_success_std[flip_mask]\n",
    "pred_orig = pred_orig[flip_mask]\n",
    "pred_adv  = pred_adv[flip_mask]\n",
    "\n",
    "# --- 2) Inverse-transform back to original feature units ---\n",
    "# scaler_full was fit on the selected columns used by the model (Xtr_sel)\n",
    "X_orig_success = scaler_full.inverse_transform(X_orig_success_std)\n",
    "X_adv_success  = scaler_full.inverse_transform(X_adv_success_std)\n",
    "\n",
    "# --- 3) Build DataFrames with your desired columns and formatting ---\n",
    "cols = selected_features\n",
    "\n",
    "def make_df(X, preds):\n",
    "    df = pd.DataFrame(X, columns=cols)\n",
    "    return df\n",
    "\n",
    "df_orig = make_df(X_orig_success, pred_orig)\n",
    "df_adv  = make_df(X_adv_success,  pred_adv)\n",
    "\n",
    "# --- 4) Show up to 10 examples in your exact format ---\n",
    "n_show = min(10, len(df_orig))\n",
    "\n",
    "# display settings (same style as earlier)\n",
    "pd.set_option('display.max_columns', None)\n",
    "pd.set_option('display.precision', 6)\n",
    "pd.set_option('display.width', 100)\n",
    "\n",
    "# print(\"\\n🟦 Original Attack Samples (that later flipped 1→0):\\n\")\n",
    "# print(df_original)\n",
    "\n",
    "# print(\"\\n🟥 Corresponding Adversarial Samples:\\n\")\n",
    "# print(df_adversarial)\n",
    "\n",
    "print(\"\\n🟦 Original Attack Samples (that later flipped 1→0):\\n\")\n",
    "print(df_orig.head(n_show).to_string(index=True))\n",
    "\n",
    "print(\"\\n🟥 Adversarial Counterparts:\\n\")\n",
    "print(df_adv.head(n_show).to_string(index=True))\n"
   ]
  },
  {
   "cell_type": "code",
   "execution_count": null,
   "id": "ad9f88a1-96e6-4e03-924a-9708f4b34ef1",
   "metadata": {},
   "outputs": [],
   "source": []
  },
  {
   "cell_type": "code",
   "execution_count": 52,
   "id": "8e0f0cd7-7ff9-44f9-83b4-664ee92d96e8",
   "metadata": {},
   "outputs": [
    {
     "name": "stdout",
     "output_type": "stream",
     "text": [
      "==== ZOO on attack samples (targeted to NORMAL / 0) ====\n",
      "num_attacked: 4198\n",
      "only_on_correct: True\n",
      "targeted: 0\n",
      "eps: 0.3\n",
      "norm: linf\n",
      "steps: 300\n",
      "lr: 0.1\n",
      "h: 0.001\n",
      "success_rate: 0.7582181991424488\n",
      "avg_queries: 2833.319437827537\n",
      "avg_iters: 76.54263935207241\n",
      "acc_before_on_subset: 1.0\n",
      "acc_after_on_subset: 0.24178180085755122\n",
      "\n",
      "--- Evasion results ---\n",
      "Detection rate on attack samples BEFORE: 0.945\n",
      "Detection rate on attack samples AFTER:  0.228\n",
      "Evasion rate among ALL attack samples:   0.772\n",
      "Evasion rate among ATTACKED subset:      0.758\n",
      "Avg queries per attacked sample:         2833.3\n",
      "\n",
      "Final Test Set Report AFTER targeted ZOO on attack samples:\n",
      "              precision    recall  f1-score   support\n",
      "\n",
      "           0       0.98      1.00      0.99    212998\n",
      "           1       0.70      0.23      0.34      4443\n",
      "\n",
      "    accuracy                           0.98    217441\n",
      "   macro avg       0.84      0.61      0.67    217441\n",
      "weighted avg       0.98      0.98      0.98    217441\n",
      "\n"
     ]
    }
   ],
   "source": [
    "print(\"==== ZOO on attack samples (targeted to NORMAL / 0) ====\")\n",
    "for k, v in zoo_attack_on_attacks.items():\n",
    "    if k in {\"X_adv\", \"attacked_indices\", \"successes_bool\", \"queries_each\", \"iters_each\"}:\n",
    "        continue\n",
    "    print(f\"{k}: {v}\")\n",
    "\n",
    "# --- 3) Evaluate evasion on attacked subset and overall attack set ---\n",
    "X_attack_adv = zoo_attack_on_attacks[\"X_adv\"]  # same shape as X_attack; attacked indices modified\n",
    "attacked_local_idx = zoo_attack_on_attacks[\"attacked_indices\"]\n",
    "success_flags = zoo_attack_on_attacks[\"successes_bool\"]\n",
    "queries_each = zoo_attack_on_attacks[\"queries_each\"]\n",
    "\n",
    "# Predictions AFTER on attack-only array (includes both attacked & untouched elements)\n",
    "pred_attack_after = (final_model.predict(X_attack_adv, verbose=0).ravel() > 0.5).astype(int)\n",
    "tpr_after = (pred_attack_after == 1).mean()\n",
    "evasion_rate_all_attacks = (pred_attack_after == 0).mean()\n",
    "\n",
    "# Evasion rate restricted to actually ATTACKED samples\n",
    "evasion_rate_attacked = success_flags.mean() if len(success_flags) else 0.0\n",
    "avg_queries_attacked = queries_each.mean() if len(queries_each) else 0.0\n",
    "\n",
    "print(f\"\\n--- Evasion results ---\")\n",
    "print(f\"Detection rate on attack samples BEFORE: {tpr_before:.3f}\")\n",
    "print(f\"Detection rate on attack samples AFTER:  {tpr_after:.3f}\")\n",
    "print(f\"Evasion rate among ALL attack samples:   {evasion_rate_all_attacks:.3f}\")\n",
    "print(f\"Evasion rate among ATTACKED subset:      {evasion_rate_attacked:.3f}\")\n",
    "print(f\"Avg queries per attacked sample:         {avg_queries_attacked:.1f}\")\n",
    "\n",
    "# --- 4) (Optional) Put adversarial attacks back into the FULL test matrix ---\n",
    "# This is handy if you want to re-run a full classification report after evasion.\n",
    "Xte_adv_full = Xte_sel.copy()\n",
    "global_attack_indices = np.where(attack_mask)[0]\n",
    "Xte_adv_full[global_attack_indices] = X_attack_adv\n",
    "\n",
    "# Example: full post-attack report\n",
    "test_preds_after = (final_model.predict(Xte_adv_full, verbose=0).ravel() > 0.5).astype(int)\n",
    "\n",
    "from sklearn.metrics import classification_report\n",
    "print(\"\\nFinal Test Set Report AFTER targeted ZOO on attack samples:\")\n",
    "print(classification_report(y_test, test_preds_after, zero_division=0))\n"
   ]
  }
 ],
 "metadata": {
  "kernelspec": {
   "display_name": "Python 3 (ipykernel)",
   "language": "python",
   "name": "python3"
  },
  "language_info": {
   "codemirror_mode": {
    "name": "ipython",
    "version": 3
   },
   "file_extension": ".py",
   "mimetype": "text/x-python",
   "name": "python",
   "nbconvert_exporter": "python",
   "pygments_lexer": "ipython3",
   "version": "3.10.16"
  }
 },
 "nbformat": 4,
 "nbformat_minor": 5
}
