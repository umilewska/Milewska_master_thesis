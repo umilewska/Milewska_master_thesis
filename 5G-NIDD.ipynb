{
 "cells": [
  {
   "cell_type": "markdown",
   "id": "bff7f992-2020-469c-9333-3cbd22b8f6b6",
   "metadata": {},
   "source": [
    "https://etsin.fairdata.fi/dataset/9d13ef28-2ca7-44b0-9950-225359afac65"
   ]
  },
  {
   "cell_type": "markdown",
   "id": "4f778846-ac75-4997-81ab-8a72bb1f1af7",
   "metadata": {},
   "source": [
    "https://ieee-dataport.org/documents/5g-nidd-comprehensive-network-intrusion-detection-dataset-generated-over-5g-wireless"
   ]
  },
  {
   "cell_type": "code",
   "execution_count": 1,
   "id": "e854d45e-3a5b-46e5-902a-57e676d545cd",
   "metadata": {},
   "outputs": [],
   "source": [
    "import os\n",
    "import pandas as pd\n",
    "import numpy as np\n",
    "import tensorflow as tf\n",
    "from tensorflow import keras\n",
    "from tensorflow.keras.models import Sequential\n",
    "from tensorflow.keras.layers import Dense, Dropout\n",
    "from sklearn.model_selection import train_test_split\n",
    "from sklearn.preprocessing import StandardScaler, LabelEncoder"
   ]
  },
  {
   "cell_type": "code",
   "execution_count": 2,
   "id": "7c0b6608-9540-40bb-8fa0-ca5a47c9900a",
   "metadata": {},
   "outputs": [
    {
     "name": "stderr",
     "output_type": "stream",
     "text": [
      "C:\\Users\\ulami\\AppData\\Local\\Temp\\ipykernel_7092\\2332987556.py:3: DtypeWarning: Columns (12) have mixed types. Specify dtype option on import or set low_memory=False.\n",
      "  data=pd.read_csv(r\"C:\\Users\\ulami\\Desktop\\datasety\\5G-NIDD\\Combined.csv\")\n"
     ]
    }
   ],
   "source": [
    "import pandas as pd\n",
    "\n",
    "data=pd.read_csv(r\"C:\\Users\\ulami\\Desktop\\datasety\\5G-NIDD\\Combined.csv\")"
   ]
  },
  {
   "cell_type": "code",
   "execution_count": 3,
   "id": "9123fa51-aa19-4942-b9fd-c68b69edadfe",
   "metadata": {},
   "outputs": [
    {
     "data": {
      "text/plain": [
       "(1215890, 52)"
      ]
     },
     "execution_count": 3,
     "metadata": {},
     "output_type": "execute_result"
    }
   ],
   "source": [
    "data.shape"
   ]
  },
  {
   "cell_type": "code",
   "execution_count": 11,
   "id": "e09ceb77-4f92-4bdf-a739-6333099551da",
   "metadata": {},
   "outputs": [
    {
     "data": {
      "text/html": [
       "<div>\n",
       "<style scoped>\n",
       "    .dataframe tbody tr th:only-of-type {\n",
       "        vertical-align: middle;\n",
       "    }\n",
       "\n",
       "    .dataframe tbody tr th {\n",
       "        vertical-align: top;\n",
       "    }\n",
       "\n",
       "    .dataframe thead th {\n",
       "        text-align: right;\n",
       "    }\n",
       "</style>\n",
       "<table border=\"1\" class=\"dataframe\">\n",
       "  <thead>\n",
       "    <tr style=\"text-align: right;\">\n",
       "      <th></th>\n",
       "      <th>Dur</th>\n",
       "      <th>RunTime</th>\n",
       "      <th>Mean</th>\n",
       "      <th>Sum</th>\n",
       "      <th>Min</th>\n",
       "      <th>Max</th>\n",
       "      <th>Proto</th>\n",
       "      <th>sTos</th>\n",
       "      <th>sDSb</th>\n",
       "      <th>sTtl</th>\n",
       "      <th>...</th>\n",
       "      <th>DstLoss</th>\n",
       "      <th>pLoss</th>\n",
       "      <th>Rate</th>\n",
       "      <th>SrcRate</th>\n",
       "      <th>DstRate</th>\n",
       "      <th>State</th>\n",
       "      <th>TcpRtt</th>\n",
       "      <th>SynAck</th>\n",
       "      <th>AckDat</th>\n",
       "      <th>Label</th>\n",
       "    </tr>\n",
       "  </thead>\n",
       "  <tbody>\n",
       "    <tr>\n",
       "      <th>0</th>\n",
       "      <td>0.000000</td>\n",
       "      <td>0.000000</td>\n",
       "      <td>0.000000</td>\n",
       "      <td>0.000000</td>\n",
       "      <td>0.000000</td>\n",
       "      <td>0.000000</td>\n",
       "      <td>icmp</td>\n",
       "      <td>0.0</td>\n",
       "      <td>cs0</td>\n",
       "      <td>58.0</td>\n",
       "      <td>...</td>\n",
       "      <td>0</td>\n",
       "      <td>0.0</td>\n",
       "      <td>0.000000</td>\n",
       "      <td>0.000000</td>\n",
       "      <td>0.000000</td>\n",
       "      <td>ECO</td>\n",
       "      <td>0.0</td>\n",
       "      <td>0.0</td>\n",
       "      <td>0.0</td>\n",
       "      <td>Benign</td>\n",
       "    </tr>\n",
       "    <tr>\n",
       "      <th>1</th>\n",
       "      <td>0.000000</td>\n",
       "      <td>0.000000</td>\n",
       "      <td>0.000000</td>\n",
       "      <td>0.000000</td>\n",
       "      <td>0.000000</td>\n",
       "      <td>0.000000</td>\n",
       "      <td>icmp</td>\n",
       "      <td>0.0</td>\n",
       "      <td>cs0</td>\n",
       "      <td>58.0</td>\n",
       "      <td>...</td>\n",
       "      <td>0</td>\n",
       "      <td>0.0</td>\n",
       "      <td>0.000000</td>\n",
       "      <td>0.000000</td>\n",
       "      <td>0.000000</td>\n",
       "      <td>ECO</td>\n",
       "      <td>0.0</td>\n",
       "      <td>0.0</td>\n",
       "      <td>0.0</td>\n",
       "      <td>Benign</td>\n",
       "    </tr>\n",
       "    <tr>\n",
       "      <th>2</th>\n",
       "      <td>4.998020</td>\n",
       "      <td>4.998020</td>\n",
       "      <td>4.998020</td>\n",
       "      <td>4.998020</td>\n",
       "      <td>4.998020</td>\n",
       "      <td>4.998020</td>\n",
       "      <td>udp</td>\n",
       "      <td>0.0</td>\n",
       "      <td>cs0</td>\n",
       "      <td>117.0</td>\n",
       "      <td>...</td>\n",
       "      <td>0</td>\n",
       "      <td>0.0</td>\n",
       "      <td>42.616875</td>\n",
       "      <td>39.015450</td>\n",
       "      <td>3.401347</td>\n",
       "      <td>CON</td>\n",
       "      <td>0.0</td>\n",
       "      <td>0.0</td>\n",
       "      <td>0.0</td>\n",
       "      <td>Benign</td>\n",
       "    </tr>\n",
       "    <tr>\n",
       "      <th>3</th>\n",
       "      <td>4.998037</td>\n",
       "      <td>4.998037</td>\n",
       "      <td>4.998037</td>\n",
       "      <td>4.998037</td>\n",
       "      <td>4.998037</td>\n",
       "      <td>4.998037</td>\n",
       "      <td>udp</td>\n",
       "      <td>0.0</td>\n",
       "      <td>cs0</td>\n",
       "      <td>117.0</td>\n",
       "      <td>...</td>\n",
       "      <td>0</td>\n",
       "      <td>0.0</td>\n",
       "      <td>36.614376</td>\n",
       "      <td>32.412727</td>\n",
       "      <td>4.001571</td>\n",
       "      <td>CON</td>\n",
       "      <td>0.0</td>\n",
       "      <td>0.0</td>\n",
       "      <td>0.0</td>\n",
       "      <td>Benign</td>\n",
       "    </tr>\n",
       "    <tr>\n",
       "      <th>4</th>\n",
       "      <td>4.999453</td>\n",
       "      <td>4.999453</td>\n",
       "      <td>4.999453</td>\n",
       "      <td>4.999453</td>\n",
       "      <td>4.999453</td>\n",
       "      <td>4.999453</td>\n",
       "      <td>udp</td>\n",
       "      <td>0.0</td>\n",
       "      <td>cs0</td>\n",
       "      <td>117.0</td>\n",
       "      <td>...</td>\n",
       "      <td>0</td>\n",
       "      <td>0.0</td>\n",
       "      <td>44.404858</td>\n",
       "      <td>40.604443</td>\n",
       "      <td>3.600394</td>\n",
       "      <td>CON</td>\n",
       "      <td>0.0</td>\n",
       "      <td>0.0</td>\n",
       "      <td>0.0</td>\n",
       "      <td>Benign</td>\n",
       "    </tr>\n",
       "  </tbody>\n",
       "</table>\n",
       "<p>5 rows × 36 columns</p>\n",
       "</div>"
      ],
      "text/plain": [
       "        Dur   RunTime      Mean       Sum       Min       Max Proto  sTos  \\\n",
       "0  0.000000  0.000000  0.000000  0.000000  0.000000  0.000000  icmp   0.0   \n",
       "1  0.000000  0.000000  0.000000  0.000000  0.000000  0.000000  icmp   0.0   \n",
       "2  4.998020  4.998020  4.998020  4.998020  4.998020  4.998020   udp   0.0   \n",
       "3  4.998037  4.998037  4.998037  4.998037  4.998037  4.998037   udp   0.0   \n",
       "4  4.999453  4.999453  4.999453  4.999453  4.999453  4.999453   udp   0.0   \n",
       "\n",
       "  sDSb   sTtl  ...  DstLoss pLoss       Rate    SrcRate   DstRate  State  \\\n",
       "0  cs0   58.0  ...        0   0.0   0.000000   0.000000  0.000000    ECO   \n",
       "1  cs0   58.0  ...        0   0.0   0.000000   0.000000  0.000000    ECO   \n",
       "2  cs0  117.0  ...        0   0.0  42.616875  39.015450  3.401347    CON   \n",
       "3  cs0  117.0  ...        0   0.0  36.614376  32.412727  4.001571    CON   \n",
       "4  cs0  117.0  ...        0   0.0  44.404858  40.604443  3.600394    CON   \n",
       "\n",
       "   TcpRtt  SynAck  AckDat   Label  \n",
       "0     0.0     0.0     0.0  Benign  \n",
       "1     0.0     0.0     0.0  Benign  \n",
       "2     0.0     0.0     0.0  Benign  \n",
       "3     0.0     0.0     0.0  Benign  \n",
       "4     0.0     0.0     0.0  Benign  \n",
       "\n",
       "[5 rows x 36 columns]"
      ]
     },
     "execution_count": 11,
     "metadata": {},
     "output_type": "execute_result"
    }
   ],
   "source": [
    "data.head()"
   ]
  },
  {
   "cell_type": "code",
   "execution_count": 5,
   "id": "d3529e9e-a7d6-4147-9d28-f9df0c417a6f",
   "metadata": {},
   "outputs": [],
   "source": [
    "n = 1\n",
    "data.drop(data.columns[:n], axis=1, inplace=True)"
   ]
  },
  {
   "cell_type": "code",
   "execution_count": 6,
   "id": "b3d36571-b552-48de-bbc9-f242a8bbb14d",
   "metadata": {},
   "outputs": [],
   "source": [
    "data = data.drop(columns=['Attack Type', 'Attack Tool', 'Seq'])"
   ]
  },
  {
   "cell_type": "code",
   "execution_count": 12,
   "id": "4d2fddac-cde5-4cb0-86cb-3ab9b75c38a1",
   "metadata": {},
   "outputs": [
    {
     "data": {
      "text/plain": [
       "Dur           0\n",
       "RunTime       0\n",
       "Mean          0\n",
       "Sum           0\n",
       "Min           0\n",
       "Max           0\n",
       "Proto         0\n",
       "sTos          0\n",
       "sDSb          0\n",
       "sTtl          0\n",
       "sHops         0\n",
       "Cause         0\n",
       "TotPkts       0\n",
       "SrcPkts       0\n",
       "DstPkts       0\n",
       "TotBytes      0\n",
       "SrcBytes      0\n",
       "DstBytes      0\n",
       "Offset        0\n",
       "sMeanPktSz    0\n",
       "dMeanPktSz    0\n",
       "Load          0\n",
       "SrcLoad       0\n",
       "DstLoad       0\n",
       "Loss          0\n",
       "SrcLoss       0\n",
       "DstLoss       0\n",
       "pLoss         0\n",
       "Rate          0\n",
       "SrcRate       0\n",
       "DstRate       0\n",
       "State         0\n",
       "TcpRtt        0\n",
       "SynAck        0\n",
       "AckDat        0\n",
       "Label         0\n",
       "dtype: int64"
      ]
     },
     "execution_count": 12,
     "metadata": {},
     "output_type": "execute_result"
    }
   ],
   "source": [
    "data.isnull().sum()"
   ]
  },
  {
   "cell_type": "code",
   "execution_count": 8,
   "id": "d948bc32-7da2-47b6-b133-72dd01686e8c",
   "metadata": {},
   "outputs": [
    {
     "name": "stdout",
     "output_type": "stream",
     "text": [
      "Removed 12 columns with over 60% NaN values.\n"
     ]
    }
   ],
   "source": [
    "prev_num_cols = len(data.columns)\n",
    "data.dropna(axis='columns', thresh=len(data.index) * 0.40, inplace=True)\n",
    "print(\"Removed \" + str(prev_num_cols - len(data.columns)) +\n",
    "      \" columns with over 60% NaN values.\")"
   ]
  },
  {
   "cell_type": "code",
   "execution_count": 9,
   "id": "20673a71-f802-432c-817f-c7d4359734f1",
   "metadata": {},
   "outputs": [
    {
     "name": "stdout",
     "output_type": "stream",
     "text": [
      "Removed 214 rows with at least one NaN value in it.\n"
     ]
    }
   ],
   "source": [
    "old_num_rows = data.shape[0]\n",
    "data.dropna(inplace=True)\n",
    "print(\"Removed \" + str(old_num_rows -\n",
    "                       data.shape[0]) + \" rows with at least one NaN value in it.\")"
   ]
  },
  {
   "cell_type": "code",
   "execution_count": 10,
   "id": "30ac09f2-8028-498b-940b-8698d76c0590",
   "metadata": {},
   "outputs": [
    {
     "data": {
      "text/plain": [
       "(1215676, 36)"
      ]
     },
     "execution_count": 10,
     "metadata": {},
     "output_type": "execute_result"
    }
   ],
   "source": [
    "data.shape"
   ]
  },
  {
   "cell_type": "code",
   "execution_count": 13,
   "id": "15af441b-41f2-4c22-ad7c-26d71f07fed1",
   "metadata": {},
   "outputs": [
    {
     "data": {
      "text/html": [
       "<div>\n",
       "<style scoped>\n",
       "    .dataframe tbody tr th:only-of-type {\n",
       "        vertical-align: middle;\n",
       "    }\n",
       "\n",
       "    .dataframe tbody tr th {\n",
       "        vertical-align: top;\n",
       "    }\n",
       "\n",
       "    .dataframe thead th {\n",
       "        text-align: right;\n",
       "    }\n",
       "</style>\n",
       "<table border=\"1\" class=\"dataframe\">\n",
       "  <thead>\n",
       "    <tr style=\"text-align: right;\">\n",
       "      <th></th>\n",
       "      <th>Proto</th>\n",
       "      <th>sDSb</th>\n",
       "      <th>Cause</th>\n",
       "      <th>State</th>\n",
       "      <th>Label</th>\n",
       "    </tr>\n",
       "  </thead>\n",
       "  <tbody>\n",
       "    <tr>\n",
       "      <th>count</th>\n",
       "      <td>1215676</td>\n",
       "      <td>1215676</td>\n",
       "      <td>1215676</td>\n",
       "      <td>1215676</td>\n",
       "      <td>1215676</td>\n",
       "    </tr>\n",
       "    <tr>\n",
       "      <th>unique</th>\n",
       "      <td>5</td>\n",
       "      <td>12</td>\n",
       "      <td>3</td>\n",
       "      <td>11</td>\n",
       "      <td>2</td>\n",
       "    </tr>\n",
       "    <tr>\n",
       "      <th>top</th>\n",
       "      <td>udp</td>\n",
       "      <td>cs0</td>\n",
       "      <td>Status</td>\n",
       "      <td>REQ</td>\n",
       "      <td>Malicious</td>\n",
       "    </tr>\n",
       "    <tr>\n",
       "      <th>freq</th>\n",
       "      <td>903040</td>\n",
       "      <td>1209216</td>\n",
       "      <td>728483</td>\n",
       "      <td>589128</td>\n",
       "      <td>738153</td>\n",
       "    </tr>\n",
       "  </tbody>\n",
       "</table>\n",
       "</div>"
      ],
      "text/plain": [
       "          Proto     sDSb    Cause    State      Label\n",
       "count   1215676  1215676  1215676  1215676    1215676\n",
       "unique        5       12        3       11          2\n",
       "top         udp      cs0   Status      REQ  Malicious\n",
       "freq     903040  1209216   728483   589128     738153"
      ]
     },
     "execution_count": 13,
     "metadata": {},
     "output_type": "execute_result"
    }
   ],
   "source": [
    "data.describe(include='object')"
   ]
  },
  {
   "cell_type": "code",
   "execution_count": 14,
   "id": "28d13137-2c24-4ca6-874c-7ba7626eb1a8",
   "metadata": {},
   "outputs": [
    {
     "name": "stdout",
     "output_type": "stream",
     "text": [
      "Label\n",
      "Malicious    738153\n",
      "Benign       477523\n",
      "Name: count, dtype: int64\n"
     ]
    }
   ],
   "source": [
    "print(data['Label'].value_counts())"
   ]
  },
  {
   "cell_type": "code",
   "execution_count": 15,
   "id": "af898204-5c8c-4514-a7ce-71c2da337ede",
   "metadata": {},
   "outputs": [
    {
     "name": "stdout",
     "output_type": "stream",
     "text": [
      "State\n",
      "REQ    589128\n",
      "INT    328732\n",
      "CON    132145\n",
      "RST     75670\n",
      "FIN     59181\n",
      "ECO     28822\n",
      "ACC      1109\n",
      "URP       786\n",
      "RSP        73\n",
      "TST        28\n",
      "NRS         2\n",
      "Name: count, dtype: int64\n"
     ]
    }
   ],
   "source": [
    "print(data['State'].value_counts())"
   ]
  },
  {
   "cell_type": "code",
   "execution_count": 48,
   "id": "434a5488-3c2a-4a84-ade3-533bb743a1a0",
   "metadata": {},
   "outputs": [
    {
     "name": "stdout",
     "output_type": "stream",
     "text": [
      "Offset\n",
      "128       20\n",
      "232       11\n",
      "567948     7\n",
      "522996     6\n",
      "585516     6\n",
      "          ..\n",
      "184856     1\n",
      "185060     1\n",
      "185372     1\n",
      "185472     1\n",
      "185772     1\n",
      "Name: count, Length: 1118819, dtype: int64\n"
     ]
    }
   ],
   "source": [
    "print(data['Offset'].value_counts())"
   ]
  },
  {
   "cell_type": "markdown",
   "id": "6124e32c-4a96-480f-9fe4-66fc32d58354",
   "metadata": {},
   "source": [
    "# MODEL"
   ]
  },
  {
   "cell_type": "code",
   "execution_count": 15,
   "id": "ecadfc4b-5dfa-4cb6-8d03-19e0daa98df9",
   "metadata": {},
   "outputs": [],
   "source": [
    "from sklearn.preprocessing import StandardScaler, LabelEncoder\n",
    "\n",
    "def le(df):\n",
    "    for col in df.columns:\n",
    "        if df[col].dtype == 'object':\n",
    "                label_encoder = LabelEncoder()\n",
    "                df[col] = label_encoder.fit_transform(df[col])\n",
    "\n",
    "le(data)"
   ]
  },
  {
   "cell_type": "code",
   "execution_count": 16,
   "id": "6b104bb1-af7f-4576-9e97-ef140bab1123",
   "metadata": {},
   "outputs": [
    {
     "name": "stdout",
     "output_type": "stream",
     "text": [
      "Label\n",
      "1    738153\n",
      "0    477523\n",
      "Name: count, dtype: int64\n"
     ]
    }
   ],
   "source": [
    "print(data['Label'].value_counts())"
   ]
  },
  {
   "cell_type": "code",
   "execution_count": 17,
   "id": "9dde9b01-b234-4845-ac50-0acb97f81ca1",
   "metadata": {},
   "outputs": [
    {
     "data": {
      "text/html": [
       "<div>\n",
       "<style scoped>\n",
       "    .dataframe tbody tr th:only-of-type {\n",
       "        vertical-align: middle;\n",
       "    }\n",
       "\n",
       "    .dataframe tbody tr th {\n",
       "        vertical-align: top;\n",
       "    }\n",
       "\n",
       "    .dataframe thead th {\n",
       "        text-align: right;\n",
       "    }\n",
       "</style>\n",
       "<table border=\"1\" class=\"dataframe\">\n",
       "  <thead>\n",
       "    <tr style=\"text-align: right;\">\n",
       "      <th></th>\n",
       "      <th>Dur</th>\n",
       "      <th>RunTime</th>\n",
       "      <th>Mean</th>\n",
       "      <th>Sum</th>\n",
       "      <th>Min</th>\n",
       "      <th>Max</th>\n",
       "      <th>Proto</th>\n",
       "      <th>sTos</th>\n",
       "      <th>sDSb</th>\n",
       "      <th>sTtl</th>\n",
       "      <th>...</th>\n",
       "      <th>DstLoss</th>\n",
       "      <th>pLoss</th>\n",
       "      <th>Rate</th>\n",
       "      <th>SrcRate</th>\n",
       "      <th>DstRate</th>\n",
       "      <th>State</th>\n",
       "      <th>TcpRtt</th>\n",
       "      <th>SynAck</th>\n",
       "      <th>AckDat</th>\n",
       "      <th>Label</th>\n",
       "    </tr>\n",
       "  </thead>\n",
       "  <tbody>\n",
       "    <tr>\n",
       "      <th>0</th>\n",
       "      <td>0.000000</td>\n",
       "      <td>0.000000</td>\n",
       "      <td>0.000000</td>\n",
       "      <td>0.000000</td>\n",
       "      <td>0.000000</td>\n",
       "      <td>0.000000</td>\n",
       "      <td>0</td>\n",
       "      <td>0.0</td>\n",
       "      <td>7</td>\n",
       "      <td>58.0</td>\n",
       "      <td>...</td>\n",
       "      <td>0</td>\n",
       "      <td>0.0</td>\n",
       "      <td>0.000000</td>\n",
       "      <td>0.000000</td>\n",
       "      <td>0.000000</td>\n",
       "      <td>2</td>\n",
       "      <td>0.0</td>\n",
       "      <td>0.0</td>\n",
       "      <td>0.0</td>\n",
       "      <td>0</td>\n",
       "    </tr>\n",
       "    <tr>\n",
       "      <th>1</th>\n",
       "      <td>0.000000</td>\n",
       "      <td>0.000000</td>\n",
       "      <td>0.000000</td>\n",
       "      <td>0.000000</td>\n",
       "      <td>0.000000</td>\n",
       "      <td>0.000000</td>\n",
       "      <td>0</td>\n",
       "      <td>0.0</td>\n",
       "      <td>7</td>\n",
       "      <td>58.0</td>\n",
       "      <td>...</td>\n",
       "      <td>0</td>\n",
       "      <td>0.0</td>\n",
       "      <td>0.000000</td>\n",
       "      <td>0.000000</td>\n",
       "      <td>0.000000</td>\n",
       "      <td>2</td>\n",
       "      <td>0.0</td>\n",
       "      <td>0.0</td>\n",
       "      <td>0.0</td>\n",
       "      <td>0</td>\n",
       "    </tr>\n",
       "    <tr>\n",
       "      <th>2</th>\n",
       "      <td>4.998020</td>\n",
       "      <td>4.998020</td>\n",
       "      <td>4.998020</td>\n",
       "      <td>4.998020</td>\n",
       "      <td>4.998020</td>\n",
       "      <td>4.998020</td>\n",
       "      <td>4</td>\n",
       "      <td>0.0</td>\n",
       "      <td>7</td>\n",
       "      <td>117.0</td>\n",
       "      <td>...</td>\n",
       "      <td>0</td>\n",
       "      <td>0.0</td>\n",
       "      <td>42.616875</td>\n",
       "      <td>39.015450</td>\n",
       "      <td>3.401347</td>\n",
       "      <td>1</td>\n",
       "      <td>0.0</td>\n",
       "      <td>0.0</td>\n",
       "      <td>0.0</td>\n",
       "      <td>0</td>\n",
       "    </tr>\n",
       "    <tr>\n",
       "      <th>3</th>\n",
       "      <td>4.998037</td>\n",
       "      <td>4.998037</td>\n",
       "      <td>4.998037</td>\n",
       "      <td>4.998037</td>\n",
       "      <td>4.998037</td>\n",
       "      <td>4.998037</td>\n",
       "      <td>4</td>\n",
       "      <td>0.0</td>\n",
       "      <td>7</td>\n",
       "      <td>117.0</td>\n",
       "      <td>...</td>\n",
       "      <td>0</td>\n",
       "      <td>0.0</td>\n",
       "      <td>36.614376</td>\n",
       "      <td>32.412727</td>\n",
       "      <td>4.001571</td>\n",
       "      <td>1</td>\n",
       "      <td>0.0</td>\n",
       "      <td>0.0</td>\n",
       "      <td>0.0</td>\n",
       "      <td>0</td>\n",
       "    </tr>\n",
       "    <tr>\n",
       "      <th>4</th>\n",
       "      <td>4.999453</td>\n",
       "      <td>4.999453</td>\n",
       "      <td>4.999453</td>\n",
       "      <td>4.999453</td>\n",
       "      <td>4.999453</td>\n",
       "      <td>4.999453</td>\n",
       "      <td>4</td>\n",
       "      <td>0.0</td>\n",
       "      <td>7</td>\n",
       "      <td>117.0</td>\n",
       "      <td>...</td>\n",
       "      <td>0</td>\n",
       "      <td>0.0</td>\n",
       "      <td>44.404858</td>\n",
       "      <td>40.604443</td>\n",
       "      <td>3.600394</td>\n",
       "      <td>1</td>\n",
       "      <td>0.0</td>\n",
       "      <td>0.0</td>\n",
       "      <td>0.0</td>\n",
       "      <td>0</td>\n",
       "    </tr>\n",
       "  </tbody>\n",
       "</table>\n",
       "<p>5 rows × 36 columns</p>\n",
       "</div>"
      ],
      "text/plain": [
       "        Dur   RunTime      Mean       Sum       Min       Max  Proto  sTos  \\\n",
       "0  0.000000  0.000000  0.000000  0.000000  0.000000  0.000000      0   0.0   \n",
       "1  0.000000  0.000000  0.000000  0.000000  0.000000  0.000000      0   0.0   \n",
       "2  4.998020  4.998020  4.998020  4.998020  4.998020  4.998020      4   0.0   \n",
       "3  4.998037  4.998037  4.998037  4.998037  4.998037  4.998037      4   0.0   \n",
       "4  4.999453  4.999453  4.999453  4.999453  4.999453  4.999453      4   0.0   \n",
       "\n",
       "   sDSb   sTtl  ...  DstLoss  pLoss       Rate    SrcRate   DstRate  State  \\\n",
       "0     7   58.0  ...        0    0.0   0.000000   0.000000  0.000000      2   \n",
       "1     7   58.0  ...        0    0.0   0.000000   0.000000  0.000000      2   \n",
       "2     7  117.0  ...        0    0.0  42.616875  39.015450  3.401347      1   \n",
       "3     7  117.0  ...        0    0.0  36.614376  32.412727  4.001571      1   \n",
       "4     7  117.0  ...        0    0.0  44.404858  40.604443  3.600394      1   \n",
       "\n",
       "   TcpRtt  SynAck  AckDat  Label  \n",
       "0     0.0     0.0     0.0      0  \n",
       "1     0.0     0.0     0.0      0  \n",
       "2     0.0     0.0     0.0      0  \n",
       "3     0.0     0.0     0.0      0  \n",
       "4     0.0     0.0     0.0      0  \n",
       "\n",
       "[5 rows x 36 columns]"
      ]
     },
     "execution_count": 17,
     "metadata": {},
     "output_type": "execute_result"
    }
   ],
   "source": [
    "data.head()"
   ]
  },
  {
   "cell_type": "code",
   "execution_count": null,
   "id": "c81f4d83-cc8f-426e-878f-c4668e6270bf",
   "metadata": {},
   "outputs": [],
   "source": []
  },
  {
   "cell_type": "markdown",
   "id": "c61cb88e-5e8b-460c-bc52-4d54a336e0c4",
   "metadata": {},
   "source": [
    "# OPTUNA"
   ]
  },
  {
   "cell_type": "code",
   "execution_count": 17,
   "id": "df8394f3-f9a9-481d-822c-ed84de460bcc",
   "metadata": {},
   "outputs": [
    {
     "name": "stderr",
     "output_type": "stream",
     "text": [
      "C:\\Users\\ulami\\anaconda3\\envs\\tf_env\\lib\\site-packages\\tqdm\\auto.py:21: TqdmWarning: IProgress not found. Please update jupyter and ipywidgets. See https://ipywidgets.readthedocs.io/en/stable/user_install.html\n",
      "  from .autonotebook import tqdm as notebook_tqdm\n",
      "[I 2025-08-12 10:45:08,388] A new study created in memory with name: no-name-9b3eb32a-d764-42e4-a3f3-a80dbaf87611\n",
      "C:\\Users\\ulami\\anaconda3\\envs\\tf_env\\lib\\site-packages\\keras\\src\\layers\\core\\dense.py:87: UserWarning: Do not pass an `input_shape`/`input_dim` argument to a layer. When using Sequential models, prefer using an `Input(shape)` object as the first layer in the model instead.\n",
      "  super().__init__(activity_regularizer=activity_regularizer, **kwargs)\n",
      "C:\\Users\\ulami\\anaconda3\\envs\\tf_env\\lib\\site-packages\\optuna\\trial\\_trial.py:497: UserWarning: The reported value is ignored because this `step` 1 is already reported.\n",
      "  warnings.warn(\n",
      "C:\\Users\\ulami\\anaconda3\\envs\\tf_env\\lib\\site-packages\\keras\\src\\layers\\core\\dense.py:87: UserWarning: Do not pass an `input_shape`/`input_dim` argument to a layer. When using Sequential models, prefer using an `Input(shape)` object as the first layer in the model instead.\n",
      "  super().__init__(activity_regularizer=activity_regularizer, **kwargs)\n",
      "C:\\Users\\ulami\\anaconda3\\envs\\tf_env\\lib\\site-packages\\optuna\\trial\\_trial.py:497: UserWarning: The reported value is ignored because this `step` 0 is already reported.\n",
      "  warnings.warn(\n",
      "C:\\Users\\ulami\\anaconda3\\envs\\tf_env\\lib\\site-packages\\optuna\\trial\\_trial.py:497: UserWarning: The reported value is ignored because this `step` 1 is already reported.\n",
      "  warnings.warn(\n",
      "C:\\Users\\ulami\\anaconda3\\envs\\tf_env\\lib\\site-packages\\optuna\\trial\\_trial.py:497: UserWarning: The reported value is ignored because this `step` 2 is already reported.\n",
      "  warnings.warn(\n",
      "C:\\Users\\ulami\\anaconda3\\envs\\tf_env\\lib\\site-packages\\optuna\\trial\\_trial.py:497: UserWarning: The reported value is ignored because this `step` 3 is already reported.\n",
      "  warnings.warn(\n",
      "C:\\Users\\ulami\\anaconda3\\envs\\tf_env\\lib\\site-packages\\optuna\\trial\\_trial.py:497: UserWarning: The reported value is ignored because this `step` 4 is already reported.\n",
      "  warnings.warn(\n",
      "C:\\Users\\ulami\\anaconda3\\envs\\tf_env\\lib\\site-packages\\optuna\\trial\\_trial.py:497: UserWarning: The reported value is ignored because this `step` 5 is already reported.\n",
      "  warnings.warn(\n",
      "C:\\Users\\ulami\\anaconda3\\envs\\tf_env\\lib\\site-packages\\optuna\\trial\\_trial.py:497: UserWarning: The reported value is ignored because this `step` 2 is already reported.\n",
      "  warnings.warn(\n",
      "C:\\Users\\ulami\\anaconda3\\envs\\tf_env\\lib\\site-packages\\keras\\src\\layers\\core\\dense.py:87: UserWarning: Do not pass an `input_shape`/`input_dim` argument to a layer. When using Sequential models, prefer using an `Input(shape)` object as the first layer in the model instead.\n",
      "  super().__init__(activity_regularizer=activity_regularizer, **kwargs)\n",
      "C:\\Users\\ulami\\anaconda3\\envs\\tf_env\\lib\\site-packages\\optuna\\trial\\_trial.py:497: UserWarning: The reported value is ignored because this `step` 0 is already reported.\n",
      "  warnings.warn(\n",
      "C:\\Users\\ulami\\anaconda3\\envs\\tf_env\\lib\\site-packages\\optuna\\trial\\_trial.py:497: UserWarning: The reported value is ignored because this `step` 1 is already reported.\n",
      "  warnings.warn(\n",
      "C:\\Users\\ulami\\anaconda3\\envs\\tf_env\\lib\\site-packages\\optuna\\trial\\_trial.py:497: UserWarning: The reported value is ignored because this `step` 2 is already reported.\n",
      "  warnings.warn(\n",
      "C:\\Users\\ulami\\anaconda3\\envs\\tf_env\\lib\\site-packages\\optuna\\trial\\_trial.py:497: UserWarning: The reported value is ignored because this `step` 3 is already reported.\n",
      "  warnings.warn(\n",
      "C:\\Users\\ulami\\anaconda3\\envs\\tf_env\\lib\\site-packages\\optuna\\trial\\_trial.py:497: UserWarning: The reported value is ignored because this `step` 4 is already reported.\n",
      "  warnings.warn(\n",
      "C:\\Users\\ulami\\anaconda3\\envs\\tf_env\\lib\\site-packages\\optuna\\trial\\_trial.py:497: UserWarning: The reported value is ignored because this `step` 5 is already reported.\n",
      "  warnings.warn(\n",
      "C:\\Users\\ulami\\anaconda3\\envs\\tf_env\\lib\\site-packages\\optuna\\trial\\_trial.py:497: UserWarning: The reported value is ignored because this `step` 6 is already reported.\n",
      "  warnings.warn(\n",
      "C:\\Users\\ulami\\anaconda3\\envs\\tf_env\\lib\\site-packages\\optuna\\trial\\_trial.py:497: UserWarning: The reported value is ignored because this `step` 7 is already reported.\n",
      "  warnings.warn(\n",
      "C:\\Users\\ulami\\anaconda3\\envs\\tf_env\\lib\\site-packages\\optuna\\trial\\_trial.py:497: UserWarning: The reported value is ignored because this `step` 8 is already reported.\n",
      "  warnings.warn(\n",
      "C:\\Users\\ulami\\anaconda3\\envs\\tf_env\\lib\\site-packages\\optuna\\trial\\_trial.py:497: UserWarning: The reported value is ignored because this `step` 3 is already reported.\n",
      "  warnings.warn(\n",
      "[I 2025-08-12 10:57:22,049] Trial 0 finished with value: 0.9732147224458467 and parameters: {'epochs': 9, 'n_layers': 3, 'n_units_l0': 8, 'dropout_l0': 0.1, 'n_units_l1': 8, 'dropout_l1': 0.1, 'n_units_l2': 64, 'dropout_l2': 0.2}. Best is trial 0 with value: 0.9732147224458467.\n",
      "C:\\Users\\ulami\\anaconda3\\envs\\tf_env\\lib\\site-packages\\keras\\src\\layers\\core\\dense.py:87: UserWarning: Do not pass an `input_shape`/`input_dim` argument to a layer. When using Sequential models, prefer using an `Input(shape)` object as the first layer in the model instead.\n",
      "  super().__init__(activity_regularizer=activity_regularizer, **kwargs)\n",
      "C:\\Users\\ulami\\anaconda3\\envs\\tf_env\\lib\\site-packages\\optuna\\trial\\_trial.py:497: UserWarning: The reported value is ignored because this `step` 1 is already reported.\n",
      "  warnings.warn(\n",
      "C:\\Users\\ulami\\anaconda3\\envs\\tf_env\\lib\\site-packages\\keras\\src\\layers\\core\\dense.py:87: UserWarning: Do not pass an `input_shape`/`input_dim` argument to a layer. When using Sequential models, prefer using an `Input(shape)` object as the first layer in the model instead.\n",
      "  super().__init__(activity_regularizer=activity_regularizer, **kwargs)\n",
      "C:\\Users\\ulami\\anaconda3\\envs\\tf_env\\lib\\site-packages\\optuna\\trial\\_trial.py:497: UserWarning: The reported value is ignored because this `step` 0 is already reported.\n",
      "  warnings.warn(\n",
      "C:\\Users\\ulami\\anaconda3\\envs\\tf_env\\lib\\site-packages\\optuna\\trial\\_trial.py:497: UserWarning: The reported value is ignored because this `step` 1 is already reported.\n",
      "  warnings.warn(\n",
      "C:\\Users\\ulami\\anaconda3\\envs\\tf_env\\lib\\site-packages\\optuna\\trial\\_trial.py:497: UserWarning: The reported value is ignored because this `step` 2 is already reported.\n",
      "  warnings.warn(\n",
      "C:\\Users\\ulami\\anaconda3\\envs\\tf_env\\lib\\site-packages\\optuna\\trial\\_trial.py:497: UserWarning: The reported value is ignored because this `step` 3 is already reported.\n",
      "  warnings.warn(\n",
      "C:\\Users\\ulami\\anaconda3\\envs\\tf_env\\lib\\site-packages\\optuna\\trial\\_trial.py:497: UserWarning: The reported value is ignored because this `step` 4 is already reported.\n",
      "  warnings.warn(\n",
      "C:\\Users\\ulami\\anaconda3\\envs\\tf_env\\lib\\site-packages\\optuna\\trial\\_trial.py:497: UserWarning: The reported value is ignored because this `step` 5 is already reported.\n",
      "  warnings.warn(\n",
      "C:\\Users\\ulami\\anaconda3\\envs\\tf_env\\lib\\site-packages\\optuna\\trial\\_trial.py:497: UserWarning: The reported value is ignored because this `step` 6 is already reported.\n",
      "  warnings.warn(\n",
      "C:\\Users\\ulami\\anaconda3\\envs\\tf_env\\lib\\site-packages\\optuna\\trial\\_trial.py:497: UserWarning: The reported value is ignored because this `step` 7 is already reported.\n",
      "  warnings.warn(\n",
      "C:\\Users\\ulami\\anaconda3\\envs\\tf_env\\lib\\site-packages\\optuna\\trial\\_trial.py:497: UserWarning: The reported value is ignored because this `step` 8 is already reported.\n",
      "  warnings.warn(\n",
      "C:\\Users\\ulami\\anaconda3\\envs\\tf_env\\lib\\site-packages\\optuna\\trial\\_trial.py:497: UserWarning: The reported value is ignored because this `step` 2 is already reported.\n",
      "  warnings.warn(\n",
      "C:\\Users\\ulami\\anaconda3\\envs\\tf_env\\lib\\site-packages\\keras\\src\\layers\\core\\dense.py:87: UserWarning: Do not pass an `input_shape`/`input_dim` argument to a layer. When using Sequential models, prefer using an `Input(shape)` object as the first layer in the model instead.\n",
      "  super().__init__(activity_regularizer=activity_regularizer, **kwargs)\n",
      "C:\\Users\\ulami\\anaconda3\\envs\\tf_env\\lib\\site-packages\\optuna\\trial\\_trial.py:497: UserWarning: The reported value is ignored because this `step` 0 is already reported.\n",
      "  warnings.warn(\n",
      "C:\\Users\\ulami\\anaconda3\\envs\\tf_env\\lib\\site-packages\\optuna\\trial\\_trial.py:497: UserWarning: The reported value is ignored because this `step` 1 is already reported.\n",
      "  warnings.warn(\n",
      "C:\\Users\\ulami\\anaconda3\\envs\\tf_env\\lib\\site-packages\\optuna\\trial\\_trial.py:497: UserWarning: The reported value is ignored because this `step` 2 is already reported.\n",
      "  warnings.warn(\n",
      "C:\\Users\\ulami\\anaconda3\\envs\\tf_env\\lib\\site-packages\\optuna\\trial\\_trial.py:497: UserWarning: The reported value is ignored because this `step` 3 is already reported.\n",
      "  warnings.warn(\n",
      "C:\\Users\\ulami\\anaconda3\\envs\\tf_env\\lib\\site-packages\\optuna\\trial\\_trial.py:497: UserWarning: The reported value is ignored because this `step` 4 is already reported.\n",
      "  warnings.warn(\n",
      "C:\\Users\\ulami\\anaconda3\\envs\\tf_env\\lib\\site-packages\\optuna\\trial\\_trial.py:497: UserWarning: The reported value is ignored because this `step` 5 is already reported.\n",
      "  warnings.warn(\n",
      "C:\\Users\\ulami\\anaconda3\\envs\\tf_env\\lib\\site-packages\\optuna\\trial\\_trial.py:497: UserWarning: The reported value is ignored because this `step` 6 is already reported.\n",
      "  warnings.warn(\n",
      "C:\\Users\\ulami\\anaconda3\\envs\\tf_env\\lib\\site-packages\\optuna\\trial\\_trial.py:497: UserWarning: The reported value is ignored because this `step` 7 is already reported.\n",
      "  warnings.warn(\n",
      "C:\\Users\\ulami\\anaconda3\\envs\\tf_env\\lib\\site-packages\\optuna\\trial\\_trial.py:497: UserWarning: The reported value is ignored because this `step` 8 is already reported.\n",
      "  warnings.warn(\n",
      "C:\\Users\\ulami\\anaconda3\\envs\\tf_env\\lib\\site-packages\\optuna\\trial\\_trial.py:497: UserWarning: The reported value is ignored because this `step` 3 is already reported.\n",
      "  warnings.warn(\n",
      "[I 2025-08-12 11:11:42,510] Trial 1 finished with value: 0.974493431636786 and parameters: {'epochs': 10, 'n_layers': 3, 'n_units_l0': 64, 'dropout_l0': 0.2, 'n_units_l1': 16, 'dropout_l1': 0.1, 'n_units_l2': 32, 'dropout_l2': 0.1}. Best is trial 1 with value: 0.974493431636786.\n",
      "C:\\Users\\ulami\\anaconda3\\envs\\tf_env\\lib\\site-packages\\keras\\src\\layers\\core\\dense.py:87: UserWarning: Do not pass an `input_shape`/`input_dim` argument to a layer. When using Sequential models, prefer using an `Input(shape)` object as the first layer in the model instead.\n",
      "  super().__init__(activity_regularizer=activity_regularizer, **kwargs)\n",
      "C:\\Users\\ulami\\anaconda3\\envs\\tf_env\\lib\\site-packages\\optuna\\trial\\_trial.py:497: UserWarning: The reported value is ignored because this `step` 1 is already reported.\n",
      "  warnings.warn(\n",
      "C:\\Users\\ulami\\anaconda3\\envs\\tf_env\\lib\\site-packages\\keras\\src\\layers\\core\\dense.py:87: UserWarning: Do not pass an `input_shape`/`input_dim` argument to a layer. When using Sequential models, prefer using an `Input(shape)` object as the first layer in the model instead.\n",
      "  super().__init__(activity_regularizer=activity_regularizer, **kwargs)\n",
      "C:\\Users\\ulami\\anaconda3\\envs\\tf_env\\lib\\site-packages\\optuna\\trial\\_trial.py:497: UserWarning: The reported value is ignored because this `step` 0 is already reported.\n",
      "  warnings.warn(\n",
      "C:\\Users\\ulami\\anaconda3\\envs\\tf_env\\lib\\site-packages\\optuna\\trial\\_trial.py:497: UserWarning: The reported value is ignored because this `step` 1 is already reported.\n",
      "  warnings.warn(\n",
      "C:\\Users\\ulami\\anaconda3\\envs\\tf_env\\lib\\site-packages\\optuna\\trial\\_trial.py:497: UserWarning: The reported value is ignored because this `step` 2 is already reported.\n",
      "  warnings.warn(\n",
      "C:\\Users\\ulami\\anaconda3\\envs\\tf_env\\lib\\site-packages\\optuna\\trial\\_trial.py:497: UserWarning: The reported value is ignored because this `step` 3 is already reported.\n",
      "  warnings.warn(\n",
      "C:\\Users\\ulami\\anaconda3\\envs\\tf_env\\lib\\site-packages\\optuna\\trial\\_trial.py:497: UserWarning: The reported value is ignored because this `step` 4 is already reported.\n",
      "  warnings.warn(\n",
      "C:\\Users\\ulami\\anaconda3\\envs\\tf_env\\lib\\site-packages\\optuna\\trial\\_trial.py:497: UserWarning: The reported value is ignored because this `step` 5 is already reported.\n",
      "  warnings.warn(\n",
      "C:\\Users\\ulami\\anaconda3\\envs\\tf_env\\lib\\site-packages\\optuna\\trial\\_trial.py:497: UserWarning: The reported value is ignored because this `step` 6 is already reported.\n",
      "  warnings.warn(\n",
      "C:\\Users\\ulami\\anaconda3\\envs\\tf_env\\lib\\site-packages\\optuna\\trial\\_trial.py:497: UserWarning: The reported value is ignored because this `step` 2 is already reported.\n",
      "  warnings.warn(\n",
      "C:\\Users\\ulami\\anaconda3\\envs\\tf_env\\lib\\site-packages\\keras\\src\\layers\\core\\dense.py:87: UserWarning: Do not pass an `input_shape`/`input_dim` argument to a layer. When using Sequential models, prefer using an `Input(shape)` object as the first layer in the model instead.\n",
      "  super().__init__(activity_regularizer=activity_regularizer, **kwargs)\n",
      "C:\\Users\\ulami\\anaconda3\\envs\\tf_env\\lib\\site-packages\\optuna\\trial\\_trial.py:497: UserWarning: The reported value is ignored because this `step` 0 is already reported.\n",
      "  warnings.warn(\n",
      "C:\\Users\\ulami\\anaconda3\\envs\\tf_env\\lib\\site-packages\\optuna\\trial\\_trial.py:497: UserWarning: The reported value is ignored because this `step` 1 is already reported.\n",
      "  warnings.warn(\n",
      "C:\\Users\\ulami\\anaconda3\\envs\\tf_env\\lib\\site-packages\\optuna\\trial\\_trial.py:497: UserWarning: The reported value is ignored because this `step` 2 is already reported.\n",
      "  warnings.warn(\n",
      "C:\\Users\\ulami\\anaconda3\\envs\\tf_env\\lib\\site-packages\\optuna\\trial\\_trial.py:497: UserWarning: The reported value is ignored because this `step` 3 is already reported.\n",
      "  warnings.warn(\n",
      "C:\\Users\\ulami\\anaconda3\\envs\\tf_env\\lib\\site-packages\\optuna\\trial\\_trial.py:497: UserWarning: The reported value is ignored because this `step` 4 is already reported.\n",
      "  warnings.warn(\n",
      "C:\\Users\\ulami\\anaconda3\\envs\\tf_env\\lib\\site-packages\\optuna\\trial\\_trial.py:497: UserWarning: The reported value is ignored because this `step` 5 is already reported.\n",
      "  warnings.warn(\n",
      "C:\\Users\\ulami\\anaconda3\\envs\\tf_env\\lib\\site-packages\\optuna\\trial\\_trial.py:497: UserWarning: The reported value is ignored because this `step` 3 is already reported.\n",
      "  warnings.warn(\n",
      "[I 2025-08-12 11:22:42,633] Trial 2 finished with value: 0.9745659665343777 and parameters: {'epochs': 8, 'n_layers': 4, 'n_units_l0': 32, 'dropout_l0': 0.1, 'n_units_l1': 64, 'dropout_l1': 0.1, 'n_units_l2': 8, 'dropout_l2': 0.0, 'n_units_l3': 64, 'dropout_l3': 0.1}. Best is trial 2 with value: 0.9745659665343777.\n",
      "C:\\Users\\ulami\\anaconda3\\envs\\tf_env\\lib\\site-packages\\keras\\src\\layers\\core\\dense.py:87: UserWarning: Do not pass an `input_shape`/`input_dim` argument to a layer. When using Sequential models, prefer using an `Input(shape)` object as the first layer in the model instead.\n",
      "  super().__init__(activity_regularizer=activity_regularizer, **kwargs)\n",
      "C:\\Users\\ulami\\anaconda3\\envs\\tf_env\\lib\\site-packages\\optuna\\trial\\_trial.py:497: UserWarning: The reported value is ignored because this `step` 1 is already reported.\n",
      "  warnings.warn(\n",
      "C:\\Users\\ulami\\anaconda3\\envs\\tf_env\\lib\\site-packages\\keras\\src\\layers\\core\\dense.py:87: UserWarning: Do not pass an `input_shape`/`input_dim` argument to a layer. When using Sequential models, prefer using an `Input(shape)` object as the first layer in the model instead.\n",
      "  super().__init__(activity_regularizer=activity_regularizer, **kwargs)\n",
      "C:\\Users\\ulami\\anaconda3\\envs\\tf_env\\lib\\site-packages\\optuna\\trial\\_trial.py:497: UserWarning: The reported value is ignored because this `step` 0 is already reported.\n",
      "  warnings.warn(\n",
      "C:\\Users\\ulami\\anaconda3\\envs\\tf_env\\lib\\site-packages\\optuna\\trial\\_trial.py:497: UserWarning: The reported value is ignored because this `step` 1 is already reported.\n",
      "  warnings.warn(\n",
      "C:\\Users\\ulami\\anaconda3\\envs\\tf_env\\lib\\site-packages\\optuna\\trial\\_trial.py:497: UserWarning: The reported value is ignored because this `step` 2 is already reported.\n",
      "  warnings.warn(\n",
      "C:\\Users\\ulami\\anaconda3\\envs\\tf_env\\lib\\site-packages\\optuna\\trial\\_trial.py:497: UserWarning: The reported value is ignored because this `step` 3 is already reported.\n",
      "  warnings.warn(\n",
      "C:\\Users\\ulami\\anaconda3\\envs\\tf_env\\lib\\site-packages\\optuna\\trial\\_trial.py:497: UserWarning: The reported value is ignored because this `step` 4 is already reported.\n",
      "  warnings.warn(\n",
      "C:\\Users\\ulami\\anaconda3\\envs\\tf_env\\lib\\site-packages\\optuna\\trial\\_trial.py:497: UserWarning: The reported value is ignored because this `step` 2 is already reported.\n",
      "  warnings.warn(\n",
      "C:\\Users\\ulami\\anaconda3\\envs\\tf_env\\lib\\site-packages\\keras\\src\\layers\\core\\dense.py:87: UserWarning: Do not pass an `input_shape`/`input_dim` argument to a layer. When using Sequential models, prefer using an `Input(shape)` object as the first layer in the model instead.\n",
      "  super().__init__(activity_regularizer=activity_regularizer, **kwargs)\n",
      "C:\\Users\\ulami\\anaconda3\\envs\\tf_env\\lib\\site-packages\\optuna\\trial\\_trial.py:497: UserWarning: The reported value is ignored because this `step` 0 is already reported.\n",
      "  warnings.warn(\n",
      "C:\\Users\\ulami\\anaconda3\\envs\\tf_env\\lib\\site-packages\\optuna\\trial\\_trial.py:497: UserWarning: The reported value is ignored because this `step` 1 is already reported.\n",
      "  warnings.warn(\n",
      "C:\\Users\\ulami\\anaconda3\\envs\\tf_env\\lib\\site-packages\\optuna\\trial\\_trial.py:497: UserWarning: The reported value is ignored because this `step` 2 is already reported.\n",
      "  warnings.warn(\n",
      "C:\\Users\\ulami\\anaconda3\\envs\\tf_env\\lib\\site-packages\\optuna\\trial\\_trial.py:497: UserWarning: The reported value is ignored because this `step` 3 is already reported.\n",
      "  warnings.warn(\n",
      "C:\\Users\\ulami\\anaconda3\\envs\\tf_env\\lib\\site-packages\\optuna\\trial\\_trial.py:497: UserWarning: The reported value is ignored because this `step` 4 is already reported.\n",
      "  warnings.warn(\n",
      "C:\\Users\\ulami\\anaconda3\\envs\\tf_env\\lib\\site-packages\\optuna\\trial\\_trial.py:497: UserWarning: The reported value is ignored because this `step` 3 is already reported.\n",
      "  warnings.warn(\n",
      "[I 2025-08-12 11:30:19,442] Trial 3 finished with value: 0.9736387731148999 and parameters: {'epochs': 5, 'n_layers': 3, 'n_units_l0': 64, 'dropout_l0': 0.1, 'n_units_l1': 8, 'dropout_l1': 0.1, 'n_units_l2': 8, 'dropout_l2': 0.0}. Best is trial 2 with value: 0.9745659665343777.\n",
      "C:\\Users\\ulami\\anaconda3\\envs\\tf_env\\lib\\site-packages\\keras\\src\\layers\\core\\dense.py:87: UserWarning: Do not pass an `input_shape`/`input_dim` argument to a layer. When using Sequential models, prefer using an `Input(shape)` object as the first layer in the model instead.\n",
      "  super().__init__(activity_regularizer=activity_regularizer, **kwargs)\n",
      "C:\\Users\\ulami\\anaconda3\\envs\\tf_env\\lib\\site-packages\\optuna\\trial\\_trial.py:497: UserWarning: The reported value is ignored because this `step` 1 is already reported.\n",
      "  warnings.warn(\n",
      "C:\\Users\\ulami\\anaconda3\\envs\\tf_env\\lib\\site-packages\\keras\\src\\layers\\core\\dense.py:87: UserWarning: Do not pass an `input_shape`/`input_dim` argument to a layer. When using Sequential models, prefer using an `Input(shape)` object as the first layer in the model instead.\n",
      "  super().__init__(activity_regularizer=activity_regularizer, **kwargs)\n",
      "C:\\Users\\ulami\\anaconda3\\envs\\tf_env\\lib\\site-packages\\optuna\\trial\\_trial.py:497: UserWarning: The reported value is ignored because this `step` 0 is already reported.\n",
      "  warnings.warn(\n",
      "C:\\Users\\ulami\\anaconda3\\envs\\tf_env\\lib\\site-packages\\optuna\\trial\\_trial.py:497: UserWarning: The reported value is ignored because this `step` 1 is already reported.\n",
      "  warnings.warn(\n",
      "C:\\Users\\ulami\\anaconda3\\envs\\tf_env\\lib\\site-packages\\optuna\\trial\\_trial.py:497: UserWarning: The reported value is ignored because this `step` 2 is already reported.\n",
      "  warnings.warn(\n",
      "C:\\Users\\ulami\\anaconda3\\envs\\tf_env\\lib\\site-packages\\optuna\\trial\\_trial.py:497: UserWarning: The reported value is ignored because this `step` 3 is already reported.\n",
      "  warnings.warn(\n",
      "C:\\Users\\ulami\\anaconda3\\envs\\tf_env\\lib\\site-packages\\optuna\\trial\\_trial.py:497: UserWarning: The reported value is ignored because this `step` 4 is already reported.\n",
      "  warnings.warn(\n",
      "C:\\Users\\ulami\\anaconda3\\envs\\tf_env\\lib\\site-packages\\optuna\\trial\\_trial.py:497: UserWarning: The reported value is ignored because this `step` 2 is already reported.\n",
      "  warnings.warn(\n",
      "C:\\Users\\ulami\\anaconda3\\envs\\tf_env\\lib\\site-packages\\keras\\src\\layers\\core\\dense.py:87: UserWarning: Do not pass an `input_shape`/`input_dim` argument to a layer. When using Sequential models, prefer using an `Input(shape)` object as the first layer in the model instead.\n",
      "  super().__init__(activity_regularizer=activity_regularizer, **kwargs)\n",
      "C:\\Users\\ulami\\anaconda3\\envs\\tf_env\\lib\\site-packages\\optuna\\trial\\_trial.py:497: UserWarning: The reported value is ignored because this `step` 0 is already reported.\n",
      "  warnings.warn(\n",
      "C:\\Users\\ulami\\anaconda3\\envs\\tf_env\\lib\\site-packages\\optuna\\trial\\_trial.py:497: UserWarning: The reported value is ignored because this `step` 1 is already reported.\n",
      "  warnings.warn(\n",
      "C:\\Users\\ulami\\anaconda3\\envs\\tf_env\\lib\\site-packages\\optuna\\trial\\_trial.py:497: UserWarning: The reported value is ignored because this `step` 2 is already reported.\n",
      "  warnings.warn(\n",
      "C:\\Users\\ulami\\anaconda3\\envs\\tf_env\\lib\\site-packages\\optuna\\trial\\_trial.py:497: UserWarning: The reported value is ignored because this `step` 3 is already reported.\n",
      "  warnings.warn(\n",
      "C:\\Users\\ulami\\anaconda3\\envs\\tf_env\\lib\\site-packages\\optuna\\trial\\_trial.py:497: UserWarning: The reported value is ignored because this `step` 3 is already reported.\n",
      "  warnings.warn(\n",
      "[I 2025-08-12 11:39:20,335] Trial 4 finished with value: 0.974132037535072 and parameters: {'epochs': 9, 'n_layers': 6, 'n_units_l0': 32, 'dropout_l0': 0.0, 'n_units_l1': 64, 'dropout_l1': 0.1, 'n_units_l2': 32, 'dropout_l2': 0.0, 'n_units_l3': 64, 'dropout_l3': 0.1, 'n_units_l4': 16, 'dropout_l4': 0.1, 'n_units_l5': 32, 'dropout_l5': 0.0}. Best is trial 2 with value: 0.9745659665343777.\n",
      "C:\\Users\\ulami\\anaconda3\\envs\\tf_env\\lib\\site-packages\\keras\\src\\layers\\core\\dense.py:87: UserWarning: Do not pass an `input_shape`/`input_dim` argument to a layer. When using Sequential models, prefer using an `Input(shape)` object as the first layer in the model instead.\n",
      "  super().__init__(activity_regularizer=activity_regularizer, **kwargs)\n",
      "[I 2025-08-12 11:39:53,434] Trial 5 pruned. Trial was pruned at epoch 0.\n",
      "C:\\Users\\ulami\\anaconda3\\envs\\tf_env\\lib\\site-packages\\keras\\src\\layers\\core\\dense.py:87: UserWarning: Do not pass an `input_shape`/`input_dim` argument to a layer. When using Sequential models, prefer using an `Input(shape)` object as the first layer in the model instead.\n",
      "  super().__init__(activity_regularizer=activity_regularizer, **kwargs)\n",
      "[I 2025-08-12 11:40:26,197] Trial 6 pruned. Trial was pruned at epoch 0.\n",
      "C:\\Users\\ulami\\anaconda3\\envs\\tf_env\\lib\\site-packages\\keras\\src\\layers\\core\\dense.py:87: UserWarning: Do not pass an `input_shape`/`input_dim` argument to a layer. When using Sequential models, prefer using an `Input(shape)` object as the first layer in the model instead.\n",
      "  super().__init__(activity_regularizer=activity_regularizer, **kwargs)\n",
      "C:\\Users\\ulami\\anaconda3\\envs\\tf_env\\lib\\site-packages\\optuna\\trial\\_trial.py:497: UserWarning: The reported value is ignored because this `step` 1 is already reported.\n",
      "  warnings.warn(\n",
      "C:\\Users\\ulami\\anaconda3\\envs\\tf_env\\lib\\site-packages\\keras\\src\\layers\\core\\dense.py:87: UserWarning: Do not pass an `input_shape`/`input_dim` argument to a layer. When using Sequential models, prefer using an `Input(shape)` object as the first layer in the model instead.\n",
      "  super().__init__(activity_regularizer=activity_regularizer, **kwargs)\n",
      "C:\\Users\\ulami\\anaconda3\\envs\\tf_env\\lib\\site-packages\\optuna\\trial\\_trial.py:497: UserWarning: The reported value is ignored because this `step` 0 is already reported.\n",
      "  warnings.warn(\n",
      "C:\\Users\\ulami\\anaconda3\\envs\\tf_env\\lib\\site-packages\\optuna\\trial\\_trial.py:497: UserWarning: The reported value is ignored because this `step` 1 is already reported.\n",
      "  warnings.warn(\n",
      "C:\\Users\\ulami\\anaconda3\\envs\\tf_env\\lib\\site-packages\\optuna\\trial\\_trial.py:497: UserWarning: The reported value is ignored because this `step` 2 is already reported.\n",
      "  warnings.warn(\n",
      "C:\\Users\\ulami\\anaconda3\\envs\\tf_env\\lib\\site-packages\\optuna\\trial\\_trial.py:497: UserWarning: The reported value is ignored because this `step` 3 is already reported.\n",
      "  warnings.warn(\n",
      "C:\\Users\\ulami\\anaconda3\\envs\\tf_env\\lib\\site-packages\\optuna\\trial\\_trial.py:497: UserWarning: The reported value is ignored because this `step` 4 is already reported.\n",
      "  warnings.warn(\n",
      "C:\\Users\\ulami\\anaconda3\\envs\\tf_env\\lib\\site-packages\\optuna\\trial\\_trial.py:497: UserWarning: The reported value is ignored because this `step` 2 is already reported.\n",
      "  warnings.warn(\n",
      "C:\\Users\\ulami\\anaconda3\\envs\\tf_env\\lib\\site-packages\\keras\\src\\layers\\core\\dense.py:87: UserWarning: Do not pass an `input_shape`/`input_dim` argument to a layer. When using Sequential models, prefer using an `Input(shape)` object as the first layer in the model instead.\n",
      "  super().__init__(activity_regularizer=activity_regularizer, **kwargs)\n",
      "C:\\Users\\ulami\\anaconda3\\envs\\tf_env\\lib\\site-packages\\optuna\\trial\\_trial.py:497: UserWarning: The reported value is ignored because this `step` 0 is already reported.\n",
      "  warnings.warn(\n",
      "C:\\Users\\ulami\\anaconda3\\envs\\tf_env\\lib\\site-packages\\optuna\\trial\\_trial.py:497: UserWarning: The reported value is ignored because this `step` 1 is already reported.\n",
      "  warnings.warn(\n",
      "C:\\Users\\ulami\\anaconda3\\envs\\tf_env\\lib\\site-packages\\optuna\\trial\\_trial.py:497: UserWarning: The reported value is ignored because this `step` 2 is already reported.\n",
      "  warnings.warn(\n",
      "C:\\Users\\ulami\\anaconda3\\envs\\tf_env\\lib\\site-packages\\optuna\\trial\\_trial.py:497: UserWarning: The reported value is ignored because this `step` 3 is already reported.\n",
      "  warnings.warn(\n",
      "C:\\Users\\ulami\\anaconda3\\envs\\tf_env\\lib\\site-packages\\optuna\\trial\\_trial.py:497: UserWarning: The reported value is ignored because this `step` 4 is already reported.\n",
      "  warnings.warn(\n",
      "C:\\Users\\ulami\\anaconda3\\envs\\tf_env\\lib\\site-packages\\optuna\\trial\\_trial.py:497: UserWarning: The reported value is ignored because this `step` 5 is already reported.\n",
      "  warnings.warn(\n",
      "C:\\Users\\ulami\\anaconda3\\envs\\tf_env\\lib\\site-packages\\optuna\\trial\\_trial.py:497: UserWarning: The reported value is ignored because this `step` 3 is already reported.\n",
      "  warnings.warn(\n",
      "[I 2025-08-12 11:49:29,387] Trial 7 finished with value: 0.9743296217358125 and parameters: {'epochs': 6, 'n_layers': 3, 'n_units_l0': 32, 'dropout_l0': 0.2, 'n_units_l1': 32, 'dropout_l1': 0.1, 'n_units_l2': 16, 'dropout_l2': 0.2}. Best is trial 2 with value: 0.9745659665343777.\n",
      "C:\\Users\\ulami\\anaconda3\\envs\\tf_env\\lib\\site-packages\\keras\\src\\layers\\core\\dense.py:87: UserWarning: Do not pass an `input_shape`/`input_dim` argument to a layer. When using Sequential models, prefer using an `Input(shape)` object as the first layer in the model instead.\n",
      "  super().__init__(activity_regularizer=activity_regularizer, **kwargs)\n",
      "[I 2025-08-12 11:49:59,993] Trial 8 pruned. Trial was pruned at epoch 0.\n",
      "C:\\Users\\ulami\\anaconda3\\envs\\tf_env\\lib\\site-packages\\keras\\src\\layers\\core\\dense.py:87: UserWarning: Do not pass an `input_shape`/`input_dim` argument to a layer. When using Sequential models, prefer using an `Input(shape)` object as the first layer in the model instead.\n",
      "  super().__init__(activity_regularizer=activity_regularizer, **kwargs)\n",
      "[I 2025-08-12 11:51:10,597] Trial 9 pruned. Trial was pruned at epoch 1.\n",
      "C:\\Users\\ulami\\anaconda3\\envs\\tf_env\\lib\\site-packages\\keras\\src\\layers\\core\\dense.py:87: UserWarning: Do not pass an `input_shape`/`input_dim` argument to a layer. When using Sequential models, prefer using an `Input(shape)` object as the first layer in the model instead.\n",
      "  super().__init__(activity_regularizer=activity_regularizer, **kwargs)\n",
      "[I 2025-08-12 11:51:41,946] Trial 10 pruned. Trial was pruned at epoch 0.\n",
      "C:\\Users\\ulami\\anaconda3\\envs\\tf_env\\lib\\site-packages\\keras\\src\\layers\\core\\dense.py:87: UserWarning: Do not pass an `input_shape`/`input_dim` argument to a layer. When using Sequential models, prefer using an `Input(shape)` object as the first layer in the model instead.\n",
      "  super().__init__(activity_regularizer=activity_regularizer, **kwargs)\n",
      "[I 2025-08-12 11:52:11,432] Trial 11 pruned. Trial was pruned at epoch 0.\n",
      "C:\\Users\\ulami\\anaconda3\\envs\\tf_env\\lib\\site-packages\\keras\\src\\layers\\core\\dense.py:87: UserWarning: Do not pass an `input_shape`/`input_dim` argument to a layer. When using Sequential models, prefer using an `Input(shape)` object as the first layer in the model instead.\n",
      "  super().__init__(activity_regularizer=activity_regularizer, **kwargs)\n",
      "[I 2025-08-12 11:52:43,168] Trial 12 pruned. Trial was pruned at epoch 0.\n",
      "C:\\Users\\ulami\\anaconda3\\envs\\tf_env\\lib\\site-packages\\keras\\src\\layers\\core\\dense.py:87: UserWarning: Do not pass an `input_shape`/`input_dim` argument to a layer. When using Sequential models, prefer using an `Input(shape)` object as the first layer in the model instead.\n",
      "  super().__init__(activity_regularizer=activity_regularizer, **kwargs)\n",
      "C:\\Users\\ulami\\anaconda3\\envs\\tf_env\\lib\\site-packages\\optuna\\trial\\_trial.py:497: UserWarning: The reported value is ignored because this `step` 1 is already reported.\n",
      "  warnings.warn(\n",
      "C:\\Users\\ulami\\anaconda3\\envs\\tf_env\\lib\\site-packages\\keras\\src\\layers\\core\\dense.py:87: UserWarning: Do not pass an `input_shape`/`input_dim` argument to a layer. When using Sequential models, prefer using an `Input(shape)` object as the first layer in the model instead.\n",
      "  super().__init__(activity_regularizer=activity_regularizer, **kwargs)\n",
      "C:\\Users\\ulami\\anaconda3\\envs\\tf_env\\lib\\site-packages\\optuna\\trial\\_trial.py:497: UserWarning: The reported value is ignored because this `step` 0 is already reported.\n",
      "  warnings.warn(\n",
      "C:\\Users\\ulami\\anaconda3\\envs\\tf_env\\lib\\site-packages\\optuna\\trial\\_trial.py:497: UserWarning: The reported value is ignored because this `step` 1 is already reported.\n",
      "  warnings.warn(\n",
      "C:\\Users\\ulami\\anaconda3\\envs\\tf_env\\lib\\site-packages\\optuna\\trial\\_trial.py:497: UserWarning: The reported value is ignored because this `step` 2 is already reported.\n",
      "  warnings.warn(\n",
      "C:\\Users\\ulami\\anaconda3\\envs\\tf_env\\lib\\site-packages\\optuna\\trial\\_trial.py:497: UserWarning: The reported value is ignored because this `step` 3 is already reported.\n",
      "  warnings.warn(\n",
      "C:\\Users\\ulami\\anaconda3\\envs\\tf_env\\lib\\site-packages\\optuna\\trial\\_trial.py:497: UserWarning: The reported value is ignored because this `step` 4 is already reported.\n",
      "  warnings.warn(\n",
      "C:\\Users\\ulami\\anaconda3\\envs\\tf_env\\lib\\site-packages\\optuna\\trial\\_trial.py:497: UserWarning: The reported value is ignored because this `step` 5 is already reported.\n",
      "  warnings.warn(\n",
      "C:\\Users\\ulami\\anaconda3\\envs\\tf_env\\lib\\site-packages\\optuna\\trial\\_trial.py:497: UserWarning: The reported value is ignored because this `step` 6 is already reported.\n",
      "  warnings.warn(\n",
      "C:\\Users\\ulami\\anaconda3\\envs\\tf_env\\lib\\site-packages\\optuna\\trial\\_trial.py:497: UserWarning: The reported value is ignored because this `step` 7 is already reported.\n",
      "  warnings.warn(\n",
      "C:\\Users\\ulami\\anaconda3\\envs\\tf_env\\lib\\site-packages\\optuna\\trial\\_trial.py:497: UserWarning: The reported value is ignored because this `step` 2 is already reported.\n",
      "  warnings.warn(\n",
      "C:\\Users\\ulami\\anaconda3\\envs\\tf_env\\lib\\site-packages\\keras\\src\\layers\\core\\dense.py:87: UserWarning: Do not pass an `input_shape`/`input_dim` argument to a layer. When using Sequential models, prefer using an `Input(shape)` object as the first layer in the model instead.\n",
      "  super().__init__(activity_regularizer=activity_regularizer, **kwargs)\n",
      "C:\\Users\\ulami\\anaconda3\\envs\\tf_env\\lib\\site-packages\\optuna\\trial\\_trial.py:497: UserWarning: The reported value is ignored because this `step` 0 is already reported.\n",
      "  warnings.warn(\n",
      "C:\\Users\\ulami\\anaconda3\\envs\\tf_env\\lib\\site-packages\\optuna\\trial\\_trial.py:497: UserWarning: The reported value is ignored because this `step` 1 is already reported.\n",
      "  warnings.warn(\n",
      "C:\\Users\\ulami\\anaconda3\\envs\\tf_env\\lib\\site-packages\\optuna\\trial\\_trial.py:497: UserWarning: The reported value is ignored because this `step` 2 is already reported.\n",
      "  warnings.warn(\n",
      "C:\\Users\\ulami\\anaconda3\\envs\\tf_env\\lib\\site-packages\\optuna\\trial\\_trial.py:497: UserWarning: The reported value is ignored because this `step` 3 is already reported.\n",
      "  warnings.warn(\n",
      "C:\\Users\\ulami\\anaconda3\\envs\\tf_env\\lib\\site-packages\\optuna\\trial\\_trial.py:497: UserWarning: The reported value is ignored because this `step` 4 is already reported.\n",
      "  warnings.warn(\n",
      "C:\\Users\\ulami\\anaconda3\\envs\\tf_env\\lib\\site-packages\\optuna\\trial\\_trial.py:497: UserWarning: The reported value is ignored because this `step` 5 is already reported.\n",
      "  warnings.warn(\n",
      "C:\\Users\\ulami\\anaconda3\\envs\\tf_env\\lib\\site-packages\\optuna\\trial\\_trial.py:497: UserWarning: The reported value is ignored because this `step` 6 is already reported.\n",
      "  warnings.warn(\n",
      "C:\\Users\\ulami\\anaconda3\\envs\\tf_env\\lib\\site-packages\\optuna\\trial\\_trial.py:497: UserWarning: The reported value is ignored because this `step` 7 is already reported.\n",
      "  warnings.warn(\n",
      "C:\\Users\\ulami\\anaconda3\\envs\\tf_env\\lib\\site-packages\\optuna\\trial\\_trial.py:497: UserWarning: The reported value is ignored because this `step` 3 is already reported.\n",
      "  warnings.warn(\n",
      "[I 2025-08-12 12:04:28,147] Trial 13 finished with value: 0.9744881630375936 and parameters: {'epochs': 8, 'n_layers': 2, 'n_units_l0': 32, 'dropout_l0': 0.2, 'n_units_l1': 64, 'dropout_l1': 0.1}. Best is trial 2 with value: 0.9745659665343777.\n",
      "C:\\Users\\ulami\\anaconda3\\envs\\tf_env\\lib\\site-packages\\keras\\src\\layers\\core\\dense.py:87: UserWarning: Do not pass an `input_shape`/`input_dim` argument to a layer. When using Sequential models, prefer using an `Input(shape)` object as the first layer in the model instead.\n",
      "  super().__init__(activity_regularizer=activity_regularizer, **kwargs)\n",
      "[I 2025-08-12 12:05:41,440] Trial 14 pruned. Trial was pruned at epoch 1.\n",
      "C:\\Users\\ulami\\anaconda3\\envs\\tf_env\\lib\\site-packages\\keras\\src\\layers\\core\\dense.py:87: UserWarning: Do not pass an `input_shape`/`input_dim` argument to a layer. When using Sequential models, prefer using an `Input(shape)` object as the first layer in the model instead.\n",
      "  super().__init__(activity_regularizer=activity_regularizer, **kwargs)\n",
      "[I 2025-08-12 12:06:14,728] Trial 15 pruned. Trial was pruned at epoch 0.\n",
      "C:\\Users\\ulami\\anaconda3\\envs\\tf_env\\lib\\site-packages\\keras\\src\\layers\\core\\dense.py:87: UserWarning: Do not pass an `input_shape`/`input_dim` argument to a layer. When using Sequential models, prefer using an `Input(shape)` object as the first layer in the model instead.\n",
      "  super().__init__(activity_regularizer=activity_regularizer, **kwargs)\n",
      "[I 2025-08-12 12:06:44,063] Trial 16 pruned. Trial was pruned at epoch 0.\n",
      "C:\\Users\\ulami\\anaconda3\\envs\\tf_env\\lib\\site-packages\\keras\\src\\layers\\core\\dense.py:87: UserWarning: Do not pass an `input_shape`/`input_dim` argument to a layer. When using Sequential models, prefer using an `Input(shape)` object as the first layer in the model instead.\n",
      "  super().__init__(activity_regularizer=activity_regularizer, **kwargs)\n",
      "[I 2025-08-12 12:07:15,219] Trial 17 pruned. Trial was pruned at epoch 0.\n",
      "C:\\Users\\ulami\\anaconda3\\envs\\tf_env\\lib\\site-packages\\keras\\src\\layers\\core\\dense.py:87: UserWarning: Do not pass an `input_shape`/`input_dim` argument to a layer. When using Sequential models, prefer using an `Input(shape)` object as the first layer in the model instead.\n",
      "  super().__init__(activity_regularizer=activity_regularizer, **kwargs)\n",
      "[I 2025-08-12 12:07:46,170] Trial 18 pruned. Trial was pruned at epoch 0.\n",
      "C:\\Users\\ulami\\anaconda3\\envs\\tf_env\\lib\\site-packages\\keras\\src\\layers\\core\\dense.py:87: UserWarning: Do not pass an `input_shape`/`input_dim` argument to a layer. When using Sequential models, prefer using an `Input(shape)` object as the first layer in the model instead.\n",
      "  super().__init__(activity_regularizer=activity_regularizer, **kwargs)\n",
      "[I 2025-08-12 12:11:13,622] Trial 19 pruned. Trial was pruned at epoch 6.\n",
      "C:\\Users\\ulami\\anaconda3\\envs\\tf_env\\lib\\site-packages\\keras\\src\\layers\\core\\dense.py:87: UserWarning: Do not pass an `input_shape`/`input_dim` argument to a layer. When using Sequential models, prefer using an `Input(shape)` object as the first layer in the model instead.\n",
      "  super().__init__(activity_regularizer=activity_regularizer, **kwargs)\n",
      "C:\\Users\\ulami\\anaconda3\\envs\\tf_env\\lib\\site-packages\\optuna\\trial\\_trial.py:497: UserWarning: The reported value is ignored because this `step` 1 is already reported.\n",
      "  warnings.warn(\n",
      "C:\\Users\\ulami\\anaconda3\\envs\\tf_env\\lib\\site-packages\\keras\\src\\layers\\core\\dense.py:87: UserWarning: Do not pass an `input_shape`/`input_dim` argument to a layer. When using Sequential models, prefer using an `Input(shape)` object as the first layer in the model instead.\n",
      "  super().__init__(activity_regularizer=activity_regularizer, **kwargs)\n",
      "C:\\Users\\ulami\\anaconda3\\envs\\tf_env\\lib\\site-packages\\optuna\\trial\\_trial.py:497: UserWarning: The reported value is ignored because this `step` 0 is already reported.\n",
      "  warnings.warn(\n",
      "C:\\Users\\ulami\\anaconda3\\envs\\tf_env\\lib\\site-packages\\optuna\\trial\\_trial.py:497: UserWarning: The reported value is ignored because this `step` 1 is already reported.\n",
      "  warnings.warn(\n",
      "C:\\Users\\ulami\\anaconda3\\envs\\tf_env\\lib\\site-packages\\optuna\\trial\\_trial.py:497: UserWarning: The reported value is ignored because this `step` 2 is already reported.\n",
      "  warnings.warn(\n",
      "C:\\Users\\ulami\\anaconda3\\envs\\tf_env\\lib\\site-packages\\optuna\\trial\\_trial.py:497: UserWarning: The reported value is ignored because this `step` 3 is already reported.\n",
      "  warnings.warn(\n",
      "C:\\Users\\ulami\\anaconda3\\envs\\tf_env\\lib\\site-packages\\optuna\\trial\\_trial.py:497: UserWarning: The reported value is ignored because this `step` 4 is already reported.\n",
      "  warnings.warn(\n",
      "C:\\Users\\ulami\\anaconda3\\envs\\tf_env\\lib\\site-packages\\optuna\\trial\\_trial.py:497: UserWarning: The reported value is ignored because this `step` 5 is already reported.\n",
      "  warnings.warn(\n",
      "C:\\Users\\ulami\\anaconda3\\envs\\tf_env\\lib\\site-packages\\optuna\\trial\\_trial.py:497: UserWarning: The reported value is ignored because this `step` 2 is already reported.\n",
      "  warnings.warn(\n",
      "C:\\Users\\ulami\\anaconda3\\envs\\tf_env\\lib\\site-packages\\keras\\src\\layers\\core\\dense.py:87: UserWarning: Do not pass an `input_shape`/`input_dim` argument to a layer. When using Sequential models, prefer using an `Input(shape)` object as the first layer in the model instead.\n",
      "  super().__init__(activity_regularizer=activity_regularizer, **kwargs)\n",
      "C:\\Users\\ulami\\anaconda3\\envs\\tf_env\\lib\\site-packages\\optuna\\trial\\_trial.py:497: UserWarning: The reported value is ignored because this `step` 0 is already reported.\n",
      "  warnings.warn(\n",
      "C:\\Users\\ulami\\anaconda3\\envs\\tf_env\\lib\\site-packages\\optuna\\trial\\_trial.py:497: UserWarning: The reported value is ignored because this `step` 1 is already reported.\n",
      "  warnings.warn(\n",
      "C:\\Users\\ulami\\anaconda3\\envs\\tf_env\\lib\\site-packages\\optuna\\trial\\_trial.py:497: UserWarning: The reported value is ignored because this `step` 2 is already reported.\n",
      "  warnings.warn(\n",
      "C:\\Users\\ulami\\anaconda3\\envs\\tf_env\\lib\\site-packages\\optuna\\trial\\_trial.py:497: UserWarning: The reported value is ignored because this `step` 3 is already reported.\n",
      "  warnings.warn(\n",
      "C:\\Users\\ulami\\anaconda3\\envs\\tf_env\\lib\\site-packages\\optuna\\trial\\_trial.py:497: UserWarning: The reported value is ignored because this `step` 4 is already reported.\n",
      "  warnings.warn(\n",
      "C:\\Users\\ulami\\anaconda3\\envs\\tf_env\\lib\\site-packages\\optuna\\trial\\_trial.py:497: UserWarning: The reported value is ignored because this `step` 5 is already reported.\n",
      "  warnings.warn(\n",
      "C:\\Users\\ulami\\anaconda3\\envs\\tf_env\\lib\\site-packages\\optuna\\trial\\_trial.py:497: UserWarning: The reported value is ignored because this `step` 6 is already reported.\n",
      "  warnings.warn(\n",
      "C:\\Users\\ulami\\anaconda3\\envs\\tf_env\\lib\\site-packages\\optuna\\trial\\_trial.py:497: UserWarning: The reported value is ignored because this `step` 7 is already reported.\n",
      "  warnings.warn(\n",
      "C:\\Users\\ulami\\anaconda3\\envs\\tf_env\\lib\\site-packages\\optuna\\trial\\_trial.py:497: UserWarning: The reported value is ignored because this `step` 8 is already reported.\n",
      "  warnings.warn(\n",
      "C:\\Users\\ulami\\anaconda3\\envs\\tf_env\\lib\\site-packages\\optuna\\trial\\_trial.py:497: UserWarning: The reported value is ignored because this `step` 3 is already reported.\n",
      "  warnings.warn(\n",
      "[I 2025-08-12 12:23:57,328] Trial 20 finished with value: 0.974126845320995 and parameters: {'epochs': 10, 'n_layers': 3, 'n_units_l0': 64, 'dropout_l0': 0.2, 'n_units_l1': 64, 'dropout_l1': 0.1, 'n_units_l2': 64, 'dropout_l2': 0.0}. Best is trial 2 with value: 0.9745659665343777.\n",
      "C:\\Users\\ulami\\anaconda3\\envs\\tf_env\\lib\\site-packages\\keras\\src\\layers\\core\\dense.py:87: UserWarning: Do not pass an `input_shape`/`input_dim` argument to a layer. When using Sequential models, prefer using an `Input(shape)` object as the first layer in the model instead.\n",
      "  super().__init__(activity_regularizer=activity_regularizer, **kwargs)\n",
      "[I 2025-08-12 12:24:55,136] Trial 21 pruned. Trial was pruned at epoch 1.\n",
      "C:\\Users\\ulami\\anaconda3\\envs\\tf_env\\lib\\site-packages\\keras\\src\\layers\\core\\dense.py:87: UserWarning: Do not pass an `input_shape`/`input_dim` argument to a layer. When using Sequential models, prefer using an `Input(shape)` object as the first layer in the model instead.\n",
      "  super().__init__(activity_regularizer=activity_regularizer, **kwargs)\n",
      "[I 2025-08-12 12:25:52,820] Trial 22 pruned. Trial was pruned at epoch 1.\n",
      "C:\\Users\\ulami\\anaconda3\\envs\\tf_env\\lib\\site-packages\\keras\\src\\layers\\core\\dense.py:87: UserWarning: Do not pass an `input_shape`/`input_dim` argument to a layer. When using Sequential models, prefer using an `Input(shape)` object as the first layer in the model instead.\n",
      "  super().__init__(activity_regularizer=activity_regularizer, **kwargs)\n",
      "[I 2025-08-12 12:26:22,702] Trial 23 pruned. Trial was pruned at epoch 0.\n",
      "C:\\Users\\ulami\\anaconda3\\envs\\tf_env\\lib\\site-packages\\keras\\src\\layers\\core\\dense.py:87: UserWarning: Do not pass an `input_shape`/`input_dim` argument to a layer. When using Sequential models, prefer using an `Input(shape)` object as the first layer in the model instead.\n",
      "  super().__init__(activity_regularizer=activity_regularizer, **kwargs)\n",
      "[I 2025-08-12 12:27:22,969] Trial 24 pruned. Trial was pruned at epoch 1.\n",
      "C:\\Users\\ulami\\anaconda3\\envs\\tf_env\\lib\\site-packages\\keras\\src\\layers\\core\\dense.py:87: UserWarning: Do not pass an `input_shape`/`input_dim` argument to a layer. When using Sequential models, prefer using an `Input(shape)` object as the first layer in the model instead.\n",
      "  super().__init__(activity_regularizer=activity_regularizer, **kwargs)\n",
      "[I 2025-08-12 12:28:20,825] Trial 25 pruned. Trial was pruned at epoch 1.\n",
      "C:\\Users\\ulami\\anaconda3\\envs\\tf_env\\lib\\site-packages\\keras\\src\\layers\\core\\dense.py:87: UserWarning: Do not pass an `input_shape`/`input_dim` argument to a layer. When using Sequential models, prefer using an `Input(shape)` object as the first layer in the model instead.\n",
      "  super().__init__(activity_regularizer=activity_regularizer, **kwargs)\n",
      "[I 2025-08-12 12:28:52,693] Trial 26 pruned. Trial was pruned at epoch 0.\n",
      "C:\\Users\\ulami\\anaconda3\\envs\\tf_env\\lib\\site-packages\\keras\\src\\layers\\core\\dense.py:87: UserWarning: Do not pass an `input_shape`/`input_dim` argument to a layer. When using Sequential models, prefer using an `Input(shape)` object as the first layer in the model instead.\n",
      "  super().__init__(activity_regularizer=activity_regularizer, **kwargs)\n",
      "[I 2025-08-12 12:29:22,858] Trial 27 pruned. Trial was pruned at epoch 0.\n",
      "C:\\Users\\ulami\\anaconda3\\envs\\tf_env\\lib\\site-packages\\keras\\src\\layers\\core\\dense.py:87: UserWarning: Do not pass an `input_shape`/`input_dim` argument to a layer. When using Sequential models, prefer using an `Input(shape)` object as the first layer in the model instead.\n",
      "  super().__init__(activity_regularizer=activity_regularizer, **kwargs)\n",
      "[I 2025-08-12 12:30:23,947] Trial 28 pruned. Trial was pruned at epoch 1.\n",
      "C:\\Users\\ulami\\anaconda3\\envs\\tf_env\\lib\\site-packages\\keras\\src\\layers\\core\\dense.py:87: UserWarning: Do not pass an `input_shape`/`input_dim` argument to a layer. When using Sequential models, prefer using an `Input(shape)` object as the first layer in the model instead.\n",
      "  super().__init__(activity_regularizer=activity_regularizer, **kwargs)\n",
      "[I 2025-08-12 12:30:52,824] Trial 29 pruned. Trial was pruned at epoch 0.\n",
      "C:\\Users\\ulami\\anaconda3\\envs\\tf_env\\lib\\site-packages\\keras\\src\\layers\\core\\dense.py:87: UserWarning: Do not pass an `input_shape`/`input_dim` argument to a layer. When using Sequential models, prefer using an `Input(shape)` object as the first layer in the model instead.\n",
      "  super().__init__(activity_regularizer=activity_regularizer, **kwargs)\n",
      "[I 2025-08-12 12:31:23,467] Trial 30 pruned. Trial was pruned at epoch 0.\n",
      "C:\\Users\\ulami\\anaconda3\\envs\\tf_env\\lib\\site-packages\\keras\\src\\layers\\core\\dense.py:87: UserWarning: Do not pass an `input_shape`/`input_dim` argument to a layer. When using Sequential models, prefer using an `Input(shape)` object as the first layer in the model instead.\n",
      "  super().__init__(activity_regularizer=activity_regularizer, **kwargs)\n",
      "C:\\Users\\ulami\\anaconda3\\envs\\tf_env\\lib\\site-packages\\optuna\\trial\\_trial.py:497: UserWarning: The reported value is ignored because this `step` 1 is already reported.\n",
      "  warnings.warn(\n",
      "C:\\Users\\ulami\\anaconda3\\envs\\tf_env\\lib\\site-packages\\keras\\src\\layers\\core\\dense.py:87: UserWarning: Do not pass an `input_shape`/`input_dim` argument to a layer. When using Sequential models, prefer using an `Input(shape)` object as the first layer in the model instead.\n",
      "  super().__init__(activity_regularizer=activity_regularizer, **kwargs)\n",
      "C:\\Users\\ulami\\anaconda3\\envs\\tf_env\\lib\\site-packages\\optuna\\trial\\_trial.py:497: UserWarning: The reported value is ignored because this `step` 0 is already reported.\n",
      "  warnings.warn(\n",
      "C:\\Users\\ulami\\anaconda3\\envs\\tf_env\\lib\\site-packages\\optuna\\trial\\_trial.py:497: UserWarning: The reported value is ignored because this `step` 1 is already reported.\n",
      "  warnings.warn(\n",
      "C:\\Users\\ulami\\anaconda3\\envs\\tf_env\\lib\\site-packages\\optuna\\trial\\_trial.py:497: UserWarning: The reported value is ignored because this `step` 2 is already reported.\n",
      "  warnings.warn(\n",
      "C:\\Users\\ulami\\anaconda3\\envs\\tf_env\\lib\\site-packages\\optuna\\trial\\_trial.py:497: UserWarning: The reported value is ignored because this `step` 3 is already reported.\n",
      "  warnings.warn(\n",
      "C:\\Users\\ulami\\anaconda3\\envs\\tf_env\\lib\\site-packages\\optuna\\trial\\_trial.py:497: UserWarning: The reported value is ignored because this `step` 4 is already reported.\n",
      "  warnings.warn(\n",
      "C:\\Users\\ulami\\anaconda3\\envs\\tf_env\\lib\\site-packages\\optuna\\trial\\_trial.py:497: UserWarning: The reported value is ignored because this `step` 2 is already reported.\n",
      "  warnings.warn(\n",
      "C:\\Users\\ulami\\anaconda3\\envs\\tf_env\\lib\\site-packages\\keras\\src\\layers\\core\\dense.py:87: UserWarning: Do not pass an `input_shape`/`input_dim` argument to a layer. When using Sequential models, prefer using an `Input(shape)` object as the first layer in the model instead.\n",
      "  super().__init__(activity_regularizer=activity_regularizer, **kwargs)\n",
      "C:\\Users\\ulami\\anaconda3\\envs\\tf_env\\lib\\site-packages\\optuna\\trial\\_trial.py:497: UserWarning: The reported value is ignored because this `step` 0 is already reported.\n",
      "  warnings.warn(\n",
      "C:\\Users\\ulami\\anaconda3\\envs\\tf_env\\lib\\site-packages\\optuna\\trial\\_trial.py:497: UserWarning: The reported value is ignored because this `step` 1 is already reported.\n",
      "  warnings.warn(\n",
      "C:\\Users\\ulami\\anaconda3\\envs\\tf_env\\lib\\site-packages\\optuna\\trial\\_trial.py:497: UserWarning: The reported value is ignored because this `step` 2 is already reported.\n",
      "  warnings.warn(\n",
      "C:\\Users\\ulami\\anaconda3\\envs\\tf_env\\lib\\site-packages\\optuna\\trial\\_trial.py:497: UserWarning: The reported value is ignored because this `step` 3 is already reported.\n",
      "  warnings.warn(\n",
      "C:\\Users\\ulami\\anaconda3\\envs\\tf_env\\lib\\site-packages\\optuna\\trial\\_trial.py:497: UserWarning: The reported value is ignored because this `step` 4 is already reported.\n",
      "  warnings.warn(\n",
      "C:\\Users\\ulami\\anaconda3\\envs\\tf_env\\lib\\site-packages\\optuna\\trial\\_trial.py:497: UserWarning: The reported value is ignored because this `step` 5 is already reported.\n",
      "  warnings.warn(\n",
      "C:\\Users\\ulami\\anaconda3\\envs\\tf_env\\lib\\site-packages\\optuna\\trial\\_trial.py:497: UserWarning: The reported value is ignored because this `step` 3 is already reported.\n",
      "  warnings.warn(\n",
      "[I 2025-08-12 12:40:09,172] Trial 31 finished with value: 0.9742497647388403 and parameters: {'epochs': 6, 'n_layers': 3, 'n_units_l0': 32, 'dropout_l0': 0.2, 'n_units_l1': 32, 'dropout_l1': 0.1, 'n_units_l2': 16, 'dropout_l2': 0.2}. Best is trial 2 with value: 0.9745659665343777.\n",
      "C:\\Users\\ulami\\anaconda3\\envs\\tf_env\\lib\\site-packages\\keras\\src\\layers\\core\\dense.py:87: UserWarning: Do not pass an `input_shape`/`input_dim` argument to a layer. When using Sequential models, prefer using an `Input(shape)` object as the first layer in the model instead.\n",
      "  super().__init__(activity_regularizer=activity_regularizer, **kwargs)\n",
      "[I 2025-08-12 12:40:40,767] Trial 32 pruned. Trial was pruned at epoch 0.\n",
      "C:\\Users\\ulami\\anaconda3\\envs\\tf_env\\lib\\site-packages\\keras\\src\\layers\\core\\dense.py:87: UserWarning: Do not pass an `input_shape`/`input_dim` argument to a layer. When using Sequential models, prefer using an `Input(shape)` object as the first layer in the model instead.\n",
      "  super().__init__(activity_regularizer=activity_regularizer, **kwargs)\n",
      "C:\\Users\\ulami\\anaconda3\\envs\\tf_env\\lib\\site-packages\\optuna\\trial\\_trial.py:497: UserWarning: The reported value is ignored because this `step` 1 is already reported.\n",
      "  warnings.warn(\n",
      "C:\\Users\\ulami\\anaconda3\\envs\\tf_env\\lib\\site-packages\\keras\\src\\layers\\core\\dense.py:87: UserWarning: Do not pass an `input_shape`/`input_dim` argument to a layer. When using Sequential models, prefer using an `Input(shape)` object as the first layer in the model instead.\n",
      "  super().__init__(activity_regularizer=activity_regularizer, **kwargs)\n",
      "C:\\Users\\ulami\\anaconda3\\envs\\tf_env\\lib\\site-packages\\optuna\\trial\\_trial.py:497: UserWarning: The reported value is ignored because this `step` 0 is already reported.\n",
      "  warnings.warn(\n",
      "C:\\Users\\ulami\\anaconda3\\envs\\tf_env\\lib\\site-packages\\optuna\\trial\\_trial.py:497: UserWarning: The reported value is ignored because this `step` 1 is already reported.\n",
      "  warnings.warn(\n",
      "C:\\Users\\ulami\\anaconda3\\envs\\tf_env\\lib\\site-packages\\optuna\\trial\\_trial.py:497: UserWarning: The reported value is ignored because this `step` 2 is already reported.\n",
      "  warnings.warn(\n",
      "C:\\Users\\ulami\\anaconda3\\envs\\tf_env\\lib\\site-packages\\optuna\\trial\\_trial.py:497: UserWarning: The reported value is ignored because this `step` 3 is already reported.\n",
      "  warnings.warn(\n",
      "C:\\Users\\ulami\\anaconda3\\envs\\tf_env\\lib\\site-packages\\optuna\\trial\\_trial.py:497: UserWarning: The reported value is ignored because this `step` 4 is already reported.\n",
      "  warnings.warn(\n",
      "C:\\Users\\ulami\\anaconda3\\envs\\tf_env\\lib\\site-packages\\optuna\\trial\\_trial.py:497: UserWarning: The reported value is ignored because this `step` 2 is already reported.\n",
      "  warnings.warn(\n",
      "C:\\Users\\ulami\\anaconda3\\envs\\tf_env\\lib\\site-packages\\keras\\src\\layers\\core\\dense.py:87: UserWarning: Do not pass an `input_shape`/`input_dim` argument to a layer. When using Sequential models, prefer using an `Input(shape)` object as the first layer in the model instead.\n",
      "  super().__init__(activity_regularizer=activity_regularizer, **kwargs)\n",
      "C:\\Users\\ulami\\anaconda3\\envs\\tf_env\\lib\\site-packages\\optuna\\trial\\_trial.py:497: UserWarning: The reported value is ignored because this `step` 0 is already reported.\n",
      "  warnings.warn(\n",
      "C:\\Users\\ulami\\anaconda3\\envs\\tf_env\\lib\\site-packages\\optuna\\trial\\_trial.py:497: UserWarning: The reported value is ignored because this `step` 1 is already reported.\n",
      "  warnings.warn(\n",
      "C:\\Users\\ulami\\anaconda3\\envs\\tf_env\\lib\\site-packages\\optuna\\trial\\_trial.py:497: UserWarning: The reported value is ignored because this `step` 2 is already reported.\n",
      "  warnings.warn(\n",
      "C:\\Users\\ulami\\anaconda3\\envs\\tf_env\\lib\\site-packages\\optuna\\trial\\_trial.py:497: UserWarning: The reported value is ignored because this `step` 3 is already reported.\n",
      "  warnings.warn(\n",
      "C:\\Users\\ulami\\anaconda3\\envs\\tf_env\\lib\\site-packages\\optuna\\trial\\_trial.py:497: UserWarning: The reported value is ignored because this `step` 4 is already reported.\n",
      "  warnings.warn(\n",
      "C:\\Users\\ulami\\anaconda3\\envs\\tf_env\\lib\\site-packages\\optuna\\trial\\_trial.py:497: UserWarning: The reported value is ignored because this `step` 5 is already reported.\n",
      "  warnings.warn(\n",
      "C:\\Users\\ulami\\anaconda3\\envs\\tf_env\\lib\\site-packages\\optuna\\trial\\_trial.py:497: UserWarning: The reported value is ignored because this `step` 6 is already reported.\n",
      "  warnings.warn(\n",
      "C:\\Users\\ulami\\anaconda3\\envs\\tf_env\\lib\\site-packages\\optuna\\trial\\_trial.py:497: UserWarning: The reported value is ignored because this `step` 3 is already reported.\n",
      "  warnings.warn(\n",
      "[I 2025-08-12 12:51:12,827] Trial 33 finished with value: 0.9737932198267746 and parameters: {'epochs': 7, 'n_layers': 3, 'n_units_l0': 32, 'dropout_l0': 0.2, 'n_units_l1': 32, 'dropout_l1': 0.1, 'n_units_l2': 16, 'dropout_l2': 0.2}. Best is trial 2 with value: 0.9745659665343777.\n",
      "C:\\Users\\ulami\\anaconda3\\envs\\tf_env\\lib\\site-packages\\keras\\src\\layers\\core\\dense.py:87: UserWarning: Do not pass an `input_shape`/`input_dim` argument to a layer. When using Sequential models, prefer using an `Input(shape)` object as the first layer in the model instead.\n",
      "  super().__init__(activity_regularizer=activity_regularizer, **kwargs)\n",
      "[I 2025-08-12 12:51:47,058] Trial 34 pruned. Trial was pruned at epoch 0.\n",
      "C:\\Users\\ulami\\anaconda3\\envs\\tf_env\\lib\\site-packages\\keras\\src\\layers\\core\\dense.py:87: UserWarning: Do not pass an `input_shape`/`input_dim` argument to a layer. When using Sequential models, prefer using an `Input(shape)` object as the first layer in the model instead.\n",
      "  super().__init__(activity_regularizer=activity_regularizer, **kwargs)\n",
      "[I 2025-08-12 12:52:17,920] Trial 35 pruned. Trial was pruned at epoch 0.\n",
      "C:\\Users\\ulami\\anaconda3\\envs\\tf_env\\lib\\site-packages\\keras\\src\\layers\\core\\dense.py:87: UserWarning: Do not pass an `input_shape`/`input_dim` argument to a layer. When using Sequential models, prefer using an `Input(shape)` object as the first layer in the model instead.\n",
      "  super().__init__(activity_regularizer=activity_regularizer, **kwargs)\n",
      "[I 2025-08-12 12:52:50,444] Trial 36 pruned. Trial was pruned at epoch 0.\n",
      "C:\\Users\\ulami\\anaconda3\\envs\\tf_env\\lib\\site-packages\\keras\\src\\layers\\core\\dense.py:87: UserWarning: Do not pass an `input_shape`/`input_dim` argument to a layer. When using Sequential models, prefer using an `Input(shape)` object as the first layer in the model instead.\n",
      "  super().__init__(activity_regularizer=activity_regularizer, **kwargs)\n",
      "[I 2025-08-12 12:53:54,457] Trial 37 pruned. Trial was pruned at epoch 1.\n",
      "C:\\Users\\ulami\\anaconda3\\envs\\tf_env\\lib\\site-packages\\keras\\src\\layers\\core\\dense.py:87: UserWarning: Do not pass an `input_shape`/`input_dim` argument to a layer. When using Sequential models, prefer using an `Input(shape)` object as the first layer in the model instead.\n",
      "  super().__init__(activity_regularizer=activity_regularizer, **kwargs)\n",
      "[I 2025-08-12 12:55:01,631] Trial 38 pruned. Trial was pruned at epoch 1.\n",
      "C:\\Users\\ulami\\anaconda3\\envs\\tf_env\\lib\\site-packages\\keras\\src\\layers\\core\\dense.py:87: UserWarning: Do not pass an `input_shape`/`input_dim` argument to a layer. When using Sequential models, prefer using an `Input(shape)` object as the first layer in the model instead.\n",
      "  super().__init__(activity_regularizer=activity_regularizer, **kwargs)\n",
      "[I 2025-08-12 12:56:27,646] Trial 39 pruned. Trial was pruned at epoch 1.\n",
      "C:\\Users\\ulami\\anaconda3\\envs\\tf_env\\lib\\site-packages\\keras\\src\\layers\\core\\dense.py:87: UserWarning: Do not pass an `input_shape`/`input_dim` argument to a layer. When using Sequential models, prefer using an `Input(shape)` object as the first layer in the model instead.\n",
      "  super().__init__(activity_regularizer=activity_regularizer, **kwargs)\n",
      "[I 2025-08-12 12:57:29,203] Trial 40 pruned. Trial was pruned at epoch 0.\n",
      "C:\\Users\\ulami\\anaconda3\\envs\\tf_env\\lib\\site-packages\\keras\\src\\layers\\core\\dense.py:87: UserWarning: Do not pass an `input_shape`/`input_dim` argument to a layer. When using Sequential models, prefer using an `Input(shape)` object as the first layer in the model instead.\n",
      "  super().__init__(activity_regularizer=activity_regularizer, **kwargs)\n",
      "[I 2025-08-12 12:58:00,212] Trial 41 pruned. Trial was pruned at epoch 0.\n",
      "C:\\Users\\ulami\\anaconda3\\envs\\tf_env\\lib\\site-packages\\keras\\src\\layers\\core\\dense.py:87: UserWarning: Do not pass an `input_shape`/`input_dim` argument to a layer. When using Sequential models, prefer using an `Input(shape)` object as the first layer in the model instead.\n",
      "  super().__init__(activity_regularizer=activity_regularizer, **kwargs)\n",
      "[I 2025-08-12 12:58:31,760] Trial 42 pruned. Trial was pruned at epoch 0.\n",
      "C:\\Users\\ulami\\anaconda3\\envs\\tf_env\\lib\\site-packages\\keras\\src\\layers\\core\\dense.py:87: UserWarning: Do not pass an `input_shape`/`input_dim` argument to a layer. When using Sequential models, prefer using an `Input(shape)` object as the first layer in the model instead.\n",
      "  super().__init__(activity_regularizer=activity_regularizer, **kwargs)\n",
      "[I 2025-08-12 12:59:04,469] Trial 43 pruned. Trial was pruned at epoch 0.\n",
      "C:\\Users\\ulami\\anaconda3\\envs\\tf_env\\lib\\site-packages\\keras\\src\\layers\\core\\dense.py:87: UserWarning: Do not pass an `input_shape`/`input_dim` argument to a layer. When using Sequential models, prefer using an `Input(shape)` object as the first layer in the model instead.\n",
      "  super().__init__(activity_regularizer=activity_regularizer, **kwargs)\n",
      "[I 2025-08-12 12:59:34,105] Trial 44 pruned. Trial was pruned at epoch 0.\n",
      "C:\\Users\\ulami\\anaconda3\\envs\\tf_env\\lib\\site-packages\\keras\\src\\layers\\core\\dense.py:87: UserWarning: Do not pass an `input_shape`/`input_dim` argument to a layer. When using Sequential models, prefer using an `Input(shape)` object as the first layer in the model instead.\n",
      "  super().__init__(activity_regularizer=activity_regularizer, **kwargs)\n",
      "[I 2025-08-12 13:00:34,779] Trial 45 pruned. Trial was pruned at epoch 1.\n",
      "C:\\Users\\ulami\\anaconda3\\envs\\tf_env\\lib\\site-packages\\keras\\src\\layers\\core\\dense.py:87: UserWarning: Do not pass an `input_shape`/`input_dim` argument to a layer. When using Sequential models, prefer using an `Input(shape)` object as the first layer in the model instead.\n",
      "  super().__init__(activity_regularizer=activity_regularizer, **kwargs)\n",
      "[I 2025-08-12 13:01:06,498] Trial 46 pruned. Trial was pruned at epoch 0.\n",
      "C:\\Users\\ulami\\anaconda3\\envs\\tf_env\\lib\\site-packages\\keras\\src\\layers\\core\\dense.py:87: UserWarning: Do not pass an `input_shape`/`input_dim` argument to a layer. When using Sequential models, prefer using an `Input(shape)` object as the first layer in the model instead.\n",
      "  super().__init__(activity_regularizer=activity_regularizer, **kwargs)\n",
      "[I 2025-08-12 13:01:34,750] Trial 47 pruned. Trial was pruned at epoch 0.\n",
      "C:\\Users\\ulami\\anaconda3\\envs\\tf_env\\lib\\site-packages\\keras\\src\\layers\\core\\dense.py:87: UserWarning: Do not pass an `input_shape`/`input_dim` argument to a layer. When using Sequential models, prefer using an `Input(shape)` object as the first layer in the model instead.\n",
      "  super().__init__(activity_regularizer=activity_regularizer, **kwargs)\n",
      "[I 2025-08-12 13:02:06,495] Trial 48 pruned. Trial was pruned at epoch 0.\n",
      "C:\\Users\\ulami\\anaconda3\\envs\\tf_env\\lib\\site-packages\\keras\\src\\layers\\core\\dense.py:87: UserWarning: Do not pass an `input_shape`/`input_dim` argument to a layer. When using Sequential models, prefer using an `Input(shape)` object as the first layer in the model instead.\n",
      "  super().__init__(activity_regularizer=activity_regularizer, **kwargs)\n",
      "[I 2025-08-12 13:02:36,876] Trial 49 pruned. Trial was pruned at epoch 0.\n"
     ]
    },
    {
     "name": "stdout",
     "output_type": "stream",
     "text": [
      "Best params: {'epochs': 8, 'n_layers': 4, 'n_units_l0': 32, 'dropout_l0': 0.1, 'n_units_l1': 64, 'dropout_l1': 0.1, 'n_units_l2': 8, 'dropout_l2': 0.0, 'n_units_l3': 64, 'dropout_l3': 0.1}\n",
      "Best CV macro F1: 0.9746\n"
     ]
    }
   ],
   "source": [
    "import optuna\n",
    "from optuna.integration import TFKerasPruningCallback\n",
    "import numpy as np\n",
    "import pandas as pd\n",
    "\n",
    "from sklearn.model_selection import train_test_split, StratifiedKFold\n",
    "from sklearn.preprocessing import StandardScaler\n",
    "from sklearn.metrics import classification_report\n",
    "\n",
    "from tensorflow.keras.models import Sequential\n",
    "from tensorflow.keras.layers import Dense, Dropout\n",
    "from tensorflow.keras.optimizers import Adam\n",
    "from tensorflow.keras.callbacks import EarlyStopping\n",
    "\n",
    "\n",
    "X = data.drop(columns=['Label']).values\n",
    "y = data['Label'].values\n",
    "\n",
    "X_trainval, X_test, y_trainval, y_test = train_test_split(\n",
    "    X, y, test_size=0.2, stratify=y, random_state=1\n",
    ")\n",
    "\n",
    "# ---------------------------\n",
    "# Model factory\n",
    "# ---------------------------\n",
    "def create_model(trial, input_dim):\n",
    "    model = Sequential()\n",
    "    n_layers = trial.suggest_int(\"n_layers\", 2, 6)\n",
    "    for i in range(n_layers):\n",
    "        units = trial.suggest_categorical(f\"n_units_l{i}\", [8, 16, 32, 64])\n",
    "        dropout_rate = trial.suggest_categorical(f\"dropout_l{i}\", [0.0, 0.1, 0.2])\n",
    "\n",
    "        if i == 0:\n",
    "            model.add(Dense(units, activation='relu', input_shape=(input_dim,)))\n",
    "        else:\n",
    "            model.add(Dense(units, activation='relu'))\n",
    "\n",
    "        if dropout_rate > 0:\n",
    "            model.add(Dropout(dropout_rate))\n",
    "\n",
    "    model.add(Dense(1, activation='sigmoid'))\n",
    "    model.compile(optimizer=Adam(learning_rate=0.001), loss='binary_crossentropy', metrics=['accuracy'])\n",
    "    return model\n",
    "\n",
    "# ---------------------------\n",
    "# 2) Optuna objective with Stratified K-Fold on trainval\n",
    "#    + collect out-of-fold predictions to build one CV report per trial\n",
    "# ---------------------------\n",
    "trial_reports = []\n",
    "\n",
    "def objective(trial):\n",
    "    n_epochs   = trial.suggest_int(\"epochs\", 5, 10)\n",
    "\n",
    "    skf = StratifiedKFold(n_splits=3, shuffle=True, random_state=1)\n",
    "\n",
    "    # Out-of-fold (OOF) predictions aligned to y_trainval\n",
    "    oof_pred = np.full(shape=y_trainval.shape[0], fill_value=np.nan, dtype=float)\n",
    "\n",
    "    fold_f1s = []\n",
    "    folds_meta = []\n",
    "    for fold_idx, (tr_idx, va_idx) in enumerate(skf.split(X_trainval, y_trainval), start=1):\n",
    "        X_tr, X_va = X_trainval[tr_idx], X_trainval[va_idx]\n",
    "        y_tr, y_va = y_trainval[tr_idx], y_trainval[va_idx]\n",
    "\n",
    "        scaler = StandardScaler()\n",
    "        X_tr = scaler.fit_transform(X_tr)\n",
    "        X_va = scaler.transform(X_va)\n",
    "\n",
    "        model = create_model(trial, input_dim=X_tr.shape[1])\n",
    "\n",
    "        early_stop = EarlyStopping(monitor='val_loss', patience=3, restore_best_weights=True, verbose=0)\n",
    "        pruning_cb = TFKerasPruningCallback(trial, \"val_accuracy\")\n",
    "\n",
    "        model.fit(\n",
    "            X_tr, y_tr,\n",
    "            validation_data=(X_va, y_va),\n",
    "            epochs=n_epochs,\n",
    "            batch_size=32,\n",
    "            verbose=0,\n",
    "            callbacks=[early_stop, pruning_cb]\n",
    "        )\n",
    "\n",
    "        va_prob = model.predict(X_va, verbose=0).ravel()\n",
    "        oof_pred[va_idx] = va_prob\n",
    "        va_pred = (va_prob > 0.5).astype(int)\n",
    "\n",
    "        rep = classification_report(y_va, va_pred, output_dict=True, zero_division=0)\n",
    "        f1_macro = rep['macro avg']['f1-score']\n",
    "        fold_f1s.append(f1_macro)\n",
    "        folds_meta.append({'fold': fold_idx, 'f1_macro': float(f1_macro)})\n",
    "\n",
    "        trial.report(np.mean(fold_f1s), step=fold_idx)\n",
    "        if trial.should_prune():\n",
    "            raise optuna.exceptions.TrialPruned()\n",
    "\n",
    "    # Build ONE report per trial from OOF predictions (same structure you used before)\n",
    "    assert not np.isnan(oof_pred).any(), \"OOF predictions not fully filled\"\n",
    "    oof_label = (oof_pred > 0.5).astype(int)\n",
    "    cv_report = classification_report(y_trainval, oof_label, output_dict=True, zero_division=0)\n",
    "\n",
    "    # Save exactly the fields your flattening code expects\n",
    "    trial_reports.append({\n",
    "        'trial_number': trial.number,\n",
    "        'params': trial.params,\n",
    "        'report': cv_report,   # has keys: 'accuracy', 'macro avg', '0', '1', ...\n",
    "        'folds': folds_meta,\n",
    "        'mean_f1_macro': float(np.mean(fold_f1s))\n",
    "    })\n",
    "\n",
    "    return float(np.mean(fold_f1s))\n",
    "\n",
    "# ---------------------------\n",
    "# 3) Run optimization\n",
    "# ---------------------------\n",
    "study = optuna.create_study(direction=\"maximize\")\n",
    "study.optimize(objective, n_trials=50)\n",
    "\n",
    "print(\"Best params:\", study.best_trial.params)\n",
    "print(f\"Best CV macro F1: {study.best_value:.4f}\")\n"
   ]
  },
  {
   "cell_type": "code",
   "execution_count": 23,
   "id": "6daceb04-d3fb-4fd5-9ac3-38e258247ef6",
   "metadata": {},
   "outputs": [
    {
     "name": "stderr",
     "output_type": "stream",
     "text": [
      "C:\\Users\\ulami\\anaconda3\\envs\\tf_env\\lib\\site-packages\\keras\\src\\layers\\core\\dense.py:87: UserWarning:\n",
      "\n",
      "Do not pass an `input_shape`/`input_dim` argument to a layer. When using Sequential models, prefer using an `Input(shape)` object as the first layer in the model instead.\n",
      "\n"
     ]
    },
    {
     "name": "stdout",
     "output_type": "stream",
     "text": [
      "Final Test Set Report:\n",
      "              precision    recall  f1-score   support\n",
      "\n",
      "           0       1.00      0.94      0.97     95505\n",
      "           1       0.96      1.00      0.98    147631\n",
      "\n",
      "    accuracy                           0.98    243136\n",
      "   macro avg       0.98      0.97      0.97    243136\n",
      "weighted avg       0.98      0.98      0.98    243136\n",
      "\n"
     ]
    }
   ],
   "source": [
    "scaler_full = StandardScaler().fit(X_trainval)\n",
    "X_trainval_scaled = scaler_full.transform(X_trainval)\n",
    "X_test_scaled = scaler_full.transform(X_test)\n",
    "\n",
    "best_model = create_model(study.best_trial, input_dim=X_trainval_scaled.shape[1])\n",
    "best_model.fit(\n",
    "    X_trainval_scaled, y_trainval,\n",
    "    epochs=study.best_trial.params['epochs'],\n",
    "    batch_size=32,\n",
    "    verbose=0\n",
    ")\n",
    "\n",
    "y_test_pred = (best_model.predict(X_test_scaled, verbose=0).ravel() > 0.5).astype(int)\n",
    "final_report = classification_report(y_test, y_test_pred, zero_division=0)\n",
    "print(\"Final Test Set Report:\")\n",
    "print(final_report)"
   ]
  },
  {
   "cell_type": "code",
   "execution_count": 30,
   "id": "9a8b8cb4-e9b3-429e-a85e-23bf4541221a",
   "metadata": {},
   "outputs": [
    {
     "data": {
      "text/html": [
       "<pre style=\"white-space:pre;overflow-x:auto;line-height:normal;font-family:Menlo,'DejaVu Sans Mono',consolas,'Courier New',monospace\"><span style=\"font-weight: bold\">Model: \"sequential_70\"</span>\n",
       "</pre>\n"
      ],
      "text/plain": [
       "\u001b[1mModel: \"sequential_70\"\u001b[0m\n"
      ]
     },
     "metadata": {},
     "output_type": "display_data"
    },
    {
     "data": {
      "text/html": [
       "<pre style=\"white-space:pre;overflow-x:auto;line-height:normal;font-family:Menlo,'DejaVu Sans Mono',consolas,'Courier New',monospace\">┏━━━━━━━━━━━━━━━━━━━━━━━━━━━━━━━━━┳━━━━━━━━━━━━━━━━━━━━━━━━┳━━━━━━━━━━━━━━━┓\n",
       "┃<span style=\"font-weight: bold\"> Layer (type)                    </span>┃<span style=\"font-weight: bold\"> Output Shape           </span>┃<span style=\"font-weight: bold\">       Param # </span>┃\n",
       "┡━━━━━━━━━━━━━━━━━━━━━━━━━━━━━━━━━╇━━━━━━━━━━━━━━━━━━━━━━━━╇━━━━━━━━━━━━━━━┩\n",
       "│ dense_306 (<span style=\"color: #0087ff; text-decoration-color: #0087ff\">Dense</span>)               │ (<span style=\"color: #00d7ff; text-decoration-color: #00d7ff\">None</span>, <span style=\"color: #00af00; text-decoration-color: #00af00\">32</span>)             │         <span style=\"color: #00af00; text-decoration-color: #00af00\">1,152</span> │\n",
       "├─────────────────────────────────┼────────────────────────┼───────────────┤\n",
       "│ dropout_189 (<span style=\"color: #0087ff; text-decoration-color: #0087ff\">Dropout</span>)           │ (<span style=\"color: #00d7ff; text-decoration-color: #00d7ff\">None</span>, <span style=\"color: #00af00; text-decoration-color: #00af00\">32</span>)             │             <span style=\"color: #00af00; text-decoration-color: #00af00\">0</span> │\n",
       "├─────────────────────────────────┼────────────────────────┼───────────────┤\n",
       "│ dense_307 (<span style=\"color: #0087ff; text-decoration-color: #0087ff\">Dense</span>)               │ (<span style=\"color: #00d7ff; text-decoration-color: #00d7ff\">None</span>, <span style=\"color: #00af00; text-decoration-color: #00af00\">64</span>)             │         <span style=\"color: #00af00; text-decoration-color: #00af00\">2,112</span> │\n",
       "├─────────────────────────────────┼────────────────────────┼───────────────┤\n",
       "│ dropout_190 (<span style=\"color: #0087ff; text-decoration-color: #0087ff\">Dropout</span>)           │ (<span style=\"color: #00d7ff; text-decoration-color: #00d7ff\">None</span>, <span style=\"color: #00af00; text-decoration-color: #00af00\">64</span>)             │             <span style=\"color: #00af00; text-decoration-color: #00af00\">0</span> │\n",
       "├─────────────────────────────────┼────────────────────────┼───────────────┤\n",
       "│ dense_308 (<span style=\"color: #0087ff; text-decoration-color: #0087ff\">Dense</span>)               │ (<span style=\"color: #00d7ff; text-decoration-color: #00d7ff\">None</span>, <span style=\"color: #00af00; text-decoration-color: #00af00\">8</span>)              │           <span style=\"color: #00af00; text-decoration-color: #00af00\">520</span> │\n",
       "├─────────────────────────────────┼────────────────────────┼───────────────┤\n",
       "│ dense_309 (<span style=\"color: #0087ff; text-decoration-color: #0087ff\">Dense</span>)               │ (<span style=\"color: #00d7ff; text-decoration-color: #00d7ff\">None</span>, <span style=\"color: #00af00; text-decoration-color: #00af00\">64</span>)             │           <span style=\"color: #00af00; text-decoration-color: #00af00\">576</span> │\n",
       "├─────────────────────────────────┼────────────────────────┼───────────────┤\n",
       "│ dropout_191 (<span style=\"color: #0087ff; text-decoration-color: #0087ff\">Dropout</span>)           │ (<span style=\"color: #00d7ff; text-decoration-color: #00d7ff\">None</span>, <span style=\"color: #00af00; text-decoration-color: #00af00\">64</span>)             │             <span style=\"color: #00af00; text-decoration-color: #00af00\">0</span> │\n",
       "├─────────────────────────────────┼────────────────────────┼───────────────┤\n",
       "│ dense_310 (<span style=\"color: #0087ff; text-decoration-color: #0087ff\">Dense</span>)               │ (<span style=\"color: #00d7ff; text-decoration-color: #00d7ff\">None</span>, <span style=\"color: #00af00; text-decoration-color: #00af00\">1</span>)              │            <span style=\"color: #00af00; text-decoration-color: #00af00\">65</span> │\n",
       "└─────────────────────────────────┴────────────────────────┴───────────────┘\n",
       "</pre>\n"
      ],
      "text/plain": [
       "┏━━━━━━━━━━━━━━━━━━━━━━━━━━━━━━━━━┳━━━━━━━━━━━━━━━━━━━━━━━━┳━━━━━━━━━━━━━━━┓\n",
       "┃\u001b[1m \u001b[0m\u001b[1mLayer (type)                   \u001b[0m\u001b[1m \u001b[0m┃\u001b[1m \u001b[0m\u001b[1mOutput Shape          \u001b[0m\u001b[1m \u001b[0m┃\u001b[1m \u001b[0m\u001b[1m      Param #\u001b[0m\u001b[1m \u001b[0m┃\n",
       "┡━━━━━━━━━━━━━━━━━━━━━━━━━━━━━━━━━╇━━━━━━━━━━━━━━━━━━━━━━━━╇━━━━━━━━━━━━━━━┩\n",
       "│ dense_306 (\u001b[38;5;33mDense\u001b[0m)               │ (\u001b[38;5;45mNone\u001b[0m, \u001b[38;5;34m32\u001b[0m)             │         \u001b[38;5;34m1,152\u001b[0m │\n",
       "├─────────────────────────────────┼────────────────────────┼───────────────┤\n",
       "│ dropout_189 (\u001b[38;5;33mDropout\u001b[0m)           │ (\u001b[38;5;45mNone\u001b[0m, \u001b[38;5;34m32\u001b[0m)             │             \u001b[38;5;34m0\u001b[0m │\n",
       "├─────────────────────────────────┼────────────────────────┼───────────────┤\n",
       "│ dense_307 (\u001b[38;5;33mDense\u001b[0m)               │ (\u001b[38;5;45mNone\u001b[0m, \u001b[38;5;34m64\u001b[0m)             │         \u001b[38;5;34m2,112\u001b[0m │\n",
       "├─────────────────────────────────┼────────────────────────┼───────────────┤\n",
       "│ dropout_190 (\u001b[38;5;33mDropout\u001b[0m)           │ (\u001b[38;5;45mNone\u001b[0m, \u001b[38;5;34m64\u001b[0m)             │             \u001b[38;5;34m0\u001b[0m │\n",
       "├─────────────────────────────────┼────────────────────────┼───────────────┤\n",
       "│ dense_308 (\u001b[38;5;33mDense\u001b[0m)               │ (\u001b[38;5;45mNone\u001b[0m, \u001b[38;5;34m8\u001b[0m)              │           \u001b[38;5;34m520\u001b[0m │\n",
       "├─────────────────────────────────┼────────────────────────┼───────────────┤\n",
       "│ dense_309 (\u001b[38;5;33mDense\u001b[0m)               │ (\u001b[38;5;45mNone\u001b[0m, \u001b[38;5;34m64\u001b[0m)             │           \u001b[38;5;34m576\u001b[0m │\n",
       "├─────────────────────────────────┼────────────────────────┼───────────────┤\n",
       "│ dropout_191 (\u001b[38;5;33mDropout\u001b[0m)           │ (\u001b[38;5;45mNone\u001b[0m, \u001b[38;5;34m64\u001b[0m)             │             \u001b[38;5;34m0\u001b[0m │\n",
       "├─────────────────────────────────┼────────────────────────┼───────────────┤\n",
       "│ dense_310 (\u001b[38;5;33mDense\u001b[0m)               │ (\u001b[38;5;45mNone\u001b[0m, \u001b[38;5;34m1\u001b[0m)              │            \u001b[38;5;34m65\u001b[0m │\n",
       "└─────────────────────────────────┴────────────────────────┴───────────────┘\n"
      ]
     },
     "metadata": {},
     "output_type": "display_data"
    },
    {
     "data": {
      "text/html": [
       "<pre style=\"white-space:pre;overflow-x:auto;line-height:normal;font-family:Menlo,'DejaVu Sans Mono',consolas,'Courier New',monospace\"><span style=\"font-weight: bold\"> Total params: </span><span style=\"color: #00af00; text-decoration-color: #00af00\">13,277</span> (51.87 KB)\n",
       "</pre>\n"
      ],
      "text/plain": [
       "\u001b[1m Total params: \u001b[0m\u001b[38;5;34m13,277\u001b[0m (51.87 KB)\n"
      ]
     },
     "metadata": {},
     "output_type": "display_data"
    },
    {
     "data": {
      "text/html": [
       "<pre style=\"white-space:pre;overflow-x:auto;line-height:normal;font-family:Menlo,'DejaVu Sans Mono',consolas,'Courier New',monospace\"><span style=\"font-weight: bold\"> Trainable params: </span><span style=\"color: #00af00; text-decoration-color: #00af00\">4,425</span> (17.29 KB)\n",
       "</pre>\n"
      ],
      "text/plain": [
       "\u001b[1m Trainable params: \u001b[0m\u001b[38;5;34m4,425\u001b[0m (17.29 KB)\n"
      ]
     },
     "metadata": {},
     "output_type": "display_data"
    },
    {
     "data": {
      "text/html": [
       "<pre style=\"white-space:pre;overflow-x:auto;line-height:normal;font-family:Menlo,'DejaVu Sans Mono',consolas,'Courier New',monospace\"><span style=\"font-weight: bold\"> Non-trainable params: </span><span style=\"color: #00af00; text-decoration-color: #00af00\">0</span> (0.00 B)\n",
       "</pre>\n"
      ],
      "text/plain": [
       "\u001b[1m Non-trainable params: \u001b[0m\u001b[38;5;34m0\u001b[0m (0.00 B)\n"
      ]
     },
     "metadata": {},
     "output_type": "display_data"
    },
    {
     "data": {
      "text/html": [
       "<pre style=\"white-space:pre;overflow-x:auto;line-height:normal;font-family:Menlo,'DejaVu Sans Mono',consolas,'Courier New',monospace\"><span style=\"font-weight: bold\"> Optimizer params: </span><span style=\"color: #00af00; text-decoration-color: #00af00\">8,852</span> (34.58 KB)\n",
       "</pre>\n"
      ],
      "text/plain": [
       "\u001b[1m Optimizer params: \u001b[0m\u001b[38;5;34m8,852\u001b[0m (34.58 KB)\n"
      ]
     },
     "metadata": {},
     "output_type": "display_data"
    }
   ],
   "source": [
    "best_model.summary()"
   ]
  },
  {
   "cell_type": "code",
   "execution_count": 24,
   "id": "f5fb745d-bdb8-4ee6-a5e0-20eb91e3d93d",
   "metadata": {},
   "outputs": [
    {
     "name": "stdout",
     "output_type": "stream",
     "text": [
      "Test Accuracy: 97.57%\n",
      "Test Precision: 97.65%\n",
      "Test Recall: 97.57%\n"
     ]
    }
   ],
   "source": [
    "from sklearn.metrics import accuracy_score, precision_score, recall_score\n",
    "# Calculate metrics\n",
    "accuracy = accuracy_score(y_test, y_test_pred)\n",
    "precision = precision_score(y_test, y_test_pred, average='weighted')\n",
    "recall = recall_score(y_test, y_test_pred, average='weighted')\n",
    "\n",
    "# Print results\n",
    "print(f\"Test Accuracy: {accuracy * 100:.2f}%\")\n",
    "print(f\"Test Precision: {precision * 100:.2f}%\")\n",
    "print(f\"Test Recall: {recall * 100:.2f}%\")\n"
   ]
  },
  {
   "cell_type": "code",
   "execution_count": 25,
   "id": "b5100b41-4753-4001-a5af-092c74ff9e70",
   "metadata": {},
   "outputs": [
    {
     "data": {
      "image/png": "[encoded data removed]",
      "text/plain": [
       "<Figure size 600x400 with 2 Axes>"
      ]
     },
     "metadata": {},
     "output_type": "display_data"
    },
    {
     "name": "stdout",
     "output_type": "stream",
     "text": [
      "                precision    recall  f1-score   support\n",
      "\n",
      "Normal Traffic       1.00      0.94      0.97     95505\n",
      "        Attack       0.96      1.00      0.98    147631\n",
      "\n",
      "      accuracy                           0.98    243136\n",
      "     macro avg       0.98      0.97      0.97    243136\n",
      "  weighted avg       0.98      0.98      0.98    243136\n",
      "\n"
     ]
    }
   ],
   "source": [
    "import matplotlib.pyplot as plt\n",
    "import seaborn as sns\n",
    "from sklearn.metrics import confusion_matrix, classification_report\n",
    "\n",
    "# Compute confusion matrix\n",
    "cm = confusion_matrix(y_test, y_test_pred)\n",
    "\n",
    "# Plot the confusion matrix\n",
    "plt.figure(figsize=(6, 4))\n",
    "sns.heatmap(cm, annot=True, fmt='d', cmap='Blues', xticklabels=['Normal Traffic (0)', 'Attack (1)'], yticklabels=['Normal Traffic (0)', 'Attack (1)'])\n",
    "plt.xlabel('Predicted')\n",
    "plt.ylabel('Actual')\n",
    "plt.title('Confusion Matrix')\n",
    "plt.show()\n",
    "\n",
    "# Print detailed classification report\n",
    "print(classification_report(y_test, y_test_pred, target_names=['Normal Traffic', 'Attack']))\n"
   ]
  },
  {
   "cell_type": "code",
   "execution_count": 18,
   "id": "5b0ebcb7-0290-4619-ab6c-950e03abd1aa",
   "metadata": {},
   "outputs": [
    {
     "name": "stdout",
     "output_type": "stream",
     "text": [
      "Zapisano raporty do: optuna_5G_NIDD_classification_reports.csv\n"
     ]
    }
   ],
   "source": [
    "flattened_reports = []\n",
    "for entry in trial_reports:\n",
    "    flat = {\n",
    "        'trial_number': entry['trial_number'],\n",
    "        **entry['params'],\n",
    "        'accuracy': entry['report']['accuracy'],\n",
    "        'macro_f1': entry['report']['macro avg']['f1-score'],\n",
    "        'macro_precision': entry['report']['macro avg']['precision'],\n",
    "        'macro_recall': entry['report']['macro avg']['recall'],\n",
    "        'class_0_f1': entry['report']['0']['f1-score'],\n",
    "        'class_1_f1': entry['report']['1']['f1-score']\n",
    "    }\n",
    "    flattened_reports.append(flat)\n",
    "\n",
    "df_reports = pd.DataFrame(flattened_reports)\n",
    "df_reports.to_csv('optuna_5G_NIDD_new_classification_reports.csv', index=False)\n",
    "\n",
    "print(\"Zapisano raporty do: optuna_5G_NIDD_classification_reports.csv\")\n"
   ]
  },
  {
   "cell_type": "code",
   "execution_count": 19,
   "id": "d8a451d8-c417-4085-a37b-4f12267ff83f",
   "metadata": {},
   "outputs": [],
   "source": [
    "import optuna.visualization as vis"
   ]
  },
  {
   "cell_type": "code",
   "execution_count": 20,
   "id": "9389256b-c21f-405d-9e47-1374be03bb2b",
   "metadata": {},
   "outputs": [
    {
     "data": {
      "application/vnd.plotly.v1+json": {
       "config": {
        "plotlyServerURL": "https://plot.ly"
       },
       "data": [
        {
         "mode": "markers",
         "name": "Objective Value",
         "type": "scatter",
         "x": [
          0,
          1,
          2,
          3,
          4,
          7,
          13,
          20,
          31,
          33
         ],
         "y": [
          0.9732147224458467,
          0.974493431636786,
          0.9745659665343777,
          0.9736387731148999,
          0.974132037535072,
          0.9743296217358125,
          0.9744881630375936,
          0.974126845320995,
          0.9742497647388403,
          0.9737932198267746
         ]
        },
        {
         "mode": "lines",
         "name": "Best Value",
         "type": "scatter",
         "x": [
          0,
          1,
          2,
          3,
          4,
          5,
          6,
          7,
          8,
          9,
          10,
          11,
          12,
          13,
          14,
          15,
          16,
          17,
          18,
          19,
          20,
          21,
          22,
          23,
          24,
          25,
          26,
          27,
          28,
          29,
          30,
          31,
          32,
          33,
          34,
          35,
          36,
          37,
          38,
          39,
          40,
          41,
          42,
          43,
          44,
          45,
          46,
          47,
          48,
          49
         ],
         "y": [
          0.9732147224458467,
          0.974493431636786,
          0.9745659665343777,
          0.9745659665343777,
          0.9745659665343777,
          0.9745659665343777,
          0.9745659665343777,
          0.9745659665343777,
          0.9745659665343777,
          0.9745659665343777,
          0.9745659665343777,
          0.9745659665343777,
          0.9745659665343777,
          0.9745659665343777,
          0.9745659665343777,
          0.9745659665343777,
          0.9745659665343777,
          0.9745659665343777,
          0.9745659665343777,
          0.9745659665343777,
          0.9745659665343777,
          0.9745659665343777,
          0.9745659665343777,
          0.9745659665343777,
          0.9745659665343777,
          0.9745659665343777,
          0.9745659665343777,
          0.9745659665343777,
          0.9745659665343777,
          0.9745659665343777,
          0.9745659665343777,
          0.9745659665343777,
          0.9745659665343777,
          0.9745659665343777,
          0.9745659665343777,
          0.9745659665343777,
          0.9745659665343777,
          0.9745659665343777,
          0.9745659665343777,
          0.9745659665343777,
          0.9745659665343777,
          0.9745659665343777,
          0.9745659665343777,
          0.9745659665343777,
          0.9745659665343777,
          0.9745659665343777,
          0.9745659665343777,
          0.9745659665343777,
          0.9745659665343777,
          0.9745659665343777
         ]
        },
        {
         "marker": {
          "color": "#cccccc"
         },
         "mode": "markers",
         "name": "Infeasible Trial",
         "showlegend": false,
         "type": "scatter",
         "x": [],
         "y": []
        }
       ],
       "layout": {
        "template": {
         "data": {
          "bar": [
           {
            "error_x": {
             "color": "#2a3f5f"
            },
            "error_y": {
             "color": "#2a3f5f"
            },
            "marker": {
             "line": {
              "color": "#E5ECF6",
              "width": 0.5
             },
             "pattern": {
              "fillmode": "overlay",
              "size": 10,
              "solidity": 0.2
             }
            },
            "type": "bar"
           }
          ],
          "barpolar": [
           {
            "marker": {
             "line": {
              "color": "#E5ECF6",
              "width": 0.5
             },
             "pattern": {
              "fillmode": "overlay",
              "size": 10,
              "solidity": 0.2
             }
            },
            "type": "barpolar"
           }
          ],
          "carpet": [
           {
            "aaxis": {
             "endlinecolor": "#2a3f5f",
             "gridcolor": "white",
             "linecolor": "white",
             "minorgridcolor": "white",
             "startlinecolor": "#2a3f5f"
            },
            "baxis": {
             "endlinecolor": "#2a3f5f",
             "gridcolor": "white",
             "linecolor": "white",
             "minorgridcolor": "white",
             "startlinecolor": "#2a3f5f"
            },
            "type": "carpet"
           }
          ],
          "choropleth": [
           {
            "colorbar": {
             "outlinewidth": 0,
             "ticks": ""
            },
            "type": "choropleth"
           }
          ],
          "contour": [
           {
            "colorbar": {
             "outlinewidth": 0,
             "ticks": ""
            },
            "colorscale": [
             [
              0,
              "#0d0887"
             ],
             [
              0.1111111111111111,
              "#46039f"
             ],
             [
              0.2222222222222222,
              "#7201a8"
             ],
             [
              0.3333333333333333,
              "#9c179e"
             ],
             [
              0.4444444444444444,
              "#bd3786"
             ],
             [
              0.5555555555555556,
              "#d8576b"
             ],
             [
              0.6666666666666666,
              "#ed7953"
             ],
             [
              0.7777777777777778,
              "#fb9f3a"
             ],
             [
              0.8888888888888888,
              "#fdca26"
             ],
             [
              1,
              "#f0f921"
             ]
            ],
            "type": "contour"
           }
          ],
          "contourcarpet": [
           {
            "colorbar": {
             "outlinewidth": 0,
             "ticks": ""
            },
            "type": "contourcarpet"
           }
          ],
          "heatmap": [
           {
            "colorbar": {
             "outlinewidth": 0,
             "ticks": ""
            },
            "colorscale": [
             [
              0,
              "#0d0887"
             ],
             [
              0.1111111111111111,
              "#46039f"
             ],
             [
              0.2222222222222222,
              "#7201a8"
             ],
             [
              0.3333333333333333,
              "#9c179e"
             ],
             [
              0.4444444444444444,
              "#bd3786"
             ],
             [
              0.5555555555555556,
              "#d8576b"
             ],
             [
              0.6666666666666666,
              "#ed7953"
             ],
             [
              0.7777777777777778,
              "#fb9f3a"
             ],
             [
              0.8888888888888888,
              "#fdca26"
             ],
             [
              1,
              "#f0f921"
             ]
            ],
            "type": "heatmap"
           }
          ],
          "histogram": [
           {
            "marker": {
             "pattern": {
              "fillmode": "overlay",
              "size": 10,
              "solidity": 0.2
             }
            },
            "type": "histogram"
           }
          ],
          "histogram2d": [
           {
            "colorbar": {
             "outlinewidth": 0,
             "ticks": ""
            },
            "colorscale": [
             [
              0,
              "#0d0887"
             ],
             [
              0.1111111111111111,
              "#46039f"
             ],
             [
              0.2222222222222222,
              "#7201a8"
             ],
             [
              0.3333333333333333,
              "#9c179e"
             ],
             [
              0.4444444444444444,
              "#bd3786"
             ],
             [
              0.5555555555555556,
              "#d8576b"
             ],
             [
              0.6666666666666666,
              "#ed7953"
             ],
             [
              0.7777777777777778,
              "#fb9f3a"
             ],
             [
              0.8888888888888888,
              "#fdca26"
             ],
             [
              1,
              "#f0f921"
             ]
            ],
            "type": "histogram2d"
           }
          ],
          "histogram2dcontour": [
           {
            "colorbar": {
             "outlinewidth": 0,
             "ticks": ""
            },
            "colorscale": [
             [
              0,
              "#0d0887"
             ],
             [
              0.1111111111111111,
              "#46039f"
             ],
             [
              0.2222222222222222,
              "#7201a8"
             ],
             [
              0.3333333333333333,
              "#9c179e"
             ],
             [
              0.4444444444444444,
              "#bd3786"
             ],
             [
              0.5555555555555556,
              "#d8576b"
             ],
             [
              0.6666666666666666,
              "#ed7953"
             ],
             [
              0.7777777777777778,
              "#fb9f3a"
             ],
             [
              0.8888888888888888,
              "#fdca26"
             ],
             [
              1,
              "#f0f921"
             ]
            ],
            "type": "histogram2dcontour"
           }
          ],
          "mesh3d": [
           {
            "colorbar": {
             "outlinewidth": 0,
             "ticks": ""
            },
            "type": "mesh3d"
           }
          ],
          "parcoords": [
           {
            "line": {
             "colorbar": {
              "outlinewidth": 0,
              "ticks": ""
             }
            },
            "type": "parcoords"
           }
          ],
          "pie": [
           {
            "automargin": true,
            "type": "pie"
           }
          ],
          "scatter": [
           {
            "fillpattern": {
             "fillmode": "overlay",
             "size": 10,
             "solidity": 0.2
            },
            "type": "scatter"
           }
          ],
          "scatter3d": [
           {
            "line": {
             "colorbar": {
              "outlinewidth": 0,
              "ticks": ""
             }
            },
            "marker": {
             "colorbar": {
              "outlinewidth": 0,
              "ticks": ""
             }
            },
            "type": "scatter3d"
           }
          ],
          "scattercarpet": [
           {
            "marker": {
             "colorbar": {
              "outlinewidth": 0,
              "ticks": ""
             }
            },
            "type": "scattercarpet"
           }
          ],
          "scattergeo": [
           {
            "marker": {
             "colorbar": {
              "outlinewidth": 0,
              "ticks": ""
             }
            },
            "type": "scattergeo"
           }
          ],
          "scattergl": [
           {
            "marker": {
             "colorbar": {
              "outlinewidth": 0,
              "ticks": ""
             }
            },
            "type": "scattergl"
           }
          ],
          "scattermap": [
           {
            "marker": {
             "colorbar": {
              "outlinewidth": 0,
              "ticks": ""
             }
            },
            "type": "scattermap"
           }
          ],
          "scattermapbox": [
           {
            "marker": {
             "colorbar": {
              "outlinewidth": 0,
              "ticks": ""
             }
            },
            "type": "scattermapbox"
           }
          ],
          "scatterpolar": [
           {
            "marker": {
             "colorbar": {
              "outlinewidth": 0,
              "ticks": ""
             }
            },
            "type": "scatterpolar"
           }
          ],
          "scatterpolargl": [
           {
            "marker": {
             "colorbar": {
              "outlinewidth": 0,
              "ticks": ""
             }
            },
            "type": "scatterpolargl"
           }
          ],
          "scatterternary": [
           {
            "marker": {
             "colorbar": {
              "outlinewidth": 0,
              "ticks": ""
             }
            },
            "type": "scatterternary"
           }
          ],
          "surface": [
           {
            "colorbar": {
             "outlinewidth": 0,
             "ticks": ""
            },
            "colorscale": [
             [
              0,
              "#0d0887"
             ],
             [
              0.1111111111111111,
              "#46039f"
             ],
             [
              0.2222222222222222,
              "#7201a8"
             ],
             [
              0.3333333333333333,
              "#9c179e"
             ],
             [
              0.4444444444444444,
              "#bd3786"
             ],
             [
              0.5555555555555556,
              "#d8576b"
             ],
             [
              0.6666666666666666,
              "#ed7953"
             ],
             [
              0.7777777777777778,
              "#fb9f3a"
             ],
             [
              0.8888888888888888,
              "#fdca26"
             ],
             [
              1,
              "#f0f921"
             ]
            ],
            "type": "surface"
           }
          ],
          "table": [
           {
            "cells": {
             "fill": {
              "color": "#EBF0F8"
             },
             "line": {
              "color": "white"
             }
            },
            "header": {
             "fill": {
              "color": "#C8D4E3"
             },
             "line": {
              "color": "white"
             }
            },
            "type": "table"
           }
          ]
         },
         "layout": {
          "annotationdefaults": {
           "arrowcolor": "#2a3f5f",
           "arrowhead": 0,
           "arrowwidth": 1
          },
          "autotypenumbers": "strict",
          "coloraxis": {
           "colorbar": {
            "outlinewidth": 0,
            "ticks": ""
           }
          },
          "colorscale": {
           "diverging": [
            [
             0,
             "#8e0152"
            ],
            [
             0.1,
             "#c51b7d"
            ],
            [
             0.2,
             "#de77ae"
            ],
            [
             0.3,
             "#f1b6da"
            ],
            [
             0.4,
             "#fde0ef"
            ],
            [
             0.5,
             "#f7f7f7"
            ],
            [
             0.6,
             "#e6f5d0"
            ],
            [
             0.7,
             "#b8e186"
            ],
            [
             0.8,
             "#7fbc41"
            ],
            [
             0.9,
             "#4d9221"
            ],
            [
             1,
             "#276419"
            ]
           ],
           "sequential": [
            [
             0,
             "#0d0887"
            ],
            [
             0.1111111111111111,
             "#46039f"
            ],
            [
             0.2222222222222222,
             "#7201a8"
            ],
            [
             0.3333333333333333,
             "#9c179e"
            ],
            [
             0.4444444444444444,
             "#bd3786"
            ],
            [
             0.5555555555555556,
             "#d8576b"
            ],
            [
             0.6666666666666666,
             "#ed7953"
            ],
            [
             0.7777777777777778,
             "#fb9f3a"
            ],
            [
             0.8888888888888888,
             "#fdca26"
            ],
            [
             1,
             "#f0f921"
            ]
           ],
           "sequentialminus": [
            [
             0,
             "#0d0887"
            ],
            [
             0.1111111111111111,
             "#46039f"
            ],
            [
             0.2222222222222222,
             "#7201a8"
            ],
            [
             0.3333333333333333,
             "#9c179e"
            ],
            [
             0.4444444444444444,
             "#bd3786"
            ],
            [
             0.5555555555555556,
             "#d8576b"
            ],
            [
             0.6666666666666666,
             "#ed7953"
            ],
            [
             0.7777777777777778,
             "#fb9f3a"
            ],
            [
             0.8888888888888888,
             "#fdca26"
            ],
            [
             1,
             "#f0f921"
            ]
           ]
          },
          "colorway": [
           "#636efa",
           "#EF553B",
           "#00cc96",
           "#ab63fa",
           "#FFA15A",
           "#19d3f3",
           "#FF6692",
           "#B6E880",
           "#FF97FF",
           "#FECB52"
          ],
          "font": {
           "color": "#2a3f5f"
          },
          "geo": {
           "bgcolor": "white",
           "lakecolor": "white",
           "landcolor": "#E5ECF6",
           "showlakes": true,
           "showland": true,
           "subunitcolor": "white"
          },
          "hoverlabel": {
           "align": "left"
          },
          "hovermode": "closest",
          "mapbox": {
           "style": "light"
          },
          "paper_bgcolor": "white",
          "plot_bgcolor": "#E5ECF6",
          "polar": {
           "angularaxis": {
            "gridcolor": "white",
            "linecolor": "white",
            "ticks": ""
           },
           "bgcolor": "#E5ECF6",
           "radialaxis": {
            "gridcolor": "white",
            "linecolor": "white",
            "ticks": ""
           }
          },
          "scene": {
           "xaxis": {
            "backgroundcolor": "#E5ECF6",
            "gridcolor": "white",
            "gridwidth": 2,
            "linecolor": "white",
            "showbackground": true,
            "ticks": "",
            "zerolinecolor": "white"
           },
           "yaxis": {
            "backgroundcolor": "#E5ECF6",
            "gridcolor": "white",
            "gridwidth": 2,
            "linecolor": "white",
            "showbackground": true,
            "ticks": "",
            "zerolinecolor": "white"
           },
           "zaxis": {
            "backgroundcolor": "#E5ECF6",
            "gridcolor": "white",
            "gridwidth": 2,
            "linecolor": "white",
            "showbackground": true,
            "ticks": "",
            "zerolinecolor": "white"
           }
          },
          "shapedefaults": {
           "line": {
            "color": "#2a3f5f"
           }
          },
          "ternary": {
           "aaxis": {
            "gridcolor": "white",
            "linecolor": "white",
            "ticks": ""
           },
           "baxis": {
            "gridcolor": "white",
            "linecolor": "white",
            "ticks": ""
           },
           "bgcolor": "#E5ECF6",
           "caxis": {
            "gridcolor": "white",
            "linecolor": "white",
            "ticks": ""
           }
          },
          "title": {
           "x": 0.05
          },
          "xaxis": {
           "automargin": true,
           "gridcolor": "white",
           "linecolor": "white",
           "ticks": "",
           "title": {
            "standoff": 15
           },
           "zerolinecolor": "white",
           "zerolinewidth": 2
          },
          "yaxis": {
           "automargin": true,
           "gridcolor": "white",
           "linecolor": "white",
           "ticks": "",
           "title": {
            "standoff": 15
           },
           "zerolinecolor": "white",
           "zerolinewidth": 2
          }
         }
        },
        "title": {
         "text": "Optimization History Plot"
        },
        "xaxis": {
         "title": {
          "text": "Trial"
         }
        },
        "yaxis": {
         "title": {
          "text": "Objective Value"
         }
        }
       }
      },
      "image/png": "[encoded data removed]"
     },
     "metadata": {},
     "output_type": "display_data"
    }
   ],
   "source": [
    "fig1 = optuna.visualization.plot_optimization_history(study)\n",
    "fig1.show()"
   ]
  },
  {
   "cell_type": "code",
   "execution_count": 21,
   "id": "88d8a9c1-ed4c-449c-a269-ba0feb1cbae9",
   "metadata": {},
   "outputs": [
    {
     "data": {
      "application/vnd.plotly.v1+json": {
       "config": {
        "plotlyServerURL": "https://plot.ly"
       },
       "data": [
        {
         "cliponaxis": false,
         "hovertemplate": [
          "dropout_l1 (CategoricalDistribution): 0.0<extra></extra>",
          "n_layers (IntDistribution): 0.019063098341327845<extra></extra>",
          "n_units_l0 (CategoricalDistribution): 0.11798291942987174<extra></extra>",
          "epochs (IntDistribution): 0.17024995244446972<extra></extra>",
          "dropout_l0 (CategoricalDistribution): 0.23558868733749425<extra></extra>",
          "n_units_l1 (CategoricalDistribution): 0.4571153424468365<extra></extra>"
         ],
         "name": "Objective Value",
         "orientation": "h",
         "text": [
          "<0.01",
          "0.02",
          "0.12",
          "0.17",
          "0.24",
          "0.46"
         ],
         "textposition": "outside",
         "type": "bar",
         "x": [
          0,
          0.019063098341327845,
          0.11798291942987174,
          0.17024995244446972,
          0.23558868733749425,
          0.4571153424468365
         ],
         "y": [
          "dropout_l1",
          "n_layers",
          "n_units_l0",
          "epochs",
          "dropout_l0",
          "n_units_l1"
         ]
        }
       ],
       "layout": {
        "template": {
         "data": {
          "bar": [
           {
            "error_x": {
             "color": "#2a3f5f"
            },
            "error_y": {
             "color": "#2a3f5f"
            },
            "marker": {
             "line": {
              "color": "#E5ECF6",
              "width": 0.5
             },
             "pattern": {
              "fillmode": "overlay",
              "size": 10,
              "solidity": 0.2
             }
            },
            "type": "bar"
           }
          ],
          "barpolar": [
           {
            "marker": {
             "line": {
              "color": "#E5ECF6",
              "width": 0.5
             },
             "pattern": {
              "fillmode": "overlay",
              "size": 10,
              "solidity": 0.2
             }
            },
            "type": "barpolar"
           }
          ],
          "carpet": [
           {
            "aaxis": {
             "endlinecolor": "#2a3f5f",
             "gridcolor": "white",
             "linecolor": "white",
             "minorgridcolor": "white",
             "startlinecolor": "#2a3f5f"
            },
            "baxis": {
             "endlinecolor": "#2a3f5f",
             "gridcolor": "white",
             "linecolor": "white",
             "minorgridcolor": "white",
             "startlinecolor": "#2a3f5f"
            },
            "type": "carpet"
           }
          ],
          "choropleth": [
           {
            "colorbar": {
             "outlinewidth": 0,
             "ticks": ""
            },
            "type": "choropleth"
           }
          ],
          "contour": [
           {
            "colorbar": {
             "outlinewidth": 0,
             "ticks": ""
            },
            "colorscale": [
             [
              0,
              "#0d0887"
             ],
             [
              0.1111111111111111,
              "#46039f"
             ],
             [
              0.2222222222222222,
              "#7201a8"
             ],
             [
              0.3333333333333333,
              "#9c179e"
             ],
             [
              0.4444444444444444,
              "#bd3786"
             ],
             [
              0.5555555555555556,
              "#d8576b"
             ],
             [
              0.6666666666666666,
              "#ed7953"
             ],
             [
              0.7777777777777778,
              "#fb9f3a"
             ],
             [
              0.8888888888888888,
              "#fdca26"
             ],
             [
              1,
              "#f0f921"
             ]
            ],
            "type": "contour"
           }
          ],
          "contourcarpet": [
           {
            "colorbar": {
             "outlinewidth": 0,
             "ticks": ""
            },
            "type": "contourcarpet"
           }
          ],
          "heatmap": [
           {
            "colorbar": {
             "outlinewidth": 0,
             "ticks": ""
            },
            "colorscale": [
             [
              0,
              "#0d0887"
             ],
             [
              0.1111111111111111,
              "#46039f"
             ],
             [
              0.2222222222222222,
              "#7201a8"
             ],
             [
              0.3333333333333333,
              "#9c179e"
             ],
             [
              0.4444444444444444,
              "#bd3786"
             ],
             [
              0.5555555555555556,
              "#d8576b"
             ],
             [
              0.6666666666666666,
              "#ed7953"
             ],
             [
              0.7777777777777778,
              "#fb9f3a"
             ],
             [
              0.8888888888888888,
              "#fdca26"
             ],
             [
              1,
              "#f0f921"
             ]
            ],
            "type": "heatmap"
           }
          ],
          "histogram": [
           {
            "marker": {
             "pattern": {
              "fillmode": "overlay",
              "size": 10,
              "solidity": 0.2
             }
            },
            "type": "histogram"
           }
          ],
          "histogram2d": [
           {
            "colorbar": {
             "outlinewidth": 0,
             "ticks": ""
            },
            "colorscale": [
             [
              0,
              "#0d0887"
             ],
             [
              0.1111111111111111,
              "#46039f"
             ],
             [
              0.2222222222222222,
              "#7201a8"
             ],
             [
              0.3333333333333333,
              "#9c179e"
             ],
             [
              0.4444444444444444,
              "#bd3786"
             ],
             [
              0.5555555555555556,
              "#d8576b"
             ],
             [
              0.6666666666666666,
              "#ed7953"
             ],
             [
              0.7777777777777778,
              "#fb9f3a"
             ],
             [
              0.8888888888888888,
              "#fdca26"
             ],
             [
              1,
              "#f0f921"
             ]
            ],
            "type": "histogram2d"
           }
          ],
          "histogram2dcontour": [
           {
            "colorbar": {
             "outlinewidth": 0,
             "ticks": ""
            },
            "colorscale": [
             [
              0,
              "#0d0887"
             ],
             [
              0.1111111111111111,
              "#46039f"
             ],
             [
              0.2222222222222222,
              "#7201a8"
             ],
             [
              0.3333333333333333,
              "#9c179e"
             ],
             [
              0.4444444444444444,
              "#bd3786"
             ],
             [
              0.5555555555555556,
              "#d8576b"
             ],
             [
              0.6666666666666666,
              "#ed7953"
             ],
             [
              0.7777777777777778,
              "#fb9f3a"
             ],
             [
              0.8888888888888888,
              "#fdca26"
             ],
             [
              1,
              "#f0f921"
             ]
            ],
            "type": "histogram2dcontour"
           }
          ],
          "mesh3d": [
           {
            "colorbar": {
             "outlinewidth": 0,
             "ticks": ""
            },
            "type": "mesh3d"
           }
          ],
          "parcoords": [
           {
            "line": {
             "colorbar": {
              "outlinewidth": 0,
              "ticks": ""
             }
            },
            "type": "parcoords"
           }
          ],
          "pie": [
           {
            "automargin": true,
            "type": "pie"
           }
          ],
          "scatter": [
           {
            "fillpattern": {
             "fillmode": "overlay",
             "size": 10,
             "solidity": 0.2
            },
            "type": "scatter"
           }
          ],
          "scatter3d": [
           {
            "line": {
             "colorbar": {
              "outlinewidth": 0,
              "ticks": ""
             }
            },
            "marker": {
             "colorbar": {
              "outlinewidth": 0,
              "ticks": ""
             }
            },
            "type": "scatter3d"
           }
          ],
          "scattercarpet": [
           {
            "marker": {
             "colorbar": {
              "outlinewidth": 0,
              "ticks": ""
             }
            },
            "type": "scattercarpet"
           }
          ],
          "scattergeo": [
           {
            "marker": {
             "colorbar": {
              "outlinewidth": 0,
              "ticks": ""
             }
            },
            "type": "scattergeo"
           }
          ],
          "scattergl": [
           {
            "marker": {
             "colorbar": {
              "outlinewidth": 0,
              "ticks": ""
             }
            },
            "type": "scattergl"
           }
          ],
          "scattermap": [
           {
            "marker": {
             "colorbar": {
              "outlinewidth": 0,
              "ticks": ""
             }
            },
            "type": "scattermap"
           }
          ],
          "scattermapbox": [
           {
            "marker": {
             "colorbar": {
              "outlinewidth": 0,
              "ticks": ""
             }
            },
            "type": "scattermapbox"
           }
          ],
          "scatterpolar": [
           {
            "marker": {
             "colorbar": {
              "outlinewidth": 0,
              "ticks": ""
             }
            },
            "type": "scatterpolar"
           }
          ],
          "scatterpolargl": [
           {
            "marker": {
             "colorbar": {
              "outlinewidth": 0,
              "ticks": ""
             }
            },
            "type": "scatterpolargl"
           }
          ],
          "scatterternary": [
           {
            "marker": {
             "colorbar": {
              "outlinewidth": 0,
              "ticks": ""
             }
            },
            "type": "scatterternary"
           }
          ],
          "surface": [
           {
            "colorbar": {
             "outlinewidth": 0,
             "ticks": ""
            },
            "colorscale": [
             [
              0,
              "#0d0887"
             ],
             [
              0.1111111111111111,
              "#46039f"
             ],
             [
              0.2222222222222222,
              "#7201a8"
             ],
             [
              0.3333333333333333,
              "#9c179e"
             ],
             [
              0.4444444444444444,
              "#bd3786"
             ],
             [
              0.5555555555555556,
              "#d8576b"
             ],
             [
              0.6666666666666666,
              "#ed7953"
             ],
             [
              0.7777777777777778,
              "#fb9f3a"
             ],
             [
              0.8888888888888888,
              "#fdca26"
             ],
             [
              1,
              "#f0f921"
             ]
            ],
            "type": "surface"
           }
          ],
          "table": [
           {
            "cells": {
             "fill": {
              "color": "#EBF0F8"
             },
             "line": {
              "color": "white"
             }
            },
            "header": {
             "fill": {
              "color": "#C8D4E3"
             },
             "line": {
              "color": "white"
             }
            },
            "type": "table"
           }
          ]
         },
         "layout": {
          "annotationdefaults": {
           "arrowcolor": "#2a3f5f",
           "arrowhead": 0,
           "arrowwidth": 1
          },
          "autotypenumbers": "strict",
          "coloraxis": {
           "colorbar": {
            "outlinewidth": 0,
            "ticks": ""
           }
          },
          "colorscale": {
           "diverging": [
            [
             0,
             "#8e0152"
            ],
            [
             0.1,
             "#c51b7d"
            ],
            [
             0.2,
             "#de77ae"
            ],
            [
             0.3,
             "#f1b6da"
            ],
            [
             0.4,
             "#fde0ef"
            ],
            [
             0.5,
             "#f7f7f7"
            ],
            [
             0.6,
             "#e6f5d0"
            ],
            [
             0.7,
             "#b8e186"
            ],
            [
             0.8,
             "#7fbc41"
            ],
            [
             0.9,
             "#4d9221"
            ],
            [
             1,
             "#276419"
            ]
           ],
           "sequential": [
            [
             0,
             "#0d0887"
            ],
            [
             0.1111111111111111,
             "#46039f"
            ],
            [
             0.2222222222222222,
             "#7201a8"
            ],
            [
             0.3333333333333333,
             "#9c179e"
            ],
            [
             0.4444444444444444,
             "#bd3786"
            ],
            [
             0.5555555555555556,
             "#d8576b"
            ],
            [
             0.6666666666666666,
             "#ed7953"
            ],
            [
             0.7777777777777778,
             "#fb9f3a"
            ],
            [
             0.8888888888888888,
             "#fdca26"
            ],
            [
             1,
             "#f0f921"
            ]
           ],
           "sequentialminus": [
            [
             0,
             "#0d0887"
            ],
            [
             0.1111111111111111,
             "#46039f"
            ],
            [
             0.2222222222222222,
             "#7201a8"
            ],
            [
             0.3333333333333333,
             "#9c179e"
            ],
            [
             0.4444444444444444,
             "#bd3786"
            ],
            [
             0.5555555555555556,
             "#d8576b"
            ],
            [
             0.6666666666666666,
             "#ed7953"
            ],
            [
             0.7777777777777778,
             "#fb9f3a"
            ],
            [
             0.8888888888888888,
             "#fdca26"
            ],
            [
             1,
             "#f0f921"
            ]
           ]
          },
          "colorway": [
           "#636efa",
           "#EF553B",
           "#00cc96",
           "#ab63fa",
           "#FFA15A",
           "#19d3f3",
           "#FF6692",
           "#B6E880",
           "#FF97FF",
           "#FECB52"
          ],
          "font": {
           "color": "#2a3f5f"
          },
          "geo": {
           "bgcolor": "white",
           "lakecolor": "white",
           "landcolor": "#E5ECF6",
           "showlakes": true,
           "showland": true,
           "subunitcolor": "white"
          },
          "hoverlabel": {
           "align": "left"
          },
          "hovermode": "closest",
          "mapbox": {
           "style": "light"
          },
          "paper_bgcolor": "white",
          "plot_bgcolor": "#E5ECF6",
          "polar": {
           "angularaxis": {
            "gridcolor": "white",
            "linecolor": "white",
            "ticks": ""
           },
           "bgcolor": "#E5ECF6",
           "radialaxis": {
            "gridcolor": "white",
            "linecolor": "white",
            "ticks": ""
           }
          },
          "scene": {
           "xaxis": {
            "backgroundcolor": "#E5ECF6",
            "gridcolor": "white",
            "gridwidth": 2,
            "linecolor": "white",
            "showbackground": true,
            "ticks": "",
            "zerolinecolor": "white"
           },
           "yaxis": {
            "backgroundcolor": "#E5ECF6",
            "gridcolor": "white",
            "gridwidth": 2,
            "linecolor": "white",
            "showbackground": true,
            "ticks": "",
            "zerolinecolor": "white"
           },
           "zaxis": {
            "backgroundcolor": "#E5ECF6",
            "gridcolor": "white",
            "gridwidth": 2,
            "linecolor": "white",
            "showbackground": true,
            "ticks": "",
            "zerolinecolor": "white"
           }
          },
          "shapedefaults": {
           "line": {
            "color": "#2a3f5f"
           }
          },
          "ternary": {
           "aaxis": {
            "gridcolor": "white",
            "linecolor": "white",
            "ticks": ""
           },
           "baxis": {
            "gridcolor": "white",
            "linecolor": "white",
            "ticks": ""
           },
           "bgcolor": "#E5ECF6",
           "caxis": {
            "gridcolor": "white",
            "linecolor": "white",
            "ticks": ""
           }
          },
          "title": {
           "x": 0.05
          },
          "xaxis": {
           "automargin": true,
           "gridcolor": "white",
           "linecolor": "white",
           "ticks": "",
           "title": {
            "standoff": 15
           },
           "zerolinecolor": "white",
           "zerolinewidth": 2
          },
          "yaxis": {
           "automargin": true,
           "gridcolor": "white",
           "linecolor": "white",
           "ticks": "",
           "title": {
            "standoff": 15
           },
           "zerolinecolor": "white",
           "zerolinewidth": 2
          }
         }
        },
        "title": {
         "text": "Hyperparameter Importances"
        },
        "xaxis": {
         "title": {
          "text": "Hyperparameter Importance"
         }
        },
        "yaxis": {
         "title": {
          "text": "Hyperparameter"
         }
        }
       }
      },
      "image/png": "[encoded data removed]"
     },
     "metadata": {},
     "output_type": "display_data"
    }
   ],
   "source": [
    "optuna.visualization.plot_param_importances(study).show()\n"
   ]
  },
  {
   "cell_type": "code",
   "execution_count": 22,
   "id": "0dac3773-0ca6-43b8-9cf6-2b9d093d0e51",
   "metadata": {},
   "outputs": [
    {
     "data": {
      "application/vnd.plotly.v1+json": {
       "config": {
        "plotlyServerURL": "https://plot.ly"
       },
       "data": [
        {
         "dimensions": [
          {
           "label": "Objective Value",
           "range": [
            0.974132037535072,
            0.974132037535072
           ],
           "values": [
            0.974132037535072
           ]
          },
          {
           "label": "dropout_l0",
           "range": [
            0,
            0
           ],
           "ticktext": [
            "0.0"
           ],
           "tickvals": [
            0
           ],
           "values": [
            0
           ]
          },
          {
           "label": "dropout_l1",
           "range": [
            0,
            0
           ],
           "ticktext": [
            "0.1"
           ],
           "tickvals": [
            0
           ],
           "values": [
            0
           ]
          },
          {
           "label": "dropout_l2",
           "range": [
            0,
            0
           ],
           "ticktext": [
            "0.0"
           ],
           "tickvals": [
            0
           ],
           "values": [
            0
           ]
          },
          {
           "label": "dropout_l3",
           "range": [
            0,
            0
           ],
           "ticktext": [
            "0.1"
           ],
           "tickvals": [
            0
           ],
           "values": [
            0
           ]
          },
          {
           "label": "dropout_l4",
           "range": [
            0,
            0
           ],
           "ticktext": [
            "0.1"
           ],
           "tickvals": [
            0
           ],
           "values": [
            0
           ]
          },
          {
           "label": "dropout_l5",
           "range": [
            0,
            0
           ],
           "ticktext": [
            "0.0"
           ],
           "tickvals": [
            0
           ],
           "values": [
            0
           ]
          },
          {
           "label": "epochs",
           "range": [
            9,
            9
           ],
           "values": [
            9
           ]
          },
          {
           "label": "n_layers",
           "range": [
            6,
            6
           ],
           "values": [
            6
           ]
          },
          {
           "label": "n_units_l0",
           "range": [
            0,
            0
           ],
           "ticktext": [
            "32"
           ],
           "tickvals": [
            0
           ],
           "values": [
            0
           ]
          },
          {
           "label": "n_units_l1",
           "range": [
            0,
            0
           ],
           "ticktext": [
            "64"
           ],
           "tickvals": [
            0
           ],
           "values": [
            0
           ]
          },
          {
           "label": "n_units_l2",
           "range": [
            0,
            0
           ],
           "ticktext": [
            "32"
           ],
           "tickvals": [
            0
           ],
           "values": [
            0
           ]
          },
          {
           "label": "n_units_l3",
           "range": [
            0,
            0
           ],
           "ticktext": [
            "64"
           ],
           "tickvals": [
            0
           ],
           "values": [
            0
           ]
          },
          {
           "label": "n_units_l4",
           "range": [
            0,
            0
           ],
           "ticktext": [
            "16"
           ],
           "tickvals": [
            0
           ],
           "values": [
            0
           ]
          },
          {
           "label": "n_units_l5",
           "range": [
            0,
            0
           ],
           "ticktext": [
            "32"
           ],
           "tickvals": [
            0
           ],
           "values": [
            0
           ]
          }
         ],
         "labelangle": 30,
         "labelside": "bottom",
         "line": {
          "color": [
           0.974132037535072
          ],
          "colorbar": {
           "title": {
            "text": "Objective Value"
           }
          },
          "colorscale": [
           [
            0,
            "rgb(247,251,255)"
           ],
           [
            0.125,
            "rgb(222,235,247)"
           ],
           [
            0.25,
            "rgb(198,219,239)"
           ],
           [
            0.375,
            "rgb(158,202,225)"
           ],
           [
            0.5,
            "rgb(107,174,214)"
           ],
           [
            0.625,
            "rgb(66,146,198)"
           ],
           [
            0.75,
            "rgb(33,113,181)"
           ],
           [
            0.875,
            "rgb(8,81,156)"
           ],
           [
            1,
            "rgb(8,48,107)"
           ]
          ],
          "reversescale": false,
          "showscale": true
         },
         "type": "parcoords"
        }
       ],
       "layout": {
        "template": {
         "data": {
          "bar": [
           {
            "error_x": {
             "color": "#2a3f5f"
            },
            "error_y": {
             "color": "#2a3f5f"
            },
            "marker": {
             "line": {
              "color": "#E5ECF6",
              "width": 0.5
             },
             "pattern": {
              "fillmode": "overlay",
              "size": 10,
              "solidity": 0.2
             }
            },
            "type": "bar"
           }
          ],
          "barpolar": [
           {
            "marker": {
             "line": {
              "color": "#E5ECF6",
              "width": 0.5
             },
             "pattern": {
              "fillmode": "overlay",
              "size": 10,
              "solidity": 0.2
             }
            },
            "type": "barpolar"
           }
          ],
          "carpet": [
           {
            "aaxis": {
             "endlinecolor": "#2a3f5f",
             "gridcolor": "white",
             "linecolor": "white",
             "minorgridcolor": "white",
             "startlinecolor": "#2a3f5f"
            },
            "baxis": {
             "endlinecolor": "#2a3f5f",
             "gridcolor": "white",
             "linecolor": "white",
             "minorgridcolor": "white",
             "startlinecolor": "#2a3f5f"
            },
            "type": "carpet"
           }
          ],
          "choropleth": [
           {
            "colorbar": {
             "outlinewidth": 0,
             "ticks": ""
            },
            "type": "choropleth"
           }
          ],
          "contour": [
           {
            "colorbar": {
             "outlinewidth": 0,
             "ticks": ""
            },
            "colorscale": [
             [
              0,
              "#0d0887"
             ],
             [
              0.1111111111111111,
              "#46039f"
             ],
             [
              0.2222222222222222,
              "#7201a8"
             ],
             [
              0.3333333333333333,
              "#9c179e"
             ],
             [
              0.4444444444444444,
              "#bd3786"
             ],
             [
              0.5555555555555556,
              "#d8576b"
             ],
             [
              0.6666666666666666,
              "#ed7953"
             ],
             [
              0.7777777777777778,
              "#fb9f3a"
             ],
             [
              0.8888888888888888,
              "#fdca26"
             ],
             [
              1,
              "#f0f921"
             ]
            ],
            "type": "contour"
           }
          ],
          "contourcarpet": [
           {
            "colorbar": {
             "outlinewidth": 0,
             "ticks": ""
            },
            "type": "contourcarpet"
           }
          ],
          "heatmap": [
           {
            "colorbar": {
             "outlinewidth": 0,
             "ticks": ""
            },
            "colorscale": [
             [
              0,
              "#0d0887"
             ],
             [
              0.1111111111111111,
              "#46039f"
             ],
             [
              0.2222222222222222,
              "#7201a8"
             ],
             [
              0.3333333333333333,
              "#9c179e"
             ],
             [
              0.4444444444444444,
              "#bd3786"
             ],
             [
              0.5555555555555556,
              "#d8576b"
             ],
             [
              0.6666666666666666,
              "#ed7953"
             ],
             [
              0.7777777777777778,
              "#fb9f3a"
             ],
             [
              0.8888888888888888,
              "#fdca26"
             ],
             [
              1,
              "#f0f921"
             ]
            ],
            "type": "heatmap"
           }
          ],
          "histogram": [
           {
            "marker": {
             "pattern": {
              "fillmode": "overlay",
              "size": 10,
              "solidity": 0.2
             }
            },
            "type": "histogram"
           }
          ],
          "histogram2d": [
           {
            "colorbar": {
             "outlinewidth": 0,
             "ticks": ""
            },
            "colorscale": [
             [
              0,
              "#0d0887"
             ],
             [
              0.1111111111111111,
              "#46039f"
             ],
             [
              0.2222222222222222,
              "#7201a8"
             ],
             [
              0.3333333333333333,
              "#9c179e"
             ],
             [
              0.4444444444444444,
              "#bd3786"
             ],
             [
              0.5555555555555556,
              "#d8576b"
             ],
             [
              0.6666666666666666,
              "#ed7953"
             ],
             [
              0.7777777777777778,
              "#fb9f3a"
             ],
             [
              0.8888888888888888,
              "#fdca26"
             ],
             [
              1,
              "#f0f921"
             ]
            ],
            "type": "histogram2d"
           }
          ],
          "histogram2dcontour": [
           {
            "colorbar": {
             "outlinewidth": 0,
             "ticks": ""
            },
            "colorscale": [
             [
              0,
              "#0d0887"
             ],
             [
              0.1111111111111111,
              "#46039f"
             ],
             [
              0.2222222222222222,
              "#7201a8"
             ],
             [
              0.3333333333333333,
              "#9c179e"
             ],
             [
              0.4444444444444444,
              "#bd3786"
             ],
             [
              0.5555555555555556,
              "#d8576b"
             ],
             [
              0.6666666666666666,
              "#ed7953"
             ],
             [
              0.7777777777777778,
              "#fb9f3a"
             ],
             [
              0.8888888888888888,
              "#fdca26"
             ],
             [
              1,
              "#f0f921"
             ]
            ],
            "type": "histogram2dcontour"
           }
          ],
          "mesh3d": [
           {
            "colorbar": {
             "outlinewidth": 0,
             "ticks": ""
            },
            "type": "mesh3d"
           }
          ],
          "parcoords": [
           {
            "line": {
             "colorbar": {
              "outlinewidth": 0,
              "ticks": ""
             }
            },
            "type": "parcoords"
           }
          ],
          "pie": [
           {
            "automargin": true,
            "type": "pie"
           }
          ],
          "scatter": [
           {
            "fillpattern": {
             "fillmode": "overlay",
             "size": 10,
             "solidity": 0.2
            },
            "type": "scatter"
           }
          ],
          "scatter3d": [
           {
            "line": {
             "colorbar": {
              "outlinewidth": 0,
              "ticks": ""
             }
            },
            "marker": {
             "colorbar": {
              "outlinewidth": 0,
              "ticks": ""
             }
            },
            "type": "scatter3d"
           }
          ],
          "scattercarpet": [
           {
            "marker": {
             "colorbar": {
              "outlinewidth": 0,
              "ticks": ""
             }
            },
            "type": "scattercarpet"
           }
          ],
          "scattergeo": [
           {
            "marker": {
             "colorbar": {
              "outlinewidth": 0,
              "ticks": ""
             }
            },
            "type": "scattergeo"
           }
          ],
          "scattergl": [
           {
            "marker": {
             "colorbar": {
              "outlinewidth": 0,
              "ticks": ""
             }
            },
            "type": "scattergl"
           }
          ],
          "scattermap": [
           {
            "marker": {
             "colorbar": {
              "outlinewidth": 0,
              "ticks": ""
             }
            },
            "type": "scattermap"
           }
          ],
          "scattermapbox": [
           {
            "marker": {
             "colorbar": {
              "outlinewidth": 0,
              "ticks": ""
             }
            },
            "type": "scattermapbox"
           }
          ],
          "scatterpolar": [
           {
            "marker": {
             "colorbar": {
              "outlinewidth": 0,
              "ticks": ""
             }
            },
            "type": "scatterpolar"
           }
          ],
          "scatterpolargl": [
           {
            "marker": {
             "colorbar": {
              "outlinewidth": 0,
              "ticks": ""
             }
            },
            "type": "scatterpolargl"
           }
          ],
          "scatterternary": [
           {
            "marker": {
             "colorbar": {
              "outlinewidth": 0,
              "ticks": ""
             }
            },
            "type": "scatterternary"
           }
          ],
          "surface": [
           {
            "colorbar": {
             "outlinewidth": 0,
             "ticks": ""
            },
            "colorscale": [
             [
              0,
              "#0d0887"
             ],
             [
              0.1111111111111111,
              "#46039f"
             ],
             [
              0.2222222222222222,
              "#7201a8"
             ],
             [
              0.3333333333333333,
              "#9c179e"
             ],
             [
              0.4444444444444444,
              "#bd3786"
             ],
             [
              0.5555555555555556,
              "#d8576b"
             ],
             [
              0.6666666666666666,
              "#ed7953"
             ],
             [
              0.7777777777777778,
              "#fb9f3a"
             ],
             [
              0.8888888888888888,
              "#fdca26"
             ],
             [
              1,
              "#f0f921"
             ]
            ],
            "type": "surface"
           }
          ],
          "table": [
           {
            "cells": {
             "fill": {
              "color": "#EBF0F8"
             },
             "line": {
              "color": "white"
             }
            },
            "header": {
             "fill": {
              "color": "#C8D4E3"
             },
             "line": {
              "color": "white"
             }
            },
            "type": "table"
           }
          ]
         },
         "layout": {
          "annotationdefaults": {
           "arrowcolor": "#2a3f5f",
           "arrowhead": 0,
           "arrowwidth": 1
          },
          "autotypenumbers": "strict",
          "coloraxis": {
           "colorbar": {
            "outlinewidth": 0,
            "ticks": ""
           }
          },
          "colorscale": {
           "diverging": [
            [
             0,
             "#8e0152"
            ],
            [
             0.1,
             "#c51b7d"
            ],
            [
             0.2,
             "#de77ae"
            ],
            [
             0.3,
             "#f1b6da"
            ],
            [
             0.4,
             "#fde0ef"
            ],
            [
             0.5,
             "#f7f7f7"
            ],
            [
             0.6,
             "#e6f5d0"
            ],
            [
             0.7,
             "#b8e186"
            ],
            [
             0.8,
             "#7fbc41"
            ],
            [
             0.9,
             "#4d9221"
            ],
            [
             1,
             "#276419"
            ]
           ],
           "sequential": [
            [
             0,
             "#0d0887"
            ],
            [
             0.1111111111111111,
             "#46039f"
            ],
            [
             0.2222222222222222,
             "#7201a8"
            ],
            [
             0.3333333333333333,
             "#9c179e"
            ],
            [
             0.4444444444444444,
             "#bd3786"
            ],
            [
             0.5555555555555556,
             "#d8576b"
            ],
            [
             0.6666666666666666,
             "#ed7953"
            ],
            [
             0.7777777777777778,
             "#fb9f3a"
            ],
            [
             0.8888888888888888,
             "#fdca26"
            ],
            [
             1,
             "#f0f921"
            ]
           ],
           "sequentialminus": [
            [
             0,
             "#0d0887"
            ],
            [
             0.1111111111111111,
             "#46039f"
            ],
            [
             0.2222222222222222,
             "#7201a8"
            ],
            [
             0.3333333333333333,
             "#9c179e"
            ],
            [
             0.4444444444444444,
             "#bd3786"
            ],
            [
             0.5555555555555556,
             "#d8576b"
            ],
            [
             0.6666666666666666,
             "#ed7953"
            ],
            [
             0.7777777777777778,
             "#fb9f3a"
            ],
            [
             0.8888888888888888,
             "#fdca26"
            ],
            [
             1,
             "#f0f921"
            ]
           ]
          },
          "colorway": [
           "#636efa",
           "#EF553B",
           "#00cc96",
           "#ab63fa",
           "#FFA15A",
           "#19d3f3",
           "#FF6692",
           "#B6E880",
           "#FF97FF",
           "#FECB52"
          ],
          "font": {
           "color": "#2a3f5f"
          },
          "geo": {
           "bgcolor": "white",
           "lakecolor": "white",
           "landcolor": "#E5ECF6",
           "showlakes": true,
           "showland": true,
           "subunitcolor": "white"
          },
          "hoverlabel": {
           "align": "left"
          },
          "hovermode": "closest",
          "mapbox": {
           "style": "light"
          },
          "paper_bgcolor": "white",
          "plot_bgcolor": "#E5ECF6",
          "polar": {
           "angularaxis": {
            "gridcolor": "white",
            "linecolor": "white",
            "ticks": ""
           },
           "bgcolor": "#E5ECF6",
           "radialaxis": {
            "gridcolor": "white",
            "linecolor": "white",
            "ticks": ""
           }
          },
          "scene": {
           "xaxis": {
            "backgroundcolor": "#E5ECF6",
            "gridcolor": "white",
            "gridwidth": 2,
            "linecolor": "white",
            "showbackground": true,
            "ticks": "",
            "zerolinecolor": "white"
           },
           "yaxis": {
            "backgroundcolor": "#E5ECF6",
            "gridcolor": "white",
            "gridwidth": 2,
            "linecolor": "white",
            "showbackground": true,
            "ticks": "",
            "zerolinecolor": "white"
           },
           "zaxis": {
            "backgroundcolor": "#E5ECF6",
            "gridcolor": "white",
            "gridwidth": 2,
            "linecolor": "white",
            "showbackground": true,
            "ticks": "",
            "zerolinecolor": "white"
           }
          },
          "shapedefaults": {
           "line": {
            "color": "#2a3f5f"
           }
          },
          "ternary": {
           "aaxis": {
            "gridcolor": "white",
            "linecolor": "white",
            "ticks": ""
           },
           "baxis": {
            "gridcolor": "white",
            "linecolor": "white",
            "ticks": ""
           },
           "bgcolor": "#E5ECF6",
           "caxis": {
            "gridcolor": "white",
            "linecolor": "white",
            "ticks": ""
           }
          },
          "title": {
           "x": 0.05
          },
          "xaxis": {
           "automargin": true,
           "gridcolor": "white",
           "linecolor": "white",
           "ticks": "",
           "title": {
            "standoff": 15
           },
           "zerolinecolor": "white",
           "zerolinewidth": 2
          },
          "yaxis": {
           "automargin": true,
           "gridcolor": "white",
           "linecolor": "white",
           "ticks": "",
           "title": {
            "standoff": 15
           },
           "zerolinecolor": "white",
           "zerolinewidth": 2
          }
         }
        },
        "title": {
         "text": "Parallel Coordinate Plot"
        }
       }
      },
      "image/png": "[encoded data removed]"
     },
     "metadata": {},
     "output_type": "display_data"
    },
    {
     "data": {
      "application/vnd.plotly.v1+json": {
       "config": {
        "plotlyServerURL": "https://plot.ly"
       },
       "data": [
        {
         "marker": {
          "color": [
           0,
           1,
           2,
           3,
           4,
           7,
           13,
           20,
           31,
           33
          ],
          "colorbar": {
           "title": {
            "text": "Trial"
           },
           "x": 1,
           "xpad": 40
          },
          "colorscale": [
           [
            0,
            "rgb(247,251,255)"
           ],
           [
            0.125,
            "rgb(222,235,247)"
           ],
           [
            0.25,
            "rgb(198,219,239)"
           ],
           [
            0.375,
            "rgb(158,202,225)"
           ],
           [
            0.5,
            "rgb(107,174,214)"
           ],
           [
            0.625,
            "rgb(66,146,198)"
           ],
           [
            0.75,
            "rgb(33,113,181)"
           ],
           [
            0.875,
            "rgb(8,81,156)"
           ],
           [
            1,
            "rgb(8,48,107)"
           ]
          ],
          "line": {
           "color": "Grey",
           "width": 0.5
          },
          "showscale": true
         },
         "mode": "markers",
         "name": "Feasible Trial",
         "showlegend": false,
         "type": "scatter",
         "x": [
          0.1,
          0.2,
          0.1,
          0.1,
          0,
          0.2,
          0.2,
          0.2,
          0.2,
          0.2
         ],
         "xaxis": "x",
         "y": [
          0.9732147224458467,
          0.974493431636786,
          0.9745659665343777,
          0.9736387731148999,
          0.974132037535072,
          0.9743296217358125,
          0.9744881630375936,
          0.974126845320995,
          0.9742497647388403,
          0.9737932198267746
         ],
         "yaxis": "y"
        },
        {
         "marker": {
          "color": [
           0,
           1,
           2,
           3,
           4,
           7,
           13,
           20,
           31,
           33
          ],
          "colorbar": {
           "title": {
            "text": "Trial"
           },
           "x": 1,
           "xpad": 40
          },
          "colorscale": [
           [
            0,
            "rgb(247,251,255)"
           ],
           [
            0.125,
            "rgb(222,235,247)"
           ],
           [
            0.25,
            "rgb(198,219,239)"
           ],
           [
            0.375,
            "rgb(158,202,225)"
           ],
           [
            0.5,
            "rgb(107,174,214)"
           ],
           [
            0.625,
            "rgb(66,146,198)"
           ],
           [
            0.75,
            "rgb(33,113,181)"
           ],
           [
            0.875,
            "rgb(8,81,156)"
           ],
           [
            1,
            "rgb(8,48,107)"
           ]
          ],
          "line": {
           "color": "Grey",
           "width": 0.5
          },
          "showscale": false
         },
         "mode": "markers",
         "name": "Feasible Trial",
         "showlegend": false,
         "type": "scatter",
         "x": [
          0.1,
          0.1,
          0.1,
          0.1,
          0.1,
          0.1,
          0.1,
          0.1,
          0.1,
          0.1
         ],
         "xaxis": "x2",
         "y": [
          0.9732147224458467,
          0.974493431636786,
          0.9745659665343777,
          0.9736387731148999,
          0.974132037535072,
          0.9743296217358125,
          0.9744881630375936,
          0.974126845320995,
          0.9742497647388403,
          0.9737932198267746
         ],
         "yaxis": "y2"
        },
        {
         "marker": {
          "color": [
           0,
           1,
           2,
           3,
           4,
           7,
           20,
           31,
           33
          ],
          "colorbar": {
           "title": {
            "text": "Trial"
           },
           "x": 1,
           "xpad": 40
          },
          "colorscale": [
           [
            0,
            "rgb(247,251,255)"
           ],
           [
            0.125,
            "rgb(222,235,247)"
           ],
           [
            0.25,
            "rgb(198,219,239)"
           ],
           [
            0.375,
            "rgb(158,202,225)"
           ],
           [
            0.5,
            "rgb(107,174,214)"
           ],
           [
            0.625,
            "rgb(66,146,198)"
           ],
           [
            0.75,
            "rgb(33,113,181)"
           ],
           [
            0.875,
            "rgb(8,81,156)"
           ],
           [
            1,
            "rgb(8,48,107)"
           ]
          ],
          "line": {
           "color": "Grey",
           "width": 0.5
          },
          "showscale": false
         },
         "mode": "markers",
         "name": "Feasible Trial",
         "showlegend": false,
         "type": "scatter",
         "x": [
          0.2,
          0.1,
          0,
          0,
          0,
          0.2,
          0,
          0.2,
          0.2
         ],
         "xaxis": "x3",
         "y": [
          0.9732147224458467,
          0.974493431636786,
          0.9745659665343777,
          0.9736387731148999,
          0.974132037535072,
          0.9743296217358125,
          0.974126845320995,
          0.9742497647388403,
          0.9737932198267746
         ],
         "yaxis": "y3"
        },
        {
         "marker": {
          "color": [
           2,
           4
          ],
          "colorbar": {
           "title": {
            "text": "Trial"
           },
           "x": 1,
           "xpad": 40
          },
          "colorscale": [
           [
            0,
            "rgb(247,251,255)"
           ],
           [
            0.125,
            "rgb(222,235,247)"
           ],
           [
            0.25,
            "rgb(198,219,239)"
           ],
           [
            0.375,
            "rgb(158,202,225)"
           ],
           [
            0.5,
            "rgb(107,174,214)"
           ],
           [
            0.625,
            "rgb(66,146,198)"
           ],
           [
            0.75,
            "rgb(33,113,181)"
           ],
           [
            0.875,
            "rgb(8,81,156)"
           ],
           [
            1,
            "rgb(8,48,107)"
           ]
          ],
          "line": {
           "color": "Grey",
           "width": 0.5
          },
          "showscale": false
         },
         "mode": "markers",
         "name": "Feasible Trial",
         "showlegend": false,
         "type": "scatter",
         "x": [
          0.1,
          0.1
         ],
         "xaxis": "x4",
         "y": [
          0.9745659665343777,
          0.974132037535072
         ],
         "yaxis": "y4"
        },
        {
         "marker": {
          "color": [
           4
          ],
          "colorbar": {
           "title": {
            "text": "Trial"
           },
           "x": 1,
           "xpad": 40
          },
          "colorscale": [
           [
            0,
            "rgb(247,251,255)"
           ],
           [
            0.125,
            "rgb(222,235,247)"
           ],
           [
            0.25,
            "rgb(198,219,239)"
           ],
           [
            0.375,
            "rgb(158,202,225)"
           ],
           [
            0.5,
            "rgb(107,174,214)"
           ],
           [
            0.625,
            "rgb(66,146,198)"
           ],
           [
            0.75,
            "rgb(33,113,181)"
           ],
           [
            0.875,
            "rgb(8,81,156)"
           ],
           [
            1,
            "rgb(8,48,107)"
           ]
          ],
          "line": {
           "color": "Grey",
           "width": 0.5
          },
          "showscale": false
         },
         "mode": "markers",
         "name": "Feasible Trial",
         "showlegend": false,
         "type": "scatter",
         "x": [
          0.1
         ],
         "xaxis": "x5",
         "y": [
          0.974132037535072
         ],
         "yaxis": "y5"
        },
        {
         "marker": {
          "color": [
           4
          ],
          "colorbar": {
           "title": {
            "text": "Trial"
           },
           "x": 1,
           "xpad": 40
          },
          "colorscale": [
           [
            0,
            "rgb(247,251,255)"
           ],
           [
            0.125,
            "rgb(222,235,247)"
           ],
           [
            0.25,
            "rgb(198,219,239)"
           ],
           [
            0.375,
            "rgb(158,202,225)"
           ],
           [
            0.5,
            "rgb(107,174,214)"
           ],
           [
            0.625,
            "rgb(66,146,198)"
           ],
           [
            0.75,
            "rgb(33,113,181)"
           ],
           [
            0.875,
            "rgb(8,81,156)"
           ],
           [
            1,
            "rgb(8,48,107)"
           ]
          ],
          "line": {
           "color": "Grey",
           "width": 0.5
          },
          "showscale": false
         },
         "mode": "markers",
         "name": "Feasible Trial",
         "showlegend": false,
         "type": "scatter",
         "x": [
          0
         ],
         "xaxis": "x6",
         "y": [
          0.974132037535072
         ],
         "yaxis": "y6"
        },
        {
         "marker": {
          "color": [
           0,
           1,
           2,
           3,
           4,
           7,
           13,
           20,
           31,
           33
          ],
          "colorbar": {
           "title": {
            "text": "Trial"
           },
           "x": 1,
           "xpad": 40
          },
          "colorscale": [
           [
            0,
            "rgb(247,251,255)"
           ],
           [
            0.125,
            "rgb(222,235,247)"
           ],
           [
            0.25,
            "rgb(198,219,239)"
           ],
           [
            0.375,
            "rgb(158,202,225)"
           ],
           [
            0.5,
            "rgb(107,174,214)"
           ],
           [
            0.625,
            "rgb(66,146,198)"
           ],
           [
            0.75,
            "rgb(33,113,181)"
           ],
           [
            0.875,
            "rgb(8,81,156)"
           ],
           [
            1,
            "rgb(8,48,107)"
           ]
          ],
          "line": {
           "color": "Grey",
           "width": 0.5
          },
          "showscale": false
         },
         "mode": "markers",
         "name": "Feasible Trial",
         "showlegend": false,
         "type": "scatter",
         "x": [
          9,
          10,
          8,
          5,
          9,
          6,
          8,
          10,
          6,
          7
         ],
         "xaxis": "x7",
         "y": [
          0.9732147224458467,
          0.974493431636786,
          0.9745659665343777,
          0.9736387731148999,
          0.974132037535072,
          0.9743296217358125,
          0.9744881630375936,
          0.974126845320995,
          0.9742497647388403,
          0.9737932198267746
         ],
         "yaxis": "y7"
        },
        {
         "marker": {
          "color": [
           0,
           1,
           2,
           3,
           4,
           7,
           13,
           20,
           31,
           33
          ],
          "colorbar": {
           "title": {
            "text": "Trial"
           },
           "x": 1,
           "xpad": 40
          },
          "colorscale": [
           [
            0,
            "rgb(247,251,255)"
           ],
           [
            0.125,
            "rgb(222,235,247)"
           ],
           [
            0.25,
            "rgb(198,219,239)"
           ],
           [
            0.375,
            "rgb(158,202,225)"
           ],
           [
            0.5,
            "rgb(107,174,214)"
           ],
           [
            0.625,
            "rgb(66,146,198)"
           ],
           [
            0.75,
            "rgb(33,113,181)"
           ],
           [
            0.875,
            "rgb(8,81,156)"
           ],
           [
            1,
            "rgb(8,48,107)"
           ]
          ],
          "line": {
           "color": "Grey",
           "width": 0.5
          },
          "showscale": false
         },
         "mode": "markers",
         "name": "Feasible Trial",
         "showlegend": false,
         "type": "scatter",
         "x": [
          3,
          3,
          4,
          3,
          6,
          3,
          2,
          3,
          3,
          3
         ],
         "xaxis": "x8",
         "y": [
          0.9732147224458467,
          0.974493431636786,
          0.9745659665343777,
          0.9736387731148999,
          0.974132037535072,
          0.9743296217358125,
          0.9744881630375936,
          0.974126845320995,
          0.9742497647388403,
          0.9737932198267746
         ],
         "yaxis": "y8"
        },
        {
         "marker": {
          "color": [
           0,
           1,
           2,
           3,
           4,
           7,
           13,
           20,
           31,
           33
          ],
          "colorbar": {
           "title": {
            "text": "Trial"
           },
           "x": 1,
           "xpad": 40
          },
          "colorscale": [
           [
            0,
            "rgb(247,251,255)"
           ],
           [
            0.125,
            "rgb(222,235,247)"
           ],
           [
            0.25,
            "rgb(198,219,239)"
           ],
           [
            0.375,
            "rgb(158,202,225)"
           ],
           [
            0.5,
            "rgb(107,174,214)"
           ],
           [
            0.625,
            "rgb(66,146,198)"
           ],
           [
            0.75,
            "rgb(33,113,181)"
           ],
           [
            0.875,
            "rgb(8,81,156)"
           ],
           [
            1,
            "rgb(8,48,107)"
           ]
          ],
          "line": {
           "color": "Grey",
           "width": 0.5
          },
          "showscale": false
         },
         "mode": "markers",
         "name": "Feasible Trial",
         "showlegend": false,
         "type": "scatter",
         "x": [
          8,
          64,
          32,
          64,
          32,
          32,
          32,
          64,
          32,
          32
         ],
         "xaxis": "x9",
         "y": [
          0.9732147224458467,
          0.974493431636786,
          0.9745659665343777,
          0.9736387731148999,
          0.974132037535072,
          0.9743296217358125,
          0.9744881630375936,
          0.974126845320995,
          0.9742497647388403,
          0.9737932198267746
         ],
         "yaxis": "y9"
        },
        {
         "marker": {
          "color": [
           0,
           1,
           2,
           3,
           4,
           7,
           13,
           20,
           31,
           33
          ],
          "colorbar": {
           "title": {
            "text": "Trial"
           },
           "x": 1,
           "xpad": 40
          },
          "colorscale": [
           [
            0,
            "rgb(247,251,255)"
           ],
           [
            0.125,
            "rgb(222,235,247)"
           ],
           [
            0.25,
            "rgb(198,219,239)"
           ],
           [
            0.375,
            "rgb(158,202,225)"
           ],
           [
            0.5,
            "rgb(107,174,214)"
           ],
           [
            0.625,
            "rgb(66,146,198)"
           ],
           [
            0.75,
            "rgb(33,113,181)"
           ],
           [
            0.875,
            "rgb(8,81,156)"
           ],
           [
            1,
            "rgb(8,48,107)"
           ]
          ],
          "line": {
           "color": "Grey",
           "width": 0.5
          },
          "showscale": false
         },
         "mode": "markers",
         "name": "Feasible Trial",
         "showlegend": false,
         "type": "scatter",
         "x": [
          8,
          16,
          64,
          8,
          64,
          32,
          64,
          64,
          32,
          32
         ],
         "xaxis": "x10",
         "y": [
          0.9732147224458467,
          0.974493431636786,
          0.9745659665343777,
          0.9736387731148999,
          0.974132037535072,
          0.9743296217358125,
          0.9744881630375936,
          0.974126845320995,
          0.9742497647388403,
          0.9737932198267746
         ],
         "yaxis": "y10"
        },
        {
         "marker": {
          "color": [
           0,
           1,
           2,
           3,
           4,
           7,
           20,
           31,
           33
          ],
          "colorbar": {
           "title": {
            "text": "Trial"
           },
           "x": 1,
           "xpad": 40
          },
          "colorscale": [
           [
            0,
            "rgb(247,251,255)"
           ],
           [
            0.125,
            "rgb(222,235,247)"
           ],
           [
            0.25,
            "rgb(198,219,239)"
           ],
           [
            0.375,
            "rgb(158,202,225)"
           ],
           [
            0.5,
            "rgb(107,174,214)"
           ],
           [
            0.625,
            "rgb(66,146,198)"
           ],
           [
            0.75,
            "rgb(33,113,181)"
           ],
           [
            0.875,
            "rgb(8,81,156)"
           ],
           [
            1,
            "rgb(8,48,107)"
           ]
          ],
          "line": {
           "color": "Grey",
           "width": 0.5
          },
          "showscale": false
         },
         "mode": "markers",
         "name": "Feasible Trial",
         "showlegend": false,
         "type": "scatter",
         "x": [
          64,
          32,
          8,
          8,
          32,
          16,
          64,
          16,
          16
         ],
         "xaxis": "x11",
         "y": [
          0.9732147224458467,
          0.974493431636786,
          0.9745659665343777,
          0.9736387731148999,
          0.974132037535072,
          0.9743296217358125,
          0.974126845320995,
          0.9742497647388403,
          0.9737932198267746
         ],
         "yaxis": "y11"
        },
        {
         "marker": {
          "color": [
           2,
           4
          ],
          "colorbar": {
           "title": {
            "text": "Trial"
           },
           "x": 1,
           "xpad": 40
          },
          "colorscale": [
           [
            0,
            "rgb(247,251,255)"
           ],
           [
            0.125,
            "rgb(222,235,247)"
           ],
           [
            0.25,
            "rgb(198,219,239)"
           ],
           [
            0.375,
            "rgb(158,202,225)"
           ],
           [
            0.5,
            "rgb(107,174,214)"
           ],
           [
            0.625,
            "rgb(66,146,198)"
           ],
           [
            0.75,
            "rgb(33,113,181)"
           ],
           [
            0.875,
            "rgb(8,81,156)"
           ],
           [
            1,
            "rgb(8,48,107)"
           ]
          ],
          "line": {
           "color": "Grey",
           "width": 0.5
          },
          "showscale": false
         },
         "mode": "markers",
         "name": "Feasible Trial",
         "showlegend": false,
         "type": "scatter",
         "x": [
          64,
          64
         ],
         "xaxis": "x12",
         "y": [
          0.9745659665343777,
          0.974132037535072
         ],
         "yaxis": "y12"
        },
        {
         "marker": {
          "color": [
           4
          ],
          "colorbar": {
           "title": {
            "text": "Trial"
           },
           "x": 1,
           "xpad": 40
          },
          "colorscale": [
           [
            0,
            "rgb(247,251,255)"
           ],
           [
            0.125,
            "rgb(222,235,247)"
           ],
           [
            0.25,
            "rgb(198,219,239)"
           ],
           [
            0.375,
            "rgb(158,202,225)"
           ],
           [
            0.5,
            "rgb(107,174,214)"
           ],
           [
            0.625,
            "rgb(66,146,198)"
           ],
           [
            0.75,
            "rgb(33,113,181)"
           ],
           [
            0.875,
            "rgb(8,81,156)"
           ],
           [
            1,
            "rgb(8,48,107)"
           ]
          ],
          "line": {
           "color": "Grey",
           "width": 0.5
          },
          "showscale": false
         },
         "mode": "markers",
         "name": "Feasible Trial",
         "showlegend": false,
         "type": "scatter",
         "x": [
          16
         ],
         "xaxis": "x13",
         "y": [
          0.974132037535072
         ],
         "yaxis": "y13"
        },
        {
         "marker": {
          "color": [
           4
          ],
          "colorbar": {
           "title": {
            "text": "Trial"
           },
           "x": 1,
           "xpad": 40
          },
          "colorscale": [
           [
            0,
            "rgb(247,251,255)"
           ],
           [
            0.125,
            "rgb(222,235,247)"
           ],
           [
            0.25,
            "rgb(198,219,239)"
           ],
           [
            0.375,
            "rgb(158,202,225)"
           ],
           [
            0.5,
            "rgb(107,174,214)"
           ],
           [
            0.625,
            "rgb(66,146,198)"
           ],
           [
            0.75,
            "rgb(33,113,181)"
           ],
           [
            0.875,
            "rgb(8,81,156)"
           ],
           [
            1,
            "rgb(8,48,107)"
           ]
          ],
          "line": {
           "color": "Grey",
           "width": 0.5
          },
          "showscale": false
         },
         "mode": "markers",
         "name": "Feasible Trial",
         "showlegend": false,
         "type": "scatter",
         "x": [
          32
         ],
         "xaxis": "x14",
         "y": [
          0.974132037535072
         ],
         "yaxis": "y14"
        }
       ],
       "layout": {
        "template": {
         "data": {
          "bar": [
           {
            "error_x": {
             "color": "#2a3f5f"
            },
            "error_y": {
             "color": "#2a3f5f"
            },
            "marker": {
             "line": {
              "color": "#E5ECF6",
              "width": 0.5
             },
             "pattern": {
              "fillmode": "overlay",
              "size": 10,
              "solidity": 0.2
             }
            },
            "type": "bar"
           }
          ],
          "barpolar": [
           {
            "marker": {
             "line": {
              "color": "#E5ECF6",
              "width": 0.5
             },
             "pattern": {
              "fillmode": "overlay",
              "size": 10,
              "solidity": 0.2
             }
            },
            "type": "barpolar"
           }
          ],
          "carpet": [
           {
            "aaxis": {
             "endlinecolor": "#2a3f5f",
             "gridcolor": "white",
             "linecolor": "white",
             "minorgridcolor": "white",
             "startlinecolor": "#2a3f5f"
            },
            "baxis": {
             "endlinecolor": "#2a3f5f",
             "gridcolor": "white",
             "linecolor": "white",
             "minorgridcolor": "white",
             "startlinecolor": "#2a3f5f"
            },
            "type": "carpet"
           }
          ],
          "choropleth": [
           {
            "colorbar": {
             "outlinewidth": 0,
             "ticks": ""
            },
            "type": "choropleth"
           }
          ],
          "contour": [
           {
            "colorbar": {
             "outlinewidth": 0,
             "ticks": ""
            },
            "colorscale": [
             [
              0,
              "#0d0887"
             ],
             [
              0.1111111111111111,
              "#46039f"
             ],
             [
              0.2222222222222222,
              "#7201a8"
             ],
             [
              0.3333333333333333,
              "#9c179e"
             ],
             [
              0.4444444444444444,
              "#bd3786"
             ],
             [
              0.5555555555555556,
              "#d8576b"
             ],
             [
              0.6666666666666666,
              "#ed7953"
             ],
             [
              0.7777777777777778,
              "#fb9f3a"
             ],
             [
              0.8888888888888888,
              "#fdca26"
             ],
             [
              1,
              "#f0f921"
             ]
            ],
            "type": "contour"
           }
          ],
          "contourcarpet": [
           {
            "colorbar": {
             "outlinewidth": 0,
             "ticks": ""
            },
            "type": "contourcarpet"
           }
          ],
          "heatmap": [
           {
            "colorbar": {
             "outlinewidth": 0,
             "ticks": ""
            },
            "colorscale": [
             [
              0,
              "#0d0887"
             ],
             [
              0.1111111111111111,
              "#46039f"
             ],
             [
              0.2222222222222222,
              "#7201a8"
             ],
             [
              0.3333333333333333,
              "#9c179e"
             ],
             [
              0.4444444444444444,
              "#bd3786"
             ],
             [
              0.5555555555555556,
              "#d8576b"
             ],
             [
              0.6666666666666666,
              "#ed7953"
             ],
             [
              0.7777777777777778,
              "#fb9f3a"
             ],
             [
              0.8888888888888888,
              "#fdca26"
             ],
             [
              1,
              "#f0f921"
             ]
            ],
            "type": "heatmap"
           }
          ],
          "histogram": [
           {
            "marker": {
             "pattern": {
              "fillmode": "overlay",
              "size": 10,
              "solidity": 0.2
             }
            },
            "type": "histogram"
           }
          ],
          "histogram2d": [
           {
            "colorbar": {
             "outlinewidth": 0,
             "ticks": ""
            },
            "colorscale": [
             [
              0,
              "#0d0887"
             ],
             [
              0.1111111111111111,
              "#46039f"
             ],
             [
              0.2222222222222222,
              "#7201a8"
             ],
             [
              0.3333333333333333,
              "#9c179e"
             ],
             [
              0.4444444444444444,
              "#bd3786"
             ],
             [
              0.5555555555555556,
              "#d8576b"
             ],
             [
              0.6666666666666666,
              "#ed7953"
             ],
             [
              0.7777777777777778,
              "#fb9f3a"
             ],
             [
              0.8888888888888888,
              "#fdca26"
             ],
             [
              1,
              "#f0f921"
             ]
            ],
            "type": "histogram2d"
           }
          ],
          "histogram2dcontour": [
           {
            "colorbar": {
             "outlinewidth": 0,
             "ticks": ""
            },
            "colorscale": [
             [
              0,
              "#0d0887"
             ],
             [
              0.1111111111111111,
              "#46039f"
             ],
             [
              0.2222222222222222,
              "#7201a8"
             ],
             [
              0.3333333333333333,
              "#9c179e"
             ],
             [
              0.4444444444444444,
              "#bd3786"
             ],
             [
              0.5555555555555556,
              "#d8576b"
             ],
             [
              0.6666666666666666,
              "#ed7953"
             ],
             [
              0.7777777777777778,
              "#fb9f3a"
             ],
             [
              0.8888888888888888,
              "#fdca26"
             ],
             [
              1,
              "#f0f921"
             ]
            ],
            "type": "histogram2dcontour"
           }
          ],
          "mesh3d": [
           {
            "colorbar": {
             "outlinewidth": 0,
             "ticks": ""
            },
            "type": "mesh3d"
           }
          ],
          "parcoords": [
           {
            "line": {
             "colorbar": {
              "outlinewidth": 0,
              "ticks": ""
             }
            },
            "type": "parcoords"
           }
          ],
          "pie": [
           {
            "automargin": true,
            "type": "pie"
           }
          ],
          "scatter": [
           {
            "fillpattern": {
             "fillmode": "overlay",
             "size": 10,
             "solidity": 0.2
            },
            "type": "scatter"
           }
          ],
          "scatter3d": [
           {
            "line": {
             "colorbar": {
              "outlinewidth": 0,
              "ticks": ""
             }
            },
            "marker": {
             "colorbar": {
              "outlinewidth": 0,
              "ticks": ""
             }
            },
            "type": "scatter3d"
           }
          ],
          "scattercarpet": [
           {
            "marker": {
             "colorbar": {
              "outlinewidth": 0,
              "ticks": ""
             }
            },
            "type": "scattercarpet"
           }
          ],
          "scattergeo": [
           {
            "marker": {
             "colorbar": {
              "outlinewidth": 0,
              "ticks": ""
             }
            },
            "type": "scattergeo"
           }
          ],
          "scattergl": [
           {
            "marker": {
             "colorbar": {
              "outlinewidth": 0,
              "ticks": ""
             }
            },
            "type": "scattergl"
           }
          ],
          "scattermap": [
           {
            "marker": {
             "colorbar": {
              "outlinewidth": 0,
              "ticks": ""
             }
            },
            "type": "scattermap"
           }
          ],
          "scattermapbox": [
           {
            "marker": {
             "colorbar": {
              "outlinewidth": 0,
              "ticks": ""
             }
            },
            "type": "scattermapbox"
           }
          ],
          "scatterpolar": [
           {
            "marker": {
             "colorbar": {
              "outlinewidth": 0,
              "ticks": ""
             }
            },
            "type": "scatterpolar"
           }
          ],
          "scatterpolargl": [
           {
            "marker": {
             "colorbar": {
              "outlinewidth": 0,
              "ticks": ""
             }
            },
            "type": "scatterpolargl"
           }
          ],
          "scatterternary": [
           {
            "marker": {
             "colorbar": {
              "outlinewidth": 0,
              "ticks": ""
             }
            },
            "type": "scatterternary"
           }
          ],
          "surface": [
           {
            "colorbar": {
             "outlinewidth": 0,
             "ticks": ""
            },
            "colorscale": [
             [
              0,
              "#0d0887"
             ],
             [
              0.1111111111111111,
              "#46039f"
             ],
             [
              0.2222222222222222,
              "#7201a8"
             ],
             [
              0.3333333333333333,
              "#9c179e"
             ],
             [
              0.4444444444444444,
              "#bd3786"
             ],
             [
              0.5555555555555556,
              "#d8576b"
             ],
             [
              0.6666666666666666,
              "#ed7953"
             ],
             [
              0.7777777777777778,
              "#fb9f3a"
             ],
             [
              0.8888888888888888,
              "#fdca26"
             ],
             [
              1,
              "#f0f921"
             ]
            ],
            "type": "surface"
           }
          ],
          "table": [
           {
            "cells": {
             "fill": {
              "color": "#EBF0F8"
             },
             "line": {
              "color": "white"
             }
            },
            "header": {
             "fill": {
              "color": "#C8D4E3"
             },
             "line": {
              "color": "white"
             }
            },
            "type": "table"
           }
          ]
         },
         "layout": {
          "annotationdefaults": {
           "arrowcolor": "#2a3f5f",
           "arrowhead": 0,
           "arrowwidth": 1
          },
          "autotypenumbers": "strict",
          "coloraxis": {
           "colorbar": {
            "outlinewidth": 0,
            "ticks": ""
           }
          },
          "colorscale": {
           "diverging": [
            [
             0,
             "#8e0152"
            ],
            [
             0.1,
             "#c51b7d"
            ],
            [
             0.2,
             "#de77ae"
            ],
            [
             0.3,
             "#f1b6da"
            ],
            [
             0.4,
             "#fde0ef"
            ],
            [
             0.5,
             "#f7f7f7"
            ],
            [
             0.6,
             "#e6f5d0"
            ],
            [
             0.7,
             "#b8e186"
            ],
            [
             0.8,
             "#7fbc41"
            ],
            [
             0.9,
             "#4d9221"
            ],
            [
             1,
             "#276419"
            ]
           ],
           "sequential": [
            [
             0,
             "#0d0887"
            ],
            [
             0.1111111111111111,
             "#46039f"
            ],
            [
             0.2222222222222222,
             "#7201a8"
            ],
            [
             0.3333333333333333,
             "#9c179e"
            ],
            [
             0.4444444444444444,
             "#bd3786"
            ],
            [
             0.5555555555555556,
             "#d8576b"
            ],
            [
             0.6666666666666666,
             "#ed7953"
            ],
            [
             0.7777777777777778,
             "#fb9f3a"
            ],
            [
             0.8888888888888888,
             "#fdca26"
            ],
            [
             1,
             "#f0f921"
            ]
           ],
           "sequentialminus": [
            [
             0,
             "#0d0887"
            ],
            [
             0.1111111111111111,
             "#46039f"
            ],
            [
             0.2222222222222222,
             "#7201a8"
            ],
            [
             0.3333333333333333,
             "#9c179e"
            ],
            [
             0.4444444444444444,
             "#bd3786"
            ],
            [
             0.5555555555555556,
             "#d8576b"
            ],
            [
             0.6666666666666666,
             "#ed7953"
            ],
            [
             0.7777777777777778,
             "#fb9f3a"
            ],
            [
             0.8888888888888888,
             "#fdca26"
            ],
            [
             1,
             "#f0f921"
            ]
           ]
          },
          "colorway": [
           "#636efa",
           "#EF553B",
           "#00cc96",
           "#ab63fa",
           "#FFA15A",
           "#19d3f3",
           "#FF6692",
           "#B6E880",
           "#FF97FF",
           "#FECB52"
          ],
          "font": {
           "color": "#2a3f5f"
          },
          "geo": {
           "bgcolor": "white",
           "lakecolor": "white",
           "landcolor": "#E5ECF6",
           "showlakes": true,
           "showland": true,
           "subunitcolor": "white"
          },
          "hoverlabel": {
           "align": "left"
          },
          "hovermode": "closest",
          "mapbox": {
           "style": "light"
          },
          "paper_bgcolor": "white",
          "plot_bgcolor": "#E5ECF6",
          "polar": {
           "angularaxis": {
            "gridcolor": "white",
            "linecolor": "white",
            "ticks": ""
           },
           "bgcolor": "#E5ECF6",
           "radialaxis": {
            "gridcolor": "white",
            "linecolor": "white",
            "ticks": ""
           }
          },
          "scene": {
           "xaxis": {
            "backgroundcolor": "#E5ECF6",
            "gridcolor": "white",
            "gridwidth": 2,
            "linecolor": "white",
            "showbackground": true,
            "ticks": "",
            "zerolinecolor": "white"
           },
           "yaxis": {
            "backgroundcolor": "#E5ECF6",
            "gridcolor": "white",
            "gridwidth": 2,
            "linecolor": "white",
            "showbackground": true,
            "ticks": "",
            "zerolinecolor": "white"
           },
           "zaxis": {
            "backgroundcolor": "#E5ECF6",
            "gridcolor": "white",
            "gridwidth": 2,
            "linecolor": "white",
            "showbackground": true,
            "ticks": "",
            "zerolinecolor": "white"
           }
          },
          "shapedefaults": {
           "line": {
            "color": "#2a3f5f"
           }
          },
          "ternary": {
           "aaxis": {
            "gridcolor": "white",
            "linecolor": "white",
            "ticks": ""
           },
           "baxis": {
            "gridcolor": "white",
            "linecolor": "white",
            "ticks": ""
           },
           "bgcolor": "#E5ECF6",
           "caxis": {
            "gridcolor": "white",
            "linecolor": "white",
            "ticks": ""
           }
          },
          "title": {
           "x": 0.05
          },
          "xaxis": {
           "automargin": true,
           "gridcolor": "white",
           "linecolor": "white",
           "ticks": "",
           "title": {
            "standoff": 15
           },
           "zerolinecolor": "white",
           "zerolinewidth": 2
          },
          "yaxis": {
           "automargin": true,
           "gridcolor": "white",
           "linecolor": "white",
           "ticks": "",
           "title": {
            "standoff": 15
           },
           "zerolinecolor": "white",
           "zerolinewidth": 2
          }
         }
        },
        "title": {
         "text": "Slice Plot"
        },
        "width": 4200,
        "xaxis": {
         "anchor": "y",
         "categoryarray": [
          0,
          0.1,
          0.2
         ],
         "categoryorder": "array",
         "domain": [
          0,
          0.058163265306122446
         ],
         "title": {
          "text": "dropout_l0"
         },
         "type": "category"
        },
        "xaxis10": {
         "anchor": "y10",
         "categoryarray": [
          8,
          16,
          32,
          64
         ],
         "categoryorder": "array",
         "domain": [
          0.6520408163265305,
          0.710204081632653
         ],
         "title": {
          "text": "n_units_l1"
         },
         "type": "category"
        },
        "xaxis11": {
         "anchor": "y11",
         "categoryarray": [
          8,
          16,
          32,
          64
         ],
         "categoryorder": "array",
         "domain": [
          0.7244897959183674,
          0.7826530612244899
         ],
         "title": {
          "text": "n_units_l2"
         },
         "type": "category"
        },
        "xaxis12": {
         "anchor": "y12",
         "categoryarray": [
          8,
          16,
          32,
          64
         ],
         "categoryorder": "array",
         "domain": [
          0.7969387755102041,
          0.8551020408163266
         ],
         "title": {
          "text": "n_units_l3"
         },
         "type": "category"
        },
        "xaxis13": {
         "anchor": "y13",
         "categoryarray": [
          8,
          16,
          32,
          64
         ],
         "categoryorder": "array",
         "domain": [
          0.8693877551020408,
          0.9275510204081633
         ],
         "title": {
          "text": "n_units_l4"
         },
         "type": "category"
        },
        "xaxis14": {
         "anchor": "y14",
         "categoryarray": [
          8,
          16,
          32,
          64
         ],
         "categoryorder": "array",
         "domain": [
          0.9418367346938776,
          1
         ],
         "title": {
          "text": "n_units_l5"
         },
         "type": "category"
        },
        "xaxis2": {
         "anchor": "y2",
         "categoryarray": [
          0,
          0.1,
          0.2
         ],
         "categoryorder": "array",
         "domain": [
          0.07244897959183673,
          0.13061224489795917
         ],
         "title": {
          "text": "dropout_l1"
         },
         "type": "category"
        },
        "xaxis3": {
         "anchor": "y3",
         "categoryarray": [
          0,
          0.1,
          0.2
         ],
         "categoryorder": "array",
         "domain": [
          0.14489795918367346,
          0.2030612244897959
         ],
         "title": {
          "text": "dropout_l2"
         },
         "type": "category"
        },
        "xaxis4": {
         "anchor": "y4",
         "categoryarray": [
          0,
          0.1,
          0.2
         ],
         "categoryorder": "array",
         "domain": [
          0.2173469387755102,
          0.2755102040816326
         ],
         "title": {
          "text": "dropout_l3"
         },
         "type": "category"
        },
        "xaxis5": {
         "anchor": "y5",
         "categoryarray": [
          0,
          0.1,
          0.2
         ],
         "categoryorder": "array",
         "domain": [
          0.2897959183673469,
          0.34795918367346934
         ],
         "title": {
          "text": "dropout_l4"
         },
         "type": "category"
        },
        "xaxis6": {
         "anchor": "y6",
         "categoryarray": [
          0,
          0.1,
          0.2
         ],
         "categoryorder": "array",
         "domain": [
          0.3622448979591837,
          0.4204081632653061
         ],
         "title": {
          "text": "dropout_l5"
         },
         "type": "category"
        },
        "xaxis7": {
         "anchor": "y7",
         "domain": [
          0.4346938775510204,
          0.4928571428571428
         ],
         "title": {
          "text": "epochs"
         }
        },
        "xaxis8": {
         "anchor": "y8",
         "domain": [
          0.5071428571428571,
          0.5653061224489796
         ],
         "title": {
          "text": "n_layers"
         }
        },
        "xaxis9": {
         "anchor": "y9",
         "categoryarray": [
          8,
          16,
          32,
          64
         ],
         "categoryorder": "array",
         "domain": [
          0.5795918367346938,
          0.6377551020408163
         ],
         "title": {
          "text": "n_units_l0"
         },
         "type": "category"
        },
        "yaxis": {
         "anchor": "x",
         "domain": [
          0,
          1
         ],
         "title": {
          "text": "Objective Value"
         }
        },
        "yaxis10": {
         "anchor": "x10",
         "domain": [
          0,
          1
         ],
         "matches": "y",
         "showticklabels": false
        },
        "yaxis11": {
         "anchor": "x11",
         "domain": [
          0,
          1
         ],
         "matches": "y",
         "showticklabels": false
        },
        "yaxis12": {
         "anchor": "x12",
         "domain": [
          0,
          1
         ],
         "matches": "y",
         "showticklabels": false
        },
        "yaxis13": {
         "anchor": "x13",
         "domain": [
          0,
          1
         ],
         "matches": "y",
         "showticklabels": false
        },
        "yaxis14": {
         "anchor": "x14",
         "domain": [
          0,
          1
         ],
         "matches": "y",
         "showticklabels": false
        },
        "yaxis2": {
         "anchor": "x2",
         "domain": [
          0,
          1
         ],
         "matches": "y",
         "showticklabels": false
        },
        "yaxis3": {
         "anchor": "x3",
         "domain": [
          0,
          1
         ],
         "matches": "y",
         "showticklabels": false
        },
        "yaxis4": {
         "anchor": "x4",
         "domain": [
          0,
          1
         ],
         "matches": "y",
         "showticklabels": false
        },
        "yaxis5": {
         "anchor": "x5",
         "domain": [
          0,
          1
         ],
         "matches": "y",
         "showticklabels": false
        },
        "yaxis6": {
         "anchor": "x6",
         "domain": [
          0,
          1
         ],
         "matches": "y",
         "showticklabels": false
        },
        "yaxis7": {
         "anchor": "x7",
         "domain": [
          0,
          1
         ],
         "matches": "y",
         "showticklabels": false
        },
        "yaxis8": {
         "anchor": "x8",
         "domain": [
          0,
          1
         ],
         "matches": "y",
         "showticklabels": false
        },
        "yaxis9": {
         "anchor": "x9",
         "domain": [
          0,
          1
         ],
         "matches": "y",
         "showticklabels": false
        }
       }
      },
      "image/png": "[encoded data removed]"
     },
     "metadata": {},
     "output_type": "display_data"
    }
   ],
   "source": [
    "fig3 = optuna.visualization.plot_parallel_coordinate(study)\n",
    "fig3.show()\n",
    "\n",
    "fig4 = optuna.visualization.plot_slice(study)\n",
    "fig4.show()"
   ]
  },
  {
   "cell_type": "code",
   "execution_count": null,
   "id": "c7a1f955-9307-4b4a-a44e-98877f62bc43",
   "metadata": {},
   "outputs": [],
   "source": []
  },
  {
   "cell_type": "markdown",
   "id": "f04247a0-ee4c-4f63-be35-f540656b4d72",
   "metadata": {},
   "source": [
    "# Feature Selection with Random Forest"
   ]
  },
  {
   "cell_type": "code",
   "execution_count": 16,
   "id": "cb37a239-12dc-4b95-a4b4-425b987529f4",
   "metadata": {},
   "outputs": [
    {
     "data": {
      "text/html": [
       "<div>\n",
       "<style scoped>\n",
       "    .dataframe tbody tr th:only-of-type {\n",
       "        vertical-align: middle;\n",
       "    }\n",
       "\n",
       "    .dataframe tbody tr th {\n",
       "        vertical-align: top;\n",
       "    }\n",
       "\n",
       "    .dataframe thead th {\n",
       "        text-align: right;\n",
       "    }\n",
       "</style>\n",
       "<table border=\"1\" class=\"dataframe\">\n",
       "  <thead>\n",
       "    <tr style=\"text-align: right;\">\n",
       "      <th></th>\n",
       "      <th>Feature</th>\n",
       "      <th>Importance</th>\n",
       "    </tr>\n",
       "  </thead>\n",
       "  <tbody>\n",
       "    <tr>\n",
       "      <th>18</th>\n",
       "      <td>Offset</td>\n",
       "      <td>0.509351</td>\n",
       "    </tr>\n",
       "    <tr>\n",
       "      <th>9</th>\n",
       "      <td>sTtl</td>\n",
       "      <td>0.091652</td>\n",
       "    </tr>\n",
       "    <tr>\n",
       "      <th>19</th>\n",
       "      <td>sMeanPktSz</td>\n",
       "      <td>0.065276</td>\n",
       "    </tr>\n",
       "    <tr>\n",
       "      <th>10</th>\n",
       "      <td>sHops</td>\n",
       "      <td>0.054485</td>\n",
       "    </tr>\n",
       "    <tr>\n",
       "      <th>31</th>\n",
       "      <td>State</td>\n",
       "      <td>0.033252</td>\n",
       "    </tr>\n",
       "    <tr>\n",
       "      <th>34</th>\n",
       "      <td>AckDat</td>\n",
       "      <td>0.024202</td>\n",
       "    </tr>\n",
       "    <tr>\n",
       "      <th>16</th>\n",
       "      <td>SrcBytes</td>\n",
       "      <td>0.023454</td>\n",
       "    </tr>\n",
       "    <tr>\n",
       "      <th>32</th>\n",
       "      <td>TcpRtt</td>\n",
       "      <td>0.021225</td>\n",
       "    </tr>\n",
       "    <tr>\n",
       "      <th>6</th>\n",
       "      <td>Proto</td>\n",
       "      <td>0.020510</td>\n",
       "    </tr>\n",
       "    <tr>\n",
       "      <th>33</th>\n",
       "      <td>SynAck</td>\n",
       "      <td>0.018494</td>\n",
       "    </tr>\n",
       "    <tr>\n",
       "      <th>15</th>\n",
       "      <td>TotBytes</td>\n",
       "      <td>0.017990</td>\n",
       "    </tr>\n",
       "    <tr>\n",
       "      <th>11</th>\n",
       "      <td>Cause</td>\n",
       "      <td>0.017637</td>\n",
       "    </tr>\n",
       "    <tr>\n",
       "      <th>21</th>\n",
       "      <td>Load</td>\n",
       "      <td>0.012694</td>\n",
       "    </tr>\n",
       "    <tr>\n",
       "      <th>28</th>\n",
       "      <td>Rate</td>\n",
       "      <td>0.010332</td>\n",
       "    </tr>\n",
       "    <tr>\n",
       "      <th>22</th>\n",
       "      <td>SrcLoad</td>\n",
       "      <td>0.008951</td>\n",
       "    </tr>\n",
       "    <tr>\n",
       "      <th>5</th>\n",
       "      <td>Max</td>\n",
       "      <td>0.008741</td>\n",
       "    </tr>\n",
       "    <tr>\n",
       "      <th>0</th>\n",
       "      <td>Dur</td>\n",
       "      <td>0.007598</td>\n",
       "    </tr>\n",
       "    <tr>\n",
       "      <th>1</th>\n",
       "      <td>RunTime</td>\n",
       "      <td>0.007501</td>\n",
       "    </tr>\n",
       "    <tr>\n",
       "      <th>29</th>\n",
       "      <td>SrcRate</td>\n",
       "      <td>0.007194</td>\n",
       "    </tr>\n",
       "    <tr>\n",
       "      <th>2</th>\n",
       "      <td>Mean</td>\n",
       "      <td>0.005724</td>\n",
       "    </tr>\n",
       "    <tr>\n",
       "      <th>4</th>\n",
       "      <td>Min</td>\n",
       "      <td>0.005052</td>\n",
       "    </tr>\n",
       "    <tr>\n",
       "      <th>3</th>\n",
       "      <td>Sum</td>\n",
       "      <td>0.004975</td>\n",
       "    </tr>\n",
       "    <tr>\n",
       "      <th>17</th>\n",
       "      <td>DstBytes</td>\n",
       "      <td>0.004319</td>\n",
       "    </tr>\n",
       "    <tr>\n",
       "      <th>12</th>\n",
       "      <td>TotPkts</td>\n",
       "      <td>0.004103</td>\n",
       "    </tr>\n",
       "    <tr>\n",
       "      <th>13</th>\n",
       "      <td>SrcPkts</td>\n",
       "      <td>0.003971</td>\n",
       "    </tr>\n",
       "    <tr>\n",
       "      <th>20</th>\n",
       "      <td>dMeanPktSz</td>\n",
       "      <td>0.003658</td>\n",
       "    </tr>\n",
       "    <tr>\n",
       "      <th>14</th>\n",
       "      <td>DstPkts</td>\n",
       "      <td>0.002142</td>\n",
       "    </tr>\n",
       "    <tr>\n",
       "      <th>27</th>\n",
       "      <td>pLoss</td>\n",
       "      <td>0.001341</td>\n",
       "    </tr>\n",
       "    <tr>\n",
       "      <th>25</th>\n",
       "      <td>SrcLoss</td>\n",
       "      <td>0.000935</td>\n",
       "    </tr>\n",
       "    <tr>\n",
       "      <th>7</th>\n",
       "      <td>sTos</td>\n",
       "      <td>0.000872</td>\n",
       "    </tr>\n",
       "    <tr>\n",
       "      <th>23</th>\n",
       "      <td>DstLoad</td>\n",
       "      <td>0.000802</td>\n",
       "    </tr>\n",
       "    <tr>\n",
       "      <th>24</th>\n",
       "      <td>Loss</td>\n",
       "      <td>0.000681</td>\n",
       "    </tr>\n",
       "    <tr>\n",
       "      <th>30</th>\n",
       "      <td>DstRate</td>\n",
       "      <td>0.000676</td>\n",
       "    </tr>\n",
       "    <tr>\n",
       "      <th>8</th>\n",
       "      <td>sDSb</td>\n",
       "      <td>0.000198</td>\n",
       "    </tr>\n",
       "    <tr>\n",
       "      <th>26</th>\n",
       "      <td>DstLoss</td>\n",
       "      <td>0.000011</td>\n",
       "    </tr>\n",
       "  </tbody>\n",
       "</table>\n",
       "</div>"
      ],
      "text/plain": [
       "       Feature  Importance\n",
       "18      Offset    0.509351\n",
       "9         sTtl    0.091652\n",
       "19  sMeanPktSz    0.065276\n",
       "10       sHops    0.054485\n",
       "31       State    0.033252\n",
       "34      AckDat    0.024202\n",
       "16    SrcBytes    0.023454\n",
       "32      TcpRtt    0.021225\n",
       "6        Proto    0.020510\n",
       "33      SynAck    0.018494\n",
       "15    TotBytes    0.017990\n",
       "11       Cause    0.017637\n",
       "21        Load    0.012694\n",
       "28        Rate    0.010332\n",
       "22     SrcLoad    0.008951\n",
       "5          Max    0.008741\n",
       "0          Dur    0.007598\n",
       "1      RunTime    0.007501\n",
       "29     SrcRate    0.007194\n",
       "2         Mean    0.005724\n",
       "4          Min    0.005052\n",
       "3          Sum    0.004975\n",
       "17    DstBytes    0.004319\n",
       "12     TotPkts    0.004103\n",
       "13     SrcPkts    0.003971\n",
       "20  dMeanPktSz    0.003658\n",
       "14     DstPkts    0.002142\n",
       "27       pLoss    0.001341\n",
       "25     SrcLoss    0.000935\n",
       "7         sTos    0.000872\n",
       "23     DstLoad    0.000802\n",
       "24        Loss    0.000681\n",
       "30     DstRate    0.000676\n",
       "8         sDSb    0.000198\n",
       "26     DstLoss    0.000011"
      ]
     },
     "execution_count": 16,
     "metadata": {},
     "output_type": "execute_result"
    }
   ],
   "source": [
    "from sklearn.ensemble import RandomForestClassifier\n",
    "\n",
    "X_df = data.drop(columns=['Label'])  # Keep as DataFrame\n",
    "y = data['Label']\n",
    "\n",
    "# Train a Random Forest model for feature importance\n",
    "rf = RandomForestClassifier(n_estimators=100, random_state=42)\n",
    "rf.fit(X_df, y)\n",
    "feature_importances = rf.feature_importances_\n",
    "feature_importance_df = pd.DataFrame({'Feature': X_df.columns, 'Importance': feature_importances})\n",
    "feature_importance_df = feature_importance_df.sort_values(by='Importance', ascending=False)\n",
    "feature_importance_df"
   ]
  },
  {
   "cell_type": "code",
   "execution_count": 17,
   "id": "eff50420-d7ff-4964-b079-14efb3bdcdb7",
   "metadata": {},
   "outputs": [
    {
     "name": "stdout",
     "output_type": "stream",
     "text": [
      "35\n",
      "35\n"
     ]
    }
   ],
   "source": [
    "print(len(feature_importance_df))\n",
    "print(len(X_df.columns))"
   ]
  },
  {
   "cell_type": "code",
   "execution_count": 22,
   "id": "443bc95d-dbbb-4826-ad6e-1acc7ac38934",
   "metadata": {},
   "outputs": [],
   "source": [
    "# ----- Your fixed best hyperparameters -----\n",
    "best_params = {\n",
    "    'epochs': 8,\n",
    "    'n_layers': 4,\n",
    "    'n_units_l0': 32, 'dropout_l0': 0.1,\n",
    "    'n_units_l1': 64, 'dropout_l1': 0.1,\n",
    "    'n_units_l2': 8,  'dropout_l2': 0.0,\n",
    "    'n_units_l3': 64, 'dropout_l3': 0.1,\n",
    "    'learning_rate': 1e-3,\n",
    "    'batch_size': 32\n",
    "}"
   ]
  },
  {
   "cell_type": "code",
   "execution_count": 31,
   "id": "4a20f0cb-5783-4984-8c01-ffa9bc129fef",
   "metadata": {},
   "outputs": [
    {
     "name": "stdout",
     "output_type": "stream",
     "text": [
      "Best k = 17 with mean CV macro F1 = 0.9747\n"
     ]
    },
    {
     "data": {
      "image/png": "[encoded data removed]",
      "text/plain": [
       "<Figure size 640x480 with 1 Axes>"
      ]
     },
     "metadata": {},
     "output_type": "display_data"
    },
    {
     "name": "stdout",
     "output_type": "stream",
     "text": [
      "Selected features: ['Offset', 'sTtl', 'sMeanPktSz', 'sHops', 'State', 'AckDat', 'SrcBytes', 'TcpRtt', 'Proto', 'SynAck', 'TotBytes', 'Cause', 'Load', 'Rate', 'SrcLoad', 'Max', 'Dur']\n",
      "Final Test Set Report (using best_k features):\n",
      "              precision    recall  f1-score   support\n",
      "\n",
      "           0       1.00      0.94      0.97     95505\n",
      "           1       0.96      1.00      0.98    147631\n",
      "\n",
      "    accuracy                           0.98    243136\n",
      "   macro avg       0.98      0.97      0.97    243136\n",
      "weighted avg       0.98      0.98      0.98    243136\n",
      "\n"
     ]
    }
   ],
   "source": [
    "import numpy as np\n",
    "import pandas as pd\n",
    "import matplotlib.pyplot as plt\n",
    "\n",
    "from sklearn.model_selection import StratifiedKFold, train_test_split\n",
    "from sklearn.preprocessing import StandardScaler\n",
    "from sklearn.metrics import classification_report\n",
    "\n",
    "from tensorflow.keras import Input\n",
    "from tensorflow.keras.models import Sequential\n",
    "from tensorflow.keras.layers import Dense, Dropout\n",
    "from tensorflow.keras.optimizers import Adam\n",
    "from tensorflow.keras.callbacks import EarlyStopping\n",
    "\n",
    "# ----- Your fixed best hyperparameters -----\n",
    "best_params = {\n",
    "    'epochs': 8,\n",
    "    'n_layers': 4,\n",
    "    'n_units_l0': 32, 'dropout_l0': 0.1,\n",
    "    'n_units_l1': 64, 'dropout_l1': 0.1,\n",
    "    'n_units_l2': 8,  'dropout_l2': 0.0,\n",
    "    'n_units_l3': 64, 'dropout_l3': 0.1,\n",
    "    'learning_rate': 1e-3,\n",
    "    'batch_size': 32\n",
    "}\n",
    "\n",
    "# ----- Split once: trainval / test -----\n",
    "X_df = data.drop(columns=['Label'])\n",
    "y = data['Label'].values\n",
    "\n",
    "X_trainval_df, X_test_df, y_trainval, y_test = train_test_split(\n",
    "    X_df, y, test_size=0.2, stratify=y, random_state=1\n",
    ")\n",
    "\n",
    "# ----- Model builder using your fixed params -----\n",
    "def build_model(input_dim: int):\n",
    "    m = Sequential()\n",
    "    m.add(Input(shape=(input_dim,)))\n",
    "    for i in range(best_params['n_layers']):\n",
    "        units = best_params.get(f\"n_units_l{i}\")\n",
    "        dr = best_params.get(f\"dropout_l{i}\", 0.0)\n",
    "        m.add(Dense(units, activation='relu'))\n",
    "        if dr and dr > 0:\n",
    "            m.add(Dropout(dr))\n",
    "    m.add(Dense(1, activation='sigmoid'))\n",
    "    m.compile(optimizer=Adam(learning_rate=best_params['learning_rate']),\n",
    "              loss='binary_crossentropy', metrics=['accuracy'])\n",
    "    return m\n",
    "\n",
    "# ----- Prepare top-k feature order (from your RandomForest importances) -----\n",
    "top_features = (\n",
    "    feature_importance_df.sort_values('Importance', ascending=False)['Feature']\n",
    "    .tolist()\n",
    ")\n",
    "top_features = [f for f in top_features if f in X_trainval_df.columns]\n",
    "max_k = len(top_features)\n",
    "\n",
    "# ----- CV eval for a given k (on trainval only; scaling inside each fold) -----\n",
    "def cv_macro_f1_for_k(k: int, n_splits: int = 5, seed: int = 1):\n",
    "    feats = top_features[:k]\n",
    "    Xk = X_trainval_df[feats].values\n",
    "    yk = y_trainval\n",
    "\n",
    "    skf = StratifiedKFold(n_splits=n_splits, shuffle=True, random_state=seed)\n",
    "    fold_scores = []\n",
    "\n",
    "    for tr_idx, va_idx in skf.split(Xk, yk):\n",
    "        X_tr, X_va = Xk[tr_idx], Xk[va_idx]\n",
    "        y_tr, y_va = yk[tr_idx], yk[va_idx]\n",
    "\n",
    "        scaler = StandardScaler().fit(X_tr)\n",
    "        X_tr = scaler.transform(X_tr)\n",
    "        X_va = scaler.transform(X_va)\n",
    "\n",
    "        model = build_model(input_dim=X_tr.shape[1])\n",
    "        early = EarlyStopping(monitor='val_loss', patience=3, restore_best_weights=True, verbose=0)\n",
    "\n",
    "        model.fit(X_tr, y_tr,\n",
    "                  validation_data=(X_va, y_va),\n",
    "                  epochs=best_params['epochs'],\n",
    "                  batch_size=best_params['batch_size'],\n",
    "                  verbose=0,\n",
    "                  callbacks=[early])\n",
    "\n",
    "        preds = (model.predict(X_va, verbose=0).ravel() > 0.5).astype(int)\n",
    "        rep = classification_report(y_va, preds, output_dict=True, zero_division=0)\n",
    "        fold_scores.append(rep['macro avg']['f1-score'])\n",
    "\n",
    "    return float(np.mean(fold_scores)), float(np.std(fold_scores))\n",
    "\n",
    "# ----- Search k = 1..max_k -----\n",
    "results = []\n",
    "for k in range(1, max_k + 1):\n",
    "    mean_f1, std_f1 = cv_macro_f1_for_k(k)\n",
    "    results.append({'k': k, 'mean_macro_f1': mean_f1, 'std_macro_f1': std_f1})\n",
    "\n",
    "df_k = pd.DataFrame(results)\n",
    "best_row = df_k.iloc[df_k['mean_macro_f1'].idxmax()]\n",
    "best_k = int(best_row['k'])\n",
    "print(f\"Best k = {best_k} with mean CV macro F1 = {best_row['mean_macro_f1']:.4f}\")\n",
    "\n",
    "# ----- Plot performance vs k -----\n",
    "plt.figure()\n",
    "plt.plot(df_k['k'], df_k['mean_macro_f1'])\n",
    "plt.xlabel('Top-k Features')\n",
    "plt.ylabel('Macro F1')\n",
    "plt.title('Feature Count vs Performance')\n",
    "plt.grid(True)\n",
    "plt.show()\n",
    "\n",
    "# ----- Final train on all trainval with best_k features; evaluate once on test -----\n",
    "selected_features = top_features[:best_k]\n",
    "print(\"Selected features:\", selected_features)\n",
    "\n",
    "Xtr_sel = X_trainval_df[selected_features].values\n",
    "Xte_sel = X_test_df[selected_features].values\n",
    "\n",
    "scaler_full = StandardScaler().fit(Xtr_sel)\n",
    "Xtr_sel = scaler_full.transform(Xtr_sel)\n",
    "Xte_sel = scaler_full.transform(Xte_sel)\n",
    "\n",
    "final_model = build_model(input_dim=Xtr_sel.shape[1])\n",
    "final_model.fit(\n",
    "    Xtr_sel, y_trainval,\n",
    "    epochs=best_params['epochs'],\n",
    "    batch_size=best_params['batch_size'],\n",
    "    verbose=0\n",
    ")\n",
    "\n",
    "test_preds = (final_model.predict(Xte_sel, verbose=0).ravel() > 0.5).astype(int)\n",
    "final_report = classification_report(y_test, test_preds, zero_division=0)\n",
    "print(\"Final Test Set Report (using best_k features):\")\n",
    "print(final_report)\n"
   ]
  },
  {
   "cell_type": "code",
   "execution_count": 21,
   "id": "750eea36-0fc4-4bb4-bc3b-2d23e1a9e00a",
   "metadata": {},
   "outputs": [
    {
     "data": {
      "text/html": [
       "<div>\n",
       "<style scoped>\n",
       "    .dataframe tbody tr th:only-of-type {\n",
       "        vertical-align: middle;\n",
       "    }\n",
       "\n",
       "    .dataframe tbody tr th {\n",
       "        vertical-align: top;\n",
       "    }\n",
       "\n",
       "    .dataframe thead th {\n",
       "        text-align: right;\n",
       "    }\n",
       "</style>\n",
       "<table border=\"1\" class=\"dataframe\">\n",
       "  <thead>\n",
       "    <tr style=\"text-align: right;\">\n",
       "      <th></th>\n",
       "      <th>Feature</th>\n",
       "      <th>Importance</th>\n",
       "    </tr>\n",
       "  </thead>\n",
       "  <tbody>\n",
       "    <tr>\n",
       "      <th>18</th>\n",
       "      <td>Offset</td>\n",
       "      <td>0.509351</td>\n",
       "    </tr>\n",
       "    <tr>\n",
       "      <th>9</th>\n",
       "      <td>sTtl</td>\n",
       "      <td>0.091652</td>\n",
       "    </tr>\n",
       "    <tr>\n",
       "      <th>19</th>\n",
       "      <td>sMeanPktSz</td>\n",
       "      <td>0.065276</td>\n",
       "    </tr>\n",
       "    <tr>\n",
       "      <th>10</th>\n",
       "      <td>sHops</td>\n",
       "      <td>0.054485</td>\n",
       "    </tr>\n",
       "    <tr>\n",
       "      <th>31</th>\n",
       "      <td>State</td>\n",
       "      <td>0.033252</td>\n",
       "    </tr>\n",
       "  </tbody>\n",
       "</table>\n",
       "</div>"
      ],
      "text/plain": [
       "       Feature  Importance\n",
       "18      Offset    0.509351\n",
       "9         sTtl    0.091652\n",
       "19  sMeanPktSz    0.065276\n",
       "10       sHops    0.054485\n",
       "31       State    0.033252"
      ]
     },
     "execution_count": 21,
     "metadata": {},
     "output_type": "execute_result"
    }
   ],
   "source": [
    "feature_importance_df.head(5)"
   ]
  },
  {
   "cell_type": "markdown",
   "id": "30471987-0b80-4ed7-a7cb-9dfd735e37fd",
   "metadata": {},
   "source": [
    "# WYBRANE 5 NAJWAŻNIEJSZYCH CECH"
   ]
  },
  {
   "cell_type": "code",
   "execution_count": 19,
   "id": "68eb3745-fa27-43f1-902c-d5c3d00ec63d",
   "metadata": {},
   "outputs": [],
   "source": [
    "# ----- Split once: trainval / test -----\n",
    "X_df = data.drop(columns=['Label'])\n",
    "y = data['Label'].values\n",
    "\n",
    "X_trainval_df, X_test_df, y_trainval, y_test = train_test_split(\n",
    "    X_df, y, test_size=0.2, stratify=y, random_state=1\n",
    ")\n",
    "\n",
    "# ----- Prepare top-k feature order (from your RandomForest importances) -----\n",
    "selected_features = ['Offset', 'sTtl', 'sMeanPktSz', 'sHops', 'State']\n",
    "max_k = len(selected_features)"
   ]
  },
  {
   "cell_type": "code",
   "execution_count": 20,
   "id": "678fc362-078d-47db-8b9f-1cb99fb96b7d",
   "metadata": {},
   "outputs": [],
   "source": [
    "Xtr_sel = X_trainval_df[selected_features].values\n",
    "Xte_sel = X_test_df[selected_features].values\n",
    "\n",
    "scaler_full = StandardScaler().fit(Xtr_sel)\n",
    "Xtr_sel = scaler_full.transform(Xtr_sel)\n",
    "Xte_sel = scaler_full.transform(Xte_sel)"
   ]
  },
  {
   "cell_type": "code",
   "execution_count": 18,
   "id": "eec99cfd-51bf-4617-89e1-b95f555f2d3b",
   "metadata": {},
   "outputs": [],
   "source": [
    "# ----- Model builder using your fixed params -----\n",
    "def build_model(input_dim: int):\n",
    "    m = Sequential()\n",
    "    m.add(Input(shape=(input_dim,)))\n",
    "    for i in range(best_params['n_layers']):\n",
    "        units = best_params.get(f\"n_units_l{i}\")\n",
    "        dr = best_params.get(f\"dropout_l{i}\", 0.0)\n",
    "        m.add(Dense(units, activation='relu'))\n",
    "        if dr and dr > 0:\n",
    "            m.add(Dropout(dr))\n",
    "    m.add(Dense(1, activation='sigmoid'))\n",
    "    m.compile(optimizer=Adam(learning_rate=best_params['learning_rate']),\n",
    "              loss='binary_crossentropy', metrics=['accuracy'])\n",
    "    return m"
   ]
  },
  {
   "cell_type": "code",
   "execution_count": 29,
   "id": "01f5ff33-6a3f-45ed-bbba-5de5d81a2a7e",
   "metadata": {},
   "outputs": [
    {
     "name": "stdout",
     "output_type": "stream",
     "text": [
      "Selected features: ['Offset', 'sTtl', 'sMeanPktSz', 'sHops', 'State']\n",
      "Epoch 1/8\n",
      "\u001b[1m30392/30392\u001b[0m \u001b[32m━━━━━━━━━━━━━━━━━━━━\u001b[0m\u001b[37m\u001b[0m \u001b[1m36s\u001b[0m 1ms/step - accuracy: 0.9568 - loss: 0.0941\n",
      "Epoch 2/8\n",
      "\u001b[1m30392/30392\u001b[0m \u001b[32m━━━━━━━━━━━━━━━━━━━━\u001b[0m\u001b[37m\u001b[0m \u001b[1m34s\u001b[0m 1ms/step - accuracy: 0.9668 - loss: 0.0592\n",
      "Epoch 3/8\n",
      "\u001b[1m30392/30392\u001b[0m \u001b[32m━━━━━━━━━━━━━━━━━━━━\u001b[0m\u001b[37m\u001b[0m \u001b[1m34s\u001b[0m 1ms/step - accuracy: 0.9673 - loss: 0.0579\n",
      "Epoch 4/8\n",
      "\u001b[1m30392/30392\u001b[0m \u001b[32m━━━━━━━━━━━━━━━━━━━━\u001b[0m\u001b[37m\u001b[0m \u001b[1m34s\u001b[0m 1ms/step - accuracy: 0.9673 - loss: 0.0574\n",
      "Epoch 5/8\n",
      "\u001b[1m30392/30392\u001b[0m \u001b[32m━━━━━━━━━━━━━━━━━━━━\u001b[0m\u001b[37m\u001b[0m \u001b[1m34s\u001b[0m 1ms/step - accuracy: 0.9675 - loss: 0.0564\n",
      "Epoch 6/8\n",
      "\u001b[1m30392/30392\u001b[0m \u001b[32m━━━━━━━━━━━━━━━━━━━━\u001b[0m\u001b[37m\u001b[0m \u001b[1m34s\u001b[0m 1ms/step - accuracy: 0.9677 - loss: 0.0563\n",
      "Epoch 7/8\n",
      "\u001b[1m30392/30392\u001b[0m \u001b[32m━━━━━━━━━━━━━━━━━━━━\u001b[0m\u001b[37m\u001b[0m \u001b[1m34s\u001b[0m 1ms/step - accuracy: 0.9676 - loss: 0.0562\n",
      "Epoch 8/8\n",
      "\u001b[1m30392/30392\u001b[0m \u001b[32m━━━━━━━━━━━━━━━━━━━━\u001b[0m\u001b[37m\u001b[0m \u001b[1m33s\u001b[0m 1ms/step - accuracy: 0.9675 - loss: 0.0559\n",
      "\u001b[1m7598/7598\u001b[0m \u001b[32m━━━━━━━━━━━━━━━━━━━━\u001b[0m\u001b[37m\u001b[0m \u001b[1m4s\u001b[0m 551us/step\n",
      "Final Test Set Report (using best_k features):\n",
      "              precision    recall  f1-score   support\n",
      "\n",
      "           0       1.00      0.92      0.96     95505\n",
      "           1       0.95      1.00      0.97    147631\n",
      "\n",
      "    accuracy                           0.97    243136\n",
      "   macro avg       0.97      0.96      0.97    243136\n",
      "weighted avg       0.97      0.97      0.97    243136\n",
      "\n"
     ]
    }
   ],
   "source": [
    "# ----- Final train on all trainval with best_k features; evaluate once on test -----\n",
    "selected_features = top_features[:5]\n",
    "print(\"Selected features:\", selected_features)\n",
    "\n",
    "final_model = build_model(input_dim=Xtr_sel.shape[1])\n",
    "final_model.fit(\n",
    "    Xtr_sel, y_trainval,\n",
    "    epochs=best_params['epochs'],\n",
    "    batch_size=best_params['batch_size'],\n",
    "    verbose=1\n",
    ")\n",
    "\n",
    "test_preds = (final_model.predict(Xte_sel, verbose=1).ravel() > 0.5).astype(int)\n",
    "final_report = classification_report(y_test, test_preds, zero_division=0)\n",
    "print(\"Final Test Set Report (using best_k features):\")\n",
    "print(final_report)"
   ]
  },
  {
   "cell_type": "code",
   "execution_count": 30,
   "id": "c95690c6-beb8-4853-b6e7-7d2785783cda",
   "metadata": {},
   "outputs": [
    {
     "name": "stdout",
     "output_type": "stream",
     "text": [
      "Test Accuracy: 96.78%\n",
      "Test Precision: 96.93%\n",
      "Test Recall: 96.78%\n"
     ]
    }
   ],
   "source": [
    "from sklearn.metrics import accuracy_score, precision_score, recall_score\n",
    "# Calculate metrics\n",
    "accuracy = accuracy_score(y_test, test_preds)\n",
    "precision = precision_score(y_test, test_preds, average='weighted')  # Use 'macro' or 'micro' for different averaging\n",
    "recall = recall_score(y_test, test_preds, average='weighted')\n",
    "\n",
    "# Print results\n",
    "print(f\"Test Accuracy: {accuracy * 100:.2f}%\")\n",
    "print(f\"Test Precision: {precision * 100:.2f}%\")\n",
    "print(f\"Test Recall: {recall * 100:.2f}%\")\n"
   ]
  },
  {
   "cell_type": "code",
   "execution_count": 31,
   "id": "9cf81732-e123-4fc5-8f45-b985a737ba8a",
   "metadata": {},
   "outputs": [
    {
     "data": {
      "image/png": "[encoded data removed]",
      "text/plain": [
       "<Figure size 600x400 with 2 Axes>"
      ]
     },
     "metadata": {},
     "output_type": "display_data"
    },
    {
     "name": "stdout",
     "output_type": "stream",
     "text": [
      "                precision    recall  f1-score   support\n",
      "\n",
      "Normal Traffic       1.00      0.92      0.96     95505\n",
      "        Attack       0.95      1.00      0.97    147631\n",
      "\n",
      "      accuracy                           0.97    243136\n",
      "     macro avg       0.97      0.96      0.97    243136\n",
      "  weighted avg       0.97      0.97      0.97    243136\n",
      "\n"
     ]
    }
   ],
   "source": [
    "import matplotlib.pyplot as plt\n",
    "import seaborn as sns\n",
    "from sklearn.metrics import confusion_matrix, classification_report\n",
    "\n",
    "# Compute confusion matrix\n",
    "cm = confusion_matrix(y_test, test_preds)\n",
    "\n",
    "# Plot the confusion matrix\n",
    "plt.figure(figsize=(6, 4))\n",
    "sns.heatmap(cm, annot=True, fmt='d', cmap='Blues', xticklabels=['Normal Traffic (0)', 'Attack (1)'], yticklabels=['Normal Traffic (0)', 'Attack (1)'])\n",
    "plt.xlabel('Predicted')\n",
    "plt.ylabel('Actual')\n",
    "plt.title('Confusion Matrix')\n",
    "plt.show()\n",
    "\n",
    "# Print detailed classification report\n",
    "print(classification_report(y_test, test_preds, target_names=['Normal Traffic', 'Attack']))\n"
   ]
  },
  {
   "cell_type": "code",
   "execution_count": 32,
   "id": "7f902f44-ceea-47cf-99fa-67079dab691d",
   "metadata": {},
   "outputs": [],
   "source": [
    "# Save the trained model\n",
    "final_model.save(\"5G_NIDD_final.keras\")"
   ]
  },
  {
   "cell_type": "code",
   "execution_count": null,
   "id": "3c3e2035-8bbc-41ff-b07b-4b1b3e6d577a",
   "metadata": {},
   "outputs": [],
   "source": []
  },
  {
   "cell_type": "markdown",
   "id": "8d552c86-8c11-4ab7-a38f-d71e782efbdf",
   "metadata": {},
   "source": [
    "# FGSM"
   ]
  },
  {
   "cell_type": "code",
   "execution_count": 22,
   "id": "27f5ca57-016a-4411-ac3e-d30eda12ceeb",
   "metadata": {},
   "outputs": [
    {
     "data": {
      "text/plain": [
       "(243136, 5)"
      ]
     },
     "execution_count": 22,
     "metadata": {},
     "output_type": "execute_result"
    }
   ],
   "source": [
    "Xte_sel.shape"
   ]
  },
  {
   "cell_type": "code",
   "execution_count": 21,
   "id": "b4e3436b-970a-4810-902f-6e2eb8e08a6f",
   "metadata": {},
   "outputs": [],
   "source": [
    "# Separate attack and normal samples\n",
    "X_test_attack = Xte_sel[y_test == 1]\n",
    "y_test_attack = y_test[y_test == 1]\n",
    "\n",
    "X_test_normal = Xte_sel[y_test == 0]\n",
    "y_test_normal = y_test[y_test == 0]"
   ]
  },
  {
   "cell_type": "code",
   "execution_count": 35,
   "id": "cb776b31-7386-4646-9c00-4d2dc5046162",
   "metadata": {},
   "outputs": [
    {
     "name": "stdout",
     "output_type": "stream",
     "text": [
      "Gradient stats:\n",
      "  Min: -70.22476\n",
      "  Max: 115.901184\n",
      "  Mean: 0.05312994\n",
      "Avg abs gradient per feature: [0.12333715 0.05012506 0.11168104 0.04274821 0.03638838]\n"
     ]
    }
   ],
   "source": [
    "import tensorflow as tf\n",
    "import numpy as np\n",
    "\n",
    "# Separate attack and normal samples\n",
    "X_test_attack = Xte_sel[y_test == 1]\n",
    "y_test_attack = y_test[y_test == 1]\n",
    "\n",
    "X_test_normal = Xte_sel[y_test == 0]\n",
    "y_test_normal = y_test[y_test == 0]\n",
    "\n",
    "# Convert to tensors\n",
    "X_attack_tensor = tf.convert_to_tensor(X_test_attack, dtype=tf.float32)\n",
    "y_attack_tensor = tf.convert_to_tensor(y_test_attack.astype(np.float32))  # <- remove .values\n",
    "\n",
    "# FGSM\n",
    "def fgsm_attack(model, X, y, epsilon):\n",
    "    with tf.GradientTape() as tape:\n",
    "        tape.watch(X)\n",
    "        predictions = model(X)\n",
    "        loss = tf.keras.losses.binary_crossentropy(tf.reshape(y, (-1, 1)), predictions)\n",
    "    gradient = tape.gradient(loss, X)\n",
    "     # Print gradient statistics\n",
    "    print(\"Gradient stats:\")\n",
    "    print(\"  Min:\", tf.reduce_min(gradient).numpy())\n",
    "    print(\"  Max:\", tf.reduce_max(gradient).numpy())\n",
    "    print(\"  Mean:\", tf.reduce_mean(gradient).numpy()) \n",
    "    avg_abs_grad = tf.reduce_mean(tf.abs(gradient), axis=0)\n",
    "    print(\"Avg abs gradient per feature:\", avg_abs_grad.numpy())\n",
    "    signed_grad = tf.sign(gradient)\n",
    "    X_adv = X + epsilon * signed_grad\n",
    "    return X_adv.numpy()\n",
    "\n",
    "# Generate adversarial attack examples\n",
    "epsilon = 0.3\n",
    "X_attack_adv = fgsm_attack(final_model, X_attack_tensor, y_attack_tensor, epsilon=epsilon)\n",
    "\n",
    "# Combine normal and adversarial attack samples back together\n",
    "X_test_combined = np.vstack((X_test_normal, X_attack_adv))\n",
    "y_test_combined = np.hstack((y_test_normal, y_test_attack))\n",
    "\n",
    "# shuffle the test set\n",
    "from sklearn.utils import shuffle\n",
    "X_test_adv_final, y_test_adv_final = shuffle(X_test_combined, y_test_combined, random_state=1)"
   ]
  },
  {
   "cell_type": "code",
   "execution_count": 37,
   "id": "63fc3cc6-c4bb-4ae2-a077-1c1d4abce08f",
   "metadata": {},
   "outputs": [
    {
     "data": {
      "text/plain": [
       "(243136, 5)"
      ]
     },
     "execution_count": 37,
     "metadata": {},
     "output_type": "execute_result"
    }
   ],
   "source": [
    "Xte_sel.shape"
   ]
  },
  {
   "cell_type": "code",
   "execution_count": 38,
   "id": "c5a7ad54-cc96-42b4-93a1-01326c63d8b4",
   "metadata": {},
   "outputs": [
    {
     "data": {
      "text/plain": [
       "(243136, 5)"
      ]
     },
     "execution_count": 38,
     "metadata": {},
     "output_type": "execute_result"
    }
   ],
   "source": [
    "X_test_adv_final.shape"
   ]
  },
  {
   "cell_type": "code",
   "execution_count": 39,
   "id": "163ea714-7e72-4077-929f-f588ea110025",
   "metadata": {},
   "outputs": [
    {
     "name": "stdout",
     "output_type": "stream",
     "text": [
      "\u001b[1m7598/7598\u001b[0m \u001b[32m━━━━━━━━━━━━━━━━━━━━\u001b[0m\u001b[37m\u001b[0m \u001b[1m4s\u001b[0m 565us/step\n",
      "Test Accuracy: 85.44%\n",
      "Test Precision: 86.94%\n",
      "Test Recall: 85.44%\n"
     ]
    }
   ],
   "source": [
    "from sklearn.metrics import accuracy_score, precision_score, recall_score\n",
    "\n",
    "# Get predictions\n",
    "y_pred = final_model.predict(X_test_adv_final)\n",
    "y_pred = (y_pred > 0.5).astype(int)\n",
    "\n",
    "# Calculate metrics\n",
    "accuracy = accuracy_score(y_test_adv_final, y_pred)\n",
    "precision = precision_score(y_test_adv_final, y_pred, average='weighted')\n",
    "recall = recall_score(y_test_adv_final, y_pred, average='weighted')\n",
    "\n",
    "# Print results\n",
    "print(f\"Test Accuracy: {accuracy * 100:.2f}%\")\n",
    "print(f\"Test Precision: {precision * 100:.2f}%\")\n",
    "print(f\"Test Recall: {recall * 100:.2f}%\")\n"
   ]
  },
  {
   "cell_type": "code",
   "execution_count": 40,
   "id": "c50fbca1-a863-4545-9d61-f04e4582e753",
   "metadata": {},
   "outputs": [
    {
     "data": {
      "image/png": "[encoded data removed]",
      "text/plain": [
       "<Figure size 600x400 with 2 Axes>"
      ]
     },
     "metadata": {},
     "output_type": "display_data"
    },
    {
     "name": "stdout",
     "output_type": "stream",
     "text": [
      "                precision    recall  f1-score   support\n",
      "\n",
      "Normal Traffic       0.76      0.92      0.83     95505\n",
      "        Attack       0.94      0.81      0.87    147631\n",
      "\n",
      "      accuracy                           0.85    243136\n",
      "     macro avg       0.85      0.87      0.85    243136\n",
      "  weighted avg       0.87      0.85      0.86    243136\n",
      "\n"
     ]
    }
   ],
   "source": [
    "import matplotlib.pyplot as plt\n",
    "import seaborn as sns\n",
    "from sklearn.metrics import confusion_matrix, classification_report\n",
    "\n",
    "# Compute confusion matrix\n",
    "cm = confusion_matrix(y_test_adv_final, y_pred)\n",
    "\n",
    "# Plot the confusion matrix\n",
    "plt.figure(figsize=(6, 4))\n",
    "sns.heatmap(cm, annot=True, fmt='d', cmap='Blues', xticklabels=['Normal Traffic (0)', 'Attack (1)'], yticklabels=['Normal Traffic (0)', 'Attack (1)'])\n",
    "plt.xlabel('Predicted')\n",
    "plt.ylabel('Actual')\n",
    "plt.title('Confusion Matrix')\n",
    "plt.show()\n",
    "\n",
    "# Print detailed classification report\n",
    "print(classification_report(y_test_adv_final, y_pred, target_names=['Normal Traffic', 'Attack']))\n"
   ]
  },
  {
   "cell_type": "code",
   "execution_count": 44,
   "id": "356423bc-ae7b-4653-8b5c-ed03d8cdcf70",
   "metadata": {},
   "outputs": [
    {
     "name": "stdout",
     "output_type": "stream",
     "text": [
      "Total attack samples: 147631\n",
      "Flipped 1→0 (attack→normal): 27591 (18.69%)\n",
      "Flipped 0→1 (normal→attack): 15 (0.01%)\n",
      "Stayed 1→1: 119844 (81.18%)\n",
      "Stayed 0→0: 181 (0.12%)\n",
      "\n",
      "Transition table (orig → adv):\n",
      " adv       0       1\n",
      "orig               \n",
      "0       181      15\n",
      "1     27591  119844\n"
     ]
    }
   ],
   "source": [
    "import numpy as np\n",
    "import pandas as pd\n",
    "\n",
    "# Predictions on the (scaled) originals and adversarials\n",
    "p_orig_attack = final_model.predict(X_test_attack, verbose=0).ravel()\n",
    "p_adv_attack  = final_model.predict(X_attack_adv,  verbose=0).ravel()\n",
    "\n",
    "orig_pred = (p_orig_attack > 0.5).astype(int)\n",
    "adv_pred  = (p_adv_attack  > 0.5).astype(int)\n",
    "\n",
    "# Masks for transitions\n",
    "mask_1_to_0 = (orig_pred == 1) & (adv_pred == 0)  # attack → normal\n",
    "mask_0_to_1 = (orig_pred == 0) & (adv_pred == 1)  # normal → attack (on the same attack samples)\n",
    "\n",
    "n_1_to_0 = int(mask_1_to_0.sum())\n",
    "n_0_to_1 = int(mask_0_to_1.sum())\n",
    "\n",
    "# Optional: unchanged counts\n",
    "n_1_to_1 = int(((orig_pred == 1) & (adv_pred == 1)).sum())\n",
    "n_0_to_0 = int(((orig_pred == 0) & (adv_pred == 0)).sum())\n",
    "\n",
    "total = len(orig_pred)\n",
    "\n",
    "print(f\"Total attack samples: {total}\")\n",
    "print(f\"Flipped 1→0 (attack→normal): {n_1_to_0} ({n_1_to_0/total:.2%})\")\n",
    "print(f\"Flipped 0→1 (normal→attack): {n_0_to_1} ({n_0_to_1/total:.2%})\")\n",
    "print(f\"Stayed 1→1: {n_1_to_1} ({n_1_to_1/total:.2%})\")\n",
    "print(f\"Stayed 0→0: {n_0_to_0} ({n_0_to_0/total:.2%})\")\n",
    "\n",
    "# Optional: a tidy 2×2 table of transitions\n",
    "transition = pd.crosstab(pd.Series(orig_pred, name=\"orig\"),\n",
    "                         pd.Series(adv_pred,  name=\"adv\"))\n",
    "print(\"\\nTransition table (orig → adv):\\n\", transition)\n"
   ]
  },
  {
   "cell_type": "code",
   "execution_count": 46,
   "id": "ffbac8b2-e266-4f00-a496-6a59ef6cbd95",
   "metadata": {},
   "outputs": [
    {
     "name": "stdout",
     "output_type": "stream",
     "text": [
      "Total attack samples: 147631\n",
      "Flipped (1→0): 27591\n",
      "\n",
      "🟦 Original Attack Samples (that later flipped 1→0):\n",
      "\n",
      "       Offset  sTtl  sMeanPktSz  sHops  State  Prediction\n",
      "0  20454732.0  63.0        42.0    1.0    6.0           1\n",
      "1  18607380.0  63.0        42.0    1.0    6.0           1\n",
      "2  21827204.0  63.0        42.0    1.0    6.0           1\n",
      "3  16935744.0  63.0        42.0    1.0    6.0           1\n",
      "4    579756.0  54.0        58.0   10.0    6.0           1\n",
      "5   7292880.0  63.0       119.0    1.0    1.0           1\n",
      "6  19172012.0  63.0        42.0    1.0    6.0           1\n",
      "7   5559636.0  63.0        69.5    1.0    3.0           1\n",
      "8    441280.0  63.0        42.0    1.0    2.0           1\n",
      "9   4128084.0  63.0        67.0    1.0    1.0           1\n",
      "\n",
      "🟥 Corresponding Adversarial Samples:\n",
      "\n",
      "        Offset       sTtl  sMeanPktSz     sHops     State  Prediction\n",
      "0  23665006.00  79.774796   85.542694  2.069372  5.442003           0\n",
      "1  21817654.00  46.225208   85.542694  2.069372  5.442003           0\n",
      "2  18616928.00  46.225208   -1.542698 -0.069372  5.442003           0\n",
      "3  20146018.00  46.225208   85.542694  2.069372  5.442003           0\n",
      "4   3790030.75  70.774788  101.542702  8.930628  6.557997           0\n",
      "5   4082605.25  46.225208   75.457306  2.069372  1.557997           0\n",
      "6  22382286.00  46.225208   85.542694  2.069372  5.442003           0\n",
      "7   8769911.00  46.225208  113.042702 -0.069372  3.557997           0\n",
      "8  -2768995.25  46.225208   85.542694 -0.069372  2.557997           0\n",
      "9    917807.75  79.774796  110.542702  2.069372  1.557997           0\n",
      "\n",
      "🟩 Normal Samples (benign) for comparison:\n",
      "\n",
      "       Offset   sTtl  sMeanPktSz  sHops  State  Prediction\n",
      "0   5254184.0  249.0        74.0    7.0    4.0           0\n",
      "1  18345532.0   63.0        42.0    1.0    4.0           0\n",
      "2  16478820.0   63.0        42.0    1.0    4.0           0\n",
      "3   5717676.0  249.0        74.0    7.0    4.0           0\n",
      "4  36686708.0   63.0        42.0    1.0    6.0           0\n",
      "5  33778160.0   63.0        42.0    1.0    6.0           0\n",
      "6  25007608.0   63.0        42.0    1.0    6.0           0\n",
      "7  32075492.0   63.0        42.0    1.0    6.0           0\n",
      "8   2985376.0  249.0        74.0    7.0    4.0           0\n",
      "9  30061720.0   63.0        42.0    1.0    6.0           0\n"
     ]
    }
   ],
   "source": [
    "import numpy as np\n",
    "import pandas as pd\n",
    "\n",
    "# --- Predict on scaled inputs (no inverse-transform for prediction) ---\n",
    "p_orig_attack = final_model.predict(X_test_attack, verbose=0).ravel()\n",
    "p_adv_attack  = final_model.predict(X_attack_adv,  verbose=0).ravel()\n",
    "\n",
    "orig_pred = (p_orig_attack > 0.5).astype(int)\n",
    "adv_pred  = (p_adv_attack  > 0.5).astype(int)\n",
    "\n",
    "# --- Find flips: 1 -> 0 ---\n",
    "idx_flip = np.where((orig_pred == 1) & (adv_pred == 0))[0]\n",
    "print(f\"Total attack samples: {len(X_test_attack)}\")\n",
    "print(f\"Flipped (1→0): {len(idx_flip)}\")\n",
    "\n",
    "if idx_flip.size == 0:\n",
    "    print(\"No examples flipped from attack (1) to normal (0).\")\n",
    "else:\n",
    "    # show up to N examples\n",
    "    N = 10\n",
    "    idx_show = idx_flip[:N]\n",
    "\n",
    "    # inverse-transform ONLY FOR DISPLAY\n",
    "    scaler_display = scaler if 'scaler' in locals() else scaler_full\n",
    "    X_orig_disp = scaler_display.inverse_transform(X_test_attack[idx_show])\n",
    "    X_adv_disp  = scaler_display.inverse_transform(X_attack_adv[idx_show])\n",
    "\n",
    "    # predictions (from the already-computed probs)\n",
    "    y_pred_orig = orig_pred[idx_show]\n",
    "    y_pred_adv  = adv_pred[idx_show]\n",
    "\n",
    "    # build tables like before\n",
    "    df_original = pd.DataFrame(X_orig_disp, columns=column_names)\n",
    "    df_original[\"Prediction\"] = y_pred_orig\n",
    "\n",
    "    df_adversarial = pd.DataFrame(X_adv_disp, columns=column_names)\n",
    "    df_adversarial[\"Prediction\"] = y_pred_adv\n",
    "\n",
    "    # display settings (same style as earlier)\n",
    "    pd.set_option('display.max_columns', None)\n",
    "    pd.set_option('display.precision', 6)\n",
    "    pd.set_option('display.width', 200)\n",
    "\n",
    "    print(\"\\n🟦 Original Attack Samples (that later flipped 1→0):\\n\")\n",
    "    print(df_original)\n",
    "\n",
    "    print(\"\\n🟥 Corresponding Adversarial Samples:\\n\")\n",
    "    print(df_adversarial)\n",
    "\n",
    "# 🟩 Normal samples for comparison (first up to 10)\n",
    "n_norm = min(10, len(X_test_normal))\n",
    "X_norm_scaled = X_test_normal[:n_norm]  # already scaled\n",
    "scaler_display = scaler if 'scaler' in locals() else scaler_full\n",
    "\n",
    "# Inverse-transform for display only\n",
    "X_norm_disp = scaler_display.inverse_transform(X_norm_scaled)\n",
    "\n",
    "# Predictions on scaled inputs\n",
    "y_pred_norm = (final_model.predict(X_norm_scaled, verbose=0).ravel() > 0.5).astype(int)\n",
    "\n",
    "# Build table\n",
    "df_normal = pd.DataFrame(X_norm_disp, columns=column_names)\n",
    "df_normal[\"Prediction\"] = y_pred_norm\n",
    "\n",
    "print(\"\\n🟩 Normal Samples (benign) for comparison:\\n\")\n",
    "print(df_normal)\n"
   ]
  },
  {
   "cell_type": "markdown",
   "id": "fbe61d72-0938-45a2-95c3-16dcbd48df87",
   "metadata": {},
   "source": [
    "# FGSM with real-life values"
   ]
  },
  {
   "cell_type": "code",
   "execution_count": 21,
   "id": "2978f55d-6fe4-4f45-b639-d98de0ece8d3",
   "metadata": {},
   "outputs": [],
   "source": [
    "from tensorflow.keras.models import load_model\n",
    "final_model = load_model(r\"C:\\Users\\ulami\\Desktop\\magisterka\\models_final\\5G_NIDD_csv_final.keras\")   "
   ]
  },
  {
   "cell_type": "code",
   "execution_count": 20,
   "id": "0149b86b-a682-4073-b22d-28cea20bef8d",
   "metadata": {},
   "outputs": [],
   "source": [
    "import numpy as np\n",
    "\n",
    "def enforce_realistic_values_and_rescale(X_scaled, X_orig_scaled, scaler, feature_order):\n",
    "    \"\"\"\n",
    "    Enforce constraints in original units, then rescale.\n",
    "    Ensures integer features remain exactly integer even after rescaling.\n",
    "    \"\"\"\n",
    "    # Work in float64 to minimize roundoff\n",
    "    X = scaler.inverse_transform(np.asarray(X_scaled, dtype=np.float64))\n",
    "    X_orig = scaler.inverse_transform(np.asarray(X_orig_scaled, dtype=np.float64))\n",
    "    idx = {c: i for i, c in enumerate(feature_order)}\n",
    "\n",
    "    # --- helpers ---\n",
    "    def snap_int(arr, low=None, high=None):\n",
    "        out = np.rint(arr)\n",
    "        if low is not None or high is not None:\n",
    "            out = np.clip(out, low if low is not None else out.min(),\n",
    "                               high if high is not None else out.max())\n",
    "        # Snap tiny residuals exactly to integers (safety)\n",
    "        eps = 1e-12\n",
    "        out = np.where(np.abs(out - np.rint(out)) < eps, np.rint(out), out)\n",
    "        return out\n",
    "\n",
    "    # Keep State exactly as original\n",
    "    if 'State' in idx:\n",
    "        i = idx['State']\n",
    "        X[:, i] = X_orig[:, i]\n",
    "\n",
    "    # Offset: integer >= 0\n",
    "    if 'Offset' in idx:\n",
    "        i = idx['Offset']\n",
    "        X[:, i] = snap_int(X[:, i], low=0)\n",
    "\n",
    "    # sTtl: integer in [1, 255]\n",
    "    if 'sTtl' in idx:\n",
    "        i = idx['sTtl']\n",
    "        X[:, i] = snap_int(X[:, i], low=1, high=255)\n",
    "\n",
    "    # sHops: integer >= 1 (strictly positive)\n",
    "    if 'sHops' in idx:\n",
    "        i = idx['sHops']\n",
    "        X[:, i] = snap_int(X[:, i], low=1)\n",
    "\n",
    "    # sMeanPktSz: strictly positive (float)\n",
    "    if 'sMeanPktSz' in idx:\n",
    "        i = idx['sMeanPktSz']\n",
    "        X[:, i] = np.maximum(X[:, i], 1e-6)\n",
    "\n",
    "    # First scale (float64 to preserve precision)\n",
    "    X_scaled_out = scaler.transform(X.astype(np.float64))\n",
    "\n",
    "    # --- anti-drift pass ---\n",
    "    X_roundtrip = scaler.inverse_transform(X_scaled_out)\n",
    "\n",
    "    if 'Offset' in idx:\n",
    "        i = idx['Offset']\n",
    "        X_roundtrip[:, i] = snap_int(X_roundtrip[:, i], low=0)\n",
    "    if 'sTtl' in idx:\n",
    "        i = idx['sTtl']\n",
    "        X_roundtrip[:, i] = snap_int(X_roundtrip[:, i], low=1, high=255)\n",
    "    if 'sHops' in idx:\n",
    "        i = idx['sHops']\n",
    "        X_roundtrip[:, i] = snap_int(X_roundtrip[:, i], low=1)\n",
    "\n",
    "    if 'sMeanPktSz' in idx:\n",
    "        i = idx['sMeanPktSz']\n",
    "        X_roundtrip[:, i] = np.maximum(X_roundtrip[:, i], 1e-6)\n",
    "\n",
    "    # Final scale; cast to float32 if needed\n",
    "    return scaler.transform(X_roundtrip).astype(np.float32)\n"
   ]
  },
  {
   "cell_type": "code",
   "execution_count": 25,
   "id": "bb0ae0fa-36ba-4add-8690-7b2b56c0d5e7",
   "metadata": {},
   "outputs": [
    {
     "name": "stdout",
     "output_type": "stream",
     "text": [
      "Gradient stats:\n",
      "  Min: -70.22476\n",
      "  Max: 115.901184\n",
      "  Mean: 0.05312994\n",
      "Avg abs gradient per feature: [0.12333715 0.05012506 0.11168104 0.04274821 0.03638838]\n"
     ]
    }
   ],
   "source": [
    "import tensorflow as tf\n",
    "import numpy as np\n",
    "\n",
    "# ---- Split attack/normal on the (scaled) test set ----\n",
    "X_test_attack = Xte_sel[y_test == 1]\n",
    "y_test_attack = y_test[y_test == 1]\n",
    "\n",
    "X_test_normal = Xte_sel[y_test == 0]\n",
    "y_test_normal = y_test[y_test == 0]\n",
    "\n",
    "# Convert to tensors\n",
    "X_attack_tensor = tf.convert_to_tensor(X_test_attack, dtype=tf.float32)\n",
    "y_attack_tensor = tf.convert_to_tensor(y_test_attack.astype(np.float32))\n",
    "\n",
    "# Feature order & scaler used in training\n",
    "feature_order = selected_features  # e.g. ['Offset','sTtl','sMeanPktSz','sHops','State']\n",
    "scaler_project = scaler if 'scaler' in locals() else scaler_full\n",
    "feat_idx = {c: i for i, c in enumerate(feature_order)}\n",
    "\n",
    "# ---- FGSM with feature mask (exclude 'State') ----\n",
    "def fgsm_attack(model, X, y, epsilon, feature_mask=None):\n",
    "    with tf.GradientTape() as tape:\n",
    "        tape.watch(X)\n",
    "        predictions = model(X)\n",
    "        loss = tf.keras.losses.binary_crossentropy(tf.reshape(y, (-1, 1)), predictions)\n",
    "    gradient = tape.gradient(loss, X)\n",
    "\n",
    "    # Optional debug\n",
    "    print(\"Gradient stats:\")\n",
    "    print(\"  Min:\", tf.reduce_min(gradient).numpy())\n",
    "    print(\"  Max:\", tf.reduce_max(gradient).numpy())\n",
    "    print(\"  Mean:\", tf.reduce_mean(gradient).numpy())\n",
    "    print(\"Avg abs gradient per feature:\", tf.reduce_mean(tf.abs(gradient), axis=0).numpy())\n",
    "\n",
    "    signed_grad = tf.sign(gradient)\n",
    "    if feature_mask is not None:\n",
    "        mask = tf.reshape(tf.convert_to_tensor(feature_mask, dtype=X.dtype), (1, -1))\n",
    "        signed_grad = signed_grad * mask  # broadcast across batch\n",
    "\n",
    "    X_adv = X + epsilon * signed_grad\n",
    "    return X_adv.numpy()\n",
    "\n",
    "# Build a mask: 1 = allowed to change, 0 = frozen\n",
    "mask_vec = np.ones(X_test_attack.shape[1], dtype=np.float32)\n",
    "if 'State' in feat_idx:\n",
    "    mask_vec[feat_idx['State']] = 0.0  # do NOT perturb State\n",
    "\n",
    "epsilon = 0.3\n",
    "X_attack_adv = fgsm_attack(final_model, X_attack_tensor, y_attack_tensor,\n",
    "                           epsilon=epsilon, feature_mask=mask_vec)\n",
    "\n",
    "X_attack_adv = enforce_realistic_values_and_rescale(\n",
    "    X_attack_adv, X_test_attack, scaler_project, feature_order\n",
    ")\n",
    "\n",
    "# ---- Rebuild the (scaled) test set and labels ----\n",
    "X_test_combined = np.vstack((X_test_normal, X_attack_adv))\n",
    "y_test_combined = np.hstack((y_test_normal, y_test_attack))\n",
    "\n",
    "from sklearn.utils import shuffle\n",
    "X_test_adv_final, y_test_adv_final = shuffle(\n",
    "    X_test_combined, y_test_combined, random_state=1\n",
    ")\n"
   ]
  },
  {
   "cell_type": "code",
   "execution_count": 26,
   "id": "4cc95323-17e1-425b-9d37-01321e7b2607",
   "metadata": {},
   "outputs": [
    {
     "data": {
      "text/plain": [
       "(243136, 5)"
      ]
     },
     "execution_count": 26,
     "metadata": {},
     "output_type": "execute_result"
    }
   ],
   "source": [
    "X_test_adv_final.shape"
   ]
  },
  {
   "cell_type": "code",
   "execution_count": 27,
   "id": "059ce597-4dbb-4854-a396-531c6066fb02",
   "metadata": {},
   "outputs": [
    {
     "name": "stdout",
     "output_type": "stream",
     "text": [
      "\u001b[1m7598/7598\u001b[0m \u001b[32m━━━━━━━━━━━━━━━━━━━━\u001b[0m\u001b[37m\u001b[0m \u001b[1m7s\u001b[0m 858us/step\n",
      "Test Accuracy: 87.42%\n",
      "Test Precision: 88.36%\n",
      "Test Recall: 87.42%\n"
     ]
    }
   ],
   "source": [
    "from sklearn.metrics import accuracy_score, precision_score, recall_score\n",
    "\n",
    "# Get predictions\n",
    "y_pred = final_model.predict(X_test_adv_final)\n",
    "y_pred = (y_pred > 0.5).astype(int)\n",
    "\n",
    "# Calculate metrics\n",
    "accuracy = accuracy_score(y_test_adv_final, y_pred)\n",
    "precision = precision_score(y_test_adv_final, y_pred, average='weighted')\n",
    "recall = recall_score(y_test_adv_final, y_pred, average='weighted')\n",
    "\n",
    "# Print results\n",
    "print(f\"Test Accuracy: {accuracy * 100:.2f}%\")\n",
    "print(f\"Test Precision: {precision * 100:.2f}%\")\n",
    "print(f\"Test Recall: {recall * 100:.2f}%\")\n"
   ]
  },
  {
   "cell_type": "code",
   "execution_count": 28,
   "id": "aef4c5a4-9481-40f8-9eb6-997693bf28f9",
   "metadata": {},
   "outputs": [
    {
     "data": {
      "image/png": "[encoded data removed]",
      "text/plain": [
       "<Figure size 600x400 with 2 Axes>"
      ]
     },
     "metadata": {},
     "output_type": "display_data"
    },
    {
     "name": "stdout",
     "output_type": "stream",
     "text": [
      "                precision    recall  f1-score   support\n",
      "\n",
      "Normal Traffic       0.79      0.92      0.85     95505\n",
      "        Attack       0.94      0.84      0.89    147631\n",
      "\n",
      "      accuracy                           0.87    243136\n",
      "     macro avg       0.87      0.88      0.87    243136\n",
      "  weighted avg       0.88      0.87      0.88    243136\n",
      "\n"
     ]
    }
   ],
   "source": [
    "import matplotlib.pyplot as plt\n",
    "import seaborn as sns\n",
    "from sklearn.metrics import confusion_matrix, classification_report\n",
    "\n",
    "# Compute confusion matrix\n",
    "cm = confusion_matrix(y_test_adv_final, y_pred)\n",
    "\n",
    "# Plot the confusion matrix\n",
    "plt.figure(figsize=(6, 4))\n",
    "sns.heatmap(cm, annot=True, fmt='d', cmap='Blues', xticklabels=['Normal Traffic (0)', 'Attack (1)'], yticklabels=['Normal Traffic (0)', 'Attack (1)'])\n",
    "plt.xlabel('Predicted')\n",
    "plt.ylabel('Actual')\n",
    "plt.title('Confusion Matrix')\n",
    "plt.show()\n",
    "\n",
    "# Print detailed classification report\n",
    "print(classification_report(y_test_adv_final, y_pred, target_names=['Normal Traffic', 'Attack']))\n"
   ]
  },
  {
   "cell_type": "code",
   "execution_count": 30,
   "id": "314f6cb8-5dd2-41a1-95df-05c5908fe1b2",
   "metadata": {},
   "outputs": [
    {
     "name": "stdout",
     "output_type": "stream",
     "text": [
      "Total attack samples: 147631\n",
      "Flipped (1→0): 22802\n",
      "\n",
      "🟦 Original Attack Samples (that later flipped 1→0):\n",
      "\n",
      "       Offset  sTtl  sMeanPktSz  sHops  State  Prediction\n",
      "0  20454732.0  63.0   42.000000    1.0    6.0           1\n",
      "1  18607380.0  63.0   42.000000    1.0    6.0           1\n",
      "2   2916940.0  63.0  149.199997    1.0    1.0           1\n",
      "3   1861824.0  63.0  115.333336    1.0    1.0           1\n",
      "4   7292880.0  63.0  119.000000    1.0    1.0           1\n",
      "5   3959864.0  63.0  110.285713    1.0    1.0           1\n",
      "6  19172012.0  63.0   42.000000    1.0    6.0           1\n",
      "7   4411352.0  63.0  117.500000    1.0    1.0           1\n",
      "8   5639872.0  63.0  117.500000    1.0    1.0           1\n",
      "9   4677092.0  63.0  110.000000    1.0    1.0           1\n",
      "\n",
      "🟥 Corresponding Adversarial Samples:\n",
      "\n",
      "         Offset  sTtl  sMeanPktSz  sHops  State  Prediction\n",
      "0  2.366501e+07  80.0   85.542694    2.0    6.0           0\n",
      "1  2.181765e+07  46.0   85.542694    2.0    6.0           0\n",
      "2  7.798096e-01  46.0  192.742691    2.0    1.0           0\n",
      "3  7.798096e-01  46.0  158.876038    2.0    1.0           0\n",
      "4  4.082605e+06  46.0   75.457306    2.0    1.0           0\n",
      "5  7.495888e+05  46.0  153.828415    2.0    1.0           0\n",
      "6  2.238229e+07  46.0   85.542694    2.0    6.0           0\n",
      "7  1.201076e+06  46.0  161.042694    2.0    1.0           0\n",
      "8  2.429597e+06  46.0  161.042694    2.0    1.0           0\n",
      "9  1.466817e+06  46.0  153.542694    2.0    1.0           0\n",
      "\n",
      "🟩 Normal Samples (benign) for comparison:\n",
      "\n",
      "       Offset   sTtl  sMeanPktSz  sHops  State  Prediction\n",
      "0   5254184.0  249.0        74.0    7.0    4.0           0\n",
      "1  18345532.0   63.0        42.0    1.0    4.0           0\n",
      "2  16478820.0   63.0        42.0    1.0    4.0           0\n",
      "3   5717676.0  249.0        74.0    7.0    4.0           0\n",
      "4  36686708.0   63.0        42.0    1.0    6.0           0\n",
      "5  33778160.0   63.0        42.0    1.0    6.0           0\n",
      "6  25007608.0   63.0        42.0    1.0    6.0           0\n",
      "7  32075492.0   63.0        42.0    1.0    6.0           0\n",
      "8   2985376.0  249.0        74.0    7.0    4.0           0\n",
      "9  30061720.0   63.0        42.0    1.0    6.0           0\n"
     ]
    }
   ],
   "source": [
    "import numpy as np\n",
    "import pandas as pd\n",
    "\n",
    "column_names = selected_features\n",
    "\n",
    "# --- Predict on scaled inputs (no inverse-transform for prediction) ---\n",
    "p_orig_attack = final_model.predict(X_test_attack, verbose=0).ravel()\n",
    "p_adv_attack  = final_model.predict(X_attack_adv,  verbose=0).ravel()\n",
    "\n",
    "orig_pred = (p_orig_attack > 0.5).astype(int)\n",
    "adv_pred  = (p_adv_attack  > 0.5).astype(int)\n",
    "\n",
    "# --- Find flips: 1 -> 0 ---\n",
    "idx_flip = np.where((orig_pred == 1) & (adv_pred == 0))[0]\n",
    "print(f\"Total attack samples: {len(X_test_attack)}\")\n",
    "print(f\"Flipped (1→0): {len(idx_flip)}\")\n",
    "\n",
    "if idx_flip.size == 0:\n",
    "    print(\"No examples flipped from attack (1) to normal (0).\")\n",
    "else:\n",
    "    # show up to N examples\n",
    "    N = 10\n",
    "    idx_show = idx_flip[:N]\n",
    "\n",
    "    # inverse-transform ONLY FOR DISPLAY\n",
    "    scaler_display = scaler if 'scaler' in locals() else scaler_full\n",
    "    X_orig_disp = scaler_display.inverse_transform(X_test_attack[idx_show])\n",
    "    X_adv_disp  = scaler_display.inverse_transform(X_attack_adv[idx_show])\n",
    "\n",
    "    # predictions (from the already-computed probs)\n",
    "    y_pred_orig = orig_pred[idx_show]\n",
    "    y_pred_adv  = adv_pred[idx_show]\n",
    "\n",
    "    # build tables like before\n",
    "    df_original = pd.DataFrame(X_orig_disp, columns=column_names)\n",
    "    df_original[\"Prediction\"] = y_pred_orig\n",
    "\n",
    "    df_adversarial = pd.DataFrame(X_adv_disp, columns=column_names)\n",
    "    df_adversarial[\"Prediction\"] = y_pred_adv\n",
    "\n",
    "    # display settings (same style as earlier)\n",
    "    pd.set_option('display.max_columns', None)\n",
    "    pd.set_option('display.precision', 6)\n",
    "    pd.set_option('display.width', 200)\n",
    "\n",
    "    print(\"\\n🟦 Original Attack Samples (that later flipped 1→0):\\n\")\n",
    "    print(df_original)\n",
    "\n",
    "    print(\"\\n🟥 Corresponding Adversarial Samples:\\n\")\n",
    "    print(df_adversarial)\n",
    "\n",
    "# 🟩 Normal samples for comparison (first up to 10)\n",
    "n_norm = min(10, len(X_test_normal))\n",
    "X_norm_scaled = X_test_normal[:n_norm]  # already scaled\n",
    "scaler_display = scaler if 'scaler' in locals() else scaler_full\n",
    "\n",
    "# Inverse-transform for display only\n",
    "X_norm_disp = scaler_display.inverse_transform(X_norm_scaled)\n",
    "\n",
    "# Predictions on scaled inputs\n",
    "y_pred_norm = (final_model.predict(X_norm_scaled, verbose=0).ravel() > 0.5).astype(int)\n",
    "\n",
    "# Build table\n",
    "df_normal = pd.DataFrame(X_norm_disp, columns=column_names)\n",
    "df_normal[\"Prediction\"] = y_pred_norm\n",
    "\n",
    "print(\"\\n🟩 Normal Samples (benign) for comparison:\\n\")\n",
    "print(df_normal)\n"
   ]
  },
  {
   "cell_type": "markdown",
   "id": "a3a293df-572b-4a33-895e-45bde3848ff7",
   "metadata": {},
   "source": [
    "# ZOO"
   ]
  },
  {
   "cell_type": "code",
   "execution_count": 23,
   "id": "3d781bde-07f2-4ca2-b207-fefe326eb8a4",
   "metadata": {},
   "outputs": [],
   "source": [
    "import numpy as np\n",
    "from sklearn.metrics import accuracy_score\n",
    "\n",
    "# ---------- Utilities ----------\n",
    "def predict_proba(model, X):\n",
    "    \"\"\"Return P(y=1) as a flat numpy array.\"\"\"\n",
    "    return model.predict(X, verbose=0).ravel()\n",
    "\n",
    "def bce_loss(p, y):\n",
    "    \"\"\"Binary cross-entropy (elementwise) with clipping for numerical stability.\"\"\"\n",
    "    eps = 1e-7\n",
    "    p = np.clip(p, eps, 1 - eps)\n",
    "    return -(y * np.log(p) + (1 - y) * np.log(1 - p))\n",
    "\n",
    "def loss_at_x(model, x, y_scalar):\n",
    "    \"\"\"Loss at a single point x (1D) for label y in {0,1}.\"\"\"\n",
    "    p = predict_proba(model, x[None, :])[0]\n",
    "    return bce_loss(p, y_scalar)\n",
    "\n",
    "def finite_diff_grad(model, x, y_scalar, h=1e-3):\n",
    "    \"\"\"\n",
    "    Central-difference gradient of loss wrt x.\n",
    "    Uses 2*d queries per call (d = number of features).\n",
    "    \"\"\"\n",
    "    d = x.shape[0]\n",
    "    batch_plus = np.repeat(x[None, :], d, axis=0)\n",
    "    batch_minus = batch_plus.copy()\n",
    "    for i in range(d):\n",
    "        batch_plus[i, i] += h\n",
    "        batch_minus[i, i] -= h\n",
    "\n",
    "    p_plus = predict_proba(model, batch_plus)\n",
    "    p_minus = predict_proba(model, batch_minus)\n",
    "    L_plus = bce_loss(p_plus, np.full(d, y_scalar))\n",
    "    L_minus = bce_loss(p_minus, np.full(d, y_scalar))\n",
    "\n",
    "    # central difference derivative dL/dx_i ≈ (L(x+h e_i) - L(x-h e_i)) / (2h)\n",
    "    grad = (L_plus - L_minus) / (2.0 * h)\n",
    "    queries = 2 * d\n",
    "    return grad, queries\n",
    "\n",
    "def project_linf(x0, x, eps):\n",
    "    \"\"\"Project x to the Linf ball around x0 with radius eps.\"\"\"\n",
    "    return np.clip(x, x0 - eps, x0 + eps)\n",
    "\n",
    "def project_l2(x0, x, eps):\n",
    "    \"\"\"Project x to the L2 ball around x0 with radius eps.\"\"\"\n",
    "    delta = x - x0\n",
    "    norm = np.linalg.norm(delta, ord=2)\n",
    "    if norm > eps:\n",
    "        delta = delta * (eps / (norm + 1e-12))\n",
    "    return x0 + delta\n",
    "\n",
    "# ---------- Core ZOO attacker (single example) ----------\n",
    "def zoo_attack_single(\n",
    "    model,\n",
    "    x0,\n",
    "    y_true,\n",
    "    steps=300,\n",
    "    lr=0.05,\n",
    "    h=1e-3,\n",
    "    eps=0.5,\n",
    "    norm=\"linf\",          # \"linf\" or \"l2\"\n",
    "    targeted=None,        # None for untargeted; otherwise target label in {0,1}\n",
    "    clip_min=None,\n",
    "    clip_max=None,\n",
    "    early_stop=True\n",
    "):\n",
    "    \"\"\"\n",
    "    Runs ZOO on one sample.\n",
    "    - Untargeted: ascend BCE loss for the true label until misclassification.\n",
    "    - Targeted:   descend BCE loss for the chosen target label until classified as target.\n",
    "\n",
    "    Returns: x_adv, success(bool), queries(int), iters(int)\n",
    "    \"\"\"\n",
    "    x = x0.copy()\n",
    "    queries = 0\n",
    "    d = x.size\n",
    "\n",
    "    # Choose projector\n",
    "    projector = project_linf if norm == \"linf\" else project_l2\n",
    "\n",
    "    # Initial check\n",
    "    p0 = predict_proba(model, x[None, :])[0]; queries += 1\n",
    "    y_pred0 = int(p0 > 0.5)\n",
    "    already_wrong = (y_pred0 != y_true)\n",
    "    if targeted is None and already_wrong:\n",
    "        return x, True, queries, 0  # already misclassified\n",
    "\n",
    "    for t in range(1, steps + 1):\n",
    "        # For targeted, define loss towards the target; for untargeted, towards the true label\n",
    "        label_for_loss = targeted if targeted is not None else y_true\n",
    "\n",
    "        # Zeroth-order gradient estimate of d(loss)/dx\n",
    "        grad, q = finite_diff_grad(model, x, label_for_loss, h=h)\n",
    "        queries += q\n",
    "\n",
    "        # Update rule: untargeted -> ascend; targeted -> descend\n",
    "        direction = +1.0 if targeted is None else -1.0\n",
    "        x = x + direction * lr * grad\n",
    "\n",
    "        # Project to epsilon-ball around original point\n",
    "        x = projector(x0, x, eps)\n",
    "\n",
    "        # Optional: keep within observed data range to avoid extreme z-scores\n",
    "        if (clip_min is not None) and (clip_max is not None):\n",
    "            x = np.minimum(np.maximum(x, clip_min), clip_max)\n",
    "\n",
    "        # Check success condition\n",
    "        p = predict_proba(model, x[None, :])[0]; queries += 1\n",
    "        y_pred = int(p > 0.5)\n",
    "        success = (y_pred != y_true) if targeted is None else (y_pred == targeted)\n",
    "\n",
    "        if early_stop and success:\n",
    "            return x, True, queries, t\n",
    "\n",
    "    # End of budget\n",
    "    p = predict_proba(model, x[None, :])[0]; queries += 1\n",
    "    y_pred = int(p > 0.5)\n",
    "    success = (y_pred != y_true) if targeted is None else (y_pred == targeted)\n",
    "    return x, success, queries, steps\n",
    "\n",
    "# ---------- Convenience: attack a batch and summarize ----------\n",
    "def run_zoo_attack(\n",
    "    model,\n",
    "    X,\n",
    "    y,\n",
    "    X_train_for_bounds=None,     # e.g., Xtr_sel to bound to observed range\n",
    "    max_samples=100,\n",
    "    eps=0.5,\n",
    "    norm=\"linf\",\n",
    "    steps=300,\n",
    "    lr=0.05,\n",
    "    h=1e-3,\n",
    "    targeted=None,\n",
    "    only_on_correct=True,\n",
    "    random_state=0\n",
    "):\n",
    "    rng = np.random.default_rng(random_state)\n",
    "\n",
    "    # Bounds from training data (optional but recommended for tabular)\n",
    "    if X_train_for_bounds is not None:\n",
    "        clip_min = X_train_for_bounds.min(axis=0)\n",
    "        clip_max = X_train_for_bounds.max(axis=0)\n",
    "    else:\n",
    "        clip_min = clip_max = None\n",
    "\n",
    "    # Decide which indices to attack\n",
    "    y_pred_all = (predict_proba(model, X) > 0.5).astype(int)\n",
    "    if only_on_correct:\n",
    "        candidates = np.where(y_pred_all == y)[0]\n",
    "    else:\n",
    "        candidates = np.arange(len(y))\n",
    "    rng.shuffle(candidates)\n",
    "    idxs = candidates[:max_samples]\n",
    "\n",
    "    successes = []\n",
    "    queries_list = []\n",
    "    iters_list = []\n",
    "    X_adv = np.copy(X)\n",
    "\n",
    "    for idx in idxs:\n",
    "        x0 = X[idx]\n",
    "        y_true = int(y[idx])\n",
    "        x_adv, success, q, iters = zoo_attack_single(\n",
    "            model=model,\n",
    "            x0=x0,\n",
    "            y_true=y_true,\n",
    "            steps=steps,\n",
    "            lr=lr,\n",
    "            h=h,\n",
    "            eps=eps,\n",
    "            norm=norm,\n",
    "            targeted=targeted,\n",
    "            clip_min=clip_min,\n",
    "            clip_max=clip_max,\n",
    "            early_stop=True\n",
    "        )\n",
    "        X_adv[idx] = x_adv\n",
    "        successes.append(success)\n",
    "        queries_list.append(q)\n",
    "        iters_list.append(iters)\n",
    "\n",
    "    # Metrics\n",
    "    success_rate = np.mean(successes) if len(successes) else 0.0\n",
    "    avg_queries = np.mean(queries_list) if queries_list else 0\n",
    "    avg_iters = np.mean(iters_list) if iters_list else 0\n",
    "\n",
    "    # Evaluate accuracy before/after (on attacked subset)\n",
    "    acc_before = accuracy_score(y[idxs], y_pred_all[idxs])\n",
    "    acc_after = accuracy_score(y[idxs], (predict_proba(model, X_adv[idxs]) > 0.5).astype(int))\n",
    "\n",
    "    summary = {\n",
    "        \"num_attacked\": len(idxs),\n",
    "        \"only_on_correct\": only_on_correct,\n",
    "        \"targeted\": targeted,\n",
    "        \"eps\": eps,\n",
    "        \"norm\": norm,\n",
    "        \"steps\": steps,\n",
    "        \"lr\": lr,\n",
    "        \"h\": h,\n",
    "        \"success_rate\": float(success_rate),\n",
    "        \"avg_queries\": float(avg_queries),\n",
    "        \"avg_iters\": float(avg_iters),\n",
    "        \"acc_before_on_subset\": float(acc_before),\n",
    "        \"acc_after_on_subset\": float(acc_after),\n",
    "        \"attacked_indices\": idxs,\n",
    "        \"successes_bool\": np.array(successes, dtype=bool),\n",
    "        \"queries_each\": np.array(queries_list, dtype=int),\n",
    "        \"iters_each\": np.array(iters_list, dtype=int),\n",
    "        \"X_adv\": X_adv,  # full array with adversarial versions at attacked indices\n",
    "    }\n",
    "    return summary"
   ]
  },
  {
   "cell_type": "code",
   "execution_count": 32,
   "id": "260ec8a9-ec2c-4757-8f19-ff4342e6b219",
   "metadata": {},
   "outputs": [
    {
     "name": "stdout",
     "output_type": "stream",
     "text": [
      "Attack samples in test set: 147631\n",
      "Baseline detection rate on attack samples (TPR): 0.999\n",
      "==== ZOO on attack samples (targeted to NORMAL / 0) ====\n",
      "num_attacked: 200\n",
      "only_on_correct: True\n",
      "targeted: 0\n",
      "eps: 0.3\n",
      "norm: linf\n",
      "steps: 150\n",
      "lr: 0.1\n",
      "h: 0.001\n",
      "success_rate: 0.48\n",
      "avg_queries: 888.78\n",
      "avg_iters: 80.66\n",
      "acc_before_on_subset: 1.0\n",
      "acc_after_on_subset: 0.52\n",
      "\n",
      "--- Evasion results ---\n",
      "Detection rate on attack samples BEFORE: 0.999\n",
      "Detection rate on attack samples AFTER:  0.520\n",
      "Evasion rate among ALL attack samples:   0.480\n",
      "Evasion rate among ATTACKED subset:      0.480\n",
      "Avg queries per attacked sample:         888.8\n"
     ]
    }
   ],
   "source": [
    "\n",
    "# --- 1) Slice out ATTACK samples (y == 1) from your standardized test set ---\n",
    "attack_mask = (y_test.astype(int) == 1)\n",
    "X_attack = Xte_sel[attack_mask]\n",
    "y_attack = y_test[attack_mask].astype(int)\n",
    "\n",
    "print(f\"Attack samples in test set: {len(y_attack)}\")\n",
    "\n",
    "# Baseline detection on those attack samples\n",
    "pred_attack_before = (final_model.predict(X_attack, verbose=0).ravel() > 0.5).astype(int)\n",
    "tpr_before = (pred_attack_before == 1).mean()  # detection rate among attack samples\n",
    "print(f\"Baseline detection rate on attack samples (TPR): {tpr_before:.3f}\")\n",
    "\n",
    "# --- 2) Run TARGETED ZOO to force label 0 (normal) on attack samples only ---\n",
    "zoo_attack_on_attacks = run_zoo_attack(\n",
    "    model=final_model,\n",
    "    X=X_attack[:200],\n",
    "    y=y_attack[:200],\n",
    "    X_train_for_bounds=None,   # black-box friendly; use Xtr_sel if you're OK with train-derived bounds\n",
    "    targeted=0,                # <- IMPORTANT: push to normal class\n",
    "    only_on_correct=True,      # only try to evade ones currently detected as attack\n",
    "    max_samples=min(200, len(y_attack)),  # cap if large set\n",
    "    eps=0.3,                   # Linf radius in STANDARDIZED units\n",
    "    norm=\"linf\",\n",
    "    steps=150,\n",
    "    lr=0.1,\n",
    "    h=1e-3,\n",
    "    random_state=1\n",
    ")\n",
    "\n",
    "print(\"==== ZOO on attack samples (targeted to NORMAL / 0) ====\")\n",
    "for k, v in zoo_attack_on_attacks.items():\n",
    "    if k in {\"X_adv\", \"attacked_indices\", \"successes_bool\", \"queries_each\", \"iters_each\"}:\n",
    "        continue\n",
    "    print(f\"{k}: {v}\")\n",
    "\n",
    "# --- 3) Evaluate evasion on attacked subset and overall attack set ---\n",
    "X_attack_adv = zoo_attack_on_attacks[\"X_adv\"]  # same shape as X_attack; attacked indices modified\n",
    "attacked_local_idx = zoo_attack_on_attacks[\"attacked_indices\"]\n",
    "success_flags = zoo_attack_on_attacks[\"successes_bool\"]\n",
    "queries_each = zoo_attack_on_attacks[\"queries_each\"]\n",
    "\n",
    "# Predictions AFTER on attack-only array (includes both attacked & untouched elements)\n",
    "pred_attack_after = (final_model.predict(X_attack_adv, verbose=0).ravel() > 0.5).astype(int)\n",
    "tpr_after = (pred_attack_after == 1).mean()\n",
    "evasion_rate_all_attacks = (pred_attack_after == 0).mean()\n",
    "\n",
    "# Evasion rate restricted to actually ATTACKED samples\n",
    "evasion_rate_attacked = success_flags.mean() if len(success_flags) else 0.0\n",
    "avg_queries_attacked = queries_each.mean() if len(queries_each) else 0.0\n",
    "\n",
    "print(f\"\\n--- Evasion results ---\")\n",
    "print(f\"Detection rate on attack samples BEFORE: {tpr_before:.3f}\")\n",
    "print(f\"Detection rate on attack samples AFTER:  {tpr_after:.3f}\")\n",
    "print(f\"Evasion rate among ALL attack samples:   {evasion_rate_all_attacks:.3f}\")\n",
    "print(f\"Evasion rate among ATTACKED subset:      {evasion_rate_attacked:.3f}\")\n",
    "print(f\"Avg queries per attacked sample:         {avg_queries_attacked:.1f}\")\n",
    "\n",
    "# --- 4) (Optional) Put adversarial attacks back into the FULL test matrix ---\n",
    "# This is handy if you want to re-run a full classification report after evasion.\n",
    "# Xte_adv_full = Xte_sel.copy()\n",
    "# global_attack_indices = np.where(attack_mask)[0]\n",
    "# Xte_adv_full[global_attack_indices] = X_attack_adv\n",
    "\n",
    "# # Example: full post-attack report\n",
    "# test_preds_after = (final_model.predict(Xte_adv_full, verbose=0).ravel() > 0.5).astype(int)\n",
    "\n",
    "# from sklearn.metrics import classification_report\n",
    "# print(\"\\nFinal Test Set Report AFTER targeted ZOO on attack samples:\")\n",
    "# print(classification_report(y_test, test_preds_after, zero_division=0))\n"
   ]
  },
  {
   "cell_type": "code",
   "execution_count": 33,
   "id": "97ea7e53-007b-404f-9635-0c678e54890a",
   "metadata": {},
   "outputs": [],
   "source": [
    "# ---- Rebuild the (scaled) test set and labels ----\n",
    "X_test_combined = np.vstack((X_test_normal, X_attack_adv))\n",
    "y_test_combined = np.hstack((y_test_normal, y_test_attack[:200]))\n",
    "\n",
    "from sklearn.utils import shuffle\n",
    "X_test_adv_final, y_test_adv_final = shuffle(\n",
    "    X_test_combined, y_test_combined, random_state=1\n",
    ")"
   ]
  },
  {
   "cell_type": "code",
   "execution_count": 34,
   "id": "d147fd00-28e9-46d1-bb0d-49f3599b43eb",
   "metadata": {},
   "outputs": [
    {
     "name": "stdout",
     "output_type": "stream",
     "text": [
      "\u001b[1m2991/2991\u001b[0m \u001b[32m━━━━━━━━━━━━━━━━━━━━\u001b[0m\u001b[37m\u001b[0m \u001b[1m3s\u001b[0m 867us/step\n"
     ]
    },
    {
     "data": {
      "image/png": "[encoded data removed]",
      "text/plain": [
       "<Figure size 600x400 with 2 Axes>"
      ]
     },
     "metadata": {},
     "output_type": "display_data"
    },
    {
     "name": "stdout",
     "output_type": "stream",
     "text": [
      "                precision    recall  f1-score   support\n",
      "\n",
      "Normal Traffic       1.00      0.92      0.96     95505\n",
      "        Attack       0.01      0.52      0.03       200\n",
      "\n",
      "      accuracy                           0.92     95705\n",
      "     macro avg       0.51      0.72      0.49     95705\n",
      "  weighted avg       1.00      0.92      0.96     95705\n",
      "\n"
     ]
    }
   ],
   "source": [
    "import matplotlib.pyplot as plt\n",
    "import seaborn as sns\n",
    "from sklearn.metrics import confusion_matrix, classification_report\n",
    "\n",
    "# Get predictions\n",
    "y_pred = final_model.predict(X_test_adv_final)\n",
    "y_pred = (y_pred > 0.5).astype(int)\n",
    "\n",
    "# Compute confusion matrix\n",
    "cm = confusion_matrix(y_test_adv_final, y_pred)\n",
    "\n",
    "# Plot the confusion matrix\n",
    "plt.figure(figsize=(6, 4))\n",
    "sns.heatmap(cm, annot=True, fmt='d', cmap='Blues', xticklabels=['Normal Traffic (0)', 'Attack (1)'], yticklabels=['Normal Traffic (0)', 'Attack (1)'])\n",
    "plt.xlabel('Predicted')\n",
    "plt.ylabel('Actual')\n",
    "# plt.title('Confusion Matrix')\n",
    "plt.show()\n",
    "\n",
    "# Print detailed classification report\n",
    "print(classification_report(y_test_adv_final, y_pred, target_names=['Normal Traffic', 'Attack']))\n"
   ]
  },
  {
   "cell_type": "code",
   "execution_count": null,
   "id": "f7ed9282-9529-49b2-9259-56434217277e",
   "metadata": {},
   "outputs": [],
   "source": []
  },
  {
   "cell_type": "code",
   "execution_count": 43,
   "id": "727c8769-52a2-40a8-a262-a04ae89ba09d",
   "metadata": {},
   "outputs": [
    {
     "name": "stdout",
     "output_type": "stream",
     "text": [
      "Original Attack Samples (that later flipped 1→0):\n",
      "\n",
      "       Offset  sTtl  sMeanPktSz  sHops  State\n",
      "0  16032740.0  63.0        42.0    1.0    6.0\n",
      "1  13536276.0  63.0        42.0    1.0    6.0\n",
      "2   3971164.0  63.0        67.0    1.0    1.0\n",
      "3  16564444.0  63.0        42.0    1.0    6.0\n",
      "4  17410420.0  63.0        42.0    1.0    6.0\n",
      "5   5828228.0  63.0       107.0    1.0    1.0\n",
      "6   5292812.0  63.0        67.0    1.0    1.0\n",
      "7  23711652.0  63.0        42.0    1.0    6.0\n",
      "8    136852.0  58.0        42.0    6.0    4.0\n",
      "9  14685668.0  63.0         0.0    1.0    8.0\n",
      "\n",
      "Adversarial Counterparts:\n",
      "\n",
      "         Offset       sTtl  sMeanPktSz     sHops     State\n",
      "0  2.040952e+07  63.044827  114.571159  1.262777  5.757626\n",
      "1  1.888673e+07  72.212918  114.571159  1.860176  5.777233\n",
      "2  1.511203e+06  63.298623  139.571159  2.581590  1.019911\n",
      "3  2.022300e+07  60.609679  114.571159  1.203117  5.735035\n",
      "4  2.109577e+07  60.706998  114.571159  1.175326  5.755966\n",
      "5  4.369651e+06  56.763568  105.204020  2.192694  1.184345\n",
      "6  1.089039e+06  35.042015  120.993597  2.782286  1.030111\n",
      "7  2.403119e+07  63.544755   43.479780  1.056059  5.983454\n",
      "8  5.487310e+06  78.541697  114.571159  6.229356  3.239894\n",
      "9  2.003613e+07  90.957985   72.571159  2.120966  8.929995\n"
     ]
    }
   ],
   "source": [
    "import numpy as np\n",
    "import pandas as pd\n",
    "\n",
    "# --- 1) Collect only the successfully flipped samples (1 → 0) ---\n",
    "success_mask = zoo_attack_on_attacks[\"successes_bool\"]\n",
    "attacked_idx = zoo_attack_on_attacks[\"attacked_indices\"]\n",
    "successful_local_idx = np.array(attacked_idx)[success_mask]\n",
    "\n",
    "# Standardized (model-space) originals + adversarials for those successes\n",
    "X_orig_success_std = X_attack[successful_local_idx]\n",
    "X_adv_success_std  = zoo_attack_on_attacks[\"X_adv\"][successful_local_idx]\n",
    "\n",
    "# Sanity: keep only those that truly flipped 1->0 according to the model\n",
    "pred_orig = (final_model.predict(X_orig_success_std, verbose=0).ravel() > 0.5).astype(int)\n",
    "pred_adv  = (final_model.predict(X_adv_success_std,  verbose=0).ravel() > 0.5).astype(int)\n",
    "\n",
    "flip_mask = (pred_orig == 1) & (pred_adv == 0)\n",
    "X_orig_success_std = X_orig_success_std[flip_mask]\n",
    "X_adv_success_std  = X_adv_success_std[flip_mask]\n",
    "pred_orig = pred_orig[flip_mask]\n",
    "pred_adv  = pred_adv[flip_mask]\n",
    "\n",
    "# --- 2) Inverse-transform back to original feature units ---\n",
    "# scaler_full was fit on the selected columns used by the model (Xtr_sel)\n",
    "X_orig_success = scaler_full.inverse_transform(X_orig_success_std)\n",
    "X_adv_success  = scaler_full.inverse_transform(X_adv_success_std)\n",
    "\n",
    "# --- 3) Build DataFrames with your desired columns and formatting ---\n",
    "cols = [\"Offset\", \"sTtl\", \"sMeanPktSz\", \"sHops\", \"State\"]  # order you want to display\n",
    "\n",
    "def make_df(X, preds):\n",
    "    df = pd.DataFrame(X, columns=cols)\n",
    "    # Format dtypes to match your sample output\n",
    "    # int_like = [\"Offset\", \"sTtl\", \"sHops\", \"State\"]\n",
    "    # for c in int_like:\n",
    "    #     # If values are near integers, round; otherwise leave as-is\n",
    "    #     df[c] = np.round(df[c]).astype(float)  # keep .0 suffix like in your example\n",
    "    # # sMeanPktSz can keep float with typical precision\n",
    "    # df[\"sMeanPktSz\"] = df[\"sMeanPktSz\"].astype(float)\n",
    "    # df[\"Prediction\"] = preds.astype(int)\n",
    "    return df\n",
    "\n",
    "df_orig = make_df(X_orig_success, pred_orig)\n",
    "df_adv  = make_df(X_adv_success,  pred_adv)\n",
    "\n",
    "# --- 4) Show up to 10 examples in your exact format ---\n",
    "n_show = min(10, len(df_orig))\n",
    "\n",
    "print(\"Original Attack Samples (that later flipped 1→0):\\n\")\n",
    "print(df_orig.head(n_show).to_string(index=True))\n",
    "\n",
    "print(\"\\nAdversarial Counterparts:\\n\")\n",
    "print(df_adv.head(n_show).to_string(index=True))\n"
   ]
  },
  {
   "cell_type": "markdown",
   "id": "d07dc14d-be16-42d8-898d-b4a31b3aad49",
   "metadata": {},
   "source": [
    "# ZOO RRALISTIC VALUES"
   ]
  },
  {
   "cell_type": "code",
   "execution_count": 35,
   "id": "da4b2c03-3a3b-46a4-bae5-7a8a6676a945",
   "metadata": {},
   "outputs": [],
   "source": [
    "import numpy as np\n",
    "from sklearn.metrics import accuracy_score\n",
    "\n",
    "# ---------- Your realism enforcer, extended to also honor a feature mask ----------\n",
    "def enforce_realistic_values_and_rescale_with_mask(\n",
    "    X_scaled,\n",
    "    X_orig_scaled,\n",
    "    scaler,\n",
    "    feature_order,\n",
    "    feature_mask=None,     # 1=changeable, 0=frozen; shape=(d,)\n",
    "):\n",
    "    \"\"\"\n",
    "    Same as your enforce_realistic_values_and_rescale(), but also freezes any\n",
    "    feature with mask==0 exactly to its original value (in original units).\n",
    "    Works on a batch.\n",
    "    \"\"\"\n",
    "    X = scaler.inverse_transform(np.asarray(X_scaled, dtype=np.float64))\n",
    "    X_orig = scaler.inverse_transform(np.asarray(X_orig_scaled, dtype=np.float64))\n",
    "    idx = {c: i for i, c in enumerate(feature_order)}\n",
    "\n",
    "    # Freeze masked-off features exactly to original (in original units)\n",
    "    if feature_mask is not None:\n",
    "        frozen_cols = np.where(np.asarray(feature_mask) == 0)[0]\n",
    "        if frozen_cols.size:\n",
    "            X[:, frozen_cols] = X_orig[:, frozen_cols]\n",
    "\n",
    "    def snap_int(arr, low=None, high=None):\n",
    "        out = np.rint(arr)\n",
    "        if (low is not None) or (high is not None):\n",
    "            out = np.clip(out, low if low is not None else out.min(),\n",
    "                               high if high is not None else out.max())\n",
    "        eps = 1e-12\n",
    "        out = np.where(np.abs(out - np.rint(out)) < eps, np.rint(out), out)\n",
    "        return out\n",
    "\n",
    "    # Keep State exactly as original\n",
    "    if 'State' in idx:\n",
    "        i = idx['State']\n",
    "        X[:, i] = X_orig[:, i]\n",
    "\n",
    "    # Offset: integer >= 0\n",
    "    if 'Offset' in idx:\n",
    "        i = idx['Offset']\n",
    "        X[:, i] = snap_int(X[:, i], low=0)\n",
    "\n",
    "    # sTtl: integer in [1, 255]\n",
    "    if 'sTtl' in idx:\n",
    "        i = idx['sTtl']\n",
    "        X[:, i] = snap_int(X[:, i], low=1, high=255)\n",
    "\n",
    "    # sHops: integer >= 1\n",
    "    if 'sHops' in idx:\n",
    "        i = idx['sHops']\n",
    "        X[:, i] = snap_int(X[:, i], low=1)\n",
    "\n",
    "    # sMeanPktSz: strictly positive\n",
    "    if 'sMeanPktSz' in idx:\n",
    "        i = idx['sMeanPktSz']\n",
    "        X[:, i] = np.maximum(X[:, i], 1e-6)\n",
    "\n",
    "    # First scale\n",
    "    X_scaled_out = scaler.transform(X.astype(np.float64))\n",
    "\n",
    "    # --- anti-drift pass in original units ---\n",
    "    X_roundtrip = scaler.inverse_transform(X_scaled_out)\n",
    "\n",
    "    if feature_mask is not None:\n",
    "        frozen_cols = np.where(np.asarray(feature_mask) == 0)[0]\n",
    "        if frozen_cols.size:\n",
    "            X_roundtrip[:, frozen_cols] = X_orig[:, frozen_cols]\n",
    "\n",
    "    if 'Offset' in idx:\n",
    "        i = idx['Offset']\n",
    "        X_roundtrip[:, i] = snap_int(X_roundtrip[:, i], low=0)\n",
    "    if 'sTtl' in idx:\n",
    "        i = idx['sTtl']\n",
    "        X_roundtrip[:, i] = snap_int(X_roundtrip[:, i], low=1, high=255)\n",
    "    if 'sHops' in idx:\n",
    "        i = idx['sHops']\n",
    "        X_roundtrip[:, i] = snap_int(X_roundtrip[:, i], low=1)\n",
    "    if 'sMeanPktSz' in idx:\n",
    "        i = idx['sMeanPktSz']\n",
    "        X_roundtrip[:, i] = np.maximum(X_roundtrip[:, i], 1e-6)\n",
    "\n",
    "    return scaler.transform(X_roundtrip).astype(np.float32)\n",
    "\n",
    "# ---------- Utilities ----------\n",
    "def predict_proba(model, X):\n",
    "    \"\"\"Return P(y=1) as a flat numpy array.\"\"\"\n",
    "    return model.predict(X, verbose=0).ravel()\n",
    "\n",
    "def bce_loss(p, y):\n",
    "    \"\"\"Binary cross-entropy (elementwise) with clipping for numerical stability.\"\"\"\n",
    "    eps = 1e-7\n",
    "    p = np.clip(p, eps, 1 - eps)\n",
    "    return -(y * np.log(p) + (1 - y) * np.log(1 - p))\n",
    "\n",
    "def loss_at_x(model, x, y_scalar):\n",
    "    \"\"\"Loss at a single point x (1D) for label y in {0,1}.\"\"\"\n",
    "    p = predict_proba(model, x[None, :])[0]\n",
    "    return bce_loss(p, y_scalar)\n",
    "\n",
    "# ---------- Finite diff that respects mask + constraints ----------\n",
    "def finite_diff_grad_constrained(\n",
    "    model,\n",
    "    x,\n",
    "    y_scalar,\n",
    "    x0_scaled,\n",
    "    scaler,\n",
    "    feature_order,\n",
    "    feature_mask=None,\n",
    "    h=1e-3\n",
    "):\n",
    "    \"\"\"\n",
    "    Central-difference gradient of loss wrt x, but:\n",
    "    - Perturbs only coordinates with mask==1\n",
    "    - Each probe point is run through the same realism/rounding constraints\n",
    "      and masked features are frozen to x0.\n",
    "    Returns: full-size grad (zeros on frozen coords), queries_used\n",
    "    \"\"\"\n",
    "    d = x.shape[0]\n",
    "    if feature_mask is None:\n",
    "        allowed = np.arange(d)\n",
    "    else:\n",
    "        feature_mask = np.asarray(feature_mask).astype(bool)\n",
    "        allowed = np.where(feature_mask)[0]\n",
    "\n",
    "    k = allowed.size\n",
    "    if k == 0:\n",
    "        return np.zeros_like(x), 0\n",
    "\n",
    "    # Build batch of +h and -h probes only for allowed dims\n",
    "    batch_plus = np.repeat(x[None, :], k, axis=0)\n",
    "    batch_minus = batch_plus.copy()\n",
    "    for j, i in enumerate(allowed):\n",
    "        batch_plus[j, i] += h\n",
    "        batch_minus[j, i] -= h\n",
    "\n",
    "    # Enforce constraints (and freeze masked features) on probes\n",
    "    x0_batch = np.repeat(x0_scaled[None, :], k, axis=0)\n",
    "    batch_plus = enforce_realistic_values_and_rescale_with_mask(\n",
    "        batch_plus, x0_batch, scaler, feature_order, feature_mask=feature_mask\n",
    "    )\n",
    "    batch_minus = enforce_realistic_values_and_rescale_with_mask(\n",
    "        batch_minus, x0_batch, scaler, feature_order, feature_mask=feature_mask\n",
    "    )\n",
    "\n",
    "    p_plus = predict_proba(model, batch_plus)\n",
    "    p_minus = predict_proba(model, batch_minus)\n",
    "    L_plus = bce_loss(p_plus, np.full(k, y_scalar))\n",
    "    L_minus = bce_loss(p_minus, np.full(k, y_scalar))\n",
    "\n",
    "    grad_full = np.zeros(d, dtype=np.float64)\n",
    "    grad_full[allowed] = (L_plus - L_minus) / (2.0 * h)\n",
    "    queries = 2 * k\n",
    "    return grad_full, queries\n",
    "\n",
    "def project_linf(x0, x, eps):\n",
    "    \"\"\"Project x to the Linf ball around x0 with radius eps.\"\"\"\n",
    "    return np.clip(x, x0 - eps, x0 + eps)\n",
    "\n",
    "def project_l2(x0, x, eps):\n",
    "    \"\"\"Project x to the L2 ball around x0 with radius eps.\"\"\"\n",
    "    delta = x - x0\n",
    "    norm = np.linalg.norm(delta, ord=2)\n",
    "    if norm > eps:\n",
    "        delta = delta * (eps / (norm + 1e-12))\n",
    "    return x0 + delta\n",
    "\n",
    "# ---------- Core ZOO attacker (single example) with mask + constraints ----------\n",
    "def zoo_attack_single(\n",
    "    model,\n",
    "    x0,\n",
    "    y_true,\n",
    "    steps=300,\n",
    "    lr=0.05,\n",
    "    h=1e-3,\n",
    "    eps=0.5,\n",
    "    norm=\"linf\",          # \"linf\" or \"l2\"\n",
    "    targeted=None,        # None for untargeted; otherwise target label in {0,1}\n",
    "    clip_min=None,\n",
    "    clip_max=None,\n",
    "    early_stop=True,\n",
    "    # NEW:\n",
    "    feature_mask=None,    # 1/0 mask like your FGSM mask_vec\n",
    "    scaler=None,\n",
    "    feature_order=None,\n",
    "):\n",
    "    \"\"\"\n",
    "    ZOO on one sample with:\n",
    "      - feature-wise mask (frozen coords unaffected by gradient and kept at x0)\n",
    "      - your realism constraints applied at every probe and iterate.\n",
    "    All inputs are in *standardized* space (same as your FGSM usage).\n",
    "    \"\"\"\n",
    "    assert scaler is not None and feature_order is not None, \\\n",
    "        \"Pass scaler and feature_order to enforce tabular realism.\"\n",
    "\n",
    "    x0_scaled = x0.copy()\n",
    "    x = x0.copy()\n",
    "    queries = 0\n",
    "    d = x.size\n",
    "\n",
    "    projector = project_linf if norm == \"linf\" else project_l2\n",
    "\n",
    "    # Initial check\n",
    "    p0 = predict_proba(model, x[None, :])[0]; queries += 1\n",
    "    y_pred0 = int(p0 > 0.5)\n",
    "    already_wrong = (y_pred0 != y_true)\n",
    "    if targeted is None and already_wrong:\n",
    "        return x, True, queries, 0  # already misclassified\n",
    "\n",
    "    # Helper to re-enforce mask & realism and keep within eps-ball\n",
    "    def sanitize_iterate(x_cur):\n",
    "        # Freeze masked features to original in scaled space before realism pass\n",
    "        if feature_mask is not None:\n",
    "            fm = np.asarray(feature_mask).astype(bool)\n",
    "            x_cur = np.where(fm, x_cur, x0_scaled)\n",
    "        # Apply realism/rounding/etc (honors mask internally too)\n",
    "        x_cur = enforce_realistic_values_and_rescale_with_mask(\n",
    "            x_cur[None, :], x0_scaled[None, :], scaler, feature_order, feature_mask=feature_mask\n",
    "        )[0]\n",
    "        # Optional: clamp to observed range\n",
    "        if (clip_min is not None) and (clip_max is not None):\n",
    "            x_cur = np.minimum(np.maximum(x_cur, clip_min), clip_max)\n",
    "        # Stay within epsilon-ball (projection may push masked coords; re-freeze)\n",
    "        x_cur = projector(x0_scaled, x_cur, eps)\n",
    "        if feature_mask is not None:\n",
    "            fm = np.asarray(feature_mask).astype(bool)\n",
    "            x_cur = np.where(fm, x_cur, x0_scaled)\n",
    "        return x_cur\n",
    "\n",
    "    for t in range(1, steps + 1):\n",
    "        label_for_loss = targeted if targeted is not None else y_true\n",
    "\n",
    "        # Zeroth-order gradient on the constrained manifold\n",
    "        grad, q = finite_diff_grad_constrained(\n",
    "            model=model,\n",
    "            x=x,\n",
    "            y_scalar=label_for_loss,\n",
    "            x0_scaled=x0_scaled,\n",
    "            scaler=scaler,\n",
    "            feature_order=feature_order,\n",
    "            feature_mask=feature_mask,\n",
    "            h=h\n",
    "        )\n",
    "        queries += q\n",
    "\n",
    "        direction = +1.0 if targeted is None else -1.0\n",
    "        x = x + direction * lr * grad\n",
    "\n",
    "        # Project to eps-ball, clamp range, and enforce realism + mask\n",
    "        x = projector(x0_scaled, x, eps)\n",
    "        if (clip_min is not None) and (clip_max is not None):\n",
    "            x = np.minimum(np.maximum(x, clip_min), clip_max)\n",
    "        x = sanitize_iterate(x)\n",
    "\n",
    "        # Check success condition\n",
    "        p = predict_proba(model, x[None, :])[0]; queries += 1\n",
    "        y_pred = int(p > 0.5)\n",
    "        success = (y_pred != y_true) if targeted is None else (y_pred == targeted)\n",
    "        if early_stop and success:\n",
    "            return x, True, queries, t\n",
    "\n",
    "    # End of budget\n",
    "    p = predict_proba(model, x[None, :])[0]; queries += 1\n",
    "    y_pred = int(p > 0.5)\n",
    "    success = (y_pred != y_true) if targeted is None else (y_pred == targeted)\n",
    "    return x, success, queries, steps\n",
    "\n",
    "# ---------- Convenience: attack a batch and summarize ----------\n",
    "def run_zoo_attack(\n",
    "    model,\n",
    "    X,\n",
    "    y,\n",
    "    X_train_for_bounds=None,\n",
    "    max_samples=100,\n",
    "    eps=0.5,\n",
    "    norm=\"linf\",\n",
    "    steps=300,\n",
    "    lr=0.05,\n",
    "    h=1e-3,\n",
    "    targeted=None,\n",
    "    only_on_correct=True,\n",
    "    random_state=0,\n",
    "    # NEW:\n",
    "    feature_mask=None,\n",
    "    scaler=None,\n",
    "    feature_order=None,\n",
    "):\n",
    "    \"\"\"\n",
    "    Batch runner. X, y are in standardized space. Pass the same scaler and\n",
    "    feature_order you used for FGSM + the same mask_vec.\n",
    "    \"\"\"\n",
    "    assert scaler is not None and feature_order is not None, \\\n",
    "        \"Pass scaler and feature_order (used for realism constraints).\"\n",
    "\n",
    "    rng = np.random.default_rng(random_state)\n",
    "\n",
    "    if X_train_for_bounds is not None:\n",
    "        clip_min = X_train_for_bounds.min(axis=0)\n",
    "        clip_max = X_train_for_bounds.max(axis=0)\n",
    "    else:\n",
    "        clip_min = clip_max = None\n",
    "\n",
    "    y_pred_all = (predict_proba(model, X) > 0.5).astype(int)\n",
    "    if only_on_correct:\n",
    "        candidates = np.where(y_pred_all == y)[0]\n",
    "    else:\n",
    "        candidates = np.arange(len(y))\n",
    "    rng.shuffle(candidates)\n",
    "    idxs = candidates[:max_samples]\n",
    "\n",
    "    successes = []\n",
    "    queries_list = []\n",
    "    iters_list = []\n",
    "    X_adv = np.copy(X)\n",
    "\n",
    "    for idx in idxs:\n",
    "        x0 = X[idx]\n",
    "        y_true = int(y[idx])\n",
    "\n",
    "        x_adv, success, q, iters = zoo_attack_single(\n",
    "            model=model,\n",
    "            x0=x0,\n",
    "            y_true=y_true,\n",
    "            steps=steps,\n",
    "            lr=lr,\n",
    "            h=h,\n",
    "            eps=eps,\n",
    "            norm=norm,\n",
    "            targeted=targeted,\n",
    "            clip_min=clip_min,\n",
    "            clip_max=clip_max,\n",
    "            early_stop=True,\n",
    "            feature_mask=feature_mask,\n",
    "            scaler=scaler,\n",
    "            feature_order=feature_order,\n",
    "        )\n",
    "        X_adv[idx] = x_adv\n",
    "        successes.append(success)\n",
    "        queries_list.append(q)\n",
    "        iters_list.append(iters)\n",
    "\n",
    "    success_rate = np.mean(successes) if len(successes) else 0.0\n",
    "    avg_queries = np.mean(queries_list) if queries_list else 0\n",
    "    avg_iters = np.mean(iters_list) if iters_list else 0\n",
    "    acc_before = accuracy_score(y[idxs], y_pred_all[idxs])\n",
    "    acc_after = accuracy_score(y[idxs], (predict_proba(model, X_adv[idxs]) > 0.5).astype(int))\n",
    "\n",
    "    summary = {\n",
    "        \"num_attacked\": len(idxs),\n",
    "        \"only_on_correct\": only_on_correct,\n",
    "        \"targeted\": targeted,\n",
    "        \"eps\": eps,\n",
    "        \"norm\": norm,\n",
    "        \"steps\": steps,\n",
    "        \"lr\": lr,\n",
    "        \"h\": h,\n",
    "        \"success_rate\": float(success_rate),\n",
    "        \"avg_queries\": float(avg_queries),\n",
    "        \"avg_iters\": float(avg_iters),\n",
    "        \"acc_before_on_subset\": float(acc_before),\n",
    "        \"acc_after_on_subset\": float(acc_after),\n",
    "        \"attacked_indices\": idxs,\n",
    "        \"successes_bool\": np.array(successes, dtype=bool),\n",
    "        \"queries_each\": np.array(queries_list, dtype=int),\n",
    "        \"iters_each\": np.array(iters_list, dtype=int),\n",
    "        \"X_adv\": X_adv,\n",
    "    }\n",
    "    return summary\n"
   ]
  },
  {
   "cell_type": "code",
   "execution_count": 38,
   "id": "e290209d-0b31-4a0f-87ab-bd0fec90a797",
   "metadata": {},
   "outputs": [],
   "source": [
    "# Feature order & scaler used in training\n",
    "feature_order = selected_features  # e.g. ['Offset','sTtl','sMeanPktSz','sHops','State']\n",
    "scaler_project = scaler if 'scaler' in locals() else scaler_full\n",
    "feat_idx = {c: i for i, c in enumerate(feature_order)}\n",
    "\n",
    "# Build the same mask you used for FGSM (freeze 'State', etc.)\n",
    "mask_vec = np.ones(X_test_attack.shape[1], dtype=np.float32)\n",
    "if 'State' in feat_idx:\n",
    "    mask_vec[feat_idx['State']] = 0.0\n",
    "\n",
    "zoo_attack_on_attacks = run_zoo_attack(\n",
    "    model=final_model,\n",
    "    X=X_attack[:200],\n",
    "    y=y_attack[:200],\n",
    "    X_train_for_bounds=None,     # or Xtr_sel if you want train-range clipping\n",
    "    targeted=0,                  # push to normal class\n",
    "    only_on_correct=True,\n",
    "    max_samples=min(200, len(y_attack)),\n",
    "    eps=0.3,                     # in STANDARDIZED units\n",
    "    norm=\"linf\",\n",
    "    steps=150,\n",
    "    lr=0.1,\n",
    "    h=1e-3,\n",
    "    random_state=1,\n",
    "    feature_mask=mask_vec,\n",
    "    scaler=scaler_project,\n",
    "    feature_order=feature_order,\n",
    ")\n"
   ]
  },
  {
   "cell_type": "code",
   "execution_count": 39,
   "id": "2db00c37-dfe2-4b0e-b0ae-7237bd7413a5",
   "metadata": {},
   "outputs": [
    {
     "name": "stdout",
     "output_type": "stream",
     "text": [
      "==== ZOO on attack samples (targeted to NORMAL / 0) ====\n",
      "num_attacked: 200\n",
      "only_on_correct: True\n",
      "targeted: 0\n",
      "eps: 0.3\n",
      "norm: linf\n",
      "steps: 150\n",
      "lr: 0.1\n",
      "h: 0.001\n",
      "success_rate: 0.195\n",
      "avg_queries: 1095.935\n",
      "avg_iters: 121.57\n",
      "acc_before_on_subset: 1.0\n",
      "acc_after_on_subset: 0.805\n",
      "\n",
      "--- Evasion results ---\n",
      "Detection rate on attack samples BEFORE: 0.999\n",
      "Detection rate on attack samples AFTER:  0.805\n",
      "Evasion rate among ALL attack samples:   0.195\n",
      "Evasion rate among ATTACKED subset:      0.195\n",
      "Avg queries per attacked sample:         1095.9\n"
     ]
    }
   ],
   "source": [
    "print(\"==== ZOO on attack samples (targeted to NORMAL / 0) ====\")\n",
    "for k, v in zoo_attack_on_attacks.items():\n",
    "    if k in {\"X_adv\", \"attacked_indices\", \"successes_bool\", \"queries_each\", \"iters_each\"}:\n",
    "        continue\n",
    "    print(f\"{k}: {v}\")\n",
    "\n",
    "# --- 3) Evaluate evasion on attacked subset and overall attack set ---\n",
    "X_attack_adv = zoo_attack_on_attacks[\"X_adv\"]  # same shape as X_attack; attacked indices modified\n",
    "attacked_local_idx = zoo_attack_on_attacks[\"attacked_indices\"]\n",
    "success_flags = zoo_attack_on_attacks[\"successes_bool\"]\n",
    "queries_each = zoo_attack_on_attacks[\"queries_each\"]\n",
    "\n",
    "# Predictions AFTER on attack-only array (includes both attacked & untouched elements)\n",
    "pred_attack_after = (final_model.predict(X_attack_adv, verbose=0).ravel() > 0.5).astype(int)\n",
    "tpr_after = (pred_attack_after == 1).mean()\n",
    "evasion_rate_all_attacks = (pred_attack_after == 0).mean()\n",
    "\n",
    "# Evasion rate restricted to actually ATTACKED samples\n",
    "evasion_rate_attacked = success_flags.mean() if len(success_flags) else 0.0\n",
    "avg_queries_attacked = queries_each.mean() if len(queries_each) else 0.0\n",
    "\n",
    "print(f\"\\n--- Evasion results ---\")\n",
    "print(f\"Detection rate on attack samples BEFORE: {tpr_before:.3f}\")\n",
    "print(f\"Detection rate on attack samples AFTER:  {tpr_after:.3f}\")\n",
    "print(f\"Evasion rate among ALL attack samples:   {evasion_rate_all_attacks:.3f}\")\n",
    "print(f\"Evasion rate among ATTACKED subset:      {evasion_rate_attacked:.3f}\")\n",
    "print(f\"Avg queries per attacked sample:         {avg_queries_attacked:.1f}\")"
   ]
  },
  {
   "cell_type": "code",
   "execution_count": null,
   "id": "61ca13f7-d074-47cf-a209-a91c488860fc",
   "metadata": {},
   "outputs": [],
   "source": []
  },
  {
   "cell_type": "code",
   "execution_count": 40,
   "id": "3e3b89af-e63a-40a2-a673-d782ef28c34c",
   "metadata": {},
   "outputs": [],
   "source": [
    "# ---- Rebuild the (scaled) test set and labels ----\n",
    "X_test_combined = np.vstack((X_test_normal, X_attack_adv))\n",
    "y_test_combined = np.hstack((y_test_normal, y_test_attack[:200]))\n",
    "\n",
    "from sklearn.utils import shuffle\n",
    "X_test_adv_final, y_test_adv_final = shuffle(\n",
    "    X_test_combined, y_test_combined, random_state=1\n",
    ")"
   ]
  },
  {
   "cell_type": "code",
   "execution_count": 41,
   "id": "6afb7550-4543-49c0-b49a-99f159221f7c",
   "metadata": {},
   "outputs": [
    {
     "name": "stdout",
     "output_type": "stream",
     "text": [
      "\u001b[1m2991/2991\u001b[0m \u001b[32m━━━━━━━━━━━━━━━━━━━━\u001b[0m\u001b[37m\u001b[0m \u001b[1m3s\u001b[0m 900us/step\n"
     ]
    },
    {
     "data": {
      "image/png": "[encoded data removed]",
      "text/plain": [
       "<Figure size 600x400 with 2 Axes>"
      ]
     },
     "metadata": {},
     "output_type": "display_data"
    },
    {
     "name": "stdout",
     "output_type": "stream",
     "text": [
      "                precision    recall  f1-score   support\n",
      "\n",
      "Normal Traffic       1.00      0.92      0.96     95505\n",
      "        Attack       0.02      0.81      0.04       200\n",
      "\n",
      "      accuracy                           0.92     95705\n",
      "     macro avg       0.51      0.86      0.50     95705\n",
      "  weighted avg       1.00      0.92      0.96     95705\n",
      "\n"
     ]
    }
   ],
   "source": [
    "import matplotlib.pyplot as plt\n",
    "import seaborn as sns\n",
    "from sklearn.metrics import confusion_matrix, classification_report\n",
    "\n",
    "# Get predictions\n",
    "y_pred = final_model.predict(X_test_adv_final)\n",
    "y_pred = (y_pred > 0.5).astype(int)\n",
    "\n",
    "# Compute confusion matrix\n",
    "cm = confusion_matrix(y_test_adv_final, y_pred)\n",
    "\n",
    "# Plot the confusion matrix\n",
    "plt.figure(figsize=(6, 4))\n",
    "sns.heatmap(cm, annot=True, fmt='d', cmap='Blues', xticklabels=['Normal Traffic (0)', 'Attack (1)'], yticklabels=['Normal Traffic (0)', 'Attack (1)'])\n",
    "plt.xlabel('Predicted')\n",
    "plt.ylabel('Actual')\n",
    "# plt.title('Confusion Matrix')\n",
    "plt.show()\n",
    "\n",
    "# Print detailed classification report\n",
    "print(classification_report(y_test_adv_final, y_pred, target_names=['Normal Traffic', 'Attack']))\n"
   ]
  },
  {
   "cell_type": "code",
   "execution_count": 42,
   "id": "a361a7fd-a55a-4cd3-85eb-705593bb5b21",
   "metadata": {},
   "outputs": [
    {
     "name": "stdout",
     "output_type": "stream",
     "text": [
      "Original Attack Samples (that later flipped 1→0):\n",
      "\n",
      "       Offset  sTtl  sMeanPktSz  sHops  State\n",
      "0   2528596.0  63.0   42.000000    1.0    4.0\n",
      "1  19172012.0  63.0   42.000000    1.0    6.0\n",
      "2   2916940.0  63.0  149.199997    1.0    1.0\n",
      "3  19986316.0  63.0   42.000000    1.0    6.0\n",
      "4  23163420.0  63.0   42.000000    1.0    6.0\n",
      "5  22344820.0  63.0   42.000000    1.0    6.0\n",
      "6  18794948.0  63.0   42.000000    1.0    6.0\n",
      "7   2176412.0  63.0   42.000000    1.0    4.0\n",
      "8  21778068.0  63.0   42.000000    1.0    6.0\n",
      "9   2771604.0  63.0   42.000000    1.0    4.0\n",
      "\n",
      "Adversarial Counterparts:\n",
      "\n",
      "         Offset       sTtl  sMeanPktSz         sHops  State\n",
      "0 -6.816789e+05  46.225209   74.583411 -7.347067e-08    4.0\n",
      "1  2.238229e+07  63.000000   85.542695  1.000000e+00    6.0\n",
      "2 -2.933348e+05  46.225209  105.657302 -7.347067e-08    1.0\n",
      "3  2.319659e+07  63.000000   85.542695  1.000000e+00    6.0\n",
      "4  2.637369e+07  63.000000   85.542695  1.000000e+00    6.0\n",
      "5  2.511958e+07  63.000000   76.503840  1.000000e+00    6.0\n",
      "6  2.200522e+07  63.000000   85.542695  1.000000e+00    6.0\n",
      "7 -1.033863e+06  46.225209   74.631857 -7.347067e-08    4.0\n",
      "8  2.498834e+07  63.000000   85.542695  1.000000e+00    6.0\n",
      "9 -4.386707e+05  46.225209   85.542695 -7.347067e-08    4.0\n"
     ]
    }
   ],
   "source": [
    "import numpy as np\n",
    "import pandas as pd\n",
    "\n",
    "# --- 1) Collect only the successfully flipped samples (1 → 0) ---\n",
    "success_mask = zoo_attack_on_attacks[\"successes_bool\"]\n",
    "attacked_idx = zoo_attack_on_attacks[\"attacked_indices\"]\n",
    "successful_local_idx = np.array(attacked_idx)[success_mask]\n",
    "\n",
    "# Standardized (model-space) originals + adversarials for those successes\n",
    "X_orig_success_std = X_attack[successful_local_idx]\n",
    "X_adv_success_std  = zoo_attack_on_attacks[\"X_adv\"][successful_local_idx]\n",
    "\n",
    "# Sanity: keep only those that truly flipped 1->0 according to the model\n",
    "pred_orig = (final_model.predict(X_orig_success_std, verbose=0).ravel() > 0.5).astype(int)\n",
    "pred_adv  = (final_model.predict(X_adv_success_std,  verbose=0).ravel() > 0.5).astype(int)\n",
    "\n",
    "flip_mask = (pred_orig == 1) & (pred_adv == 0)\n",
    "X_orig_success_std = X_orig_success_std[flip_mask]\n",
    "X_adv_success_std  = X_adv_success_std[flip_mask]\n",
    "pred_orig = pred_orig[flip_mask]\n",
    "pred_adv  = pred_adv[flip_mask]\n",
    "\n",
    "# --- 2) Inverse-transform back to original feature units ---\n",
    "# scaler_full was fit on the selected columns used by the model (Xtr_sel)\n",
    "X_orig_success = scaler_full.inverse_transform(X_orig_success_std)\n",
    "X_adv_success  = scaler_full.inverse_transform(X_adv_success_std)\n",
    "\n",
    "# --- 3) Build DataFrames with your desired columns and formatting ---\n",
    "cols = [\"Offset\", \"sTtl\", \"sMeanPktSz\", \"sHops\", \"State\"]  # order you want to display\n",
    "\n",
    "def make_df(X, preds):\n",
    "    df = pd.DataFrame(X, columns=cols)\n",
    "    return df\n",
    "\n",
    "df_orig = make_df(X_orig_success, pred_orig)\n",
    "df_adv  = make_df(X_adv_success,  pred_adv)\n",
    "\n",
    "# --- 4) Show up to 10 examples in your exact format ---\n",
    "n_show = min(10, len(df_orig))\n",
    "\n",
    "print(\"Original Attack Samples (that later flipped 1→0):\\n\")\n",
    "print(df_orig.head(n_show).to_string(index=True))\n",
    "\n",
    "print(\"\\nAdversarial Counterparts:\\n\")\n",
    "print(df_adv.head(n_show).to_string(index=True))\n"
   ]
  },
  {
   "cell_type": "code",
   "execution_count": null,
   "id": "ec1e2554-0ccf-40de-b8e7-78a9e3657137",
   "metadata": {},
   "outputs": [],
   "source": []
  }
 ],
 "metadata": {
  "kernelspec": {
   "display_name": "Python 3 (ipykernel)",
   "language": "python",
   "name": "python3"
  },
  "language_info": {
   "codemirror_mode": {
    "name": "ipython",
    "version": 3
   },
   "file_extension": ".py",
   "mimetype": "text/x-python",
   "name": "python",
   "nbconvert_exporter": "python",
   "pygments_lexer": "ipython3",
   "version": "3.10.16"
  }
 },
 "nbformat": 4,
 "nbformat_minor": 5
}
